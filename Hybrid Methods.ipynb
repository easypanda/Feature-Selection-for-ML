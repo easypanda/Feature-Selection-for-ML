{
 "cells": [
  {
   "cell_type": "code",
   "execution_count": 323,
   "id": "sunset-zealand",
   "metadata": {
    "ExecuteTime": {
     "end_time": "2021-02-16T16:19:41.290569Z",
     "start_time": "2021-02-16T16:19:41.261571Z"
    }
   },
   "outputs": [],
   "source": [
    "# import librairies\n",
    "\n",
    "import seaborn as sns\n",
    "import matplotlib.pyplot as plt\n",
    "import numpy as np\n",
    "import pandas as pd\n",
    "from sklearn.linear_model import LogisticRegression\n",
    "from sklearn.model_selection import train_test_split\n",
    "from sklearn.preprocessing import StandardScaler\n",
    "from sklearn.feature_selection import SelectFromModel\n",
    "from sklearn.pipeline import Pipeline\n",
    "import tqdm\n",
    "from sklearn.ensemble import RandomForestRegressor, RandomForestClassifier\n",
    "from sklearn.tree import DecisionTreeRegressor, DecisionTreeClassifier\n",
    "from sklearn.metrics import roc_auc_score, r2_score, mean_squared_error\n",
    "from feature_engine.selection import (DropDuplicateFeatures,\n",
    "                                        DropCorrelatedFeatures,\n",
    "                                        DropConstantFeatures,\n",
    "                                        RecursiveFeatureElimination,\n",
    "                                         RecursiveFeatureAddition)\n",
    "\n",
    "sns.set_style(\"whitegrid\")"
   ]
  },
  {
   "cell_type": "code",
   "execution_count": 11,
   "id": "engaging-belize",
   "metadata": {
    "ExecuteTime": {
     "end_time": "2021-02-16T09:47:17.530063Z",
     "start_time": "2021-02-16T09:47:17.526502Z"
    }
   },
   "outputs": [],
   "source": [
    "def read_data_clf():\n",
    "    df = pd.read_csv(\"./precleaned-datasets/dataset_2.csv\")\n",
    "    \n",
    "    df = df[[x for x in df.columns if df[x].dtype != \"object\"]]\n",
    "    \n",
    "    X_train, X_test, y_train, y_test = train_test_split(df.drop(\n",
    "        labels=[\"target\"], axis=1), df[\"target\"], test_size=0.33, random_state=42)\n",
    "    \n",
    "    return X_train, X_test, y_train, y_test"
   ]
  },
  {
   "cell_type": "code",
   "execution_count": 12,
   "id": "intense-intake",
   "metadata": {
    "ExecuteTime": {
     "end_time": "2021-02-16T09:47:17.805481Z",
     "start_time": "2021-02-16T09:47:17.801983Z"
    }
   },
   "outputs": [],
   "source": [
    "def read_data_rgr():\n",
    "    df = pd.read_csv(\"./house-prices-advanced-regression-techniques/train.csv\")\n",
    "    \n",
    "    df = df[[x for x in df.columns if df[x].dtype != \"object\"]]\n",
    "    \n",
    "    X_train, X_test, y_train, y_test = train_test_split(df.drop(\n",
    "        labels=[\"SalePrice\"], axis=1), df[\"SalePrice\"], test_size=0.33, random_state=42)\n",
    "    \n",
    "    return X_train, X_test, y_train, y_test"
   ]
  },
  {
   "cell_type": "markdown",
   "id": "competent-signature",
   "metadata": {},
   "source": [
    "# Feature Shuffling"
   ]
  },
  {
   "cell_type": "markdown",
   "id": "backed-jacob",
   "metadata": {},
   "source": [
    "Permutation feature importance measures the increase in the prediction error of the model after we permuted the feature's values, which breaks the relationship between the feature and the true outcome.\n",
    "\n",
    "It measures the importance of a feature by calculating the increase in the model's prediction error after permuting the feature. A feature is \"important\" if shuffling its values increases the model error, because in this case the model relied on the feature for the prediction. A feature is \"unimportant\" if shuffling its values leaves the model error unchanged, because in this case the model ignored the feature for the prediction."
   ]
  },
  {
   "cell_type": "markdown",
   "id": "arranged-cabinet",
   "metadata": {},
   "source": [
    "## Normal Method"
   ]
  },
  {
   "cell_type": "markdown",
   "id": "generous-salon",
   "metadata": {
    "ExecuteTime": {
     "end_time": "2021-02-16T09:36:02.657740Z",
     "start_time": "2021-02-16T09:36:02.655621Z"
    }
   },
   "source": [
    "### Classification"
   ]
  },
  {
   "cell_type": "code",
   "execution_count": 13,
   "id": "wired-reception",
   "metadata": {
    "ExecuteTime": {
     "end_time": "2021-02-16T09:47:20.447243Z",
     "start_time": "2021-02-16T09:47:19.603541Z"
    }
   },
   "outputs": [],
   "source": [
    "X_train, X_test, y_train, y_test = read_data_clf()"
   ]
  },
  {
   "cell_type": "code",
   "execution_count": 26,
   "id": "suited-puppy",
   "metadata": {
    "ExecuteTime": {
     "end_time": "2021-02-16T09:52:54.666718Z",
     "start_time": "2021-02-16T09:52:54.663383Z"
    }
   },
   "outputs": [],
   "source": [
    "def run_rf(X_train, X_test, y_train, y_test):\n",
    "    rf = RandomForestClassifier(\n",
    "        n_jobs=-1, n_estimators=100, max_depth=2, random_state=24)\n",
    "    rf.fit(X_train, y_train)\n",
    "\n",
    "    print(\n",
    "        f\"Train roc-auc score:{roc_auc_score(y_train,rf.predict_proba(X_train.fillna(0))[:,1])}\")\n",
    "    print(\"\\n\")\n",
    "    print(\n",
    "        f\"Test roc-auc score:{roc_auc_score(y_test,rf.predict_proba(X_test.fillna(0))[:,1])}\")"
   ]
  },
  {
   "cell_type": "code",
   "execution_count": 27,
   "id": "persistent-spanish",
   "metadata": {
    "ExecuteTime": {
     "end_time": "2021-02-16T09:52:55.658799Z",
     "start_time": "2021-02-16T09:52:54.994374Z"
    }
   },
   "outputs": [
    {
     "name": "stdout",
     "output_type": "stream",
     "text": [
      "Train roc-auc score:0.6988469839130211\n",
      "\n",
      "\n",
      "Test roc-auc score:0.6931885408438653\n"
     ]
    }
   ],
   "source": [
    "run_rf(X_train, X_test, y_train, y_test)"
   ]
  },
  {
   "cell_type": "code",
   "execution_count": 38,
   "id": "useful-living",
   "metadata": {
    "ExecuteTime": {
     "end_time": "2021-02-16T10:03:12.499448Z",
     "start_time": "2021-02-16T10:03:11.877842Z"
    }
   },
   "outputs": [],
   "source": [
    "rf = RandomForestClassifier(\n",
    "    n_jobs=-1, n_estimators=100, max_depth=2, random_state=24)\n",
    "\n",
    "rf.fit(X_train, y_train)\n",
    "\n",
    "original_performance = roc_auc_score(\n",
    "    y_train, rf.predict_proba(X_train.fillna(0))[:, 1])"
   ]
  },
  {
   "cell_type": "code",
   "execution_count": 43,
   "id": "brazilian-hungary",
   "metadata": {
    "ExecuteTime": {
     "end_time": "2021-02-16T10:04:41.046435Z",
     "start_time": "2021-02-16T10:04:32.292797Z"
    }
   },
   "outputs": [],
   "source": [
    "performance_decrease = []\n",
    "\n",
    "for col in X_train.columns:\n",
    "\n",
    "    X_train_shuffle = X_train.copy()\n",
    "\n",
    "    X_train_shuffle[col] = X_train_shuffle[col].sample(\n",
    "        frac=1, random_state=24).reset_index(drop=True)  # keep the same amount of data and dropping the index!\n",
    "\n",
    "    new_perf = roc_auc_score(\n",
    "        y_train, rf.predict_proba(X_train_shuffle.fillna(0))[:, 1])\n",
    "\n",
    "    difference = original_performance - new_perf\n",
    "    \n",
    "    performance_decrease.append(difference)"
   ]
  },
  {
   "cell_type": "code",
   "execution_count": 47,
   "id": "requested-strip",
   "metadata": {
    "ExecuteTime": {
     "end_time": "2021-02-16T10:05:53.777197Z",
     "start_time": "2021-02-16T10:05:53.774212Z"
    }
   },
   "outputs": [],
   "source": [
    "performance_decrease = pd.Series(performance_decrease,index=X_train.columns)"
   ]
  },
  {
   "cell_type": "code",
   "execution_count": 58,
   "id": "disabled-money",
   "metadata": {
    "ExecuteTime": {
     "end_time": "2021-02-16T10:07:40.873764Z",
     "start_time": "2021-02-16T10:07:40.725319Z"
    }
   },
   "outputs": [
    {
     "data": {
      "image/png": "[encoded data removed]",
      "text/plain": [
       "<Figure size 1080x576 with 1 Axes>"
      ]
     },
     "metadata": {},
     "output_type": "display_data"
    }
   ],
   "source": [
    "plt.figure(figsize=(15,8))\n",
    "performance_decrease.sort_values(ascending=False)[:5].plot()\n",
    "plt.title(\"Top 5 performance decreased by variable\")\n",
    "plt.show()"
   ]
  },
  {
   "cell_type": "code",
   "execution_count": 63,
   "id": "liked-lancaster",
   "metadata": {
    "ExecuteTime": {
     "end_time": "2021-02-16T10:14:07.855968Z",
     "start_time": "2021-02-16T10:14:07.852151Z"
    }
   },
   "outputs": [
    {
     "data": {
      "text/plain": [
       "53"
      ]
     },
     "execution_count": 63,
     "metadata": {},
     "output_type": "execute_result"
    }
   ],
   "source": [
    "performance_decrease[performance_decrease >0].shape[0]"
   ]
  },
  {
   "cell_type": "code",
   "execution_count": 64,
   "id": "electoral-scenario",
   "metadata": {
    "ExecuteTime": {
     "end_time": "2021-02-16T10:14:57.705434Z",
     "start_time": "2021-02-16T10:14:57.702121Z"
    }
   },
   "outputs": [
    {
     "name": "stdout",
     "output_type": "stream",
     "text": [
      "53 caused a drop in performance on the RF when their values are permuted.\n"
     ]
    }
   ],
   "source": [
    "print(f\"{performance_decrease[performance_decrease >0].shape[0]} caused a drop in performance on the RF when their values are permuted.\")"
   ]
  },
  {
   "cell_type": "code",
   "execution_count": 75,
   "id": "chemical-major",
   "metadata": {
    "ExecuteTime": {
     "end_time": "2021-02-16T10:18:54.929278Z",
     "start_time": "2021-02-16T10:18:54.283437Z"
    }
   },
   "outputs": [
    {
     "name": "stdout",
     "output_type": "stream",
     "text": [
      "Train roc-auc score:0.6988469839130211\n",
      "\n",
      "\n",
      "Test roc-auc score:0.6931885408438653\n"
     ]
    }
   ],
   "source": [
    "run_rf(X_train, X_test, y_train, y_test)"
   ]
  },
  {
   "cell_type": "code",
   "execution_count": 67,
   "id": "severe-camera",
   "metadata": {
    "ExecuteTime": {
     "end_time": "2021-02-16T10:16:25.782528Z",
     "start_time": "2021-02-16T10:16:25.287587Z"
    }
   },
   "outputs": [
    {
     "name": "stdout",
     "output_type": "stream",
     "text": [
      "Train roc-auc score:0.6978875369332401\n",
      "\n",
      "\n",
      "Test roc-auc score:0.6938712500822801\n"
     ]
    }
   ],
   "source": [
    "run_rf(\n",
    "    X_train[performance_decrease[performance_decrease > 0].index],\n",
    "    X_test[performance_decrease[performance_decrease > 0].index],\n",
    "    y_train,\n",
    "    y_test)"
   ]
  },
  {
   "cell_type": "code",
   "execution_count": 74,
   "id": "unexpected-trick",
   "metadata": {
    "ExecuteTime": {
     "end_time": "2021-02-16T10:18:34.180473Z",
     "start_time": "2021-02-16T10:18:34.168389Z"
    }
   },
   "outputs": [
    {
     "name": "stdout",
     "output_type": "stream",
     "text": [
      "total features: 108\n",
      "selected features: 53\n",
      "features with coefficients shrank to zero: 55\n"
     ]
    }
   ],
   "source": [
    "print('total features: {}'.format((X_train.shape[1])))\n",
    "print('selected features: {}'.format(X_train[performance_decrease[performance_decrease > 0].index].shape[1]))\n",
    "print('features with coefficients shrank to zero: {}'.format(\n",
    "    X_train.shape[1] - X_train[performance_decrease[performance_decrease > 0].index].shape[1]))"
   ]
  },
  {
   "cell_type": "markdown",
   "id": "waiting-uruguay",
   "metadata": {},
   "source": [
    "Close to the same score with half of the features!"
   ]
  },
  {
   "cell_type": "markdown",
   "id": "introductory-intellectual",
   "metadata": {},
   "source": [
    "### Regression"
   ]
  },
  {
   "cell_type": "code",
   "execution_count": 76,
   "id": "early-richardson",
   "metadata": {
    "ExecuteTime": {
     "end_time": "2021-02-16T10:19:50.298983Z",
     "start_time": "2021-02-16T10:19:50.267900Z"
    }
   },
   "outputs": [],
   "source": [
    "X_train, X_test, y_train, y_test = read_data_rgr()"
   ]
  },
  {
   "cell_type": "code",
   "execution_count": 90,
   "id": "instrumental-cannon",
   "metadata": {
    "ExecuteTime": {
     "end_time": "2021-02-16T10:23:37.397605Z",
     "start_time": "2021-02-16T10:23:37.393766Z"
    }
   },
   "outputs": [],
   "source": [
    "def run_rf_rgr(X_train, X_test, y_train, y_test):\n",
    "    rf = RandomForestRegressor(\n",
    "        n_jobs=-1, n_estimators=100, max_depth=2, random_state=24)\n",
    "    rf.fit(X_train.fillna(0), y_train)\n",
    "\n",
    "    print(\n",
    "        f\"Train RMSE score:{mean_squared_error(y_train,rf.predict(X_train.fillna(0)),squared=False)}\")\n",
    "    print(f\"Train R2 score:{r2_score(y_train,rf.predict(X_train.fillna(0)))}\")\n",
    "    print(\"\\n\")\n",
    "    print(\n",
    "        f\"Test RMSE score:{mean_squared_error(y_test,rf.predict(X_test.fillna(0)),squared=False)}\")\n",
    "    print(f\"Test R2 score:{r2_score(y_test,rf.predict(X_test.fillna(0)))}\")"
   ]
  },
  {
   "cell_type": "code",
   "execution_count": 91,
   "id": "consecutive-reunion",
   "metadata": {
    "ExecuteTime": {
     "end_time": "2021-02-16T10:23:37.777355Z",
     "start_time": "2021-02-16T10:23:37.587804Z"
    }
   },
   "outputs": [
    {
     "name": "stdout",
     "output_type": "stream",
     "text": [
      "Train RMSE score:41559.776401676856\n",
      "Train R2 score:0.7020421995079404\n",
      "\n",
      "\n",
      "Test RMSE score:46261.370714704746\n",
      "Test R2 score:0.7084865367767903\n"
     ]
    }
   ],
   "source": [
    "run_rf_rgr(X_train, X_test, y_train, y_test)"
   ]
  },
  {
   "cell_type": "code",
   "execution_count": 93,
   "id": "cross-nirvana",
   "metadata": {
    "ExecuteTime": {
     "end_time": "2021-02-16T10:28:28.844311Z",
     "start_time": "2021-02-16T10:28:27.650569Z"
    }
   },
   "outputs": [],
   "source": [
    "rf = RandomForestRegressor(\n",
    "    n_jobs=-1, n_estimators=100, max_depth=2, random_state=24)\n",
    "\n",
    "rf.fit(X_train.fillna(0), y_train)\n",
    "\n",
    "original_performance_rmse = mean_squared_error(\n",
    "    y_train, rf.predict(X_train.fillna(0)),squared=False)\n",
    "\n",
    "original_performance_r2 = r2_score(\n",
    "    y_train, rf.predict(X_train.fillna(0)))\n",
    "\n",
    "\n",
    "\n",
    "performance_decrease_rmse = []\n",
    "performance_decrease_r2 = []\n",
    "\n",
    "\n",
    "for col in X_train.columns:\n",
    "\n",
    "    X_train_shuffle = X_train.copy()\n",
    "\n",
    "    X_train_shuffle[col] = X_train_shuffle[col].sample(\n",
    "        frac=1, random_state=24).reset_index(drop=True)  # keep the same amount of data and dropping the index!\n",
    "\n",
    "    new_perf_rmse = mean_squared_error(\n",
    "    y_train, rf.predict(X_train_shuffle.fillna(0)),squared=False)\n",
    "    \n",
    "    new_perf_r2 = r2_score(\n",
    "    y_train, rf.predict(X_train_shuffle.fillna(0)))\n",
    "\n",
    "    difference_rmse = original_performance_rmse - new_perf_rmse\n",
    "\n",
    "    difference_r2 = original_performance_r2 - new_perf_r2\n",
    "\n",
    "    performance_decrease_rmse.append(difference_rmse)\n",
    "    performance_decrease_r2.append(difference_r2)"
   ]
  },
  {
   "cell_type": "code",
   "execution_count": 98,
   "id": "bacterial-offense",
   "metadata": {
    "ExecuteTime": {
     "end_time": "2021-02-16T10:29:35.960306Z",
     "start_time": "2021-02-16T10:29:35.783572Z"
    }
   },
   "outputs": [
    {
     "data": {
      "image/png": "[encoded data removed]",
      "text/plain": [
       "<Figure size 1080x576 with 1 Axes>"
      ]
     },
     "metadata": {},
     "output_type": "display_data"
    }
   ],
   "source": [
    "performance_decrease = pd.Series(performance_decrease_rmse,index=X_train.columns)\n",
    "plt.figure(figsize=(15,8))\n",
    "abs(performance_decrease).sort_values(ascending=False)[:5].plot()\n",
    "plt.title(\"Top 5 performance decreased by variable\")\n",
    "plt.show()"
   ]
  },
  {
   "cell_type": "code",
   "execution_count": 100,
   "id": "according-tutorial",
   "metadata": {
    "ExecuteTime": {
     "end_time": "2021-02-16T10:30:20.043040Z",
     "start_time": "2021-02-16T10:30:20.039279Z"
    }
   },
   "outputs": [
    {
     "data": {
      "text/plain": [
       "20"
      ]
     },
     "execution_count": 100,
     "metadata": {},
     "output_type": "execute_result"
    }
   ],
   "source": [
    "performance_decrease[performance_decrease < 0].shape[0]"
   ]
  },
  {
   "cell_type": "code",
   "execution_count": 99,
   "id": "thirty-fusion",
   "metadata": {
    "ExecuteTime": {
     "end_time": "2021-02-16T10:30:18.274484Z",
     "start_time": "2021-02-16T10:30:18.271215Z"
    }
   },
   "outputs": [
    {
     "name": "stdout",
     "output_type": "stream",
     "text": [
      "20 caused a drop in performance on the RF when their values are permuted.\n"
     ]
    }
   ],
   "source": [
    "print(f\"{performance_decrease[performance_decrease < 0].shape[0]} caused a drop in performance on the RF when their values are permuted.\")"
   ]
  },
  {
   "cell_type": "code",
   "execution_count": 102,
   "id": "gross-rubber",
   "metadata": {
    "ExecuteTime": {
     "end_time": "2021-02-16T10:30:52.464038Z",
     "start_time": "2021-02-16T10:30:52.279937Z"
    }
   },
   "outputs": [
    {
     "name": "stdout",
     "output_type": "stream",
     "text": [
      "Train RMSE score:41559.776401676856\n",
      "Train R2 score:0.7020421995079404\n",
      "\n",
      "\n",
      "Test RMSE score:46261.370714704746\n",
      "Test R2 score:0.7084865367767903\n"
     ]
    }
   ],
   "source": [
    "run_rf_rgr(X_train, X_test, y_train, y_test)"
   ]
  },
  {
   "cell_type": "code",
   "execution_count": 104,
   "id": "clean-divide",
   "metadata": {
    "ExecuteTime": {
     "end_time": "2021-02-16T10:31:16.662023Z",
     "start_time": "2021-02-16T10:31:16.476283Z"
    }
   },
   "outputs": [
    {
     "name": "stdout",
     "output_type": "stream",
     "text": [
      "Train RMSE score:41559.77640167686\n",
      "Train R2 score:0.7020421995079404\n",
      "\n",
      "\n",
      "Test RMSE score:46261.370714704746\n",
      "Test R2 score:0.7084865367767903\n"
     ]
    }
   ],
   "source": [
    "run_rf_rgr(\n",
    "    X_train[performance_decrease[performance_decrease < 0].index],\n",
    "    X_test[performance_decrease[performance_decrease < 0].index],\n",
    "    y_train,\n",
    "    y_test)"
   ]
  },
  {
   "cell_type": "code",
   "execution_count": 107,
   "id": "ruled-journey",
   "metadata": {
    "ExecuteTime": {
     "end_time": "2021-02-16T10:31:39.329916Z",
     "start_time": "2021-02-16T10:31:39.324146Z"
    }
   },
   "outputs": [
    {
     "name": "stdout",
     "output_type": "stream",
     "text": [
      "total features: 37\n",
      "selected features: 20\n",
      "features with coefficients shrank to zero: 17\n"
     ]
    }
   ],
   "source": [
    "print('total features: {}'.format((X_train.shape[1])))\n",
    "print('selected features: {}'.format(X_train[performance_decrease[performance_decrease < 0].index].shape[1]))\n",
    "print('features with coefficients shrank to zero: {}'.format(\n",
    "    X_train.shape[1] - X_train[performance_decrease[performance_decrease < 0].index].shape[1]))"
   ]
  },
  {
   "cell_type": "markdown",
   "id": "infectious-qatar",
   "metadata": {},
   "source": [
    "Same performance with 17 features less!"
   ]
  },
  {
   "cell_type": "markdown",
   "id": "shaped-minimum",
   "metadata": {},
   "source": [
    "## Feature-Engine"
   ]
  },
  {
   "cell_type": "code",
   "execution_count": 109,
   "id": "lesser-evanescence",
   "metadata": {
    "ExecuteTime": {
     "end_time": "2021-02-16T10:45:07.651303Z",
     "start_time": "2021-02-16T10:45:07.648979Z"
    }
   },
   "outputs": [],
   "source": [
    "from feature_engine.selection import SelectByShuffling"
   ]
  },
  {
   "cell_type": "markdown",
   "id": "collaborative-eight",
   "metadata": {},
   "source": [
    "### Classification"
   ]
  },
  {
   "cell_type": "code",
   "execution_count": 110,
   "id": "civilian-issue",
   "metadata": {
    "ExecuteTime": {
     "end_time": "2021-02-16T10:45:43.411749Z",
     "start_time": "2021-02-16T10:45:42.535652Z"
    }
   },
   "outputs": [],
   "source": [
    "X_train, X_test, y_train, y_test = read_data_clf()"
   ]
  },
  {
   "cell_type": "code",
   "execution_count": 111,
   "id": "forward-metro",
   "metadata": {
    "ExecuteTime": {
     "end_time": "2021-02-16T10:46:17.426030Z",
     "start_time": "2021-02-16T10:46:17.423435Z"
    }
   },
   "outputs": [],
   "source": [
    "rf = RandomForestClassifier(n_jobs=-1, max_depth=4, n_estimators=100)"
   ]
  },
  {
   "cell_type": "code",
   "execution_count": 114,
   "id": "revolutionary-simon",
   "metadata": {
    "ExecuteTime": {
     "end_time": "2021-02-16T10:50:33.909392Z",
     "start_time": "2021-02-16T10:50:33.906666Z"
    }
   },
   "outputs": [],
   "source": [
    "sel_ = SelectByShuffling(\n",
    "    estimator=RandomForestClassifier(n_jobs=-1, max_depth=4, n_estimators=100),\n",
    "    scoring='roc_auc',\n",
    "    cv=3,\n",
    "    threshold=0, #Maximum perf drop allowed\n",
    "    variables=None,\n",
    "    random_state=24)"
   ]
  },
  {
   "cell_type": "code",
   "execution_count": 115,
   "id": "analyzed-pierre",
   "metadata": {
    "ExecuteTime": {
     "end_time": "2021-02-16T10:56:42.785108Z",
     "start_time": "2021-02-16T10:50:34.402142Z"
    }
   },
   "outputs": [
    {
     "data": {
      "text/plain": [
       "SelectByShuffling(random_state=24, threshold=0,\n",
       "                  variables=['var_1', 'var_2', 'var_3', 'var_4', 'var_5',\n",
       "                             'var_6', 'var_7', 'var_8', 'var_9', 'var_10',\n",
       "                             'var_11', 'var_12', 'var_13', 'var_14', 'var_15',\n",
       "                             'var_16', 'var_17', 'var_18', 'var_19', 'var_20',\n",
       "                             'var_21', 'var_22', 'var_23', 'var_24', 'var_25',\n",
       "                             'var_26', 'var_27', 'var_28', 'var_29', 'var_30', ...])"
      ]
     },
     "execution_count": 115,
     "metadata": {},
     "output_type": "execute_result"
    }
   ],
   "source": [
    "sel_.fit(X_train,y_train)"
   ]
  },
  {
   "cell_type": "code",
   "execution_count": 118,
   "id": "dated-translation",
   "metadata": {
    "ExecuteTime": {
     "end_time": "2021-02-16T10:58:39.020103Z",
     "start_time": "2021-02-16T10:58:39.016921Z"
    }
   },
   "outputs": [
    {
     "data": {
      "text/plain": [
       "0.6786463586870416"
      ]
     },
     "execution_count": 118,
     "metadata": {},
     "output_type": "execute_result"
    }
   ],
   "source": [
    "sel_.initial_model_performance_"
   ]
  },
  {
   "cell_type": "code",
   "execution_count": 131,
   "id": "handled-fishing",
   "metadata": {
    "ExecuteTime": {
     "end_time": "2021-02-16T11:00:41.956906Z",
     "start_time": "2021-02-16T11:00:41.755111Z"
    },
    "scrolled": false
   },
   "outputs": [
    {
     "data": {
      "image/png": "[encoded data removed]",
      "text/plain": [
       "<Figure size 1080x576 with 1 Axes>"
      ]
     },
     "metadata": {},
     "output_type": "display_data"
    }
   ],
   "source": [
    "plt.figure(figsize=(15,8))\n",
    "pd.Series(sel_.performance_drifts_).hist(bins=50)\n",
    "plt.show()"
   ]
  },
  {
   "cell_type": "code",
   "execution_count": 136,
   "id": "comparative-employer",
   "metadata": {
    "ExecuteTime": {
     "end_time": "2021-02-16T11:01:27.413936Z",
     "start_time": "2021-02-16T11:01:27.410720Z"
    },
    "scrolled": true
   },
   "outputs": [
    {
     "data": {
      "text/plain": [
       "97"
      ]
     },
     "execution_count": 136,
     "metadata": {},
     "output_type": "execute_result"
    }
   ],
   "source": [
    "len(sel_.features_to_drop_)"
   ]
  },
  {
   "cell_type": "code",
   "execution_count": 138,
   "id": "younger-columbus",
   "metadata": {
    "ExecuteTime": {
     "end_time": "2021-02-16T11:02:29.838242Z",
     "start_time": "2021-02-16T11:02:29.823025Z"
    },
    "scrolled": true
   },
   "outputs": [],
   "source": [
    "X_train = sel_.transform(X_train)\n",
    "X_test = sel_.transform(X_test)"
   ]
  },
  {
   "cell_type": "code",
   "execution_count": 140,
   "id": "widespread-seafood",
   "metadata": {
    "ExecuteTime": {
     "end_time": "2021-02-16T11:02:39.169788Z",
     "start_time": "2021-02-16T11:02:39.166497Z"
    }
   },
   "outputs": [
    {
     "data": {
      "text/plain": [
       "((33500, 11), (16500, 11))"
      ]
     },
     "execution_count": 140,
     "metadata": {},
     "output_type": "execute_result"
    }
   ],
   "source": [
    "X_train.shape, X_test.shape"
   ]
  },
  {
   "cell_type": "code",
   "execution_count": 141,
   "id": "suspected-berkeley",
   "metadata": {
    "ExecuteTime": {
     "end_time": "2021-02-16T11:03:01.806445Z",
     "start_time": "2021-02-16T11:03:01.431010Z"
    }
   },
   "outputs": [
    {
     "name": "stdout",
     "output_type": "stream",
     "text": [
      "Train roc-auc score:0.7009416183293355\n",
      "\n",
      "\n",
      "Test roc-auc score:0.6957037421011059\n"
     ]
    }
   ],
   "source": [
    "run_rf(X_train, X_test, y_train, y_test)"
   ]
  },
  {
   "cell_type": "markdown",
   "id": "comparative-entity",
   "metadata": {},
   "source": [
    "Same score, less features!"
   ]
  },
  {
   "cell_type": "markdown",
   "id": "respective-optics",
   "metadata": {},
   "source": [
    "### Regression"
   ]
  },
  {
   "cell_type": "code",
   "execution_count": 157,
   "id": "difficult-reynolds",
   "metadata": {
    "ExecuteTime": {
     "end_time": "2021-02-16T11:15:12.959004Z",
     "start_time": "2021-02-16T11:15:12.931789Z"
    }
   },
   "outputs": [],
   "source": [
    "X_train, X_test, y_train, y_test = read_data_rgr()"
   ]
  },
  {
   "cell_type": "code",
   "execution_count": 158,
   "id": "material-thesis",
   "metadata": {
    "ExecuteTime": {
     "end_time": "2021-02-16T11:15:13.094581Z",
     "start_time": "2021-02-16T11:15:13.091969Z"
    }
   },
   "outputs": [],
   "source": [
    "rf = RandomForestRegressor(n_jobs=-1, max_depth=4, n_estimators=100)"
   ]
  },
  {
   "cell_type": "code",
   "execution_count": 159,
   "id": "affiliated-friday",
   "metadata": {
    "ExecuteTime": {
     "end_time": "2021-02-16T11:15:13.232596Z",
     "start_time": "2021-02-16T11:15:13.229789Z"
    }
   },
   "outputs": [],
   "source": [
    "sel_ = SelectByShuffling(\n",
    "    estimator=RandomForestRegressor(n_jobs=-1, max_depth=4, n_estimators=100),\n",
    "    scoring='neg_root_mean_squared_error',\n",
    "    cv=3,\n",
    "    threshold=0, #Maximum perf drop allowed\n",
    "    variables=None,\n",
    "    random_state=24)"
   ]
  },
  {
   "cell_type": "code",
   "execution_count": 160,
   "id": "dependent-billy",
   "metadata": {
    "ExecuteTime": {
     "end_time": "2021-02-16T11:15:15.192255Z",
     "start_time": "2021-02-16T11:15:13.356273Z"
    }
   },
   "outputs": [
    {
     "data": {
      "text/plain": [
       "SelectByShuffling(estimator=RandomForestRegressor(max_depth=4, n_jobs=-1),\n",
       "                  random_state=24, scoring='neg_root_mean_squared_error',\n",
       "                  threshold=0,\n",
       "                  variables=['Id', 'MSSubClass', 'LotFrontage', 'LotArea',\n",
       "                             'OverallQual', 'OverallCond', 'YearBuilt',\n",
       "                             'YearRemodAdd', 'MasVnrArea', 'BsmtFinSF1',\n",
       "                             'BsmtFinSF2', 'BsmtUnfSF', 'TotalBsmtSF',\n",
       "                             '1stFlrSF', '2ndFlrSF', 'LowQualFinSF',\n",
       "                             'GrLivArea', 'BsmtFullBath', 'BsmtHalfBath',\n",
       "                             'FullBath', 'HalfBath', 'BedroomAbvGr',\n",
       "                             'KitchenAbvGr', 'TotRmsAbvGrd', 'Fireplaces',\n",
       "                             'GarageYrBlt', 'GarageCars', 'GarageArea',\n",
       "                             'WoodDeckSF', 'OpenPorchSF', ...])"
      ]
     },
     "execution_count": 160,
     "metadata": {},
     "output_type": "execute_result"
    }
   ],
   "source": [
    "sel_.fit(X_train.fillna(0),y_train)"
   ]
  },
  {
   "cell_type": "code",
   "execution_count": 161,
   "id": "laden-radius",
   "metadata": {
    "ExecuteTime": {
     "end_time": "2021-02-16T11:15:15.278980Z",
     "start_time": "2021-02-16T11:15:15.275337Z"
    }
   },
   "outputs": [
    {
     "data": {
      "text/plain": [
       "-36702.18960154462"
      ]
     },
     "execution_count": 161,
     "metadata": {},
     "output_type": "execute_result"
    }
   ],
   "source": [
    "sel_.initial_model_performance_"
   ]
  },
  {
   "cell_type": "code",
   "execution_count": 162,
   "id": "tamil-growing",
   "metadata": {
    "ExecuteTime": {
     "end_time": "2021-02-16T11:15:15.582659Z",
     "start_time": "2021-02-16T11:15:15.367958Z"
    }
   },
   "outputs": [
    {
     "data": {
      "image/png": "[encoded data removed]",
      "text/plain": [
       "<Figure size 1080x576 with 1 Axes>"
      ]
     },
     "metadata": {},
     "output_type": "display_data"
    }
   ],
   "source": [
    "plt.figure(figsize=(15,8))\n",
    "pd.Series(sel_.performance_drifts_).hist(bins=50)\n",
    "plt.show()"
   ]
  },
  {
   "cell_type": "code",
   "execution_count": 163,
   "id": "protected-glenn",
   "metadata": {
    "ExecuteTime": {
     "end_time": "2021-02-16T11:15:15.678813Z",
     "start_time": "2021-02-16T11:15:15.675511Z"
    }
   },
   "outputs": [
    {
     "data": {
      "text/plain": [
       "33"
      ]
     },
     "execution_count": 163,
     "metadata": {},
     "output_type": "execute_result"
    }
   ],
   "source": [
    "len(sel_.features_to_drop_)"
   ]
  },
  {
   "cell_type": "code",
   "execution_count": 169,
   "id": "passing-script",
   "metadata": {
    "ExecuteTime": {
     "end_time": "2021-02-16T11:16:00.125549Z",
     "start_time": "2021-02-16T11:16:00.122133Z"
    },
    "scrolled": true
   },
   "outputs": [
    {
     "data": {
      "text/plain": [
       "['Id', 'MSSubClass', 'LotFrontage', 'LotArea', 'OverallCond']"
      ]
     },
     "execution_count": 169,
     "metadata": {},
     "output_type": "execute_result"
    }
   ],
   "source": [
    "sel_.features_to_drop_[:5] # Sample"
   ]
  },
  {
   "cell_type": "code",
   "execution_count": 164,
   "id": "electoral-canada",
   "metadata": {
    "ExecuteTime": {
     "end_time": "2021-02-16T11:15:15.949298Z",
     "start_time": "2021-02-16T11:15:15.766767Z"
    }
   },
   "outputs": [
    {
     "name": "stdout",
     "output_type": "stream",
     "text": [
      "Train RMSE score:41559.776401676856\n",
      "Train R2 score:0.7020421995079404\n",
      "\n",
      "\n",
      "Test RMSE score:46261.37071470474\n",
      "Test R2 score:0.7084865367767903\n"
     ]
    }
   ],
   "source": [
    "run_rf_rgr(X_train, X_test, y_train, y_test)"
   ]
  },
  {
   "cell_type": "code",
   "execution_count": 165,
   "id": "alleged-acrobat",
   "metadata": {
    "ExecuteTime": {
     "end_time": "2021-02-16T11:15:16.040356Z",
     "start_time": "2021-02-16T11:15:16.036104Z"
    }
   },
   "outputs": [],
   "source": [
    "X_train = sel_.transform(X_train)\n",
    "X_test = sel_.transform(X_test)"
   ]
  },
  {
   "cell_type": "code",
   "execution_count": 166,
   "id": "trained-value",
   "metadata": {
    "ExecuteTime": {
     "end_time": "2021-02-16T11:15:16.105520Z",
     "start_time": "2021-02-16T11:15:16.102329Z"
    }
   },
   "outputs": [
    {
     "data": {
      "text/plain": [
       "((978, 4), (482, 4))"
      ]
     },
     "execution_count": 166,
     "metadata": {},
     "output_type": "execute_result"
    }
   ],
   "source": [
    "X_train.shape, X_test.shape"
   ]
  },
  {
   "cell_type": "code",
   "execution_count": 167,
   "id": "sporting-organizer",
   "metadata": {
    "ExecuteTime": {
     "end_time": "2021-02-16T11:15:16.370993Z",
     "start_time": "2021-02-16T11:15:16.165492Z"
    }
   },
   "outputs": [
    {
     "name": "stdout",
     "output_type": "stream",
     "text": [
      "Train RMSE score:42046.58000173367\n",
      "Train R2 score:0.6950211597312153\n",
      "\n",
      "\n",
      "Test RMSE score:46763.77862439736\n",
      "Test R2 score:0.7021203633182854\n"
     ]
    }
   ],
   "source": [
    "run_rf_rgr(X_train, X_test, y_train, y_test)"
   ]
  },
  {
   "cell_type": "markdown",
   "id": "turkish-segment",
   "metadata": {},
   "source": [
    "Close to the same performance with less features! "
   ]
  },
  {
   "cell_type": "markdown",
   "id": "individual-citizen",
   "metadata": {
    "ExecuteTime": {
     "end_time": "2021-02-15T20:19:58.810393Z",
     "start_time": "2021-02-15T20:19:58.807832Z"
    }
   },
   "source": [
    "# Feature Recursive Elimination"
   ]
  },
  {
   "cell_type": "code",
   "execution_count": 170,
   "id": "fixed-stream",
   "metadata": {
    "ExecuteTime": {
     "end_time": "2021-02-16T12:27:10.742713Z",
     "start_time": "2021-02-16T12:27:10.740164Z"
    }
   },
   "outputs": [],
   "source": [
    "from sklearn.ensemble import GradientBoostingClassifier, GradientBoostingRegressor"
   ]
  },
  {
   "cell_type": "markdown",
   "id": "apart-sentence",
   "metadata": {},
   "source": [
    "Recursive feature elimination (RFE) is a feature selection method that fits a model and removes the weakest feature (or features) until the specified number of features is reached. Features are ranked by the model’s coef_ or feature_importances_ attributes, and by recursively eliminating a small number of features per loop, RFE attempts to eliminate dependencies and collinearity that may exist in the model.\n",
    "\n",
    "It works in the following order:\n",
    "* Create a ML model with all the features and rank them by the most important to the least important.\n",
    "* Remove the least important feature and create a new ML model and calculate the performance metric.\n",
    "* If the metric decreased by more than an abritrary threshold, then the feature should be kept.\n",
    "* Repeat step 1 and 2 with the rest of the features."
   ]
  },
  {
   "cell_type": "markdown",
   "id": "documentary-research",
   "metadata": {},
   "source": [
    "## Normal Method"
   ]
  },
  {
   "cell_type": "markdown",
   "id": "rough-springfield",
   "metadata": {},
   "source": [
    "### Classification"
   ]
  },
  {
   "cell_type": "code",
   "execution_count": 217,
   "id": "approved-tribute",
   "metadata": {
    "ExecuteTime": {
     "end_time": "2021-02-16T13:48:59.493280Z",
     "start_time": "2021-02-16T13:48:58.472444Z"
    }
   },
   "outputs": [],
   "source": [
    "X_train, X_test, y_train, y_test = read_data_clf()"
   ]
  },
  {
   "cell_type": "code",
   "execution_count": 224,
   "id": "aggregate-imperial",
   "metadata": {
    "ExecuteTime": {
     "end_time": "2021-02-16T13:50:41.642630Z",
     "start_time": "2021-02-16T13:50:41.640252Z"
    }
   },
   "outputs": [],
   "source": [
    "model = DecisionTreeClassifier(max_depth=4, random_state=24)"
   ]
  },
  {
   "cell_type": "code",
   "execution_count": 225,
   "id": "convinced-listing",
   "metadata": {
    "ExecuteTime": {
     "end_time": "2021-02-16T13:50:43.703807Z",
     "start_time": "2021-02-16T13:50:42.499455Z"
    }
   },
   "outputs": [
    {
     "data": {
      "text/plain": [
       "DecisionTreeClassifier(max_depth=4, random_state=24)"
      ]
     },
     "execution_count": 225,
     "metadata": {},
     "output_type": "execute_result"
    }
   ],
   "source": [
    "model.fit(X_train,y_train)"
   ]
  },
  {
   "cell_type": "code",
   "execution_count": 226,
   "id": "configured-boundary",
   "metadata": {
    "ExecuteTime": {
     "end_time": "2021-02-16T13:50:45.618040Z",
     "start_time": "2021-02-16T13:50:45.548052Z"
    }
   },
   "outputs": [
    {
     "name": "stdout",
     "output_type": "stream",
     "text": [
      "Train roc-auc score:0.7011789182352524\n",
      "\n",
      "\n",
      "Test roc-auc score:0.6923358305358083\n"
     ]
    }
   ],
   "source": [
    "print(f\"Train roc-auc score:{roc_auc_score(y_train,model.predict_proba(X_train.fillna(0))[:,1])}\")\n",
    "print(\"\\n\")\n",
    "print(f\"Test roc-auc score:{roc_auc_score(y_test,model.predict_proba(X_test.fillna(0))[:,1])}\")"
   ]
  },
  {
   "cell_type": "code",
   "execution_count": 227,
   "id": "demographic-roman",
   "metadata": {
    "ExecuteTime": {
     "end_time": "2021-02-16T13:50:50.162859Z",
     "start_time": "2021-02-16T13:50:50.144190Z"
    }
   },
   "outputs": [],
   "source": [
    "roc = roc_auc_score(y_test,model.predict_proba(X_test.fillna(0))[:,1])"
   ]
  },
  {
   "cell_type": "code",
   "execution_count": 228,
   "id": "academic-fabric",
   "metadata": {
    "ExecuteTime": {
     "end_time": "2021-02-16T13:50:50.726134Z",
     "start_time": "2021-02-16T13:50:50.723010Z"
    }
   },
   "outputs": [],
   "source": [
    "feature_importance = pd.Series(\n",
    "    model.feature_importances_, index=X_train.columns).sort_values(ascending=False)"
   ]
  },
  {
   "cell_type": "code",
   "execution_count": 229,
   "id": "measured-brunei",
   "metadata": {
    "ExecuteTime": {
     "end_time": "2021-02-16T13:50:51.896113Z",
     "start_time": "2021-02-16T13:50:51.720095Z"
    }
   },
   "outputs": [
    {
     "data": {
      "image/png": "[encoded data removed]",
      "text/plain": [
       "<Figure size 1080x576 with 1 Axes>"
      ]
     },
     "metadata": {},
     "output_type": "display_data"
    }
   ],
   "source": [
    "plt.figure(figsize=(15,8))\n",
    "feature_importance.plot().bar\n",
    "plt.title(\"Feature importance by feature\")\n",
    "plt.xlabel(\"Feature\")\n",
    "plt.ylabel(\"Importance\")\n",
    "plt.show()"
   ]
  },
  {
   "cell_type": "code",
   "execution_count": 233,
   "id": "physical-heating",
   "metadata": {
    "ExecuteTime": {
     "end_time": "2021-02-16T13:53:51.246204Z",
     "start_time": "2021-02-16T13:53:12.291348Z"
    }
   },
   "outputs": [],
   "source": [
    "np.random.shuffle(feature_importance)\n",
    "\n",
    "tol = 0.0005\n",
    "\n",
    "feature_to_remove = []\n",
    "\n",
    "for feature in feature_importance[:30].index: #Using a sample to speed up the process\n",
    "\n",
    "    X_train_recursive = X_train.copy()\n",
    "    X_test_recursive = X_test.copy()\n",
    "\n",
    "    X_train_recursive = X_train_recursive.drop(\n",
    "        labels=[feature] + feature_to_remove, axis=1)\n",
    "    X_test_recursive = X_test_recursive.drop(\n",
    "        labels=[feature] + feature_to_remove, axis=1)\n",
    "    \n",
    "\n",
    "    model_int = DecisionTreeClassifier(max_depth=4, random_state=24)\n",
    "\n",
    "    model_int.fit(X_train_recursive.fillna(0), y_train)\n",
    "    \n",
    "    roc_int = roc_auc_score(y_test,model_int.predict_proba(X_test_recursive.fillna(0))[:,1])\n",
    "    \n",
    "    diff = roc - roc_int\n",
    "    \n",
    "    if diff < tol:\n",
    "        \n",
    "        roc_full = roc_int\n",
    "        feature_to_remove.append(feature)\n",
    "        "
   ]
  },
  {
   "cell_type": "code",
   "execution_count": 243,
   "id": "stretch-delta",
   "metadata": {
    "ExecuteTime": {
     "end_time": "2021-02-16T13:56:56.511610Z",
     "start_time": "2021-02-16T13:56:56.478581Z"
    }
   },
   "outputs": [
    {
     "data": {
      "text/html": [
       "<div>\n",
       "<style scoped>\n",
       "    .dataframe tbody tr th:only-of-type {\n",
       "        vertical-align: middle;\n",
       "    }\n",
       "\n",
       "    .dataframe tbody tr th {\n",
       "        vertical-align: top;\n",
       "    }\n",
       "\n",
       "    .dataframe thead th {\n",
       "        text-align: right;\n",
       "    }\n",
       "</style>\n",
       "<table border=\"1\" class=\"dataframe\">\n",
       "  <thead>\n",
       "    <tr style=\"text-align: right;\">\n",
       "      <th></th>\n",
       "      <th>var_55</th>\n",
       "      <th>var_16</th>\n",
       "      <th>var_60</th>\n",
       "      <th>var_82</th>\n",
       "      <th>var_85</th>\n",
       "      <th>var_84</th>\n",
       "      <th>var_8</th>\n",
       "      <th>var_108</th>\n",
       "      <th>var_107</th>\n",
       "      <th>var_106</th>\n",
       "      <th>...</th>\n",
       "      <th>var_43</th>\n",
       "      <th>var_42</th>\n",
       "      <th>var_41</th>\n",
       "      <th>var_40</th>\n",
       "      <th>var_39</th>\n",
       "      <th>var_38</th>\n",
       "      <th>var_37</th>\n",
       "      <th>var_36</th>\n",
       "      <th>var_35</th>\n",
       "      <th>var_109</th>\n",
       "    </tr>\n",
       "  </thead>\n",
       "  <tbody>\n",
       "    <tr>\n",
       "      <th>23990</th>\n",
       "      <td>2.002787</td>\n",
       "      <td>0.0</td>\n",
       "      <td>1.098373</td>\n",
       "      <td>1.884118</td>\n",
       "      <td>4.955921</td>\n",
       "      <td>2.723684</td>\n",
       "      <td>0.584105</td>\n",
       "      <td>1.299780</td>\n",
       "      <td>1.686957</td>\n",
       "      <td>1.783113</td>\n",
       "      <td>...</td>\n",
       "      <td>1.371637</td>\n",
       "      <td>4.591175</td>\n",
       "      <td>14.219526</td>\n",
       "      <td>8.069152</td>\n",
       "      <td>5.917667</td>\n",
       "      <td>6.487244</td>\n",
       "      <td>4.256766</td>\n",
       "      <td>9.298727</td>\n",
       "      <td>5.991522</td>\n",
       "      <td>0.965991</td>\n",
       "    </tr>\n",
       "    <tr>\n",
       "      <th>8729</th>\n",
       "      <td>0.972343</td>\n",
       "      <td>0.0</td>\n",
       "      <td>3.519718</td>\n",
       "      <td>1.639701</td>\n",
       "      <td>4.670524</td>\n",
       "      <td>2.641323</td>\n",
       "      <td>0.756977</td>\n",
       "      <td>0.503283</td>\n",
       "      <td>2.924444</td>\n",
       "      <td>0.890909</td>\n",
       "      <td>...</td>\n",
       "      <td>4.407229</td>\n",
       "      <td>0.043653</td>\n",
       "      <td>13.800001</td>\n",
       "      <td>7.532231</td>\n",
       "      <td>0.030892</td>\n",
       "      <td>9.049161</td>\n",
       "      <td>6.259549</td>\n",
       "      <td>6.111613</td>\n",
       "      <td>7.418181</td>\n",
       "      <td>2.241669</td>\n",
       "    </tr>\n",
       "    <tr>\n",
       "      <th>3451</th>\n",
       "      <td>0.169202</td>\n",
       "      <td>0.0</td>\n",
       "      <td>2.062755</td>\n",
       "      <td>1.935365</td>\n",
       "      <td>5.400635</td>\n",
       "      <td>1.197885</td>\n",
       "      <td>0.276806</td>\n",
       "      <td>1.819694</td>\n",
       "      <td>1.256104</td>\n",
       "      <td>1.340006</td>\n",
       "      <td>...</td>\n",
       "      <td>2.734220</td>\n",
       "      <td>0.453945</td>\n",
       "      <td>14.345597</td>\n",
       "      <td>7.924287</td>\n",
       "      <td>0.485147</td>\n",
       "      <td>9.351721</td>\n",
       "      <td>8.563623</td>\n",
       "      <td>6.281704</td>\n",
       "      <td>9.213378</td>\n",
       "      <td>2.174361</td>\n",
       "    </tr>\n",
       "    <tr>\n",
       "      <th>2628</th>\n",
       "      <td>1.371931</td>\n",
       "      <td>0.0</td>\n",
       "      <td>1.656908</td>\n",
       "      <td>1.978885</td>\n",
       "      <td>8.640260</td>\n",
       "      <td>1.656526</td>\n",
       "      <td>0.531305</td>\n",
       "      <td>0.658205</td>\n",
       "      <td>0.692858</td>\n",
       "      <td>1.253192</td>\n",
       "      <td>...</td>\n",
       "      <td>2.415604</td>\n",
       "      <td>0.167784</td>\n",
       "      <td>15.544183</td>\n",
       "      <td>10.922489</td>\n",
       "      <td>0.058953</td>\n",
       "      <td>6.487781</td>\n",
       "      <td>4.935361</td>\n",
       "      <td>5.872042</td>\n",
       "      <td>4.200000</td>\n",
       "      <td>1.776894</td>\n",
       "    </tr>\n",
       "    <tr>\n",
       "      <th>38352</th>\n",
       "      <td>0.525097</td>\n",
       "      <td>0.0</td>\n",
       "      <td>1.240506</td>\n",
       "      <td>1.744641</td>\n",
       "      <td>5.528304</td>\n",
       "      <td>3.185301</td>\n",
       "      <td>0.673684</td>\n",
       "      <td>1.672647</td>\n",
       "      <td>0.692391</td>\n",
       "      <td>1.947771</td>\n",
       "      <td>...</td>\n",
       "      <td>2.181705</td>\n",
       "      <td>2.485241</td>\n",
       "      <td>15.097063</td>\n",
       "      <td>9.041439</td>\n",
       "      <td>5.006316</td>\n",
       "      <td>7.145949</td>\n",
       "      <td>8.662465</td>\n",
       "      <td>13.510909</td>\n",
       "      <td>8.057142</td>\n",
       "      <td>2.526562</td>\n",
       "    </tr>\n",
       "  </tbody>\n",
       "</table>\n",
       "<p>5 rows × 80 columns</p>\n",
       "</div>"
      ],
      "text/plain": [
       "         var_55  var_16    var_60    var_82    var_85    var_84     var_8  \\\n",
       "23990  2.002787     0.0  1.098373  1.884118  4.955921  2.723684  0.584105   \n",
       "8729   0.972343     0.0  3.519718  1.639701  4.670524  2.641323  0.756977   \n",
       "3451   0.169202     0.0  2.062755  1.935365  5.400635  1.197885  0.276806   \n",
       "2628   1.371931     0.0  1.656908  1.978885  8.640260  1.656526  0.531305   \n",
       "38352  0.525097     0.0  1.240506  1.744641  5.528304  3.185301  0.673684   \n",
       "\n",
       "        var_108   var_107   var_106  ...    var_43    var_42     var_41  \\\n",
       "23990  1.299780  1.686957  1.783113  ...  1.371637  4.591175  14.219526   \n",
       "8729   0.503283  2.924444  0.890909  ...  4.407229  0.043653  13.800001   \n",
       "3451   1.819694  1.256104  1.340006  ...  2.734220  0.453945  14.345597   \n",
       "2628   0.658205  0.692858  1.253192  ...  2.415604  0.167784  15.544183   \n",
       "38352  1.672647  0.692391  1.947771  ...  2.181705  2.485241  15.097063   \n",
       "\n",
       "          var_40    var_39    var_38    var_37     var_36    var_35   var_109  \n",
       "23990   8.069152  5.917667  6.487244  4.256766   9.298727  5.991522  0.965991  \n",
       "8729    7.532231  0.030892  9.049161  6.259549   6.111613  7.418181  2.241669  \n",
       "3451    7.924287  0.485147  9.351721  8.563623   6.281704  9.213378  2.174361  \n",
       "2628   10.922489  0.058953  6.487781  4.935361   5.872042  4.200000  1.776894  \n",
       "38352   9.041439  5.006316  7.145949  8.662465  13.510909  8.057142  2.526562  \n",
       "\n",
       "[5 rows x 80 columns]"
      ]
     },
     "execution_count": 243,
     "metadata": {},
     "output_type": "execute_result"
    }
   ],
   "source": [
    "X_train[[x for x in feature_importance.index if x not in feature_to_remove]].head()"
   ]
  },
  {
   "cell_type": "code",
   "execution_count": 244,
   "id": "sensitive-double",
   "metadata": {
    "ExecuteTime": {
     "end_time": "2021-02-16T13:57:48.266446Z",
     "start_time": "2021-02-16T13:57:47.341040Z"
    }
   },
   "outputs": [
    {
     "data": {
      "text/plain": [
       "DecisionTreeClassifier(max_depth=4, random_state=24)"
      ]
     },
     "execution_count": 244,
     "metadata": {},
     "output_type": "execute_result"
    }
   ],
   "source": [
    "model.fit(X_train[[x for x in feature_importance.index if x not in feature_to_remove]],y_train)"
   ]
  },
  {
   "cell_type": "code",
   "execution_count": 245,
   "id": "given-manhattan",
   "metadata": {
    "ExecuteTime": {
     "end_time": "2021-02-16T13:57:48.588557Z",
     "start_time": "2021-02-16T13:57:48.516926Z"
    }
   },
   "outputs": [
    {
     "name": "stdout",
     "output_type": "stream",
     "text": [
      "Train roc-auc score:0.6999966823637958\n",
      "\n",
      "\n",
      "Test roc-auc score:0.6945343355055292\n"
     ]
    }
   ],
   "source": [
    "print(f\"Train roc-auc score:{roc_auc_score(y_train,model.predict_proba(X_train[[x for x in feature_importance.index if x not in feature_to_remove]].fillna(0))[:,1])}\")\n",
    "print(\"\\n\")\n",
    "print(f\"Test roc-auc score:{roc_auc_score(y_test,model.predict_proba(X_test[[x for x in feature_importance.index if x not in feature_to_remove]].fillna(0))[:,1])}\")"
   ]
  },
  {
   "cell_type": "markdown",
   "id": "previous-contemporary",
   "metadata": {},
   "source": [
    "Close to the same score with less features!"
   ]
  },
  {
   "cell_type": "markdown",
   "id": "turned-anthony",
   "metadata": {},
   "source": [
    "### Regression"
   ]
  },
  {
   "cell_type": "code",
   "execution_count": 270,
   "id": "resistant-spirituality",
   "metadata": {
    "ExecuteTime": {
     "end_time": "2021-02-16T14:09:58.972268Z",
     "start_time": "2021-02-16T14:09:58.936976Z"
    }
   },
   "outputs": [],
   "source": [
    "X_train, X_test, y_train, y_test = read_data_rgr()"
   ]
  },
  {
   "cell_type": "code",
   "execution_count": 271,
   "id": "laden-sustainability",
   "metadata": {
    "ExecuteTime": {
     "end_time": "2021-02-16T14:09:59.219602Z",
     "start_time": "2021-02-16T14:09:59.216564Z"
    }
   },
   "outputs": [
    {
     "data": {
      "text/plain": [
       "37"
      ]
     },
     "execution_count": 271,
     "metadata": {},
     "output_type": "execute_result"
    }
   ],
   "source": [
    "X_train.shape[1]"
   ]
  },
  {
   "cell_type": "code",
   "execution_count": 272,
   "id": "precious-syndrome",
   "metadata": {
    "ExecuteTime": {
     "end_time": "2021-02-16T14:10:00.126998Z",
     "start_time": "2021-02-16T14:10:00.124618Z"
    }
   },
   "outputs": [],
   "source": [
    "model = DecisionTreeRegressor(max_depth=4, random_state=24)"
   ]
  },
  {
   "cell_type": "code",
   "execution_count": 273,
   "id": "senior-jordan",
   "metadata": {
    "ExecuteTime": {
     "end_time": "2021-02-16T14:10:00.455470Z",
     "start_time": "2021-02-16T14:10:00.444078Z"
    }
   },
   "outputs": [
    {
     "data": {
      "text/plain": [
       "DecisionTreeRegressor(max_depth=4, random_state=24)"
      ]
     },
     "execution_count": 273,
     "metadata": {},
     "output_type": "execute_result"
    }
   ],
   "source": [
    "model.fit(X_train.fillna(0),y_train)"
   ]
  },
  {
   "cell_type": "code",
   "execution_count": 274,
   "id": "varying-dynamics",
   "metadata": {
    "ExecuteTime": {
     "end_time": "2021-02-16T14:10:00.739539Z",
     "start_time": "2021-02-16T14:10:00.731067Z"
    }
   },
   "outputs": [
    {
     "name": "stdout",
     "output_type": "stream",
     "text": [
      "Train r2 score:0.8022834743726\n",
      "\n",
      "\n",
      "Test r2 score:0.6987736407191756\n"
     ]
    }
   ],
   "source": [
    "print(f\"Train r2 score:{r2_score(y_train,model.predict(X_train.fillna(0)))}\")\n",
    "print(\"\\n\")\n",
    "print(f\"Test r2 score:{r2_score(y_test,model.predict(X_test.fillna(0)))}\")"
   ]
  },
  {
   "cell_type": "code",
   "execution_count": 275,
   "id": "rough-collector",
   "metadata": {
    "ExecuteTime": {
     "end_time": "2021-02-16T14:10:00.933843Z",
     "start_time": "2021-02-16T14:10:00.928470Z"
    }
   },
   "outputs": [],
   "source": [
    "r2_full = r2_score(y_test,model.predict(X_test.fillna(0)))"
   ]
  },
  {
   "cell_type": "code",
   "execution_count": 276,
   "id": "stone-hardwood",
   "metadata": {
    "ExecuteTime": {
     "end_time": "2021-02-16T14:10:01.312229Z",
     "start_time": "2021-02-16T14:10:01.309136Z"
    }
   },
   "outputs": [],
   "source": [
    "feature_importance = pd.Series(\n",
    "    model.feature_importances_, index=X_train.columns).sort_values(ascending=False)"
   ]
  },
  {
   "cell_type": "code",
   "execution_count": 277,
   "id": "blank-exhaust",
   "metadata": {
    "ExecuteTime": {
     "end_time": "2021-02-16T14:10:01.771463Z",
     "start_time": "2021-02-16T14:10:01.595570Z"
    }
   },
   "outputs": [
    {
     "data": {
      "image/png": "[encoded data removed]",
      "text/plain": [
       "<Figure size 1080x576 with 1 Axes>"
      ]
     },
     "metadata": {},
     "output_type": "display_data"
    }
   ],
   "source": [
    "plt.figure(figsize=(15,8))\n",
    "feature_importance.plot().bar\n",
    "plt.title(\"Feature importance by feature\")\n",
    "plt.xlabel(\"Feature\")\n",
    "plt.ylabel(\"Importance\")\n",
    "plt.show()"
   ]
  },
  {
   "cell_type": "code",
   "execution_count": 278,
   "id": "successful-median",
   "metadata": {
    "ExecuteTime": {
     "end_time": "2021-02-16T14:10:04.272185Z",
     "start_time": "2021-02-16T14:10:03.949936Z"
    }
   },
   "outputs": [],
   "source": [
    "np.random.shuffle(feature_importance)\n",
    "\n",
    "tol = 0.0005\n",
    "\n",
    "feature_to_remove = []\n",
    "\n",
    "for feature in feature_importance.index: #Using a sample to speed up the process\n",
    "\n",
    "    X_train_recursive = X_train.copy()\n",
    "    X_test_recursive = X_test.copy()\n",
    "\n",
    "    X_train_recursive = X_train_recursive.drop(\n",
    "        labels=[feature] + feature_to_remove, axis=1)\n",
    "    X_test_recursive = X_test_recursive.drop(\n",
    "        labels=[feature] + feature_to_remove, axis=1)\n",
    "    \n",
    "\n",
    "    model_int = DecisionTreeRegressor(max_depth=4, random_state=24)\n",
    "\n",
    "    model_int.fit(X_train_recursive.fillna(0), y_train)\n",
    "    \n",
    "    r2_int = r2_score(y_test,model_int.predict(X_test_recursive.fillna(0)))\n",
    "    \n",
    "    diff = r2_full - r2_int\n",
    "    \n",
    "    if diff < tol:\n",
    "        \n",
    "        r2_full = r2_int\n",
    "        feature_to_remove.append(feature)"
   ]
  },
  {
   "cell_type": "code",
   "execution_count": 279,
   "id": "double-latino",
   "metadata": {
    "ExecuteTime": {
     "end_time": "2021-02-16T14:10:06.651290Z",
     "start_time": "2021-02-16T14:10:06.631676Z"
    }
   },
   "outputs": [
    {
     "data": {
      "text/html": [
       "<div>\n",
       "<style scoped>\n",
       "    .dataframe tbody tr th:only-of-type {\n",
       "        vertical-align: middle;\n",
       "    }\n",
       "\n",
       "    .dataframe tbody tr th {\n",
       "        vertical-align: top;\n",
       "    }\n",
       "\n",
       "    .dataframe thead th {\n",
       "        text-align: right;\n",
       "    }\n",
       "</style>\n",
       "<table border=\"1\" class=\"dataframe\">\n",
       "  <thead>\n",
       "    <tr style=\"text-align: right;\">\n",
       "      <th></th>\n",
       "      <th>OverallQual</th>\n",
       "      <th>BsmtFinSF1</th>\n",
       "      <th>WoodDeckSF</th>\n",
       "      <th>2ndFlrSF</th>\n",
       "      <th>LotFrontage</th>\n",
       "      <th>LotArea</th>\n",
       "      <th>Fireplaces</th>\n",
       "      <th>GarageYrBlt</th>\n",
       "      <th>GarageCars</th>\n",
       "      <th>GarageArea</th>\n",
       "      <th>...</th>\n",
       "      <th>BsmtFullBath</th>\n",
       "      <th>LowQualFinSF</th>\n",
       "      <th>1stFlrSF</th>\n",
       "      <th>BsmtUnfSF</th>\n",
       "      <th>BsmtFinSF2</th>\n",
       "      <th>MasVnrArea</th>\n",
       "      <th>YearRemodAdd</th>\n",
       "      <th>YearBuilt</th>\n",
       "      <th>OverallCond</th>\n",
       "      <th>YrSold</th>\n",
       "    </tr>\n",
       "  </thead>\n",
       "  <tbody>\n",
       "    <tr>\n",
       "      <th>615</th>\n",
       "      <td>6</td>\n",
       "      <td>763</td>\n",
       "      <td>120</td>\n",
       "      <td>0</td>\n",
       "      <td>80.0</td>\n",
       "      <td>8800</td>\n",
       "      <td>0</td>\n",
       "      <td>1963.0</td>\n",
       "      <td>2</td>\n",
       "      <td>480</td>\n",
       "      <td>...</td>\n",
       "      <td>1</td>\n",
       "      <td>0</td>\n",
       "      <td>1054</td>\n",
       "      <td>173</td>\n",
       "      <td>0</td>\n",
       "      <td>156.0</td>\n",
       "      <td>1963</td>\n",
       "      <td>1963</td>\n",
       "      <td>7</td>\n",
       "      <td>2010</td>\n",
       "    </tr>\n",
       "    <tr>\n",
       "      <th>613</th>\n",
       "      <td>5</td>\n",
       "      <td>206</td>\n",
       "      <td>0</td>\n",
       "      <td>0</td>\n",
       "      <td>70.0</td>\n",
       "      <td>8402</td>\n",
       "      <td>0</td>\n",
       "      <td>NaN</td>\n",
       "      <td>0</td>\n",
       "      <td>0</td>\n",
       "      <td>...</td>\n",
       "      <td>0</td>\n",
       "      <td>0</td>\n",
       "      <td>1120</td>\n",
       "      <td>914</td>\n",
       "      <td>0</td>\n",
       "      <td>0.0</td>\n",
       "      <td>2007</td>\n",
       "      <td>2007</td>\n",
       "      <td>5</td>\n",
       "      <td>2007</td>\n",
       "    </tr>\n",
       "    <tr>\n",
       "      <th>1303</th>\n",
       "      <td>7</td>\n",
       "      <td>0</td>\n",
       "      <td>208</td>\n",
       "      <td>0</td>\n",
       "      <td>73.0</td>\n",
       "      <td>8688</td>\n",
       "      <td>0</td>\n",
       "      <td>2005.0</td>\n",
       "      <td>3</td>\n",
       "      <td>834</td>\n",
       "      <td>...</td>\n",
       "      <td>0</td>\n",
       "      <td>0</td>\n",
       "      <td>1616</td>\n",
       "      <td>1616</td>\n",
       "      <td>0</td>\n",
       "      <td>228.0</td>\n",
       "      <td>2005</td>\n",
       "      <td>2005</td>\n",
       "      <td>5</td>\n",
       "      <td>2006</td>\n",
       "    </tr>\n",
       "    <tr>\n",
       "      <th>486</th>\n",
       "      <td>5</td>\n",
       "      <td>836</td>\n",
       "      <td>0</td>\n",
       "      <td>0</td>\n",
       "      <td>79.0</td>\n",
       "      <td>10289</td>\n",
       "      <td>0</td>\n",
       "      <td>1965.0</td>\n",
       "      <td>2</td>\n",
       "      <td>515</td>\n",
       "      <td>...</td>\n",
       "      <td>1</td>\n",
       "      <td>0</td>\n",
       "      <td>1073</td>\n",
       "      <td>237</td>\n",
       "      <td>0</td>\n",
       "      <td>168.0</td>\n",
       "      <td>1965</td>\n",
       "      <td>1965</td>\n",
       "      <td>7</td>\n",
       "      <td>2007</td>\n",
       "    </tr>\n",
       "    <tr>\n",
       "      <th>561</th>\n",
       "      <td>5</td>\n",
       "      <td>1071</td>\n",
       "      <td>240</td>\n",
       "      <td>0</td>\n",
       "      <td>77.0</td>\n",
       "      <td>10010</td>\n",
       "      <td>1</td>\n",
       "      <td>1975.0</td>\n",
       "      <td>2</td>\n",
       "      <td>418</td>\n",
       "      <td>...</td>\n",
       "      <td>1</td>\n",
       "      <td>0</td>\n",
       "      <td>1389</td>\n",
       "      <td>195</td>\n",
       "      <td>123</td>\n",
       "      <td>0.0</td>\n",
       "      <td>1975</td>\n",
       "      <td>1974</td>\n",
       "      <td>5</td>\n",
       "      <td>2006</td>\n",
       "    </tr>\n",
       "  </tbody>\n",
       "</table>\n",
       "<p>5 rows × 32 columns</p>\n",
       "</div>"
      ],
      "text/plain": [
       "      OverallQual  BsmtFinSF1  WoodDeckSF  2ndFlrSF  LotFrontage  LotArea  \\\n",
       "615             6         763         120         0         80.0     8800   \n",
       "613             5         206           0         0         70.0     8402   \n",
       "1303            7           0         208         0         73.0     8688   \n",
       "486             5         836           0         0         79.0    10289   \n",
       "561             5        1071         240         0         77.0    10010   \n",
       "\n",
       "      Fireplaces  GarageYrBlt  GarageCars  GarageArea  ...  BsmtFullBath  \\\n",
       "615            0       1963.0           2         480  ...             1   \n",
       "613            0          NaN           0           0  ...             0   \n",
       "1303           0       2005.0           3         834  ...             0   \n",
       "486            0       1965.0           2         515  ...             1   \n",
       "561            1       1975.0           2         418  ...             1   \n",
       "\n",
       "      LowQualFinSF  1stFlrSF  BsmtUnfSF  BsmtFinSF2  MasVnrArea  YearRemodAdd  \\\n",
       "615              0      1054        173           0       156.0          1963   \n",
       "613              0      1120        914           0         0.0          2007   \n",
       "1303             0      1616       1616           0       228.0          2005   \n",
       "486              0      1073        237           0       168.0          1965   \n",
       "561              0      1389        195         123         0.0          1975   \n",
       "\n",
       "      YearBuilt  OverallCond  YrSold  \n",
       "615        1963            7    2010  \n",
       "613        2007            5    2007  \n",
       "1303       2005            5    2006  \n",
       "486        1965            7    2007  \n",
       "561        1974            5    2006  \n",
       "\n",
       "[5 rows x 32 columns]"
      ]
     },
     "execution_count": 279,
     "metadata": {},
     "output_type": "execute_result"
    }
   ],
   "source": [
    "X_train[[x for x in feature_importance.index if x not in feature_to_remove]].head()"
   ]
  },
  {
   "cell_type": "code",
   "execution_count": 280,
   "id": "split-investigator",
   "metadata": {
    "ExecuteTime": {
     "end_time": "2021-02-16T14:10:08.915233Z",
     "start_time": "2021-02-16T14:10:08.903784Z"
    }
   },
   "outputs": [
    {
     "data": {
      "text/plain": [
       "DecisionTreeRegressor(max_depth=4, random_state=24)"
      ]
     },
     "execution_count": 280,
     "metadata": {},
     "output_type": "execute_result"
    }
   ],
   "source": [
    "model.fit(X_train[[x for x in feature_importance.index if x not in feature_to_remove]].fillna(0),y_train)"
   ]
  },
  {
   "cell_type": "code",
   "execution_count": 281,
   "id": "intimate-object",
   "metadata": {
    "ExecuteTime": {
     "end_time": "2021-02-16T14:10:09.982406Z",
     "start_time": "2021-02-16T14:10:09.972036Z"
    }
   },
   "outputs": [
    {
     "name": "stdout",
     "output_type": "stream",
     "text": [
      "Train r2 score:0.7938102209352988\n",
      "\n",
      "\n",
      "Test r2 score:0.7698413066215156\n"
     ]
    }
   ],
   "source": [
    "print(f\"Train r2 score:{r2_score(y_train,model.predict(X_train[[x for x in feature_importance.index if x not in feature_to_remove]].fillna(0)))}\")\n",
    "print(\"\\n\")\n",
    "print(f\"Test r2 score:{r2_score(y_test,model.predict(X_test[[x for x in feature_importance.index if x not in feature_to_remove]].fillna(0)))}\")"
   ]
  },
  {
   "cell_type": "code",
   "execution_count": 282,
   "id": "incident-uncertainty",
   "metadata": {
    "ExecuteTime": {
     "end_time": "2021-02-16T14:10:12.546768Z",
     "start_time": "2021-02-16T14:10:12.542287Z"
    }
   },
   "outputs": [
    {
     "data": {
      "text/plain": [
       "(37, 32)"
      ]
     },
     "execution_count": 282,
     "metadata": {},
     "output_type": "execute_result"
    }
   ],
   "source": [
    "X_train.shape[1],X_train[[x for x in feature_importance.index if x not in feature_to_remove]].shape[1]"
   ]
  },
  {
   "cell_type": "markdown",
   "id": "handy-structure",
   "metadata": {},
   "source": [
    "Model with less overfitting!"
   ]
  },
  {
   "cell_type": "markdown",
   "id": "determined-wells",
   "metadata": {},
   "source": [
    "## Feature-Engine"
   ]
  },
  {
   "cell_type": "markdown",
   "id": "prompt-strength",
   "metadata": {},
   "source": [
    "### Classification"
   ]
  },
  {
   "cell_type": "code",
   "execution_count": 305,
   "id": "moral-arrow",
   "metadata": {
    "ExecuteTime": {
     "end_time": "2021-02-16T14:36:14.314303Z",
     "start_time": "2021-02-16T14:36:13.248152Z"
    }
   },
   "outputs": [],
   "source": [
    "X_train, X_test, y_train, y_test = read_data_clf()"
   ]
  },
  {
   "cell_type": "code",
   "execution_count": 306,
   "id": "virgin-brooks",
   "metadata": {
    "ExecuteTime": {
     "end_time": "2021-02-16T14:36:14.505656Z",
     "start_time": "2021-02-16T14:36:14.502331Z"
    }
   },
   "outputs": [
    {
     "data": {
      "text/plain": [
       "108"
      ]
     },
     "execution_count": 306,
     "metadata": {},
     "output_type": "execute_result"
    }
   ],
   "source": [
    "X_train.shape[1]"
   ]
  },
  {
   "cell_type": "code",
   "execution_count": 307,
   "id": "corrected-laugh",
   "metadata": {
    "ExecuteTime": {
     "end_time": "2021-02-16T14:36:14.697929Z",
     "start_time": "2021-02-16T14:36:14.694700Z"
    }
   },
   "outputs": [],
   "source": [
    "pipeline = Pipeline([\n",
    "    (\"DropConstant\", DropConstantFeatures(tol=0.998)),\n",
    "    (\"DropDuplicated\", DropDuplicateFeatures()),\n",
    "    (\"DropCorrelate\", DropCorrelatedFeatures()),\n",
    "    (\"FRE\", RecursiveFeatureElimination(estimator=GradientBoostingClassifier(n_estimators=10, max_depth=2),\n",
    "                                        variables=None,  # automatically evaluate all numerical variables\n",
    "                                        scoring='roc_auc',  # the metric we want to evalute\n",
    "                                        threshold=0.0005,  # the maximum performance drop allowed to remove a feature\n",
    "                                        cv=2,  # cross-validation\n",
    "                                        )\n",
    "     )\n",
    "])"
   ]
  },
  {
   "cell_type": "code",
   "execution_count": 308,
   "id": "saved-consumption",
   "metadata": {
    "ExecuteTime": {
     "end_time": "2021-02-16T14:36:14.868745Z",
     "start_time": "2021-02-16T14:36:14.866482Z"
    }
   },
   "outputs": [],
   "source": [
    "model = GradientBoostingClassifier()"
   ]
  },
  {
   "cell_type": "code",
   "execution_count": 309,
   "id": "chemical-skill",
   "metadata": {
    "ExecuteTime": {
     "end_time": "2021-02-16T14:37:42.285040Z",
     "start_time": "2021-02-16T14:36:15.035407Z"
    }
   },
   "outputs": [
    {
     "name": "stdout",
     "output_type": "stream",
     "text": [
      "Train roc-auc score:0.7430748012683438\n",
      "\n",
      "\n",
      "Test roc-auc score:0.7089665922031332\n"
     ]
    }
   ],
   "source": [
    "model.fit(X_train,y_train)\n",
    "print(f\"Train roc-auc score:{roc_auc_score(y_train,model.predict_proba(X_train.fillna(0))[:,1])}\")\n",
    "print(\"\\n\")\n",
    "print(f\"Test roc-auc score:{roc_auc_score(y_test,model.predict_proba(X_test.fillna(0))[:,1])}\")"
   ]
  },
  {
   "cell_type": "code",
   "execution_count": 310,
   "id": "southern-kingston",
   "metadata": {
    "ExecuteTime": {
     "end_time": "2021-02-16T14:42:36.699038Z",
     "start_time": "2021-02-16T14:37:42.423402Z"
    }
   },
   "outputs": [
    {
     "data": {
      "text/plain": [
       "Pipeline(steps=[('DropConstant',\n",
       "                 DropConstantFeatures(tol=0.998,\n",
       "                                      variables=['var_1', 'var_2', 'var_3',\n",
       "                                                 'var_4', 'var_5', 'var_6',\n",
       "                                                 'var_7', 'var_8', 'var_9',\n",
       "                                                 'var_10', 'var_11', 'var_12',\n",
       "                                                 'var_13', 'var_14', 'var_15',\n",
       "                                                 'var_16', 'var_17', 'var_18',\n",
       "                                                 'var_19', 'var_20', 'var_21',\n",
       "                                                 'var_22', 'var_23', 'var_24',\n",
       "                                                 'var_25', 'var_26', 'var_27',\n",
       "                                                 'var_28', 'var_29', 'var_30', ...])),\n",
       "                ('DropDu...\n",
       "                                             estimator=GradientBoostingClassifier(max_depth=2,\n",
       "                                                                                  n_estimators=10),\n",
       "                                             threshold=0.0005,\n",
       "                                             variables=['var_1', 'var_2',\n",
       "                                                        'var_3', 'var_4',\n",
       "                                                        'var_5', 'var_6',\n",
       "                                                        'var_7', 'var_8',\n",
       "                                                        'var_9', 'var_10',\n",
       "                                                        'var_11', 'var_12',\n",
       "                                                        'var_13', 'var_14',\n",
       "                                                        'var_15', 'var_16',\n",
       "                                                        'var_18', 'var_19',\n",
       "                                                        'var_20', 'var_21',\n",
       "                                                        'var_22', 'var_23',\n",
       "                                                        'var_25', 'var_26',\n",
       "                                                        'var_27', 'var_30',\n",
       "                                                        'var_31', 'var_34',\n",
       "                                                        'var_35', 'var_36', ...]))])"
      ]
     },
     "execution_count": 310,
     "metadata": {},
     "output_type": "execute_result"
    }
   ],
   "source": [
    "pipeline.fit(X_train,y_train)"
   ]
  },
  {
   "cell_type": "code",
   "execution_count": 311,
   "id": "unnecessary-midwest",
   "metadata": {
    "ExecuteTime": {
     "end_time": "2021-02-16T14:43:41.923818Z",
     "start_time": "2021-02-16T14:43:41.833919Z"
    }
   },
   "outputs": [
    {
     "data": {
      "text/plain": [
       "3"
      ]
     },
     "execution_count": 311,
     "metadata": {},
     "output_type": "execute_result"
    }
   ],
   "source": [
    "pipeline.transform(X_train).shape[1]"
   ]
  },
  {
   "cell_type": "code",
   "execution_count": null,
   "id": "better-assignment",
   "metadata": {},
   "outputs": [],
   "source": [
    "X_train = pipeline.transform(X_train)\n",
    "X_test = pipeline.transform(X_test)"
   ]
  },
  {
   "cell_type": "code",
   "execution_count": 312,
   "id": "boring-somerset",
   "metadata": {
    "ExecuteTime": {
     "end_time": "2021-02-16T14:43:47.024719Z",
     "start_time": "2021-02-16T14:43:46.827338Z"
    }
   },
   "outputs": [
    {
     "name": "stdout",
     "output_type": "stream",
     "text": [
      "Train roc-auc score:0.7430748012683438\n",
      "\n",
      "\n",
      "Test roc-auc score:0.7089665922031332\n"
     ]
    }
   ],
   "source": [
    "print(f\"Train roc-auc score:{roc_auc_score(y_train,model.predict_proba(X_train.fillna(0))[:,1])}\")\n",
    "print(\"\\n\")\n",
    "print(f\"Test roc-auc score:{roc_auc_score(y_test,model.predict_proba(X_test.fillna(0))[:,1])}\")"
   ]
  },
  {
   "cell_type": "markdown",
   "id": "familiar-feeling",
   "metadata": {},
   "source": [
    "Same score but with only 3 features!"
   ]
  },
  {
   "cell_type": "markdown",
   "id": "protective-peter",
   "metadata": {},
   "source": [
    "### Regression"
   ]
  },
  {
   "cell_type": "code",
   "execution_count": 313,
   "id": "surrounded-dimension",
   "metadata": {
    "ExecuteTime": {
     "end_time": "2021-02-16T14:44:03.178666Z",
     "start_time": "2021-02-16T14:44:03.147944Z"
    }
   },
   "outputs": [],
   "source": [
    "X_train, X_test, y_train, y_test = read_data_rgr()"
   ]
  },
  {
   "cell_type": "code",
   "execution_count": 314,
   "id": "special-cricket",
   "metadata": {
    "ExecuteTime": {
     "end_time": "2021-02-16T14:44:04.008148Z",
     "start_time": "2021-02-16T14:44:04.004685Z"
    }
   },
   "outputs": [
    {
     "data": {
      "text/plain": [
       "37"
      ]
     },
     "execution_count": 314,
     "metadata": {},
     "output_type": "execute_result"
    }
   ],
   "source": [
    "X_train.shape[1]"
   ]
  },
  {
   "cell_type": "code",
   "execution_count": 316,
   "id": "typical-shade",
   "metadata": {
    "ExecuteTime": {
     "end_time": "2021-02-16T14:44:08.693054Z",
     "start_time": "2021-02-16T14:44:08.689640Z"
    }
   },
   "outputs": [],
   "source": [
    "pipeline = Pipeline([\n",
    "    (\"DropConstant\", DropConstantFeatures(tol=0.998)),\n",
    "    (\"DropDuplicated\", DropDuplicateFeatures()),\n",
    "    (\"DropCorrelate\", DropCorrelatedFeatures()),\n",
    "    (\"FRe\", RecursiveFeatureElimination(estimator=GradientBoostingRegressor(n_estimators=10, max_depth=2),\n",
    "                                        variables=None,  # automatically evaluate all numerical variables\n",
    "                                        scoring='r2',  # the metric we want to evalute\n",
    "                                        threshold=0.0001,  # the maximum performance drop allowed to remove a feature\n",
    "                                        cv=3,  # cross-validation\n",
    "                                        )\n",
    "     )\n",
    "])"
   ]
  },
  {
   "cell_type": "code",
   "execution_count": 317,
   "id": "contrary-convertible",
   "metadata": {
    "ExecuteTime": {
     "end_time": "2021-02-16T14:44:12.126917Z",
     "start_time": "2021-02-16T14:44:12.124465Z"
    }
   },
   "outputs": [],
   "source": [
    "model = GradientBoostingRegressor(n_estimators=10, max_depth=4, random_state=10)"
   ]
  },
  {
   "cell_type": "code",
   "execution_count": 318,
   "id": "tropical-marble",
   "metadata": {
    "ExecuteTime": {
     "end_time": "2021-02-16T14:44:12.839790Z",
     "start_time": "2021-02-16T14:44:12.784699Z"
    }
   },
   "outputs": [
    {
     "data": {
      "text/plain": [
       "GradientBoostingRegressor(max_depth=4, n_estimators=10, random_state=10)"
      ]
     },
     "execution_count": 318,
     "metadata": {},
     "output_type": "execute_result"
    }
   ],
   "source": [
    "model.fit(X_train.fillna(0),y_train)"
   ]
  },
  {
   "cell_type": "code",
   "execution_count": 319,
   "id": "surface-alexander",
   "metadata": {
    "ExecuteTime": {
     "end_time": "2021-02-16T14:44:14.010954Z",
     "start_time": "2021-02-16T14:44:14.001831Z"
    }
   },
   "outputs": [
    {
     "name": "stdout",
     "output_type": "stream",
     "text": [
      "Train r2 score:0.7632406496837609\n",
      "\n",
      "\n",
      "Test r2 score:0.7050944894854375\n"
     ]
    }
   ],
   "source": [
    "print(f\"Train r2 score:{r2_score(y_train,model.predict(X_train.fillna(0)))}\")\n",
    "print(\"\\n\")\n",
    "print(f\"Test r2 score:{r2_score(y_test,model.predict(X_test.fillna(0)))}\")"
   ]
  },
  {
   "cell_type": "code",
   "execution_count": 320,
   "id": "japanese-gambling",
   "metadata": {
    "ExecuteTime": {
     "end_time": "2021-02-16T14:44:30.274383Z",
     "start_time": "2021-02-16T14:44:27.732680Z"
    }
   },
   "outputs": [
    {
     "data": {
      "text/plain": [
       "Pipeline(steps=[('DropConstant',\n",
       "                 DropConstantFeatures(tol=0.998,\n",
       "                                      variables=['Id', 'MSSubClass',\n",
       "                                                 'LotFrontage', 'LotArea',\n",
       "                                                 'OverallQual', 'OverallCond',\n",
       "                                                 'YearBuilt', 'YearRemodAdd',\n",
       "                                                 'MasVnrArea', 'BsmtFinSF1',\n",
       "                                                 'BsmtFinSF2', 'BsmtUnfSF',\n",
       "                                                 'TotalBsmtSF', '1stFlrSF',\n",
       "                                                 '2ndFlrSF', 'LowQualFinSF',\n",
       "                                                 'GrLivArea', 'BsmtFullBath',\n",
       "                                                 'BsmtHalfBath', 'FullBath',\n",
       "                                                 'HalfBath', 'BedroomAbvGr...\n",
       "                                                        'OverallQual',\n",
       "                                                        'OverallCond',\n",
       "                                                        'YearBuilt',\n",
       "                                                        'YearRemodAdd',\n",
       "                                                        'MasVnrArea',\n",
       "                                                        'BsmtFinSF1',\n",
       "                                                        'BsmtFinSF2',\n",
       "                                                        'BsmtUnfSF',\n",
       "                                                        'TotalBsmtSF',\n",
       "                                                        '2ndFlrSF',\n",
       "                                                        'LowQualFinSF',\n",
       "                                                        'GrLivArea',\n",
       "                                                        'BsmtFullBath',\n",
       "                                                        'BsmtHalfBath',\n",
       "                                                        'FullBath', 'HalfBath',\n",
       "                                                        'BedroomAbvGr',\n",
       "                                                        'KitchenAbvGr',\n",
       "                                                        'Fireplaces',\n",
       "                                                        'GarageYrBlt',\n",
       "                                                        'GarageCars',\n",
       "                                                        'WoodDeckSF',\n",
       "                                                        'OpenPorchSF',\n",
       "                                                        'EnclosedPorch',\n",
       "                                                        '3SsnPorch',\n",
       "                                                        'ScreenPorch', ...]))])"
      ]
     },
     "execution_count": 320,
     "metadata": {},
     "output_type": "execute_result"
    }
   ],
   "source": [
    "pipeline.fit(X_train.fillna(0),y_train)"
   ]
  },
  {
   "cell_type": "code",
   "execution_count": 321,
   "id": "olive-myanmar",
   "metadata": {
    "ExecuteTime": {
     "end_time": "2021-02-16T14:44:52.608315Z",
     "start_time": "2021-02-16T14:44:52.602315Z"
    }
   },
   "outputs": [
    {
     "data": {
      "text/plain": [
       "8"
      ]
     },
     "execution_count": 321,
     "metadata": {},
     "output_type": "execute_result"
    }
   ],
   "source": [
    "pipeline.transform(X_train).shape[1]"
   ]
  },
  {
   "cell_type": "code",
   "execution_count": 405,
   "id": "seeing-festival",
   "metadata": {
    "ExecuteTime": {
     "end_time": "2021-02-16T17:16:06.173997Z",
     "start_time": "2021-02-16T17:16:06.012204Z"
    }
   },
   "outputs": [],
   "source": [
    "X_train = pipeline.transform(X_train.fillna(0))\n",
    "X_test = pipeline.transform(X_test.fillna(0))"
   ]
  },
  {
   "cell_type": "code",
   "execution_count": 322,
   "id": "standard-agreement",
   "metadata": {
    "ExecuteTime": {
     "end_time": "2021-02-16T14:44:57.917483Z",
     "start_time": "2021-02-16T14:44:57.908148Z"
    }
   },
   "outputs": [
    {
     "name": "stdout",
     "output_type": "stream",
     "text": [
      "Train r2 score:0.7632406496837609\n",
      "\n",
      "\n",
      "Test r2 score:0.7050944894854375\n"
     ]
    }
   ],
   "source": [
    "print(f\"Train r2 score:{r2_score(y_train,model.predict(X_train.fillna(0)))}\")\n",
    "print(\"\\n\")\n",
    "print(f\"Test r2 score:{r2_score(y_test,model.predict(X_test.fillna(0)))}\")"
   ]
  },
  {
   "cell_type": "markdown",
   "id": "assured-limitation",
   "metadata": {},
   "source": [
    "Same score with only 8 features!"
   ]
  },
  {
   "cell_type": "markdown",
   "id": "systematic-essence",
   "metadata": {},
   "source": [
    "# Recursive Feature Addition"
   ]
  },
  {
   "cell_type": "markdown",
   "id": "specialized-convert",
   "metadata": {},
   "source": [
    "Recursive feature Addition (RFA) is a feature selection method that works like RFE but in the opposite way. Instead of eliminating the worst feature, the algorithm tries to find the best features, one feature at a time.\n",
    "\n",
    "It works in the following order:\n",
    "* Create a ML model with all the features and rank them from the most important to the least important.\n",
    "* Create a new ML model with only the best feature and calculate the performance metric.\n",
    "* Add one feature, the best one, to the ML model and check his performance with the metric.\n",
    "* If the metric increased by more than an arbitrary threshold, then the feature should be kept.\n",
    "* Repeat step 1 and 2 with the rest of the features."
   ]
  },
  {
   "cell_type": "markdown",
   "id": "bigger-thing",
   "metadata": {},
   "source": [
    "## Normal Method"
   ]
  },
  {
   "cell_type": "markdown",
   "id": "better-passage",
   "metadata": {},
   "source": [
    "### Classification"
   ]
  },
  {
   "cell_type": "code",
   "execution_count": 324,
   "id": "distributed-blogger",
   "metadata": {
    "ExecuteTime": {
     "end_time": "2021-02-16T16:32:10.172822Z",
     "start_time": "2021-02-16T16:32:09.139590Z"
    }
   },
   "outputs": [],
   "source": [
    "X_train, X_test, y_train, y_test = read_data_clf()"
   ]
  },
  {
   "cell_type": "code",
   "execution_count": 325,
   "id": "broad-balloon",
   "metadata": {
    "ExecuteTime": {
     "end_time": "2021-02-16T16:32:10.375735Z",
     "start_time": "2021-02-16T16:32:10.372184Z"
    }
   },
   "outputs": [],
   "source": [
    "model = DecisionTreeClassifier(max_depth=4, random_state=24)"
   ]
  },
  {
   "cell_type": "code",
   "execution_count": 326,
   "id": "rising-carpet",
   "metadata": {
    "ExecuteTime": {
     "end_time": "2021-02-16T16:32:12.047094Z",
     "start_time": "2021-02-16T16:32:10.560569Z"
    }
   },
   "outputs": [
    {
     "data": {
      "text/plain": [
       "DecisionTreeClassifier(max_depth=4, random_state=24)"
      ]
     },
     "execution_count": 326,
     "metadata": {},
     "output_type": "execute_result"
    }
   ],
   "source": [
    "model.fit(X_train,y_train)"
   ]
  },
  {
   "cell_type": "code",
   "execution_count": 327,
   "id": "monetary-gauge",
   "metadata": {
    "ExecuteTime": {
     "end_time": "2021-02-16T16:32:12.309207Z",
     "start_time": "2021-02-16T16:32:12.233225Z"
    }
   },
   "outputs": [
    {
     "name": "stdout",
     "output_type": "stream",
     "text": [
      "Train roc-auc score:0.7011789182352524\n",
      "\n",
      "\n",
      "Test roc-auc score:0.6923358305358083\n"
     ]
    }
   ],
   "source": [
    "print(f\"Train roc-auc score:{roc_auc_score(y_train,model.predict_proba(X_train.fillna(0))[:,1])}\")\n",
    "print(\"\\n\")\n",
    "print(f\"Test roc-auc score:{roc_auc_score(y_test,model.predict_proba(X_test.fillna(0))[:,1])}\")"
   ]
  },
  {
   "cell_type": "code",
   "execution_count": 336,
   "id": "considered-target",
   "metadata": {
    "ExecuteTime": {
     "end_time": "2021-02-16T16:35:07.397310Z",
     "start_time": "2021-02-16T16:35:07.394405Z"
    }
   },
   "outputs": [],
   "source": [
    "feature_importance = pd.Series(\n",
    "    model.feature_importances_, index=X_train.columns).sort_values(ascending=False)"
   ]
  },
  {
   "cell_type": "code",
   "execution_count": 343,
   "id": "spanish-monitor",
   "metadata": {
    "ExecuteTime": {
     "end_time": "2021-02-16T16:36:22.273020Z",
     "start_time": "2021-02-16T16:36:21.989466Z"
    }
   },
   "outputs": [
    {
     "data": {
      "image/png": "[encoded data removed]",
      "text/plain": [
       "<Figure size 1080x576 with 1 Axes>"
      ]
     },
     "metadata": {},
     "output_type": "display_data"
    }
   ],
   "source": [
    "plt.figure(figsize=(15,8))\n",
    "feature_importance.sort_values(ascending=False)[:20].plot.bar()\n",
    "plt.title(\"Top 20 performance by variable\")\n",
    "plt.xlabel(\"Variable\")\n",
    "plt.ylabel(\"Performance\")\n",
    "plt.show()"
   ]
  },
  {
   "cell_type": "code",
   "execution_count": 347,
   "id": "fleet-stadium",
   "metadata": {
    "ExecuteTime": {
     "end_time": "2021-02-16T16:41:10.361442Z",
     "start_time": "2021-02-16T16:41:10.358044Z"
    }
   },
   "outputs": [
    {
     "data": {
      "text/plain": [
       "'var_55'"
      ]
     },
     "execution_count": 347,
     "metadata": {},
     "output_type": "execute_result"
    }
   ],
   "source": [
    "feature_importance.index[0]"
   ]
  },
  {
   "cell_type": "code",
   "execution_count": 358,
   "id": "scientific-macintosh",
   "metadata": {
    "ExecuteTime": {
     "end_time": "2021-02-16T16:46:07.890054Z",
     "start_time": "2021-02-16T16:46:07.863189Z"
    }
   },
   "outputs": [],
   "source": [
    "# Create model with the best  feature\n",
    "model_one_feature = model.fit(X_train[feature_importance.index[0]].to_frame(), y_train)"
   ]
  },
  {
   "cell_type": "code",
   "execution_count": 360,
   "id": "joint-artwork",
   "metadata": {
    "ExecuteTime": {
     "end_time": "2021-02-16T16:46:21.819094Z",
     "start_time": "2021-02-16T16:46:21.808212Z"
    }
   },
   "outputs": [],
   "source": [
    "# Performance with the best feature\n",
    "\n",
    "roc_one_feature = roc_auc_score(y_test,model_one_feature.predict_proba(X_test[feature_importance.index[0]].fillna(0).to_frame())[:,1])"
   ]
  },
  {
   "cell_type": "code",
   "execution_count": 362,
   "id": "sealed-scheduling",
   "metadata": {
    "ExecuteTime": {
     "end_time": "2021-02-16T16:46:49.429400Z",
     "start_time": "2021-02-16T16:46:49.426801Z"
    }
   },
   "outputs": [
    {
     "name": "stdout",
     "output_type": "stream",
     "text": [
      "Test roc-auc score: 0.6824487806082148.\n"
     ]
    }
   ],
   "source": [
    "print(f\"Test roc-auc score: {roc_one_feature}.\")"
   ]
  },
  {
   "cell_type": "code",
   "execution_count": 370,
   "id": "accomplished-medicaid",
   "metadata": {
    "ExecuteTime": {
     "end_time": "2021-02-16T16:56:58.238581Z",
     "start_time": "2021-02-16T16:56:53.119749Z"
    }
   },
   "outputs": [],
   "source": [
    "tol = 0.0001\n",
    "\n",
    "features_to_keep = [feature_importance.index[0]]\n",
    "\n",
    "for feature in feature_importance[1:].index:\n",
    "\n",
    "    # initialise model\n",
    "    model_int = DecisionTreeClassifier(max_depth=4, random_state=24)\n",
    "\n",
    "    # fit model with the selected features\n",
    "    # and the feature to be evaluated\n",
    "    model_int.fit(\n",
    "        X_train[features_to_keep + [feature]], y_train)\n",
    "\n",
    "    # make a prediction over the test set\n",
    "    y_pred_test = model_int.predict_proba(\n",
    "        X_test[features_to_keep + [feature]])[:, 1]\n",
    "\n",
    "    # calculate the new roc-auc\n",
    "    roc_int = roc_auc_score(y_test, y_pred_test)\n",
    "\n",
    "    # determine the increase in the roc-auc\n",
    "    diff_roc = roc_int - roc_one_feature\n",
    "\n",
    "    # compare the increase in roc-auc with the tolerance\n",
    "    # we set previously\n",
    "    if diff_roc >= tol:\n",
    "        roc_one_feature = roc_int\n",
    "        features_to_keep.append(feature)"
   ]
  },
  {
   "cell_type": "code",
   "execution_count": 371,
   "id": "numerous-digest",
   "metadata": {
    "ExecuteTime": {
     "end_time": "2021-02-16T16:56:58.457914Z",
     "start_time": "2021-02-16T16:56:58.448950Z"
    }
   },
   "outputs": [
    {
     "data": {
      "text/html": [
       "<div>\n",
       "<style scoped>\n",
       "    .dataframe tbody tr th:only-of-type {\n",
       "        vertical-align: middle;\n",
       "    }\n",
       "\n",
       "    .dataframe tbody tr th {\n",
       "        vertical-align: top;\n",
       "    }\n",
       "\n",
       "    .dataframe thead th {\n",
       "        text-align: right;\n",
       "    }\n",
       "</style>\n",
       "<table border=\"1\" class=\"dataframe\">\n",
       "  <thead>\n",
       "    <tr style=\"text-align: right;\">\n",
       "      <th></th>\n",
       "      <th>var_55</th>\n",
       "    </tr>\n",
       "  </thead>\n",
       "  <tbody>\n",
       "    <tr>\n",
       "      <th>23990</th>\n",
       "      <td>2.002787</td>\n",
       "    </tr>\n",
       "    <tr>\n",
       "      <th>8729</th>\n",
       "      <td>0.972343</td>\n",
       "    </tr>\n",
       "    <tr>\n",
       "      <th>3451</th>\n",
       "      <td>0.169202</td>\n",
       "    </tr>\n",
       "    <tr>\n",
       "      <th>2628</th>\n",
       "      <td>1.371931</td>\n",
       "    </tr>\n",
       "    <tr>\n",
       "      <th>38352</th>\n",
       "      <td>0.525097</td>\n",
       "    </tr>\n",
       "  </tbody>\n",
       "</table>\n",
       "</div>"
      ],
      "text/plain": [
       "         var_55\n",
       "23990  2.002787\n",
       "8729   0.972343\n",
       "3451   0.169202\n",
       "2628   1.371931\n",
       "38352  0.525097"
      ]
     },
     "execution_count": 371,
     "metadata": {},
     "output_type": "execute_result"
    }
   ],
   "source": [
    "X_train[features_to_keep].head()"
   ]
  },
  {
   "cell_type": "code",
   "execution_count": 372,
   "id": "catholic-banks",
   "metadata": {
    "ExecuteTime": {
     "end_time": "2021-02-16T16:56:58.682274Z",
     "start_time": "2021-02-16T16:56:58.657365Z"
    }
   },
   "outputs": [
    {
     "name": "stdout",
     "output_type": "stream",
     "text": [
      "Train roc-auc score:0.6878354976617564\n",
      "\n",
      "\n",
      "Test roc-auc score:0.6824487806082148\n"
     ]
    }
   ],
   "source": [
    "print(f\"Train roc-auc score:{roc_auc_score(y_train,model.predict_proba(X_train[features_to_keep].fillna(0))[:,1])}\")\n",
    "print(\"\\n\")\n",
    "print(f\"Test roc-auc score:{roc_auc_score(y_test,model.predict_proba(X_test[features_to_keep].fillna(0))[:,1])}\")"
   ]
  },
  {
   "cell_type": "markdown",
   "id": "norman-index",
   "metadata": {},
   "source": [
    "Close to the same score with only one feature!"
   ]
  },
  {
   "cell_type": "markdown",
   "id": "recreational-cleveland",
   "metadata": {},
   "source": [
    "### Regression"
   ]
  },
  {
   "cell_type": "code",
   "execution_count": 373,
   "id": "incorporate-hunger",
   "metadata": {
    "ExecuteTime": {
     "end_time": "2021-02-16T16:58:32.032208Z",
     "start_time": "2021-02-16T16:58:31.997739Z"
    }
   },
   "outputs": [],
   "source": [
    "X_train, X_test, y_train, y_test = read_data_rgr()"
   ]
  },
  {
   "cell_type": "code",
   "execution_count": 374,
   "id": "rural-battlefield",
   "metadata": {
    "ExecuteTime": {
     "end_time": "2021-02-16T16:58:32.974820Z",
     "start_time": "2021-02-16T16:58:32.970830Z"
    }
   },
   "outputs": [
    {
     "data": {
      "text/plain": [
       "37"
      ]
     },
     "execution_count": 374,
     "metadata": {},
     "output_type": "execute_result"
    }
   ],
   "source": [
    "X_train.shape[1]"
   ]
  },
  {
   "cell_type": "code",
   "execution_count": 375,
   "id": "developmental-customs",
   "metadata": {
    "ExecuteTime": {
     "end_time": "2021-02-16T16:58:33.663671Z",
     "start_time": "2021-02-16T16:58:33.660598Z"
    }
   },
   "outputs": [],
   "source": [
    "model = DecisionTreeRegressor(max_depth=4, random_state=24)"
   ]
  },
  {
   "cell_type": "code",
   "execution_count": 376,
   "id": "faced-litigation",
   "metadata": {
    "ExecuteTime": {
     "end_time": "2021-02-16T16:58:34.110953Z",
     "start_time": "2021-02-16T16:58:34.098415Z"
    }
   },
   "outputs": [
    {
     "data": {
      "text/plain": [
       "DecisionTreeRegressor(max_depth=4, random_state=24)"
      ]
     },
     "execution_count": 376,
     "metadata": {},
     "output_type": "execute_result"
    }
   ],
   "source": [
    "model.fit(X_train.fillna(0),y_train)"
   ]
  },
  {
   "cell_type": "code",
   "execution_count": 377,
   "id": "raising-jones",
   "metadata": {
    "ExecuteTime": {
     "end_time": "2021-02-16T16:58:34.907020Z",
     "start_time": "2021-02-16T16:58:34.897256Z"
    }
   },
   "outputs": [
    {
     "name": "stdout",
     "output_type": "stream",
     "text": [
      "Train r2 score:0.8022834743726\n",
      "\n",
      "\n",
      "Test r2 score:0.6987736407191756\n"
     ]
    }
   ],
   "source": [
    "print(f\"Train r2 score:{r2_score(y_train,model.predict(X_train.fillna(0)))}\")\n",
    "print(\"\\n\")\n",
    "print(f\"Test r2 score:{r2_score(y_test,model.predict(X_test.fillna(0)))}\")"
   ]
  },
  {
   "cell_type": "code",
   "execution_count": 378,
   "id": "resistant-colon",
   "metadata": {
    "ExecuteTime": {
     "end_time": "2021-02-16T16:58:59.959279Z",
     "start_time": "2021-02-16T16:58:59.955664Z"
    }
   },
   "outputs": [],
   "source": [
    "feature_importance = pd.Series(\n",
    "    model.feature_importances_, index=X_train.columns).sort_values(ascending=False)"
   ]
  },
  {
   "cell_type": "code",
   "execution_count": 379,
   "id": "broken-boxing",
   "metadata": {
    "ExecuteTime": {
     "end_time": "2021-02-16T16:59:04.516951Z",
     "start_time": "2021-02-16T16:59:04.183645Z"
    }
   },
   "outputs": [
    {
     "data": {
      "image/png": "[encoded data removed]",
      "text/plain": [
       "<Figure size 1080x576 with 1 Axes>"
      ]
     },
     "metadata": {},
     "output_type": "display_data"
    }
   ],
   "source": [
    "plt.figure(figsize=(15,8))\n",
    "feature_importance.sort_values(ascending=False)[:20].plot.bar()\n",
    "plt.title(\"Top 20 performance by variable\")\n",
    "plt.xlabel(\"Variable\")\n",
    "plt.ylabel(\"Performance\")\n",
    "plt.show()"
   ]
  },
  {
   "cell_type": "code",
   "execution_count": 381,
   "id": "complete-narrow",
   "metadata": {
    "ExecuteTime": {
     "end_time": "2021-02-16T17:00:59.885613Z",
     "start_time": "2021-02-16T17:00:59.874490Z"
    }
   },
   "outputs": [
    {
     "name": "stdout",
     "output_type": "stream",
     "text": [
      "Test r2 score: 0.6988690455776658.\n"
     ]
    }
   ],
   "source": [
    "feature_importance.index[0]\n",
    "# Create model with the best  feature\n",
    "model_one_feature = model.fit(\n",
    "    X_train[feature_importance.index[0]].to_frame(), y_train)\n",
    "\n",
    "# Performance with the best feature\n",
    "\n",
    "r2_one_feature = r2_score(y_test, model_one_feature.predict(\n",
    "    X_test[feature_importance.index[0]].fillna(0).to_frame()))\n",
    "print(f\"Test r2 score: {r2_one_feature}.\")"
   ]
  },
  {
   "cell_type": "code",
   "execution_count": 383,
   "id": "designed-explosion",
   "metadata": {
    "ExecuteTime": {
     "end_time": "2021-02-16T17:02:35.913751Z",
     "start_time": "2021-02-16T17:02:35.684595Z"
    }
   },
   "outputs": [],
   "source": [
    "tol = 0.0001\n",
    "\n",
    "features_to_keep = [feature_importance.index[0]]\n",
    "\n",
    "for feature in feature_importance[1:].index:\n",
    "\n",
    "    # initialise model\n",
    "    model_int = DecisionTreeRegressor(max_depth=4, random_state=24)\n",
    "\n",
    "    # fit model with the selected features\n",
    "    # and the feature to be evaluated\n",
    "    model_int.fit(\n",
    "        X_train[features_to_keep + [feature]].fillna(0), y_train)\n",
    "\n",
    "    # make a prediction over the test set\n",
    "    y_pred_test = model_int.predict(\n",
    "        X_test[features_to_keep + [feature]].fillna(0))\n",
    "\n",
    "    # calculate the new roc-auc\n",
    "    r2_int = r2_score(y_test, y_pred_test)\n",
    "\n",
    "    # determine the increase in the roc-auc\n",
    "    diff_roc = r2_int - r2_one_feature\n",
    "\n",
    "    # compare the increase in roc-auc with the tolerance\n",
    "    # we set previously\n",
    "    if diff_roc >= tol:\n",
    "        r2_one_feature = r2_int\n",
    "        features_to_keep.append(feature)"
   ]
  },
  {
   "cell_type": "code",
   "execution_count": 384,
   "id": "arbitrary-technician",
   "metadata": {
    "ExecuteTime": {
     "end_time": "2021-02-16T17:03:02.598055Z",
     "start_time": "2021-02-16T17:03:02.588881Z"
    }
   },
   "outputs": [
    {
     "data": {
      "text/html": [
       "<div>\n",
       "<style scoped>\n",
       "    .dataframe tbody tr th:only-of-type {\n",
       "        vertical-align: middle;\n",
       "    }\n",
       "\n",
       "    .dataframe tbody tr th {\n",
       "        vertical-align: top;\n",
       "    }\n",
       "\n",
       "    .dataframe thead th {\n",
       "        text-align: right;\n",
       "    }\n",
       "</style>\n",
       "<table border=\"1\" class=\"dataframe\">\n",
       "  <thead>\n",
       "    <tr style=\"text-align: right;\">\n",
       "      <th></th>\n",
       "      <th>OverallQual</th>\n",
       "      <th>2ndFlrSF</th>\n",
       "      <th>LotArea</th>\n",
       "      <th>Fireplaces</th>\n",
       "      <th>GarageCars</th>\n",
       "    </tr>\n",
       "  </thead>\n",
       "  <tbody>\n",
       "    <tr>\n",
       "      <th>615</th>\n",
       "      <td>6</td>\n",
       "      <td>0</td>\n",
       "      <td>8800</td>\n",
       "      <td>0</td>\n",
       "      <td>2</td>\n",
       "    </tr>\n",
       "    <tr>\n",
       "      <th>613</th>\n",
       "      <td>5</td>\n",
       "      <td>0</td>\n",
       "      <td>8402</td>\n",
       "      <td>0</td>\n",
       "      <td>0</td>\n",
       "    </tr>\n",
       "    <tr>\n",
       "      <th>1303</th>\n",
       "      <td>7</td>\n",
       "      <td>0</td>\n",
       "      <td>8688</td>\n",
       "      <td>0</td>\n",
       "      <td>3</td>\n",
       "    </tr>\n",
       "    <tr>\n",
       "      <th>486</th>\n",
       "      <td>5</td>\n",
       "      <td>0</td>\n",
       "      <td>10289</td>\n",
       "      <td>0</td>\n",
       "      <td>2</td>\n",
       "    </tr>\n",
       "    <tr>\n",
       "      <th>561</th>\n",
       "      <td>5</td>\n",
       "      <td>0</td>\n",
       "      <td>10010</td>\n",
       "      <td>1</td>\n",
       "      <td>2</td>\n",
       "    </tr>\n",
       "  </tbody>\n",
       "</table>\n",
       "</div>"
      ],
      "text/plain": [
       "      OverallQual  2ndFlrSF  LotArea  Fireplaces  GarageCars\n",
       "615             6         0     8800           0           2\n",
       "613             5         0     8402           0           0\n",
       "1303            7         0     8688           0           3\n",
       "486             5         0    10289           0           2\n",
       "561             5         0    10010           1           2"
      ]
     },
     "execution_count": 384,
     "metadata": {},
     "output_type": "execute_result"
    }
   ],
   "source": [
    "X_train[features_to_keep].head()"
   ]
  },
  {
   "cell_type": "code",
   "execution_count": 386,
   "id": "floral-ambassador",
   "metadata": {
    "ExecuteTime": {
     "end_time": "2021-02-16T17:03:58.886045Z",
     "start_time": "2021-02-16T17:03:58.882885Z"
    }
   },
   "outputs": [],
   "source": [
    "model = DecisionTreeRegressor(max_depth=4, random_state=24)"
   ]
  },
  {
   "cell_type": "code",
   "execution_count": 388,
   "id": "medium-western",
   "metadata": {
    "ExecuteTime": {
     "end_time": "2021-02-16T17:04:30.453296Z",
     "start_time": "2021-02-16T17:04:30.445747Z"
    }
   },
   "outputs": [
    {
     "data": {
      "text/plain": [
       "DecisionTreeRegressor(max_depth=4, random_state=24)"
      ]
     },
     "execution_count": 388,
     "metadata": {},
     "output_type": "execute_result"
    }
   ],
   "source": [
    "model.fit(X_train[features_to_keep].fillna(0),y_train)"
   ]
  },
  {
   "cell_type": "code",
   "execution_count": 389,
   "id": "cooked-chamber",
   "metadata": {
    "ExecuteTime": {
     "end_time": "2021-02-16T17:04:32.026307Z",
     "start_time": "2021-02-16T17:04:32.016381Z"
    }
   },
   "outputs": [
    {
     "name": "stdout",
     "output_type": "stream",
     "text": [
      "Train r2 score:0.7667932110933451\n",
      "\n",
      "\n",
      "Test r2 score:0.7987899524830595\n"
     ]
    }
   ],
   "source": [
    "print(f\"Train r2 score:{r2_score(y_train,model.predict(X_train[features_to_keep].fillna(0)))}\")\n",
    "print(\"\\n\")\n",
    "print(f\"Test r2 score:{r2_score(y_test,model.predict(X_test[features_to_keep].fillna(0)))}\")"
   ]
  },
  {
   "cell_type": "markdown",
   "id": "skilled-developer",
   "metadata": {},
   "source": [
    "More balanced model with fewer features!"
   ]
  },
  {
   "cell_type": "markdown",
   "id": "located-frame",
   "metadata": {},
   "source": [
    "## Feature-Engine"
   ]
  },
  {
   "cell_type": "markdown",
   "id": "familiar-composite",
   "metadata": {},
   "source": [
    "### Classification"
   ]
  },
  {
   "cell_type": "code",
   "execution_count": 394,
   "id": "faced-senior",
   "metadata": {
    "ExecuteTime": {
     "end_time": "2021-02-16T17:10:22.592986Z",
     "start_time": "2021-02-16T17:10:21.075712Z"
    }
   },
   "outputs": [],
   "source": [
    "X_train, X_test, y_train, y_test = read_data_clf()"
   ]
  },
  {
   "cell_type": "code",
   "execution_count": 395,
   "id": "stunning-publisher",
   "metadata": {
    "ExecuteTime": {
     "end_time": "2021-02-16T17:10:23.148403Z",
     "start_time": "2021-02-16T17:10:23.144247Z"
    }
   },
   "outputs": [
    {
     "data": {
      "text/plain": [
       "108"
      ]
     },
     "execution_count": 395,
     "metadata": {},
     "output_type": "execute_result"
    }
   ],
   "source": [
    "X_train.shape[1]"
   ]
  },
  {
   "cell_type": "code",
   "execution_count": 396,
   "id": "smooth-arrest",
   "metadata": {
    "ExecuteTime": {
     "end_time": "2021-02-16T17:10:24.168411Z",
     "start_time": "2021-02-16T17:10:24.164755Z"
    }
   },
   "outputs": [],
   "source": [
    "pipeline = Pipeline([\n",
    "    (\"DropConstant\", DropConstantFeatures(tol=0.998)),\n",
    "    (\"DropDuplicated\", DropDuplicateFeatures()),\n",
    "    (\"DropCorrelate\", DropCorrelatedFeatures()),\n",
    "    (\"FRA\", RecursiveFeatureAddition(estimator=GradientBoostingClassifier(n_estimators=10, max_depth=2),\n",
    "                                        variables=None,  # automatically evaluate all numerical variables\n",
    "                                        scoring='roc_auc',  # the metric we want to evalute\n",
    "                                        threshold=0.0001,  # the maximum performance drop allowed to remove a feature\n",
    "                                        cv=2,  # cross-validation\n",
    "                                        )\n",
    "     )\n",
    "])"
   ]
  },
  {
   "cell_type": "code",
   "execution_count": 399,
   "id": "inclusive-draft",
   "metadata": {
    "ExecuteTime": {
     "end_time": "2021-02-16T17:10:51.992499Z",
     "start_time": "2021-02-16T17:10:51.990132Z"
    }
   },
   "outputs": [],
   "source": [
    "model = GradientBoostingClassifier()"
   ]
  },
  {
   "cell_type": "code",
   "execution_count": 400,
   "id": "academic-badge",
   "metadata": {
    "ExecuteTime": {
     "end_time": "2021-02-16T17:13:01.949795Z",
     "start_time": "2021-02-16T17:10:53.038653Z"
    }
   },
   "outputs": [
    {
     "name": "stdout",
     "output_type": "stream",
     "text": [
      "Train roc-auc score:0.7430748012683438\n",
      "\n",
      "\n",
      "Test roc-auc score:0.7090326837315692\n"
     ]
    }
   ],
   "source": [
    "model.fit(X_train,y_train)\n",
    "print(f\"Train roc-auc score:{roc_auc_score(y_train,model.predict_proba(X_train.fillna(0))[:,1])}\")\n",
    "print(\"\\n\")\n",
    "print(f\"Test roc-auc score:{roc_auc_score(y_test,model.predict_proba(X_test.fillna(0))[:,1])}\")"
   ]
  },
  {
   "cell_type": "code",
   "execution_count": 401,
   "id": "freelance-curve",
   "metadata": {
    "ExecuteTime": {
     "end_time": "2021-02-16T17:13:36.611472Z",
     "start_time": "2021-02-16T17:13:02.198622Z"
    },
    "scrolled": false
   },
   "outputs": [
    {
     "data": {
      "text/plain": [
       "Pipeline(steps=[('DropConstant',\n",
       "                 DropConstantFeatures(tol=0.998,\n",
       "                                      variables=['var_1', 'var_2', 'var_3',\n",
       "                                                 'var_4', 'var_5', 'var_6',\n",
       "                                                 'var_7', 'var_8', 'var_9',\n",
       "                                                 'var_10', 'var_11', 'var_12',\n",
       "                                                 'var_13', 'var_14', 'var_15',\n",
       "                                                 'var_16', 'var_17', 'var_18',\n",
       "                                                 'var_19', 'var_20', 'var_21',\n",
       "                                                 'var_22', 'var_23', 'var_24',\n",
       "                                                 'var_25', 'var_26', 'var_27',\n",
       "                                                 'var_28', 'var_29', 'var_30', ...])),\n",
       "                ('DropDu...\n",
       "                                          estimator=GradientBoostingClassifier(max_depth=2,\n",
       "                                                                               n_estimators=10),\n",
       "                                          threshold=0.0001,\n",
       "                                          variables=['var_1', 'var_2', 'var_3',\n",
       "                                                     'var_4', 'var_5', 'var_6',\n",
       "                                                     'var_7', 'var_8', 'var_9',\n",
       "                                                     'var_10', 'var_11',\n",
       "                                                     'var_12', 'var_13',\n",
       "                                                     'var_14', 'var_15',\n",
       "                                                     'var_16', 'var_18',\n",
       "                                                     'var_19', 'var_20',\n",
       "                                                     'var_21', 'var_22',\n",
       "                                                     'var_23', 'var_25',\n",
       "                                                     'var_26', 'var_27',\n",
       "                                                     'var_30', 'var_31',\n",
       "                                                     'var_34', 'var_35',\n",
       "                                                     'var_36', ...]))])"
      ]
     },
     "execution_count": 401,
     "metadata": {},
     "output_type": "execute_result"
    }
   ],
   "source": [
    "pipeline.fit(X_train.fillna(0),y_train)"
   ]
  },
  {
   "cell_type": "code",
   "execution_count": 402,
   "id": "alone-champion",
   "metadata": {
    "ExecuteTime": {
     "end_time": "2021-02-16T17:13:36.918892Z",
     "start_time": "2021-02-16T17:13:36.837214Z"
    }
   },
   "outputs": [
    {
     "data": {
      "text/plain": [
       "4"
      ]
     },
     "execution_count": 402,
     "metadata": {},
     "output_type": "execute_result"
    }
   ],
   "source": [
    "pipeline.transform(X_train).shape[1]"
   ]
  },
  {
   "cell_type": "code",
   "execution_count": 408,
   "id": "atmospheric-routine",
   "metadata": {
    "ExecuteTime": {
     "end_time": "2021-02-16T17:17:14.990086Z",
     "start_time": "2021-02-16T17:17:14.974785Z"
    }
   },
   "outputs": [
    {
     "ename": "AttributeError",
     "evalue": "'RecursiveFeatureAddition' object has no attribute 'predict_proba'",
     "output_type": "error",
     "traceback": [
      "\u001b[0;31m---------------------------------------------------------------------------\u001b[0m",
      "\u001b[0;31mAttributeError\u001b[0m                            Traceback (most recent call last)",
      "\u001b[0;32m<ipython-input-408-e356f7d58419>\u001b[0m in \u001b[0;36m<module>\u001b[0;34m\u001b[0m\n\u001b[0;32m----> 1\u001b[0;31m \u001b[0mprint\u001b[0m\u001b[0;34m(\u001b[0m\u001b[0;34mf\"Train roc-auc score:{roc_auc_score(y_train,pipeline.predict_proba(X_train.fillna(0))[:,1])}\"\u001b[0m\u001b[0;34m)\u001b[0m\u001b[0;34m\u001b[0m\u001b[0;34m\u001b[0m\u001b[0m\n\u001b[0m\u001b[1;32m      2\u001b[0m \u001b[0mprint\u001b[0m\u001b[0;34m(\u001b[0m\u001b[0;34m\"\\n\"\u001b[0m\u001b[0;34m)\u001b[0m\u001b[0;34m\u001b[0m\u001b[0;34m\u001b[0m\u001b[0m\n\u001b[1;32m      3\u001b[0m \u001b[0mprint\u001b[0m\u001b[0;34m(\u001b[0m\u001b[0;34mf\"Test roc-auc score:{roc_auc_score(y_test,pipeline.predict_proba(X_test.fillna(0))[:,1])}\"\u001b[0m\u001b[0;34m)\u001b[0m\u001b[0;34m\u001b[0m\u001b[0;34m\u001b[0m\u001b[0m\n",
      "\u001b[0;32m~/opt/anaconda3/envs/ML/lib/python3.8/site-packages/sklearn/utils/metaestimators.py\u001b[0m in \u001b[0;36m__get__\u001b[0;34m(self, obj, type)\u001b[0m\n\u001b[1;32m    111\u001b[0m                     \u001b[0;32mcontinue\u001b[0m\u001b[0;34m\u001b[0m\u001b[0;34m\u001b[0m\u001b[0m\n\u001b[1;32m    112\u001b[0m                 \u001b[0;32melse\u001b[0m\u001b[0;34m:\u001b[0m\u001b[0;34m\u001b[0m\u001b[0;34m\u001b[0m\u001b[0m\n\u001b[0;32m--> 113\u001b[0;31m                     \u001b[0mgetattr\u001b[0m\u001b[0;34m(\u001b[0m\u001b[0mdelegate\u001b[0m\u001b[0;34m,\u001b[0m \u001b[0mself\u001b[0m\u001b[0;34m.\u001b[0m\u001b[0mattribute_name\u001b[0m\u001b[0;34m)\u001b[0m\u001b[0;34m\u001b[0m\u001b[0;34m\u001b[0m\u001b[0m\n\u001b[0m\u001b[1;32m    114\u001b[0m                     \u001b[0;32mbreak\u001b[0m\u001b[0;34m\u001b[0m\u001b[0;34m\u001b[0m\u001b[0m\n\u001b[1;32m    115\u001b[0m             \u001b[0;32melse\u001b[0m\u001b[0;34m:\u001b[0m\u001b[0;34m\u001b[0m\u001b[0;34m\u001b[0m\u001b[0m\n",
      "\u001b[0;31mAttributeError\u001b[0m: 'RecursiveFeatureAddition' object has no attribute 'predict_proba'"
     ]
    }
   ],
   "source": [
    "print(f\"Train roc-auc score:{roc_auc_score(y_train,pipeline.predict_proba(X_train.fillna(0))[:,1])}\")\n",
    "print(\"\\n\")\n",
    "print(f\"Test roc-auc score:{roc_auc_score(y_test,pipeline.predict_proba(X_test.fillna(0))[:,1])}\")"
   ]
  },
  {
   "cell_type": "markdown",
   "id": "treated-chick",
   "metadata": {},
   "source": [
    "### Regression"
   ]
  },
  {
   "cell_type": "code",
   "execution_count": null,
   "id": "criminal-oracle",
   "metadata": {},
   "outputs": [],
   "source": [
    "X_train, X_test, y_train, y_test = read_data_rgr()"
   ]
  },
  {
   "cell_type": "code",
   "execution_count": null,
   "id": "pediatric-sentence",
   "metadata": {},
   "outputs": [],
   "source": [
    "X_train.shape[1]"
   ]
  },
  {
   "cell_type": "code",
   "execution_count": null,
   "id": "daily-secretariat",
   "metadata": {},
   "outputs": [],
   "source": [
    "pipeline = Pipeline([\n",
    "    (\"DropConstant\", DropConstantFeatures(tol=0.998)),\n",
    "    (\"DropDuplicated\", DropDuplicateFeatures()),\n",
    "    (\"DropCorrelate\", DropCorrelatedFeatures()),\n",
    "    (\"FRe\", RecursiveFeatureElimination(estimator=GradientBoostingRegressor(n_estimators=10, max_depth=2),\n",
    "                                        variables=None,  # automatically evaluate all numerical variables\n",
    "                                        scoring='r2',  # the metric we want to evalute\n",
    "                                        threshold=0.0001,  # the maximum performance drop allowed to remove a feature\n",
    "                                        cv=3,  # cross-validation\n",
    "                                        )\n",
    "     )\n",
    "])"
   ]
  },
  {
   "cell_type": "code",
   "execution_count": null,
   "id": "floral-costs",
   "metadata": {},
   "outputs": [],
   "source": [
    "model = GradientBoostingRegressor(n_estimators=10, max_depth=4, random_state=10)"
   ]
  },
  {
   "cell_type": "code",
   "execution_count": null,
   "id": "identical-yield",
   "metadata": {},
   "outputs": [],
   "source": [
    "model.fit(X_train.fillna(0),y_train)"
   ]
  },
  {
   "cell_type": "code",
   "execution_count": null,
   "id": "reported-aging",
   "metadata": {},
   "outputs": [],
   "source": [
    "print(f\"Train r2 score:{r2_score(y_train,model.predict(X_train.fillna(0)))}\")\n",
    "print(\"\\n\")\n",
    "print(f\"Test r2 score:{r2_score(y_test,model.predict(X_test.fillna(0)))}\")"
   ]
  },
  {
   "cell_type": "code",
   "execution_count": null,
   "id": "homeless-snapshot",
   "metadata": {},
   "outputs": [],
   "source": [
    "pipeline.fit(X_train.fillna(0),y_train)"
   ]
  },
  {
   "cell_type": "code",
   "execution_count": null,
   "id": "objective-conjunction",
   "metadata": {},
   "outputs": [],
   "source": [
    "pipeline.transform(X_train).shape[1]"
   ]
  },
  {
   "cell_type": "code",
   "execution_count": null,
   "id": "liable-pathology",
   "metadata": {},
   "outputs": [],
   "source": [
    "print(f\"Train r2 score:{r2_score(y_train,model.predict(X_train.fillna(0)))}\")\n",
    "print(\"\\n\")\n",
    "print(f\"Test r2 score:{r2_score(y_test,model.predict(X_test.fillna(0)))}\")"
   ]
  },
  {
   "cell_type": "code",
   "execution_count": null,
   "id": "conscious-honolulu",
   "metadata": {},
   "outputs": [],
   "source": []
  },
  {
   "cell_type": "code",
   "execution_count": null,
   "id": "shared-brother",
   "metadata": {},
   "outputs": [],
   "source": []
  },
  {
   "cell_type": "code",
   "execution_count": null,
   "id": "exempt-estate",
   "metadata": {},
   "outputs": [],
   "source": []
  },
  {
   "cell_type": "code",
   "execution_count": null,
   "id": "brutal-louisiana",
   "metadata": {},
   "outputs": [],
   "source": []
  },
  {
   "cell_type": "code",
   "execution_count": null,
   "id": "dangerous-anniversary",
   "metadata": {},
   "outputs": [],
   "source": []
  },
  {
   "cell_type": "code",
   "execution_count": null,
   "id": "recorded-dutch",
   "metadata": {},
   "outputs": [],
   "source": []
  },
  {
   "cell_type": "code",
   "execution_count": null,
   "id": "japanese-hepatitis",
   "metadata": {},
   "outputs": [],
   "source": []
  },
  {
   "cell_type": "code",
   "execution_count": null,
   "id": "tested-moore",
   "metadata": {},
   "outputs": [],
   "source": []
  },
  {
   "cell_type": "code",
   "execution_count": null,
   "id": "applicable-moore",
   "metadata": {},
   "outputs": [],
   "source": []
  },
  {
   "cell_type": "code",
   "execution_count": null,
   "id": "selected-bench",
   "metadata": {},
   "outputs": [],
   "source": []
  }
 ],
 "metadata": {
  "hide_input": false,
  "kernelspec": {
   "display_name": "Python 3",
   "language": "python",
   "name": "python3"
  },
  "language_info": {
   "codemirror_mode": {
    "name": "ipython",
    "version": 3
   },
   "file_extension": ".py",
   "mimetype": "text/x-python",
   "name": "python",
   "nbconvert_exporter": "python",
   "pygments_lexer": "ipython3",
   "version": "3.8.5"
  },
  "toc": {
   "base_numbering": 1,
   "nav_menu": {},
   "number_sections": true,
   "sideBar": true,
   "skip_h1_title": false,
   "title_cell": "Table of Contents",
   "title_sidebar": "Contents",
   "toc_cell": false,
   "toc_position": {
    "height": "calc(100% - 180px)",
    "left": "10px",
    "top": "150px",
    "width": "358.390625px"
   },
   "toc_section_display": true,
   "toc_window_display": true
  },
  "varInspector": {
   "cols": {
    "lenName": 16,
    "lenType": 16,
    "lenVar": 40
   },
   "kernels_config": {
    "python": {
     "delete_cmd_postfix": "",
     "delete_cmd_prefix": "del ",
     "library": "var_list.py",
     "varRefreshCmd": "print(var_dic_list())"
    },
    "r": {
     "delete_cmd_postfix": ") ",
     "delete_cmd_prefix": "rm(",
     "library": "var_list.r",
     "varRefreshCmd": "cat(var_dic_list()) "
    }
   },
   "types_to_exclude": [
    "module",
    "function",
    "builtin_function_or_method",
    "instance",
    "_Feature"
   ],
   "window_display": false
  }
 },
 "nbformat": 4,
 "nbformat_minor": 5
}
