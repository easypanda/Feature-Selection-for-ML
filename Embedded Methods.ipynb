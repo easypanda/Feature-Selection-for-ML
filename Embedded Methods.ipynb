{
 "cells": [
  {
   "cell_type": "code",
   "execution_count": 1,
   "id": "pressing-healing",
   "metadata": {
    "ExecuteTime": {
     "end_time": "2021-02-15T20:11:06.007924Z",
     "start_time": "2021-02-15T20:11:04.528891Z"
    }
   },
   "outputs": [],
   "source": [
    "#import librairies\n",
    "\n",
    "import pandas as pd\n",
    "import numpy as np\n",
    "\n",
    "import matplotlib.pyplot as plt\n",
    "import seaborn as sns\n",
    "sns.set_style(\"whitegrid\")\n",
    "\n",
    "from sklearn.linear_model import LogisticRegression, LinearRegression, Lasso\n",
    "from sklearn.model_selection import train_test_split\n",
    "from sklearn.metrics import roc_auc_score, r2_score\n",
    "from sklearn.preprocessing import StandardScaler\n",
    "from sklearn.feature_selection import SelectFromModel\n",
    "from sklearn.pipeline import Pipeline\n",
    "\n",
    "from feature_engine.selection import DropDuplicateFeatures, DropCorrelatedFeatures, DropConstantFeatures "
   ]
  },
  {
   "cell_type": "markdown",
   "id": "tribal-satisfaction",
   "metadata": {},
   "source": [
    "# Linear Method"
   ]
  },
  {
   "cell_type": "markdown",
   "id": "listed-humor",
   "metadata": {},
   "source": [
    "The coefficients of a linear predictor are directly proportional on how much that feature contributes to the final value of Y.\n",
    "\n",
    "But for linear models, a few assomptions are made:\n",
    "   * Linear relationship between predictors (Xs) and target (Y).\n",
    "   * Predictors are independent.\n",
    "   * Predictors are not correlated between themselves(no-multicollinearity).\n",
    "   * Normally distributed.\n",
    "   * And same scale because the magnitude of the coefficients is directly influenced by the scale of the features. \n",
    "   * Homoscedasticty (variance should be the same) -> The error term is the same across all values of the independent variables. Also known as homogeneity of variance.\n",
    "  \n",
    "In general, stronger regularization returns smaller coefficient."
   ]
  },
  {
   "cell_type": "markdown",
   "id": "durable-solomon",
   "metadata": {},
   "source": [
    "## Classification - Logistic Regression coefficient"
   ]
  },
  {
   "cell_type": "code",
   "execution_count": 2,
   "id": "announced-member",
   "metadata": {
    "ExecuteTime": {
     "end_time": "2021-02-15T20:11:06.900973Z",
     "start_time": "2021-02-15T20:11:06.009381Z"
    }
   },
   "outputs": [],
   "source": [
    "df = pd.read_csv(\"./precleaned-datasets/dataset_2.csv\")"
   ]
  },
  {
   "cell_type": "code",
   "execution_count": 3,
   "id": "spoken-xerox",
   "metadata": {
    "ExecuteTime": {
     "end_time": "2021-02-15T20:11:06.928484Z",
     "start_time": "2021-02-15T20:11:06.903519Z"
    }
   },
   "outputs": [
    {
     "data": {
      "text/html": [
       "<div>\n",
       "<style scoped>\n",
       "    .dataframe tbody tr th:only-of-type {\n",
       "        vertical-align: middle;\n",
       "    }\n",
       "\n",
       "    .dataframe tbody tr th {\n",
       "        vertical-align: top;\n",
       "    }\n",
       "\n",
       "    .dataframe thead th {\n",
       "        text-align: right;\n",
       "    }\n",
       "</style>\n",
       "<table border=\"1\" class=\"dataframe\">\n",
       "  <thead>\n",
       "    <tr style=\"text-align: right;\">\n",
       "      <th></th>\n",
       "      <th>var_1</th>\n",
       "      <th>var_2</th>\n",
       "      <th>var_3</th>\n",
       "      <th>var_4</th>\n",
       "      <th>var_5</th>\n",
       "      <th>var_6</th>\n",
       "      <th>var_7</th>\n",
       "      <th>var_8</th>\n",
       "      <th>var_9</th>\n",
       "      <th>var_10</th>\n",
       "      <th>...</th>\n",
       "      <th>var_100</th>\n",
       "      <th>var_101</th>\n",
       "      <th>var_102</th>\n",
       "      <th>var_103</th>\n",
       "      <th>var_104</th>\n",
       "      <th>var_105</th>\n",
       "      <th>var_106</th>\n",
       "      <th>var_107</th>\n",
       "      <th>var_108</th>\n",
       "      <th>var_109</th>\n",
       "    </tr>\n",
       "  </thead>\n",
       "  <tbody>\n",
       "    <tr>\n",
       "      <th>0</th>\n",
       "      <td>4.532710</td>\n",
       "      <td>3.280834</td>\n",
       "      <td>17.982476</td>\n",
       "      <td>4.404259</td>\n",
       "      <td>2.349910</td>\n",
       "      <td>0.603264</td>\n",
       "      <td>2.784655</td>\n",
       "      <td>0.323146</td>\n",
       "      <td>12.009691</td>\n",
       "      <td>0.139346</td>\n",
       "      <td>...</td>\n",
       "      <td>2.079066</td>\n",
       "      <td>6.748819</td>\n",
       "      <td>2.941445</td>\n",
       "      <td>18.360496</td>\n",
       "      <td>17.726613</td>\n",
       "      <td>7.774031</td>\n",
       "      <td>1.473441</td>\n",
       "      <td>1.973832</td>\n",
       "      <td>0.976806</td>\n",
       "      <td>2.541417</td>\n",
       "    </tr>\n",
       "    <tr>\n",
       "      <th>1</th>\n",
       "      <td>5.821374</td>\n",
       "      <td>12.098722</td>\n",
       "      <td>13.309151</td>\n",
       "      <td>4.125599</td>\n",
       "      <td>1.045386</td>\n",
       "      <td>1.832035</td>\n",
       "      <td>1.833494</td>\n",
       "      <td>0.709090</td>\n",
       "      <td>8.652883</td>\n",
       "      <td>0.102757</td>\n",
       "      <td>...</td>\n",
       "      <td>2.479789</td>\n",
       "      <td>7.795290</td>\n",
       "      <td>3.557890</td>\n",
       "      <td>17.383378</td>\n",
       "      <td>15.193423</td>\n",
       "      <td>8.263673</td>\n",
       "      <td>1.878108</td>\n",
       "      <td>0.567939</td>\n",
       "      <td>1.018818</td>\n",
       "      <td>1.416433</td>\n",
       "    </tr>\n",
       "    <tr>\n",
       "      <th>2</th>\n",
       "      <td>1.938776</td>\n",
       "      <td>7.952752</td>\n",
       "      <td>0.972671</td>\n",
       "      <td>3.459267</td>\n",
       "      <td>1.935782</td>\n",
       "      <td>0.621463</td>\n",
       "      <td>2.338139</td>\n",
       "      <td>0.344948</td>\n",
       "      <td>9.937850</td>\n",
       "      <td>11.691283</td>\n",
       "      <td>...</td>\n",
       "      <td>1.861487</td>\n",
       "      <td>6.130886</td>\n",
       "      <td>3.401064</td>\n",
       "      <td>15.850471</td>\n",
       "      <td>14.620599</td>\n",
       "      <td>6.849776</td>\n",
       "      <td>1.098210</td>\n",
       "      <td>1.959183</td>\n",
       "      <td>1.575493</td>\n",
       "      <td>1.857893</td>\n",
       "    </tr>\n",
       "    <tr>\n",
       "      <th>3</th>\n",
       "      <td>6.020690</td>\n",
       "      <td>9.900544</td>\n",
       "      <td>17.869637</td>\n",
       "      <td>4.366715</td>\n",
       "      <td>1.973693</td>\n",
       "      <td>2.026012</td>\n",
       "      <td>2.853025</td>\n",
       "      <td>0.674847</td>\n",
       "      <td>11.816859</td>\n",
       "      <td>0.011151</td>\n",
       "      <td>...</td>\n",
       "      <td>1.340944</td>\n",
       "      <td>7.240058</td>\n",
       "      <td>2.417235</td>\n",
       "      <td>15.194609</td>\n",
       "      <td>13.553772</td>\n",
       "      <td>7.229971</td>\n",
       "      <td>0.835158</td>\n",
       "      <td>2.234482</td>\n",
       "      <td>0.946170</td>\n",
       "      <td>2.700606</td>\n",
       "    </tr>\n",
       "    <tr>\n",
       "      <th>4</th>\n",
       "      <td>3.909506</td>\n",
       "      <td>10.576516</td>\n",
       "      <td>0.934191</td>\n",
       "      <td>3.419572</td>\n",
       "      <td>1.871438</td>\n",
       "      <td>3.340811</td>\n",
       "      <td>1.868282</td>\n",
       "      <td>0.439865</td>\n",
       "      <td>13.585620</td>\n",
       "      <td>1.153366</td>\n",
       "      <td>...</td>\n",
       "      <td>2.738095</td>\n",
       "      <td>6.565509</td>\n",
       "      <td>4.341414</td>\n",
       "      <td>15.893832</td>\n",
       "      <td>11.929787</td>\n",
       "      <td>6.954033</td>\n",
       "      <td>1.853364</td>\n",
       "      <td>0.511027</td>\n",
       "      <td>2.599562</td>\n",
       "      <td>0.811364</td>\n",
       "    </tr>\n",
       "  </tbody>\n",
       "</table>\n",
       "<p>5 rows × 109 columns</p>\n",
       "</div>"
      ],
      "text/plain": [
       "      var_1      var_2      var_3     var_4     var_5     var_6     var_7  \\\n",
       "0  4.532710   3.280834  17.982476  4.404259  2.349910  0.603264  2.784655   \n",
       "1  5.821374  12.098722  13.309151  4.125599  1.045386  1.832035  1.833494   \n",
       "2  1.938776   7.952752   0.972671  3.459267  1.935782  0.621463  2.338139   \n",
       "3  6.020690   9.900544  17.869637  4.366715  1.973693  2.026012  2.853025   \n",
       "4  3.909506  10.576516   0.934191  3.419572  1.871438  3.340811  1.868282   \n",
       "\n",
       "      var_8      var_9     var_10  ...   var_100   var_101   var_102  \\\n",
       "0  0.323146  12.009691   0.139346  ...  2.079066  6.748819  2.941445   \n",
       "1  0.709090   8.652883   0.102757  ...  2.479789  7.795290  3.557890   \n",
       "2  0.344948   9.937850  11.691283  ...  1.861487  6.130886  3.401064   \n",
       "3  0.674847  11.816859   0.011151  ...  1.340944  7.240058  2.417235   \n",
       "4  0.439865  13.585620   1.153366  ...  2.738095  6.565509  4.341414   \n",
       "\n",
       "     var_103    var_104   var_105   var_106   var_107   var_108   var_109  \n",
       "0  18.360496  17.726613  7.774031  1.473441  1.973832  0.976806  2.541417  \n",
       "1  17.383378  15.193423  8.263673  1.878108  0.567939  1.018818  1.416433  \n",
       "2  15.850471  14.620599  6.849776  1.098210  1.959183  1.575493  1.857893  \n",
       "3  15.194609  13.553772  7.229971  0.835158  2.234482  0.946170  2.700606  \n",
       "4  15.893832  11.929787  6.954033  1.853364  0.511027  2.599562  0.811364  \n",
       "\n",
       "[5 rows x 109 columns]"
      ]
     },
     "execution_count": 3,
     "metadata": {},
     "output_type": "execute_result"
    }
   ],
   "source": [
    "df.head()"
   ]
  },
  {
   "cell_type": "code",
   "execution_count": 4,
   "id": "broad-turkish",
   "metadata": {
    "ExecuteTime": {
     "end_time": "2021-02-15T20:11:06.962239Z",
     "start_time": "2021-02-15T20:11:06.930855Z"
    }
   },
   "outputs": [],
   "source": [
    "df = df[[x for x in df.columns if df[x].dtype != \"object\"]]"
   ]
  },
  {
   "cell_type": "code",
   "execution_count": 5,
   "id": "practical-intellectual",
   "metadata": {
    "ExecuteTime": {
     "end_time": "2021-02-15T20:11:07.036307Z",
     "start_time": "2021-02-15T20:11:06.964069Z"
    }
   },
   "outputs": [],
   "source": [
    "X_train, X_test, y_train, y_test = train_test_split(df.drop(\n",
    "    labels=[\"target\"], axis=1), df[\"target\"], test_size=0.33, random_state=42)"
   ]
  },
  {
   "cell_type": "code",
   "execution_count": 6,
   "id": "pressing-defeat",
   "metadata": {
    "ExecuteTime": {
     "end_time": "2021-02-15T20:11:07.040539Z",
     "start_time": "2021-02-15T20:11:07.038058Z"
    }
   },
   "outputs": [],
   "source": [
    "pipeline = Pipeline([\n",
    "    (\"Scaler\", StandardScaler()),  # Scale the data\n",
    "    (\"ModelSelect\", SelectFromModel(LogisticRegression(\n",
    "        C=1000, penalty=\"l2\", solver=\"liblinear\")))  # Select the best features using ridge regularization (C is for the strenght of the regularization)\n",
    "])"
   ]
  },
  {
   "cell_type": "code",
   "execution_count": 7,
   "id": "elegant-artwork",
   "metadata": {
    "ExecuteTime": {
     "end_time": "2021-02-15T20:11:09.953126Z",
     "start_time": "2021-02-15T20:11:07.041884Z"
    }
   },
   "outputs": [
    {
     "data": {
      "text/plain": [
       "array([[-0.2157236 , -0.44791643,  0.14626203, ...,  0.11883367,\n",
       "        -0.37697441, -0.99025251],\n",
       "       [ 1.02309158, -0.44791643,  1.21222541, ..., -1.95357092,\n",
       "        -0.9715004 , -0.04318612],\n",
       "       [ 0.48774282, -0.44791643, -0.09820128, ..., -0.15745202,\n",
       "         0.01110261, -0.09315571],\n",
       "       ...,\n",
       "       [-1.51273686, -0.44791643,  0.22769051, ...,  0.8883904 ,\n",
       "        -0.3671743 , -0.09007849],\n",
       "       [ 0.86083838, -0.44791643,  0.78951674, ..., -0.39171537,\n",
       "        -0.43169042, -0.66321598],\n",
       "       [ 0.86782015, -0.44791643,  1.85248826, ..., -0.30055152,\n",
       "         0.59321507, -0.47288799]])"
      ]
     },
     "execution_count": 7,
     "metadata": {},
     "output_type": "execute_result"
    }
   ],
   "source": [
    "pipeline.fit_transform(X_train,y_train)"
   ]
  },
  {
   "cell_type": "code",
   "execution_count": 8,
   "id": "charged-broadcast",
   "metadata": {
    "ExecuteTime": {
     "end_time": "2021-02-15T20:11:09.960556Z",
     "start_time": "2021-02-15T20:11:09.957010Z"
    }
   },
   "outputs": [
    {
     "data": {
      "text/plain": [
       "array([False, False,  True, False, False, False, False, False, False,\n",
       "       False, False, False, False, False, False,  True, False, False,\n",
       "       False, False,  True, False,  True, False, False, False, False,\n",
       "       False, False, False, False,  True,  True, False,  True, False,\n",
       "       False, False,  True,  True, False, False, False, False, False,\n",
       "       False, False,  True, False, False, False, False, False, False,\n",
       "        True,  True,  True, False,  True,  True, False, False, False,\n",
       "       False, False, False, False, False,  True, False, False, False,\n",
       "        True, False, False, False, False, False,  True, False, False,\n",
       "       False, False, False, False,  True,  True,  True,  True,  True,\n",
       "       False, False, False,  True, False, False,  True, False,  True,\n",
       "        True,  True, False,  True, False, False, False,  True,  True])"
      ]
     },
     "execution_count": 8,
     "metadata": {},
     "output_type": "execute_result"
    }
   ],
   "source": [
    "# Features with coefficient greater than the means of all the coefficient in the dataset\n",
    "pipeline[\"ModelSelect\"].get_support()"
   ]
  },
  {
   "cell_type": "code",
   "execution_count": 9,
   "id": "significant-walnut",
   "metadata": {
    "ExecuteTime": {
     "end_time": "2021-02-15T20:11:09.966409Z",
     "start_time": "2021-02-15T20:11:09.963711Z"
    }
   },
   "outputs": [
    {
     "name": "stdout",
     "output_type": "stream",
     "text": [
      "Number of features selected: 31\n"
     ]
    }
   ],
   "source": [
    "print(f\"Number of features selected: {len(X_train.columns[pipeline['ModelSelect'].get_support()])}\")"
   ]
  },
  {
   "cell_type": "code",
   "execution_count": 10,
   "id": "latest-bullet",
   "metadata": {
    "ExecuteTime": {
     "end_time": "2021-02-15T20:11:10.160778Z",
     "start_time": "2021-02-15T20:11:09.967978Z"
    }
   },
   "outputs": [
    {
     "data": {
      "text/plain": [
       "<AxesSubplot:>"
      ]
     },
     "execution_count": 10,
     "metadata": {},
     "output_type": "execute_result"
    },
    {
     "data": {
      "image/png": "[encoded data removed]",
      "text/plain": [
       "<Figure size 432x288 with 1 Axes>"
      ]
     },
     "metadata": {},
     "output_type": "display_data"
    }
   ],
   "source": [
    "pd.Series(pipeline['ModelSelect'].estimator_.coef_.ravel()).hist()"
   ]
  },
  {
   "cell_type": "code",
   "execution_count": 11,
   "id": "smaller-academy",
   "metadata": {
    "ExecuteTime": {
     "end_time": "2021-02-15T20:11:10.314394Z",
     "start_time": "2021-02-15T20:11:10.162524Z"
    }
   },
   "outputs": [
    {
     "data": {
      "text/plain": [
       "<AxesSubplot:>"
      ]
     },
     "execution_count": 11,
     "metadata": {},
     "output_type": "execute_result"
    },
    {
     "data": {
      "image/png": "[encoded data removed]",
      "text/plain": [
       "<Figure size 432x288 with 1 Axes>"
      ]
     },
     "metadata": {},
     "output_type": "display_data"
    }
   ],
   "source": [
    "pd.Series(abs(pipeline['ModelSelect'].estimator_.coef_.ravel())).hist()"
   ]
  },
  {
   "cell_type": "markdown",
   "id": "interim-rabbit",
   "metadata": {},
   "source": [
    "Majority of the coefficients are close to zero... only on feature has a very high coefficient."
   ]
  },
  {
   "cell_type": "code",
   "execution_count": 12,
   "id": "dominican-heater",
   "metadata": {
    "ExecuteTime": {
     "end_time": "2021-02-15T20:11:10.320259Z",
     "start_time": "2021-02-15T20:11:10.316308Z"
    }
   },
   "outputs": [
    {
     "name": "stdout",
     "output_type": "stream",
     "text": [
      "total features: 108\n",
      "selected features: 31\n",
      "features with coefficients greater than the mean coefficient: 31\n"
     ]
    }
   ],
   "source": [
    "print('total features: {}'.format((X_train.shape[1])))\n",
    "\n",
    "print('selected features: {}'.format(len(X_train.columns[pipeline['ModelSelect'].get_support()])))\n",
    "\n",
    "print(\n",
    "    'features with coefficients greater than the mean coefficient: {}'.format(\n",
    "        np.sum(\n",
    "            np.abs(pipeline['ModelSelect'].estimator_.coef_) > np.abs(\n",
    "                pipeline['ModelSelect'].estimator_.coef_).mean())))"
   ]
  },
  {
   "cell_type": "markdown",
   "id": "modular-affect",
   "metadata": {},
   "source": [
    "The algorithm will select all the features with a coefficients greater than the mean coefficient, but we can modify this threshold if we want to using a different threshold in SelectFromModel."
   ]
  },
  {
   "cell_type": "markdown",
   "id": "empirical-flavor",
   "metadata": {},
   "source": [
    "**Example with different regularization parameters**"
   ]
  },
  {
   "cell_type": "code",
   "execution_count": 13,
   "id": "swiss-adrian",
   "metadata": {
    "ExecuteTime": {
     "end_time": "2021-02-15T20:11:22.048812Z",
     "start_time": "2021-02-15T20:11:10.322444Z"
    }
   },
   "outputs": [],
   "source": [
    "# From highly regularized to non-regularized.\n",
    "coefs_c = [1, 10, 100, 1000]\n",
    "coefficients = []\n",
    "for c in coefs_c:\n",
    "    pipeline = Pipeline([\n",
    "        (\"Scaler\", StandardScaler()),  # Scale the data\n",
    "        (\"ModelSelect\", SelectFromModel(LogisticRegression(\n",
    "            C=c, penalty=\"l2\", solver=\"liblinear\")))  # Select the best features\n",
    "    ])\n",
    "    pipeline.fit_transform(X_train.fillna(0), y_train)\n",
    "    coefficients.append(\n",
    "        pd.Series(pipeline['ModelSelect'].estimator_.coef_.ravel()))\n",
    "\n",
    "coefficients = pd.concat(coefficients, axis=1)\n",
    "coefficients.columns = coefs_c"
   ]
  },
  {
   "cell_type": "code",
   "execution_count": 14,
   "id": "illegal-third",
   "metadata": {
    "ExecuteTime": {
     "end_time": "2021-02-15T20:11:22.058882Z",
     "start_time": "2021-02-15T20:11:22.050712Z"
    }
   },
   "outputs": [
    {
     "data": {
      "text/html": [
       "<div>\n",
       "<style scoped>\n",
       "    .dataframe tbody tr th:only-of-type {\n",
       "        vertical-align: middle;\n",
       "    }\n",
       "\n",
       "    .dataframe tbody tr th {\n",
       "        vertical-align: top;\n",
       "    }\n",
       "\n",
       "    .dataframe thead th {\n",
       "        text-align: right;\n",
       "    }\n",
       "</style>\n",
       "<table border=\"1\" class=\"dataframe\">\n",
       "  <thead>\n",
       "    <tr style=\"text-align: right;\">\n",
       "      <th></th>\n",
       "      <th>1</th>\n",
       "      <th>10</th>\n",
       "      <th>100</th>\n",
       "      <th>1000</th>\n",
       "    </tr>\n",
       "  </thead>\n",
       "  <tbody>\n",
       "    <tr>\n",
       "      <th>0</th>\n",
       "      <td>0.028540</td>\n",
       "      <td>0.028774</td>\n",
       "      <td>0.028798</td>\n",
       "      <td>0.028791</td>\n",
       "    </tr>\n",
       "    <tr>\n",
       "      <th>1</th>\n",
       "      <td>-0.018899</td>\n",
       "      <td>-0.018918</td>\n",
       "      <td>-0.018913</td>\n",
       "      <td>-0.018913</td>\n",
       "    </tr>\n",
       "    <tr>\n",
       "      <th>2</th>\n",
       "      <td>0.165685</td>\n",
       "      <td>0.171212</td>\n",
       "      <td>0.171786</td>\n",
       "      <td>0.171752</td>\n",
       "    </tr>\n",
       "    <tr>\n",
       "      <th>3</th>\n",
       "      <td>-0.002560</td>\n",
       "      <td>-0.002344</td>\n",
       "      <td>-0.002311</td>\n",
       "      <td>-0.002337</td>\n",
       "    </tr>\n",
       "    <tr>\n",
       "      <th>4</th>\n",
       "      <td>0.047484</td>\n",
       "      <td>0.047796</td>\n",
       "      <td>0.047824</td>\n",
       "      <td>0.047826</td>\n",
       "    </tr>\n",
       "  </tbody>\n",
       "</table>\n",
       "</div>"
      ],
      "text/plain": [
       "       1         10        100       1000\n",
       "0  0.028540  0.028774  0.028798  0.028791\n",
       "1 -0.018899 -0.018918 -0.018913 -0.018913\n",
       "2  0.165685  0.171212  0.171786  0.171752\n",
       "3 -0.002560 -0.002344 -0.002311 -0.002337\n",
       "4  0.047484  0.047796  0.047824  0.047826"
      ]
     },
     "execution_count": 14,
     "metadata": {},
     "output_type": "execute_result"
    }
   ],
   "source": [
    "coefficients.head()"
   ]
  },
  {
   "cell_type": "markdown",
   "id": "weighted-madagascar",
   "metadata": {},
   "source": [
    "## Regression - Linear Model"
   ]
  },
  {
   "cell_type": "code",
   "execution_count": 15,
   "id": "stone-football",
   "metadata": {
    "ExecuteTime": {
     "end_time": "2021-02-15T20:11:22.096126Z",
     "start_time": "2021-02-15T20:11:22.060665Z"
    }
   },
   "outputs": [],
   "source": [
    "df = pd.read_csv(\"./house-prices-advanced-regression-techniques/train.csv\")"
   ]
  },
  {
   "cell_type": "code",
   "execution_count": 16,
   "id": "intense-excerpt",
   "metadata": {
    "ExecuteTime": {
     "end_time": "2021-02-15T20:11:22.118071Z",
     "start_time": "2021-02-15T20:11:22.097852Z"
    }
   },
   "outputs": [
    {
     "data": {
      "text/html": [
       "<div>\n",
       "<style scoped>\n",
       "    .dataframe tbody tr th:only-of-type {\n",
       "        vertical-align: middle;\n",
       "    }\n",
       "\n",
       "    .dataframe tbody tr th {\n",
       "        vertical-align: top;\n",
       "    }\n",
       "\n",
       "    .dataframe thead th {\n",
       "        text-align: right;\n",
       "    }\n",
       "</style>\n",
       "<table border=\"1\" class=\"dataframe\">\n",
       "  <thead>\n",
       "    <tr style=\"text-align: right;\">\n",
       "      <th></th>\n",
       "      <th>Id</th>\n",
       "      <th>MSSubClass</th>\n",
       "      <th>MSZoning</th>\n",
       "      <th>LotFrontage</th>\n",
       "      <th>LotArea</th>\n",
       "      <th>Street</th>\n",
       "      <th>Alley</th>\n",
       "      <th>LotShape</th>\n",
       "      <th>LandContour</th>\n",
       "      <th>Utilities</th>\n",
       "      <th>...</th>\n",
       "      <th>PoolArea</th>\n",
       "      <th>PoolQC</th>\n",
       "      <th>Fence</th>\n",
       "      <th>MiscFeature</th>\n",
       "      <th>MiscVal</th>\n",
       "      <th>MoSold</th>\n",
       "      <th>YrSold</th>\n",
       "      <th>SaleType</th>\n",
       "      <th>SaleCondition</th>\n",
       "      <th>SalePrice</th>\n",
       "    </tr>\n",
       "  </thead>\n",
       "  <tbody>\n",
       "    <tr>\n",
       "      <th>0</th>\n",
       "      <td>1</td>\n",
       "      <td>60</td>\n",
       "      <td>RL</td>\n",
       "      <td>65.0</td>\n",
       "      <td>8450</td>\n",
       "      <td>Pave</td>\n",
       "      <td>NaN</td>\n",
       "      <td>Reg</td>\n",
       "      <td>Lvl</td>\n",
       "      <td>AllPub</td>\n",
       "      <td>...</td>\n",
       "      <td>0</td>\n",
       "      <td>NaN</td>\n",
       "      <td>NaN</td>\n",
       "      <td>NaN</td>\n",
       "      <td>0</td>\n",
       "      <td>2</td>\n",
       "      <td>2008</td>\n",
       "      <td>WD</td>\n",
       "      <td>Normal</td>\n",
       "      <td>208500</td>\n",
       "    </tr>\n",
       "    <tr>\n",
       "      <th>1</th>\n",
       "      <td>2</td>\n",
       "      <td>20</td>\n",
       "      <td>RL</td>\n",
       "      <td>80.0</td>\n",
       "      <td>9600</td>\n",
       "      <td>Pave</td>\n",
       "      <td>NaN</td>\n",
       "      <td>Reg</td>\n",
       "      <td>Lvl</td>\n",
       "      <td>AllPub</td>\n",
       "      <td>...</td>\n",
       "      <td>0</td>\n",
       "      <td>NaN</td>\n",
       "      <td>NaN</td>\n",
       "      <td>NaN</td>\n",
       "      <td>0</td>\n",
       "      <td>5</td>\n",
       "      <td>2007</td>\n",
       "      <td>WD</td>\n",
       "      <td>Normal</td>\n",
       "      <td>181500</td>\n",
       "    </tr>\n",
       "    <tr>\n",
       "      <th>2</th>\n",
       "      <td>3</td>\n",
       "      <td>60</td>\n",
       "      <td>RL</td>\n",
       "      <td>68.0</td>\n",
       "      <td>11250</td>\n",
       "      <td>Pave</td>\n",
       "      <td>NaN</td>\n",
       "      <td>IR1</td>\n",
       "      <td>Lvl</td>\n",
       "      <td>AllPub</td>\n",
       "      <td>...</td>\n",
       "      <td>0</td>\n",
       "      <td>NaN</td>\n",
       "      <td>NaN</td>\n",
       "      <td>NaN</td>\n",
       "      <td>0</td>\n",
       "      <td>9</td>\n",
       "      <td>2008</td>\n",
       "      <td>WD</td>\n",
       "      <td>Normal</td>\n",
       "      <td>223500</td>\n",
       "    </tr>\n",
       "    <tr>\n",
       "      <th>3</th>\n",
       "      <td>4</td>\n",
       "      <td>70</td>\n",
       "      <td>RL</td>\n",
       "      <td>60.0</td>\n",
       "      <td>9550</td>\n",
       "      <td>Pave</td>\n",
       "      <td>NaN</td>\n",
       "      <td>IR1</td>\n",
       "      <td>Lvl</td>\n",
       "      <td>AllPub</td>\n",
       "      <td>...</td>\n",
       "      <td>0</td>\n",
       "      <td>NaN</td>\n",
       "      <td>NaN</td>\n",
       "      <td>NaN</td>\n",
       "      <td>0</td>\n",
       "      <td>2</td>\n",
       "      <td>2006</td>\n",
       "      <td>WD</td>\n",
       "      <td>Abnorml</td>\n",
       "      <td>140000</td>\n",
       "    </tr>\n",
       "    <tr>\n",
       "      <th>4</th>\n",
       "      <td>5</td>\n",
       "      <td>60</td>\n",
       "      <td>RL</td>\n",
       "      <td>84.0</td>\n",
       "      <td>14260</td>\n",
       "      <td>Pave</td>\n",
       "      <td>NaN</td>\n",
       "      <td>IR1</td>\n",
       "      <td>Lvl</td>\n",
       "      <td>AllPub</td>\n",
       "      <td>...</td>\n",
       "      <td>0</td>\n",
       "      <td>NaN</td>\n",
       "      <td>NaN</td>\n",
       "      <td>NaN</td>\n",
       "      <td>0</td>\n",
       "      <td>12</td>\n",
       "      <td>2008</td>\n",
       "      <td>WD</td>\n",
       "      <td>Normal</td>\n",
       "      <td>250000</td>\n",
       "    </tr>\n",
       "  </tbody>\n",
       "</table>\n",
       "<p>5 rows × 81 columns</p>\n",
       "</div>"
      ],
      "text/plain": [
       "   Id  MSSubClass MSZoning  LotFrontage  LotArea Street Alley LotShape  \\\n",
       "0   1          60       RL         65.0     8450   Pave   NaN      Reg   \n",
       "1   2          20       RL         80.0     9600   Pave   NaN      Reg   \n",
       "2   3          60       RL         68.0    11250   Pave   NaN      IR1   \n",
       "3   4          70       RL         60.0     9550   Pave   NaN      IR1   \n",
       "4   5          60       RL         84.0    14260   Pave   NaN      IR1   \n",
       "\n",
       "  LandContour Utilities  ... PoolArea PoolQC Fence MiscFeature MiscVal MoSold  \\\n",
       "0         Lvl    AllPub  ...        0    NaN   NaN         NaN       0      2   \n",
       "1         Lvl    AllPub  ...        0    NaN   NaN         NaN       0      5   \n",
       "2         Lvl    AllPub  ...        0    NaN   NaN         NaN       0      9   \n",
       "3         Lvl    AllPub  ...        0    NaN   NaN         NaN       0      2   \n",
       "4         Lvl    AllPub  ...        0    NaN   NaN         NaN       0     12   \n",
       "\n",
       "  YrSold  SaleType  SaleCondition  SalePrice  \n",
       "0   2008        WD         Normal     208500  \n",
       "1   2007        WD         Normal     181500  \n",
       "2   2008        WD         Normal     223500  \n",
       "3   2006        WD        Abnorml     140000  \n",
       "4   2008        WD         Normal     250000  \n",
       "\n",
       "[5 rows x 81 columns]"
      ]
     },
     "execution_count": 16,
     "metadata": {},
     "output_type": "execute_result"
    }
   ],
   "source": [
    "df.head()"
   ]
  },
  {
   "cell_type": "code",
   "execution_count": 17,
   "id": "prostate-despite",
   "metadata": {
    "ExecuteTime": {
     "end_time": "2021-02-15T20:11:22.126153Z",
     "start_time": "2021-02-15T20:11:22.119500Z"
    }
   },
   "outputs": [],
   "source": [
    "df = df[[x for x in df.columns if df[x].dtype != \"object\"]]"
   ]
  },
  {
   "cell_type": "code",
   "execution_count": 18,
   "id": "obvious-funds",
   "metadata": {
    "ExecuteTime": {
     "end_time": "2021-02-15T20:11:22.130634Z",
     "start_time": "2021-02-15T20:11:22.127556Z"
    }
   },
   "outputs": [
    {
     "data": {
      "text/plain": [
       "(1460, 38)"
      ]
     },
     "execution_count": 18,
     "metadata": {},
     "output_type": "execute_result"
    }
   ],
   "source": [
    "df.shape"
   ]
  },
  {
   "cell_type": "code",
   "execution_count": 19,
   "id": "floral-quantum",
   "metadata": {
    "ExecuteTime": {
     "end_time": "2021-02-15T20:11:22.140942Z",
     "start_time": "2021-02-15T20:11:22.132102Z"
    }
   },
   "outputs": [],
   "source": [
    "X_train, X_test, y_train, y_test = train_test_split(df.drop(\n",
    "    labels=[\"SalePrice\"], axis=1), df[\"SalePrice\"], test_size=0.33, random_state=42)"
   ]
  },
  {
   "cell_type": "code",
   "execution_count": 20,
   "id": "italian-bride",
   "metadata": {
    "ExecuteTime": {
     "end_time": "2021-02-15T20:11:22.144668Z",
     "start_time": "2021-02-15T20:11:22.142328Z"
    }
   },
   "outputs": [],
   "source": [
    "pipeline = Pipeline([\n",
    "    (\"Scaler\", StandardScaler()),  # Scale the data\n",
    "    # Select the best features using linear regression\n",
    "    (\"ModelSelect\", SelectFromModel(LinearRegression()))\n",
    "])"
   ]
  },
  {
   "cell_type": "code",
   "execution_count": 21,
   "id": "alive-gregory",
   "metadata": {
    "ExecuteTime": {
     "end_time": "2021-02-15T20:11:22.163434Z",
     "start_time": "2021-02-15T20:11:22.146265Z"
    }
   },
   "outputs": [
    {
     "data": {
      "text/plain": [
       "array([[ 0.68359419, -0.27472719, -0.89165743, ..., -0.29259108,\n",
       "        -0.8023907 , -0.90140587],\n",
       "       [-0.52794254, -0.27472719,  0.77740456, ..., -0.12299393,\n",
       "        -0.8023907 , -0.77524212],\n",
       "       [-0.97601537, -0.27472719,  2.35862119, ...,  1.15155436,\n",
       "        -0.8023907 ,  0.17289758],\n",
       "       ...,\n",
       "       [-0.61277187, -0.27472719,  0.28862392, ..., -0.78082531,\n",
       "        -0.8023907 , -1.26460455],\n",
       "       [-0.97601537, -0.27472719,  0.77289967, ..., -0.65748193,\n",
       "         0.36905409, -0.1903011 ],\n",
       "       [-0.97601537, -0.27472719,  1.81127697, ...,  0.99480548,\n",
       "        -0.8023907 ,  0.05629169]])"
      ]
     },
     "execution_count": 21,
     "metadata": {},
     "output_type": "execute_result"
    }
   ],
   "source": [
    "pipeline.fit_transform(X_train.fillna(0),y_train)"
   ]
  },
  {
   "cell_type": "code",
   "execution_count": 22,
   "id": "pressed-stanley",
   "metadata": {
    "ExecuteTime": {
     "end_time": "2021-02-15T20:11:22.169319Z",
     "start_time": "2021-02-15T20:11:22.165537Z"
    }
   },
   "outputs": [
    {
     "data": {
      "text/plain": [
       "array([False, False, False, False, False, False, False, False, False,\n",
       "        True,  True,  True,  True,  True,  True, False,  True, False,\n",
       "       False, False, False, False, False, False, False, False, False,\n",
       "       False, False, False, False, False, False, False, False, False,\n",
       "       False])"
      ]
     },
     "execution_count": 22,
     "metadata": {},
     "output_type": "execute_result"
    }
   ],
   "source": [
    "# Features with coefficient greater than the means of all the coefficient in the dataset\n",
    "pipeline[\"ModelSelect\"].get_support()"
   ]
  },
  {
   "cell_type": "code",
   "execution_count": 23,
   "id": "dangerous-racing",
   "metadata": {
    "ExecuteTime": {
     "end_time": "2021-02-15T20:11:22.179481Z",
     "start_time": "2021-02-15T20:11:22.176831Z"
    }
   },
   "outputs": [
    {
     "name": "stdout",
     "output_type": "stream",
     "text": [
      "Number of features selected: 7\n"
     ]
    }
   ],
   "source": [
    "print(f\"Number of features selected: {len(X_train.columns[pipeline['ModelSelect'].get_support()])}\")"
   ]
  },
  {
   "cell_type": "code",
   "execution_count": 24,
   "id": "eleven-october",
   "metadata": {
    "ExecuteTime": {
     "end_time": "2021-02-15T20:11:22.348463Z",
     "start_time": "2021-02-15T20:11:22.184874Z"
    }
   },
   "outputs": [
    {
     "data": {
      "text/plain": [
       "<AxesSubplot:>"
      ]
     },
     "execution_count": 24,
     "metadata": {},
     "output_type": "execute_result"
    },
    {
     "data": {
      "image/png": "[encoded data removed]",
      "text/plain": [
       "<Figure size 432x288 with 1 Axes>"
      ]
     },
     "metadata": {},
     "output_type": "display_data"
    }
   ],
   "source": [
    "pd.Series(pipeline['ModelSelect'].estimator_.coef_.ravel()).hist()"
   ]
  },
  {
   "cell_type": "code",
   "execution_count": 25,
   "id": "defensive-denmark",
   "metadata": {
    "ExecuteTime": {
     "end_time": "2021-02-15T20:11:22.488041Z",
     "start_time": "2021-02-15T20:11:22.350805Z"
    }
   },
   "outputs": [
    {
     "data": {
      "text/plain": [
       "<AxesSubplot:>"
      ]
     },
     "execution_count": 25,
     "metadata": {},
     "output_type": "execute_result"
    },
    {
     "data": {
      "image/png": "[encoded data removed]",
      "text/plain": [
       "<Figure size 432x288 with 1 Axes>"
      ]
     },
     "metadata": {},
     "output_type": "display_data"
    }
   ],
   "source": [
    "pd.Series(abs(pipeline['ModelSelect'].estimator_.coef_.ravel())).hist()"
   ]
  },
  {
   "cell_type": "code",
   "execution_count": 26,
   "id": "delayed-throat",
   "metadata": {
    "ExecuteTime": {
     "end_time": "2021-02-15T20:11:22.492882Z",
     "start_time": "2021-02-15T20:11:22.489511Z"
    }
   },
   "outputs": [
    {
     "name": "stdout",
     "output_type": "stream",
     "text": [
      "total features: 37\n",
      "selected features: 7\n",
      "features with coefficients greater than the mean coefficient: 7\n"
     ]
    }
   ],
   "source": [
    "print('total features: {}'.format((X_train.shape[1])))\n",
    "\n",
    "print('selected features: {}'.format(len(X_train.columns[pipeline['ModelSelect'].get_support()])))\n",
    "\n",
    "print(\n",
    "    'features with coefficients greater than the mean coefficient: {}'.format(\n",
    "        np.sum(\n",
    "            np.abs(pipeline['ModelSelect'].estimator_.coef_) > np.abs(\n",
    "                pipeline['ModelSelect'].estimator_.coef_).mean())))"
   ]
  },
  {
   "cell_type": "markdown",
   "id": "treated-saying",
   "metadata": {},
   "source": [
    "## Basic methods + Correlation + Embedded"
   ]
  },
  {
   "cell_type": "code",
   "execution_count": 27,
   "id": "small-train",
   "metadata": {
    "ExecuteTime": {
     "end_time": "2021-02-15T20:11:23.407544Z",
     "start_time": "2021-02-15T20:11:22.494677Z"
    }
   },
   "outputs": [],
   "source": [
    "df = pd.read_csv(\"./precleaned-datasets/dataset_2.csv\")"
   ]
  },
  {
   "cell_type": "code",
   "execution_count": 28,
   "id": "grave-triple",
   "metadata": {
    "ExecuteTime": {
     "end_time": "2021-02-15T20:11:23.411858Z",
     "start_time": "2021-02-15T20:11:23.409199Z"
    }
   },
   "outputs": [
    {
     "data": {
      "text/plain": [
       "(50000, 109)"
      ]
     },
     "execution_count": 28,
     "metadata": {},
     "output_type": "execute_result"
    }
   ],
   "source": [
    "df.shape"
   ]
  },
  {
   "cell_type": "code",
   "execution_count": 29,
   "id": "backed-tract",
   "metadata": {
    "ExecuteTime": {
     "end_time": "2021-02-15T20:11:23.485333Z",
     "start_time": "2021-02-15T20:11:23.413089Z"
    }
   },
   "outputs": [],
   "source": [
    "X_train, X_test, y_train, y_test = train_test_split(df.drop(\n",
    "    labels=[\"target\"], axis=1), df[\"target\"], test_size=0.33, random_state=42)"
   ]
  },
  {
   "cell_type": "code",
   "execution_count": 30,
   "id": "appointed-nation",
   "metadata": {
    "ExecuteTime": {
     "end_time": "2021-02-15T20:11:23.490751Z",
     "start_time": "2021-02-15T20:11:23.487253Z"
    }
   },
   "outputs": [],
   "source": [
    "pipeline = Pipeline([\n",
    "    (\"DropDuplicate\",DropDuplicateFeatures()),\n",
    "    (\"DropConstant\",DropConstantFeatures(tol=0.998)), #Drop Quasi-Constant Features\n",
    "    (\"DropCorrelated\",DropCorrelatedFeatures()),\n",
    "    (\"Scaler\", StandardScaler()),  # Scale the data\n",
    "    (\"ModelSelect\", SelectFromModel(LogisticRegression(\n",
    "        C=0.0005, penalty=\"l2\", solver=\"liblinear\")))  # Select the best features using ridge regularization (C is for the strenght of the regularization)\n",
    "])"
   ]
  },
  {
   "cell_type": "code",
   "execution_count": 31,
   "id": "international-georgia",
   "metadata": {
    "ExecuteTime": {
     "end_time": "2021-02-15T20:11:25.510357Z",
     "start_time": "2021-02-15T20:11:23.492569Z"
    }
   },
   "outputs": [],
   "source": [
    "X_train_full_pipeline = pipeline.fit_transform(X_train,y_train)\n",
    "X_test_full_pipeline = pipeline.transform(X_test)"
   ]
  },
  {
   "cell_type": "code",
   "execution_count": 32,
   "id": "cardiac-vinyl",
   "metadata": {
    "ExecuteTime": {
     "end_time": "2021-02-15T20:11:25.515954Z",
     "start_time": "2021-02-15T20:11:25.512216Z"
    }
   },
   "outputs": [
    {
     "data": {
      "text/plain": [
       "set()"
      ]
     },
     "execution_count": 32,
     "metadata": {},
     "output_type": "execute_result"
    }
   ],
   "source": [
    "pipeline[\"DropDuplicate\"].features_to_drop_"
   ]
  },
  {
   "cell_type": "markdown",
   "id": "removed-child",
   "metadata": {},
   "source": [
    "It seems there's no duplicate features."
   ]
  },
  {
   "cell_type": "code",
   "execution_count": 33,
   "id": "compressed-madison",
   "metadata": {
    "ExecuteTime": {
     "end_time": "2021-02-15T20:11:25.520833Z",
     "start_time": "2021-02-15T20:11:25.517798Z"
    }
   },
   "outputs": [
    {
     "data": {
      "text/plain": [
       "[]"
      ]
     },
     "execution_count": 33,
     "metadata": {},
     "output_type": "execute_result"
    }
   ],
   "source": [
    "pipeline[\"DropConstant\"].features_to_drop_"
   ]
  },
  {
   "cell_type": "markdown",
   "id": "basic-tonight",
   "metadata": {},
   "source": [
    "It seems there's no constant and quasi-constant features."
   ]
  },
  {
   "cell_type": "code",
   "execution_count": 34,
   "id": "ready-kingdom",
   "metadata": {
    "ExecuteTime": {
     "end_time": "2021-02-15T20:11:25.525265Z",
     "start_time": "2021-02-15T20:11:25.522335Z"
    }
   },
   "outputs": [
    {
     "data": {
      "text/plain": [
       "35"
      ]
     },
     "execution_count": 34,
     "metadata": {},
     "output_type": "execute_result"
    }
   ],
   "source": [
    "len(pipeline[\"DropCorrelated\"].features_to_drop_)"
   ]
  },
  {
   "cell_type": "markdown",
   "id": "objective-bikini",
   "metadata": {},
   "source": [
    "We have 35 correlated features, with a coeffecicient of at least 0.8, to be dropped."
   ]
  },
  {
   "cell_type": "code",
   "execution_count": 35,
   "id": "beginning-profession",
   "metadata": {
    "ExecuteTime": {
     "end_time": "2021-02-15T20:11:25.528910Z",
     "start_time": "2021-02-15T20:11:25.526937Z"
    }
   },
   "outputs": [],
   "source": [
    "feat_to_drop = list(pipeline[\"DropCorrelated\"].features_to_drop_)"
   ]
  },
  {
   "cell_type": "code",
   "execution_count": 36,
   "id": "objective-angola",
   "metadata": {
    "ExecuteTime": {
     "end_time": "2021-02-15T20:11:25.555208Z",
     "start_time": "2021-02-15T20:11:25.530456Z"
    }
   },
   "outputs": [
    {
     "data": {
      "text/html": [
       "<div>\n",
       "<style scoped>\n",
       "    .dataframe tbody tr th:only-of-type {\n",
       "        vertical-align: middle;\n",
       "    }\n",
       "\n",
       "    .dataframe tbody tr th {\n",
       "        vertical-align: top;\n",
       "    }\n",
       "\n",
       "    .dataframe thead th {\n",
       "        text-align: right;\n",
       "    }\n",
       "</style>\n",
       "<table border=\"1\" class=\"dataframe\">\n",
       "  <thead>\n",
       "    <tr style=\"text-align: right;\">\n",
       "      <th></th>\n",
       "      <th>var_1</th>\n",
       "      <th>var_2</th>\n",
       "      <th>var_3</th>\n",
       "      <th>var_4</th>\n",
       "      <th>var_5</th>\n",
       "      <th>var_6</th>\n",
       "      <th>var_7</th>\n",
       "      <th>var_8</th>\n",
       "      <th>var_9</th>\n",
       "      <th>var_10</th>\n",
       "      <th>...</th>\n",
       "      <th>var_89</th>\n",
       "      <th>var_90</th>\n",
       "      <th>var_91</th>\n",
       "      <th>var_92</th>\n",
       "      <th>var_93</th>\n",
       "      <th>var_96</th>\n",
       "      <th>var_98</th>\n",
       "      <th>var_99</th>\n",
       "      <th>var_103</th>\n",
       "      <th>var_107</th>\n",
       "    </tr>\n",
       "  </thead>\n",
       "  <tbody>\n",
       "    <tr>\n",
       "      <th>23990</th>\n",
       "      <td>2.981817</td>\n",
       "      <td>8.343572</td>\n",
       "      <td>10.074981</td>\n",
       "      <td>3.691886</td>\n",
       "      <td>1.601302</td>\n",
       "      <td>1.453775</td>\n",
       "      <td>2.314913</td>\n",
       "      <td>0.584105</td>\n",
       "      <td>9.992991</td>\n",
       "      <td>0.170757</td>\n",
       "      <td>...</td>\n",
       "      <td>7.646199</td>\n",
       "      <td>16.989933</td>\n",
       "      <td>0.0</td>\n",
       "      <td>1.024162</td>\n",
       "      <td>0.222757</td>\n",
       "      <td>6.807153</td>\n",
       "      <td>4.139647</td>\n",
       "      <td>1.380598</td>\n",
       "      <td>15.728079</td>\n",
       "      <td>1.686957</td>\n",
       "    </tr>\n",
       "    <tr>\n",
       "      <th>8729</th>\n",
       "      <td>1.688889</td>\n",
       "      <td>8.882949</td>\n",
       "      <td>18.253119</td>\n",
       "      <td>5.912397</td>\n",
       "      <td>1.240284</td>\n",
       "      <td>1.046512</td>\n",
       "      <td>4.643527</td>\n",
       "      <td>0.756977</td>\n",
       "      <td>6.714417</td>\n",
       "      <td>0.012648</td>\n",
       "      <td>...</td>\n",
       "      <td>7.588980</td>\n",
       "      <td>11.808913</td>\n",
       "      <td>0.0</td>\n",
       "      <td>0.816097</td>\n",
       "      <td>0.156915</td>\n",
       "      <td>7.005375</td>\n",
       "      <td>1.308567</td>\n",
       "      <td>1.187880</td>\n",
       "      <td>12.992437</td>\n",
       "      <td>2.924444</td>\n",
       "    </tr>\n",
       "    <tr>\n",
       "      <th>3451</th>\n",
       "      <td>5.038962</td>\n",
       "      <td>7.026297</td>\n",
       "      <td>14.718972</td>\n",
       "      <td>4.212337</td>\n",
       "      <td>2.561462</td>\n",
       "      <td>2.048366</td>\n",
       "      <td>2.643073</td>\n",
       "      <td>0.276806</td>\n",
       "      <td>13.285719</td>\n",
       "      <td>0.262157</td>\n",
       "      <td>...</td>\n",
       "      <td>6.575890</td>\n",
       "      <td>17.957058</td>\n",
       "      <td>0.0</td>\n",
       "      <td>0.555222</td>\n",
       "      <td>0.632006</td>\n",
       "      <td>6.925507</td>\n",
       "      <td>1.880149</td>\n",
       "      <td>1.367646</td>\n",
       "      <td>16.227706</td>\n",
       "      <td>1.256104</td>\n",
       "    </tr>\n",
       "    <tr>\n",
       "      <th>2628</th>\n",
       "      <td>4.834286</td>\n",
       "      <td>3.451844</td>\n",
       "      <td>0.051099</td>\n",
       "      <td>3.260024</td>\n",
       "      <td>2.563308</td>\n",
       "      <td>1.840000</td>\n",
       "      <td>2.262627</td>\n",
       "      <td>0.531305</td>\n",
       "      <td>9.424492</td>\n",
       "      <td>0.397391</td>\n",
       "      <td>...</td>\n",
       "      <td>9.296788</td>\n",
       "      <td>17.129671</td>\n",
       "      <td>0.0</td>\n",
       "      <td>0.665388</td>\n",
       "      <td>0.239038</td>\n",
       "      <td>6.614862</td>\n",
       "      <td>1.347836</td>\n",
       "      <td>1.600000</td>\n",
       "      <td>18.216872</td>\n",
       "      <td>0.692858</td>\n",
       "    </tr>\n",
       "    <tr>\n",
       "      <th>38352</th>\n",
       "      <td>7.425000</td>\n",
       "      <td>8.710872</td>\n",
       "      <td>16.727121</td>\n",
       "      <td>3.654887</td>\n",
       "      <td>1.305672</td>\n",
       "      <td>1.866667</td>\n",
       "      <td>1.490619</td>\n",
       "      <td>0.673684</td>\n",
       "      <td>10.672352</td>\n",
       "      <td>0.066322</td>\n",
       "      <td>...</td>\n",
       "      <td>7.806098</td>\n",
       "      <td>18.262409</td>\n",
       "      <td>0.0</td>\n",
       "      <td>1.034191</td>\n",
       "      <td>0.256637</td>\n",
       "      <td>6.969556</td>\n",
       "      <td>1.650858</td>\n",
       "      <td>1.026178</td>\n",
       "      <td>18.419222</td>\n",
       "      <td>0.692391</td>\n",
       "    </tr>\n",
       "  </tbody>\n",
       "</table>\n",
       "<p>5 rows × 73 columns</p>\n",
       "</div>"
      ],
      "text/plain": [
       "          var_1     var_2      var_3     var_4     var_5     var_6     var_7  \\\n",
       "23990  2.981817  8.343572  10.074981  3.691886  1.601302  1.453775  2.314913   \n",
       "8729   1.688889  8.882949  18.253119  5.912397  1.240284  1.046512  4.643527   \n",
       "3451   5.038962  7.026297  14.718972  4.212337  2.561462  2.048366  2.643073   \n",
       "2628   4.834286  3.451844   0.051099  3.260024  2.563308  1.840000  2.262627   \n",
       "38352  7.425000  8.710872  16.727121  3.654887  1.305672  1.866667  1.490619   \n",
       "\n",
       "          var_8      var_9    var_10  ...    var_89     var_90  var_91  \\\n",
       "23990  0.584105   9.992991  0.170757  ...  7.646199  16.989933     0.0   \n",
       "8729   0.756977   6.714417  0.012648  ...  7.588980  11.808913     0.0   \n",
       "3451   0.276806  13.285719  0.262157  ...  6.575890  17.957058     0.0   \n",
       "2628   0.531305   9.424492  0.397391  ...  9.296788  17.129671     0.0   \n",
       "38352  0.673684  10.672352  0.066322  ...  7.806098  18.262409     0.0   \n",
       "\n",
       "         var_92    var_93    var_96    var_98    var_99    var_103   var_107  \n",
       "23990  1.024162  0.222757  6.807153  4.139647  1.380598  15.728079  1.686957  \n",
       "8729   0.816097  0.156915  7.005375  1.308567  1.187880  12.992437  2.924444  \n",
       "3451   0.555222  0.632006  6.925507  1.880149  1.367646  16.227706  1.256104  \n",
       "2628   0.665388  0.239038  6.614862  1.347836  1.600000  18.216872  0.692858  \n",
       "38352  1.034191  0.256637  6.969556  1.650858  1.026178  18.419222  0.692391  \n",
       "\n",
       "[5 rows x 73 columns]"
      ]
     },
     "execution_count": 36,
     "metadata": {},
     "output_type": "execute_result"
    }
   ],
   "source": [
    "#The dataframe passed to the scaler and the logistic regression for feature selection.\n",
    "X_train[[x for x in X_train.columns if x not in feat_to_drop]].head()"
   ]
  },
  {
   "cell_type": "code",
   "execution_count": 37,
   "id": "conceptual-tenant",
   "metadata": {
    "ExecuteTime": {
     "end_time": "2021-02-15T20:11:25.559957Z",
     "start_time": "2021-02-15T20:11:25.556776Z"
    }
   },
   "outputs": [
    {
     "data": {
      "text/plain": [
       "73"
      ]
     },
     "execution_count": 37,
     "metadata": {},
     "output_type": "execute_result"
    }
   ],
   "source": [
    "len(pipeline[\"ModelSelect\"].get_support())"
   ]
  },
  {
   "cell_type": "code",
   "execution_count": 38,
   "id": "african-battlefield",
   "metadata": {
    "ExecuteTime": {
     "end_time": "2021-02-15T20:11:25.565087Z",
     "start_time": "2021-02-15T20:11:25.561565Z"
    }
   },
   "outputs": [],
   "source": [
    "def run_logistic(X_train, X_test, y_train, y_test):\n",
    "    \n",
    "    \n",
    "    logit = LogisticRegression(C=0.0005, random_state=10, max_iter=10000, penalty='l2')\n",
    "    logit.fit(X_train,y_train)\n",
    "    \n",
    "    print('Train set')\n",
    "    pred = logit.predict_proba(X_train)\n",
    "    print('Logistic Regression roc-auc: {}'.format(roc_auc_score(y_train, pred[:,1])))\n",
    "    \n",
    "    print('Test set')\n",
    "    pred = logit.predict_proba(X_test)\n",
    "    print('Logistic Regression roc-auc: {}'.format(roc_auc_score(y_test, pred[:,1])))\n"
   ]
  },
  {
   "cell_type": "code",
   "execution_count": 39,
   "id": "known-blast",
   "metadata": {
    "ExecuteTime": {
     "end_time": "2021-02-15T20:11:25.621445Z",
     "start_time": "2021-02-15T20:11:25.566816Z"
    }
   },
   "outputs": [
    {
     "name": "stdout",
     "output_type": "stream",
     "text": [
      "Train set\n",
      "Logistic Regression roc-auc: 0.7033481605952046\n",
      "Test set\n",
      "Logistic Regression roc-auc: 0.6965087093536072\n"
     ]
    }
   ],
   "source": [
    "run_logistic(X_train_full_pipeline, X_test_full_pipeline, y_train, y_test)"
   ]
  },
  {
   "cell_type": "code",
   "execution_count": 40,
   "id": "foster-civilization",
   "metadata": {
    "ExecuteTime": {
     "end_time": "2021-02-15T20:11:25.709813Z",
     "start_time": "2021-02-15T20:11:25.623447Z"
    }
   },
   "outputs": [],
   "source": [
    "std = StandardScaler()\n",
    "X_train_std = std.fit_transform(X_train)\n",
    "X_test_std = std.transform(X_test)"
   ]
  },
  {
   "cell_type": "code",
   "execution_count": 41,
   "id": "coastal-probability",
   "metadata": {
    "ExecuteTime": {
     "end_time": "2021-02-15T20:11:25.857002Z",
     "start_time": "2021-02-15T20:11:25.711661Z"
    }
   },
   "outputs": [
    {
     "name": "stdout",
     "output_type": "stream",
     "text": [
      "Train set\n",
      "Logistic Regression roc-auc: 0.7034356834144\n",
      "Test set\n",
      "Logistic Regression roc-auc: 0.6940124119602422\n"
     ]
    }
   ],
   "source": [
    "run_logistic(X_train_std, X_test_std, y_train, y_test)"
   ]
  },
  {
   "cell_type": "code",
   "execution_count": 42,
   "id": "interested-export",
   "metadata": {
    "ExecuteTime": {
     "end_time": "2021-02-15T20:11:25.863607Z",
     "start_time": "2021-02-15T20:11:25.859689Z"
    }
   },
   "outputs": [
    {
     "name": "stdout",
     "output_type": "stream",
     "text": [
      "Number of features originally:108\n",
      "Number of features after feature selection:11\n"
     ]
    }
   ],
   "source": [
    "print(f\"Number of features originally:{X_train_std.shape[1]}\")\n",
    "print(f\"Number of features after feature selection:{X_train_full_pipeline.shape[1]}\")"
   ]
  },
  {
   "cell_type": "markdown",
   "id": "welsh-europe",
   "metadata": {},
   "source": [
    "We can see that divided the number of features decreaded dramatically from 108 to 11 but the roc-auc score is still the same!"
   ]
  },
  {
   "cell_type": "markdown",
   "id": "found-socket",
   "metadata": {},
   "source": [
    "# Lasso Regularisation"
   ]
  },
  {
   "cell_type": "markdown",
   "id": "outstanding-works",
   "metadata": {},
   "source": [
    "Lasso, also called l1 regularisation, can shrink the coefficients of the parameters to zero, therefore it can be used for feature selection, as opposite to ridge regression that will only reduce the coefficients to close to zero if needed."
   ]
  },
  {
   "cell_type": "markdown",
   "id": "static-climb",
   "metadata": {},
   "source": [
    "## Classification"
   ]
  },
  {
   "cell_type": "code",
   "execution_count": 43,
   "id": "suited-syntax",
   "metadata": {
    "ExecuteTime": {
     "end_time": "2021-02-15T20:11:26.760122Z",
     "start_time": "2021-02-15T20:11:25.866115Z"
    }
   },
   "outputs": [],
   "source": [
    "df = pd.read_csv(\"./precleaned-datasets/dataset_2.csv\")"
   ]
  },
  {
   "cell_type": "code",
   "execution_count": 44,
   "id": "dense-exception",
   "metadata": {
    "ExecuteTime": {
     "end_time": "2021-02-15T20:11:26.784279Z",
     "start_time": "2021-02-15T20:11:26.761996Z"
    }
   },
   "outputs": [],
   "source": [
    "df = df[[x for x in df.columns if df[x].dtype != \"object\"]]"
   ]
  },
  {
   "cell_type": "code",
   "execution_count": 45,
   "id": "fallen-conditions",
   "metadata": {
    "ExecuteTime": {
     "end_time": "2021-02-15T20:11:26.835871Z",
     "start_time": "2021-02-15T20:11:26.786143Z"
    }
   },
   "outputs": [],
   "source": [
    "X_train, X_test, y_train, y_test = train_test_split(df.drop(\n",
    "    labels=[\"target\"], axis=1), df[\"target\"], test_size=0.33, random_state=42)"
   ]
  },
  {
   "cell_type": "code",
   "execution_count": 46,
   "id": "matched-universal",
   "metadata": {
    "ExecuteTime": {
     "end_time": "2021-02-15T20:11:26.840441Z",
     "start_time": "2021-02-15T20:11:26.837730Z"
    }
   },
   "outputs": [],
   "source": [
    "pipeline = Pipeline([\n",
    "    # Scale the data\n",
    "    (\"Scaler\", StandardScaler()),\n",
    "    # Select the best features using ridge regularization (C is for the strenght of the regularization)\n",
    "    (\"ModelSelect\", SelectFromModel(LogisticRegression(\n",
    "        C=0.5, penalty=\"l1\", solver=\"liblinear\")))\n",
    "])"
   ]
  },
  {
   "cell_type": "code",
   "execution_count": 47,
   "id": "authentic-huntington",
   "metadata": {
    "ExecuteTime": {
     "end_time": "2021-02-15T20:11:34.559816Z",
     "start_time": "2021-02-15T20:11:26.842142Z"
    }
   },
   "outputs": [
    {
     "data": {
      "text/plain": [
       "array([[-0.9995447 ,  0.61071996, -0.2157236 , ...,  0.02519677,\n",
       "        -0.37697441, -0.99025251],\n",
       "       [-1.75191556,  0.83674095,  1.02309158, ...,  1.17016505,\n",
       "        -0.9715004 , -0.04318612],\n",
       "       [ 0.19753291,  0.05872784,  0.48774282, ..., -0.37344439,\n",
       "         0.01110261, -0.09315571],\n",
       "       ...,\n",
       "       [ 1.53188034, -0.3050191 , -1.51273686, ..., -1.01935498,\n",
       "        -0.3671743 , -0.09007849],\n",
       "       [ 2.369922  , -1.62033704,  0.86083838, ..., -0.83292693,\n",
       "        -0.43169042, -0.66321598],\n",
       "       [-0.41432578, -0.22391382,  0.86782015, ...,  0.1195084 ,\n",
       "         0.59321507, -0.47288799]])"
      ]
     },
     "execution_count": 47,
     "metadata": {},
     "output_type": "execute_result"
    }
   ],
   "source": [
    "pipeline.fit_transform(X_train,y_train)"
   ]
  },
  {
   "cell_type": "code",
   "execution_count": 48,
   "id": "desirable-table",
   "metadata": {
    "ExecuteTime": {
     "end_time": "2021-02-15T20:11:34.565948Z",
     "start_time": "2021-02-15T20:11:34.562199Z"
    }
   },
   "outputs": [
    {
     "data": {
      "text/plain": [
       "array([ True,  True,  True,  True,  True,  True,  True, False,  True,\n",
       "        True,  True,  True,  True,  True,  True,  True,  True,  True,\n",
       "       False,  True,  True,  True,  True, False, False,  True, False,\n",
       "        True, False, False,  True,  True,  True,  True,  True,  True,\n",
       "        True,  True,  True,  True,  True,  True,  True,  True,  True,\n",
       "        True,  True,  True,  True, False,  True,  True,  True,  True,\n",
       "        True,  True,  True,  True,  True,  True,  True, False,  True,\n",
       "        True,  True,  True,  True,  True,  True,  True,  True,  True,\n",
       "        True,  True,  True, False,  True,  True,  True,  True, False,\n",
       "        True,  True,  True,  True,  True,  True,  True,  True,  True,\n",
       "        True,  True,  True,  True,  True,  True,  True,  True,  True,\n",
       "        True,  True,  True,  True,  True,  True,  True,  True,  True])"
      ]
     },
     "execution_count": 48,
     "metadata": {},
     "output_type": "execute_result"
    }
   ],
   "source": [
    "pipeline[\"ModelSelect\"].get_support()"
   ]
  },
  {
   "cell_type": "code",
   "execution_count": 49,
   "id": "mature-prescription",
   "metadata": {
    "ExecuteTime": {
     "end_time": "2021-02-15T20:11:34.571307Z",
     "start_time": "2021-02-15T20:11:34.567662Z"
    }
   },
   "outputs": [
    {
     "name": "stdout",
     "output_type": "stream",
     "text": [
      "total features: 108\n",
      "selected features: 97\n",
      "features with coefficients shrank to zero: 11\n"
     ]
    }
   ],
   "source": [
    "selected_feat = X_train.columns[pipeline[\"ModelSelect\"].get_support()]\n",
    "\n",
    "print('total features: {}'.format((X_train.shape[1])))\n",
    "print('selected features: {}'.format(len(selected_feat)))\n",
    "print('features with coefficients shrank to zero: {}'.format(\n",
    "    np.sum(pipeline[\"ModelSelect\"].estimator_.coef_ == 0)))\n"
   ]
  },
  {
   "cell_type": "code",
   "execution_count": 50,
   "id": "chemical-pastor",
   "metadata": {
    "ExecuteTime": {
     "end_time": "2021-02-15T20:11:34.576657Z",
     "start_time": "2021-02-15T20:11:34.573294Z"
    }
   },
   "outputs": [
    {
     "data": {
      "text/plain": [
       "Index(['var_8', 'var_19', 'var_24', 'var_25', 'var_27', 'var_29', 'var_30',\n",
       "       'var_50', 'var_63', 'var_77', 'var_82'],\n",
       "      dtype='object')"
      ]
     },
     "execution_count": 50,
     "metadata": {},
     "output_type": "execute_result"
    }
   ],
   "source": [
    "#Removed features\n",
    "X_train.columns[~pipeline[\"ModelSelect\"].get_support()]"
   ]
  },
  {
   "cell_type": "code",
   "execution_count": 51,
   "id": "protected-timothy",
   "metadata": {
    "ExecuteTime": {
     "end_time": "2021-02-15T20:11:34.782625Z",
     "start_time": "2021-02-15T20:11:34.578302Z"
    }
   },
   "outputs": [
    {
     "data": {
      "text/plain": [
       "<AxesSubplot:>"
      ]
     },
     "execution_count": 51,
     "metadata": {},
     "output_type": "execute_result"
    },
    {
     "data": {
      "image/png": "[encoded data removed]",
      "text/plain": [
       "<Figure size 432x288 with 1 Axes>"
      ]
     },
     "metadata": {},
     "output_type": "display_data"
    }
   ],
   "source": [
    "pd.Series(abs(pipeline['ModelSelect'].estimator_.coef_.ravel())).hist()"
   ]
  },
  {
   "cell_type": "markdown",
   "id": "willing-lease",
   "metadata": {
    "ExecuteTime": {
     "end_time": "2021-02-15T17:36:20.554921Z",
     "start_time": "2021-02-15T17:36:20.551959Z"
    }
   },
   "source": [
    "Most of the coefficients are around 0."
   ]
  },
  {
   "cell_type": "markdown",
   "id": "described-vessel",
   "metadata": {},
   "source": [
    "## Regression"
   ]
  },
  {
   "cell_type": "code",
   "execution_count": 52,
   "id": "hazardous-france",
   "metadata": {
    "ExecuteTime": {
     "end_time": "2021-02-15T20:11:34.815594Z",
     "start_time": "2021-02-15T20:11:34.784553Z"
    }
   },
   "outputs": [],
   "source": [
    "df = pd.read_csv(\"./house-prices-advanced-regression-techniques/train.csv\")"
   ]
  },
  {
   "cell_type": "code",
   "execution_count": 53,
   "id": "automatic-johns",
   "metadata": {
    "ExecuteTime": {
     "end_time": "2021-02-15T20:11:34.824586Z",
     "start_time": "2021-02-15T20:11:34.817474Z"
    }
   },
   "outputs": [],
   "source": [
    "df = df[[x for x in df.columns if df[x].dtype != \"object\"]]"
   ]
  },
  {
   "cell_type": "code",
   "execution_count": 54,
   "id": "demonstrated-sympathy",
   "metadata": {
    "ExecuteTime": {
     "end_time": "2021-02-15T20:11:34.834847Z",
     "start_time": "2021-02-15T20:11:34.826440Z"
    }
   },
   "outputs": [],
   "source": [
    "X_train, X_test, y_train, y_test = train_test_split(df.drop(\n",
    "    labels=[\"SalePrice\"], axis=1), df[\"SalePrice\"], test_size=0.33, random_state=42)"
   ]
  },
  {
   "cell_type": "code",
   "execution_count": 55,
   "id": "scheduled-thomson",
   "metadata": {
    "ExecuteTime": {
     "end_time": "2021-02-15T20:11:34.839166Z",
     "start_time": "2021-02-15T20:11:34.836472Z"
    }
   },
   "outputs": [],
   "source": [
    "pipeline = Pipeline([\n",
    "    (\"Scaler\", StandardScaler()),  # Scale the data\n",
    "    # Select the best features using Lasso regression\n",
    "    (\"ModelSelect\", SelectFromModel(Lasso(alpha=100)))\n",
    "])"
   ]
  },
  {
   "cell_type": "code",
   "execution_count": 56,
   "id": "seeing-development",
   "metadata": {
    "ExecuteTime": {
     "end_time": "2021-02-15T20:11:34.858375Z",
     "start_time": "2021-02-15T20:11:34.840984Z"
    }
   },
   "outputs": [
    {
     "data": {
      "text/plain": [
       "array([[-0.26347343,  0.64818752,  0.63899273, ..., -0.1246488 ,\n",
       "        -0.51681818,  1.65360578],\n",
       "       [-0.26815196, -0.86866433,  0.35955484, ..., -0.1246488 ,\n",
       "         2.10986129, -0.60614241],\n",
       "       [ 1.34594062, -0.86866433,  0.44338621, ..., -0.1246488 ,\n",
       "        -0.8920581 , -1.35939181],\n",
       "       ...,\n",
       "       [ 1.32488724, -0.86866433,  0.08011696, ..., -0.1246488 ,\n",
       "        -0.8920581 , -1.35939181],\n",
       "       [ 0.3096464 , -0.16857886, -0.05960199, ..., -0.1246488 ,\n",
       "        -0.14157825, -0.60614241],\n",
       "       [ 0.93189079,  1.4649539 , -0.11548956, ..., -0.1246488 ,\n",
       "        -0.14157825,  0.90035639]])"
      ]
     },
     "execution_count": 56,
     "metadata": {},
     "output_type": "execute_result"
    }
   ],
   "source": [
    "pipeline.fit_transform(X_train.fillna(0),y_train)"
   ]
  },
  {
   "cell_type": "code",
   "execution_count": 57,
   "id": "chubby-montreal",
   "metadata": {
    "ExecuteTime": {
     "end_time": "2021-02-15T20:11:34.864038Z",
     "start_time": "2021-02-15T20:11:34.860547Z"
    }
   },
   "outputs": [
    {
     "data": {
      "text/plain": [
       "(978, 37)"
      ]
     },
     "execution_count": 57,
     "metadata": {},
     "output_type": "execute_result"
    }
   ],
   "source": [
    "X_train.shape"
   ]
  },
  {
   "cell_type": "code",
   "execution_count": 58,
   "id": "established-branch",
   "metadata": {
    "ExecuteTime": {
     "end_time": "2021-02-15T20:11:34.870600Z",
     "start_time": "2021-02-15T20:11:34.866334Z"
    }
   },
   "outputs": [
    {
     "data": {
      "text/plain": [
       "array([ True,  True,  True,  True,  True,  True,  True,  True,  True,\n",
       "        True, False, False,  True,  True, False,  True,  True,  True,\n",
       "       False,  True, False,  True,  True,  True,  True,  True,  True,\n",
       "        True,  True,  True,  True,  True,  True,  True,  True,  True,\n",
       "        True])"
      ]
     },
     "execution_count": 58,
     "metadata": {},
     "output_type": "execute_result"
    }
   ],
   "source": [
    "# Features with coefficient greater than the means of all the coefficient in the dataset\n",
    "pipeline[\"ModelSelect\"].get_support()"
   ]
  },
  {
   "cell_type": "code",
   "execution_count": 59,
   "id": "welcome-methodology",
   "metadata": {
    "ExecuteTime": {
     "end_time": "2021-02-15T20:11:34.876210Z",
     "start_time": "2021-02-15T20:11:34.873135Z"
    }
   },
   "outputs": [
    {
     "name": "stdout",
     "output_type": "stream",
     "text": [
      "Number of features selected: 32\n"
     ]
    }
   ],
   "source": [
    "print(f\"Number of features selected: {len(X_train.columns[pipeline['ModelSelect'].get_support()])}\")"
   ]
  },
  {
   "cell_type": "code",
   "execution_count": 60,
   "id": "alpha-salvation",
   "metadata": {
    "ExecuteTime": {
     "end_time": "2021-02-15T20:11:35.040645Z",
     "start_time": "2021-02-15T20:11:34.878998Z"
    }
   },
   "outputs": [
    {
     "data": {
      "text/plain": [
       "<AxesSubplot:>"
      ]
     },
     "execution_count": 60,
     "metadata": {},
     "output_type": "execute_result"
    },
    {
     "data": {
      "image/png": "[encoded data removed]",
      "text/plain": [
       "<Figure size 432x288 with 1 Axes>"
      ]
     },
     "metadata": {},
     "output_type": "display_data"
    }
   ],
   "source": [
    "pd.Series(abs(pipeline['ModelSelect'].estimator_.coef_.ravel())).hist()"
   ]
  },
  {
   "cell_type": "code",
   "execution_count": 61,
   "id": "relevant-experience",
   "metadata": {
    "ExecuteTime": {
     "end_time": "2021-02-15T20:11:35.046024Z",
     "start_time": "2021-02-15T20:11:35.042449Z"
    }
   },
   "outputs": [
    {
     "name": "stdout",
     "output_type": "stream",
     "text": [
      "total features: 37\n",
      "selected features: 32\n",
      "features with coefficients shrank to zero: 5\n"
     ]
    }
   ],
   "source": [
    "# make a list with the selected features and print the outputs\n",
    "selected_feat = X_train.columns[(pipeline['ModelSelect'].get_support())]\n",
    "\n",
    "print('total features: {}'.format((X_train.shape[1])))\n",
    "print('selected features: {}'.format(len(selected_feat)))\n",
    "print('features with coefficients shrank to zero: {}'.format(\n",
    "    np.sum(pipeline['ModelSelect'].estimator_.coef_ == 0)))"
   ]
  },
  {
   "cell_type": "markdown",
   "id": "touched-passenger",
   "metadata": {},
   "source": [
    "# Tree Method"
   ]
  },
  {
   "cell_type": "markdown",
   "id": "accompanied-sacrifice",
   "metadata": {},
   "source": [
    "RandomForest are good algorithms because they are usuaully highly accurate, good at generalisation, and have a good interpretability thanks to the feature importances, i.e. it is easy to know how much contributes each feature to the model (the more the feature decreases the impurity the more important is the feature).\n",
    "\n",
    "One advantage of removing feature is that if a feature is correlated to another one, the real importance of this feature will be shown once we remove the correlated one, because RFs tend to give equal or similar importance to correlated features and usualy, this importance is lower than what it really is.\n",
    "\n",
    "Furthermore, RF then to be biased to highly cardinal variables and they show greater importance."
   ]
  },
  {
   "cell_type": "code",
   "execution_count": 62,
   "id": "peripheral-porter",
   "metadata": {
    "ExecuteTime": {
     "end_time": "2021-02-15T20:11:35.050544Z",
     "start_time": "2021-02-15T20:11:35.047997Z"
    }
   },
   "outputs": [],
   "source": [
    "from sklearn.ensemble import RandomForestClassifier, RandomForestRegressor\n",
    "from sklearn.feature_selection import SelectKBest"
   ]
  },
  {
   "cell_type": "markdown",
   "id": "analyzed-revision",
   "metadata": {},
   "source": [
    "## Basic Feature Importances"
   ]
  },
  {
   "cell_type": "markdown",
   "id": "psychological-allen",
   "metadata": {},
   "source": [
    "### Classification"
   ]
  },
  {
   "cell_type": "code",
   "execution_count": 63,
   "id": "electric-shanghai",
   "metadata": {
    "ExecuteTime": {
     "end_time": "2021-02-15T20:11:36.007348Z",
     "start_time": "2021-02-15T20:11:35.053332Z"
    }
   },
   "outputs": [],
   "source": [
    "df = pd.read_csv(\"./precleaned-datasets/dataset_2.csv\")"
   ]
  },
  {
   "cell_type": "code",
   "execution_count": 64,
   "id": "criminal-medicare",
   "metadata": {
    "ExecuteTime": {
     "end_time": "2021-02-15T20:11:36.041656Z",
     "start_time": "2021-02-15T20:11:36.008929Z"
    }
   },
   "outputs": [],
   "source": [
    "df = df[[x for x in df.columns if df[x].dtype != \"object\"]]"
   ]
  },
  {
   "cell_type": "code",
   "execution_count": 65,
   "id": "peripheral-partner",
   "metadata": {
    "ExecuteTime": {
     "end_time": "2021-02-15T20:11:36.102347Z",
     "start_time": "2021-02-15T20:11:36.043479Z"
    }
   },
   "outputs": [],
   "source": [
    "X_train, X_test, y_train, y_test = train_test_split(df.drop(\n",
    "    labels=[\"target\"], axis=1), df[\"target\"], test_size=0.33, random_state=42)"
   ]
  },
  {
   "cell_type": "code",
   "execution_count": 66,
   "id": "national-telescope",
   "metadata": {
    "ExecuteTime": {
     "end_time": "2021-02-15T20:11:36.106830Z",
     "start_time": "2021-02-15T20:11:36.104271Z"
    }
   },
   "outputs": [],
   "source": [
    "sel_ = SelectFromModel(RandomForestClassifier(n_estimators=10,n_jobs=-1))"
   ]
  },
  {
   "cell_type": "code",
   "execution_count": 67,
   "id": "specified-dutch",
   "metadata": {
    "ExecuteTime": {
     "end_time": "2021-02-15T20:11:36.674842Z",
     "start_time": "2021-02-15T20:11:36.108607Z"
    }
   },
   "outputs": [
    {
     "data": {
      "text/plain": [
       "SelectFromModel(estimator=RandomForestClassifier(n_estimators=10, n_jobs=-1))"
      ]
     },
     "execution_count": 67,
     "metadata": {},
     "output_type": "execute_result"
    }
   ],
   "source": [
    "sel_.fit(X_train,y_train)"
   ]
  },
  {
   "cell_type": "code",
   "execution_count": 68,
   "id": "powered-clothing",
   "metadata": {
    "ExecuteTime": {
     "end_time": "2021-02-15T20:11:36.697947Z",
     "start_time": "2021-02-15T20:11:36.690289Z"
    }
   },
   "outputs": [
    {
     "data": {
      "text/plain": [
       "108"
      ]
     },
     "execution_count": 68,
     "metadata": {},
     "output_type": "execute_result"
    }
   ],
   "source": [
    "len(sel_.get_support())"
   ]
  },
  {
   "cell_type": "code",
   "execution_count": 69,
   "id": "ambient-haiti",
   "metadata": {
    "ExecuteTime": {
     "end_time": "2021-02-15T20:11:36.712802Z",
     "start_time": "2021-02-15T20:11:36.706246Z"
    }
   },
   "outputs": [
    {
     "name": "stdout",
     "output_type": "stream",
     "text": [
      "Number of variables selected: 28\n"
     ]
    }
   ],
   "source": [
    "print(f\"Number of variables selected: {len(X_train.columns[(sel_.get_support())])}\")"
   ]
  },
  {
   "cell_type": "code",
   "execution_count": 70,
   "id": "surprising-polyester",
   "metadata": {
    "ExecuteTime": {
     "end_time": "2021-02-15T20:11:36.723052Z",
     "start_time": "2021-02-15T20:11:36.714379Z"
    }
   },
   "outputs": [
    {
     "data": {
      "text/plain": [
       "Index(['var_1', 'var_2', 'var_11', 'var_13', 'var_14', 'var_20', 'var_21',\n",
       "       'var_30', 'var_31', 'var_34', 'var_38', 'var_41', 'var_49', 'var_55',\n",
       "       'var_68', 'var_69', 'var_70', 'var_71', 'var_78', 'var_82', 'var_88',\n",
       "       'var_92', 'var_94', 'var_96', 'var_99', 'var_103', 'var_107',\n",
       "       'var_108'],\n",
       "      dtype='object')"
      ]
     },
     "execution_count": 70,
     "metadata": {},
     "output_type": "execute_result"
    }
   ],
   "source": [
    "X_train.columns[(sel_.get_support())]"
   ]
  },
  {
   "cell_type": "code",
   "execution_count": 71,
   "id": "professional-seller",
   "metadata": {
    "ExecuteTime": {
     "end_time": "2021-02-15T20:11:36.907783Z",
     "start_time": "2021-02-15T20:11:36.724569Z"
    }
   },
   "outputs": [
    {
     "data": {
      "image/png": "[encoded data removed]",
      "text/plain": [
       "<Figure size 432x288 with 1 Axes>"
      ]
     },
     "metadata": {},
     "output_type": "display_data"
    }
   ],
   "source": [
    "pd.Series((sel_.estimator_.feature_importances_.ravel())).hist() #Feature importance\n",
    "plt.xlabel(\"Feature Importance\")\n",
    "plt.ylabel(\"Number of Feature\")\n",
    "plt.show()"
   ]
  },
  {
   "cell_type": "code",
   "execution_count": 72,
   "id": "hundred-woman",
   "metadata": {
    "ExecuteTime": {
     "end_time": "2021-02-15T20:11:36.928302Z",
     "start_time": "2021-02-15T20:11:36.909611Z"
    }
   },
   "outputs": [
    {
     "name": "stdout",
     "output_type": "stream",
     "text": [
      "total features: 108\n",
      "selected features: 28\n",
      "features with coefficients greater than the mean coefficient: 28\n"
     ]
    }
   ],
   "source": [
    "print('total features: {}'.format((X_train.shape[1])))\n",
    "\n",
    "print('selected features: {}'.format(len(X_train.columns[sel_.get_support()])))\n",
    "\n",
    "print(\n",
    "    'features with coefficients greater than the mean coefficient: {}'.format(\n",
    "        np.sum(\n",
    "            np.abs(sel_.estimator_.feature_importances_) > np.abs(\n",
    "                sel_.estimator_.feature_importances_).mean())))"
   ]
  },
  {
   "cell_type": "markdown",
   "id": "progressive-great",
   "metadata": {},
   "source": [
    "### Classification with filters and Feature Importances"
   ]
  },
  {
   "cell_type": "code",
   "execution_count": 73,
   "id": "northern-sender",
   "metadata": {
    "ExecuteTime": {
     "end_time": "2021-02-15T20:11:36.933352Z",
     "start_time": "2021-02-15T20:11:36.930091Z"
    }
   },
   "outputs": [],
   "source": [
    "pipeline = Pipeline([\n",
    "    (\"DropDuplicate\",DropDuplicateFeatures()),\n",
    "    (\"DropConstant\",DropConstantFeatures(tol=0.998)), #Drop Quasi-Constant Features\n",
    "    (\"DropCorrelated\",DropCorrelatedFeatures()),\n",
    "    #Select feature with feature importance greater than the mean of the features\n",
    "    (\"ModelSelect\", SelectFromModel(RandomForestClassifier(n_estimators=10,n_jobs=-1)))\n",
    "])"
   ]
  },
  {
   "cell_type": "code",
   "execution_count": 74,
   "id": "innovative-wages",
   "metadata": {
    "ExecuteTime": {
     "end_time": "2021-02-15T20:11:39.014941Z",
     "start_time": "2021-02-15T20:11:36.934810Z"
    }
   },
   "outputs": [],
   "source": [
    "X_train_full_pipeline = pipeline.fit_transform(X_train,y_train)\n",
    "X_test_full_pipeline = pipeline.transform(X_test)"
   ]
  },
  {
   "cell_type": "code",
   "execution_count": 75,
   "id": "labeled-vintage",
   "metadata": {
    "ExecuteTime": {
     "end_time": "2021-02-15T20:11:39.019629Z",
     "start_time": "2021-02-15T20:11:39.016713Z"
    }
   },
   "outputs": [
    {
     "data": {
      "text/plain": [
       "set()"
      ]
     },
     "execution_count": 75,
     "metadata": {},
     "output_type": "execute_result"
    }
   ],
   "source": [
    "pipeline[\"DropDuplicate\"].features_to_drop_"
   ]
  },
  {
   "cell_type": "code",
   "execution_count": 76,
   "id": "right-uzbekistan",
   "metadata": {
    "ExecuteTime": {
     "end_time": "2021-02-15T20:11:39.024250Z",
     "start_time": "2021-02-15T20:11:39.021049Z"
    }
   },
   "outputs": [
    {
     "data": {
      "text/plain": [
       "[]"
      ]
     },
     "execution_count": 76,
     "metadata": {},
     "output_type": "execute_result"
    }
   ],
   "source": [
    "pipeline[\"DropConstant\"].features_to_drop_"
   ]
  },
  {
   "cell_type": "code",
   "execution_count": 77,
   "id": "continued-cabin",
   "metadata": {
    "ExecuteTime": {
     "end_time": "2021-02-15T20:11:39.028620Z",
     "start_time": "2021-02-15T20:11:39.025784Z"
    }
   },
   "outputs": [
    {
     "data": {
      "text/plain": [
       "35"
      ]
     },
     "execution_count": 77,
     "metadata": {},
     "output_type": "execute_result"
    }
   ],
   "source": [
    "len(pipeline[\"DropCorrelated\"].features_to_drop_)"
   ]
  },
  {
   "cell_type": "code",
   "execution_count": 78,
   "id": "swiss-communications",
   "metadata": {
    "ExecuteTime": {
     "end_time": "2021-02-15T20:11:39.032539Z",
     "start_time": "2021-02-15T20:11:39.030369Z"
    }
   },
   "outputs": [],
   "source": [
    "feat_to_drop = list(pipeline[\"DropCorrelated\"].features_to_drop_)"
   ]
  },
  {
   "cell_type": "code",
   "execution_count": 79,
   "id": "royal-toilet",
   "metadata": {
    "ExecuteTime": {
     "end_time": "2021-02-15T20:11:39.058939Z",
     "start_time": "2021-02-15T20:11:39.034073Z"
    }
   },
   "outputs": [
    {
     "data": {
      "text/html": [
       "<div>\n",
       "<style scoped>\n",
       "    .dataframe tbody tr th:only-of-type {\n",
       "        vertical-align: middle;\n",
       "    }\n",
       "\n",
       "    .dataframe tbody tr th {\n",
       "        vertical-align: top;\n",
       "    }\n",
       "\n",
       "    .dataframe thead th {\n",
       "        text-align: right;\n",
       "    }\n",
       "</style>\n",
       "<table border=\"1\" class=\"dataframe\">\n",
       "  <thead>\n",
       "    <tr style=\"text-align: right;\">\n",
       "      <th></th>\n",
       "      <th>var_1</th>\n",
       "      <th>var_2</th>\n",
       "      <th>var_3</th>\n",
       "      <th>var_4</th>\n",
       "      <th>var_5</th>\n",
       "      <th>var_6</th>\n",
       "      <th>var_7</th>\n",
       "      <th>var_8</th>\n",
       "      <th>var_9</th>\n",
       "      <th>var_10</th>\n",
       "      <th>...</th>\n",
       "      <th>var_89</th>\n",
       "      <th>var_90</th>\n",
       "      <th>var_91</th>\n",
       "      <th>var_92</th>\n",
       "      <th>var_93</th>\n",
       "      <th>var_96</th>\n",
       "      <th>var_98</th>\n",
       "      <th>var_99</th>\n",
       "      <th>var_103</th>\n",
       "      <th>var_107</th>\n",
       "    </tr>\n",
       "  </thead>\n",
       "  <tbody>\n",
       "    <tr>\n",
       "      <th>23990</th>\n",
       "      <td>2.981817</td>\n",
       "      <td>8.343572</td>\n",
       "      <td>10.074981</td>\n",
       "      <td>3.691886</td>\n",
       "      <td>1.601302</td>\n",
       "      <td>1.453775</td>\n",
       "      <td>2.314913</td>\n",
       "      <td>0.584105</td>\n",
       "      <td>9.992991</td>\n",
       "      <td>0.170757</td>\n",
       "      <td>...</td>\n",
       "      <td>7.646199</td>\n",
       "      <td>16.989933</td>\n",
       "      <td>0.0</td>\n",
       "      <td>1.024162</td>\n",
       "      <td>0.222757</td>\n",
       "      <td>6.807153</td>\n",
       "      <td>4.139647</td>\n",
       "      <td>1.380598</td>\n",
       "      <td>15.728079</td>\n",
       "      <td>1.686957</td>\n",
       "    </tr>\n",
       "    <tr>\n",
       "      <th>8729</th>\n",
       "      <td>1.688889</td>\n",
       "      <td>8.882949</td>\n",
       "      <td>18.253119</td>\n",
       "      <td>5.912397</td>\n",
       "      <td>1.240284</td>\n",
       "      <td>1.046512</td>\n",
       "      <td>4.643527</td>\n",
       "      <td>0.756977</td>\n",
       "      <td>6.714417</td>\n",
       "      <td>0.012648</td>\n",
       "      <td>...</td>\n",
       "      <td>7.588980</td>\n",
       "      <td>11.808913</td>\n",
       "      <td>0.0</td>\n",
       "      <td>0.816097</td>\n",
       "      <td>0.156915</td>\n",
       "      <td>7.005375</td>\n",
       "      <td>1.308567</td>\n",
       "      <td>1.187880</td>\n",
       "      <td>12.992437</td>\n",
       "      <td>2.924444</td>\n",
       "    </tr>\n",
       "    <tr>\n",
       "      <th>3451</th>\n",
       "      <td>5.038962</td>\n",
       "      <td>7.026297</td>\n",
       "      <td>14.718972</td>\n",
       "      <td>4.212337</td>\n",
       "      <td>2.561462</td>\n",
       "      <td>2.048366</td>\n",
       "      <td>2.643073</td>\n",
       "      <td>0.276806</td>\n",
       "      <td>13.285719</td>\n",
       "      <td>0.262157</td>\n",
       "      <td>...</td>\n",
       "      <td>6.575890</td>\n",
       "      <td>17.957058</td>\n",
       "      <td>0.0</td>\n",
       "      <td>0.555222</td>\n",
       "      <td>0.632006</td>\n",
       "      <td>6.925507</td>\n",
       "      <td>1.880149</td>\n",
       "      <td>1.367646</td>\n",
       "      <td>16.227706</td>\n",
       "      <td>1.256104</td>\n",
       "    </tr>\n",
       "    <tr>\n",
       "      <th>2628</th>\n",
       "      <td>4.834286</td>\n",
       "      <td>3.451844</td>\n",
       "      <td>0.051099</td>\n",
       "      <td>3.260024</td>\n",
       "      <td>2.563308</td>\n",
       "      <td>1.840000</td>\n",
       "      <td>2.262627</td>\n",
       "      <td>0.531305</td>\n",
       "      <td>9.424492</td>\n",
       "      <td>0.397391</td>\n",
       "      <td>...</td>\n",
       "      <td>9.296788</td>\n",
       "      <td>17.129671</td>\n",
       "      <td>0.0</td>\n",
       "      <td>0.665388</td>\n",
       "      <td>0.239038</td>\n",
       "      <td>6.614862</td>\n",
       "      <td>1.347836</td>\n",
       "      <td>1.600000</td>\n",
       "      <td>18.216872</td>\n",
       "      <td>0.692858</td>\n",
       "    </tr>\n",
       "    <tr>\n",
       "      <th>38352</th>\n",
       "      <td>7.425000</td>\n",
       "      <td>8.710872</td>\n",
       "      <td>16.727121</td>\n",
       "      <td>3.654887</td>\n",
       "      <td>1.305672</td>\n",
       "      <td>1.866667</td>\n",
       "      <td>1.490619</td>\n",
       "      <td>0.673684</td>\n",
       "      <td>10.672352</td>\n",
       "      <td>0.066322</td>\n",
       "      <td>...</td>\n",
       "      <td>7.806098</td>\n",
       "      <td>18.262409</td>\n",
       "      <td>0.0</td>\n",
       "      <td>1.034191</td>\n",
       "      <td>0.256637</td>\n",
       "      <td>6.969556</td>\n",
       "      <td>1.650858</td>\n",
       "      <td>1.026178</td>\n",
       "      <td>18.419222</td>\n",
       "      <td>0.692391</td>\n",
       "    </tr>\n",
       "  </tbody>\n",
       "</table>\n",
       "<p>5 rows × 73 columns</p>\n",
       "</div>"
      ],
      "text/plain": [
       "          var_1     var_2      var_3     var_4     var_5     var_6     var_7  \\\n",
       "23990  2.981817  8.343572  10.074981  3.691886  1.601302  1.453775  2.314913   \n",
       "8729   1.688889  8.882949  18.253119  5.912397  1.240284  1.046512  4.643527   \n",
       "3451   5.038962  7.026297  14.718972  4.212337  2.561462  2.048366  2.643073   \n",
       "2628   4.834286  3.451844   0.051099  3.260024  2.563308  1.840000  2.262627   \n",
       "38352  7.425000  8.710872  16.727121  3.654887  1.305672  1.866667  1.490619   \n",
       "\n",
       "          var_8      var_9    var_10  ...    var_89     var_90  var_91  \\\n",
       "23990  0.584105   9.992991  0.170757  ...  7.646199  16.989933     0.0   \n",
       "8729   0.756977   6.714417  0.012648  ...  7.588980  11.808913     0.0   \n",
       "3451   0.276806  13.285719  0.262157  ...  6.575890  17.957058     0.0   \n",
       "2628   0.531305   9.424492  0.397391  ...  9.296788  17.129671     0.0   \n",
       "38352  0.673684  10.672352  0.066322  ...  7.806098  18.262409     0.0   \n",
       "\n",
       "         var_92    var_93    var_96    var_98    var_99    var_103   var_107  \n",
       "23990  1.024162  0.222757  6.807153  4.139647  1.380598  15.728079  1.686957  \n",
       "8729   0.816097  0.156915  7.005375  1.308567  1.187880  12.992437  2.924444  \n",
       "3451   0.555222  0.632006  6.925507  1.880149  1.367646  16.227706  1.256104  \n",
       "2628   0.665388  0.239038  6.614862  1.347836  1.600000  18.216872  0.692858  \n",
       "38352  1.034191  0.256637  6.969556  1.650858  1.026178  18.419222  0.692391  \n",
       "\n",
       "[5 rows x 73 columns]"
      ]
     },
     "execution_count": 79,
     "metadata": {},
     "output_type": "execute_result"
    }
   ],
   "source": [
    "#The dataframe passed to the scaler and the logistic regression for feature selection.\n",
    "X_train[[x for x in X_train.columns if x not in feat_to_drop]].head()"
   ]
  },
  {
   "cell_type": "code",
   "execution_count": 80,
   "id": "miniature-accessory",
   "metadata": {
    "ExecuteTime": {
     "end_time": "2021-02-15T20:11:39.069241Z",
     "start_time": "2021-02-15T20:11:39.060803Z"
    }
   },
   "outputs": [
    {
     "data": {
      "text/plain": [
       "73"
      ]
     },
     "execution_count": 80,
     "metadata": {},
     "output_type": "execute_result"
    }
   ],
   "source": [
    "len(pipeline[\"ModelSelect\"].get_support())"
   ]
  },
  {
   "cell_type": "code",
   "execution_count": 81,
   "id": "saved-celebrity",
   "metadata": {
    "ExecuteTime": {
     "end_time": "2021-02-15T20:11:39.074508Z",
     "start_time": "2021-02-15T20:11:39.070823Z"
    }
   },
   "outputs": [],
   "source": [
    "def run_rf_clf(X_train, X_test, y_train, y_test):\n",
    "\n",
    "    rf = RandomForestClassifier(\n",
    "        n_estimators=200, random_state=39, max_depth=4, n_jobs=-1)\n",
    "    rf.fit(X_train, y_train)\n",
    "\n",
    "    print('Train set')\n",
    "    pred = rf.predict_proba(X_train)\n",
    "    print(\n",
    "        'Random Forests roc-auc: {}'.format(roc_auc_score(y_train, pred[:, 1])))\n",
    "\n",
    "    print('Test set')\n",
    "    pred = rf.predict_proba(X_test)\n",
    "    print(\n",
    "        'Random Forests roc-auc: {}'.format(roc_auc_score(y_test, pred[:, 1])))"
   ]
  },
  {
   "cell_type": "code",
   "execution_count": 82,
   "id": "spanish-field",
   "metadata": {
    "ExecuteTime": {
     "end_time": "2021-02-15T20:11:41.171372Z",
     "start_time": "2021-02-15T20:11:39.076052Z"
    }
   },
   "outputs": [],
   "source": [
    "X_train_full_pipeline = pipeline.fit_transform(X_train,y_train)\n",
    "X_test_full_pipeline = pipeline.transform(X_test)"
   ]
  },
  {
   "cell_type": "code",
   "execution_count": 83,
   "id": "refined-photography",
   "metadata": {
    "ExecuteTime": {
     "end_time": "2021-02-15T20:11:43.131261Z",
     "start_time": "2021-02-15T20:11:41.172940Z"
    }
   },
   "outputs": [
    {
     "name": "stdout",
     "output_type": "stream",
     "text": [
      "Train set\n",
      "Random Forests roc-auc: 0.7124014883611802\n",
      "Test set\n",
      "Random Forests roc-auc: 0.6971213673314903\n"
     ]
    }
   ],
   "source": [
    "run_rf_clf(X_train, X_test, y_train, y_test)"
   ]
  },
  {
   "cell_type": "code",
   "execution_count": 84,
   "id": "ranging-guest",
   "metadata": {
    "ExecuteTime": {
     "end_time": "2021-02-15T20:11:44.050060Z",
     "start_time": "2021-02-15T20:11:43.134116Z"
    }
   },
   "outputs": [
    {
     "name": "stdout",
     "output_type": "stream",
     "text": [
      "Train set\n",
      "Random Forests roc-auc: 0.706128789665674\n",
      "Test set\n",
      "Random Forests roc-auc: 0.6941484210439706\n"
     ]
    }
   ],
   "source": [
    "run_rf_clf(X_train_full_pipeline, X_test_full_pipeline, y_train, y_test)"
   ]
  },
  {
   "cell_type": "code",
   "execution_count": 85,
   "id": "congressional-bridge",
   "metadata": {
    "ExecuteTime": {
     "end_time": "2021-02-15T20:11:44.053830Z",
     "start_time": "2021-02-15T20:11:44.051549Z"
    }
   },
   "outputs": [
    {
     "name": "stdout",
     "output_type": "stream",
     "text": [
      "Number of features originally:108\n",
      "Number of features after feature selection:15\n"
     ]
    }
   ],
   "source": [
    "print(f\"Number of features originally:{X_train_std.shape[1]}\")\n",
    "print(f\"Number of features after feature selection:{X_train_full_pipeline.shape[1]}\")"
   ]
  },
  {
   "cell_type": "markdown",
   "id": "assumed-sleeping",
   "metadata": {},
   "source": [
    "At bit less of overfitting with way less features!"
   ]
  },
  {
   "cell_type": "markdown",
   "id": "conscious-thought",
   "metadata": {},
   "source": [
    "### Regression"
   ]
  },
  {
   "cell_type": "code",
   "execution_count": 86,
   "id": "neural-tucson",
   "metadata": {
    "ExecuteTime": {
     "end_time": "2021-02-15T20:11:44.079523Z",
     "start_time": "2021-02-15T20:11:44.055282Z"
    }
   },
   "outputs": [],
   "source": [
    "df = pd.read_csv(\"./house-prices-advanced-regression-techniques/train.csv\")"
   ]
  },
  {
   "cell_type": "code",
   "execution_count": 87,
   "id": "continuing-credits",
   "metadata": {
    "ExecuteTime": {
     "end_time": "2021-02-15T20:11:44.088270Z",
     "start_time": "2021-02-15T20:11:44.081493Z"
    }
   },
   "outputs": [],
   "source": [
    "df = df[[x for x in df.columns if df[x].dtype != \"object\"]]"
   ]
  },
  {
   "cell_type": "code",
   "execution_count": 88,
   "id": "recovered-aircraft",
   "metadata": {
    "ExecuteTime": {
     "end_time": "2021-02-15T20:11:44.098823Z",
     "start_time": "2021-02-15T20:11:44.089961Z"
    }
   },
   "outputs": [],
   "source": [
    "X_train, X_test, y_train, y_test = train_test_split(df.drop(\n",
    "    labels=[\"SalePrice\"], axis=1), df[\"SalePrice\"], test_size=0.33, random_state=42)"
   ]
  },
  {
   "cell_type": "code",
   "execution_count": 89,
   "id": "adapted-lending",
   "metadata": {
    "ExecuteTime": {
     "end_time": "2021-02-15T20:11:44.102866Z",
     "start_time": "2021-02-15T20:11:44.100572Z"
    }
   },
   "outputs": [],
   "source": [
    "sel_ = SelectFromModel(RandomForestRegressor(n_estimators=10,n_jobs=-1))"
   ]
  },
  {
   "cell_type": "code",
   "execution_count": 90,
   "id": "efficient-architect",
   "metadata": {
    "ExecuteTime": {
     "end_time": "2021-02-15T20:11:44.142087Z",
     "start_time": "2021-02-15T20:11:44.104519Z"
    }
   },
   "outputs": [
    {
     "data": {
      "text/plain": [
       "SelectFromModel(estimator=RandomForestRegressor(n_estimators=10, n_jobs=-1))"
      ]
     },
     "execution_count": 90,
     "metadata": {},
     "output_type": "execute_result"
    }
   ],
   "source": [
    "sel_.fit(X_train.fillna(0),y_train)"
   ]
  },
  {
   "cell_type": "code",
   "execution_count": 91,
   "id": "lined-polyester",
   "metadata": {
    "ExecuteTime": {
     "end_time": "2021-02-15T20:11:44.152030Z",
     "start_time": "2021-02-15T20:11:44.143897Z"
    }
   },
   "outputs": [
    {
     "data": {
      "text/plain": [
       "37"
      ]
     },
     "execution_count": 91,
     "metadata": {},
     "output_type": "execute_result"
    }
   ],
   "source": [
    "len(sel_.get_support())"
   ]
  },
  {
   "cell_type": "code",
   "execution_count": 92,
   "id": "exceptional-height",
   "metadata": {
    "ExecuteTime": {
     "end_time": "2021-02-15T20:11:44.161117Z",
     "start_time": "2021-02-15T20:11:44.153596Z"
    }
   },
   "outputs": [
    {
     "name": "stdout",
     "output_type": "stream",
     "text": [
      "Number of variables selected: 5\n"
     ]
    }
   ],
   "source": [
    "print(f\"Number of variables selected: {len(X_train.columns[(sel_.get_support())])}\")"
   ]
  },
  {
   "cell_type": "code",
   "execution_count": 93,
   "id": "worse-arkansas",
   "metadata": {
    "ExecuteTime": {
     "end_time": "2021-02-15T20:11:44.171243Z",
     "start_time": "2021-02-15T20:11:44.162753Z"
    }
   },
   "outputs": [
    {
     "data": {
      "text/plain": [
       "Index(['OverallQual', 'BsmtFinSF1', 'TotalBsmtSF', 'GrLivArea', 'GarageCars'], dtype='object')"
      ]
     },
     "execution_count": 93,
     "metadata": {},
     "output_type": "execute_result"
    }
   ],
   "source": [
    "X_train.columns[(sel_.get_support())]"
   ]
  },
  {
   "cell_type": "code",
   "execution_count": 94,
   "id": "republican-sacrifice",
   "metadata": {
    "ExecuteTime": {
     "end_time": "2021-02-15T20:11:44.357718Z",
     "start_time": "2021-02-15T20:11:44.172669Z"
    }
   },
   "outputs": [
    {
     "data": {
      "image/png": "[encoded data removed]",
      "text/plain": [
       "<Figure size 432x288 with 1 Axes>"
      ]
     },
     "metadata": {},
     "output_type": "display_data"
    }
   ],
   "source": [
    "pd.Series((sel_.estimator_.feature_importances_.ravel())).hist() #Feature importance\n",
    "plt.xlabel(\"Feature Importance\")\n",
    "plt.ylabel(\"Number of Feature\")\n",
    "plt.show()"
   ]
  },
  {
   "cell_type": "code",
   "execution_count": 95,
   "id": "heavy-baseline",
   "metadata": {
    "ExecuteTime": {
     "end_time": "2021-02-15T20:11:44.377823Z",
     "start_time": "2021-02-15T20:11:44.359540Z"
    }
   },
   "outputs": [
    {
     "name": "stdout",
     "output_type": "stream",
     "text": [
      "total features: 37\n",
      "selected features: 5\n",
      "features with coefficients greater than the mean coefficient: 5\n"
     ]
    }
   ],
   "source": [
    "print('total features: {}'.format((X_train.shape[1])))\n",
    "\n",
    "print('selected features: {}'.format(len(X_train.columns[sel_.get_support()])))\n",
    "\n",
    "print(\n",
    "    'features with coefficients greater than the mean coefficient: {}'.format(\n",
    "        np.sum(\n",
    "            np.abs(sel_.estimator_.feature_importances_) > np.abs(\n",
    "                sel_.estimator_.feature_importances_).mean())))"
   ]
  },
  {
   "cell_type": "markdown",
   "id": "rubber-christianity",
   "metadata": {},
   "source": [
    "### Regression with filters and Feature Importance"
   ]
  },
  {
   "cell_type": "code",
   "execution_count": 96,
   "id": "abstract-remainder",
   "metadata": {
    "ExecuteTime": {
     "end_time": "2021-02-15T20:11:44.382716Z",
     "start_time": "2021-02-15T20:11:44.379507Z"
    }
   },
   "outputs": [],
   "source": [
    "pipeline = Pipeline([\n",
    "    (\"DropDuplicate\",DropDuplicateFeatures()),\n",
    "    (\"DropConstant\",DropConstantFeatures(tol=0.998)), #Drop Quasi-Constant Features\n",
    "    (\"DropCorrelated\",DropCorrelatedFeatures()),\n",
    "    #Select feature with feature importance greater than the mean of the features\n",
    "    (\"ModelSelect\", SelectFromModel(RandomForestRegressor(n_estimators=10,n_jobs=-1)))\n",
    "])"
   ]
  },
  {
   "cell_type": "code",
   "execution_count": 97,
   "id": "happy-minnesota",
   "metadata": {
    "ExecuteTime": {
     "end_time": "2021-02-15T20:11:44.387610Z",
     "start_time": "2021-02-15T20:11:44.384270Z"
    }
   },
   "outputs": [],
   "source": [
    "def run_rf_rgr(X_train, X_test, y_train, y_test):\n",
    "\n",
    "    rf = RandomForestRegressor(\n",
    "        n_estimators=200, random_state=39, max_depth=4, n_jobs=-1)\n",
    "    rf.fit(X_train, y_train)\n",
    "\n",
    "    print('Train set')\n",
    "    pred = rf.predict(X_train)\n",
    "    print(\n",
    "        'Random Forests r2 score: {}'.format(r2_score(y_train, pred)))\n",
    "\n",
    "    print('Test set')\n",
    "    pred = rf.predict(X_test)\n",
    "    print(\n",
    "        'Random Forests r2 score: {}'.format(r2_score(y_test, pred)))"
   ]
  },
  {
   "cell_type": "code",
   "execution_count": 98,
   "id": "second-commitment",
   "metadata": {
    "ExecuteTime": {
     "end_time": "2021-02-15T20:11:44.503195Z",
     "start_time": "2021-02-15T20:11:44.389103Z"
    }
   },
   "outputs": [],
   "source": [
    "X_train_full_pipeline = pipeline.fit_transform(X_train.fillna(0),y_train)\n",
    "X_test_full_pipeline = pipeline.transform(X_test.fillna(0))"
   ]
  },
  {
   "cell_type": "code",
   "execution_count": 99,
   "id": "certified-detail",
   "metadata": {
    "ExecuteTime": {
     "end_time": "2021-02-15T20:11:44.507809Z",
     "start_time": "2021-02-15T20:11:44.504713Z"
    }
   },
   "outputs": [
    {
     "data": {
      "text/plain": [
       "set()"
      ]
     },
     "execution_count": 99,
     "metadata": {},
     "output_type": "execute_result"
    }
   ],
   "source": [
    "pipeline[\"DropDuplicate\"].features_to_drop_"
   ]
  },
  {
   "cell_type": "code",
   "execution_count": 100,
   "id": "broadband-wiring",
   "metadata": {
    "ExecuteTime": {
     "end_time": "2021-02-15T20:11:44.512433Z",
     "start_time": "2021-02-15T20:11:44.509424Z"
    }
   },
   "outputs": [
    {
     "data": {
      "text/plain": [
       "[]"
      ]
     },
     "execution_count": 100,
     "metadata": {},
     "output_type": "execute_result"
    }
   ],
   "source": [
    "pipeline[\"DropConstant\"].features_to_drop_"
   ]
  },
  {
   "cell_type": "code",
   "execution_count": 101,
   "id": "harmful-british",
   "metadata": {
    "ExecuteTime": {
     "end_time": "2021-02-15T20:11:44.518340Z",
     "start_time": "2021-02-15T20:11:44.514654Z"
    }
   },
   "outputs": [
    {
     "data": {
      "text/plain": [
       "3"
      ]
     },
     "execution_count": 101,
     "metadata": {},
     "output_type": "execute_result"
    }
   ],
   "source": [
    "len(pipeline[\"DropCorrelated\"].features_to_drop_)"
   ]
  },
  {
   "cell_type": "code",
   "execution_count": 102,
   "id": "soviet-industry",
   "metadata": {
    "ExecuteTime": {
     "end_time": "2021-02-15T20:11:44.522861Z",
     "start_time": "2021-02-15T20:11:44.520132Z"
    }
   },
   "outputs": [],
   "source": [
    "feat_to_drop = list(pipeline[\"DropCorrelated\"].features_to_drop_)"
   ]
  },
  {
   "cell_type": "code",
   "execution_count": 103,
   "id": "dirty-index",
   "metadata": {
    "ExecuteTime": {
     "end_time": "2021-02-15T20:11:44.544846Z",
     "start_time": "2021-02-15T20:11:44.524862Z"
    }
   },
   "outputs": [
    {
     "data": {
      "text/html": [
       "<div>\n",
       "<style scoped>\n",
       "    .dataframe tbody tr th:only-of-type {\n",
       "        vertical-align: middle;\n",
       "    }\n",
       "\n",
       "    .dataframe tbody tr th {\n",
       "        vertical-align: top;\n",
       "    }\n",
       "\n",
       "    .dataframe thead th {\n",
       "        text-align: right;\n",
       "    }\n",
       "</style>\n",
       "<table border=\"1\" class=\"dataframe\">\n",
       "  <thead>\n",
       "    <tr style=\"text-align: right;\">\n",
       "      <th></th>\n",
       "      <th>Id</th>\n",
       "      <th>MSSubClass</th>\n",
       "      <th>LotFrontage</th>\n",
       "      <th>LotArea</th>\n",
       "      <th>OverallQual</th>\n",
       "      <th>OverallCond</th>\n",
       "      <th>YearBuilt</th>\n",
       "      <th>YearRemodAdd</th>\n",
       "      <th>MasVnrArea</th>\n",
       "      <th>BsmtFinSF1</th>\n",
       "      <th>...</th>\n",
       "      <th>GarageCars</th>\n",
       "      <th>WoodDeckSF</th>\n",
       "      <th>OpenPorchSF</th>\n",
       "      <th>EnclosedPorch</th>\n",
       "      <th>3SsnPorch</th>\n",
       "      <th>ScreenPorch</th>\n",
       "      <th>PoolArea</th>\n",
       "      <th>MiscVal</th>\n",
       "      <th>MoSold</th>\n",
       "      <th>YrSold</th>\n",
       "    </tr>\n",
       "  </thead>\n",
       "  <tbody>\n",
       "    <tr>\n",
       "      <th>615</th>\n",
       "      <td>616</td>\n",
       "      <td>85</td>\n",
       "      <td>80.0</td>\n",
       "      <td>8800</td>\n",
       "      <td>6</td>\n",
       "      <td>7</td>\n",
       "      <td>1963</td>\n",
       "      <td>1963</td>\n",
       "      <td>156.0</td>\n",
       "      <td>763</td>\n",
       "      <td>...</td>\n",
       "      <td>2</td>\n",
       "      <td>120</td>\n",
       "      <td>0</td>\n",
       "      <td>0</td>\n",
       "      <td>0</td>\n",
       "      <td>0</td>\n",
       "      <td>0</td>\n",
       "      <td>0</td>\n",
       "      <td>5</td>\n",
       "      <td>2010</td>\n",
       "    </tr>\n",
       "    <tr>\n",
       "      <th>613</th>\n",
       "      <td>614</td>\n",
       "      <td>20</td>\n",
       "      <td>70.0</td>\n",
       "      <td>8402</td>\n",
       "      <td>5</td>\n",
       "      <td>5</td>\n",
       "      <td>2007</td>\n",
       "      <td>2007</td>\n",
       "      <td>0.0</td>\n",
       "      <td>206</td>\n",
       "      <td>...</td>\n",
       "      <td>0</td>\n",
       "      <td>0</td>\n",
       "      <td>30</td>\n",
       "      <td>0</td>\n",
       "      <td>0</td>\n",
       "      <td>0</td>\n",
       "      <td>0</td>\n",
       "      <td>0</td>\n",
       "      <td>12</td>\n",
       "      <td>2007</td>\n",
       "    </tr>\n",
       "    <tr>\n",
       "      <th>1303</th>\n",
       "      <td>1304</td>\n",
       "      <td>20</td>\n",
       "      <td>73.0</td>\n",
       "      <td>8688</td>\n",
       "      <td>7</td>\n",
       "      <td>5</td>\n",
       "      <td>2005</td>\n",
       "      <td>2005</td>\n",
       "      <td>228.0</td>\n",
       "      <td>0</td>\n",
       "      <td>...</td>\n",
       "      <td>3</td>\n",
       "      <td>208</td>\n",
       "      <td>59</td>\n",
       "      <td>0</td>\n",
       "      <td>0</td>\n",
       "      <td>0</td>\n",
       "      <td>0</td>\n",
       "      <td>0</td>\n",
       "      <td>4</td>\n",
       "      <td>2006</td>\n",
       "    </tr>\n",
       "    <tr>\n",
       "      <th>486</th>\n",
       "      <td>487</td>\n",
       "      <td>20</td>\n",
       "      <td>79.0</td>\n",
       "      <td>10289</td>\n",
       "      <td>5</td>\n",
       "      <td>7</td>\n",
       "      <td>1965</td>\n",
       "      <td>1965</td>\n",
       "      <td>168.0</td>\n",
       "      <td>836</td>\n",
       "      <td>...</td>\n",
       "      <td>2</td>\n",
       "      <td>0</td>\n",
       "      <td>0</td>\n",
       "      <td>0</td>\n",
       "      <td>0</td>\n",
       "      <td>0</td>\n",
       "      <td>0</td>\n",
       "      <td>0</td>\n",
       "      <td>6</td>\n",
       "      <td>2007</td>\n",
       "    </tr>\n",
       "    <tr>\n",
       "      <th>561</th>\n",
       "      <td>562</td>\n",
       "      <td>20</td>\n",
       "      <td>77.0</td>\n",
       "      <td>10010</td>\n",
       "      <td>5</td>\n",
       "      <td>5</td>\n",
       "      <td>1974</td>\n",
       "      <td>1975</td>\n",
       "      <td>0.0</td>\n",
       "      <td>1071</td>\n",
       "      <td>...</td>\n",
       "      <td>2</td>\n",
       "      <td>240</td>\n",
       "      <td>38</td>\n",
       "      <td>0</td>\n",
       "      <td>0</td>\n",
       "      <td>0</td>\n",
       "      <td>0</td>\n",
       "      <td>0</td>\n",
       "      <td>4</td>\n",
       "      <td>2006</td>\n",
       "    </tr>\n",
       "  </tbody>\n",
       "</table>\n",
       "<p>5 rows × 34 columns</p>\n",
       "</div>"
      ],
      "text/plain": [
       "        Id  MSSubClass  LotFrontage  LotArea  OverallQual  OverallCond  \\\n",
       "615    616          85         80.0     8800            6            7   \n",
       "613    614          20         70.0     8402            5            5   \n",
       "1303  1304          20         73.0     8688            7            5   \n",
       "486    487          20         79.0    10289            5            7   \n",
       "561    562          20         77.0    10010            5            5   \n",
       "\n",
       "      YearBuilt  YearRemodAdd  MasVnrArea  BsmtFinSF1  ...  GarageCars  \\\n",
       "615        1963          1963       156.0         763  ...           2   \n",
       "613        2007          2007         0.0         206  ...           0   \n",
       "1303       2005          2005       228.0           0  ...           3   \n",
       "486        1965          1965       168.0         836  ...           2   \n",
       "561        1974          1975         0.0        1071  ...           2   \n",
       "\n",
       "      WoodDeckSF  OpenPorchSF  EnclosedPorch  3SsnPorch  ScreenPorch  \\\n",
       "615          120            0              0          0            0   \n",
       "613            0           30              0          0            0   \n",
       "1303         208           59              0          0            0   \n",
       "486            0            0              0          0            0   \n",
       "561          240           38              0          0            0   \n",
       "\n",
       "      PoolArea  MiscVal  MoSold  YrSold  \n",
       "615          0        0       5    2010  \n",
       "613          0        0      12    2007  \n",
       "1303         0        0       4    2006  \n",
       "486          0        0       6    2007  \n",
       "561          0        0       4    2006  \n",
       "\n",
       "[5 rows x 34 columns]"
      ]
     },
     "execution_count": 103,
     "metadata": {},
     "output_type": "execute_result"
    }
   ],
   "source": [
    "#The dataframe passed to the scaler and the logistic regression for feature selection.\n",
    "X_train[[x for x in X_train.columns if x not in feat_to_drop]].head()"
   ]
  },
  {
   "cell_type": "code",
   "execution_count": 104,
   "id": "positive-shape",
   "metadata": {
    "ExecuteTime": {
     "end_time": "2021-02-15T20:11:44.554695Z",
     "start_time": "2021-02-15T20:11:44.546667Z"
    }
   },
   "outputs": [
    {
     "data": {
      "text/plain": [
       "34"
      ]
     },
     "execution_count": 104,
     "metadata": {},
     "output_type": "execute_result"
    }
   ],
   "source": [
    "len(pipeline[\"ModelSelect\"].get_support())"
   ]
  },
  {
   "cell_type": "code",
   "execution_count": 105,
   "id": "simple-burke",
   "metadata": {
    "ExecuteTime": {
     "end_time": "2021-02-15T20:11:44.855676Z",
     "start_time": "2021-02-15T20:11:44.556302Z"
    }
   },
   "outputs": [
    {
     "name": "stdout",
     "output_type": "stream",
     "text": [
      "Train set\n",
      "Random Forests r2 score: 0.8638802258781222\n",
      "Test set\n",
      "Random Forests r2 score: 0.8133325338111255\n"
     ]
    }
   ],
   "source": [
    "run_rf_rgr(X_train_full_pipeline,X_test_full_pipeline,y_train,y_test)"
   ]
  },
  {
   "cell_type": "code",
   "execution_count": 106,
   "id": "opposed-mechanics",
   "metadata": {
    "ExecuteTime": {
     "end_time": "2021-02-15T20:11:45.177078Z",
     "start_time": "2021-02-15T20:11:44.857462Z"
    }
   },
   "outputs": [
    {
     "name": "stdout",
     "output_type": "stream",
     "text": [
      "Train set\n",
      "Random Forests r2 score: 0.8682978495038506\n",
      "Test set\n",
      "Random Forests r2 score: 0.8279605217792527\n"
     ]
    }
   ],
   "source": [
    "run_rf_rgr(X_train.fillna(0),X_test.fillna(0),y_train,y_test)"
   ]
  },
  {
   "cell_type": "code",
   "execution_count": 107,
   "id": "hired-sight",
   "metadata": {
    "ExecuteTime": {
     "end_time": "2021-02-15T20:11:45.180728Z",
     "start_time": "2021-02-15T20:11:45.178467Z"
    }
   },
   "outputs": [
    {
     "name": "stdout",
     "output_type": "stream",
     "text": [
      "Number of features originally:108\n",
      "Number of features after feature selection:6\n"
     ]
    }
   ],
   "source": [
    "print(f\"Number of features originally:{X_train_std.shape[1]}\")\n",
    "print(f\"Number of features after feature selection:{X_train_full_pipeline.shape[1]}\")"
   ]
  },
  {
   "cell_type": "markdown",
   "id": "jewish-oriental",
   "metadata": {},
   "source": [
    "Less performance but with only four features..."
   ]
  },
  {
   "cell_type": "markdown",
   "id": "stupid-hammer",
   "metadata": {},
   "source": [
    "## Recursive Feature Elimination (RFE)"
   ]
  },
  {
   "cell_type": "markdown",
   "id": "explicit-ready",
   "metadata": {},
   "source": [
    "The Recursive Feature Elimination (RFE) works that way:\n",
    "*  First a RandomForest is created using all features.\n",
    "*  Then, the least important features are removed.\n",
    "* After that, we rebuild a new RandomForest and recalculate the importance of the features.\n",
    "* Then we repeat the process until a criteria (number of feature or performance of the model) is reached."
   ]
  },
  {
   "cell_type": "code",
   "execution_count": 108,
   "id": "italian-ontario",
   "metadata": {
    "ExecuteTime": {
     "end_time": "2021-02-15T20:11:45.183793Z",
     "start_time": "2021-02-15T20:11:45.182031Z"
    }
   },
   "outputs": [],
   "source": [
    "from sklearn.feature_selection import RFE"
   ]
  },
  {
   "cell_type": "markdown",
   "id": "corporate-merchandise",
   "metadata": {},
   "source": [
    "### Classification"
   ]
  },
  {
   "cell_type": "code",
   "execution_count": 109,
   "id": "military-people",
   "metadata": {
    "ExecuteTime": {
     "end_time": "2021-02-15T20:11:46.088705Z",
     "start_time": "2021-02-15T20:11:45.185003Z"
    }
   },
   "outputs": [],
   "source": [
    "df = pd.read_csv(\"./precleaned-datasets/dataset_2.csv\")"
   ]
  },
  {
   "cell_type": "code",
   "execution_count": 110,
   "id": "mineral-standing",
   "metadata": {
    "ExecuteTime": {
     "end_time": "2021-02-15T20:11:46.124953Z",
     "start_time": "2021-02-15T20:11:46.090715Z"
    }
   },
   "outputs": [],
   "source": [
    "df = df[[x for x in df.columns if df[x].dtype != \"object\"]]"
   ]
  },
  {
   "cell_type": "code",
   "execution_count": 111,
   "id": "detailed-blade",
   "metadata": {
    "ExecuteTime": {
     "end_time": "2021-02-15T20:11:46.185901Z",
     "start_time": "2021-02-15T20:11:46.127040Z"
    }
   },
   "outputs": [],
   "source": [
    "X_train, X_test, y_train, y_test = train_test_split(df.drop(\n",
    "    labels=[\"target\"], axis=1), df[\"target\"], test_size=0.33, random_state=42)"
   ]
  },
  {
   "cell_type": "code",
   "execution_count": 112,
   "id": "nonprofit-concentrate",
   "metadata": {
    "ExecuteTime": {
     "end_time": "2021-02-15T20:11:46.190731Z",
     "start_time": "2021-02-15T20:11:46.188057Z"
    }
   },
   "outputs": [],
   "source": [
    "# The number of features to select. If `None`, half of the features are selected.\n",
    "sel_ = RFE(RandomForestClassifier(n_estimators=10,n_jobs=-1),\n",
    "           verbose=0, n_features_to_select=27)"
   ]
  },
  {
   "cell_type": "code",
   "execution_count": 113,
   "id": "figured-resort",
   "metadata": {
    "ExecuteTime": {
     "end_time": "2021-02-15T20:12:18.257777Z",
     "start_time": "2021-02-15T20:11:46.192440Z"
    }
   },
   "outputs": [
    {
     "data": {
      "text/plain": [
       "RFE(estimator=RandomForestClassifier(n_estimators=10, n_jobs=-1),\n",
       "    n_features_to_select=27)"
      ]
     },
     "execution_count": 113,
     "metadata": {},
     "output_type": "execute_result"
    }
   ],
   "source": [
    "sel_.fit(X_train,y_train)"
   ]
  },
  {
   "cell_type": "code",
   "execution_count": 114,
   "id": "awful-skirt",
   "metadata": {
    "ExecuteTime": {
     "end_time": "2021-02-15T20:12:18.262449Z",
     "start_time": "2021-02-15T20:12:18.259547Z"
    }
   },
   "outputs": [
    {
     "data": {
      "text/plain": [
       "108"
      ]
     },
     "execution_count": 114,
     "metadata": {},
     "output_type": "execute_result"
    }
   ],
   "source": [
    "len(sel_.get_support())"
   ]
  },
  {
   "cell_type": "code",
   "execution_count": 115,
   "id": "portable-cradle",
   "metadata": {
    "ExecuteTime": {
     "end_time": "2021-02-15T20:12:18.266599Z",
     "start_time": "2021-02-15T20:12:18.264133Z"
    }
   },
   "outputs": [
    {
     "name": "stdout",
     "output_type": "stream",
     "text": [
      "Number of variables selected: 27\n"
     ]
    }
   ],
   "source": [
    "print(f\"Number of variables selected: {len(X_train.columns[(sel_.get_support())])}\")"
   ]
  },
  {
   "cell_type": "code",
   "execution_count": 116,
   "id": "informative-progressive",
   "metadata": {
    "ExecuteTime": {
     "end_time": "2021-02-15T20:12:18.271586Z",
     "start_time": "2021-02-15T20:12:18.268094Z"
    }
   },
   "outputs": [
    {
     "data": {
      "text/plain": [
       "Index(['var_1', 'var_2', 'var_3', 'var_12', 'var_14', 'var_20', 'var_21',\n",
       "       'var_30', 'var_31', 'var_34', 'var_43', 'var_46', 'var_51', 'var_53',\n",
       "       'var_55', 'var_65', 'var_70', 'var_71', 'var_79', 'var_82', 'var_84',\n",
       "       'var_86', 'var_87', 'var_88', 'var_96', 'var_99', 'var_108'],\n",
       "      dtype='object')"
      ]
     },
     "execution_count": 116,
     "metadata": {},
     "output_type": "execute_result"
    }
   ],
   "source": [
    "X_train.columns[(sel_.get_support())]"
   ]
  },
  {
   "cell_type": "code",
   "execution_count": 117,
   "id": "organic-restoration",
   "metadata": {
    "ExecuteTime": {
     "end_time": "2021-02-15T20:12:18.458910Z",
     "start_time": "2021-02-15T20:12:18.273237Z"
    }
   },
   "outputs": [
    {
     "data": {
      "image/png": "[encoded data removed]",
      "text/plain": [
       "<Figure size 432x288 with 1 Axes>"
      ]
     },
     "metadata": {},
     "output_type": "display_data"
    }
   ],
   "source": [
    "pd.Series((sel_.estimator_.feature_importances_.ravel())).hist() #Feature importance\n",
    "plt.xlabel(\"Feature Importance\")\n",
    "plt.ylabel(\"Number of Feature\")\n",
    "plt.show()"
   ]
  },
  {
   "cell_type": "code",
   "execution_count": 118,
   "id": "organic-fruit",
   "metadata": {
    "ExecuteTime": {
     "end_time": "2021-02-15T20:12:18.474672Z",
     "start_time": "2021-02-15T20:12:18.460768Z"
    }
   },
   "outputs": [
    {
     "name": "stdout",
     "output_type": "stream",
     "text": [
      "total features: 108\n",
      "selected features: 27\n",
      "features with coefficients greater than the mean coefficient: 5\n"
     ]
    }
   ],
   "source": [
    "print('total features: {}'.format((X_train.shape[1])))\n",
    "\n",
    "print('selected features: {}'.format(len(X_train.columns[sel_.get_support()])))\n",
    "\n",
    "print(\n",
    "    'features with coefficients greater than the mean coefficient: {}'.format(\n",
    "        np.sum(\n",
    "            np.abs(sel_.estimator_.feature_importances_) > np.abs(\n",
    "                sel_.estimator_.feature_importances_).mean())))"
   ]
  },
  {
   "cell_type": "markdown",
   "id": "after-philosophy",
   "metadata": {},
   "source": [
    "### Regression"
   ]
  },
  {
   "cell_type": "code",
   "execution_count": 119,
   "id": "fatty-variable",
   "metadata": {
    "ExecuteTime": {
     "end_time": "2021-02-15T20:12:18.499486Z",
     "start_time": "2021-02-15T20:12:18.476359Z"
    }
   },
   "outputs": [],
   "source": [
    "df = pd.read_csv(\"./house-prices-advanced-regression-techniques/train.csv\")"
   ]
  },
  {
   "cell_type": "code",
   "execution_count": 120,
   "id": "resident-state",
   "metadata": {
    "ExecuteTime": {
     "end_time": "2021-02-15T20:12:18.508238Z",
     "start_time": "2021-02-15T20:12:18.501352Z"
    }
   },
   "outputs": [],
   "source": [
    "df = df[[x for x in df.columns if df[x].dtype != \"object\"]]"
   ]
  },
  {
   "cell_type": "code",
   "execution_count": 121,
   "id": "gentle-japanese",
   "metadata": {
    "ExecuteTime": {
     "end_time": "2021-02-15T20:12:18.520986Z",
     "start_time": "2021-02-15T20:12:18.510364Z"
    }
   },
   "outputs": [],
   "source": [
    "X_train, X_test, y_train, y_test = train_test_split(df.drop(\n",
    "    labels=[\"SalePrice\"], axis=1), df[\"SalePrice\"], test_size=0.33, random_state=42)"
   ]
  },
  {
   "cell_type": "code",
   "execution_count": 122,
   "id": "deluxe-illinois",
   "metadata": {
    "ExecuteTime": {
     "end_time": "2021-02-15T20:12:18.525310Z",
     "start_time": "2021-02-15T20:12:18.522541Z"
    }
   },
   "outputs": [],
   "source": [
    "# The number of features to select. If `None`, half of the features are selected.\n",
    "sel_ = RFE(RandomForestRegressor(n_estimators=10,n_jobs=-1),\n",
    "           verbose=0, n_features_to_select=27)"
   ]
  },
  {
   "cell_type": "code",
   "execution_count": 123,
   "id": "parental-shelf",
   "metadata": {
    "ExecuteTime": {
     "end_time": "2021-02-15T20:12:18.869353Z",
     "start_time": "2021-02-15T20:12:18.527228Z"
    }
   },
   "outputs": [
    {
     "data": {
      "text/plain": [
       "RFE(estimator=RandomForestRegressor(n_estimators=10, n_jobs=-1),\n",
       "    n_features_to_select=27)"
      ]
     },
     "execution_count": 123,
     "metadata": {},
     "output_type": "execute_result"
    }
   ],
   "source": [
    "sel_.fit(X_train.fillna(0),y_train)"
   ]
  },
  {
   "cell_type": "code",
   "execution_count": 124,
   "id": "exclusive-visitor",
   "metadata": {
    "ExecuteTime": {
     "end_time": "2021-02-15T20:12:18.874252Z",
     "start_time": "2021-02-15T20:12:18.871007Z"
    }
   },
   "outputs": [
    {
     "data": {
      "text/plain": [
       "37"
      ]
     },
     "execution_count": 124,
     "metadata": {},
     "output_type": "execute_result"
    }
   ],
   "source": [
    "len(sel_.get_support())"
   ]
  },
  {
   "cell_type": "code",
   "execution_count": 125,
   "id": "synthetic-decision",
   "metadata": {
    "ExecuteTime": {
     "end_time": "2021-02-15T20:12:18.878228Z",
     "start_time": "2021-02-15T20:12:18.875676Z"
    }
   },
   "outputs": [
    {
     "name": "stdout",
     "output_type": "stream",
     "text": [
      "Number of variables selected: 27\n"
     ]
    }
   ],
   "source": [
    "print(f\"Number of variables selected: {len(X_train.columns[(sel_.get_support())])}\")"
   ]
  },
  {
   "cell_type": "code",
   "execution_count": 126,
   "id": "resistant-jacket",
   "metadata": {
    "ExecuteTime": {
     "end_time": "2021-02-15T20:12:18.883594Z",
     "start_time": "2021-02-15T20:12:18.880024Z"
    }
   },
   "outputs": [
    {
     "data": {
      "text/plain": [
       "Index(['Id', 'MSSubClass', 'LotFrontage', 'LotArea', 'OverallQual',\n",
       "       'OverallCond', 'YearBuilt', 'YearRemodAdd', 'MasVnrArea', 'BsmtFinSF1',\n",
       "       'BsmtUnfSF', 'TotalBsmtSF', '1stFlrSF', '2ndFlrSF', 'GrLivArea',\n",
       "       'BsmtFullBath', 'BedroomAbvGr', 'TotRmsAbvGrd', 'Fireplaces',\n",
       "       'GarageYrBlt', 'GarageCars', 'GarageArea', 'WoodDeckSF', 'OpenPorchSF',\n",
       "       'ScreenPorch', 'MoSold', 'YrSold'],\n",
       "      dtype='object')"
      ]
     },
     "execution_count": 126,
     "metadata": {},
     "output_type": "execute_result"
    }
   ],
   "source": [
    "X_train.columns[(sel_.get_support())]"
   ]
  },
  {
   "cell_type": "code",
   "execution_count": 127,
   "id": "rental-herald",
   "metadata": {
    "ExecuteTime": {
     "end_time": "2021-02-15T20:12:19.058374Z",
     "start_time": "2021-02-15T20:12:18.885332Z"
    }
   },
   "outputs": [
    {
     "data": {
      "image/png": "[encoded data removed]",
      "text/plain": [
       "<Figure size 432x288 with 1 Axes>"
      ]
     },
     "metadata": {},
     "output_type": "display_data"
    }
   ],
   "source": [
    "pd.Series((sel_.estimator_.feature_importances_.ravel())).hist() #Feature importance\n",
    "plt.xlabel(\"Feature Importance\")\n",
    "plt.ylabel(\"Number of Feature\")\n",
    "plt.show()"
   ]
  },
  {
   "cell_type": "code",
   "execution_count": 128,
   "id": "stuck-brake",
   "metadata": {
    "ExecuteTime": {
     "end_time": "2021-02-15T20:12:19.073646Z",
     "start_time": "2021-02-15T20:12:19.060240Z"
    }
   },
   "outputs": [
    {
     "name": "stdout",
     "output_type": "stream",
     "text": [
      "total features: 37\n",
      "selected features: 27\n",
      "features with coefficients greater than the mean coefficient: 3\n"
     ]
    }
   ],
   "source": [
    "print('total features: {}'.format((X_train.shape[1])))\n",
    "\n",
    "print('selected features: {}'.format(len(X_train.columns[sel_.get_support()])))\n",
    "\n",
    "print(\n",
    "    'features with coefficients greater than the mean coefficient: {}'.format(\n",
    "        np.sum(\n",
    "            np.abs(sel_.estimator_.feature_importances_) > np.abs(\n",
    "                sel_.estimator_.feature_importances_).mean())))"
   ]
  }
 ],
 "metadata": {
  "hide_input": false,
  "kernelspec": {
   "display_name": "Python 3",
   "language": "python",
   "name": "python3"
  },
  "language_info": {
   "codemirror_mode": {
    "name": "ipython",
    "version": 3
   },
   "file_extension": ".py",
   "mimetype": "text/x-python",
   "name": "python",
   "nbconvert_exporter": "python",
   "pygments_lexer": "ipython3",
   "version": "3.8.5"
  },
  "toc": {
   "base_numbering": 1,
   "nav_menu": {},
   "number_sections": true,
   "sideBar": true,
   "skip_h1_title": false,
   "title_cell": "Table of Contents",
   "title_sidebar": "Contents",
   "toc_cell": false,
   "toc_position": {
    "height": "calc(100% - 180px)",
    "left": "10px",
    "top": "150px",
    "width": "358.390625px"
   },
   "toc_section_display": true,
   "toc_window_display": true
  },
  "varInspector": {
   "cols": {
    "lenName": 16,
    "lenType": 16,
    "lenVar": 40
   },
   "kernels_config": {
    "python": {
     "delete_cmd_postfix": "",
     "delete_cmd_prefix": "del ",
     "library": "var_list.py",
     "varRefreshCmd": "print(var_dic_list())"
    },
    "r": {
     "delete_cmd_postfix": ") ",
     "delete_cmd_prefix": "rm(",
     "library": "var_list.r",
     "varRefreshCmd": "cat(var_dic_list()) "
    }
   },
   "types_to_exclude": [
    "module",
    "function",
    "builtin_function_or_method",
    "instance",
    "_Feature"
   ],
   "window_display": false
  }
 },
 "nbformat": 4,
 "nbformat_minor": 5
}
