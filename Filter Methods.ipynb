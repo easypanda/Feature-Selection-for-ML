{
 "cells": [
  {
   "cell_type": "code",
   "execution_count": 1,
   "id": "acquired-drink",
   "metadata": {
    "ExecuteTime": {
     "end_time": "2021-02-10T20:30:55.628217Z",
     "start_time": "2021-02-10T20:30:54.761777Z"
    }
   },
   "outputs": [],
   "source": [
    "#import libraries\n",
    "import pandas as pd\n",
    "import numpy as np\n",
    "\n",
    "from sklearn.model_selection import train_test_split\n",
    "\n",
    "from sklearn.feature_selection import VarianceThreshold\n",
    "\n",
    "from sklearn.pipeline import Pipeline\n",
    "\n",
    "from sklearn.model_selection import cross_validate\n",
    "\n",
    "from tqdm import tqdm\n",
    "\n",
    "import matplotlib.pyplot as plt\n",
    "import seaborn as sns\n",
    "sns.set_style(\"whitegrid\")"
   ]
  },
  {
   "cell_type": "code",
   "execution_count": 2,
   "id": "optional-yugoslavia",
   "metadata": {
    "ExecuteTime": {
     "end_time": "2021-02-10T20:30:55.632679Z",
     "start_time": "2021-02-10T20:30:55.630284Z"
    }
   },
   "outputs": [],
   "source": [
    "pd.set_option(\"display.precision\", 4)"
   ]
  },
  {
   "cell_type": "code",
   "execution_count": 3,
   "id": "transparent-italy",
   "metadata": {
    "ExecuteTime": {
     "end_time": "2021-02-10T20:30:56.585018Z",
     "start_time": "2021-02-10T20:30:55.635564Z"
    }
   },
   "outputs": [],
   "source": [
    "#Reading the data\n",
    "df = pd.read_csv(\"./precleaned-datasets/dataset_1.csv\")"
   ]
  },
  {
   "cell_type": "code",
   "execution_count": 4,
   "id": "minus-scoop",
   "metadata": {
    "ExecuteTime": {
     "end_time": "2021-02-10T20:30:56.609759Z",
     "start_time": "2021-02-10T20:30:56.587456Z"
    }
   },
   "outputs": [
    {
     "data": {
      "text/html": [
       "<div>\n",
       "<style scoped>\n",
       "    .dataframe tbody tr th:only-of-type {\n",
       "        vertical-align: middle;\n",
       "    }\n",
       "\n",
       "    .dataframe tbody tr th {\n",
       "        vertical-align: top;\n",
       "    }\n",
       "\n",
       "    .dataframe thead th {\n",
       "        text-align: right;\n",
       "    }\n",
       "</style>\n",
       "<table border=\"1\" class=\"dataframe\">\n",
       "  <thead>\n",
       "    <tr style=\"text-align: right;\">\n",
       "      <th></th>\n",
       "      <th>var_1</th>\n",
       "      <th>var_2</th>\n",
       "      <th>var_3</th>\n",
       "      <th>var_4</th>\n",
       "      <th>var_5</th>\n",
       "      <th>var_6</th>\n",
       "      <th>var_7</th>\n",
       "      <th>var_8</th>\n",
       "      <th>var_9</th>\n",
       "      <th>var_10</th>\n",
       "      <th>...</th>\n",
       "      <th>var_292</th>\n",
       "      <th>var_293</th>\n",
       "      <th>var_294</th>\n",
       "      <th>var_295</th>\n",
       "      <th>var_296</th>\n",
       "      <th>var_297</th>\n",
       "      <th>var_298</th>\n",
       "      <th>var_299</th>\n",
       "      <th>var_300</th>\n",
       "      <th>target</th>\n",
       "    </tr>\n",
       "  </thead>\n",
       "  <tbody>\n",
       "    <tr>\n",
       "      <th>0</th>\n",
       "      <td>0</td>\n",
       "      <td>0</td>\n",
       "      <td>0.0</td>\n",
       "      <td>0.00</td>\n",
       "      <td>0.0</td>\n",
       "      <td>0</td>\n",
       "      <td>0</td>\n",
       "      <td>0</td>\n",
       "      <td>0</td>\n",
       "      <td>0</td>\n",
       "      <td>...</td>\n",
       "      <td>0.0</td>\n",
       "      <td>0</td>\n",
       "      <td>0</td>\n",
       "      <td>0</td>\n",
       "      <td>0</td>\n",
       "      <td>0</td>\n",
       "      <td>0</td>\n",
       "      <td>0.0</td>\n",
       "      <td>0.0000</td>\n",
       "      <td>0</td>\n",
       "    </tr>\n",
       "    <tr>\n",
       "      <th>1</th>\n",
       "      <td>0</td>\n",
       "      <td>0</td>\n",
       "      <td>0.0</td>\n",
       "      <td>3.00</td>\n",
       "      <td>0.0</td>\n",
       "      <td>0</td>\n",
       "      <td>0</td>\n",
       "      <td>0</td>\n",
       "      <td>0</td>\n",
       "      <td>0</td>\n",
       "      <td>...</td>\n",
       "      <td>0.0</td>\n",
       "      <td>0</td>\n",
       "      <td>0</td>\n",
       "      <td>0</td>\n",
       "      <td>0</td>\n",
       "      <td>0</td>\n",
       "      <td>0</td>\n",
       "      <td>0.0</td>\n",
       "      <td>0.0000</td>\n",
       "      <td>0</td>\n",
       "    </tr>\n",
       "    <tr>\n",
       "      <th>2</th>\n",
       "      <td>0</td>\n",
       "      <td>0</td>\n",
       "      <td>0.0</td>\n",
       "      <td>5.88</td>\n",
       "      <td>0.0</td>\n",
       "      <td>0</td>\n",
       "      <td>0</td>\n",
       "      <td>0</td>\n",
       "      <td>0</td>\n",
       "      <td>0</td>\n",
       "      <td>...</td>\n",
       "      <td>0.0</td>\n",
       "      <td>0</td>\n",
       "      <td>0</td>\n",
       "      <td>3</td>\n",
       "      <td>0</td>\n",
       "      <td>0</td>\n",
       "      <td>0</td>\n",
       "      <td>0.0</td>\n",
       "      <td>67772.7216</td>\n",
       "      <td>0</td>\n",
       "    </tr>\n",
       "    <tr>\n",
       "      <th>3</th>\n",
       "      <td>0</td>\n",
       "      <td>0</td>\n",
       "      <td>0.0</td>\n",
       "      <td>14.10</td>\n",
       "      <td>0.0</td>\n",
       "      <td>0</td>\n",
       "      <td>0</td>\n",
       "      <td>0</td>\n",
       "      <td>0</td>\n",
       "      <td>0</td>\n",
       "      <td>...</td>\n",
       "      <td>0.0</td>\n",
       "      <td>0</td>\n",
       "      <td>0</td>\n",
       "      <td>0</td>\n",
       "      <td>0</td>\n",
       "      <td>0</td>\n",
       "      <td>0</td>\n",
       "      <td>0.0</td>\n",
       "      <td>0.0000</td>\n",
       "      <td>0</td>\n",
       "    </tr>\n",
       "    <tr>\n",
       "      <th>4</th>\n",
       "      <td>0</td>\n",
       "      <td>0</td>\n",
       "      <td>0.0</td>\n",
       "      <td>5.76</td>\n",
       "      <td>0.0</td>\n",
       "      <td>0</td>\n",
       "      <td>0</td>\n",
       "      <td>0</td>\n",
       "      <td>0</td>\n",
       "      <td>0</td>\n",
       "      <td>...</td>\n",
       "      <td>0.0</td>\n",
       "      <td>0</td>\n",
       "      <td>0</td>\n",
       "      <td>0</td>\n",
       "      <td>0</td>\n",
       "      <td>0</td>\n",
       "      <td>0</td>\n",
       "      <td>0.0</td>\n",
       "      <td>0.0000</td>\n",
       "      <td>0</td>\n",
       "    </tr>\n",
       "  </tbody>\n",
       "</table>\n",
       "<p>5 rows × 301 columns</p>\n",
       "</div>"
      ],
      "text/plain": [
       "   var_1  var_2  var_3  var_4  var_5  var_6  var_7  var_8  var_9  var_10  ...  \\\n",
       "0      0      0    0.0   0.00    0.0      0      0      0      0       0  ...   \n",
       "1      0      0    0.0   3.00    0.0      0      0      0      0       0  ...   \n",
       "2      0      0    0.0   5.88    0.0      0      0      0      0       0  ...   \n",
       "3      0      0    0.0  14.10    0.0      0      0      0      0       0  ...   \n",
       "4      0      0    0.0   5.76    0.0      0      0      0      0       0  ...   \n",
       "\n",
       "   var_292  var_293  var_294  var_295  var_296  var_297  var_298  var_299  \\\n",
       "0      0.0        0        0        0        0        0        0      0.0   \n",
       "1      0.0        0        0        0        0        0        0      0.0   \n",
       "2      0.0        0        0        3        0        0        0      0.0   \n",
       "3      0.0        0        0        0        0        0        0      0.0   \n",
       "4      0.0        0        0        0        0        0        0      0.0   \n",
       "\n",
       "      var_300  target  \n",
       "0      0.0000       0  \n",
       "1      0.0000       0  \n",
       "2  67772.7216       0  \n",
       "3      0.0000       0  \n",
       "4      0.0000       0  \n",
       "\n",
       "[5 rows x 301 columns]"
      ]
     },
     "execution_count": 4,
     "metadata": {},
     "output_type": "execute_result"
    }
   ],
   "source": [
    "df.head()"
   ]
  },
  {
   "cell_type": "code",
   "execution_count": 5,
   "id": "sublime-constitutional",
   "metadata": {
    "ExecuteTime": {
     "end_time": "2021-02-10T20:30:56.812651Z",
     "start_time": "2021-02-10T20:30:56.611528Z"
    }
   },
   "outputs": [],
   "source": [
    "X_train, X_test, y_train, y_test = train_test_split(df.drop(\n",
    "    labels=[\"target\"], axis=1), df[\"target\"], test_size=0.33, random_state=42)"
   ]
  },
  {
   "cell_type": "markdown",
   "id": "enormous-links",
   "metadata": {},
   "source": [
    "# Constant Features, Quasi-Constant Features and Duplicated Features"
   ]
  },
  {
   "cell_type": "markdown",
   "id": "clinical-discussion",
   "metadata": {
    "ExecuteTime": {
     "end_time": "2021-02-10T14:12:59.133533Z",
     "start_time": "2021-02-10T14:12:59.131619Z"
    }
   },
   "source": [
    "## Removing Constant Features"
   ]
  },
  {
   "cell_type": "markdown",
   "id": "lesser-pursuit",
   "metadata": {},
   "source": [
    "### Using Scikit-Learn"
   ]
  },
  {
   "cell_type": "code",
   "execution_count": 6,
   "id": "western-pepper",
   "metadata": {
    "ExecuteTime": {
     "end_time": "2021-02-10T20:30:56.816764Z",
     "start_time": "2021-02-10T20:30:56.814483Z"
    }
   },
   "outputs": [],
   "source": [
    "sel = VarianceThreshold(threshold=0.0) #Remove the features with zero variance."
   ]
  },
  {
   "cell_type": "code",
   "execution_count": 7,
   "id": "medical-discrimination",
   "metadata": {
    "ExecuteTime": {
     "end_time": "2021-02-10T20:30:57.047921Z",
     "start_time": "2021-02-10T20:30:56.818539Z"
    }
   },
   "outputs": [],
   "source": [
    "X_train_sklearn = sel.fit_transform(X_train)"
   ]
  },
  {
   "cell_type": "code",
   "execution_count": 8,
   "id": "charming-shower",
   "metadata": {
    "ExecuteTime": {
     "end_time": "2021-02-10T20:30:57.056260Z",
     "start_time": "2021-02-10T20:30:57.050539Z"
    }
   },
   "outputs": [
    {
     "data": {
      "text/plain": [
       "array([ True,  True,  True,  True,  True,  True,  True,  True,  True,\n",
       "        True])"
      ]
     },
     "execution_count": 8,
     "metadata": {},
     "output_type": "execute_result"
    }
   ],
   "source": [
    "sel.get_support()[:10] #example of get_support()"
   ]
  },
  {
   "cell_type": "code",
   "execution_count": 9,
   "id": "plain-syndrome",
   "metadata": {
    "ExecuteTime": {
     "end_time": "2021-02-10T20:30:57.063538Z",
     "start_time": "2021-02-10T20:30:57.060813Z"
    }
   },
   "outputs": [
    {
     "name": "stdout",
     "output_type": "stream",
     "text": [
      "Original dataset has 300 features and after removing the constant features 258.\n"
     ]
    }
   ],
   "source": [
    "print(\n",
    "    f\"Original dataset has {X_train.shape[1]} features and after removing the constant features {X_train_sklearn.shape[1]}.\")"
   ]
  },
  {
   "cell_type": "code",
   "execution_count": 10,
   "id": "expanded-cooper",
   "metadata": {
    "ExecuteTime": {
     "end_time": "2021-02-10T20:30:57.071310Z",
     "start_time": "2021-02-10T20:30:57.066828Z"
    }
   },
   "outputs": [
    {
     "data": {
      "text/plain": [
       "Index(['var_14', 'var_23', 'var_33', 'var_34', 'var_44', 'var_61', 'var_66',\n",
       "       'var_67', 'var_69', 'var_73', 'var_80', 'var_81', 'var_87', 'var_89',\n",
       "       'var_92', 'var_97', 'var_99', 'var_112', 'var_113', 'var_120',\n",
       "       'var_122', 'var_127', 'var_129', 'var_135', 'var_158', 'var_167',\n",
       "       'var_171', 'var_178', 'var_180', 'var_182', 'var_183', 'var_195',\n",
       "       'var_196', 'var_201', 'var_212', 'var_215', 'var_225', 'var_227',\n",
       "       'var_248', 'var_287', 'var_294', 'var_297'],\n",
       "      dtype='object')"
      ]
     },
     "execution_count": 10,
     "metadata": {},
     "output_type": "execute_result"
    }
   ],
   "source": [
    "#Lisf of the deleted features\n",
    "X_train.columns[~sel.get_support()]"
   ]
  },
  {
   "cell_type": "code",
   "execution_count": 11,
   "id": "formed-classification",
   "metadata": {
    "ExecuteTime": {
     "end_time": "2021-02-10T20:30:57.075232Z",
     "start_time": "2021-02-10T20:30:57.072884Z"
    }
   },
   "outputs": [],
   "source": [
    "feature_names = X_train.columns[sel.get_support()]"
   ]
  },
  {
   "cell_type": "markdown",
   "id": "guilty-trigger",
   "metadata": {
    "ExecuteTime": {
     "end_time": "2021-02-10T16:34:28.203221Z",
     "start_time": "2021-02-10T16:34:28.199830Z"
    }
   },
   "source": [
    "If the variables are numerical is ok, but if the variables are categorical, we need to encode them before. "
   ]
  },
  {
   "cell_type": "markdown",
   "id": "union-speed",
   "metadata": {},
   "source": [
    "### Using Pandas"
   ]
  },
  {
   "cell_type": "markdown",
   "id": "russian-teens",
   "metadata": {},
   "source": [
    "#### Method STD()"
   ]
  },
  {
   "cell_type": "code",
   "execution_count": 12,
   "id": "ranking-nylon",
   "metadata": {
    "ExecuteTime": {
     "end_time": "2021-02-10T20:30:57.220439Z",
     "start_time": "2021-02-10T20:30:57.078482Z"
    }
   },
   "outputs": [],
   "source": [
    "constant_feature = [\n",
    "    feat for feat in X_train.columns if X_train[feat].std() == 0]"
   ]
  },
  {
   "cell_type": "code",
   "execution_count": 13,
   "id": "otherwise-crime",
   "metadata": {
    "ExecuteTime": {
     "end_time": "2021-02-10T20:30:57.225407Z",
     "start_time": "2021-02-10T20:30:57.222296Z"
    }
   },
   "outputs": [
    {
     "data": {
      "text/plain": [
       "42"
      ]
     },
     "execution_count": 13,
     "metadata": {},
     "output_type": "execute_result"
    }
   ],
   "source": [
    "len(constant_feature)"
   ]
  },
  {
   "cell_type": "code",
   "execution_count": 14,
   "id": "fleet-macintosh",
   "metadata": {
    "ExecuteTime": {
     "end_time": "2021-02-10T20:30:57.281613Z",
     "start_time": "2021-02-10T20:30:57.226906Z"
    }
   },
   "outputs": [
    {
     "data": {
      "text/html": [
       "<div>\n",
       "<style scoped>\n",
       "    .dataframe tbody tr th:only-of-type {\n",
       "        vertical-align: middle;\n",
       "    }\n",
       "\n",
       "    .dataframe tbody tr th {\n",
       "        vertical-align: top;\n",
       "    }\n",
       "\n",
       "    .dataframe thead th {\n",
       "        text-align: right;\n",
       "    }\n",
       "</style>\n",
       "<table border=\"1\" class=\"dataframe\">\n",
       "  <thead>\n",
       "    <tr style=\"text-align: right;\">\n",
       "      <th></th>\n",
       "      <th>var_1</th>\n",
       "      <th>var_2</th>\n",
       "      <th>var_3</th>\n",
       "      <th>var_4</th>\n",
       "      <th>var_5</th>\n",
       "      <th>var_6</th>\n",
       "      <th>var_7</th>\n",
       "      <th>var_8</th>\n",
       "      <th>var_9</th>\n",
       "      <th>var_10</th>\n",
       "      <th>...</th>\n",
       "      <th>var_289</th>\n",
       "      <th>var_290</th>\n",
       "      <th>var_291</th>\n",
       "      <th>var_292</th>\n",
       "      <th>var_293</th>\n",
       "      <th>var_295</th>\n",
       "      <th>var_296</th>\n",
       "      <th>var_298</th>\n",
       "      <th>var_299</th>\n",
       "      <th>var_300</th>\n",
       "    </tr>\n",
       "  </thead>\n",
       "  <tbody>\n",
       "    <tr>\n",
       "      <th>23990</th>\n",
       "      <td>0</td>\n",
       "      <td>0</td>\n",
       "      <td>0.0</td>\n",
       "      <td>2.79</td>\n",
       "      <td>0.0</td>\n",
       "      <td>0</td>\n",
       "      <td>0</td>\n",
       "      <td>0</td>\n",
       "      <td>0</td>\n",
       "      <td>0</td>\n",
       "      <td>...</td>\n",
       "      <td>0</td>\n",
       "      <td>0.0</td>\n",
       "      <td>0</td>\n",
       "      <td>0.0</td>\n",
       "      <td>0</td>\n",
       "      <td>0</td>\n",
       "      <td>0</td>\n",
       "      <td>0</td>\n",
       "      <td>0.0</td>\n",
       "      <td>0.0</td>\n",
       "    </tr>\n",
       "    <tr>\n",
       "      <th>8729</th>\n",
       "      <td>0</td>\n",
       "      <td>0</td>\n",
       "      <td>0.0</td>\n",
       "      <td>0.00</td>\n",
       "      <td>0.0</td>\n",
       "      <td>0</td>\n",
       "      <td>0</td>\n",
       "      <td>0</td>\n",
       "      <td>0</td>\n",
       "      <td>0</td>\n",
       "      <td>...</td>\n",
       "      <td>0</td>\n",
       "      <td>0.0</td>\n",
       "      <td>0</td>\n",
       "      <td>0.0</td>\n",
       "      <td>0</td>\n",
       "      <td>0</td>\n",
       "      <td>0</td>\n",
       "      <td>0</td>\n",
       "      <td>0.0</td>\n",
       "      <td>0.0</td>\n",
       "    </tr>\n",
       "    <tr>\n",
       "      <th>3451</th>\n",
       "      <td>0</td>\n",
       "      <td>0</td>\n",
       "      <td>0.0</td>\n",
       "      <td>2.79</td>\n",
       "      <td>0.0</td>\n",
       "      <td>0</td>\n",
       "      <td>0</td>\n",
       "      <td>0</td>\n",
       "      <td>0</td>\n",
       "      <td>0</td>\n",
       "      <td>...</td>\n",
       "      <td>0</td>\n",
       "      <td>0.0</td>\n",
       "      <td>0</td>\n",
       "      <td>0.0</td>\n",
       "      <td>0</td>\n",
       "      <td>0</td>\n",
       "      <td>0</td>\n",
       "      <td>0</td>\n",
       "      <td>0.0</td>\n",
       "      <td>0.0</td>\n",
       "    </tr>\n",
       "    <tr>\n",
       "      <th>2628</th>\n",
       "      <td>0</td>\n",
       "      <td>0</td>\n",
       "      <td>0.0</td>\n",
       "      <td>2.76</td>\n",
       "      <td>0.0</td>\n",
       "      <td>0</td>\n",
       "      <td>0</td>\n",
       "      <td>0</td>\n",
       "      <td>0</td>\n",
       "      <td>0</td>\n",
       "      <td>...</td>\n",
       "      <td>0</td>\n",
       "      <td>0.0</td>\n",
       "      <td>0</td>\n",
       "      <td>0.0</td>\n",
       "      <td>0</td>\n",
       "      <td>0</td>\n",
       "      <td>0</td>\n",
       "      <td>0</td>\n",
       "      <td>0.0</td>\n",
       "      <td>0.0</td>\n",
       "    </tr>\n",
       "    <tr>\n",
       "      <th>38352</th>\n",
       "      <td>0</td>\n",
       "      <td>0</td>\n",
       "      <td>0.0</td>\n",
       "      <td>2.88</td>\n",
       "      <td>0.0</td>\n",
       "      <td>0</td>\n",
       "      <td>0</td>\n",
       "      <td>0</td>\n",
       "      <td>0</td>\n",
       "      <td>0</td>\n",
       "      <td>...</td>\n",
       "      <td>0</td>\n",
       "      <td>0.0</td>\n",
       "      <td>0</td>\n",
       "      <td>0.0</td>\n",
       "      <td>0</td>\n",
       "      <td>0</td>\n",
       "      <td>0</td>\n",
       "      <td>0</td>\n",
       "      <td>0.0</td>\n",
       "      <td>0.0</td>\n",
       "    </tr>\n",
       "  </tbody>\n",
       "</table>\n",
       "<p>5 rows × 258 columns</p>\n",
       "</div>"
      ],
      "text/plain": [
       "       var_1  var_2  var_3  var_4  var_5  var_6  var_7  var_8  var_9  var_10  \\\n",
       "23990      0      0    0.0   2.79    0.0      0      0      0      0       0   \n",
       "8729       0      0    0.0   0.00    0.0      0      0      0      0       0   \n",
       "3451       0      0    0.0   2.79    0.0      0      0      0      0       0   \n",
       "2628       0      0    0.0   2.76    0.0      0      0      0      0       0   \n",
       "38352      0      0    0.0   2.88    0.0      0      0      0      0       0   \n",
       "\n",
       "       ...  var_289  var_290  var_291  var_292  var_293  var_295  var_296  \\\n",
       "23990  ...        0      0.0        0      0.0        0        0        0   \n",
       "8729   ...        0      0.0        0      0.0        0        0        0   \n",
       "3451   ...        0      0.0        0      0.0        0        0        0   \n",
       "2628   ...        0      0.0        0      0.0        0        0        0   \n",
       "38352  ...        0      0.0        0      0.0        0        0        0   \n",
       "\n",
       "       var_298  var_299  var_300  \n",
       "23990        0      0.0      0.0  \n",
       "8729         0      0.0      0.0  \n",
       "3451         0      0.0      0.0  \n",
       "2628         0      0.0      0.0  \n",
       "38352        0      0.0      0.0  \n",
       "\n",
       "[5 rows x 258 columns]"
      ]
     },
     "execution_count": 14,
     "metadata": {},
     "output_type": "execute_result"
    }
   ],
   "source": [
    "X_train.drop(labels=constant_feature,axis=1).head()"
   ]
  },
  {
   "cell_type": "markdown",
   "id": "conventional-horror",
   "metadata": {},
   "source": [
    "If the variables are numerical is ok, but if the variables are categorical, we need to encode them before. "
   ]
  },
  {
   "cell_type": "markdown",
   "id": "registered-teacher",
   "metadata": {},
   "source": [
    "#### Method nunique()"
   ]
  },
  {
   "cell_type": "code",
   "execution_count": 15,
   "id": "spoken-trance",
   "metadata": {
    "ExecuteTime": {
     "end_time": "2021-02-10T20:30:57.445095Z",
     "start_time": "2021-02-10T20:30:57.283348Z"
    }
   },
   "outputs": [],
   "source": [
    "# But ignore missing values, so have to be dropped by using dropna.\n",
    "constant_feature_2 = [\n",
    "    feat for feat in X_train.columns if X_train[feat].nunique() == 1]"
   ]
  },
  {
   "cell_type": "code",
   "execution_count": 16,
   "id": "different-switch",
   "metadata": {
    "ExecuteTime": {
     "end_time": "2021-02-10T20:30:57.449268Z",
     "start_time": "2021-02-10T20:30:57.446454Z"
    }
   },
   "outputs": [
    {
     "data": {
      "text/plain": [
       "42"
      ]
     },
     "execution_count": 16,
     "metadata": {},
     "output_type": "execute_result"
    }
   ],
   "source": [
    "len(constant_feature_2)"
   ]
  },
  {
   "cell_type": "code",
   "execution_count": 17,
   "id": "wooden-values",
   "metadata": {
    "ExecuteTime": {
     "end_time": "2021-02-10T20:30:57.514702Z",
     "start_time": "2021-02-10T20:30:57.450543Z"
    }
   },
   "outputs": [
    {
     "data": {
      "text/html": [
       "<div>\n",
       "<style scoped>\n",
       "    .dataframe tbody tr th:only-of-type {\n",
       "        vertical-align: middle;\n",
       "    }\n",
       "\n",
       "    .dataframe tbody tr th {\n",
       "        vertical-align: top;\n",
       "    }\n",
       "\n",
       "    .dataframe thead th {\n",
       "        text-align: right;\n",
       "    }\n",
       "</style>\n",
       "<table border=\"1\" class=\"dataframe\">\n",
       "  <thead>\n",
       "    <tr style=\"text-align: right;\">\n",
       "      <th></th>\n",
       "      <th>var_1</th>\n",
       "      <th>var_2</th>\n",
       "      <th>var_3</th>\n",
       "      <th>var_4</th>\n",
       "      <th>var_5</th>\n",
       "      <th>var_6</th>\n",
       "      <th>var_7</th>\n",
       "      <th>var_8</th>\n",
       "      <th>var_9</th>\n",
       "      <th>var_10</th>\n",
       "      <th>...</th>\n",
       "      <th>var_289</th>\n",
       "      <th>var_290</th>\n",
       "      <th>var_291</th>\n",
       "      <th>var_292</th>\n",
       "      <th>var_293</th>\n",
       "      <th>var_295</th>\n",
       "      <th>var_296</th>\n",
       "      <th>var_298</th>\n",
       "      <th>var_299</th>\n",
       "      <th>var_300</th>\n",
       "    </tr>\n",
       "  </thead>\n",
       "  <tbody>\n",
       "    <tr>\n",
       "      <th>23990</th>\n",
       "      <td>0</td>\n",
       "      <td>0</td>\n",
       "      <td>0.0</td>\n",
       "      <td>2.79</td>\n",
       "      <td>0.0</td>\n",
       "      <td>0</td>\n",
       "      <td>0</td>\n",
       "      <td>0</td>\n",
       "      <td>0</td>\n",
       "      <td>0</td>\n",
       "      <td>...</td>\n",
       "      <td>0</td>\n",
       "      <td>0.0</td>\n",
       "      <td>0</td>\n",
       "      <td>0.0</td>\n",
       "      <td>0</td>\n",
       "      <td>0</td>\n",
       "      <td>0</td>\n",
       "      <td>0</td>\n",
       "      <td>0.0</td>\n",
       "      <td>0.0</td>\n",
       "    </tr>\n",
       "    <tr>\n",
       "      <th>8729</th>\n",
       "      <td>0</td>\n",
       "      <td>0</td>\n",
       "      <td>0.0</td>\n",
       "      <td>0.00</td>\n",
       "      <td>0.0</td>\n",
       "      <td>0</td>\n",
       "      <td>0</td>\n",
       "      <td>0</td>\n",
       "      <td>0</td>\n",
       "      <td>0</td>\n",
       "      <td>...</td>\n",
       "      <td>0</td>\n",
       "      <td>0.0</td>\n",
       "      <td>0</td>\n",
       "      <td>0.0</td>\n",
       "      <td>0</td>\n",
       "      <td>0</td>\n",
       "      <td>0</td>\n",
       "      <td>0</td>\n",
       "      <td>0.0</td>\n",
       "      <td>0.0</td>\n",
       "    </tr>\n",
       "    <tr>\n",
       "      <th>3451</th>\n",
       "      <td>0</td>\n",
       "      <td>0</td>\n",
       "      <td>0.0</td>\n",
       "      <td>2.79</td>\n",
       "      <td>0.0</td>\n",
       "      <td>0</td>\n",
       "      <td>0</td>\n",
       "      <td>0</td>\n",
       "      <td>0</td>\n",
       "      <td>0</td>\n",
       "      <td>...</td>\n",
       "      <td>0</td>\n",
       "      <td>0.0</td>\n",
       "      <td>0</td>\n",
       "      <td>0.0</td>\n",
       "      <td>0</td>\n",
       "      <td>0</td>\n",
       "      <td>0</td>\n",
       "      <td>0</td>\n",
       "      <td>0.0</td>\n",
       "      <td>0.0</td>\n",
       "    </tr>\n",
       "    <tr>\n",
       "      <th>2628</th>\n",
       "      <td>0</td>\n",
       "      <td>0</td>\n",
       "      <td>0.0</td>\n",
       "      <td>2.76</td>\n",
       "      <td>0.0</td>\n",
       "      <td>0</td>\n",
       "      <td>0</td>\n",
       "      <td>0</td>\n",
       "      <td>0</td>\n",
       "      <td>0</td>\n",
       "      <td>...</td>\n",
       "      <td>0</td>\n",
       "      <td>0.0</td>\n",
       "      <td>0</td>\n",
       "      <td>0.0</td>\n",
       "      <td>0</td>\n",
       "      <td>0</td>\n",
       "      <td>0</td>\n",
       "      <td>0</td>\n",
       "      <td>0.0</td>\n",
       "      <td>0.0</td>\n",
       "    </tr>\n",
       "    <tr>\n",
       "      <th>38352</th>\n",
       "      <td>0</td>\n",
       "      <td>0</td>\n",
       "      <td>0.0</td>\n",
       "      <td>2.88</td>\n",
       "      <td>0.0</td>\n",
       "      <td>0</td>\n",
       "      <td>0</td>\n",
       "      <td>0</td>\n",
       "      <td>0</td>\n",
       "      <td>0</td>\n",
       "      <td>...</td>\n",
       "      <td>0</td>\n",
       "      <td>0.0</td>\n",
       "      <td>0</td>\n",
       "      <td>0.0</td>\n",
       "      <td>0</td>\n",
       "      <td>0</td>\n",
       "      <td>0</td>\n",
       "      <td>0</td>\n",
       "      <td>0.0</td>\n",
       "      <td>0.0</td>\n",
       "    </tr>\n",
       "  </tbody>\n",
       "</table>\n",
       "<p>5 rows × 258 columns</p>\n",
       "</div>"
      ],
      "text/plain": [
       "       var_1  var_2  var_3  var_4  var_5  var_6  var_7  var_8  var_9  var_10  \\\n",
       "23990      0      0    0.0   2.79    0.0      0      0      0      0       0   \n",
       "8729       0      0    0.0   0.00    0.0      0      0      0      0       0   \n",
       "3451       0      0    0.0   2.79    0.0      0      0      0      0       0   \n",
       "2628       0      0    0.0   2.76    0.0      0      0      0      0       0   \n",
       "38352      0      0    0.0   2.88    0.0      0      0      0      0       0   \n",
       "\n",
       "       ...  var_289  var_290  var_291  var_292  var_293  var_295  var_296  \\\n",
       "23990  ...        0      0.0        0      0.0        0        0        0   \n",
       "8729   ...        0      0.0        0      0.0        0        0        0   \n",
       "3451   ...        0      0.0        0      0.0        0        0        0   \n",
       "2628   ...        0      0.0        0      0.0        0        0        0   \n",
       "38352  ...        0      0.0        0      0.0        0        0        0   \n",
       "\n",
       "       var_298  var_299  var_300  \n",
       "23990        0      0.0      0.0  \n",
       "8729         0      0.0      0.0  \n",
       "3451         0      0.0      0.0  \n",
       "2628         0      0.0      0.0  \n",
       "38352        0      0.0      0.0  \n",
       "\n",
       "[5 rows x 258 columns]"
      ]
     },
     "execution_count": 17,
     "metadata": {},
     "output_type": "execute_result"
    }
   ],
   "source": [
    "X_train.drop(labels=constant_feature_2,axis=1).head()"
   ]
  },
  {
   "cell_type": "markdown",
   "id": "deluxe-jenny",
   "metadata": {},
   "source": [
    "Works with both numerical and categorical data!"
   ]
  },
  {
   "cell_type": "markdown",
   "id": "social-season",
   "metadata": {},
   "source": [
    "## Quasi-Constant Features"
   ]
  },
  {
   "cell_type": "code",
   "execution_count": 18,
   "id": "narrative-prize",
   "metadata": {
    "ExecuteTime": {
     "end_time": "2021-02-10T20:30:57.518968Z",
     "start_time": "2021-02-10T20:30:57.516712Z"
    }
   },
   "outputs": [],
   "source": [
    "sel = VarianceThreshold(threshold=0.01) #Remove the features with zero variance and also quasi-constant features."
   ]
  },
  {
   "cell_type": "code",
   "execution_count": 19,
   "id": "leading-asian",
   "metadata": {
    "ExecuteTime": {
     "end_time": "2021-02-10T20:30:57.658585Z",
     "start_time": "2021-02-10T20:30:57.520656Z"
    }
   },
   "outputs": [],
   "source": [
    "X_train_sklearn_2 = sel.fit_transform(X_train)"
   ]
  },
  {
   "cell_type": "code",
   "execution_count": 20,
   "id": "finished-clinton",
   "metadata": {
    "ExecuteTime": {
     "end_time": "2021-02-10T20:30:57.662996Z",
     "start_time": "2021-02-10T20:30:57.660378Z"
    }
   },
   "outputs": [
    {
     "name": "stdout",
     "output_type": "stream",
     "text": [
      "Original dataset has 300 features and after removing the constant features 212.\n"
     ]
    }
   ],
   "source": [
    "print(\n",
    "    f\"Original dataset has {X_train.shape[1]} features and after removing the constant features {X_train_sklearn_2.shape[1]}.\")"
   ]
  },
  {
   "cell_type": "markdown",
   "id": "dress-tract",
   "metadata": {},
   "source": [
    "Almost of third of the features have been removed."
   ]
  },
  {
   "cell_type": "code",
   "execution_count": 21,
   "id": "representative-sponsorship",
   "metadata": {
    "ExecuteTime": {
     "end_time": "2021-02-10T20:30:57.668430Z",
     "start_time": "2021-02-10T20:30:57.664452Z"
    }
   },
   "outputs": [
    {
     "data": {
      "text/plain": [
       "Index(['var_2', 'var_7', 'var_9', 'var_10', 'var_14', 'var_19', 'var_23',\n",
       "       'var_28', 'var_33', 'var_34', 'var_36', 'var_43', 'var_44', 'var_45',\n",
       "       'var_53', 'var_54', 'var_56', 'var_61', 'var_66', 'var_67', 'var_69',\n",
       "       'var_71', 'var_73', 'var_80', 'var_81', 'var_87', 'var_89', 'var_92',\n",
       "       'var_97', 'var_99', 'var_104', 'var_106', 'var_112', 'var_113',\n",
       "       'var_116', 'var_120', 'var_122', 'var_127', 'var_129', 'var_133',\n",
       "       'var_135', 'var_137', 'var_141', 'var_146', 'var_158', 'var_167',\n",
       "       'var_170', 'var_171', 'var_177', 'var_178', 'var_180', 'var_182',\n",
       "       'var_183', 'var_187', 'var_189', 'var_194', 'var_195', 'var_196',\n",
       "       'var_197', 'var_198', 'var_201', 'var_212', 'var_215', 'var_218',\n",
       "       'var_219', 'var_223', 'var_225', 'var_227', 'var_233', 'var_234',\n",
       "       'var_235', 'var_245', 'var_247', 'var_248', 'var_249', 'var_250',\n",
       "       'var_251', 'var_256', 'var_260', 'var_267', 'var_274', 'var_282',\n",
       "       'var_285', 'var_287', 'var_289', 'var_294', 'var_297', 'var_298'],\n",
       "      dtype='object')"
      ]
     },
     "execution_count": 21,
     "metadata": {},
     "output_type": "execute_result"
    }
   ],
   "source": [
    "X_train.columns[~sel.get_support()]"
   ]
  },
  {
   "cell_type": "code",
   "execution_count": 22,
   "id": "major-festival",
   "metadata": {
    "ExecuteTime": {
     "end_time": "2021-02-10T20:30:57.676151Z",
     "start_time": "2021-02-10T20:30:57.669927Z"
    }
   },
   "outputs": [
    {
     "data": {
      "text/plain": [
       "0    99.997\n",
       "1     0.003\n",
       "Name: var_2, dtype: float64"
      ]
     },
     "execution_count": 22,
     "metadata": {},
     "output_type": "execute_result"
    }
   ],
   "source": [
    "#To check the quasi-constant features\n",
    "X_train[\"var_2\"].value_counts(normalize=True) * 100"
   ]
  },
  {
   "cell_type": "code",
   "execution_count": 23,
   "id": "advisory-partnership",
   "metadata": {
    "ExecuteTime": {
     "end_time": "2021-02-10T20:30:57.682889Z",
     "start_time": "2021-02-10T20:30:57.677788Z"
    }
   },
   "outputs": [
    {
     "data": {
      "text/plain": [
       "0    9.9997e-01\n",
       "1    2.9851e-05\n",
       "Name: var_2, dtype: float64"
      ]
     },
     "execution_count": 23,
     "metadata": {},
     "output_type": "execute_result"
    }
   ],
   "source": [
    "X_train[\"var_2\"].value_counts(normalize=True).sort_values(ascending=False)"
   ]
  },
  {
   "cell_type": "code",
   "execution_count": 24,
   "id": "solved-director",
   "metadata": {
    "ExecuteTime": {
     "end_time": "2021-02-10T20:30:57.935531Z",
     "start_time": "2021-02-10T20:30:57.684437Z"
    }
   },
   "outputs": [],
   "source": [
    "# Append a list of constant and quasi-constant features.\n",
    "list_predominant_features = []\n",
    "for i in X_train.columns:\n",
    "    if X_train[i].value_counts(normalize=True).sort_values(ascending=False).values[0] > 0.998:\n",
    "        list_predominant_features.append(i)"
   ]
  },
  {
   "cell_type": "code",
   "execution_count": 25,
   "id": "rubber-diabetes",
   "metadata": {
    "ExecuteTime": {
     "end_time": "2021-02-10T20:30:57.978287Z",
     "start_time": "2021-02-10T20:30:57.937111Z"
    }
   },
   "outputs": [
    {
     "data": {
      "text/html": [
       "<div>\n",
       "<style scoped>\n",
       "    .dataframe tbody tr th:only-of-type {\n",
       "        vertical-align: middle;\n",
       "    }\n",
       "\n",
       "    .dataframe tbody tr th {\n",
       "        vertical-align: top;\n",
       "    }\n",
       "\n",
       "    .dataframe thead th {\n",
       "        text-align: right;\n",
       "    }\n",
       "</style>\n",
       "<table border=\"1\" class=\"dataframe\">\n",
       "  <thead>\n",
       "    <tr style=\"text-align: right;\">\n",
       "      <th></th>\n",
       "      <th>var_4</th>\n",
       "      <th>var_5</th>\n",
       "      <th>var_8</th>\n",
       "      <th>var_13</th>\n",
       "      <th>var_15</th>\n",
       "      <th>var_16</th>\n",
       "      <th>var_17</th>\n",
       "      <th>var_18</th>\n",
       "      <th>var_19</th>\n",
       "      <th>var_21</th>\n",
       "      <th>...</th>\n",
       "      <th>var_279</th>\n",
       "      <th>var_281</th>\n",
       "      <th>var_284</th>\n",
       "      <th>var_288</th>\n",
       "      <th>var_291</th>\n",
       "      <th>var_292</th>\n",
       "      <th>var_293</th>\n",
       "      <th>var_295</th>\n",
       "      <th>var_296</th>\n",
       "      <th>var_300</th>\n",
       "    </tr>\n",
       "  </thead>\n",
       "  <tbody>\n",
       "    <tr>\n",
       "      <th>23990</th>\n",
       "      <td>2.79</td>\n",
       "      <td>0.0</td>\n",
       "      <td>0</td>\n",
       "      <td>0.0</td>\n",
       "      <td>3</td>\n",
       "      <td>0.0</td>\n",
       "      <td>2.94</td>\n",
       "      <td>0.0</td>\n",
       "      <td>0</td>\n",
       "      <td>2.94</td>\n",
       "      <td>...</td>\n",
       "      <td>0.0</td>\n",
       "      <td>0</td>\n",
       "      <td>0</td>\n",
       "      <td>0.0</td>\n",
       "      <td>0</td>\n",
       "      <td>0.0</td>\n",
       "      <td>0</td>\n",
       "      <td>0</td>\n",
       "      <td>0</td>\n",
       "      <td>0.0</td>\n",
       "    </tr>\n",
       "    <tr>\n",
       "      <th>8729</th>\n",
       "      <td>0.00</td>\n",
       "      <td>0.0</td>\n",
       "      <td>0</td>\n",
       "      <td>0.0</td>\n",
       "      <td>0</td>\n",
       "      <td>0.0</td>\n",
       "      <td>0.00</td>\n",
       "      <td>0.0</td>\n",
       "      <td>0</td>\n",
       "      <td>0.00</td>\n",
       "      <td>...</td>\n",
       "      <td>0.0</td>\n",
       "      <td>0</td>\n",
       "      <td>0</td>\n",
       "      <td>0.0</td>\n",
       "      <td>0</td>\n",
       "      <td>0.0</td>\n",
       "      <td>0</td>\n",
       "      <td>0</td>\n",
       "      <td>0</td>\n",
       "      <td>0.0</td>\n",
       "    </tr>\n",
       "    <tr>\n",
       "      <th>3451</th>\n",
       "      <td>2.79</td>\n",
       "      <td>0.0</td>\n",
       "      <td>0</td>\n",
       "      <td>0.0</td>\n",
       "      <td>3</td>\n",
       "      <td>0.0</td>\n",
       "      <td>0.00</td>\n",
       "      <td>0.0</td>\n",
       "      <td>0</td>\n",
       "      <td>27.30</td>\n",
       "      <td>...</td>\n",
       "      <td>0.0</td>\n",
       "      <td>0</td>\n",
       "      <td>0</td>\n",
       "      <td>0.0</td>\n",
       "      <td>0</td>\n",
       "      <td>0.0</td>\n",
       "      <td>0</td>\n",
       "      <td>0</td>\n",
       "      <td>0</td>\n",
       "      <td>0.0</td>\n",
       "    </tr>\n",
       "    <tr>\n",
       "      <th>2628</th>\n",
       "      <td>2.76</td>\n",
       "      <td>0.0</td>\n",
       "      <td>0</td>\n",
       "      <td>0.0</td>\n",
       "      <td>3</td>\n",
       "      <td>0.0</td>\n",
       "      <td>0.00</td>\n",
       "      <td>0.0</td>\n",
       "      <td>0</td>\n",
       "      <td>2.82</td>\n",
       "      <td>...</td>\n",
       "      <td>0.0</td>\n",
       "      <td>0</td>\n",
       "      <td>0</td>\n",
       "      <td>0.0</td>\n",
       "      <td>0</td>\n",
       "      <td>0.0</td>\n",
       "      <td>0</td>\n",
       "      <td>0</td>\n",
       "      <td>0</td>\n",
       "      <td>0.0</td>\n",
       "    </tr>\n",
       "    <tr>\n",
       "      <th>38352</th>\n",
       "      <td>2.88</td>\n",
       "      <td>0.0</td>\n",
       "      <td>0</td>\n",
       "      <td>0.0</td>\n",
       "      <td>3</td>\n",
       "      <td>0.0</td>\n",
       "      <td>0.00</td>\n",
       "      <td>0.0</td>\n",
       "      <td>0</td>\n",
       "      <td>86.40</td>\n",
       "      <td>...</td>\n",
       "      <td>0.0</td>\n",
       "      <td>0</td>\n",
       "      <td>0</td>\n",
       "      <td>0.0</td>\n",
       "      <td>0</td>\n",
       "      <td>0.0</td>\n",
       "      <td>0</td>\n",
       "      <td>0</td>\n",
       "      <td>0</td>\n",
       "      <td>0.0</td>\n",
       "    </tr>\n",
       "  </tbody>\n",
       "</table>\n",
       "<p>5 rows × 163 columns</p>\n",
       "</div>"
      ],
      "text/plain": [
       "       var_4  var_5  var_8  var_13  var_15  var_16  var_17  var_18  var_19  \\\n",
       "23990   2.79    0.0      0     0.0       3     0.0    2.94     0.0       0   \n",
       "8729    0.00    0.0      0     0.0       0     0.0    0.00     0.0       0   \n",
       "3451    2.79    0.0      0     0.0       3     0.0    0.00     0.0       0   \n",
       "2628    2.76    0.0      0     0.0       3     0.0    0.00     0.0       0   \n",
       "38352   2.88    0.0      0     0.0       3     0.0    0.00     0.0       0   \n",
       "\n",
       "       var_21  ...  var_279  var_281  var_284  var_288  var_291  var_292  \\\n",
       "23990    2.94  ...      0.0        0        0      0.0        0      0.0   \n",
       "8729     0.00  ...      0.0        0        0      0.0        0      0.0   \n",
       "3451    27.30  ...      0.0        0        0      0.0        0      0.0   \n",
       "2628     2.82  ...      0.0        0        0      0.0        0      0.0   \n",
       "38352   86.40  ...      0.0        0        0      0.0        0      0.0   \n",
       "\n",
       "       var_293  var_295  var_296  var_300  \n",
       "23990        0        0        0      0.0  \n",
       "8729         0        0        0      0.0  \n",
       "3451         0        0        0      0.0  \n",
       "2628         0        0        0      0.0  \n",
       "38352        0        0        0      0.0  \n",
       "\n",
       "[5 rows x 163 columns]"
      ]
     },
     "execution_count": 25,
     "metadata": {},
     "output_type": "execute_result"
    }
   ],
   "source": [
    "X_train.drop(labels=list_predominant_features,axis=1).head()"
   ]
  },
  {
   "cell_type": "markdown",
   "id": "personalized-switch",
   "metadata": {},
   "source": [
    "We removed most half of the features of the dataset!"
   ]
  },
  {
   "cell_type": "markdown",
   "id": "empty-breakdown",
   "metadata": {},
   "source": [
    "## Removing Duplicated Features"
   ]
  },
  {
   "cell_type": "code",
   "execution_count": 26,
   "id": "residential-vision",
   "metadata": {
    "ExecuteTime": {
     "end_time": "2021-02-10T20:30:59.312257Z",
     "start_time": "2021-02-10T20:30:57.979735Z"
    }
   },
   "outputs": [
    {
     "name": "stderr",
     "output_type": "stream",
     "text": [
      "100%|██████████| 300/300 [00:01<00:00, 227.51it/s]\n"
     ]
    }
   ],
   "source": [
    "duplicated_feat_pairs = {}\n",
    "\n",
    "duplicated_feat = []\n",
    "\n",
    "for i in tqdm(range(0, len(X_train.columns))):\n",
    "\n",
    "    feat_1 = X_train.columns[i]\n",
    "\n",
    "    if feat_1 not in duplicated_feat:\n",
    "\n",
    "        duplicated_feat_pairs[feat_1] = []\n",
    "\n",
    "        for feat_2 in X_train.columns[i + 1:]:\n",
    "\n",
    "            if X_train[feat_1].equals(X_train[feat_2]):\n",
    "\n",
    "                duplicated_feat_pairs[feat_1].append(feat_2)\n",
    "\n",
    "                duplicated_feat.append(feat_2)"
   ]
  },
  {
   "cell_type": "code",
   "execution_count": 27,
   "id": "superb-brooklyn",
   "metadata": {
    "ExecuteTime": {
     "end_time": "2021-02-10T20:30:59.381689Z",
     "start_time": "2021-02-10T20:30:59.319618Z"
    }
   },
   "outputs": [
    {
     "data": {
      "text/html": [
       "<div>\n",
       "<style scoped>\n",
       "    .dataframe tbody tr th:only-of-type {\n",
       "        vertical-align: middle;\n",
       "    }\n",
       "\n",
       "    .dataframe tbody tr th {\n",
       "        vertical-align: top;\n",
       "    }\n",
       "\n",
       "    .dataframe thead th {\n",
       "        text-align: right;\n",
       "    }\n",
       "</style>\n",
       "<table border=\"1\" class=\"dataframe\">\n",
       "  <thead>\n",
       "    <tr style=\"text-align: right;\">\n",
       "      <th></th>\n",
       "      <th>var_1</th>\n",
       "      <th>var_2</th>\n",
       "      <th>var_3</th>\n",
       "      <th>var_4</th>\n",
       "      <th>var_5</th>\n",
       "      <th>var_6</th>\n",
       "      <th>var_7</th>\n",
       "      <th>var_8</th>\n",
       "      <th>var_9</th>\n",
       "      <th>var_10</th>\n",
       "      <th>...</th>\n",
       "      <th>var_286</th>\n",
       "      <th>var_288</th>\n",
       "      <th>var_290</th>\n",
       "      <th>var_291</th>\n",
       "      <th>var_292</th>\n",
       "      <th>var_293</th>\n",
       "      <th>var_295</th>\n",
       "      <th>var_298</th>\n",
       "      <th>var_299</th>\n",
       "      <th>var_300</th>\n",
       "    </tr>\n",
       "  </thead>\n",
       "  <tbody>\n",
       "    <tr>\n",
       "      <th>23990</th>\n",
       "      <td>0</td>\n",
       "      <td>0</td>\n",
       "      <td>0.0</td>\n",
       "      <td>2.79</td>\n",
       "      <td>0.0</td>\n",
       "      <td>0</td>\n",
       "      <td>0</td>\n",
       "      <td>0</td>\n",
       "      <td>0</td>\n",
       "      <td>0</td>\n",
       "      <td>...</td>\n",
       "      <td>0.0</td>\n",
       "      <td>0.0</td>\n",
       "      <td>0.0</td>\n",
       "      <td>0</td>\n",
       "      <td>0.0</td>\n",
       "      <td>0</td>\n",
       "      <td>0</td>\n",
       "      <td>0</td>\n",
       "      <td>0.0</td>\n",
       "      <td>0.0</td>\n",
       "    </tr>\n",
       "    <tr>\n",
       "      <th>8729</th>\n",
       "      <td>0</td>\n",
       "      <td>0</td>\n",
       "      <td>0.0</td>\n",
       "      <td>0.00</td>\n",
       "      <td>0.0</td>\n",
       "      <td>0</td>\n",
       "      <td>0</td>\n",
       "      <td>0</td>\n",
       "      <td>0</td>\n",
       "      <td>0</td>\n",
       "      <td>...</td>\n",
       "      <td>0.0</td>\n",
       "      <td>0.0</td>\n",
       "      <td>0.0</td>\n",
       "      <td>0</td>\n",
       "      <td>0.0</td>\n",
       "      <td>0</td>\n",
       "      <td>0</td>\n",
       "      <td>0</td>\n",
       "      <td>0.0</td>\n",
       "      <td>0.0</td>\n",
       "    </tr>\n",
       "    <tr>\n",
       "      <th>3451</th>\n",
       "      <td>0</td>\n",
       "      <td>0</td>\n",
       "      <td>0.0</td>\n",
       "      <td>2.79</td>\n",
       "      <td>0.0</td>\n",
       "      <td>0</td>\n",
       "      <td>0</td>\n",
       "      <td>0</td>\n",
       "      <td>0</td>\n",
       "      <td>0</td>\n",
       "      <td>...</td>\n",
       "      <td>0.0</td>\n",
       "      <td>0.0</td>\n",
       "      <td>0.0</td>\n",
       "      <td>0</td>\n",
       "      <td>0.0</td>\n",
       "      <td>0</td>\n",
       "      <td>0</td>\n",
       "      <td>0</td>\n",
       "      <td>0.0</td>\n",
       "      <td>0.0</td>\n",
       "    </tr>\n",
       "    <tr>\n",
       "      <th>2628</th>\n",
       "      <td>0</td>\n",
       "      <td>0</td>\n",
       "      <td>0.0</td>\n",
       "      <td>2.76</td>\n",
       "      <td>0.0</td>\n",
       "      <td>0</td>\n",
       "      <td>0</td>\n",
       "      <td>0</td>\n",
       "      <td>0</td>\n",
       "      <td>0</td>\n",
       "      <td>...</td>\n",
       "      <td>0.0</td>\n",
       "      <td>0.0</td>\n",
       "      <td>0.0</td>\n",
       "      <td>0</td>\n",
       "      <td>0.0</td>\n",
       "      <td>0</td>\n",
       "      <td>0</td>\n",
       "      <td>0</td>\n",
       "      <td>0.0</td>\n",
       "      <td>0.0</td>\n",
       "    </tr>\n",
       "    <tr>\n",
       "      <th>38352</th>\n",
       "      <td>0</td>\n",
       "      <td>0</td>\n",
       "      <td>0.0</td>\n",
       "      <td>2.88</td>\n",
       "      <td>0.0</td>\n",
       "      <td>0</td>\n",
       "      <td>0</td>\n",
       "      <td>0</td>\n",
       "      <td>0</td>\n",
       "      <td>0</td>\n",
       "      <td>...</td>\n",
       "      <td>0.0</td>\n",
       "      <td>0.0</td>\n",
       "      <td>0.0</td>\n",
       "      <td>0</td>\n",
       "      <td>0.0</td>\n",
       "      <td>0</td>\n",
       "      <td>0</td>\n",
       "      <td>0</td>\n",
       "      <td>0.0</td>\n",
       "      <td>0.0</td>\n",
       "    </tr>\n",
       "  </tbody>\n",
       "</table>\n",
       "<p>5 rows × 244 columns</p>\n",
       "</div>"
      ],
      "text/plain": [
       "       var_1  var_2  var_3  var_4  var_5  var_6  var_7  var_8  var_9  var_10  \\\n",
       "23990      0      0    0.0   2.79    0.0      0      0      0      0       0   \n",
       "8729       0      0    0.0   0.00    0.0      0      0      0      0       0   \n",
       "3451       0      0    0.0   2.79    0.0      0      0      0      0       0   \n",
       "2628       0      0    0.0   2.76    0.0      0      0      0      0       0   \n",
       "38352      0      0    0.0   2.88    0.0      0      0      0      0       0   \n",
       "\n",
       "       ...  var_286  var_288  var_290  var_291  var_292  var_293  var_295  \\\n",
       "23990  ...      0.0      0.0      0.0        0      0.0        0        0   \n",
       "8729   ...      0.0      0.0      0.0        0      0.0        0        0   \n",
       "3451   ...      0.0      0.0      0.0        0      0.0        0        0   \n",
       "2628   ...      0.0      0.0      0.0        0      0.0        0        0   \n",
       "38352  ...      0.0      0.0      0.0        0      0.0        0        0   \n",
       "\n",
       "       var_298  var_299  var_300  \n",
       "23990        0      0.0      0.0  \n",
       "8729         0      0.0      0.0  \n",
       "3451         0      0.0      0.0  \n",
       "2628         0      0.0      0.0  \n",
       "38352        0      0.0      0.0  \n",
       "\n",
       "[5 rows x 244 columns]"
      ]
     },
     "execution_count": 27,
     "metadata": {},
     "output_type": "execute_result"
    }
   ],
   "source": [
    "X_train.drop(labels=duplicated_feat,axis=1).head()"
   ]
  },
  {
   "cell_type": "code",
   "execution_count": 28,
   "id": "million-galaxy",
   "metadata": {
    "ExecuteTime": {
     "end_time": "2021-02-10T20:30:59.390922Z",
     "start_time": "2021-02-10T20:30:59.386775Z"
    }
   },
   "outputs": [
    {
     "data": {
      "text/plain": [
       "56"
      ]
     },
     "execution_count": 28,
     "metadata": {},
     "output_type": "execute_result"
    }
   ],
   "source": [
    "len(duplicated_feat)"
   ]
  },
  {
   "cell_type": "markdown",
   "id": "banner-sound",
   "metadata": {},
   "source": [
    "56 features are duplicated!"
   ]
  },
  {
   "cell_type": "markdown",
   "id": "interesting-setup",
   "metadata": {},
   "source": [
    "## Using Feature-Engine"
   ]
  },
  {
   "cell_type": "code",
   "execution_count": 29,
   "id": "engaged-rings",
   "metadata": {
    "ExecuteTime": {
     "end_time": "2021-02-10T20:30:59.423868Z",
     "start_time": "2021-02-10T20:30:59.392513Z"
    }
   },
   "outputs": [],
   "source": [
    "from feature_engine.selection import DropConstantFeatures\n",
    "from feature_engine.selection import DropDuplicateFeatures"
   ]
  },
  {
   "cell_type": "code",
   "execution_count": 30,
   "id": "packed-exploration",
   "metadata": {
    "ExecuteTime": {
     "end_time": "2021-02-10T20:30:59.427876Z",
     "start_time": "2021-02-10T20:30:59.425668Z"
    }
   },
   "outputs": [],
   "source": [
    "# Remove the constant and quasi-constant features\n",
    "sel = DropConstantFeatures(tol=0.998, variables=None,\n",
    "                           missing_values=\"raise\")  # tol = Tolerance, max=1"
   ]
  },
  {
   "cell_type": "code",
   "execution_count": 31,
   "id": "solved-certificate",
   "metadata": {
    "ExecuteTime": {
     "end_time": "2021-02-10T20:30:59.900911Z",
     "start_time": "2021-02-10T20:30:59.429563Z"
    }
   },
   "outputs": [
    {
     "data": {
      "text/html": [
       "<div>\n",
       "<style scoped>\n",
       "    .dataframe tbody tr th:only-of-type {\n",
       "        vertical-align: middle;\n",
       "    }\n",
       "\n",
       "    .dataframe tbody tr th {\n",
       "        vertical-align: top;\n",
       "    }\n",
       "\n",
       "    .dataframe thead th {\n",
       "        text-align: right;\n",
       "    }\n",
       "</style>\n",
       "<table border=\"1\" class=\"dataframe\">\n",
       "  <thead>\n",
       "    <tr style=\"text-align: right;\">\n",
       "      <th></th>\n",
       "      <th>var_4</th>\n",
       "      <th>var_5</th>\n",
       "      <th>var_8</th>\n",
       "      <th>var_13</th>\n",
       "      <th>var_15</th>\n",
       "      <th>var_17</th>\n",
       "      <th>var_18</th>\n",
       "      <th>var_19</th>\n",
       "      <th>var_21</th>\n",
       "      <th>var_22</th>\n",
       "      <th>...</th>\n",
       "      <th>var_279</th>\n",
       "      <th>var_281</th>\n",
       "      <th>var_284</th>\n",
       "      <th>var_288</th>\n",
       "      <th>var_291</th>\n",
       "      <th>var_292</th>\n",
       "      <th>var_293</th>\n",
       "      <th>var_295</th>\n",
       "      <th>var_296</th>\n",
       "      <th>var_300</th>\n",
       "    </tr>\n",
       "  </thead>\n",
       "  <tbody>\n",
       "    <tr>\n",
       "      <th>23990</th>\n",
       "      <td>2.79</td>\n",
       "      <td>0.0</td>\n",
       "      <td>0</td>\n",
       "      <td>0.0</td>\n",
       "      <td>3</td>\n",
       "      <td>2.94</td>\n",
       "      <td>0.0</td>\n",
       "      <td>0</td>\n",
       "      <td>2.94</td>\n",
       "      <td>0.0</td>\n",
       "      <td>...</td>\n",
       "      <td>0.0</td>\n",
       "      <td>0</td>\n",
       "      <td>0</td>\n",
       "      <td>0.0</td>\n",
       "      <td>0</td>\n",
       "      <td>0.0</td>\n",
       "      <td>0</td>\n",
       "      <td>0</td>\n",
       "      <td>0</td>\n",
       "      <td>0.0</td>\n",
       "    </tr>\n",
       "    <tr>\n",
       "      <th>8729</th>\n",
       "      <td>0.00</td>\n",
       "      <td>0.0</td>\n",
       "      <td>0</td>\n",
       "      <td>0.0</td>\n",
       "      <td>0</td>\n",
       "      <td>0.00</td>\n",
       "      <td>0.0</td>\n",
       "      <td>0</td>\n",
       "      <td>0.00</td>\n",
       "      <td>0.0</td>\n",
       "      <td>...</td>\n",
       "      <td>0.0</td>\n",
       "      <td>0</td>\n",
       "      <td>0</td>\n",
       "      <td>0.0</td>\n",
       "      <td>0</td>\n",
       "      <td>0.0</td>\n",
       "      <td>0</td>\n",
       "      <td>0</td>\n",
       "      <td>0</td>\n",
       "      <td>0.0</td>\n",
       "    </tr>\n",
       "    <tr>\n",
       "      <th>3451</th>\n",
       "      <td>2.79</td>\n",
       "      <td>0.0</td>\n",
       "      <td>0</td>\n",
       "      <td>0.0</td>\n",
       "      <td>3</td>\n",
       "      <td>0.00</td>\n",
       "      <td>0.0</td>\n",
       "      <td>0</td>\n",
       "      <td>27.30</td>\n",
       "      <td>0.0</td>\n",
       "      <td>...</td>\n",
       "      <td>0.0</td>\n",
       "      <td>0</td>\n",
       "      <td>0</td>\n",
       "      <td>0.0</td>\n",
       "      <td>0</td>\n",
       "      <td>0.0</td>\n",
       "      <td>0</td>\n",
       "      <td>0</td>\n",
       "      <td>0</td>\n",
       "      <td>0.0</td>\n",
       "    </tr>\n",
       "    <tr>\n",
       "      <th>2628</th>\n",
       "      <td>2.76</td>\n",
       "      <td>0.0</td>\n",
       "      <td>0</td>\n",
       "      <td>0.0</td>\n",
       "      <td>3</td>\n",
       "      <td>0.00</td>\n",
       "      <td>0.0</td>\n",
       "      <td>0</td>\n",
       "      <td>2.82</td>\n",
       "      <td>0.0</td>\n",
       "      <td>...</td>\n",
       "      <td>0.0</td>\n",
       "      <td>0</td>\n",
       "      <td>0</td>\n",
       "      <td>0.0</td>\n",
       "      <td>0</td>\n",
       "      <td>0.0</td>\n",
       "      <td>0</td>\n",
       "      <td>0</td>\n",
       "      <td>0</td>\n",
       "      <td>0.0</td>\n",
       "    </tr>\n",
       "    <tr>\n",
       "      <th>38352</th>\n",
       "      <td>2.88</td>\n",
       "      <td>0.0</td>\n",
       "      <td>0</td>\n",
       "      <td>0.0</td>\n",
       "      <td>3</td>\n",
       "      <td>0.00</td>\n",
       "      <td>0.0</td>\n",
       "      <td>0</td>\n",
       "      <td>86.40</td>\n",
       "      <td>0.0</td>\n",
       "      <td>...</td>\n",
       "      <td>0.0</td>\n",
       "      <td>0</td>\n",
       "      <td>0</td>\n",
       "      <td>0.0</td>\n",
       "      <td>0</td>\n",
       "      <td>0.0</td>\n",
       "      <td>0</td>\n",
       "      <td>0</td>\n",
       "      <td>0</td>\n",
       "      <td>0.0</td>\n",
       "    </tr>\n",
       "  </tbody>\n",
       "</table>\n",
       "<p>5 rows × 161 columns</p>\n",
       "</div>"
      ],
      "text/plain": [
       "       var_4  var_5  var_8  var_13  var_15  var_17  var_18  var_19  var_21  \\\n",
       "23990   2.79    0.0      0     0.0       3    2.94     0.0       0    2.94   \n",
       "8729    0.00    0.0      0     0.0       0    0.00     0.0       0    0.00   \n",
       "3451    2.79    0.0      0     0.0       3    0.00     0.0       0   27.30   \n",
       "2628    2.76    0.0      0     0.0       3    0.00     0.0       0    2.82   \n",
       "38352   2.88    0.0      0     0.0       3    0.00     0.0       0   86.40   \n",
       "\n",
       "       var_22  ...  var_279  var_281  var_284  var_288  var_291  var_292  \\\n",
       "23990     0.0  ...      0.0        0        0      0.0        0      0.0   \n",
       "8729      0.0  ...      0.0        0        0      0.0        0      0.0   \n",
       "3451      0.0  ...      0.0        0        0      0.0        0      0.0   \n",
       "2628      0.0  ...      0.0        0        0      0.0        0      0.0   \n",
       "38352     0.0  ...      0.0        0        0      0.0        0      0.0   \n",
       "\n",
       "       var_293  var_295  var_296  var_300  \n",
       "23990        0        0        0      0.0  \n",
       "8729         0        0        0      0.0  \n",
       "3451         0        0        0      0.0  \n",
       "2628         0        0        0      0.0  \n",
       "38352        0        0        0      0.0  \n",
       "\n",
       "[5 rows x 161 columns]"
      ]
     },
     "execution_count": 31,
     "metadata": {},
     "output_type": "execute_result"
    }
   ],
   "source": [
    "sel.fit_transform(X_train).head()"
   ]
  },
  {
   "cell_type": "code",
   "execution_count": 32,
   "id": "plain-hawaiian",
   "metadata": {
    "ExecuteTime": {
     "end_time": "2021-02-10T20:30:59.904600Z",
     "start_time": "2021-02-10T20:30:59.902641Z"
    }
   },
   "outputs": [],
   "source": [
    "sel_duplicated = DropDuplicateFeatures(variables=None, missing_values=\"ignore\")"
   ]
  },
  {
   "cell_type": "code",
   "execution_count": 33,
   "id": "greenhouse-asthma",
   "metadata": {
    "ExecuteTime": {
     "end_time": "2021-02-10T20:31:01.188324Z",
     "start_time": "2021-02-10T20:30:59.906131Z"
    }
   },
   "outputs": [
    {
     "data": {
      "text/html": [
       "<div>\n",
       "<style scoped>\n",
       "    .dataframe tbody tr th:only-of-type {\n",
       "        vertical-align: middle;\n",
       "    }\n",
       "\n",
       "    .dataframe tbody tr th {\n",
       "        vertical-align: top;\n",
       "    }\n",
       "\n",
       "    .dataframe thead th {\n",
       "        text-align: right;\n",
       "    }\n",
       "</style>\n",
       "<table border=\"1\" class=\"dataframe\">\n",
       "  <thead>\n",
       "    <tr style=\"text-align: right;\">\n",
       "      <th></th>\n",
       "      <th>var_1</th>\n",
       "      <th>var_2</th>\n",
       "      <th>var_3</th>\n",
       "      <th>var_4</th>\n",
       "      <th>var_5</th>\n",
       "      <th>var_6</th>\n",
       "      <th>var_7</th>\n",
       "      <th>var_8</th>\n",
       "      <th>var_9</th>\n",
       "      <th>var_10</th>\n",
       "      <th>...</th>\n",
       "      <th>var_286</th>\n",
       "      <th>var_288</th>\n",
       "      <th>var_290</th>\n",
       "      <th>var_291</th>\n",
       "      <th>var_292</th>\n",
       "      <th>var_293</th>\n",
       "      <th>var_295</th>\n",
       "      <th>var_298</th>\n",
       "      <th>var_299</th>\n",
       "      <th>var_300</th>\n",
       "    </tr>\n",
       "  </thead>\n",
       "  <tbody>\n",
       "    <tr>\n",
       "      <th>23990</th>\n",
       "      <td>0</td>\n",
       "      <td>0</td>\n",
       "      <td>0.0</td>\n",
       "      <td>2.79</td>\n",
       "      <td>0.0</td>\n",
       "      <td>0</td>\n",
       "      <td>0</td>\n",
       "      <td>0</td>\n",
       "      <td>0</td>\n",
       "      <td>0</td>\n",
       "      <td>...</td>\n",
       "      <td>0.0</td>\n",
       "      <td>0.0</td>\n",
       "      <td>0.0</td>\n",
       "      <td>0</td>\n",
       "      <td>0.0</td>\n",
       "      <td>0</td>\n",
       "      <td>0</td>\n",
       "      <td>0</td>\n",
       "      <td>0.0</td>\n",
       "      <td>0.0</td>\n",
       "    </tr>\n",
       "    <tr>\n",
       "      <th>8729</th>\n",
       "      <td>0</td>\n",
       "      <td>0</td>\n",
       "      <td>0.0</td>\n",
       "      <td>0.00</td>\n",
       "      <td>0.0</td>\n",
       "      <td>0</td>\n",
       "      <td>0</td>\n",
       "      <td>0</td>\n",
       "      <td>0</td>\n",
       "      <td>0</td>\n",
       "      <td>...</td>\n",
       "      <td>0.0</td>\n",
       "      <td>0.0</td>\n",
       "      <td>0.0</td>\n",
       "      <td>0</td>\n",
       "      <td>0.0</td>\n",
       "      <td>0</td>\n",
       "      <td>0</td>\n",
       "      <td>0</td>\n",
       "      <td>0.0</td>\n",
       "      <td>0.0</td>\n",
       "    </tr>\n",
       "    <tr>\n",
       "      <th>3451</th>\n",
       "      <td>0</td>\n",
       "      <td>0</td>\n",
       "      <td>0.0</td>\n",
       "      <td>2.79</td>\n",
       "      <td>0.0</td>\n",
       "      <td>0</td>\n",
       "      <td>0</td>\n",
       "      <td>0</td>\n",
       "      <td>0</td>\n",
       "      <td>0</td>\n",
       "      <td>...</td>\n",
       "      <td>0.0</td>\n",
       "      <td>0.0</td>\n",
       "      <td>0.0</td>\n",
       "      <td>0</td>\n",
       "      <td>0.0</td>\n",
       "      <td>0</td>\n",
       "      <td>0</td>\n",
       "      <td>0</td>\n",
       "      <td>0.0</td>\n",
       "      <td>0.0</td>\n",
       "    </tr>\n",
       "    <tr>\n",
       "      <th>2628</th>\n",
       "      <td>0</td>\n",
       "      <td>0</td>\n",
       "      <td>0.0</td>\n",
       "      <td>2.76</td>\n",
       "      <td>0.0</td>\n",
       "      <td>0</td>\n",
       "      <td>0</td>\n",
       "      <td>0</td>\n",
       "      <td>0</td>\n",
       "      <td>0</td>\n",
       "      <td>...</td>\n",
       "      <td>0.0</td>\n",
       "      <td>0.0</td>\n",
       "      <td>0.0</td>\n",
       "      <td>0</td>\n",
       "      <td>0.0</td>\n",
       "      <td>0</td>\n",
       "      <td>0</td>\n",
       "      <td>0</td>\n",
       "      <td>0.0</td>\n",
       "      <td>0.0</td>\n",
       "    </tr>\n",
       "    <tr>\n",
       "      <th>38352</th>\n",
       "      <td>0</td>\n",
       "      <td>0</td>\n",
       "      <td>0.0</td>\n",
       "      <td>2.88</td>\n",
       "      <td>0.0</td>\n",
       "      <td>0</td>\n",
       "      <td>0</td>\n",
       "      <td>0</td>\n",
       "      <td>0</td>\n",
       "      <td>0</td>\n",
       "      <td>...</td>\n",
       "      <td>0.0</td>\n",
       "      <td>0.0</td>\n",
       "      <td>0.0</td>\n",
       "      <td>0</td>\n",
       "      <td>0.0</td>\n",
       "      <td>0</td>\n",
       "      <td>0</td>\n",
       "      <td>0</td>\n",
       "      <td>0.0</td>\n",
       "      <td>0.0</td>\n",
       "    </tr>\n",
       "  </tbody>\n",
       "</table>\n",
       "<p>5 rows × 244 columns</p>\n",
       "</div>"
      ],
      "text/plain": [
       "       var_1  var_2  var_3  var_4  var_5  var_6  var_7  var_8  var_9  var_10  \\\n",
       "23990      0      0    0.0   2.79    0.0      0      0      0      0       0   \n",
       "8729       0      0    0.0   0.00    0.0      0      0      0      0       0   \n",
       "3451       0      0    0.0   2.79    0.0      0      0      0      0       0   \n",
       "2628       0      0    0.0   2.76    0.0      0      0      0      0       0   \n",
       "38352      0      0    0.0   2.88    0.0      0      0      0      0       0   \n",
       "\n",
       "       ...  var_286  var_288  var_290  var_291  var_292  var_293  var_295  \\\n",
       "23990  ...      0.0      0.0      0.0        0      0.0        0        0   \n",
       "8729   ...      0.0      0.0      0.0        0      0.0        0        0   \n",
       "3451   ...      0.0      0.0      0.0        0      0.0        0        0   \n",
       "2628   ...      0.0      0.0      0.0        0      0.0        0        0   \n",
       "38352  ...      0.0      0.0      0.0        0      0.0        0        0   \n",
       "\n",
       "       var_298  var_299  var_300  \n",
       "23990        0      0.0      0.0  \n",
       "8729         0      0.0      0.0  \n",
       "3451         0      0.0      0.0  \n",
       "2628         0      0.0      0.0  \n",
       "38352        0      0.0      0.0  \n",
       "\n",
       "[5 rows x 244 columns]"
      ]
     },
     "execution_count": 33,
     "metadata": {},
     "output_type": "execute_result"
    }
   ],
   "source": [
    "# Remove the duplicate features\n",
    "sel_duplicated.fit_transform(X_train).head()"
   ]
  },
  {
   "cell_type": "markdown",
   "id": "cooperative-report",
   "metadata": {},
   "source": [
    "Now, with a pipeline..."
   ]
  },
  {
   "cell_type": "code",
   "execution_count": 34,
   "id": "superb-canadian",
   "metadata": {
    "ExecuteTime": {
     "end_time": "2021-02-10T20:31:01.193699Z",
     "start_time": "2021-02-10T20:31:01.190818Z"
    }
   },
   "outputs": [],
   "source": [
    "pipeline = Pipeline(\n",
    "    [(\"DropConstantFeatures\", DropConstantFeatures(tol=0.998, variables=None, missing_values=\"raise\")),\n",
    "     (\"DropDuplicateFeatures\", DropDuplicateFeatures(\n",
    "         variables=None, missing_values=\"ignore\"))\n",
    "     ]\n",
    ")"
   ]
  },
  {
   "cell_type": "code",
   "execution_count": 35,
   "id": "miniature-swift",
   "metadata": {
    "ExecuteTime": {
     "end_time": "2021-02-10T20:31:02.092212Z",
     "start_time": "2021-02-10T20:31:01.195455Z"
    }
   },
   "outputs": [
    {
     "data": {
      "text/html": [
       "<div>\n",
       "<style scoped>\n",
       "    .dataframe tbody tr th:only-of-type {\n",
       "        vertical-align: middle;\n",
       "    }\n",
       "\n",
       "    .dataframe tbody tr th {\n",
       "        vertical-align: top;\n",
       "    }\n",
       "\n",
       "    .dataframe thead th {\n",
       "        text-align: right;\n",
       "    }\n",
       "</style>\n",
       "<table border=\"1\" class=\"dataframe\">\n",
       "  <thead>\n",
       "    <tr style=\"text-align: right;\">\n",
       "      <th></th>\n",
       "      <th>var_4</th>\n",
       "      <th>var_5</th>\n",
       "      <th>var_8</th>\n",
       "      <th>var_13</th>\n",
       "      <th>var_15</th>\n",
       "      <th>var_17</th>\n",
       "      <th>var_18</th>\n",
       "      <th>var_19</th>\n",
       "      <th>var_21</th>\n",
       "      <th>var_22</th>\n",
       "      <th>...</th>\n",
       "      <th>var_278</th>\n",
       "      <th>var_279</th>\n",
       "      <th>var_281</th>\n",
       "      <th>var_284</th>\n",
       "      <th>var_288</th>\n",
       "      <th>var_291</th>\n",
       "      <th>var_292</th>\n",
       "      <th>var_293</th>\n",
       "      <th>var_295</th>\n",
       "      <th>var_300</th>\n",
       "    </tr>\n",
       "  </thead>\n",
       "  <tbody>\n",
       "    <tr>\n",
       "      <th>23990</th>\n",
       "      <td>2.79</td>\n",
       "      <td>0.0</td>\n",
       "      <td>0</td>\n",
       "      <td>0.0</td>\n",
       "      <td>3</td>\n",
       "      <td>2.94</td>\n",
       "      <td>0.0</td>\n",
       "      <td>0</td>\n",
       "      <td>2.94</td>\n",
       "      <td>0.0</td>\n",
       "      <td>...</td>\n",
       "      <td>0</td>\n",
       "      <td>0.0</td>\n",
       "      <td>0</td>\n",
       "      <td>0</td>\n",
       "      <td>0.0</td>\n",
       "      <td>0</td>\n",
       "      <td>0.0</td>\n",
       "      <td>0</td>\n",
       "      <td>0</td>\n",
       "      <td>0.0</td>\n",
       "    </tr>\n",
       "    <tr>\n",
       "      <th>8729</th>\n",
       "      <td>0.00</td>\n",
       "      <td>0.0</td>\n",
       "      <td>0</td>\n",
       "      <td>0.0</td>\n",
       "      <td>0</td>\n",
       "      <td>0.00</td>\n",
       "      <td>0.0</td>\n",
       "      <td>0</td>\n",
       "      <td>0.00</td>\n",
       "      <td>0.0</td>\n",
       "      <td>...</td>\n",
       "      <td>0</td>\n",
       "      <td>0.0</td>\n",
       "      <td>0</td>\n",
       "      <td>0</td>\n",
       "      <td>0.0</td>\n",
       "      <td>0</td>\n",
       "      <td>0.0</td>\n",
       "      <td>0</td>\n",
       "      <td>0</td>\n",
       "      <td>0.0</td>\n",
       "    </tr>\n",
       "    <tr>\n",
       "      <th>3451</th>\n",
       "      <td>2.79</td>\n",
       "      <td>0.0</td>\n",
       "      <td>0</td>\n",
       "      <td>0.0</td>\n",
       "      <td>3</td>\n",
       "      <td>0.00</td>\n",
       "      <td>0.0</td>\n",
       "      <td>0</td>\n",
       "      <td>27.30</td>\n",
       "      <td>0.0</td>\n",
       "      <td>...</td>\n",
       "      <td>0</td>\n",
       "      <td>0.0</td>\n",
       "      <td>0</td>\n",
       "      <td>0</td>\n",
       "      <td>0.0</td>\n",
       "      <td>0</td>\n",
       "      <td>0.0</td>\n",
       "      <td>0</td>\n",
       "      <td>0</td>\n",
       "      <td>0.0</td>\n",
       "    </tr>\n",
       "    <tr>\n",
       "      <th>2628</th>\n",
       "      <td>2.76</td>\n",
       "      <td>0.0</td>\n",
       "      <td>0</td>\n",
       "      <td>0.0</td>\n",
       "      <td>3</td>\n",
       "      <td>0.00</td>\n",
       "      <td>0.0</td>\n",
       "      <td>0</td>\n",
       "      <td>2.82</td>\n",
       "      <td>0.0</td>\n",
       "      <td>...</td>\n",
       "      <td>0</td>\n",
       "      <td>0.0</td>\n",
       "      <td>0</td>\n",
       "      <td>0</td>\n",
       "      <td>0.0</td>\n",
       "      <td>0</td>\n",
       "      <td>0.0</td>\n",
       "      <td>0</td>\n",
       "      <td>0</td>\n",
       "      <td>0.0</td>\n",
       "    </tr>\n",
       "    <tr>\n",
       "      <th>38352</th>\n",
       "      <td>2.88</td>\n",
       "      <td>0.0</td>\n",
       "      <td>0</td>\n",
       "      <td>0.0</td>\n",
       "      <td>3</td>\n",
       "      <td>0.00</td>\n",
       "      <td>0.0</td>\n",
       "      <td>0</td>\n",
       "      <td>86.40</td>\n",
       "      <td>0.0</td>\n",
       "      <td>...</td>\n",
       "      <td>0</td>\n",
       "      <td>0.0</td>\n",
       "      <td>0</td>\n",
       "      <td>0</td>\n",
       "      <td>0.0</td>\n",
       "      <td>0</td>\n",
       "      <td>0.0</td>\n",
       "      <td>0</td>\n",
       "      <td>0</td>\n",
       "      <td>0.0</td>\n",
       "    </tr>\n",
       "  </tbody>\n",
       "</table>\n",
       "<p>5 rows × 155 columns</p>\n",
       "</div>"
      ],
      "text/plain": [
       "       var_4  var_5  var_8  var_13  var_15  var_17  var_18  var_19  var_21  \\\n",
       "23990   2.79    0.0      0     0.0       3    2.94     0.0       0    2.94   \n",
       "8729    0.00    0.0      0     0.0       0    0.00     0.0       0    0.00   \n",
       "3451    2.79    0.0      0     0.0       3    0.00     0.0       0   27.30   \n",
       "2628    2.76    0.0      0     0.0       3    0.00     0.0       0    2.82   \n",
       "38352   2.88    0.0      0     0.0       3    0.00     0.0       0   86.40   \n",
       "\n",
       "       var_22  ...  var_278  var_279  var_281  var_284  var_288  var_291  \\\n",
       "23990     0.0  ...        0      0.0        0        0      0.0        0   \n",
       "8729      0.0  ...        0      0.0        0        0      0.0        0   \n",
       "3451      0.0  ...        0      0.0        0        0      0.0        0   \n",
       "2628      0.0  ...        0      0.0        0        0      0.0        0   \n",
       "38352     0.0  ...        0      0.0        0        0      0.0        0   \n",
       "\n",
       "       var_292  var_293  var_295  var_300  \n",
       "23990      0.0        0        0      0.0  \n",
       "8729       0.0        0        0      0.0  \n",
       "3451       0.0        0        0      0.0  \n",
       "2628       0.0        0        0      0.0  \n",
       "38352      0.0        0        0      0.0  \n",
       "\n",
       "[5 rows x 155 columns]"
      ]
     },
     "execution_count": 35,
     "metadata": {},
     "output_type": "execute_result"
    }
   ],
   "source": [
    "pipeline.fit_transform(X_train).head()"
   ]
  },
  {
   "cell_type": "markdown",
   "id": "behavioral-compilation",
   "metadata": {},
   "source": [
    "Close to a half of the features have been removed...!"
   ]
  },
  {
   "cell_type": "code",
   "execution_count": 36,
   "id": "cooperative-albany",
   "metadata": {
    "ExecuteTime": {
     "end_time": "2021-02-10T20:31:02.096449Z",
     "start_time": "2021-02-10T20:31:02.093753Z"
    }
   },
   "outputs": [
    {
     "name": "stdout",
     "output_type": "stream",
     "text": [
      "Number of features to be dropped during the first step: 139\n",
      "Number of features to be dropped during the second step: 6\n"
     ]
    }
   ],
   "source": [
    "print(\n",
    "    f'Number of features to be dropped during the first step: {len(pipeline[\"DropConstantFeatures\"].features_to_drop_)}')\n",
    "print(\n",
    "    f'Number of features to be dropped during the second step: {len(pipeline[\"DropDuplicateFeatures\"].features_to_drop_)}')"
   ]
  },
  {
   "cell_type": "markdown",
   "id": "another-history",
   "metadata": {},
   "source": [
    "# Correlation Methods"
   ]
  },
  {
   "cell_type": "code",
   "execution_count": 37,
   "id": "funny-transsexual",
   "metadata": {
    "ExecuteTime": {
     "end_time": "2021-02-10T20:31:07.326653Z",
     "start_time": "2021-02-10T20:31:02.098285Z"
    }
   },
   "outputs": [],
   "source": [
    "#The correlation matrix\n",
    "correlation_matrix = X_train.corr()"
   ]
  },
  {
   "cell_type": "code",
   "execution_count": 38,
   "id": "separate-cocktail",
   "metadata": {
    "ExecuteTime": {
     "end_time": "2021-02-10T20:31:09.376265Z",
     "start_time": "2021-02-10T20:31:07.328213Z"
    }
   },
   "outputs": [
    {
     "data": {
      "text/plain": [
       "<Figure size 432x288 with 0 Axes>"
      ]
     },
     "execution_count": 38,
     "metadata": {},
     "output_type": "execute_result"
    },
    {
     "data": {
      "image/png": "[encoded data removed]",
      "text/plain": [
       "<Figure size 1080x720 with 2 Axes>"
      ]
     },
     "metadata": {},
     "output_type": "display_data"
    },
    {
     "data": {
      "text/plain": [
       "<Figure size 432x288 with 0 Axes>"
      ]
     },
     "metadata": {},
     "output_type": "display_data"
    }
   ],
   "source": [
    "cmap = sns.diverging_palette(220, 20, as_cmap=True)\n",
    "plt.figure(figsize=(15,10))\n",
    "sns.heatmap(correlation_matrix,cmap=cmap)\n",
    "plt.figure()"
   ]
  },
  {
   "cell_type": "markdown",
   "id": "planned-excuse",
   "metadata": {},
   "source": [
    "## Brute force"
   ]
  },
  {
   "cell_type": "code",
   "execution_count": 39,
   "id": "distant-place",
   "metadata": {
    "ExecuteTime": {
     "end_time": "2021-02-10T20:31:09.380638Z",
     "start_time": "2021-02-10T20:31:09.377685Z"
    }
   },
   "outputs": [],
   "source": [
    "def correlation_filter(dataset, threshold):\n",
    "    correlation = set()\n",
    "    correlation_matrix = dataset.corr()\n",
    "    for i in tqdm(range(0, len(correlation_matrix.columns))):\n",
    "        for j in range(i):\n",
    "            if abs(correlation_matrix.iloc[i, j] > threshold):\n",
    "                correlation.add(correlation_matrix.columns[i])\n",
    "    return correlation"
   ]
  },
  {
   "cell_type": "code",
   "execution_count": 40,
   "id": "optional-surgeon",
   "metadata": {
    "ExecuteTime": {
     "end_time": "2021-02-10T20:31:15.457431Z",
     "start_time": "2021-02-10T20:31:09.382099Z"
    }
   },
   "outputs": [
    {
     "name": "stderr",
     "output_type": "stream",
     "text": [
      "100%|██████████| 300/300 [00:00<00:00, 320.06it/s]\n"
     ]
    },
    {
     "data": {
      "text/plain": [
       "139"
      ]
     },
     "execution_count": 40,
     "metadata": {},
     "output_type": "execute_result"
    }
   ],
   "source": [
    "corr_feature = correlation_filter(X_train,0.8)\n",
    "\n",
    "len(set(corr_feature))"
   ]
  },
  {
   "cell_type": "markdown",
   "id": "parliamentary-measurement",
   "metadata": {},
   "source": [
    "We can remove 139 highly correlated features without impacting the performance of our machine learning algorithm."
   ]
  },
  {
   "cell_type": "code",
   "execution_count": 41,
   "id": "rapid-sense",
   "metadata": {
    "ExecuteTime": {
     "end_time": "2021-02-10T20:31:15.516200Z",
     "start_time": "2021-02-10T20:31:15.459000Z"
    }
   },
   "outputs": [
    {
     "data": {
      "text/html": [
       "<div>\n",
       "<style scoped>\n",
       "    .dataframe tbody tr th:only-of-type {\n",
       "        vertical-align: middle;\n",
       "    }\n",
       "\n",
       "    .dataframe tbody tr th {\n",
       "        vertical-align: top;\n",
       "    }\n",
       "\n",
       "    .dataframe thead th {\n",
       "        text-align: right;\n",
       "    }\n",
       "</style>\n",
       "<table border=\"1\" class=\"dataframe\">\n",
       "  <thead>\n",
       "    <tr style=\"text-align: right;\">\n",
       "      <th></th>\n",
       "      <th>var_1</th>\n",
       "      <th>var_2</th>\n",
       "      <th>var_3</th>\n",
       "      <th>var_4</th>\n",
       "      <th>var_5</th>\n",
       "      <th>var_6</th>\n",
       "      <th>var_7</th>\n",
       "      <th>var_8</th>\n",
       "      <th>var_9</th>\n",
       "      <th>var_10</th>\n",
       "      <th>...</th>\n",
       "      <th>var_271</th>\n",
       "      <th>var_274</th>\n",
       "      <th>var_275</th>\n",
       "      <th>var_276</th>\n",
       "      <th>var_287</th>\n",
       "      <th>var_288</th>\n",
       "      <th>var_292</th>\n",
       "      <th>var_293</th>\n",
       "      <th>var_294</th>\n",
       "      <th>var_297</th>\n",
       "    </tr>\n",
       "  </thead>\n",
       "  <tbody>\n",
       "    <tr>\n",
       "      <th>23990</th>\n",
       "      <td>0</td>\n",
       "      <td>0</td>\n",
       "      <td>0.0</td>\n",
       "      <td>2.79</td>\n",
       "      <td>0.0</td>\n",
       "      <td>0</td>\n",
       "      <td>0</td>\n",
       "      <td>0</td>\n",
       "      <td>0</td>\n",
       "      <td>0</td>\n",
       "      <td>...</td>\n",
       "      <td>0.0</td>\n",
       "      <td>0</td>\n",
       "      <td>0</td>\n",
       "      <td>0.0</td>\n",
       "      <td>0</td>\n",
       "      <td>0.0</td>\n",
       "      <td>0.0</td>\n",
       "      <td>0</td>\n",
       "      <td>0</td>\n",
       "      <td>0</td>\n",
       "    </tr>\n",
       "    <tr>\n",
       "      <th>8729</th>\n",
       "      <td>0</td>\n",
       "      <td>0</td>\n",
       "      <td>0.0</td>\n",
       "      <td>0.00</td>\n",
       "      <td>0.0</td>\n",
       "      <td>0</td>\n",
       "      <td>0</td>\n",
       "      <td>0</td>\n",
       "      <td>0</td>\n",
       "      <td>0</td>\n",
       "      <td>...</td>\n",
       "      <td>0.0</td>\n",
       "      <td>0</td>\n",
       "      <td>0</td>\n",
       "      <td>0.0</td>\n",
       "      <td>0</td>\n",
       "      <td>0.0</td>\n",
       "      <td>0.0</td>\n",
       "      <td>0</td>\n",
       "      <td>0</td>\n",
       "      <td>0</td>\n",
       "    </tr>\n",
       "    <tr>\n",
       "      <th>3451</th>\n",
       "      <td>0</td>\n",
       "      <td>0</td>\n",
       "      <td>0.0</td>\n",
       "      <td>2.79</td>\n",
       "      <td>0.0</td>\n",
       "      <td>0</td>\n",
       "      <td>0</td>\n",
       "      <td>0</td>\n",
       "      <td>0</td>\n",
       "      <td>0</td>\n",
       "      <td>...</td>\n",
       "      <td>0.0</td>\n",
       "      <td>0</td>\n",
       "      <td>0</td>\n",
       "      <td>0.0</td>\n",
       "      <td>0</td>\n",
       "      <td>0.0</td>\n",
       "      <td>0.0</td>\n",
       "      <td>0</td>\n",
       "      <td>0</td>\n",
       "      <td>0</td>\n",
       "    </tr>\n",
       "    <tr>\n",
       "      <th>2628</th>\n",
       "      <td>0</td>\n",
       "      <td>0</td>\n",
       "      <td>0.0</td>\n",
       "      <td>2.76</td>\n",
       "      <td>0.0</td>\n",
       "      <td>0</td>\n",
       "      <td>0</td>\n",
       "      <td>0</td>\n",
       "      <td>0</td>\n",
       "      <td>0</td>\n",
       "      <td>...</td>\n",
       "      <td>0.0</td>\n",
       "      <td>0</td>\n",
       "      <td>0</td>\n",
       "      <td>0.0</td>\n",
       "      <td>0</td>\n",
       "      <td>0.0</td>\n",
       "      <td>0.0</td>\n",
       "      <td>0</td>\n",
       "      <td>0</td>\n",
       "      <td>0</td>\n",
       "    </tr>\n",
       "    <tr>\n",
       "      <th>38352</th>\n",
       "      <td>0</td>\n",
       "      <td>0</td>\n",
       "      <td>0.0</td>\n",
       "      <td>2.88</td>\n",
       "      <td>0.0</td>\n",
       "      <td>0</td>\n",
       "      <td>0</td>\n",
       "      <td>0</td>\n",
       "      <td>0</td>\n",
       "      <td>0</td>\n",
       "      <td>...</td>\n",
       "      <td>0.0</td>\n",
       "      <td>0</td>\n",
       "      <td>0</td>\n",
       "      <td>0.0</td>\n",
       "      <td>0</td>\n",
       "      <td>0.0</td>\n",
       "      <td>0.0</td>\n",
       "      <td>0</td>\n",
       "      <td>0</td>\n",
       "      <td>0</td>\n",
       "    </tr>\n",
       "  </tbody>\n",
       "</table>\n",
       "<p>5 rows × 161 columns</p>\n",
       "</div>"
      ],
      "text/plain": [
       "       var_1  var_2  var_3  var_4  var_5  var_6  var_7  var_8  var_9  var_10  \\\n",
       "23990      0      0    0.0   2.79    0.0      0      0      0      0       0   \n",
       "8729       0      0    0.0   0.00    0.0      0      0      0      0       0   \n",
       "3451       0      0    0.0   2.79    0.0      0      0      0      0       0   \n",
       "2628       0      0    0.0   2.76    0.0      0      0      0      0       0   \n",
       "38352      0      0    0.0   2.88    0.0      0      0      0      0       0   \n",
       "\n",
       "       ...  var_271  var_274  var_275  var_276  var_287  var_288  var_292  \\\n",
       "23990  ...      0.0        0        0      0.0        0      0.0      0.0   \n",
       "8729   ...      0.0        0        0      0.0        0      0.0      0.0   \n",
       "3451   ...      0.0        0        0      0.0        0      0.0      0.0   \n",
       "2628   ...      0.0        0        0      0.0        0      0.0      0.0   \n",
       "38352  ...      0.0        0        0      0.0        0      0.0      0.0   \n",
       "\n",
       "       var_293  var_294  var_297  \n",
       "23990        0        0        0  \n",
       "8729         0        0        0  \n",
       "3451         0        0        0  \n",
       "2628         0        0        0  \n",
       "38352        0        0        0  \n",
       "\n",
       "[5 rows x 161 columns]"
      ]
     },
     "execution_count": 41,
     "metadata": {},
     "output_type": "execute_result"
    }
   ],
   "source": [
    "X_train.drop(labels=corr_feature,axis=1).head()"
   ]
  },
  {
   "cell_type": "markdown",
   "id": "disabled-broad",
   "metadata": {},
   "source": [
    "## Group method"
   ]
  },
  {
   "cell_type": "code",
   "execution_count": 42,
   "id": "pursuant-delight",
   "metadata": {
    "ExecuteTime": {
     "end_time": "2021-02-10T20:31:20.660344Z",
     "start_time": "2021-02-10T20:31:15.518271Z"
    }
   },
   "outputs": [],
   "source": [
    "corr_matrix = X_train.corr()\n",
    "corr_matrix = corr_matrix.abs().unstack() # Keep just the abs value\n",
    "corr_matrix = corr_matrix[corr_matrix >= 0.8] #Threshold = 0.8\n",
    "corr_matrix = corr_matrix[corr_matrix < 0.99999] # Not interested in self correlated features\n",
    "corr_matrix = pd.DataFrame(corr_matrix).reset_index()\n",
    "corr_matrix.columns = [\"feature_1\",\"feature_2\",\"corr\"]"
   ]
  },
  {
   "cell_type": "code",
   "execution_count": 43,
   "id": "regulated-philosophy",
   "metadata": {
    "ExecuteTime": {
     "end_time": "2021-02-10T20:31:20.667535Z",
     "start_time": "2021-02-10T20:31:20.661995Z"
    }
   },
   "outputs": [
    {
     "data": {
      "text/html": [
       "<div>\n",
       "<style scoped>\n",
       "    .dataframe tbody tr th:only-of-type {\n",
       "        vertical-align: middle;\n",
       "    }\n",
       "\n",
       "    .dataframe tbody tr th {\n",
       "        vertical-align: top;\n",
       "    }\n",
       "\n",
       "    .dataframe thead th {\n",
       "        text-align: right;\n",
       "    }\n",
       "</style>\n",
       "<table border=\"1\" class=\"dataframe\">\n",
       "  <thead>\n",
       "    <tr style=\"text-align: right;\">\n",
       "      <th></th>\n",
       "      <th>feature_1</th>\n",
       "      <th>feature_2</th>\n",
       "      <th>corr</th>\n",
       "    </tr>\n",
       "  </thead>\n",
       "  <tbody>\n",
       "    <tr>\n",
       "      <th>0</th>\n",
       "      <td>var_3</td>\n",
       "      <td>var_65</td>\n",
       "      <td>0.8040</td>\n",
       "    </tr>\n",
       "    <tr>\n",
       "      <th>1</th>\n",
       "      <td>var_4</td>\n",
       "      <td>var_262</td>\n",
       "      <td>0.9816</td>\n",
       "    </tr>\n",
       "    <tr>\n",
       "      <th>2</th>\n",
       "      <td>var_7</td>\n",
       "      <td>var_228</td>\n",
       "      <td>0.8176</td>\n",
       "    </tr>\n",
       "    <tr>\n",
       "      <th>3</th>\n",
       "      <td>var_7</td>\n",
       "      <td>var_233</td>\n",
       "      <td>0.9622</td>\n",
       "    </tr>\n",
       "    <tr>\n",
       "      <th>4</th>\n",
       "      <td>var_8</td>\n",
       "      <td>var_281</td>\n",
       "      <td>0.9987</td>\n",
       "    </tr>\n",
       "  </tbody>\n",
       "</table>\n",
       "</div>"
      ],
      "text/plain": [
       "  feature_1 feature_2    corr\n",
       "0     var_3    var_65  0.8040\n",
       "1     var_4   var_262  0.9816\n",
       "2     var_7   var_228  0.8176\n",
       "3     var_7   var_233  0.9622\n",
       "4     var_8   var_281  0.9987"
      ]
     },
     "execution_count": 43,
     "metadata": {},
     "output_type": "execute_result"
    }
   ],
   "source": [
    "corr_matrix.head()"
   ]
  },
  {
   "cell_type": "code",
   "execution_count": 44,
   "id": "personalized-teens",
   "metadata": {
    "ExecuteTime": {
     "end_time": "2021-02-10T20:31:20.726272Z",
     "start_time": "2021-02-10T20:31:20.668927Z"
    }
   },
   "outputs": [],
   "source": [
    "correlation = {}\n",
    "\n",
    "for feature in corr_matrix[\"feature_1\"].unique():\n",
    "    if feature not in correlation.keys():\n",
    "        correlation[feature] = corr_matrix[corr_matrix[\"feature_1\"] == feature]"
   ]
  },
  {
   "cell_type": "code",
   "execution_count": 45,
   "id": "suspended-ethics",
   "metadata": {
    "ExecuteTime": {
     "end_time": "2021-02-10T20:31:20.731038Z",
     "start_time": "2021-02-10T20:31:20.728174Z"
    }
   },
   "outputs": [
    {
     "name": "stdout",
     "output_type": "stream",
     "text": [
      " Number of correlated groups found: 179\n"
     ]
    }
   ],
   "source": [
    "print(f\" Number of correlated groups found: {len(correlation.keys())}\")"
   ]
  },
  {
   "cell_type": "markdown",
   "id": "editorial-underground",
   "metadata": {},
   "source": [
    "After that, we can further check the features and select which ones are the most useful (less missing values, less redundancy, etc...) or use a ML algorithm to select the most important features."
   ]
  },
  {
   "cell_type": "code",
   "execution_count": 46,
   "id": "numerical-beijing",
   "metadata": {
    "ExecuteTime": {
     "end_time": "2021-02-10T20:31:20.735294Z",
     "start_time": "2021-02-10T20:31:20.733029Z"
    }
   },
   "outputs": [],
   "source": [
    "from sklearn.ensemble import RandomForestClassifier"
   ]
  },
  {
   "cell_type": "code",
   "execution_count": 47,
   "id": "tamil-breeding",
   "metadata": {
    "ExecuteTime": {
     "end_time": "2021-02-10T20:31:20.739139Z",
     "start_time": "2021-02-10T20:31:20.736723Z"
    }
   },
   "outputs": [],
   "source": [
    "features = list(correlation[\"var_12\"].values[:, 1])\n",
    "features.append(\"var_12\")"
   ]
  },
  {
   "cell_type": "code",
   "execution_count": 48,
   "id": "crucial-meter",
   "metadata": {
    "ExecuteTime": {
     "end_time": "2021-02-10T20:31:21.002111Z",
     "start_time": "2021-02-10T20:31:20.740903Z"
    }
   },
   "outputs": [
    {
     "data": {
      "text/plain": [
       "RandomForestClassifier(n_jobs=-1)"
      ]
     },
     "execution_count": 48,
     "metadata": {},
     "output_type": "execute_result"
    }
   ],
   "source": [
    "rf = RandomForestClassifier(n_jobs=-1)\n",
    "rf.fit(X_train[features].fillna(0), y_train)"
   ]
  },
  {
   "cell_type": "code",
   "execution_count": 49,
   "id": "massive-password",
   "metadata": {
    "ExecuteTime": {
     "end_time": "2021-02-10T20:31:21.070205Z",
     "start_time": "2021-02-10T20:31:21.003684Z"
    }
   },
   "outputs": [],
   "source": [
    "importance = pd.concat(\n",
    "    [pd.Series(features), pd.DataFrame(rf.feature_importances_)], axis=1)"
   ]
  },
  {
   "cell_type": "code",
   "execution_count": 50,
   "id": "balanced-placement",
   "metadata": {
    "ExecuteTime": {
     "end_time": "2021-02-10T20:31:21.081031Z",
     "start_time": "2021-02-10T20:31:21.072287Z"
    }
   },
   "outputs": [
    {
     "data": {
      "text/html": [
       "<div>\n",
       "<style scoped>\n",
       "    .dataframe tbody tr th:only-of-type {\n",
       "        vertical-align: middle;\n",
       "    }\n",
       "\n",
       "    .dataframe tbody tr th {\n",
       "        vertical-align: top;\n",
       "    }\n",
       "\n",
       "    .dataframe thead th {\n",
       "        text-align: right;\n",
       "    }\n",
       "</style>\n",
       "<table border=\"1\" class=\"dataframe\">\n",
       "  <thead>\n",
       "    <tr style=\"text-align: right;\">\n",
       "      <th></th>\n",
       "      <th>features</th>\n",
       "      <th>importance</th>\n",
       "    </tr>\n",
       "  </thead>\n",
       "  <tbody>\n",
       "    <tr>\n",
       "      <th>5</th>\n",
       "      <td>var_233</td>\n",
       "      <td>0.5578</td>\n",
       "    </tr>\n",
       "    <tr>\n",
       "      <th>3</th>\n",
       "      <td>var_210</td>\n",
       "      <td>0.1564</td>\n",
       "    </tr>\n",
       "    <tr>\n",
       "      <th>8</th>\n",
       "      <td>var_12</td>\n",
       "      <td>0.1556</td>\n",
       "    </tr>\n",
       "    <tr>\n",
       "      <th>1</th>\n",
       "      <td>var_104</td>\n",
       "      <td>0.0340</td>\n",
       "    </tr>\n",
       "    <tr>\n",
       "      <th>4</th>\n",
       "      <td>var_223</td>\n",
       "      <td>0.0287</td>\n",
       "    </tr>\n",
       "    <tr>\n",
       "      <th>7</th>\n",
       "      <td>var_283</td>\n",
       "      <td>0.0266</td>\n",
       "    </tr>\n",
       "    <tr>\n",
       "      <th>6</th>\n",
       "      <td>var_280</td>\n",
       "      <td>0.0177</td>\n",
       "    </tr>\n",
       "    <tr>\n",
       "      <th>0</th>\n",
       "      <td>var_36</td>\n",
       "      <td>0.0160</td>\n",
       "    </tr>\n",
       "    <tr>\n",
       "      <th>2</th>\n",
       "      <td>var_133</td>\n",
       "      <td>0.0071</td>\n",
       "    </tr>\n",
       "  </tbody>\n",
       "</table>\n",
       "</div>"
      ],
      "text/plain": [
       "  features  importance\n",
       "5  var_233      0.5578\n",
       "3  var_210      0.1564\n",
       "8   var_12      0.1556\n",
       "1  var_104      0.0340\n",
       "4  var_223      0.0287\n",
       "7  var_283      0.0266\n",
       "6  var_280      0.0177\n",
       "0   var_36      0.0160\n",
       "2  var_133      0.0071"
      ]
     },
     "execution_count": 50,
     "metadata": {},
     "output_type": "execute_result"
    }
   ],
   "source": [
    "importance.columns = [\"features\", \"importance\"]\n",
    "importance.sort_values(by=\"importance\", ascending=False)"
   ]
  },
  {
   "cell_type": "markdown",
   "id": "historical-setting",
   "metadata": {},
   "source": [
    "In that case, we would keep only the var_233 due to its relative importance compare to the rest of the features..."
   ]
  },
  {
   "cell_type": "markdown",
   "id": "sunrise-looking",
   "metadata": {},
   "source": [
    "## With Feature-Engine"
   ]
  },
  {
   "cell_type": "code",
   "execution_count": 51,
   "id": "polyphonic-cleaning",
   "metadata": {
    "ExecuteTime": {
     "end_time": "2021-02-10T20:31:21.085285Z",
     "start_time": "2021-02-10T20:31:21.083040Z"
    }
   },
   "outputs": [],
   "source": [
    "from feature_engine.selection import SmartCorrelatedSelection, DropCorrelatedFeatures"
   ]
  },
  {
   "cell_type": "markdown",
   "id": "sound-merchandise",
   "metadata": {
    "ExecuteTime": {
     "end_time": "2021-02-10T19:38:00.107263Z",
     "start_time": "2021-02-10T19:38:00.105334Z"
    }
   },
   "source": [
    "### Brute force approach with Feature-Engine"
   ]
  },
  {
   "cell_type": "code",
   "execution_count": 52,
   "id": "nervous-simon",
   "metadata": {
    "ExecuteTime": {
     "end_time": "2021-02-10T20:31:21.089604Z",
     "start_time": "2021-02-10T20:31:21.087053Z"
    }
   },
   "outputs": [],
   "source": [
    "sel = DropCorrelatedFeatures(variables=None,\n",
    "                             method='pearson',\n",
    "                             threshold=0.8,\n",
    "                             missing_values='ignore',\n",
    "                             )"
   ]
  },
  {
   "cell_type": "code",
   "execution_count": 53,
   "id": "spatial-knight",
   "metadata": {
    "ExecuteTime": {
     "end_time": "2021-02-10T20:31:27.002463Z",
     "start_time": "2021-02-10T20:31:21.091524Z"
    }
   },
   "outputs": [
    {
     "data": {
      "text/html": [
       "<div>\n",
       "<style scoped>\n",
       "    .dataframe tbody tr th:only-of-type {\n",
       "        vertical-align: middle;\n",
       "    }\n",
       "\n",
       "    .dataframe tbody tr th {\n",
       "        vertical-align: top;\n",
       "    }\n",
       "\n",
       "    .dataframe thead th {\n",
       "        text-align: right;\n",
       "    }\n",
       "</style>\n",
       "<table border=\"1\" class=\"dataframe\">\n",
       "  <thead>\n",
       "    <tr style=\"text-align: right;\">\n",
       "      <th></th>\n",
       "      <th>var_1</th>\n",
       "      <th>var_2</th>\n",
       "      <th>var_3</th>\n",
       "      <th>var_4</th>\n",
       "      <th>var_5</th>\n",
       "      <th>var_6</th>\n",
       "      <th>var_7</th>\n",
       "      <th>var_8</th>\n",
       "      <th>var_9</th>\n",
       "      <th>var_10</th>\n",
       "      <th>...</th>\n",
       "      <th>var_271</th>\n",
       "      <th>var_274</th>\n",
       "      <th>var_275</th>\n",
       "      <th>var_276</th>\n",
       "      <th>var_287</th>\n",
       "      <th>var_288</th>\n",
       "      <th>var_292</th>\n",
       "      <th>var_293</th>\n",
       "      <th>var_294</th>\n",
       "      <th>var_297</th>\n",
       "    </tr>\n",
       "  </thead>\n",
       "  <tbody>\n",
       "    <tr>\n",
       "      <th>23990</th>\n",
       "      <td>0</td>\n",
       "      <td>0</td>\n",
       "      <td>0.0</td>\n",
       "      <td>2.79</td>\n",
       "      <td>0.0</td>\n",
       "      <td>0</td>\n",
       "      <td>0</td>\n",
       "      <td>0</td>\n",
       "      <td>0</td>\n",
       "      <td>0</td>\n",
       "      <td>...</td>\n",
       "      <td>0.0</td>\n",
       "      <td>0</td>\n",
       "      <td>0</td>\n",
       "      <td>0.0</td>\n",
       "      <td>0</td>\n",
       "      <td>0.0</td>\n",
       "      <td>0.0</td>\n",
       "      <td>0</td>\n",
       "      <td>0</td>\n",
       "      <td>0</td>\n",
       "    </tr>\n",
       "    <tr>\n",
       "      <th>8729</th>\n",
       "      <td>0</td>\n",
       "      <td>0</td>\n",
       "      <td>0.0</td>\n",
       "      <td>0.00</td>\n",
       "      <td>0.0</td>\n",
       "      <td>0</td>\n",
       "      <td>0</td>\n",
       "      <td>0</td>\n",
       "      <td>0</td>\n",
       "      <td>0</td>\n",
       "      <td>...</td>\n",
       "      <td>0.0</td>\n",
       "      <td>0</td>\n",
       "      <td>0</td>\n",
       "      <td>0.0</td>\n",
       "      <td>0</td>\n",
       "      <td>0.0</td>\n",
       "      <td>0.0</td>\n",
       "      <td>0</td>\n",
       "      <td>0</td>\n",
       "      <td>0</td>\n",
       "    </tr>\n",
       "    <tr>\n",
       "      <th>3451</th>\n",
       "      <td>0</td>\n",
       "      <td>0</td>\n",
       "      <td>0.0</td>\n",
       "      <td>2.79</td>\n",
       "      <td>0.0</td>\n",
       "      <td>0</td>\n",
       "      <td>0</td>\n",
       "      <td>0</td>\n",
       "      <td>0</td>\n",
       "      <td>0</td>\n",
       "      <td>...</td>\n",
       "      <td>0.0</td>\n",
       "      <td>0</td>\n",
       "      <td>0</td>\n",
       "      <td>0.0</td>\n",
       "      <td>0</td>\n",
       "      <td>0.0</td>\n",
       "      <td>0.0</td>\n",
       "      <td>0</td>\n",
       "      <td>0</td>\n",
       "      <td>0</td>\n",
       "    </tr>\n",
       "    <tr>\n",
       "      <th>2628</th>\n",
       "      <td>0</td>\n",
       "      <td>0</td>\n",
       "      <td>0.0</td>\n",
       "      <td>2.76</td>\n",
       "      <td>0.0</td>\n",
       "      <td>0</td>\n",
       "      <td>0</td>\n",
       "      <td>0</td>\n",
       "      <td>0</td>\n",
       "      <td>0</td>\n",
       "      <td>...</td>\n",
       "      <td>0.0</td>\n",
       "      <td>0</td>\n",
       "      <td>0</td>\n",
       "      <td>0.0</td>\n",
       "      <td>0</td>\n",
       "      <td>0.0</td>\n",
       "      <td>0.0</td>\n",
       "      <td>0</td>\n",
       "      <td>0</td>\n",
       "      <td>0</td>\n",
       "    </tr>\n",
       "    <tr>\n",
       "      <th>38352</th>\n",
       "      <td>0</td>\n",
       "      <td>0</td>\n",
       "      <td>0.0</td>\n",
       "      <td>2.88</td>\n",
       "      <td>0.0</td>\n",
       "      <td>0</td>\n",
       "      <td>0</td>\n",
       "      <td>0</td>\n",
       "      <td>0</td>\n",
       "      <td>0</td>\n",
       "      <td>...</td>\n",
       "      <td>0.0</td>\n",
       "      <td>0</td>\n",
       "      <td>0</td>\n",
       "      <td>0.0</td>\n",
       "      <td>0</td>\n",
       "      <td>0.0</td>\n",
       "      <td>0.0</td>\n",
       "      <td>0</td>\n",
       "      <td>0</td>\n",
       "      <td>0</td>\n",
       "    </tr>\n",
       "  </tbody>\n",
       "</table>\n",
       "<p>5 rows × 165 columns</p>\n",
       "</div>"
      ],
      "text/plain": [
       "       var_1  var_2  var_3  var_4  var_5  var_6  var_7  var_8  var_9  var_10  \\\n",
       "23990      0      0    0.0   2.79    0.0      0      0      0      0       0   \n",
       "8729       0      0    0.0   0.00    0.0      0      0      0      0       0   \n",
       "3451       0      0    0.0   2.79    0.0      0      0      0      0       0   \n",
       "2628       0      0    0.0   2.76    0.0      0      0      0      0       0   \n",
       "38352      0      0    0.0   2.88    0.0      0      0      0      0       0   \n",
       "\n",
       "       ...  var_271  var_274  var_275  var_276  var_287  var_288  var_292  \\\n",
       "23990  ...      0.0        0        0      0.0        0      0.0      0.0   \n",
       "8729   ...      0.0        0        0      0.0        0      0.0      0.0   \n",
       "3451   ...      0.0        0        0      0.0        0      0.0      0.0   \n",
       "2628   ...      0.0        0        0      0.0        0      0.0      0.0   \n",
       "38352  ...      0.0        0        0      0.0        0      0.0      0.0   \n",
       "\n",
       "       var_293  var_294  var_297  \n",
       "23990        0        0        0  \n",
       "8729         0        0        0  \n",
       "3451         0        0        0  \n",
       "2628         0        0        0  \n",
       "38352        0        0        0  \n",
       "\n",
       "[5 rows x 165 columns]"
      ]
     },
     "execution_count": 53,
     "metadata": {},
     "output_type": "execute_result"
    }
   ],
   "source": [
    "sel.fit_transform(X_train).head()"
   ]
  },
  {
   "cell_type": "code",
   "execution_count": 54,
   "id": "hired-feedback",
   "metadata": {
    "ExecuteTime": {
     "end_time": "2021-02-10T20:31:27.007956Z",
     "start_time": "2021-02-10T20:31:27.004230Z"
    }
   },
   "outputs": [
    {
     "data": {
      "text/plain": [
       "[{'var_2', 'var_234', 'var_243'},\n",
       " {'var_3', 'var_65'},\n",
       " {'var_262', 'var_4'},\n",
       " {'var_11', 'var_141', 'var_151', 'var_6'},\n",
       " {'var_116', 'var_228', 'var_233', 'var_289', 'var_7', 'var_71'},\n",
       " {'var_281', 'var_8'},\n",
       " {'var_265', 'var_9'},\n",
       " {'var_104',\n",
       "  'var_12',\n",
       "  'var_133',\n",
       "  'var_210',\n",
       "  'var_223',\n",
       "  'var_280',\n",
       "  'var_283',\n",
       "  'var_36'},\n",
       " {'var_13', 'var_153', 'var_187', 'var_217', 'var_285', 'var_72'},\n",
       " {'var_132', 'var_15', 'var_152'}]"
      ]
     },
     "execution_count": 54,
     "metadata": {},
     "output_type": "execute_result"
    }
   ],
   "source": [
    "sel.correlated_feature_sets_[:10] #Example"
   ]
  },
  {
   "cell_type": "markdown",
   "id": "functional-relationship",
   "metadata": {},
   "source": [
    "### Group method approach with Feature-Engine"
   ]
  },
  {
   "cell_type": "code",
   "execution_count": 55,
   "id": "cutting-flour",
   "metadata": {
    "ExecuteTime": {
     "end_time": "2021-02-10T20:31:27.011988Z",
     "start_time": "2021-02-10T20:31:27.009395Z"
    }
   },
   "outputs": [],
   "source": [
    "sel = SmartCorrelatedSelection(variables=None,\n",
    "                               method='pearson',\n",
    "                               threshold=0.8,\n",
    "                               missing_values='ignore',\n",
    "                               selection_method='model_performance', #Using a ML algorithm\n",
    "                               estimator=rf, #Using the RandomForest we set up previously\n",
    "                               scoring='roc_auc',\n",
    "                               cv=3\n",
    "                               )"
   ]
  },
  {
   "cell_type": "code",
   "execution_count": 56,
   "id": "modified-pepper",
   "metadata": {
    "ExecuteTime": {
     "end_time": "2021-02-10T20:33:03.205527Z",
     "start_time": "2021-02-10T20:31:27.013598Z"
    }
   },
   "outputs": [
    {
     "data": {
      "text/html": [
       "<div>\n",
       "<style scoped>\n",
       "    .dataframe tbody tr th:only-of-type {\n",
       "        vertical-align: middle;\n",
       "    }\n",
       "\n",
       "    .dataframe tbody tr th {\n",
       "        vertical-align: top;\n",
       "    }\n",
       "\n",
       "    .dataframe thead th {\n",
       "        text-align: right;\n",
       "    }\n",
       "</style>\n",
       "<table border=\"1\" class=\"dataframe\">\n",
       "  <thead>\n",
       "    <tr style=\"text-align: right;\">\n",
       "      <th></th>\n",
       "      <th>var_1</th>\n",
       "      <th>var_3</th>\n",
       "      <th>var_5</th>\n",
       "      <th>var_6</th>\n",
       "      <th>var_7</th>\n",
       "      <th>var_8</th>\n",
       "      <th>var_9</th>\n",
       "      <th>var_10</th>\n",
       "      <th>var_14</th>\n",
       "      <th>var_16</th>\n",
       "      <th>...</th>\n",
       "      <th>var_278</th>\n",
       "      <th>var_279</th>\n",
       "      <th>var_286</th>\n",
       "      <th>var_287</th>\n",
       "      <th>var_288</th>\n",
       "      <th>var_292</th>\n",
       "      <th>var_293</th>\n",
       "      <th>var_294</th>\n",
       "      <th>var_297</th>\n",
       "      <th>var_298</th>\n",
       "    </tr>\n",
       "  </thead>\n",
       "  <tbody>\n",
       "    <tr>\n",
       "      <th>23990</th>\n",
       "      <td>0</td>\n",
       "      <td>0.0</td>\n",
       "      <td>0.0</td>\n",
       "      <td>0</td>\n",
       "      <td>0</td>\n",
       "      <td>0</td>\n",
       "      <td>0</td>\n",
       "      <td>0</td>\n",
       "      <td>0</td>\n",
       "      <td>0.0</td>\n",
       "      <td>...</td>\n",
       "      <td>0</td>\n",
       "      <td>0.0</td>\n",
       "      <td>0.0</td>\n",
       "      <td>0</td>\n",
       "      <td>0.0</td>\n",
       "      <td>0.0</td>\n",
       "      <td>0</td>\n",
       "      <td>0</td>\n",
       "      <td>0</td>\n",
       "      <td>0</td>\n",
       "    </tr>\n",
       "    <tr>\n",
       "      <th>8729</th>\n",
       "      <td>0</td>\n",
       "      <td>0.0</td>\n",
       "      <td>0.0</td>\n",
       "      <td>0</td>\n",
       "      <td>0</td>\n",
       "      <td>0</td>\n",
       "      <td>0</td>\n",
       "      <td>0</td>\n",
       "      <td>0</td>\n",
       "      <td>0.0</td>\n",
       "      <td>...</td>\n",
       "      <td>0</td>\n",
       "      <td>0.0</td>\n",
       "      <td>0.0</td>\n",
       "      <td>0</td>\n",
       "      <td>0.0</td>\n",
       "      <td>0.0</td>\n",
       "      <td>0</td>\n",
       "      <td>0</td>\n",
       "      <td>0</td>\n",
       "      <td>0</td>\n",
       "    </tr>\n",
       "    <tr>\n",
       "      <th>3451</th>\n",
       "      <td>0</td>\n",
       "      <td>0.0</td>\n",
       "      <td>0.0</td>\n",
       "      <td>0</td>\n",
       "      <td>0</td>\n",
       "      <td>0</td>\n",
       "      <td>0</td>\n",
       "      <td>0</td>\n",
       "      <td>0</td>\n",
       "      <td>0.0</td>\n",
       "      <td>...</td>\n",
       "      <td>0</td>\n",
       "      <td>0.0</td>\n",
       "      <td>0.0</td>\n",
       "      <td>0</td>\n",
       "      <td>0.0</td>\n",
       "      <td>0.0</td>\n",
       "      <td>0</td>\n",
       "      <td>0</td>\n",
       "      <td>0</td>\n",
       "      <td>0</td>\n",
       "    </tr>\n",
       "    <tr>\n",
       "      <th>2628</th>\n",
       "      <td>0</td>\n",
       "      <td>0.0</td>\n",
       "      <td>0.0</td>\n",
       "      <td>0</td>\n",
       "      <td>0</td>\n",
       "      <td>0</td>\n",
       "      <td>0</td>\n",
       "      <td>0</td>\n",
       "      <td>0</td>\n",
       "      <td>0.0</td>\n",
       "      <td>...</td>\n",
       "      <td>0</td>\n",
       "      <td>0.0</td>\n",
       "      <td>0.0</td>\n",
       "      <td>0</td>\n",
       "      <td>0.0</td>\n",
       "      <td>0.0</td>\n",
       "      <td>0</td>\n",
       "      <td>0</td>\n",
       "      <td>0</td>\n",
       "      <td>0</td>\n",
       "    </tr>\n",
       "    <tr>\n",
       "      <th>38352</th>\n",
       "      <td>0</td>\n",
       "      <td>0.0</td>\n",
       "      <td>0.0</td>\n",
       "      <td>0</td>\n",
       "      <td>0</td>\n",
       "      <td>0</td>\n",
       "      <td>0</td>\n",
       "      <td>0</td>\n",
       "      <td>0</td>\n",
       "      <td>0.0</td>\n",
       "      <td>...</td>\n",
       "      <td>0</td>\n",
       "      <td>0.0</td>\n",
       "      <td>0.0</td>\n",
       "      <td>0</td>\n",
       "      <td>0.0</td>\n",
       "      <td>0.0</td>\n",
       "      <td>0</td>\n",
       "      <td>0</td>\n",
       "      <td>0</td>\n",
       "      <td>0</td>\n",
       "    </tr>\n",
       "  </tbody>\n",
       "</table>\n",
       "<p>5 rows × 165 columns</p>\n",
       "</div>"
      ],
      "text/plain": [
       "       var_1  var_3  var_5  var_6  var_7  var_8  var_9  var_10  var_14  \\\n",
       "23990      0    0.0    0.0      0      0      0      0       0       0   \n",
       "8729       0    0.0    0.0      0      0      0      0       0       0   \n",
       "3451       0    0.0    0.0      0      0      0      0       0       0   \n",
       "2628       0    0.0    0.0      0      0      0      0       0       0   \n",
       "38352      0    0.0    0.0      0      0      0      0       0       0   \n",
       "\n",
       "       var_16  ...  var_278  var_279  var_286  var_287  var_288  var_292  \\\n",
       "23990     0.0  ...        0      0.0      0.0        0      0.0      0.0   \n",
       "8729      0.0  ...        0      0.0      0.0        0      0.0      0.0   \n",
       "3451      0.0  ...        0      0.0      0.0        0      0.0      0.0   \n",
       "2628      0.0  ...        0      0.0      0.0        0      0.0      0.0   \n",
       "38352     0.0  ...        0      0.0      0.0        0      0.0      0.0   \n",
       "\n",
       "       var_293  var_294  var_297  var_298  \n",
       "23990        0        0        0        0  \n",
       "8729         0        0        0        0  \n",
       "3451         0        0        0        0  \n",
       "2628         0        0        0        0  \n",
       "38352        0        0        0        0  \n",
       "\n",
       "[5 rows x 165 columns]"
      ]
     },
     "execution_count": 56,
     "metadata": {},
     "output_type": "execute_result"
    }
   ],
   "source": [
    "sel.fit_transform(X_train,y_train).head()"
   ]
  },
  {
   "cell_type": "code",
   "execution_count": 57,
   "id": "restricted-binary",
   "metadata": {
    "ExecuteTime": {
     "end_time": "2021-02-10T20:33:03.209994Z",
     "start_time": "2021-02-10T20:33:03.207650Z"
    }
   },
   "outputs": [],
   "source": [
    "groups = sel.correlated_feature_sets_[4]"
   ]
  },
  {
   "cell_type": "code",
   "execution_count": 58,
   "id": "respiratory-ideal",
   "metadata": {
    "ExecuteTime": {
     "end_time": "2021-02-10T20:33:03.215514Z",
     "start_time": "2021-02-10T20:33:03.211685Z"
    }
   },
   "outputs": [
    {
     "data": {
      "text/plain": [
       "[{'var_2', 'var_234', 'var_243'},\n",
       " {'var_3', 'var_65'},\n",
       " {'var_262', 'var_4'},\n",
       " {'var_11', 'var_141', 'var_151', 'var_6'},\n",
       " {'var_116', 'var_228', 'var_233', 'var_289', 'var_7', 'var_71'},\n",
       " {'var_281', 'var_8'},\n",
       " {'var_265', 'var_9'},\n",
       " {'var_104',\n",
       "  'var_12',\n",
       "  'var_133',\n",
       "  'var_210',\n",
       "  'var_223',\n",
       "  'var_280',\n",
       "  'var_283',\n",
       "  'var_36'},\n",
       " {'var_13', 'var_153', 'var_187', 'var_217', 'var_285', 'var_72'},\n",
       " {'var_132', 'var_15', 'var_152'}]"
      ]
     },
     "execution_count": 58,
     "metadata": {},
     "output_type": "execute_result"
    }
   ],
   "source": [
    "sel.correlated_feature_sets_[:10] #Example"
   ]
  },
  {
   "cell_type": "code",
   "execution_count": 59,
   "id": "single-emission",
   "metadata": {
    "ExecuteTime": {
     "end_time": "2021-02-10T20:33:06.092059Z",
     "start_time": "2021-02-10T20:33:03.217167Z"
    }
   },
   "outputs": [
    {
     "name": "stdout",
     "output_type": "stream",
     "text": [
      "var_7 0.50004662004662\n",
      "var_228 0.50001554001554\n",
      "var_71 0.50004662004662\n",
      "var_116 0.50004662004662\n",
      "var_233 0.50003108003108\n",
      "var_289 0.50004662004662\n"
     ]
    }
   ],
   "source": [
    "for f in groups:\n",
    "    model = cross_validate(rf,\n",
    "                           X_train[f].to_frame(),\n",
    "                           y_train,\n",
    "                           scoring=\"roc_auc\",\n",
    "                           return_estimator=False,\n",
    "                           cv=3\n",
    "                           )\n",
    "    print(f,model[\"test_score\"].mean())"
   ]
  },
  {
   "cell_type": "code",
   "execution_count": 60,
   "id": "congressional-python",
   "metadata": {
    "ExecuteTime": {
     "end_time": "2021-02-10T20:33:06.096173Z",
     "start_time": "2021-02-10T20:33:06.094179Z"
    }
   },
   "outputs": [],
   "source": [
    "#We should keep the feature with the highest score."
   ]
  },
  {
   "cell_type": "markdown",
   "id": "underlying-initial",
   "metadata": {
    "ExecuteTime": {
     "end_time": "2021-02-10T20:01:42.945990Z",
     "start_time": "2021-02-10T20:01:42.944060Z"
    }
   },
   "source": [
    "### Variance with Feature-Engine"
   ]
  },
  {
   "cell_type": "code",
   "execution_count": 61,
   "id": "fundamental-slovak",
   "metadata": {
    "ExecuteTime": {
     "end_time": "2021-02-10T20:33:06.100381Z",
     "start_time": "2021-02-10T20:33:06.097831Z"
    }
   },
   "outputs": [],
   "source": [
    "sel = SmartCorrelatedSelection(variables=None,\n",
    "                               method='pearson',\n",
    "                               threshold=0.8,\n",
    "                               missing_values='ignore',\n",
    "                               selection_method='variance', #Using a ML algorithm\n",
    "                               estimator=None, #Using the RandomForest we set up previously\n",
    "                               scoring=\"roc_auc\",\n",
    "                               cv=3\n",
    "                               )"
   ]
  },
  {
   "cell_type": "code",
   "execution_count": 62,
   "id": "identical-islam",
   "metadata": {
    "ExecuteTime": {
     "end_time": "2021-02-10T20:33:12.770146Z",
     "start_time": "2021-02-10T20:33:06.102175Z"
    }
   },
   "outputs": [
    {
     "data": {
      "text/html": [
       "<div>\n",
       "<style scoped>\n",
       "    .dataframe tbody tr th:only-of-type {\n",
       "        vertical-align: middle;\n",
       "    }\n",
       "\n",
       "    .dataframe tbody tr th {\n",
       "        vertical-align: top;\n",
       "    }\n",
       "\n",
       "    .dataframe thead th {\n",
       "        text-align: right;\n",
       "    }\n",
       "</style>\n",
       "<table border=\"1\" class=\"dataframe\">\n",
       "  <thead>\n",
       "    <tr style=\"text-align: right;\">\n",
       "      <th></th>\n",
       "      <th>var_1</th>\n",
       "      <th>var_3</th>\n",
       "      <th>var_4</th>\n",
       "      <th>var_5</th>\n",
       "      <th>var_6</th>\n",
       "      <th>var_8</th>\n",
       "      <th>var_10</th>\n",
       "      <th>var_14</th>\n",
       "      <th>var_15</th>\n",
       "      <th>var_17</th>\n",
       "      <th>...</th>\n",
       "      <th>var_286</th>\n",
       "      <th>var_287</th>\n",
       "      <th>var_288</th>\n",
       "      <th>var_291</th>\n",
       "      <th>var_292</th>\n",
       "      <th>var_293</th>\n",
       "      <th>var_294</th>\n",
       "      <th>var_297</th>\n",
       "      <th>var_298</th>\n",
       "      <th>var_299</th>\n",
       "    </tr>\n",
       "  </thead>\n",
       "  <tbody>\n",
       "    <tr>\n",
       "      <th>23990</th>\n",
       "      <td>0</td>\n",
       "      <td>0.0</td>\n",
       "      <td>2.79</td>\n",
       "      <td>0.0</td>\n",
       "      <td>0</td>\n",
       "      <td>0</td>\n",
       "      <td>0</td>\n",
       "      <td>0</td>\n",
       "      <td>3</td>\n",
       "      <td>2.94</td>\n",
       "      <td>...</td>\n",
       "      <td>0.0</td>\n",
       "      <td>0</td>\n",
       "      <td>0.0</td>\n",
       "      <td>0</td>\n",
       "      <td>0.0</td>\n",
       "      <td>0</td>\n",
       "      <td>0</td>\n",
       "      <td>0</td>\n",
       "      <td>0</td>\n",
       "      <td>0.0</td>\n",
       "    </tr>\n",
       "    <tr>\n",
       "      <th>8729</th>\n",
       "      <td>0</td>\n",
       "      <td>0.0</td>\n",
       "      <td>0.00</td>\n",
       "      <td>0.0</td>\n",
       "      <td>0</td>\n",
       "      <td>0</td>\n",
       "      <td>0</td>\n",
       "      <td>0</td>\n",
       "      <td>0</td>\n",
       "      <td>0.00</td>\n",
       "      <td>...</td>\n",
       "      <td>0.0</td>\n",
       "      <td>0</td>\n",
       "      <td>0.0</td>\n",
       "      <td>0</td>\n",
       "      <td>0.0</td>\n",
       "      <td>0</td>\n",
       "      <td>0</td>\n",
       "      <td>0</td>\n",
       "      <td>0</td>\n",
       "      <td>0.0</td>\n",
       "    </tr>\n",
       "    <tr>\n",
       "      <th>3451</th>\n",
       "      <td>0</td>\n",
       "      <td>0.0</td>\n",
       "      <td>2.79</td>\n",
       "      <td>0.0</td>\n",
       "      <td>0</td>\n",
       "      <td>0</td>\n",
       "      <td>0</td>\n",
       "      <td>0</td>\n",
       "      <td>3</td>\n",
       "      <td>0.00</td>\n",
       "      <td>...</td>\n",
       "      <td>0.0</td>\n",
       "      <td>0</td>\n",
       "      <td>0.0</td>\n",
       "      <td>0</td>\n",
       "      <td>0.0</td>\n",
       "      <td>0</td>\n",
       "      <td>0</td>\n",
       "      <td>0</td>\n",
       "      <td>0</td>\n",
       "      <td>0.0</td>\n",
       "    </tr>\n",
       "    <tr>\n",
       "      <th>2628</th>\n",
       "      <td>0</td>\n",
       "      <td>0.0</td>\n",
       "      <td>2.76</td>\n",
       "      <td>0.0</td>\n",
       "      <td>0</td>\n",
       "      <td>0</td>\n",
       "      <td>0</td>\n",
       "      <td>0</td>\n",
       "      <td>3</td>\n",
       "      <td>0.00</td>\n",
       "      <td>...</td>\n",
       "      <td>0.0</td>\n",
       "      <td>0</td>\n",
       "      <td>0.0</td>\n",
       "      <td>0</td>\n",
       "      <td>0.0</td>\n",
       "      <td>0</td>\n",
       "      <td>0</td>\n",
       "      <td>0</td>\n",
       "      <td>0</td>\n",
       "      <td>0.0</td>\n",
       "    </tr>\n",
       "    <tr>\n",
       "      <th>38352</th>\n",
       "      <td>0</td>\n",
       "      <td>0.0</td>\n",
       "      <td>2.88</td>\n",
       "      <td>0.0</td>\n",
       "      <td>0</td>\n",
       "      <td>0</td>\n",
       "      <td>0</td>\n",
       "      <td>0</td>\n",
       "      <td>3</td>\n",
       "      <td>0.00</td>\n",
       "      <td>...</td>\n",
       "      <td>0.0</td>\n",
       "      <td>0</td>\n",
       "      <td>0.0</td>\n",
       "      <td>0</td>\n",
       "      <td>0.0</td>\n",
       "      <td>0</td>\n",
       "      <td>0</td>\n",
       "      <td>0</td>\n",
       "      <td>0</td>\n",
       "      <td>0.0</td>\n",
       "    </tr>\n",
       "  </tbody>\n",
       "</table>\n",
       "<p>5 rows × 165 columns</p>\n",
       "</div>"
      ],
      "text/plain": [
       "       var_1  var_3  var_4  var_5  var_6  var_8  var_10  var_14  var_15  \\\n",
       "23990      0    0.0   2.79    0.0      0      0       0       0       3   \n",
       "8729       0    0.0   0.00    0.0      0      0       0       0       0   \n",
       "3451       0    0.0   2.79    0.0      0      0       0       0       3   \n",
       "2628       0    0.0   2.76    0.0      0      0       0       0       3   \n",
       "38352      0    0.0   2.88    0.0      0      0       0       0       3   \n",
       "\n",
       "       var_17  ...  var_286  var_287  var_288  var_291  var_292  var_293  \\\n",
       "23990    2.94  ...      0.0        0      0.0        0      0.0        0   \n",
       "8729     0.00  ...      0.0        0      0.0        0      0.0        0   \n",
       "3451     0.00  ...      0.0        0      0.0        0      0.0        0   \n",
       "2628     0.00  ...      0.0        0      0.0        0      0.0        0   \n",
       "38352    0.00  ...      0.0        0      0.0        0      0.0        0   \n",
       "\n",
       "       var_294  var_297  var_298  var_299  \n",
       "23990        0        0        0      0.0  \n",
       "8729         0        0        0      0.0  \n",
       "3451         0        0        0      0.0  \n",
       "2628         0        0        0      0.0  \n",
       "38352        0        0        0      0.0  \n",
       "\n",
       "[5 rows x 165 columns]"
      ]
     },
     "execution_count": 62,
     "metadata": {},
     "output_type": "execute_result"
    }
   ],
   "source": [
    "sel.fit_transform(X_train,y_train).head()"
   ]
  },
  {
   "cell_type": "code",
   "execution_count": 63,
   "id": "bacterial-retail",
   "metadata": {
    "ExecuteTime": {
     "end_time": "2021-02-10T20:33:12.775208Z",
     "start_time": "2021-02-10T20:33:12.771903Z"
    }
   },
   "outputs": [
    {
     "data": {
      "text/plain": [
       "{'var_3', 'var_65'}"
      ]
     },
     "execution_count": 63,
     "metadata": {},
     "output_type": "execute_result"
    }
   ],
   "source": [
    "sel.correlated_feature_sets_[1]"
   ]
  },
  {
   "cell_type": "code",
   "execution_count": 64,
   "id": "distinguished-ocean",
   "metadata": {
    "ExecuteTime": {
     "end_time": "2021-02-10T20:33:12.782784Z",
     "start_time": "2021-02-10T20:33:12.776833Z"
    }
   },
   "outputs": [
    {
     "data": {
      "text/plain": [
       "var_65    1146.4478\n",
       "var_3     1412.7085\n",
       "dtype: float64"
      ]
     },
     "execution_count": 64,
     "metadata": {},
     "output_type": "execute_result"
    }
   ],
   "source": [
    "X_train[sel.correlated_feature_sets_[1]].std()"
   ]
  },
  {
   "cell_type": "markdown",
   "id": "ranging-bridges",
   "metadata": {},
   "source": [
    "We can see that the var_3 has the highest variance so it'll be kept and var_65 will be remove."
   ]
  },
  {
   "cell_type": "code",
   "execution_count": 65,
   "id": "solved-bench",
   "metadata": {
    "ExecuteTime": {
     "end_time": "2021-02-10T20:33:12.787549Z",
     "start_time": "2021-02-10T20:33:12.784335Z"
    }
   },
   "outputs": [
    {
     "data": {
      "text/plain": [
       "False"
      ]
     },
     "execution_count": 65,
     "metadata": {},
     "output_type": "execute_result"
    }
   ],
   "source": [
    "\"var_3\" in sel.features_to_drop_"
   ]
  },
  {
   "cell_type": "code",
   "execution_count": 66,
   "id": "interior-coordinator",
   "metadata": {
    "ExecuteTime": {
     "end_time": "2021-02-10T20:33:12.792249Z",
     "start_time": "2021-02-10T20:33:12.789106Z"
    }
   },
   "outputs": [
    {
     "data": {
      "text/plain": [
       "True"
      ]
     },
     "execution_count": 66,
     "metadata": {},
     "output_type": "execute_result"
    }
   ],
   "source": [
    "\"var_65\" in sel.features_to_drop_"
   ]
  },
  {
   "cell_type": "markdown",
   "id": "convinced-chocolate",
   "metadata": {},
   "source": [
    "### Unique values with Feature-Engine"
   ]
  },
  {
   "cell_type": "code",
   "execution_count": 67,
   "id": "similar-amber",
   "metadata": {
    "ExecuteTime": {
     "end_time": "2021-02-10T20:33:12.796318Z",
     "start_time": "2021-02-10T20:33:12.793857Z"
    }
   },
   "outputs": [],
   "source": [
    "sel = SmartCorrelatedSelection(variables=None,\n",
    "                               method='pearson',\n",
    "                               threshold=0.8,\n",
    "                               missing_values='ignore',\n",
    "                               selection_method='cardinality', #Using values count\n",
    "                               estimator=None, #Using the RandomForest we set up previously\n",
    "                               scoring=None,\n",
    "                               cv=3\n",
    "                               )"
   ]
  },
  {
   "cell_type": "code",
   "execution_count": 68,
   "id": "weekly-marble",
   "metadata": {
    "ExecuteTime": {
     "end_time": "2021-02-10T20:33:19.116546Z",
     "start_time": "2021-02-10T20:33:12.798026Z"
    }
   },
   "outputs": [
    {
     "data": {
      "text/html": [
       "<div>\n",
       "<style scoped>\n",
       "    .dataframe tbody tr th:only-of-type {\n",
       "        vertical-align: middle;\n",
       "    }\n",
       "\n",
       "    .dataframe tbody tr th {\n",
       "        vertical-align: top;\n",
       "    }\n",
       "\n",
       "    .dataframe thead th {\n",
       "        text-align: right;\n",
       "    }\n",
       "</style>\n",
       "<table border=\"1\" class=\"dataframe\">\n",
       "  <thead>\n",
       "    <tr style=\"text-align: right;\">\n",
       "      <th></th>\n",
       "      <th>var_1</th>\n",
       "      <th>var_3</th>\n",
       "      <th>var_4</th>\n",
       "      <th>var_5</th>\n",
       "      <th>var_6</th>\n",
       "      <th>var_8</th>\n",
       "      <th>var_10</th>\n",
       "      <th>var_13</th>\n",
       "      <th>var_14</th>\n",
       "      <th>var_16</th>\n",
       "      <th>...</th>\n",
       "      <th>var_276</th>\n",
       "      <th>var_278</th>\n",
       "      <th>var_286</th>\n",
       "      <th>var_287</th>\n",
       "      <th>var_288</th>\n",
       "      <th>var_292</th>\n",
       "      <th>var_293</th>\n",
       "      <th>var_294</th>\n",
       "      <th>var_297</th>\n",
       "      <th>var_298</th>\n",
       "    </tr>\n",
       "  </thead>\n",
       "  <tbody>\n",
       "    <tr>\n",
       "      <th>23990</th>\n",
       "      <td>0</td>\n",
       "      <td>0.0</td>\n",
       "      <td>2.79</td>\n",
       "      <td>0.0</td>\n",
       "      <td>0</td>\n",
       "      <td>0</td>\n",
       "      <td>0</td>\n",
       "      <td>0.0</td>\n",
       "      <td>0</td>\n",
       "      <td>0.0</td>\n",
       "      <td>...</td>\n",
       "      <td>0.0</td>\n",
       "      <td>0</td>\n",
       "      <td>0.0</td>\n",
       "      <td>0</td>\n",
       "      <td>0.0</td>\n",
       "      <td>0.0</td>\n",
       "      <td>0</td>\n",
       "      <td>0</td>\n",
       "      <td>0</td>\n",
       "      <td>0</td>\n",
       "    </tr>\n",
       "    <tr>\n",
       "      <th>8729</th>\n",
       "      <td>0</td>\n",
       "      <td>0.0</td>\n",
       "      <td>0.00</td>\n",
       "      <td>0.0</td>\n",
       "      <td>0</td>\n",
       "      <td>0</td>\n",
       "      <td>0</td>\n",
       "      <td>0.0</td>\n",
       "      <td>0</td>\n",
       "      <td>0.0</td>\n",
       "      <td>...</td>\n",
       "      <td>0.0</td>\n",
       "      <td>0</td>\n",
       "      <td>0.0</td>\n",
       "      <td>0</td>\n",
       "      <td>0.0</td>\n",
       "      <td>0.0</td>\n",
       "      <td>0</td>\n",
       "      <td>0</td>\n",
       "      <td>0</td>\n",
       "      <td>0</td>\n",
       "    </tr>\n",
       "    <tr>\n",
       "      <th>3451</th>\n",
       "      <td>0</td>\n",
       "      <td>0.0</td>\n",
       "      <td>2.79</td>\n",
       "      <td>0.0</td>\n",
       "      <td>0</td>\n",
       "      <td>0</td>\n",
       "      <td>0</td>\n",
       "      <td>0.0</td>\n",
       "      <td>0</td>\n",
       "      <td>0.0</td>\n",
       "      <td>...</td>\n",
       "      <td>0.0</td>\n",
       "      <td>0</td>\n",
       "      <td>0.0</td>\n",
       "      <td>0</td>\n",
       "      <td>0.0</td>\n",
       "      <td>0.0</td>\n",
       "      <td>0</td>\n",
       "      <td>0</td>\n",
       "      <td>0</td>\n",
       "      <td>0</td>\n",
       "    </tr>\n",
       "    <tr>\n",
       "      <th>2628</th>\n",
       "      <td>0</td>\n",
       "      <td>0.0</td>\n",
       "      <td>2.76</td>\n",
       "      <td>0.0</td>\n",
       "      <td>0</td>\n",
       "      <td>0</td>\n",
       "      <td>0</td>\n",
       "      <td>0.0</td>\n",
       "      <td>0</td>\n",
       "      <td>0.0</td>\n",
       "      <td>...</td>\n",
       "      <td>0.0</td>\n",
       "      <td>0</td>\n",
       "      <td>0.0</td>\n",
       "      <td>0</td>\n",
       "      <td>0.0</td>\n",
       "      <td>0.0</td>\n",
       "      <td>0</td>\n",
       "      <td>0</td>\n",
       "      <td>0</td>\n",
       "      <td>0</td>\n",
       "    </tr>\n",
       "    <tr>\n",
       "      <th>38352</th>\n",
       "      <td>0</td>\n",
       "      <td>0.0</td>\n",
       "      <td>2.88</td>\n",
       "      <td>0.0</td>\n",
       "      <td>0</td>\n",
       "      <td>0</td>\n",
       "      <td>0</td>\n",
       "      <td>0.0</td>\n",
       "      <td>0</td>\n",
       "      <td>0.0</td>\n",
       "      <td>...</td>\n",
       "      <td>0.0</td>\n",
       "      <td>0</td>\n",
       "      <td>0.0</td>\n",
       "      <td>0</td>\n",
       "      <td>0.0</td>\n",
       "      <td>0.0</td>\n",
       "      <td>0</td>\n",
       "      <td>0</td>\n",
       "      <td>0</td>\n",
       "      <td>0</td>\n",
       "    </tr>\n",
       "  </tbody>\n",
       "</table>\n",
       "<p>5 rows × 165 columns</p>\n",
       "</div>"
      ],
      "text/plain": [
       "       var_1  var_3  var_4  var_5  var_6  var_8  var_10  var_13  var_14  \\\n",
       "23990      0    0.0   2.79    0.0      0      0       0     0.0       0   \n",
       "8729       0    0.0   0.00    0.0      0      0       0     0.0       0   \n",
       "3451       0    0.0   2.79    0.0      0      0       0     0.0       0   \n",
       "2628       0    0.0   2.76    0.0      0      0       0     0.0       0   \n",
       "38352      0    0.0   2.88    0.0      0      0       0     0.0       0   \n",
       "\n",
       "       var_16  ...  var_276  var_278  var_286  var_287  var_288  var_292  \\\n",
       "23990     0.0  ...      0.0        0      0.0        0      0.0      0.0   \n",
       "8729      0.0  ...      0.0        0      0.0        0      0.0      0.0   \n",
       "3451      0.0  ...      0.0        0      0.0        0      0.0      0.0   \n",
       "2628      0.0  ...      0.0        0      0.0        0      0.0      0.0   \n",
       "38352     0.0  ...      0.0        0      0.0        0      0.0      0.0   \n",
       "\n",
       "       var_293  var_294  var_297  var_298  \n",
       "23990        0        0        0        0  \n",
       "8729         0        0        0        0  \n",
       "3451         0        0        0        0  \n",
       "2628         0        0        0        0  \n",
       "38352        0        0        0        0  \n",
       "\n",
       "[5 rows x 165 columns]"
      ]
     },
     "execution_count": 68,
     "metadata": {},
     "output_type": "execute_result"
    }
   ],
   "source": [
    "sel.fit_transform(X_train,y_train).head()"
   ]
  },
  {
   "cell_type": "code",
   "execution_count": 69,
   "id": "imported-issue",
   "metadata": {
    "ExecuteTime": {
     "end_time": "2021-02-10T20:33:19.121525Z",
     "start_time": "2021-02-10T20:33:19.118374Z"
    }
   },
   "outputs": [
    {
     "data": {
      "text/plain": [
       "{'var_3', 'var_65'}"
      ]
     },
     "execution_count": 69,
     "metadata": {},
     "output_type": "execute_result"
    }
   ],
   "source": [
    "sel.correlated_feature_sets_[1]"
   ]
  },
  {
   "cell_type": "code",
   "execution_count": 70,
   "id": "supposed-tomorrow",
   "metadata": {
    "ExecuteTime": {
     "end_time": "2021-02-10T20:33:19.126045Z",
     "start_time": "2021-02-10T20:33:19.123191Z"
    }
   },
   "outputs": [
    {
     "data": {
      "text/plain": [
       "False"
      ]
     },
     "execution_count": 70,
     "metadata": {},
     "output_type": "execute_result"
    }
   ],
   "source": [
    "\"var_3\" in sel.features_to_drop_"
   ]
  },
  {
   "cell_type": "code",
   "execution_count": 71,
   "id": "satellite-sender",
   "metadata": {
    "ExecuteTime": {
     "end_time": "2021-02-10T20:33:19.130784Z",
     "start_time": "2021-02-10T20:33:19.127667Z"
    }
   },
   "outputs": [
    {
     "data": {
      "text/plain": [
       "True"
      ]
     },
     "execution_count": 71,
     "metadata": {},
     "output_type": "execute_result"
    }
   ],
   "source": [
    "\"var_65\" in sel.features_to_drop_"
   ]
  },
  {
   "cell_type": "code",
   "execution_count": 72,
   "id": "adverse-shannon",
   "metadata": {
    "ExecuteTime": {
     "end_time": "2021-02-10T20:33:19.137775Z",
     "start_time": "2021-02-10T20:33:19.132472Z"
    }
   },
   "outputs": [
    {
     "data": {
      "text/plain": [
       "0.0000         99.994\n",
       "22.4652         0.003\n",
       "209834.4000     0.003\n",
       "Name: var_65, dtype: float64"
      ]
     },
     "execution_count": 72,
     "metadata": {},
     "output_type": "execute_result"
    }
   ],
   "source": [
    "X_train[list(sel.correlated_feature_sets_[1])[0]].value_counts(normalize=True) * 100"
   ]
  },
  {
   "cell_type": "code",
   "execution_count": 73,
   "id": "according-opera",
   "metadata": {
    "ExecuteTime": {
     "end_time": "2021-02-10T20:33:19.145919Z",
     "start_time": "2021-02-10T20:33:19.139413Z"
    }
   },
   "outputs": [
    {
     "data": {
      "text/plain": [
       "0.0000         99.9433\n",
       "861.0900        0.0030\n",
       "101195.4735     0.0030\n",
       "15028.0560      0.0030\n",
       "2641.0164       0.0030\n",
       "52105.7901      0.0030\n",
       "10385.4912      0.0030\n",
       "207901.3365     0.0030\n",
       "16086.9720      0.0030\n",
       "5209.9500       0.0030\n",
       "86718.0000      0.0030\n",
       "12542.3100      0.0030\n",
       "27.3000         0.0030\n",
       "6211.5165       0.0030\n",
       "25905.4866      0.0030\n",
       "3583.3941       0.0030\n",
       "35685.9459      0.0030\n",
       "13297.0320      0.0030\n",
       "7134.8904       0.0030\n",
       "12644.1000      0.0030\n",
       "Name: var_3, dtype: float64"
      ]
     },
     "execution_count": 73,
     "metadata": {},
     "output_type": "execute_result"
    }
   ],
   "source": [
    "X_train[list(sel.correlated_feature_sets_[1])[1]].value_counts(normalize=True) * 100"
   ]
  },
  {
   "cell_type": "markdown",
   "id": "difficult-flooring",
   "metadata": {},
   "source": [
    "It indeed keeps the features with the most different values."
   ]
  },
  {
   "cell_type": "markdown",
   "id": "hungarian-burden",
   "metadata": {},
   "source": [
    "### Missing values with Feature-Engine"
   ]
  },
  {
   "cell_type": "code",
   "execution_count": 74,
   "id": "specific-florist",
   "metadata": {
    "ExecuteTime": {
     "end_time": "2021-02-10T20:33:19.150376Z",
     "start_time": "2021-02-10T20:33:19.147667Z"
    }
   },
   "outputs": [],
   "source": [
    "sel = SmartCorrelatedSelection(variables=None,\n",
    "                               method='pearson',\n",
    "                               threshold=0.8,\n",
    "                               missing_values='ignore',\n",
    "                               selection_method='missing_values', #Using missing values\n",
    "                               estimator=None, #Using the RandomForest we set up previously\n",
    "                               scoring=None,\n",
    "                               cv=3\n",
    "                               )"
   ]
  },
  {
   "cell_type": "code",
   "execution_count": 75,
   "id": "domestic-twenty",
   "metadata": {
    "ExecuteTime": {
     "end_time": "2021-02-10T20:33:25.351523Z",
     "start_time": "2021-02-10T20:33:19.152140Z"
    }
   },
   "outputs": [
    {
     "data": {
      "text/html": [
       "<div>\n",
       "<style scoped>\n",
       "    .dataframe tbody tr th:only-of-type {\n",
       "        vertical-align: middle;\n",
       "    }\n",
       "\n",
       "    .dataframe tbody tr th {\n",
       "        vertical-align: top;\n",
       "    }\n",
       "\n",
       "    .dataframe thead th {\n",
       "        text-align: right;\n",
       "    }\n",
       "</style>\n",
       "<table border=\"1\" class=\"dataframe\">\n",
       "  <thead>\n",
       "    <tr style=\"text-align: right;\">\n",
       "      <th></th>\n",
       "      <th>var_1</th>\n",
       "      <th>var_4</th>\n",
       "      <th>var_5</th>\n",
       "      <th>var_6</th>\n",
       "      <th>var_7</th>\n",
       "      <th>var_8</th>\n",
       "      <th>var_9</th>\n",
       "      <th>var_10</th>\n",
       "      <th>var_14</th>\n",
       "      <th>var_17</th>\n",
       "      <th>...</th>\n",
       "      <th>var_276</th>\n",
       "      <th>var_278</th>\n",
       "      <th>var_286</th>\n",
       "      <th>var_287</th>\n",
       "      <th>var_288</th>\n",
       "      <th>var_292</th>\n",
       "      <th>var_293</th>\n",
       "      <th>var_294</th>\n",
       "      <th>var_297</th>\n",
       "      <th>var_298</th>\n",
       "    </tr>\n",
       "  </thead>\n",
       "  <tbody>\n",
       "    <tr>\n",
       "      <th>23990</th>\n",
       "      <td>0</td>\n",
       "      <td>2.79</td>\n",
       "      <td>0.0</td>\n",
       "      <td>0</td>\n",
       "      <td>0</td>\n",
       "      <td>0</td>\n",
       "      <td>0</td>\n",
       "      <td>0</td>\n",
       "      <td>0</td>\n",
       "      <td>2.94</td>\n",
       "      <td>...</td>\n",
       "      <td>0.0</td>\n",
       "      <td>0</td>\n",
       "      <td>0.0</td>\n",
       "      <td>0</td>\n",
       "      <td>0.0</td>\n",
       "      <td>0.0</td>\n",
       "      <td>0</td>\n",
       "      <td>0</td>\n",
       "      <td>0</td>\n",
       "      <td>0</td>\n",
       "    </tr>\n",
       "    <tr>\n",
       "      <th>8729</th>\n",
       "      <td>0</td>\n",
       "      <td>0.00</td>\n",
       "      <td>0.0</td>\n",
       "      <td>0</td>\n",
       "      <td>0</td>\n",
       "      <td>0</td>\n",
       "      <td>0</td>\n",
       "      <td>0</td>\n",
       "      <td>0</td>\n",
       "      <td>0.00</td>\n",
       "      <td>...</td>\n",
       "      <td>0.0</td>\n",
       "      <td>0</td>\n",
       "      <td>0.0</td>\n",
       "      <td>0</td>\n",
       "      <td>0.0</td>\n",
       "      <td>0.0</td>\n",
       "      <td>0</td>\n",
       "      <td>0</td>\n",
       "      <td>0</td>\n",
       "      <td>0</td>\n",
       "    </tr>\n",
       "    <tr>\n",
       "      <th>3451</th>\n",
       "      <td>0</td>\n",
       "      <td>2.79</td>\n",
       "      <td>0.0</td>\n",
       "      <td>0</td>\n",
       "      <td>0</td>\n",
       "      <td>0</td>\n",
       "      <td>0</td>\n",
       "      <td>0</td>\n",
       "      <td>0</td>\n",
       "      <td>0.00</td>\n",
       "      <td>...</td>\n",
       "      <td>0.0</td>\n",
       "      <td>0</td>\n",
       "      <td>0.0</td>\n",
       "      <td>0</td>\n",
       "      <td>0.0</td>\n",
       "      <td>0.0</td>\n",
       "      <td>0</td>\n",
       "      <td>0</td>\n",
       "      <td>0</td>\n",
       "      <td>0</td>\n",
       "    </tr>\n",
       "    <tr>\n",
       "      <th>2628</th>\n",
       "      <td>0</td>\n",
       "      <td>2.76</td>\n",
       "      <td>0.0</td>\n",
       "      <td>0</td>\n",
       "      <td>0</td>\n",
       "      <td>0</td>\n",
       "      <td>0</td>\n",
       "      <td>0</td>\n",
       "      <td>0</td>\n",
       "      <td>0.00</td>\n",
       "      <td>...</td>\n",
       "      <td>0.0</td>\n",
       "      <td>0</td>\n",
       "      <td>0.0</td>\n",
       "      <td>0</td>\n",
       "      <td>0.0</td>\n",
       "      <td>0.0</td>\n",
       "      <td>0</td>\n",
       "      <td>0</td>\n",
       "      <td>0</td>\n",
       "      <td>0</td>\n",
       "    </tr>\n",
       "    <tr>\n",
       "      <th>38352</th>\n",
       "      <td>0</td>\n",
       "      <td>2.88</td>\n",
       "      <td>0.0</td>\n",
       "      <td>0</td>\n",
       "      <td>0</td>\n",
       "      <td>0</td>\n",
       "      <td>0</td>\n",
       "      <td>0</td>\n",
       "      <td>0</td>\n",
       "      <td>0.00</td>\n",
       "      <td>...</td>\n",
       "      <td>0.0</td>\n",
       "      <td>0</td>\n",
       "      <td>0.0</td>\n",
       "      <td>0</td>\n",
       "      <td>0.0</td>\n",
       "      <td>0.0</td>\n",
       "      <td>0</td>\n",
       "      <td>0</td>\n",
       "      <td>0</td>\n",
       "      <td>0</td>\n",
       "    </tr>\n",
       "  </tbody>\n",
       "</table>\n",
       "<p>5 rows × 165 columns</p>\n",
       "</div>"
      ],
      "text/plain": [
       "       var_1  var_4  var_5  var_6  var_7  var_8  var_9  var_10  var_14  \\\n",
       "23990      0   2.79    0.0      0      0      0      0       0       0   \n",
       "8729       0   0.00    0.0      0      0      0      0       0       0   \n",
       "3451       0   2.79    0.0      0      0      0      0       0       0   \n",
       "2628       0   2.76    0.0      0      0      0      0       0       0   \n",
       "38352      0   2.88    0.0      0      0      0      0       0       0   \n",
       "\n",
       "       var_17  ...  var_276  var_278  var_286  var_287  var_288  var_292  \\\n",
       "23990    2.94  ...      0.0        0      0.0        0      0.0      0.0   \n",
       "8729     0.00  ...      0.0        0      0.0        0      0.0      0.0   \n",
       "3451     0.00  ...      0.0        0      0.0        0      0.0      0.0   \n",
       "2628     0.00  ...      0.0        0      0.0        0      0.0      0.0   \n",
       "38352    0.00  ...      0.0        0      0.0        0      0.0      0.0   \n",
       "\n",
       "       var_293  var_294  var_297  var_298  \n",
       "23990        0        0        0        0  \n",
       "8729         0        0        0        0  \n",
       "3451         0        0        0        0  \n",
       "2628         0        0        0        0  \n",
       "38352        0        0        0        0  \n",
       "\n",
       "[5 rows x 165 columns]"
      ]
     },
     "execution_count": 75,
     "metadata": {},
     "output_type": "execute_result"
    }
   ],
   "source": [
    "sel.fit_transform(X_train,y_train).head()"
   ]
  },
  {
   "cell_type": "code",
   "execution_count": 76,
   "id": "coupled-biography",
   "metadata": {
    "ExecuteTime": {
     "end_time": "2021-02-10T20:33:25.356489Z",
     "start_time": "2021-02-10T20:33:25.353376Z"
    }
   },
   "outputs": [
    {
     "data": {
      "text/plain": [
       "{'var_3', 'var_65'}"
      ]
     },
     "execution_count": 76,
     "metadata": {},
     "output_type": "execute_result"
    }
   ],
   "source": [
    "sel.correlated_feature_sets_[1]"
   ]
  },
  {
   "cell_type": "code",
   "execution_count": 77,
   "id": "assigned-greeting",
   "metadata": {
    "ExecuteTime": {
     "end_time": "2021-02-10T20:33:25.361401Z",
     "start_time": "2021-02-10T20:33:25.358325Z"
    }
   },
   "outputs": [
    {
     "data": {
      "text/plain": [
       "True"
      ]
     },
     "execution_count": 77,
     "metadata": {},
     "output_type": "execute_result"
    }
   ],
   "source": [
    "\"var_3\" in sel.features_to_drop_"
   ]
  },
  {
   "cell_type": "code",
   "execution_count": 78,
   "id": "negative-netscape",
   "metadata": {
    "ExecuteTime": {
     "end_time": "2021-02-10T20:33:25.365878Z",
     "start_time": "2021-02-10T20:33:25.362987Z"
    }
   },
   "outputs": [
    {
     "data": {
      "text/plain": [
       "False"
      ]
     },
     "execution_count": 78,
     "metadata": {},
     "output_type": "execute_result"
    }
   ],
   "source": [
    "\"var_65\" in sel.features_to_drop_"
   ]
  },
  {
   "cell_type": "code",
   "execution_count": 79,
   "id": "preceding-cardiff",
   "metadata": {
    "ExecuteTime": {
     "end_time": "2021-02-10T20:33:25.371205Z",
     "start_time": "2021-02-10T20:33:25.367444Z"
    }
   },
   "outputs": [
    {
     "data": {
      "text/plain": [
       "0"
      ]
     },
     "execution_count": 79,
     "metadata": {},
     "output_type": "execute_result"
    }
   ],
   "source": [
    "X_train[list(sel.correlated_feature_sets_[1])[0]].isnull().sum()"
   ]
  },
  {
   "cell_type": "code",
   "execution_count": 80,
   "id": "viral-government",
   "metadata": {
    "ExecuteTime": {
     "end_time": "2021-02-10T20:33:25.376701Z",
     "start_time": "2021-02-10T20:33:25.372822Z"
    }
   },
   "outputs": [
    {
     "data": {
      "text/plain": [
       "0"
      ]
     },
     "execution_count": 80,
     "metadata": {},
     "output_type": "execute_result"
    }
   ],
   "source": [
    "X_train[list(sel.correlated_feature_sets_[1])[1]].isnull().sum()"
   ]
  },
  {
   "cell_type": "markdown",
   "id": "ranking-christianity",
   "metadata": {
    "ExecuteTime": {
     "end_time": "2021-02-10T20:17:48.183268Z",
     "start_time": "2021-02-10T20:17:48.181279Z"
    }
   },
   "source": [
    "## Pipeline with Feature-Engine"
   ]
  },
  {
   "cell_type": "code",
   "execution_count": 81,
   "id": "wound-zealand",
   "metadata": {
    "ExecuteTime": {
     "end_time": "2021-02-10T20:33:25.398520Z",
     "start_time": "2021-02-10T20:33:25.395534Z"
    }
   },
   "outputs": [],
   "source": [
    "pipeline = Pipeline([\n",
    "    (\"Constant\", DropConstantFeatures(tol=0.998)),\n",
    "    (\"Duplicated\", DropDuplicateFeatures()),\n",
    "    (\"Correlation\", SmartCorrelatedSelection(variables=None,\n",
    "                                             method='pearson',\n",
    "                                             threshold=0.8,\n",
    "                                             missing_values='ignore',\n",
    "                                             selection_method='variance',  # Using missing values\n",
    "                                             estimator=None,  # Using the RandomForest we set up previously\n",
    "                                             scoring=None,\n",
    "                                             cv=3\n",
    "                                             ))\n",
    "])"
   ]
  },
  {
   "cell_type": "code",
   "execution_count": 82,
   "id": "affecting-commitment",
   "metadata": {
    "ExecuteTime": {
     "end_time": "2021-02-10T20:33:28.071566Z",
     "start_time": "2021-02-10T20:33:25.408937Z"
    }
   },
   "outputs": [
    {
     "data": {
      "text/html": [
       "<div>\n",
       "<style scoped>\n",
       "    .dataframe tbody tr th:only-of-type {\n",
       "        vertical-align: middle;\n",
       "    }\n",
       "\n",
       "    .dataframe tbody tr th {\n",
       "        vertical-align: top;\n",
       "    }\n",
       "\n",
       "    .dataframe thead th {\n",
       "        text-align: right;\n",
       "    }\n",
       "</style>\n",
       "<table border=\"1\" class=\"dataframe\">\n",
       "  <thead>\n",
       "    <tr style=\"text-align: right;\">\n",
       "      <th></th>\n",
       "      <th>var_4</th>\n",
       "      <th>var_5</th>\n",
       "      <th>var_8</th>\n",
       "      <th>var_13</th>\n",
       "      <th>var_15</th>\n",
       "      <th>var_17</th>\n",
       "      <th>var_18</th>\n",
       "      <th>var_22</th>\n",
       "      <th>var_25</th>\n",
       "      <th>var_26</th>\n",
       "      <th>...</th>\n",
       "      <th>var_271</th>\n",
       "      <th>var_272</th>\n",
       "      <th>var_273</th>\n",
       "      <th>var_275</th>\n",
       "      <th>var_276</th>\n",
       "      <th>var_278</th>\n",
       "      <th>var_288</th>\n",
       "      <th>var_291</th>\n",
       "      <th>var_292</th>\n",
       "      <th>var_293</th>\n",
       "    </tr>\n",
       "  </thead>\n",
       "  <tbody>\n",
       "    <tr>\n",
       "      <th>23990</th>\n",
       "      <td>2.79</td>\n",
       "      <td>0.0</td>\n",
       "      <td>0</td>\n",
       "      <td>0.0</td>\n",
       "      <td>3</td>\n",
       "      <td>2.94</td>\n",
       "      <td>0.0</td>\n",
       "      <td>0.0</td>\n",
       "      <td>0</td>\n",
       "      <td>0.0</td>\n",
       "      <td>...</td>\n",
       "      <td>0.0</td>\n",
       "      <td>0.0</td>\n",
       "      <td>0</td>\n",
       "      <td>0</td>\n",
       "      <td>0.0</td>\n",
       "      <td>0</td>\n",
       "      <td>0.0</td>\n",
       "      <td>0</td>\n",
       "      <td>0.0</td>\n",
       "      <td>0</td>\n",
       "    </tr>\n",
       "    <tr>\n",
       "      <th>8729</th>\n",
       "      <td>0.00</td>\n",
       "      <td>0.0</td>\n",
       "      <td>0</td>\n",
       "      <td>0.0</td>\n",
       "      <td>0</td>\n",
       "      <td>0.00</td>\n",
       "      <td>0.0</td>\n",
       "      <td>0.0</td>\n",
       "      <td>0</td>\n",
       "      <td>0.0</td>\n",
       "      <td>...</td>\n",
       "      <td>0.0</td>\n",
       "      <td>0.0</td>\n",
       "      <td>0</td>\n",
       "      <td>0</td>\n",
       "      <td>0.0</td>\n",
       "      <td>0</td>\n",
       "      <td>0.0</td>\n",
       "      <td>0</td>\n",
       "      <td>0.0</td>\n",
       "      <td>0</td>\n",
       "    </tr>\n",
       "    <tr>\n",
       "      <th>3451</th>\n",
       "      <td>2.79</td>\n",
       "      <td>0.0</td>\n",
       "      <td>0</td>\n",
       "      <td>0.0</td>\n",
       "      <td>3</td>\n",
       "      <td>0.00</td>\n",
       "      <td>0.0</td>\n",
       "      <td>0.0</td>\n",
       "      <td>0</td>\n",
       "      <td>0.0</td>\n",
       "      <td>...</td>\n",
       "      <td>0.0</td>\n",
       "      <td>0.0</td>\n",
       "      <td>0</td>\n",
       "      <td>0</td>\n",
       "      <td>0.0</td>\n",
       "      <td>0</td>\n",
       "      <td>0.0</td>\n",
       "      <td>0</td>\n",
       "      <td>0.0</td>\n",
       "      <td>0</td>\n",
       "    </tr>\n",
       "    <tr>\n",
       "      <th>2628</th>\n",
       "      <td>2.76</td>\n",
       "      <td>0.0</td>\n",
       "      <td>0</td>\n",
       "      <td>0.0</td>\n",
       "      <td>3</td>\n",
       "      <td>0.00</td>\n",
       "      <td>0.0</td>\n",
       "      <td>0.0</td>\n",
       "      <td>0</td>\n",
       "      <td>0.0</td>\n",
       "      <td>...</td>\n",
       "      <td>0.0</td>\n",
       "      <td>0.0</td>\n",
       "      <td>0</td>\n",
       "      <td>0</td>\n",
       "      <td>0.0</td>\n",
       "      <td>0</td>\n",
       "      <td>0.0</td>\n",
       "      <td>0</td>\n",
       "      <td>0.0</td>\n",
       "      <td>0</td>\n",
       "    </tr>\n",
       "    <tr>\n",
       "      <th>38352</th>\n",
       "      <td>2.88</td>\n",
       "      <td>0.0</td>\n",
       "      <td>0</td>\n",
       "      <td>0.0</td>\n",
       "      <td>3</td>\n",
       "      <td>0.00</td>\n",
       "      <td>0.0</td>\n",
       "      <td>0.0</td>\n",
       "      <td>0</td>\n",
       "      <td>0.0</td>\n",
       "      <td>...</td>\n",
       "      <td>0.0</td>\n",
       "      <td>0.0</td>\n",
       "      <td>0</td>\n",
       "      <td>0</td>\n",
       "      <td>0.0</td>\n",
       "      <td>0</td>\n",
       "      <td>0.0</td>\n",
       "      <td>0</td>\n",
       "      <td>0.0</td>\n",
       "      <td>0</td>\n",
       "    </tr>\n",
       "  </tbody>\n",
       "</table>\n",
       "<p>5 rows × 81 columns</p>\n",
       "</div>"
      ],
      "text/plain": [
       "       var_4  var_5  var_8  var_13  var_15  var_17  var_18  var_22  var_25  \\\n",
       "23990   2.79    0.0      0     0.0       3    2.94     0.0     0.0       0   \n",
       "8729    0.00    0.0      0     0.0       0    0.00     0.0     0.0       0   \n",
       "3451    2.79    0.0      0     0.0       3    0.00     0.0     0.0       0   \n",
       "2628    2.76    0.0      0     0.0       3    0.00     0.0     0.0       0   \n",
       "38352   2.88    0.0      0     0.0       3    0.00     0.0     0.0       0   \n",
       "\n",
       "       var_26  ...  var_271  var_272  var_273  var_275  var_276  var_278  \\\n",
       "23990     0.0  ...      0.0      0.0        0        0      0.0        0   \n",
       "8729      0.0  ...      0.0      0.0        0        0      0.0        0   \n",
       "3451      0.0  ...      0.0      0.0        0        0      0.0        0   \n",
       "2628      0.0  ...      0.0      0.0        0        0      0.0        0   \n",
       "38352     0.0  ...      0.0      0.0        0        0      0.0        0   \n",
       "\n",
       "       var_288  var_291  var_292  var_293  \n",
       "23990      0.0        0      0.0        0  \n",
       "8729       0.0        0      0.0        0  \n",
       "3451       0.0        0      0.0        0  \n",
       "2628       0.0        0      0.0        0  \n",
       "38352      0.0        0      0.0        0  \n",
       "\n",
       "[5 rows x 81 columns]"
      ]
     },
     "execution_count": 82,
     "metadata": {},
     "output_type": "execute_result"
    }
   ],
   "source": [
    "pipeline.fit_transform(X_train,y_train).head()"
   ]
  },
  {
   "cell_type": "markdown",
   "id": "organizational-thunder",
   "metadata": {},
   "source": [
    "# Statistical Measure"
   ]
  },
  {
   "cell_type": "code",
   "execution_count": null,
   "id": "posted-infection",
   "metadata": {},
   "outputs": [],
   "source": []
  }
 ],
 "metadata": {
  "hide_input": false,
  "kernelspec": {
   "display_name": "Python 3",
   "language": "python",
   "name": "python3"
  },
  "language_info": {
   "codemirror_mode": {
    "name": "ipython",
    "version": 3
   },
   "file_extension": ".py",
   "mimetype": "text/x-python",
   "name": "python",
   "nbconvert_exporter": "python",
   "pygments_lexer": "ipython3",
   "version": "3.8.5"
  },
  "toc": {
   "base_numbering": 1,
   "nav_menu": {
    "height": "12px",
    "width": "166px"
   },
   "number_sections": true,
   "sideBar": true,
   "skip_h1_title": false,
   "title_cell": "Table of Contents",
   "title_sidebar": "Contents",
   "toc_cell": false,
   "toc_position": {
    "height": "calc(100% - 180px)",
    "left": "10px",
    "top": "150px",
    "width": "358.390625px"
   },
   "toc_section_display": true,
   "toc_window_display": true
  },
  "varInspector": {
   "cols": {
    "lenName": 16,
    "lenType": 16,
    "lenVar": 40
   },
   "kernels_config": {
    "python": {
     "delete_cmd_postfix": "",
     "delete_cmd_prefix": "del ",
     "library": "var_list.py",
     "varRefreshCmd": "print(var_dic_list())"
    },
    "r": {
     "delete_cmd_postfix": ") ",
     "delete_cmd_prefix": "rm(",
     "library": "var_list.r",
     "varRefreshCmd": "cat(var_dic_list()) "
    }
   },
   "types_to_exclude": [
    "module",
    "function",
    "builtin_function_or_method",
    "instance",
    "_Feature"
   ],
   "window_display": false
  }
 },
 "nbformat": 4,
 "nbformat_minor": 5
}
