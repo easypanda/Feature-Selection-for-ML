{
 "cells": [
  {
   "cell_type": "code",
   "execution_count": 1,
   "id": "acquired-drink",
   "metadata": {
    "ExecuteTime": {
     "end_time": "2021-02-11T20:35:28.701557Z",
     "start_time": "2021-02-11T20:35:27.269523Z"
    }
   },
   "outputs": [],
   "source": [
    "#import libraries\n",
    "import pandas as pd\n",
    "import numpy as np\n",
    "\n",
    "from sklearn.model_selection import train_test_split\n",
    "\n",
    "from sklearn.feature_selection import VarianceThreshold\n",
    "\n",
    "from sklearn.pipeline import Pipeline\n",
    "\n",
    "from sklearn.model_selection import cross_validate\n",
    "\n",
    "from tqdm import tqdm\n",
    "\n",
    "import matplotlib.pyplot as plt\n",
    "import seaborn as sns\n",
    "sns.set_style(\"whitegrid\")"
   ]
  },
  {
   "cell_type": "code",
   "execution_count": 2,
   "id": "optional-yugoslavia",
   "metadata": {
    "ExecuteTime": {
     "end_time": "2021-02-11T20:35:28.705414Z",
     "start_time": "2021-02-11T20:35:28.703460Z"
    }
   },
   "outputs": [],
   "source": [
    "pd.set_option(\"display.precision\", 4)"
   ]
  },
  {
   "cell_type": "code",
   "execution_count": 3,
   "id": "transparent-italy",
   "metadata": {
    "ExecuteTime": {
     "end_time": "2021-02-11T20:35:29.783987Z",
     "start_time": "2021-02-11T20:35:28.707434Z"
    }
   },
   "outputs": [],
   "source": [
    "#Reading the data\n",
    "df = pd.read_csv(\"./precleaned-datasets/dataset_1.csv\")"
   ]
  },
  {
   "cell_type": "code",
   "execution_count": 4,
   "id": "minus-scoop",
   "metadata": {
    "ExecuteTime": {
     "end_time": "2021-02-11T20:35:29.810304Z",
     "start_time": "2021-02-11T20:35:29.786392Z"
    }
   },
   "outputs": [
    {
     "data": {
      "text/html": [
       "<div>\n",
       "<style scoped>\n",
       "    .dataframe tbody tr th:only-of-type {\n",
       "        vertical-align: middle;\n",
       "    }\n",
       "\n",
       "    .dataframe tbody tr th {\n",
       "        vertical-align: top;\n",
       "    }\n",
       "\n",
       "    .dataframe thead th {\n",
       "        text-align: right;\n",
       "    }\n",
       "</style>\n",
       "<table border=\"1\" class=\"dataframe\">\n",
       "  <thead>\n",
       "    <tr style=\"text-align: right;\">\n",
       "      <th></th>\n",
       "      <th>var_1</th>\n",
       "      <th>var_2</th>\n",
       "      <th>var_3</th>\n",
       "      <th>var_4</th>\n",
       "      <th>var_5</th>\n",
       "      <th>var_6</th>\n",
       "      <th>var_7</th>\n",
       "      <th>var_8</th>\n",
       "      <th>var_9</th>\n",
       "      <th>var_10</th>\n",
       "      <th>...</th>\n",
       "      <th>var_292</th>\n",
       "      <th>var_293</th>\n",
       "      <th>var_294</th>\n",
       "      <th>var_295</th>\n",
       "      <th>var_296</th>\n",
       "      <th>var_297</th>\n",
       "      <th>var_298</th>\n",
       "      <th>var_299</th>\n",
       "      <th>var_300</th>\n",
       "      <th>target</th>\n",
       "    </tr>\n",
       "  </thead>\n",
       "  <tbody>\n",
       "    <tr>\n",
       "      <th>0</th>\n",
       "      <td>0</td>\n",
       "      <td>0</td>\n",
       "      <td>0.0</td>\n",
       "      <td>0.00</td>\n",
       "      <td>0.0</td>\n",
       "      <td>0</td>\n",
       "      <td>0</td>\n",
       "      <td>0</td>\n",
       "      <td>0</td>\n",
       "      <td>0</td>\n",
       "      <td>...</td>\n",
       "      <td>0.0</td>\n",
       "      <td>0</td>\n",
       "      <td>0</td>\n",
       "      <td>0</td>\n",
       "      <td>0</td>\n",
       "      <td>0</td>\n",
       "      <td>0</td>\n",
       "      <td>0.0</td>\n",
       "      <td>0.0000</td>\n",
       "      <td>0</td>\n",
       "    </tr>\n",
       "    <tr>\n",
       "      <th>1</th>\n",
       "      <td>0</td>\n",
       "      <td>0</td>\n",
       "      <td>0.0</td>\n",
       "      <td>3.00</td>\n",
       "      <td>0.0</td>\n",
       "      <td>0</td>\n",
       "      <td>0</td>\n",
       "      <td>0</td>\n",
       "      <td>0</td>\n",
       "      <td>0</td>\n",
       "      <td>...</td>\n",
       "      <td>0.0</td>\n",
       "      <td>0</td>\n",
       "      <td>0</td>\n",
       "      <td>0</td>\n",
       "      <td>0</td>\n",
       "      <td>0</td>\n",
       "      <td>0</td>\n",
       "      <td>0.0</td>\n",
       "      <td>0.0000</td>\n",
       "      <td>0</td>\n",
       "    </tr>\n",
       "    <tr>\n",
       "      <th>2</th>\n",
       "      <td>0</td>\n",
       "      <td>0</td>\n",
       "      <td>0.0</td>\n",
       "      <td>5.88</td>\n",
       "      <td>0.0</td>\n",
       "      <td>0</td>\n",
       "      <td>0</td>\n",
       "      <td>0</td>\n",
       "      <td>0</td>\n",
       "      <td>0</td>\n",
       "      <td>...</td>\n",
       "      <td>0.0</td>\n",
       "      <td>0</td>\n",
       "      <td>0</td>\n",
       "      <td>3</td>\n",
       "      <td>0</td>\n",
       "      <td>0</td>\n",
       "      <td>0</td>\n",
       "      <td>0.0</td>\n",
       "      <td>67772.7216</td>\n",
       "      <td>0</td>\n",
       "    </tr>\n",
       "    <tr>\n",
       "      <th>3</th>\n",
       "      <td>0</td>\n",
       "      <td>0</td>\n",
       "      <td>0.0</td>\n",
       "      <td>14.10</td>\n",
       "      <td>0.0</td>\n",
       "      <td>0</td>\n",
       "      <td>0</td>\n",
       "      <td>0</td>\n",
       "      <td>0</td>\n",
       "      <td>0</td>\n",
       "      <td>...</td>\n",
       "      <td>0.0</td>\n",
       "      <td>0</td>\n",
       "      <td>0</td>\n",
       "      <td>0</td>\n",
       "      <td>0</td>\n",
       "      <td>0</td>\n",
       "      <td>0</td>\n",
       "      <td>0.0</td>\n",
       "      <td>0.0000</td>\n",
       "      <td>0</td>\n",
       "    </tr>\n",
       "    <tr>\n",
       "      <th>4</th>\n",
       "      <td>0</td>\n",
       "      <td>0</td>\n",
       "      <td>0.0</td>\n",
       "      <td>5.76</td>\n",
       "      <td>0.0</td>\n",
       "      <td>0</td>\n",
       "      <td>0</td>\n",
       "      <td>0</td>\n",
       "      <td>0</td>\n",
       "      <td>0</td>\n",
       "      <td>...</td>\n",
       "      <td>0.0</td>\n",
       "      <td>0</td>\n",
       "      <td>0</td>\n",
       "      <td>0</td>\n",
       "      <td>0</td>\n",
       "      <td>0</td>\n",
       "      <td>0</td>\n",
       "      <td>0.0</td>\n",
       "      <td>0.0000</td>\n",
       "      <td>0</td>\n",
       "    </tr>\n",
       "  </tbody>\n",
       "</table>\n",
       "<p>5 rows × 301 columns</p>\n",
       "</div>"
      ],
      "text/plain": [
       "   var_1  var_2  var_3  var_4  var_5  var_6  var_7  var_8  var_9  var_10  ...  \\\n",
       "0      0      0    0.0   0.00    0.0      0      0      0      0       0  ...   \n",
       "1      0      0    0.0   3.00    0.0      0      0      0      0       0  ...   \n",
       "2      0      0    0.0   5.88    0.0      0      0      0      0       0  ...   \n",
       "3      0      0    0.0  14.10    0.0      0      0      0      0       0  ...   \n",
       "4      0      0    0.0   5.76    0.0      0      0      0      0       0  ...   \n",
       "\n",
       "   var_292  var_293  var_294  var_295  var_296  var_297  var_298  var_299  \\\n",
       "0      0.0        0        0        0        0        0        0      0.0   \n",
       "1      0.0        0        0        0        0        0        0      0.0   \n",
       "2      0.0        0        0        3        0        0        0      0.0   \n",
       "3      0.0        0        0        0        0        0        0      0.0   \n",
       "4      0.0        0        0        0        0        0        0      0.0   \n",
       "\n",
       "      var_300  target  \n",
       "0      0.0000       0  \n",
       "1      0.0000       0  \n",
       "2  67772.7216       0  \n",
       "3      0.0000       0  \n",
       "4      0.0000       0  \n",
       "\n",
       "[5 rows x 301 columns]"
      ]
     },
     "execution_count": 4,
     "metadata": {},
     "output_type": "execute_result"
    }
   ],
   "source": [
    "df.head()"
   ]
  },
  {
   "cell_type": "code",
   "execution_count": 5,
   "id": "sublime-constitutional",
   "metadata": {
    "ExecuteTime": {
     "end_time": "2021-02-11T20:35:30.024047Z",
     "start_time": "2021-02-11T20:35:29.812016Z"
    }
   },
   "outputs": [],
   "source": [
    "X_train, X_test, y_train, y_test = train_test_split(df.drop(\n",
    "    labels=[\"target\"], axis=1), df[\"target\"], test_size=0.33, random_state=42)"
   ]
  },
  {
   "cell_type": "markdown",
   "id": "enormous-links",
   "metadata": {},
   "source": [
    "# Constant Features, Quasi-Constant Features and Duplicated Features"
   ]
  },
  {
   "cell_type": "markdown",
   "id": "clinical-discussion",
   "metadata": {
    "ExecuteTime": {
     "end_time": "2021-02-10T14:12:59.133533Z",
     "start_time": "2021-02-10T14:12:59.131619Z"
    }
   },
   "source": [
    "## Removing Constant Features"
   ]
  },
  {
   "cell_type": "markdown",
   "id": "lesser-pursuit",
   "metadata": {},
   "source": [
    "### Using Scikit-Learn"
   ]
  },
  {
   "cell_type": "code",
   "execution_count": 6,
   "id": "western-pepper",
   "metadata": {
    "ExecuteTime": {
     "end_time": "2021-02-11T20:35:30.028141Z",
     "start_time": "2021-02-11T20:35:30.025913Z"
    }
   },
   "outputs": [],
   "source": [
    "sel = VarianceThreshold(threshold=0.0) #Remove the features with zero variance."
   ]
  },
  {
   "cell_type": "code",
   "execution_count": 7,
   "id": "medical-discrimination",
   "metadata": {
    "ExecuteTime": {
     "end_time": "2021-02-11T20:35:30.279013Z",
     "start_time": "2021-02-11T20:35:30.030113Z"
    }
   },
   "outputs": [],
   "source": [
    "X_train_sklearn = sel.fit_transform(X_train)"
   ]
  },
  {
   "cell_type": "code",
   "execution_count": 8,
   "id": "charming-shower",
   "metadata": {
    "ExecuteTime": {
     "end_time": "2021-02-11T20:35:30.286309Z",
     "start_time": "2021-02-11T20:35:30.282767Z"
    }
   },
   "outputs": [
    {
     "data": {
      "text/plain": [
       "array([ True,  True,  True,  True,  True,  True,  True,  True,  True,\n",
       "        True])"
      ]
     },
     "execution_count": 8,
     "metadata": {},
     "output_type": "execute_result"
    }
   ],
   "source": [
    "sel.get_support()[:10] #example of get_support()"
   ]
  },
  {
   "cell_type": "code",
   "execution_count": 9,
   "id": "plain-syndrome",
   "metadata": {
    "ExecuteTime": {
     "end_time": "2021-02-11T20:35:30.291605Z",
     "start_time": "2021-02-11T20:35:30.289106Z"
    }
   },
   "outputs": [
    {
     "name": "stdout",
     "output_type": "stream",
     "text": [
      "Original dataset has 300 features and after removing the constant features 258.\n"
     ]
    }
   ],
   "source": [
    "print(\n",
    "    f\"Original dataset has {X_train.shape[1]} features and after removing the constant features {X_train_sklearn.shape[1]}.\")"
   ]
  },
  {
   "cell_type": "code",
   "execution_count": 10,
   "id": "expanded-cooper",
   "metadata": {
    "ExecuteTime": {
     "end_time": "2021-02-11T20:35:30.296851Z",
     "start_time": "2021-02-11T20:35:30.293269Z"
    }
   },
   "outputs": [
    {
     "data": {
      "text/plain": [
       "Index(['var_14', 'var_23', 'var_33', 'var_34', 'var_44', 'var_61', 'var_66',\n",
       "       'var_67', 'var_69', 'var_73', 'var_80', 'var_81', 'var_87', 'var_89',\n",
       "       'var_92', 'var_97', 'var_99', 'var_112', 'var_113', 'var_120',\n",
       "       'var_122', 'var_127', 'var_129', 'var_135', 'var_158', 'var_167',\n",
       "       'var_171', 'var_178', 'var_180', 'var_182', 'var_183', 'var_195',\n",
       "       'var_196', 'var_201', 'var_212', 'var_215', 'var_225', 'var_227',\n",
       "       'var_248', 'var_287', 'var_294', 'var_297'],\n",
       "      dtype='object')"
      ]
     },
     "execution_count": 10,
     "metadata": {},
     "output_type": "execute_result"
    }
   ],
   "source": [
    "#Lisf of the deleted features\n",
    "X_train.columns[~sel.get_support()]"
   ]
  },
  {
   "cell_type": "code",
   "execution_count": 11,
   "id": "formed-classification",
   "metadata": {
    "ExecuteTime": {
     "end_time": "2021-02-11T20:35:30.300763Z",
     "start_time": "2021-02-11T20:35:30.298536Z"
    }
   },
   "outputs": [],
   "source": [
    "feature_names = X_train.columns[sel.get_support()]"
   ]
  },
  {
   "cell_type": "markdown",
   "id": "guilty-trigger",
   "metadata": {
    "ExecuteTime": {
     "end_time": "2021-02-10T16:34:28.203221Z",
     "start_time": "2021-02-10T16:34:28.199830Z"
    }
   },
   "source": [
    "If the variables are numerical is ok, but if the variables are categorical, we need to encode them before. "
   ]
  },
  {
   "cell_type": "markdown",
   "id": "union-speed",
   "metadata": {},
   "source": [
    "### Using Pandas"
   ]
  },
  {
   "cell_type": "markdown",
   "id": "russian-teens",
   "metadata": {},
   "source": [
    "#### Method STD()"
   ]
  },
  {
   "cell_type": "code",
   "execution_count": 12,
   "id": "ranking-nylon",
   "metadata": {
    "ExecuteTime": {
     "end_time": "2021-02-11T20:35:30.397224Z",
     "start_time": "2021-02-11T20:35:30.302355Z"
    }
   },
   "outputs": [],
   "source": [
    "constant_feature = [\n",
    "    feat for feat in X_train.columns if X_train[feat].std() == 0]"
   ]
  },
  {
   "cell_type": "code",
   "execution_count": 13,
   "id": "otherwise-crime",
   "metadata": {
    "ExecuteTime": {
     "end_time": "2021-02-11T20:35:30.402570Z",
     "start_time": "2021-02-11T20:35:30.399473Z"
    }
   },
   "outputs": [
    {
     "data": {
      "text/plain": [
       "42"
      ]
     },
     "execution_count": 13,
     "metadata": {},
     "output_type": "execute_result"
    }
   ],
   "source": [
    "len(constant_feature)"
   ]
  },
  {
   "cell_type": "code",
   "execution_count": 14,
   "id": "fleet-macintosh",
   "metadata": {
    "ExecuteTime": {
     "end_time": "2021-02-11T20:35:30.454106Z",
     "start_time": "2021-02-11T20:35:30.404371Z"
    }
   },
   "outputs": [
    {
     "data": {
      "text/html": [
       "<div>\n",
       "<style scoped>\n",
       "    .dataframe tbody tr th:only-of-type {\n",
       "        vertical-align: middle;\n",
       "    }\n",
       "\n",
       "    .dataframe tbody tr th {\n",
       "        vertical-align: top;\n",
       "    }\n",
       "\n",
       "    .dataframe thead th {\n",
       "        text-align: right;\n",
       "    }\n",
       "</style>\n",
       "<table border=\"1\" class=\"dataframe\">\n",
       "  <thead>\n",
       "    <tr style=\"text-align: right;\">\n",
       "      <th></th>\n",
       "      <th>var_1</th>\n",
       "      <th>var_2</th>\n",
       "      <th>var_3</th>\n",
       "      <th>var_4</th>\n",
       "      <th>var_5</th>\n",
       "      <th>var_6</th>\n",
       "      <th>var_7</th>\n",
       "      <th>var_8</th>\n",
       "      <th>var_9</th>\n",
       "      <th>var_10</th>\n",
       "      <th>...</th>\n",
       "      <th>var_289</th>\n",
       "      <th>var_290</th>\n",
       "      <th>var_291</th>\n",
       "      <th>var_292</th>\n",
       "      <th>var_293</th>\n",
       "      <th>var_295</th>\n",
       "      <th>var_296</th>\n",
       "      <th>var_298</th>\n",
       "      <th>var_299</th>\n",
       "      <th>var_300</th>\n",
       "    </tr>\n",
       "  </thead>\n",
       "  <tbody>\n",
       "    <tr>\n",
       "      <th>23990</th>\n",
       "      <td>0</td>\n",
       "      <td>0</td>\n",
       "      <td>0.0</td>\n",
       "      <td>2.79</td>\n",
       "      <td>0.0</td>\n",
       "      <td>0</td>\n",
       "      <td>0</td>\n",
       "      <td>0</td>\n",
       "      <td>0</td>\n",
       "      <td>0</td>\n",
       "      <td>...</td>\n",
       "      <td>0</td>\n",
       "      <td>0.0</td>\n",
       "      <td>0</td>\n",
       "      <td>0.0</td>\n",
       "      <td>0</td>\n",
       "      <td>0</td>\n",
       "      <td>0</td>\n",
       "      <td>0</td>\n",
       "      <td>0.0</td>\n",
       "      <td>0.0</td>\n",
       "    </tr>\n",
       "    <tr>\n",
       "      <th>8729</th>\n",
       "      <td>0</td>\n",
       "      <td>0</td>\n",
       "      <td>0.0</td>\n",
       "      <td>0.00</td>\n",
       "      <td>0.0</td>\n",
       "      <td>0</td>\n",
       "      <td>0</td>\n",
       "      <td>0</td>\n",
       "      <td>0</td>\n",
       "      <td>0</td>\n",
       "      <td>...</td>\n",
       "      <td>0</td>\n",
       "      <td>0.0</td>\n",
       "      <td>0</td>\n",
       "      <td>0.0</td>\n",
       "      <td>0</td>\n",
       "      <td>0</td>\n",
       "      <td>0</td>\n",
       "      <td>0</td>\n",
       "      <td>0.0</td>\n",
       "      <td>0.0</td>\n",
       "    </tr>\n",
       "    <tr>\n",
       "      <th>3451</th>\n",
       "      <td>0</td>\n",
       "      <td>0</td>\n",
       "      <td>0.0</td>\n",
       "      <td>2.79</td>\n",
       "      <td>0.0</td>\n",
       "      <td>0</td>\n",
       "      <td>0</td>\n",
       "      <td>0</td>\n",
       "      <td>0</td>\n",
       "      <td>0</td>\n",
       "      <td>...</td>\n",
       "      <td>0</td>\n",
       "      <td>0.0</td>\n",
       "      <td>0</td>\n",
       "      <td>0.0</td>\n",
       "      <td>0</td>\n",
       "      <td>0</td>\n",
       "      <td>0</td>\n",
       "      <td>0</td>\n",
       "      <td>0.0</td>\n",
       "      <td>0.0</td>\n",
       "    </tr>\n",
       "    <tr>\n",
       "      <th>2628</th>\n",
       "      <td>0</td>\n",
       "      <td>0</td>\n",
       "      <td>0.0</td>\n",
       "      <td>2.76</td>\n",
       "      <td>0.0</td>\n",
       "      <td>0</td>\n",
       "      <td>0</td>\n",
       "      <td>0</td>\n",
       "      <td>0</td>\n",
       "      <td>0</td>\n",
       "      <td>...</td>\n",
       "      <td>0</td>\n",
       "      <td>0.0</td>\n",
       "      <td>0</td>\n",
       "      <td>0.0</td>\n",
       "      <td>0</td>\n",
       "      <td>0</td>\n",
       "      <td>0</td>\n",
       "      <td>0</td>\n",
       "      <td>0.0</td>\n",
       "      <td>0.0</td>\n",
       "    </tr>\n",
       "    <tr>\n",
       "      <th>38352</th>\n",
       "      <td>0</td>\n",
       "      <td>0</td>\n",
       "      <td>0.0</td>\n",
       "      <td>2.88</td>\n",
       "      <td>0.0</td>\n",
       "      <td>0</td>\n",
       "      <td>0</td>\n",
       "      <td>0</td>\n",
       "      <td>0</td>\n",
       "      <td>0</td>\n",
       "      <td>...</td>\n",
       "      <td>0</td>\n",
       "      <td>0.0</td>\n",
       "      <td>0</td>\n",
       "      <td>0.0</td>\n",
       "      <td>0</td>\n",
       "      <td>0</td>\n",
       "      <td>0</td>\n",
       "      <td>0</td>\n",
       "      <td>0.0</td>\n",
       "      <td>0.0</td>\n",
       "    </tr>\n",
       "  </tbody>\n",
       "</table>\n",
       "<p>5 rows × 258 columns</p>\n",
       "</div>"
      ],
      "text/plain": [
       "       var_1  var_2  var_3  var_4  var_5  var_6  var_7  var_8  var_9  var_10  \\\n",
       "23990      0      0    0.0   2.79    0.0      0      0      0      0       0   \n",
       "8729       0      0    0.0   0.00    0.0      0      0      0      0       0   \n",
       "3451       0      0    0.0   2.79    0.0      0      0      0      0       0   \n",
       "2628       0      0    0.0   2.76    0.0      0      0      0      0       0   \n",
       "38352      0      0    0.0   2.88    0.0      0      0      0      0       0   \n",
       "\n",
       "       ...  var_289  var_290  var_291  var_292  var_293  var_295  var_296  \\\n",
       "23990  ...        0      0.0        0      0.0        0        0        0   \n",
       "8729   ...        0      0.0        0      0.0        0        0        0   \n",
       "3451   ...        0      0.0        0      0.0        0        0        0   \n",
       "2628   ...        0      0.0        0      0.0        0        0        0   \n",
       "38352  ...        0      0.0        0      0.0        0        0        0   \n",
       "\n",
       "       var_298  var_299  var_300  \n",
       "23990        0      0.0      0.0  \n",
       "8729         0      0.0      0.0  \n",
       "3451         0      0.0      0.0  \n",
       "2628         0      0.0      0.0  \n",
       "38352        0      0.0      0.0  \n",
       "\n",
       "[5 rows x 258 columns]"
      ]
     },
     "execution_count": 14,
     "metadata": {},
     "output_type": "execute_result"
    }
   ],
   "source": [
    "X_train.drop(labels=constant_feature,axis=1).head()"
   ]
  },
  {
   "cell_type": "markdown",
   "id": "conventional-horror",
   "metadata": {},
   "source": [
    "If the variables are numerical is ok, but if the variables are categorical, we need to encode them before. "
   ]
  },
  {
   "cell_type": "markdown",
   "id": "registered-teacher",
   "metadata": {},
   "source": [
    "#### Method nunique()"
   ]
  },
  {
   "cell_type": "code",
   "execution_count": 15,
   "id": "spoken-trance",
   "metadata": {
    "ExecuteTime": {
     "end_time": "2021-02-11T20:35:30.611383Z",
     "start_time": "2021-02-11T20:35:30.455963Z"
    }
   },
   "outputs": [],
   "source": [
    "# But ignore missing values, so have to be dropped by using dropna.\n",
    "constant_feature_2 = [\n",
    "    feat for feat in X_train.columns if X_train[feat].nunique() == 1]"
   ]
  },
  {
   "cell_type": "code",
   "execution_count": 16,
   "id": "different-switch",
   "metadata": {
    "ExecuteTime": {
     "end_time": "2021-02-11T20:35:30.615489Z",
     "start_time": "2021-02-11T20:35:30.612901Z"
    }
   },
   "outputs": [
    {
     "data": {
      "text/plain": [
       "42"
      ]
     },
     "execution_count": 16,
     "metadata": {},
     "output_type": "execute_result"
    }
   ],
   "source": [
    "len(constant_feature_2)"
   ]
  },
  {
   "cell_type": "code",
   "execution_count": 17,
   "id": "wooden-values",
   "metadata": {
    "ExecuteTime": {
     "end_time": "2021-02-11T20:35:30.681538Z",
     "start_time": "2021-02-11T20:35:30.616871Z"
    }
   },
   "outputs": [
    {
     "data": {
      "text/html": [
       "<div>\n",
       "<style scoped>\n",
       "    .dataframe tbody tr th:only-of-type {\n",
       "        vertical-align: middle;\n",
       "    }\n",
       "\n",
       "    .dataframe tbody tr th {\n",
       "        vertical-align: top;\n",
       "    }\n",
       "\n",
       "    .dataframe thead th {\n",
       "        text-align: right;\n",
       "    }\n",
       "</style>\n",
       "<table border=\"1\" class=\"dataframe\">\n",
       "  <thead>\n",
       "    <tr style=\"text-align: right;\">\n",
       "      <th></th>\n",
       "      <th>var_1</th>\n",
       "      <th>var_2</th>\n",
       "      <th>var_3</th>\n",
       "      <th>var_4</th>\n",
       "      <th>var_5</th>\n",
       "      <th>var_6</th>\n",
       "      <th>var_7</th>\n",
       "      <th>var_8</th>\n",
       "      <th>var_9</th>\n",
       "      <th>var_10</th>\n",
       "      <th>...</th>\n",
       "      <th>var_289</th>\n",
       "      <th>var_290</th>\n",
       "      <th>var_291</th>\n",
       "      <th>var_292</th>\n",
       "      <th>var_293</th>\n",
       "      <th>var_295</th>\n",
       "      <th>var_296</th>\n",
       "      <th>var_298</th>\n",
       "      <th>var_299</th>\n",
       "      <th>var_300</th>\n",
       "    </tr>\n",
       "  </thead>\n",
       "  <tbody>\n",
       "    <tr>\n",
       "      <th>23990</th>\n",
       "      <td>0</td>\n",
       "      <td>0</td>\n",
       "      <td>0.0</td>\n",
       "      <td>2.79</td>\n",
       "      <td>0.0</td>\n",
       "      <td>0</td>\n",
       "      <td>0</td>\n",
       "      <td>0</td>\n",
       "      <td>0</td>\n",
       "      <td>0</td>\n",
       "      <td>...</td>\n",
       "      <td>0</td>\n",
       "      <td>0.0</td>\n",
       "      <td>0</td>\n",
       "      <td>0.0</td>\n",
       "      <td>0</td>\n",
       "      <td>0</td>\n",
       "      <td>0</td>\n",
       "      <td>0</td>\n",
       "      <td>0.0</td>\n",
       "      <td>0.0</td>\n",
       "    </tr>\n",
       "    <tr>\n",
       "      <th>8729</th>\n",
       "      <td>0</td>\n",
       "      <td>0</td>\n",
       "      <td>0.0</td>\n",
       "      <td>0.00</td>\n",
       "      <td>0.0</td>\n",
       "      <td>0</td>\n",
       "      <td>0</td>\n",
       "      <td>0</td>\n",
       "      <td>0</td>\n",
       "      <td>0</td>\n",
       "      <td>...</td>\n",
       "      <td>0</td>\n",
       "      <td>0.0</td>\n",
       "      <td>0</td>\n",
       "      <td>0.0</td>\n",
       "      <td>0</td>\n",
       "      <td>0</td>\n",
       "      <td>0</td>\n",
       "      <td>0</td>\n",
       "      <td>0.0</td>\n",
       "      <td>0.0</td>\n",
       "    </tr>\n",
       "    <tr>\n",
       "      <th>3451</th>\n",
       "      <td>0</td>\n",
       "      <td>0</td>\n",
       "      <td>0.0</td>\n",
       "      <td>2.79</td>\n",
       "      <td>0.0</td>\n",
       "      <td>0</td>\n",
       "      <td>0</td>\n",
       "      <td>0</td>\n",
       "      <td>0</td>\n",
       "      <td>0</td>\n",
       "      <td>...</td>\n",
       "      <td>0</td>\n",
       "      <td>0.0</td>\n",
       "      <td>0</td>\n",
       "      <td>0.0</td>\n",
       "      <td>0</td>\n",
       "      <td>0</td>\n",
       "      <td>0</td>\n",
       "      <td>0</td>\n",
       "      <td>0.0</td>\n",
       "      <td>0.0</td>\n",
       "    </tr>\n",
       "    <tr>\n",
       "      <th>2628</th>\n",
       "      <td>0</td>\n",
       "      <td>0</td>\n",
       "      <td>0.0</td>\n",
       "      <td>2.76</td>\n",
       "      <td>0.0</td>\n",
       "      <td>0</td>\n",
       "      <td>0</td>\n",
       "      <td>0</td>\n",
       "      <td>0</td>\n",
       "      <td>0</td>\n",
       "      <td>...</td>\n",
       "      <td>0</td>\n",
       "      <td>0.0</td>\n",
       "      <td>0</td>\n",
       "      <td>0.0</td>\n",
       "      <td>0</td>\n",
       "      <td>0</td>\n",
       "      <td>0</td>\n",
       "      <td>0</td>\n",
       "      <td>0.0</td>\n",
       "      <td>0.0</td>\n",
       "    </tr>\n",
       "    <tr>\n",
       "      <th>38352</th>\n",
       "      <td>0</td>\n",
       "      <td>0</td>\n",
       "      <td>0.0</td>\n",
       "      <td>2.88</td>\n",
       "      <td>0.0</td>\n",
       "      <td>0</td>\n",
       "      <td>0</td>\n",
       "      <td>0</td>\n",
       "      <td>0</td>\n",
       "      <td>0</td>\n",
       "      <td>...</td>\n",
       "      <td>0</td>\n",
       "      <td>0.0</td>\n",
       "      <td>0</td>\n",
       "      <td>0.0</td>\n",
       "      <td>0</td>\n",
       "      <td>0</td>\n",
       "      <td>0</td>\n",
       "      <td>0</td>\n",
       "      <td>0.0</td>\n",
       "      <td>0.0</td>\n",
       "    </tr>\n",
       "  </tbody>\n",
       "</table>\n",
       "<p>5 rows × 258 columns</p>\n",
       "</div>"
      ],
      "text/plain": [
       "       var_1  var_2  var_3  var_4  var_5  var_6  var_7  var_8  var_9  var_10  \\\n",
       "23990      0      0    0.0   2.79    0.0      0      0      0      0       0   \n",
       "8729       0      0    0.0   0.00    0.0      0      0      0      0       0   \n",
       "3451       0      0    0.0   2.79    0.0      0      0      0      0       0   \n",
       "2628       0      0    0.0   2.76    0.0      0      0      0      0       0   \n",
       "38352      0      0    0.0   2.88    0.0      0      0      0      0       0   \n",
       "\n",
       "       ...  var_289  var_290  var_291  var_292  var_293  var_295  var_296  \\\n",
       "23990  ...        0      0.0        0      0.0        0        0        0   \n",
       "8729   ...        0      0.0        0      0.0        0        0        0   \n",
       "3451   ...        0      0.0        0      0.0        0        0        0   \n",
       "2628   ...        0      0.0        0      0.0        0        0        0   \n",
       "38352  ...        0      0.0        0      0.0        0        0        0   \n",
       "\n",
       "       var_298  var_299  var_300  \n",
       "23990        0      0.0      0.0  \n",
       "8729         0      0.0      0.0  \n",
       "3451         0      0.0      0.0  \n",
       "2628         0      0.0      0.0  \n",
       "38352        0      0.0      0.0  \n",
       "\n",
       "[5 rows x 258 columns]"
      ]
     },
     "execution_count": 17,
     "metadata": {},
     "output_type": "execute_result"
    }
   ],
   "source": [
    "X_train.drop(labels=constant_feature_2,axis=1).head()"
   ]
  },
  {
   "cell_type": "markdown",
   "id": "deluxe-jenny",
   "metadata": {},
   "source": [
    "Works with both numerical and categorical data!"
   ]
  },
  {
   "cell_type": "markdown",
   "id": "social-season",
   "metadata": {},
   "source": [
    "## Quasi-Constant Features"
   ]
  },
  {
   "cell_type": "code",
   "execution_count": 18,
   "id": "narrative-prize",
   "metadata": {
    "ExecuteTime": {
     "end_time": "2021-02-11T20:35:30.685476Z",
     "start_time": "2021-02-11T20:35:30.683244Z"
    }
   },
   "outputs": [],
   "source": [
    "sel = VarianceThreshold(threshold=0.01) #Remove the features with zero variance and also quasi-constant features."
   ]
  },
  {
   "cell_type": "code",
   "execution_count": 19,
   "id": "leading-asian",
   "metadata": {
    "ExecuteTime": {
     "end_time": "2021-02-11T20:35:30.829154Z",
     "start_time": "2021-02-11T20:35:30.687149Z"
    }
   },
   "outputs": [],
   "source": [
    "X_train_sklearn_2 = sel.fit_transform(X_train)"
   ]
  },
  {
   "cell_type": "code",
   "execution_count": 20,
   "id": "finished-clinton",
   "metadata": {
    "ExecuteTime": {
     "end_time": "2021-02-11T20:35:30.833770Z",
     "start_time": "2021-02-11T20:35:30.831048Z"
    }
   },
   "outputs": [
    {
     "name": "stdout",
     "output_type": "stream",
     "text": [
      "Original dataset has 300 features and after removing the constant features 212.\n"
     ]
    }
   ],
   "source": [
    "print(\n",
    "    f\"Original dataset has {X_train.shape[1]} features and after removing the constant features {X_train_sklearn_2.shape[1]}.\")"
   ]
  },
  {
   "cell_type": "markdown",
   "id": "dress-tract",
   "metadata": {},
   "source": [
    "Almost of third of the features have been removed."
   ]
  },
  {
   "cell_type": "code",
   "execution_count": 21,
   "id": "representative-sponsorship",
   "metadata": {
    "ExecuteTime": {
     "end_time": "2021-02-11T20:35:30.840100Z",
     "start_time": "2021-02-11T20:35:30.835764Z"
    }
   },
   "outputs": [
    {
     "data": {
      "text/plain": [
       "Index(['var_2', 'var_7', 'var_9', 'var_10', 'var_14', 'var_19', 'var_23',\n",
       "       'var_28', 'var_33', 'var_34', 'var_36', 'var_43', 'var_44', 'var_45',\n",
       "       'var_53', 'var_54', 'var_56', 'var_61', 'var_66', 'var_67', 'var_69',\n",
       "       'var_71', 'var_73', 'var_80', 'var_81', 'var_87', 'var_89', 'var_92',\n",
       "       'var_97', 'var_99', 'var_104', 'var_106', 'var_112', 'var_113',\n",
       "       'var_116', 'var_120', 'var_122', 'var_127', 'var_129', 'var_133',\n",
       "       'var_135', 'var_137', 'var_141', 'var_146', 'var_158', 'var_167',\n",
       "       'var_170', 'var_171', 'var_177', 'var_178', 'var_180', 'var_182',\n",
       "       'var_183', 'var_187', 'var_189', 'var_194', 'var_195', 'var_196',\n",
       "       'var_197', 'var_198', 'var_201', 'var_212', 'var_215', 'var_218',\n",
       "       'var_219', 'var_223', 'var_225', 'var_227', 'var_233', 'var_234',\n",
       "       'var_235', 'var_245', 'var_247', 'var_248', 'var_249', 'var_250',\n",
       "       'var_251', 'var_256', 'var_260', 'var_267', 'var_274', 'var_282',\n",
       "       'var_285', 'var_287', 'var_289', 'var_294', 'var_297', 'var_298'],\n",
       "      dtype='object')"
      ]
     },
     "execution_count": 21,
     "metadata": {},
     "output_type": "execute_result"
    }
   ],
   "source": [
    "X_train.columns[~sel.get_support()]"
   ]
  },
  {
   "cell_type": "code",
   "execution_count": 22,
   "id": "major-festival",
   "metadata": {
    "ExecuteTime": {
     "end_time": "2021-02-11T20:35:30.850788Z",
     "start_time": "2021-02-11T20:35:30.842494Z"
    }
   },
   "outputs": [
    {
     "data": {
      "text/plain": [
       "0    99.997\n",
       "1     0.003\n",
       "Name: var_2, dtype: float64"
      ]
     },
     "execution_count": 22,
     "metadata": {},
     "output_type": "execute_result"
    }
   ],
   "source": [
    "#To check the quasi-constant features\n",
    "X_train[\"var_2\"].value_counts(normalize=True) * 100"
   ]
  },
  {
   "cell_type": "code",
   "execution_count": 23,
   "id": "advisory-partnership",
   "metadata": {
    "ExecuteTime": {
     "end_time": "2021-02-11T20:35:30.863437Z",
     "start_time": "2021-02-11T20:35:30.858048Z"
    }
   },
   "outputs": [
    {
     "data": {
      "text/plain": [
       "0    9.9997e-01\n",
       "1    2.9851e-05\n",
       "Name: var_2, dtype: float64"
      ]
     },
     "execution_count": 23,
     "metadata": {},
     "output_type": "execute_result"
    }
   ],
   "source": [
    "X_train[\"var_2\"].value_counts(normalize=True).sort_values(ascending=False)"
   ]
  },
  {
   "cell_type": "code",
   "execution_count": 24,
   "id": "solved-director",
   "metadata": {
    "ExecuteTime": {
     "end_time": "2021-02-11T20:35:31.123017Z",
     "start_time": "2021-02-11T20:35:30.868059Z"
    }
   },
   "outputs": [],
   "source": [
    "# Append a list of constant and quasi-constant features.\n",
    "list_predominant_features = []\n",
    "for i in X_train.columns:\n",
    "    if X_train[i].value_counts(normalize=True).sort_values(ascending=False).values[0] > 0.998:\n",
    "        list_predominant_features.append(i)"
   ]
  },
  {
   "cell_type": "code",
   "execution_count": 25,
   "id": "rubber-diabetes",
   "metadata": {
    "ExecuteTime": {
     "end_time": "2021-02-11T20:35:31.180611Z",
     "start_time": "2021-02-11T20:35:31.124940Z"
    }
   },
   "outputs": [
    {
     "data": {
      "text/html": [
       "<div>\n",
       "<style scoped>\n",
       "    .dataframe tbody tr th:only-of-type {\n",
       "        vertical-align: middle;\n",
       "    }\n",
       "\n",
       "    .dataframe tbody tr th {\n",
       "        vertical-align: top;\n",
       "    }\n",
       "\n",
       "    .dataframe thead th {\n",
       "        text-align: right;\n",
       "    }\n",
       "</style>\n",
       "<table border=\"1\" class=\"dataframe\">\n",
       "  <thead>\n",
       "    <tr style=\"text-align: right;\">\n",
       "      <th></th>\n",
       "      <th>var_4</th>\n",
       "      <th>var_5</th>\n",
       "      <th>var_8</th>\n",
       "      <th>var_13</th>\n",
       "      <th>var_15</th>\n",
       "      <th>var_16</th>\n",
       "      <th>var_17</th>\n",
       "      <th>var_18</th>\n",
       "      <th>var_19</th>\n",
       "      <th>var_21</th>\n",
       "      <th>...</th>\n",
       "      <th>var_279</th>\n",
       "      <th>var_281</th>\n",
       "      <th>var_284</th>\n",
       "      <th>var_288</th>\n",
       "      <th>var_291</th>\n",
       "      <th>var_292</th>\n",
       "      <th>var_293</th>\n",
       "      <th>var_295</th>\n",
       "      <th>var_296</th>\n",
       "      <th>var_300</th>\n",
       "    </tr>\n",
       "  </thead>\n",
       "  <tbody>\n",
       "    <tr>\n",
       "      <th>23990</th>\n",
       "      <td>2.79</td>\n",
       "      <td>0.0</td>\n",
       "      <td>0</td>\n",
       "      <td>0.0</td>\n",
       "      <td>3</td>\n",
       "      <td>0.0</td>\n",
       "      <td>2.94</td>\n",
       "      <td>0.0</td>\n",
       "      <td>0</td>\n",
       "      <td>2.94</td>\n",
       "      <td>...</td>\n",
       "      <td>0.0</td>\n",
       "      <td>0</td>\n",
       "      <td>0</td>\n",
       "      <td>0.0</td>\n",
       "      <td>0</td>\n",
       "      <td>0.0</td>\n",
       "      <td>0</td>\n",
       "      <td>0</td>\n",
       "      <td>0</td>\n",
       "      <td>0.0</td>\n",
       "    </tr>\n",
       "    <tr>\n",
       "      <th>8729</th>\n",
       "      <td>0.00</td>\n",
       "      <td>0.0</td>\n",
       "      <td>0</td>\n",
       "      <td>0.0</td>\n",
       "      <td>0</td>\n",
       "      <td>0.0</td>\n",
       "      <td>0.00</td>\n",
       "      <td>0.0</td>\n",
       "      <td>0</td>\n",
       "      <td>0.00</td>\n",
       "      <td>...</td>\n",
       "      <td>0.0</td>\n",
       "      <td>0</td>\n",
       "      <td>0</td>\n",
       "      <td>0.0</td>\n",
       "      <td>0</td>\n",
       "      <td>0.0</td>\n",
       "      <td>0</td>\n",
       "      <td>0</td>\n",
       "      <td>0</td>\n",
       "      <td>0.0</td>\n",
       "    </tr>\n",
       "    <tr>\n",
       "      <th>3451</th>\n",
       "      <td>2.79</td>\n",
       "      <td>0.0</td>\n",
       "      <td>0</td>\n",
       "      <td>0.0</td>\n",
       "      <td>3</td>\n",
       "      <td>0.0</td>\n",
       "      <td>0.00</td>\n",
       "      <td>0.0</td>\n",
       "      <td>0</td>\n",
       "      <td>27.30</td>\n",
       "      <td>...</td>\n",
       "      <td>0.0</td>\n",
       "      <td>0</td>\n",
       "      <td>0</td>\n",
       "      <td>0.0</td>\n",
       "      <td>0</td>\n",
       "      <td>0.0</td>\n",
       "      <td>0</td>\n",
       "      <td>0</td>\n",
       "      <td>0</td>\n",
       "      <td>0.0</td>\n",
       "    </tr>\n",
       "    <tr>\n",
       "      <th>2628</th>\n",
       "      <td>2.76</td>\n",
       "      <td>0.0</td>\n",
       "      <td>0</td>\n",
       "      <td>0.0</td>\n",
       "      <td>3</td>\n",
       "      <td>0.0</td>\n",
       "      <td>0.00</td>\n",
       "      <td>0.0</td>\n",
       "      <td>0</td>\n",
       "      <td>2.82</td>\n",
       "      <td>...</td>\n",
       "      <td>0.0</td>\n",
       "      <td>0</td>\n",
       "      <td>0</td>\n",
       "      <td>0.0</td>\n",
       "      <td>0</td>\n",
       "      <td>0.0</td>\n",
       "      <td>0</td>\n",
       "      <td>0</td>\n",
       "      <td>0</td>\n",
       "      <td>0.0</td>\n",
       "    </tr>\n",
       "    <tr>\n",
       "      <th>38352</th>\n",
       "      <td>2.88</td>\n",
       "      <td>0.0</td>\n",
       "      <td>0</td>\n",
       "      <td>0.0</td>\n",
       "      <td>3</td>\n",
       "      <td>0.0</td>\n",
       "      <td>0.00</td>\n",
       "      <td>0.0</td>\n",
       "      <td>0</td>\n",
       "      <td>86.40</td>\n",
       "      <td>...</td>\n",
       "      <td>0.0</td>\n",
       "      <td>0</td>\n",
       "      <td>0</td>\n",
       "      <td>0.0</td>\n",
       "      <td>0</td>\n",
       "      <td>0.0</td>\n",
       "      <td>0</td>\n",
       "      <td>0</td>\n",
       "      <td>0</td>\n",
       "      <td>0.0</td>\n",
       "    </tr>\n",
       "  </tbody>\n",
       "</table>\n",
       "<p>5 rows × 163 columns</p>\n",
       "</div>"
      ],
      "text/plain": [
       "       var_4  var_5  var_8  var_13  var_15  var_16  var_17  var_18  var_19  \\\n",
       "23990   2.79    0.0      0     0.0       3     0.0    2.94     0.0       0   \n",
       "8729    0.00    0.0      0     0.0       0     0.0    0.00     0.0       0   \n",
       "3451    2.79    0.0      0     0.0       3     0.0    0.00     0.0       0   \n",
       "2628    2.76    0.0      0     0.0       3     0.0    0.00     0.0       0   \n",
       "38352   2.88    0.0      0     0.0       3     0.0    0.00     0.0       0   \n",
       "\n",
       "       var_21  ...  var_279  var_281  var_284  var_288  var_291  var_292  \\\n",
       "23990    2.94  ...      0.0        0        0      0.0        0      0.0   \n",
       "8729     0.00  ...      0.0        0        0      0.0        0      0.0   \n",
       "3451    27.30  ...      0.0        0        0      0.0        0      0.0   \n",
       "2628     2.82  ...      0.0        0        0      0.0        0      0.0   \n",
       "38352   86.40  ...      0.0        0        0      0.0        0      0.0   \n",
       "\n",
       "       var_293  var_295  var_296  var_300  \n",
       "23990        0        0        0      0.0  \n",
       "8729         0        0        0      0.0  \n",
       "3451         0        0        0      0.0  \n",
       "2628         0        0        0      0.0  \n",
       "38352        0        0        0      0.0  \n",
       "\n",
       "[5 rows x 163 columns]"
      ]
     },
     "execution_count": 25,
     "metadata": {},
     "output_type": "execute_result"
    }
   ],
   "source": [
    "X_train.drop(labels=list_predominant_features,axis=1).head()"
   ]
  },
  {
   "cell_type": "markdown",
   "id": "personalized-switch",
   "metadata": {},
   "source": [
    "We removed most half of the features of the dataset!"
   ]
  },
  {
   "cell_type": "markdown",
   "id": "empty-breakdown",
   "metadata": {},
   "source": [
    "## Removing Duplicated Features"
   ]
  },
  {
   "cell_type": "code",
   "execution_count": 26,
   "id": "residential-vision",
   "metadata": {
    "ExecuteTime": {
     "end_time": "2021-02-11T20:35:32.684307Z",
     "start_time": "2021-02-11T20:35:31.182475Z"
    }
   },
   "outputs": [
    {
     "name": "stderr",
     "output_type": "stream",
     "text": [
      "100%|██████████| 300/300 [00:01<00:00, 202.33it/s]\n"
     ]
    }
   ],
   "source": [
    "duplicated_feat_pairs = {}\n",
    "\n",
    "duplicated_feat = []\n",
    "\n",
    "for i in tqdm(range(0, len(X_train.columns))):\n",
    "\n",
    "    feat_1 = X_train.columns[i]\n",
    "\n",
    "    if feat_1 not in duplicated_feat:\n",
    "\n",
    "        duplicated_feat_pairs[feat_1] = []\n",
    "\n",
    "        for feat_2 in X_train.columns[i + 1:]:\n",
    "\n",
    "            if X_train[feat_1].equals(X_train[feat_2]):\n",
    "\n",
    "                duplicated_feat_pairs[feat_1].append(feat_2)\n",
    "\n",
    "                duplicated_feat.append(feat_2)"
   ]
  },
  {
   "cell_type": "code",
   "execution_count": 27,
   "id": "superb-brooklyn",
   "metadata": {
    "ExecuteTime": {
     "end_time": "2021-02-11T20:35:32.740705Z",
     "start_time": "2021-02-11T20:35:32.686272Z"
    }
   },
   "outputs": [
    {
     "data": {
      "text/html": [
       "<div>\n",
       "<style scoped>\n",
       "    .dataframe tbody tr th:only-of-type {\n",
       "        vertical-align: middle;\n",
       "    }\n",
       "\n",
       "    .dataframe tbody tr th {\n",
       "        vertical-align: top;\n",
       "    }\n",
       "\n",
       "    .dataframe thead th {\n",
       "        text-align: right;\n",
       "    }\n",
       "</style>\n",
       "<table border=\"1\" class=\"dataframe\">\n",
       "  <thead>\n",
       "    <tr style=\"text-align: right;\">\n",
       "      <th></th>\n",
       "      <th>var_1</th>\n",
       "      <th>var_2</th>\n",
       "      <th>var_3</th>\n",
       "      <th>var_4</th>\n",
       "      <th>var_5</th>\n",
       "      <th>var_6</th>\n",
       "      <th>var_7</th>\n",
       "      <th>var_8</th>\n",
       "      <th>var_9</th>\n",
       "      <th>var_10</th>\n",
       "      <th>...</th>\n",
       "      <th>var_286</th>\n",
       "      <th>var_288</th>\n",
       "      <th>var_290</th>\n",
       "      <th>var_291</th>\n",
       "      <th>var_292</th>\n",
       "      <th>var_293</th>\n",
       "      <th>var_295</th>\n",
       "      <th>var_298</th>\n",
       "      <th>var_299</th>\n",
       "      <th>var_300</th>\n",
       "    </tr>\n",
       "  </thead>\n",
       "  <tbody>\n",
       "    <tr>\n",
       "      <th>23990</th>\n",
       "      <td>0</td>\n",
       "      <td>0</td>\n",
       "      <td>0.0</td>\n",
       "      <td>2.79</td>\n",
       "      <td>0.0</td>\n",
       "      <td>0</td>\n",
       "      <td>0</td>\n",
       "      <td>0</td>\n",
       "      <td>0</td>\n",
       "      <td>0</td>\n",
       "      <td>...</td>\n",
       "      <td>0.0</td>\n",
       "      <td>0.0</td>\n",
       "      <td>0.0</td>\n",
       "      <td>0</td>\n",
       "      <td>0.0</td>\n",
       "      <td>0</td>\n",
       "      <td>0</td>\n",
       "      <td>0</td>\n",
       "      <td>0.0</td>\n",
       "      <td>0.0</td>\n",
       "    </tr>\n",
       "    <tr>\n",
       "      <th>8729</th>\n",
       "      <td>0</td>\n",
       "      <td>0</td>\n",
       "      <td>0.0</td>\n",
       "      <td>0.00</td>\n",
       "      <td>0.0</td>\n",
       "      <td>0</td>\n",
       "      <td>0</td>\n",
       "      <td>0</td>\n",
       "      <td>0</td>\n",
       "      <td>0</td>\n",
       "      <td>...</td>\n",
       "      <td>0.0</td>\n",
       "      <td>0.0</td>\n",
       "      <td>0.0</td>\n",
       "      <td>0</td>\n",
       "      <td>0.0</td>\n",
       "      <td>0</td>\n",
       "      <td>0</td>\n",
       "      <td>0</td>\n",
       "      <td>0.0</td>\n",
       "      <td>0.0</td>\n",
       "    </tr>\n",
       "    <tr>\n",
       "      <th>3451</th>\n",
       "      <td>0</td>\n",
       "      <td>0</td>\n",
       "      <td>0.0</td>\n",
       "      <td>2.79</td>\n",
       "      <td>0.0</td>\n",
       "      <td>0</td>\n",
       "      <td>0</td>\n",
       "      <td>0</td>\n",
       "      <td>0</td>\n",
       "      <td>0</td>\n",
       "      <td>...</td>\n",
       "      <td>0.0</td>\n",
       "      <td>0.0</td>\n",
       "      <td>0.0</td>\n",
       "      <td>0</td>\n",
       "      <td>0.0</td>\n",
       "      <td>0</td>\n",
       "      <td>0</td>\n",
       "      <td>0</td>\n",
       "      <td>0.0</td>\n",
       "      <td>0.0</td>\n",
       "    </tr>\n",
       "    <tr>\n",
       "      <th>2628</th>\n",
       "      <td>0</td>\n",
       "      <td>0</td>\n",
       "      <td>0.0</td>\n",
       "      <td>2.76</td>\n",
       "      <td>0.0</td>\n",
       "      <td>0</td>\n",
       "      <td>0</td>\n",
       "      <td>0</td>\n",
       "      <td>0</td>\n",
       "      <td>0</td>\n",
       "      <td>...</td>\n",
       "      <td>0.0</td>\n",
       "      <td>0.0</td>\n",
       "      <td>0.0</td>\n",
       "      <td>0</td>\n",
       "      <td>0.0</td>\n",
       "      <td>0</td>\n",
       "      <td>0</td>\n",
       "      <td>0</td>\n",
       "      <td>0.0</td>\n",
       "      <td>0.0</td>\n",
       "    </tr>\n",
       "    <tr>\n",
       "      <th>38352</th>\n",
       "      <td>0</td>\n",
       "      <td>0</td>\n",
       "      <td>0.0</td>\n",
       "      <td>2.88</td>\n",
       "      <td>0.0</td>\n",
       "      <td>0</td>\n",
       "      <td>0</td>\n",
       "      <td>0</td>\n",
       "      <td>0</td>\n",
       "      <td>0</td>\n",
       "      <td>...</td>\n",
       "      <td>0.0</td>\n",
       "      <td>0.0</td>\n",
       "      <td>0.0</td>\n",
       "      <td>0</td>\n",
       "      <td>0.0</td>\n",
       "      <td>0</td>\n",
       "      <td>0</td>\n",
       "      <td>0</td>\n",
       "      <td>0.0</td>\n",
       "      <td>0.0</td>\n",
       "    </tr>\n",
       "  </tbody>\n",
       "</table>\n",
       "<p>5 rows × 244 columns</p>\n",
       "</div>"
      ],
      "text/plain": [
       "       var_1  var_2  var_3  var_4  var_5  var_6  var_7  var_8  var_9  var_10  \\\n",
       "23990      0      0    0.0   2.79    0.0      0      0      0      0       0   \n",
       "8729       0      0    0.0   0.00    0.0      0      0      0      0       0   \n",
       "3451       0      0    0.0   2.79    0.0      0      0      0      0       0   \n",
       "2628       0      0    0.0   2.76    0.0      0      0      0      0       0   \n",
       "38352      0      0    0.0   2.88    0.0      0      0      0      0       0   \n",
       "\n",
       "       ...  var_286  var_288  var_290  var_291  var_292  var_293  var_295  \\\n",
       "23990  ...      0.0      0.0      0.0        0      0.0        0        0   \n",
       "8729   ...      0.0      0.0      0.0        0      0.0        0        0   \n",
       "3451   ...      0.0      0.0      0.0        0      0.0        0        0   \n",
       "2628   ...      0.0      0.0      0.0        0      0.0        0        0   \n",
       "38352  ...      0.0      0.0      0.0        0      0.0        0        0   \n",
       "\n",
       "       var_298  var_299  var_300  \n",
       "23990        0      0.0      0.0  \n",
       "8729         0      0.0      0.0  \n",
       "3451         0      0.0      0.0  \n",
       "2628         0      0.0      0.0  \n",
       "38352        0      0.0      0.0  \n",
       "\n",
       "[5 rows x 244 columns]"
      ]
     },
     "execution_count": 27,
     "metadata": {},
     "output_type": "execute_result"
    }
   ],
   "source": [
    "X_train.drop(labels=duplicated_feat,axis=1).head()"
   ]
  },
  {
   "cell_type": "code",
   "execution_count": 28,
   "id": "million-galaxy",
   "metadata": {
    "ExecuteTime": {
     "end_time": "2021-02-11T20:35:32.745725Z",
     "start_time": "2021-02-11T20:35:32.742380Z"
    }
   },
   "outputs": [
    {
     "data": {
      "text/plain": [
       "56"
      ]
     },
     "execution_count": 28,
     "metadata": {},
     "output_type": "execute_result"
    }
   ],
   "source": [
    "len(duplicated_feat)"
   ]
  },
  {
   "cell_type": "markdown",
   "id": "banner-sound",
   "metadata": {},
   "source": [
    "56 features are duplicated!"
   ]
  },
  {
   "cell_type": "markdown",
   "id": "interesting-setup",
   "metadata": {},
   "source": [
    "## Using Feature-Engine"
   ]
  },
  {
   "cell_type": "code",
   "execution_count": 29,
   "id": "engaged-rings",
   "metadata": {
    "ExecuteTime": {
     "end_time": "2021-02-11T20:35:32.799632Z",
     "start_time": "2021-02-11T20:35:32.747439Z"
    }
   },
   "outputs": [],
   "source": [
    "from feature_engine.selection import DropConstantFeatures\n",
    "from feature_engine.selection import DropDuplicateFeatures"
   ]
  },
  {
   "cell_type": "code",
   "execution_count": 30,
   "id": "packed-exploration",
   "metadata": {
    "ExecuteTime": {
     "end_time": "2021-02-11T20:35:32.803296Z",
     "start_time": "2021-02-11T20:35:32.801081Z"
    }
   },
   "outputs": [],
   "source": [
    "# Remove the constant and quasi-constant features\n",
    "sel = DropConstantFeatures(tol=0.998, variables=None,\n",
    "                           missing_values=\"raise\")  # tol = Tolerance, max=1"
   ]
  },
  {
   "cell_type": "code",
   "execution_count": 31,
   "id": "solved-certificate",
   "metadata": {
    "ExecuteTime": {
     "end_time": "2021-02-11T20:35:33.303541Z",
     "start_time": "2021-02-11T20:35:32.804773Z"
    }
   },
   "outputs": [
    {
     "data": {
      "text/html": [
       "<div>\n",
       "<style scoped>\n",
       "    .dataframe tbody tr th:only-of-type {\n",
       "        vertical-align: middle;\n",
       "    }\n",
       "\n",
       "    .dataframe tbody tr th {\n",
       "        vertical-align: top;\n",
       "    }\n",
       "\n",
       "    .dataframe thead th {\n",
       "        text-align: right;\n",
       "    }\n",
       "</style>\n",
       "<table border=\"1\" class=\"dataframe\">\n",
       "  <thead>\n",
       "    <tr style=\"text-align: right;\">\n",
       "      <th></th>\n",
       "      <th>var_4</th>\n",
       "      <th>var_5</th>\n",
       "      <th>var_8</th>\n",
       "      <th>var_13</th>\n",
       "      <th>var_15</th>\n",
       "      <th>var_17</th>\n",
       "      <th>var_18</th>\n",
       "      <th>var_19</th>\n",
       "      <th>var_21</th>\n",
       "      <th>var_22</th>\n",
       "      <th>...</th>\n",
       "      <th>var_279</th>\n",
       "      <th>var_281</th>\n",
       "      <th>var_284</th>\n",
       "      <th>var_288</th>\n",
       "      <th>var_291</th>\n",
       "      <th>var_292</th>\n",
       "      <th>var_293</th>\n",
       "      <th>var_295</th>\n",
       "      <th>var_296</th>\n",
       "      <th>var_300</th>\n",
       "    </tr>\n",
       "  </thead>\n",
       "  <tbody>\n",
       "    <tr>\n",
       "      <th>23990</th>\n",
       "      <td>2.79</td>\n",
       "      <td>0.0</td>\n",
       "      <td>0</td>\n",
       "      <td>0.0</td>\n",
       "      <td>3</td>\n",
       "      <td>2.94</td>\n",
       "      <td>0.0</td>\n",
       "      <td>0</td>\n",
       "      <td>2.94</td>\n",
       "      <td>0.0</td>\n",
       "      <td>...</td>\n",
       "      <td>0.0</td>\n",
       "      <td>0</td>\n",
       "      <td>0</td>\n",
       "      <td>0.0</td>\n",
       "      <td>0</td>\n",
       "      <td>0.0</td>\n",
       "      <td>0</td>\n",
       "      <td>0</td>\n",
       "      <td>0</td>\n",
       "      <td>0.0</td>\n",
       "    </tr>\n",
       "    <tr>\n",
       "      <th>8729</th>\n",
       "      <td>0.00</td>\n",
       "      <td>0.0</td>\n",
       "      <td>0</td>\n",
       "      <td>0.0</td>\n",
       "      <td>0</td>\n",
       "      <td>0.00</td>\n",
       "      <td>0.0</td>\n",
       "      <td>0</td>\n",
       "      <td>0.00</td>\n",
       "      <td>0.0</td>\n",
       "      <td>...</td>\n",
       "      <td>0.0</td>\n",
       "      <td>0</td>\n",
       "      <td>0</td>\n",
       "      <td>0.0</td>\n",
       "      <td>0</td>\n",
       "      <td>0.0</td>\n",
       "      <td>0</td>\n",
       "      <td>0</td>\n",
       "      <td>0</td>\n",
       "      <td>0.0</td>\n",
       "    </tr>\n",
       "    <tr>\n",
       "      <th>3451</th>\n",
       "      <td>2.79</td>\n",
       "      <td>0.0</td>\n",
       "      <td>0</td>\n",
       "      <td>0.0</td>\n",
       "      <td>3</td>\n",
       "      <td>0.00</td>\n",
       "      <td>0.0</td>\n",
       "      <td>0</td>\n",
       "      <td>27.30</td>\n",
       "      <td>0.0</td>\n",
       "      <td>...</td>\n",
       "      <td>0.0</td>\n",
       "      <td>0</td>\n",
       "      <td>0</td>\n",
       "      <td>0.0</td>\n",
       "      <td>0</td>\n",
       "      <td>0.0</td>\n",
       "      <td>0</td>\n",
       "      <td>0</td>\n",
       "      <td>0</td>\n",
       "      <td>0.0</td>\n",
       "    </tr>\n",
       "    <tr>\n",
       "      <th>2628</th>\n",
       "      <td>2.76</td>\n",
       "      <td>0.0</td>\n",
       "      <td>0</td>\n",
       "      <td>0.0</td>\n",
       "      <td>3</td>\n",
       "      <td>0.00</td>\n",
       "      <td>0.0</td>\n",
       "      <td>0</td>\n",
       "      <td>2.82</td>\n",
       "      <td>0.0</td>\n",
       "      <td>...</td>\n",
       "      <td>0.0</td>\n",
       "      <td>0</td>\n",
       "      <td>0</td>\n",
       "      <td>0.0</td>\n",
       "      <td>0</td>\n",
       "      <td>0.0</td>\n",
       "      <td>0</td>\n",
       "      <td>0</td>\n",
       "      <td>0</td>\n",
       "      <td>0.0</td>\n",
       "    </tr>\n",
       "    <tr>\n",
       "      <th>38352</th>\n",
       "      <td>2.88</td>\n",
       "      <td>0.0</td>\n",
       "      <td>0</td>\n",
       "      <td>0.0</td>\n",
       "      <td>3</td>\n",
       "      <td>0.00</td>\n",
       "      <td>0.0</td>\n",
       "      <td>0</td>\n",
       "      <td>86.40</td>\n",
       "      <td>0.0</td>\n",
       "      <td>...</td>\n",
       "      <td>0.0</td>\n",
       "      <td>0</td>\n",
       "      <td>0</td>\n",
       "      <td>0.0</td>\n",
       "      <td>0</td>\n",
       "      <td>0.0</td>\n",
       "      <td>0</td>\n",
       "      <td>0</td>\n",
       "      <td>0</td>\n",
       "      <td>0.0</td>\n",
       "    </tr>\n",
       "  </tbody>\n",
       "</table>\n",
       "<p>5 rows × 161 columns</p>\n",
       "</div>"
      ],
      "text/plain": [
       "       var_4  var_5  var_8  var_13  var_15  var_17  var_18  var_19  var_21  \\\n",
       "23990   2.79    0.0      0     0.0       3    2.94     0.0       0    2.94   \n",
       "8729    0.00    0.0      0     0.0       0    0.00     0.0       0    0.00   \n",
       "3451    2.79    0.0      0     0.0       3    0.00     0.0       0   27.30   \n",
       "2628    2.76    0.0      0     0.0       3    0.00     0.0       0    2.82   \n",
       "38352   2.88    0.0      0     0.0       3    0.00     0.0       0   86.40   \n",
       "\n",
       "       var_22  ...  var_279  var_281  var_284  var_288  var_291  var_292  \\\n",
       "23990     0.0  ...      0.0        0        0      0.0        0      0.0   \n",
       "8729      0.0  ...      0.0        0        0      0.0        0      0.0   \n",
       "3451      0.0  ...      0.0        0        0      0.0        0      0.0   \n",
       "2628      0.0  ...      0.0        0        0      0.0        0      0.0   \n",
       "38352     0.0  ...      0.0        0        0      0.0        0      0.0   \n",
       "\n",
       "       var_293  var_295  var_296  var_300  \n",
       "23990        0        0        0      0.0  \n",
       "8729         0        0        0      0.0  \n",
       "3451         0        0        0      0.0  \n",
       "2628         0        0        0      0.0  \n",
       "38352        0        0        0      0.0  \n",
       "\n",
       "[5 rows x 161 columns]"
      ]
     },
     "execution_count": 31,
     "metadata": {},
     "output_type": "execute_result"
    }
   ],
   "source": [
    "sel.fit_transform(X_train).head()"
   ]
  },
  {
   "cell_type": "code",
   "execution_count": 32,
   "id": "plain-hawaiian",
   "metadata": {
    "ExecuteTime": {
     "end_time": "2021-02-11T20:35:33.307441Z",
     "start_time": "2021-02-11T20:35:33.305316Z"
    }
   },
   "outputs": [],
   "source": [
    "sel_duplicated = DropDuplicateFeatures(variables=None, missing_values=\"ignore\")"
   ]
  },
  {
   "cell_type": "code",
   "execution_count": 33,
   "id": "greenhouse-asthma",
   "metadata": {
    "ExecuteTime": {
     "end_time": "2021-02-11T20:35:34.686454Z",
     "start_time": "2021-02-11T20:35:33.309125Z"
    }
   },
   "outputs": [
    {
     "data": {
      "text/html": [
       "<div>\n",
       "<style scoped>\n",
       "    .dataframe tbody tr th:only-of-type {\n",
       "        vertical-align: middle;\n",
       "    }\n",
       "\n",
       "    .dataframe tbody tr th {\n",
       "        vertical-align: top;\n",
       "    }\n",
       "\n",
       "    .dataframe thead th {\n",
       "        text-align: right;\n",
       "    }\n",
       "</style>\n",
       "<table border=\"1\" class=\"dataframe\">\n",
       "  <thead>\n",
       "    <tr style=\"text-align: right;\">\n",
       "      <th></th>\n",
       "      <th>var_1</th>\n",
       "      <th>var_2</th>\n",
       "      <th>var_3</th>\n",
       "      <th>var_4</th>\n",
       "      <th>var_5</th>\n",
       "      <th>var_6</th>\n",
       "      <th>var_7</th>\n",
       "      <th>var_8</th>\n",
       "      <th>var_9</th>\n",
       "      <th>var_10</th>\n",
       "      <th>...</th>\n",
       "      <th>var_286</th>\n",
       "      <th>var_288</th>\n",
       "      <th>var_290</th>\n",
       "      <th>var_291</th>\n",
       "      <th>var_292</th>\n",
       "      <th>var_293</th>\n",
       "      <th>var_295</th>\n",
       "      <th>var_298</th>\n",
       "      <th>var_299</th>\n",
       "      <th>var_300</th>\n",
       "    </tr>\n",
       "  </thead>\n",
       "  <tbody>\n",
       "    <tr>\n",
       "      <th>23990</th>\n",
       "      <td>0</td>\n",
       "      <td>0</td>\n",
       "      <td>0.0</td>\n",
       "      <td>2.79</td>\n",
       "      <td>0.0</td>\n",
       "      <td>0</td>\n",
       "      <td>0</td>\n",
       "      <td>0</td>\n",
       "      <td>0</td>\n",
       "      <td>0</td>\n",
       "      <td>...</td>\n",
       "      <td>0.0</td>\n",
       "      <td>0.0</td>\n",
       "      <td>0.0</td>\n",
       "      <td>0</td>\n",
       "      <td>0.0</td>\n",
       "      <td>0</td>\n",
       "      <td>0</td>\n",
       "      <td>0</td>\n",
       "      <td>0.0</td>\n",
       "      <td>0.0</td>\n",
       "    </tr>\n",
       "    <tr>\n",
       "      <th>8729</th>\n",
       "      <td>0</td>\n",
       "      <td>0</td>\n",
       "      <td>0.0</td>\n",
       "      <td>0.00</td>\n",
       "      <td>0.0</td>\n",
       "      <td>0</td>\n",
       "      <td>0</td>\n",
       "      <td>0</td>\n",
       "      <td>0</td>\n",
       "      <td>0</td>\n",
       "      <td>...</td>\n",
       "      <td>0.0</td>\n",
       "      <td>0.0</td>\n",
       "      <td>0.0</td>\n",
       "      <td>0</td>\n",
       "      <td>0.0</td>\n",
       "      <td>0</td>\n",
       "      <td>0</td>\n",
       "      <td>0</td>\n",
       "      <td>0.0</td>\n",
       "      <td>0.0</td>\n",
       "    </tr>\n",
       "    <tr>\n",
       "      <th>3451</th>\n",
       "      <td>0</td>\n",
       "      <td>0</td>\n",
       "      <td>0.0</td>\n",
       "      <td>2.79</td>\n",
       "      <td>0.0</td>\n",
       "      <td>0</td>\n",
       "      <td>0</td>\n",
       "      <td>0</td>\n",
       "      <td>0</td>\n",
       "      <td>0</td>\n",
       "      <td>...</td>\n",
       "      <td>0.0</td>\n",
       "      <td>0.0</td>\n",
       "      <td>0.0</td>\n",
       "      <td>0</td>\n",
       "      <td>0.0</td>\n",
       "      <td>0</td>\n",
       "      <td>0</td>\n",
       "      <td>0</td>\n",
       "      <td>0.0</td>\n",
       "      <td>0.0</td>\n",
       "    </tr>\n",
       "    <tr>\n",
       "      <th>2628</th>\n",
       "      <td>0</td>\n",
       "      <td>0</td>\n",
       "      <td>0.0</td>\n",
       "      <td>2.76</td>\n",
       "      <td>0.0</td>\n",
       "      <td>0</td>\n",
       "      <td>0</td>\n",
       "      <td>0</td>\n",
       "      <td>0</td>\n",
       "      <td>0</td>\n",
       "      <td>...</td>\n",
       "      <td>0.0</td>\n",
       "      <td>0.0</td>\n",
       "      <td>0.0</td>\n",
       "      <td>0</td>\n",
       "      <td>0.0</td>\n",
       "      <td>0</td>\n",
       "      <td>0</td>\n",
       "      <td>0</td>\n",
       "      <td>0.0</td>\n",
       "      <td>0.0</td>\n",
       "    </tr>\n",
       "    <tr>\n",
       "      <th>38352</th>\n",
       "      <td>0</td>\n",
       "      <td>0</td>\n",
       "      <td>0.0</td>\n",
       "      <td>2.88</td>\n",
       "      <td>0.0</td>\n",
       "      <td>0</td>\n",
       "      <td>0</td>\n",
       "      <td>0</td>\n",
       "      <td>0</td>\n",
       "      <td>0</td>\n",
       "      <td>...</td>\n",
       "      <td>0.0</td>\n",
       "      <td>0.0</td>\n",
       "      <td>0.0</td>\n",
       "      <td>0</td>\n",
       "      <td>0.0</td>\n",
       "      <td>0</td>\n",
       "      <td>0</td>\n",
       "      <td>0</td>\n",
       "      <td>0.0</td>\n",
       "      <td>0.0</td>\n",
       "    </tr>\n",
       "  </tbody>\n",
       "</table>\n",
       "<p>5 rows × 244 columns</p>\n",
       "</div>"
      ],
      "text/plain": [
       "       var_1  var_2  var_3  var_4  var_5  var_6  var_7  var_8  var_9  var_10  \\\n",
       "23990      0      0    0.0   2.79    0.0      0      0      0      0       0   \n",
       "8729       0      0    0.0   0.00    0.0      0      0      0      0       0   \n",
       "3451       0      0    0.0   2.79    0.0      0      0      0      0       0   \n",
       "2628       0      0    0.0   2.76    0.0      0      0      0      0       0   \n",
       "38352      0      0    0.0   2.88    0.0      0      0      0      0       0   \n",
       "\n",
       "       ...  var_286  var_288  var_290  var_291  var_292  var_293  var_295  \\\n",
       "23990  ...      0.0      0.0      0.0        0      0.0        0        0   \n",
       "8729   ...      0.0      0.0      0.0        0      0.0        0        0   \n",
       "3451   ...      0.0      0.0      0.0        0      0.0        0        0   \n",
       "2628   ...      0.0      0.0      0.0        0      0.0        0        0   \n",
       "38352  ...      0.0      0.0      0.0        0      0.0        0        0   \n",
       "\n",
       "       var_298  var_299  var_300  \n",
       "23990        0      0.0      0.0  \n",
       "8729         0      0.0      0.0  \n",
       "3451         0      0.0      0.0  \n",
       "2628         0      0.0      0.0  \n",
       "38352        0      0.0      0.0  \n",
       "\n",
       "[5 rows x 244 columns]"
      ]
     },
     "execution_count": 33,
     "metadata": {},
     "output_type": "execute_result"
    }
   ],
   "source": [
    "# Remove the duplicate features\n",
    "sel_duplicated.fit_transform(X_train).head()"
   ]
  },
  {
   "cell_type": "markdown",
   "id": "cooperative-report",
   "metadata": {},
   "source": [
    "Now, with a pipeline..."
   ]
  },
  {
   "cell_type": "code",
   "execution_count": 34,
   "id": "superb-canadian",
   "metadata": {
    "ExecuteTime": {
     "end_time": "2021-02-11T20:35:34.690774Z",
     "start_time": "2021-02-11T20:35:34.688195Z"
    }
   },
   "outputs": [],
   "source": [
    "pipeline = Pipeline(\n",
    "    [(\"DropConstantFeatures\", DropConstantFeatures(tol=0.998, variables=None, missing_values=\"raise\")),\n",
    "     (\"DropDuplicateFeatures\", DropDuplicateFeatures(\n",
    "         variables=None, missing_values=\"ignore\"))\n",
    "     ]\n",
    ")"
   ]
  },
  {
   "cell_type": "code",
   "execution_count": 35,
   "id": "miniature-swift",
   "metadata": {
    "ExecuteTime": {
     "end_time": "2021-02-11T20:35:35.660161Z",
     "start_time": "2021-02-11T20:35:34.692542Z"
    }
   },
   "outputs": [
    {
     "data": {
      "text/html": [
       "<div>\n",
       "<style scoped>\n",
       "    .dataframe tbody tr th:only-of-type {\n",
       "        vertical-align: middle;\n",
       "    }\n",
       "\n",
       "    .dataframe tbody tr th {\n",
       "        vertical-align: top;\n",
       "    }\n",
       "\n",
       "    .dataframe thead th {\n",
       "        text-align: right;\n",
       "    }\n",
       "</style>\n",
       "<table border=\"1\" class=\"dataframe\">\n",
       "  <thead>\n",
       "    <tr style=\"text-align: right;\">\n",
       "      <th></th>\n",
       "      <th>var_4</th>\n",
       "      <th>var_5</th>\n",
       "      <th>var_8</th>\n",
       "      <th>var_13</th>\n",
       "      <th>var_15</th>\n",
       "      <th>var_17</th>\n",
       "      <th>var_18</th>\n",
       "      <th>var_19</th>\n",
       "      <th>var_21</th>\n",
       "      <th>var_22</th>\n",
       "      <th>...</th>\n",
       "      <th>var_278</th>\n",
       "      <th>var_279</th>\n",
       "      <th>var_281</th>\n",
       "      <th>var_284</th>\n",
       "      <th>var_288</th>\n",
       "      <th>var_291</th>\n",
       "      <th>var_292</th>\n",
       "      <th>var_293</th>\n",
       "      <th>var_295</th>\n",
       "      <th>var_300</th>\n",
       "    </tr>\n",
       "  </thead>\n",
       "  <tbody>\n",
       "    <tr>\n",
       "      <th>23990</th>\n",
       "      <td>2.79</td>\n",
       "      <td>0.0</td>\n",
       "      <td>0</td>\n",
       "      <td>0.0</td>\n",
       "      <td>3</td>\n",
       "      <td>2.94</td>\n",
       "      <td>0.0</td>\n",
       "      <td>0</td>\n",
       "      <td>2.94</td>\n",
       "      <td>0.0</td>\n",
       "      <td>...</td>\n",
       "      <td>0</td>\n",
       "      <td>0.0</td>\n",
       "      <td>0</td>\n",
       "      <td>0</td>\n",
       "      <td>0.0</td>\n",
       "      <td>0</td>\n",
       "      <td>0.0</td>\n",
       "      <td>0</td>\n",
       "      <td>0</td>\n",
       "      <td>0.0</td>\n",
       "    </tr>\n",
       "    <tr>\n",
       "      <th>8729</th>\n",
       "      <td>0.00</td>\n",
       "      <td>0.0</td>\n",
       "      <td>0</td>\n",
       "      <td>0.0</td>\n",
       "      <td>0</td>\n",
       "      <td>0.00</td>\n",
       "      <td>0.0</td>\n",
       "      <td>0</td>\n",
       "      <td>0.00</td>\n",
       "      <td>0.0</td>\n",
       "      <td>...</td>\n",
       "      <td>0</td>\n",
       "      <td>0.0</td>\n",
       "      <td>0</td>\n",
       "      <td>0</td>\n",
       "      <td>0.0</td>\n",
       "      <td>0</td>\n",
       "      <td>0.0</td>\n",
       "      <td>0</td>\n",
       "      <td>0</td>\n",
       "      <td>0.0</td>\n",
       "    </tr>\n",
       "    <tr>\n",
       "      <th>3451</th>\n",
       "      <td>2.79</td>\n",
       "      <td>0.0</td>\n",
       "      <td>0</td>\n",
       "      <td>0.0</td>\n",
       "      <td>3</td>\n",
       "      <td>0.00</td>\n",
       "      <td>0.0</td>\n",
       "      <td>0</td>\n",
       "      <td>27.30</td>\n",
       "      <td>0.0</td>\n",
       "      <td>...</td>\n",
       "      <td>0</td>\n",
       "      <td>0.0</td>\n",
       "      <td>0</td>\n",
       "      <td>0</td>\n",
       "      <td>0.0</td>\n",
       "      <td>0</td>\n",
       "      <td>0.0</td>\n",
       "      <td>0</td>\n",
       "      <td>0</td>\n",
       "      <td>0.0</td>\n",
       "    </tr>\n",
       "    <tr>\n",
       "      <th>2628</th>\n",
       "      <td>2.76</td>\n",
       "      <td>0.0</td>\n",
       "      <td>0</td>\n",
       "      <td>0.0</td>\n",
       "      <td>3</td>\n",
       "      <td>0.00</td>\n",
       "      <td>0.0</td>\n",
       "      <td>0</td>\n",
       "      <td>2.82</td>\n",
       "      <td>0.0</td>\n",
       "      <td>...</td>\n",
       "      <td>0</td>\n",
       "      <td>0.0</td>\n",
       "      <td>0</td>\n",
       "      <td>0</td>\n",
       "      <td>0.0</td>\n",
       "      <td>0</td>\n",
       "      <td>0.0</td>\n",
       "      <td>0</td>\n",
       "      <td>0</td>\n",
       "      <td>0.0</td>\n",
       "    </tr>\n",
       "    <tr>\n",
       "      <th>38352</th>\n",
       "      <td>2.88</td>\n",
       "      <td>0.0</td>\n",
       "      <td>0</td>\n",
       "      <td>0.0</td>\n",
       "      <td>3</td>\n",
       "      <td>0.00</td>\n",
       "      <td>0.0</td>\n",
       "      <td>0</td>\n",
       "      <td>86.40</td>\n",
       "      <td>0.0</td>\n",
       "      <td>...</td>\n",
       "      <td>0</td>\n",
       "      <td>0.0</td>\n",
       "      <td>0</td>\n",
       "      <td>0</td>\n",
       "      <td>0.0</td>\n",
       "      <td>0</td>\n",
       "      <td>0.0</td>\n",
       "      <td>0</td>\n",
       "      <td>0</td>\n",
       "      <td>0.0</td>\n",
       "    </tr>\n",
       "  </tbody>\n",
       "</table>\n",
       "<p>5 rows × 155 columns</p>\n",
       "</div>"
      ],
      "text/plain": [
       "       var_4  var_5  var_8  var_13  var_15  var_17  var_18  var_19  var_21  \\\n",
       "23990   2.79    0.0      0     0.0       3    2.94     0.0       0    2.94   \n",
       "8729    0.00    0.0      0     0.0       0    0.00     0.0       0    0.00   \n",
       "3451    2.79    0.0      0     0.0       3    0.00     0.0       0   27.30   \n",
       "2628    2.76    0.0      0     0.0       3    0.00     0.0       0    2.82   \n",
       "38352   2.88    0.0      0     0.0       3    0.00     0.0       0   86.40   \n",
       "\n",
       "       var_22  ...  var_278  var_279  var_281  var_284  var_288  var_291  \\\n",
       "23990     0.0  ...        0      0.0        0        0      0.0        0   \n",
       "8729      0.0  ...        0      0.0        0        0      0.0        0   \n",
       "3451      0.0  ...        0      0.0        0        0      0.0        0   \n",
       "2628      0.0  ...        0      0.0        0        0      0.0        0   \n",
       "38352     0.0  ...        0      0.0        0        0      0.0        0   \n",
       "\n",
       "       var_292  var_293  var_295  var_300  \n",
       "23990      0.0        0        0      0.0  \n",
       "8729       0.0        0        0      0.0  \n",
       "3451       0.0        0        0      0.0  \n",
       "2628       0.0        0        0      0.0  \n",
       "38352      0.0        0        0      0.0  \n",
       "\n",
       "[5 rows x 155 columns]"
      ]
     },
     "execution_count": 35,
     "metadata": {},
     "output_type": "execute_result"
    }
   ],
   "source": [
    "pipeline.fit_transform(X_train).head()"
   ]
  },
  {
   "cell_type": "markdown",
   "id": "behavioral-compilation",
   "metadata": {},
   "source": [
    "Close to a half of the features have been removed...!"
   ]
  },
  {
   "cell_type": "code",
   "execution_count": 36,
   "id": "cooperative-albany",
   "metadata": {
    "ExecuteTime": {
     "end_time": "2021-02-11T20:35:35.664824Z",
     "start_time": "2021-02-11T20:35:35.661945Z"
    }
   },
   "outputs": [
    {
     "name": "stdout",
     "output_type": "stream",
     "text": [
      "Number of features to be dropped during the first step: 139\n",
      "Number of features to be dropped during the second step: 6\n"
     ]
    }
   ],
   "source": [
    "print(\n",
    "    f'Number of features to be dropped during the first step: {len(pipeline[\"DropConstantFeatures\"].features_to_drop_)}')\n",
    "print(\n",
    "    f'Number of features to be dropped during the second step: {len(pipeline[\"DropDuplicateFeatures\"].features_to_drop_)}')"
   ]
  },
  {
   "cell_type": "markdown",
   "id": "another-history",
   "metadata": {},
   "source": [
    "# Correlation Methods"
   ]
  },
  {
   "cell_type": "code",
   "execution_count": 37,
   "id": "funny-transsexual",
   "metadata": {
    "ExecuteTime": {
     "end_time": "2021-02-11T20:35:40.844480Z",
     "start_time": "2021-02-11T20:35:35.666480Z"
    }
   },
   "outputs": [],
   "source": [
    "#The correlation matrix\n",
    "correlation_matrix = X_train.corr()"
   ]
  },
  {
   "cell_type": "code",
   "execution_count": 38,
   "id": "separate-cocktail",
   "metadata": {
    "ExecuteTime": {
     "end_time": "2021-02-11T20:35:43.022805Z",
     "start_time": "2021-02-11T20:35:40.846066Z"
    }
   },
   "outputs": [
    {
     "data": {
      "text/plain": [
       "<Figure size 432x288 with 0 Axes>"
      ]
     },
     "execution_count": 38,
     "metadata": {},
     "output_type": "execute_result"
    },
    {
     "data": {
      "image/png": "[encoded data removed]",
      "text/plain": [
       "<Figure size 1080x720 with 2 Axes>"
      ]
     },
     "metadata": {},
     "output_type": "display_data"
    },
    {
     "data": {
      "text/plain": [
       "<Figure size 432x288 with 0 Axes>"
      ]
     },
     "metadata": {},
     "output_type": "display_data"
    }
   ],
   "source": [
    "cmap = sns.diverging_palette(220, 20, as_cmap=True)\n",
    "plt.figure(figsize=(15,10))\n",
    "sns.heatmap(correlation_matrix,cmap=cmap)\n",
    "plt.figure()"
   ]
  },
  {
   "cell_type": "markdown",
   "id": "planned-excuse",
   "metadata": {},
   "source": [
    "## Brute force"
   ]
  },
  {
   "cell_type": "code",
   "execution_count": 39,
   "id": "distant-place",
   "metadata": {
    "ExecuteTime": {
     "end_time": "2021-02-11T20:35:43.027889Z",
     "start_time": "2021-02-11T20:35:43.024510Z"
    }
   },
   "outputs": [],
   "source": [
    "def correlation_filter(dataset, threshold):\n",
    "    correlation = set()\n",
    "    correlation_matrix = dataset.corr()\n",
    "    for i in tqdm(range(0, len(correlation_matrix.columns))):\n",
    "        for j in range(i):\n",
    "            if abs(correlation_matrix.iloc[i, j] > threshold):\n",
    "                correlation.add(correlation_matrix.columns[i])\n",
    "    return correlation"
   ]
  },
  {
   "cell_type": "code",
   "execution_count": 40,
   "id": "optional-surgeon",
   "metadata": {
    "ExecuteTime": {
     "end_time": "2021-02-11T20:35:50.900190Z",
     "start_time": "2021-02-11T20:35:43.029938Z"
    }
   },
   "outputs": [
    {
     "name": "stderr",
     "output_type": "stream",
     "text": [
      "100%|██████████| 300/300 [00:01<00:00, 219.28it/s]\n"
     ]
    },
    {
     "data": {
      "text/plain": [
       "139"
      ]
     },
     "execution_count": 40,
     "metadata": {},
     "output_type": "execute_result"
    }
   ],
   "source": [
    "corr_feature = correlation_filter(X_train,0.8)\n",
    "\n",
    "len(set(corr_feature))"
   ]
  },
  {
   "cell_type": "markdown",
   "id": "parliamentary-measurement",
   "metadata": {},
   "source": [
    "We can remove 139 highly correlated features without impacting the performance of our machine learning algorithm."
   ]
  },
  {
   "cell_type": "code",
   "execution_count": 41,
   "id": "rapid-sense",
   "metadata": {
    "ExecuteTime": {
     "end_time": "2021-02-11T20:35:50.956446Z",
     "start_time": "2021-02-11T20:35:50.902728Z"
    }
   },
   "outputs": [
    {
     "data": {
      "text/html": [
       "<div>\n",
       "<style scoped>\n",
       "    .dataframe tbody tr th:only-of-type {\n",
       "        vertical-align: middle;\n",
       "    }\n",
       "\n",
       "    .dataframe tbody tr th {\n",
       "        vertical-align: top;\n",
       "    }\n",
       "\n",
       "    .dataframe thead th {\n",
       "        text-align: right;\n",
       "    }\n",
       "</style>\n",
       "<table border=\"1\" class=\"dataframe\">\n",
       "  <thead>\n",
       "    <tr style=\"text-align: right;\">\n",
       "      <th></th>\n",
       "      <th>var_1</th>\n",
       "      <th>var_2</th>\n",
       "      <th>var_3</th>\n",
       "      <th>var_4</th>\n",
       "      <th>var_5</th>\n",
       "      <th>var_6</th>\n",
       "      <th>var_7</th>\n",
       "      <th>var_8</th>\n",
       "      <th>var_9</th>\n",
       "      <th>var_10</th>\n",
       "      <th>...</th>\n",
       "      <th>var_271</th>\n",
       "      <th>var_274</th>\n",
       "      <th>var_275</th>\n",
       "      <th>var_276</th>\n",
       "      <th>var_287</th>\n",
       "      <th>var_288</th>\n",
       "      <th>var_292</th>\n",
       "      <th>var_293</th>\n",
       "      <th>var_294</th>\n",
       "      <th>var_297</th>\n",
       "    </tr>\n",
       "  </thead>\n",
       "  <tbody>\n",
       "    <tr>\n",
       "      <th>23990</th>\n",
       "      <td>0</td>\n",
       "      <td>0</td>\n",
       "      <td>0.0</td>\n",
       "      <td>2.79</td>\n",
       "      <td>0.0</td>\n",
       "      <td>0</td>\n",
       "      <td>0</td>\n",
       "      <td>0</td>\n",
       "      <td>0</td>\n",
       "      <td>0</td>\n",
       "      <td>...</td>\n",
       "      <td>0.0</td>\n",
       "      <td>0</td>\n",
       "      <td>0</td>\n",
       "      <td>0.0</td>\n",
       "      <td>0</td>\n",
       "      <td>0.0</td>\n",
       "      <td>0.0</td>\n",
       "      <td>0</td>\n",
       "      <td>0</td>\n",
       "      <td>0</td>\n",
       "    </tr>\n",
       "    <tr>\n",
       "      <th>8729</th>\n",
       "      <td>0</td>\n",
       "      <td>0</td>\n",
       "      <td>0.0</td>\n",
       "      <td>0.00</td>\n",
       "      <td>0.0</td>\n",
       "      <td>0</td>\n",
       "      <td>0</td>\n",
       "      <td>0</td>\n",
       "      <td>0</td>\n",
       "      <td>0</td>\n",
       "      <td>...</td>\n",
       "      <td>0.0</td>\n",
       "      <td>0</td>\n",
       "      <td>0</td>\n",
       "      <td>0.0</td>\n",
       "      <td>0</td>\n",
       "      <td>0.0</td>\n",
       "      <td>0.0</td>\n",
       "      <td>0</td>\n",
       "      <td>0</td>\n",
       "      <td>0</td>\n",
       "    </tr>\n",
       "    <tr>\n",
       "      <th>3451</th>\n",
       "      <td>0</td>\n",
       "      <td>0</td>\n",
       "      <td>0.0</td>\n",
       "      <td>2.79</td>\n",
       "      <td>0.0</td>\n",
       "      <td>0</td>\n",
       "      <td>0</td>\n",
       "      <td>0</td>\n",
       "      <td>0</td>\n",
       "      <td>0</td>\n",
       "      <td>...</td>\n",
       "      <td>0.0</td>\n",
       "      <td>0</td>\n",
       "      <td>0</td>\n",
       "      <td>0.0</td>\n",
       "      <td>0</td>\n",
       "      <td>0.0</td>\n",
       "      <td>0.0</td>\n",
       "      <td>0</td>\n",
       "      <td>0</td>\n",
       "      <td>0</td>\n",
       "    </tr>\n",
       "    <tr>\n",
       "      <th>2628</th>\n",
       "      <td>0</td>\n",
       "      <td>0</td>\n",
       "      <td>0.0</td>\n",
       "      <td>2.76</td>\n",
       "      <td>0.0</td>\n",
       "      <td>0</td>\n",
       "      <td>0</td>\n",
       "      <td>0</td>\n",
       "      <td>0</td>\n",
       "      <td>0</td>\n",
       "      <td>...</td>\n",
       "      <td>0.0</td>\n",
       "      <td>0</td>\n",
       "      <td>0</td>\n",
       "      <td>0.0</td>\n",
       "      <td>0</td>\n",
       "      <td>0.0</td>\n",
       "      <td>0.0</td>\n",
       "      <td>0</td>\n",
       "      <td>0</td>\n",
       "      <td>0</td>\n",
       "    </tr>\n",
       "    <tr>\n",
       "      <th>38352</th>\n",
       "      <td>0</td>\n",
       "      <td>0</td>\n",
       "      <td>0.0</td>\n",
       "      <td>2.88</td>\n",
       "      <td>0.0</td>\n",
       "      <td>0</td>\n",
       "      <td>0</td>\n",
       "      <td>0</td>\n",
       "      <td>0</td>\n",
       "      <td>0</td>\n",
       "      <td>...</td>\n",
       "      <td>0.0</td>\n",
       "      <td>0</td>\n",
       "      <td>0</td>\n",
       "      <td>0.0</td>\n",
       "      <td>0</td>\n",
       "      <td>0.0</td>\n",
       "      <td>0.0</td>\n",
       "      <td>0</td>\n",
       "      <td>0</td>\n",
       "      <td>0</td>\n",
       "    </tr>\n",
       "  </tbody>\n",
       "</table>\n",
       "<p>5 rows × 161 columns</p>\n",
       "</div>"
      ],
      "text/plain": [
       "       var_1  var_2  var_3  var_4  var_5  var_6  var_7  var_8  var_9  var_10  \\\n",
       "23990      0      0    0.0   2.79    0.0      0      0      0      0       0   \n",
       "8729       0      0    0.0   0.00    0.0      0      0      0      0       0   \n",
       "3451       0      0    0.0   2.79    0.0      0      0      0      0       0   \n",
       "2628       0      0    0.0   2.76    0.0      0      0      0      0       0   \n",
       "38352      0      0    0.0   2.88    0.0      0      0      0      0       0   \n",
       "\n",
       "       ...  var_271  var_274  var_275  var_276  var_287  var_288  var_292  \\\n",
       "23990  ...      0.0        0        0      0.0        0      0.0      0.0   \n",
       "8729   ...      0.0        0        0      0.0        0      0.0      0.0   \n",
       "3451   ...      0.0        0        0      0.0        0      0.0      0.0   \n",
       "2628   ...      0.0        0        0      0.0        0      0.0      0.0   \n",
       "38352  ...      0.0        0        0      0.0        0      0.0      0.0   \n",
       "\n",
       "       var_293  var_294  var_297  \n",
       "23990        0        0        0  \n",
       "8729         0        0        0  \n",
       "3451         0        0        0  \n",
       "2628         0        0        0  \n",
       "38352        0        0        0  \n",
       "\n",
       "[5 rows x 161 columns]"
      ]
     },
     "execution_count": 41,
     "metadata": {},
     "output_type": "execute_result"
    }
   ],
   "source": [
    "X_train.drop(labels=corr_feature,axis=1).head()"
   ]
  },
  {
   "cell_type": "markdown",
   "id": "disabled-broad",
   "metadata": {},
   "source": [
    "## Group method"
   ]
  },
  {
   "cell_type": "code",
   "execution_count": 42,
   "id": "pursuant-delight",
   "metadata": {
    "ExecuteTime": {
     "end_time": "2021-02-11T20:35:57.069759Z",
     "start_time": "2021-02-11T20:35:50.959017Z"
    }
   },
   "outputs": [],
   "source": [
    "corr_matrix = X_train.corr()\n",
    "corr_matrix = corr_matrix.abs().unstack() # Keep just the abs value\n",
    "corr_matrix = corr_matrix[corr_matrix >= 0.8] #Threshold = 0.8\n",
    "corr_matrix = corr_matrix[corr_matrix < 0.99999] # Not interested in self correlated features\n",
    "corr_matrix = pd.DataFrame(corr_matrix).reset_index()\n",
    "corr_matrix.columns = [\"feature_1\",\"feature_2\",\"corr\"]"
   ]
  },
  {
   "cell_type": "code",
   "execution_count": 43,
   "id": "regulated-philosophy",
   "metadata": {
    "ExecuteTime": {
     "end_time": "2021-02-11T20:35:57.079103Z",
     "start_time": "2021-02-11T20:35:57.071804Z"
    }
   },
   "outputs": [
    {
     "data": {
      "text/html": [
       "<div>\n",
       "<style scoped>\n",
       "    .dataframe tbody tr th:only-of-type {\n",
       "        vertical-align: middle;\n",
       "    }\n",
       "\n",
       "    .dataframe tbody tr th {\n",
       "        vertical-align: top;\n",
       "    }\n",
       "\n",
       "    .dataframe thead th {\n",
       "        text-align: right;\n",
       "    }\n",
       "</style>\n",
       "<table border=\"1\" class=\"dataframe\">\n",
       "  <thead>\n",
       "    <tr style=\"text-align: right;\">\n",
       "      <th></th>\n",
       "      <th>feature_1</th>\n",
       "      <th>feature_2</th>\n",
       "      <th>corr</th>\n",
       "    </tr>\n",
       "  </thead>\n",
       "  <tbody>\n",
       "    <tr>\n",
       "      <th>0</th>\n",
       "      <td>var_3</td>\n",
       "      <td>var_65</td>\n",
       "      <td>0.8040</td>\n",
       "    </tr>\n",
       "    <tr>\n",
       "      <th>1</th>\n",
       "      <td>var_4</td>\n",
       "      <td>var_262</td>\n",
       "      <td>0.9816</td>\n",
       "    </tr>\n",
       "    <tr>\n",
       "      <th>2</th>\n",
       "      <td>var_7</td>\n",
       "      <td>var_228</td>\n",
       "      <td>0.8176</td>\n",
       "    </tr>\n",
       "    <tr>\n",
       "      <th>3</th>\n",
       "      <td>var_7</td>\n",
       "      <td>var_233</td>\n",
       "      <td>0.9622</td>\n",
       "    </tr>\n",
       "    <tr>\n",
       "      <th>4</th>\n",
       "      <td>var_8</td>\n",
       "      <td>var_281</td>\n",
       "      <td>0.9987</td>\n",
       "    </tr>\n",
       "  </tbody>\n",
       "</table>\n",
       "</div>"
      ],
      "text/plain": [
       "  feature_1 feature_2    corr\n",
       "0     var_3    var_65  0.8040\n",
       "1     var_4   var_262  0.9816\n",
       "2     var_7   var_228  0.8176\n",
       "3     var_7   var_233  0.9622\n",
       "4     var_8   var_281  0.9987"
      ]
     },
     "execution_count": 43,
     "metadata": {},
     "output_type": "execute_result"
    }
   ],
   "source": [
    "corr_matrix.head()"
   ]
  },
  {
   "cell_type": "code",
   "execution_count": 44,
   "id": "personalized-teens",
   "metadata": {
    "ExecuteTime": {
     "end_time": "2021-02-11T20:35:57.157544Z",
     "start_time": "2021-02-11T20:35:57.080998Z"
    }
   },
   "outputs": [],
   "source": [
    "correlation = {}\n",
    "\n",
    "for feature in corr_matrix[\"feature_1\"].unique():\n",
    "    if feature not in correlation.keys():\n",
    "        correlation[feature] = corr_matrix[corr_matrix[\"feature_1\"] == feature]"
   ]
  },
  {
   "cell_type": "code",
   "execution_count": 45,
   "id": "suspended-ethics",
   "metadata": {
    "ExecuteTime": {
     "end_time": "2021-02-11T20:35:57.162336Z",
     "start_time": "2021-02-11T20:35:57.159585Z"
    }
   },
   "outputs": [
    {
     "name": "stdout",
     "output_type": "stream",
     "text": [
      " Number of correlated groups found: 179\n"
     ]
    }
   ],
   "source": [
    "print(f\" Number of correlated groups found: {len(correlation.keys())}\")"
   ]
  },
  {
   "cell_type": "markdown",
   "id": "editorial-underground",
   "metadata": {},
   "source": [
    "After that, we can further check the features and select which ones are the most useful (less missing values, less redundancy, etc...) or use a ML algorithm to select the most important features."
   ]
  },
  {
   "cell_type": "code",
   "execution_count": 46,
   "id": "numerical-beijing",
   "metadata": {
    "ExecuteTime": {
     "end_time": "2021-02-11T20:35:57.166488Z",
     "start_time": "2021-02-11T20:35:57.164100Z"
    }
   },
   "outputs": [],
   "source": [
    "from sklearn.ensemble import RandomForestClassifier"
   ]
  },
  {
   "cell_type": "code",
   "execution_count": 47,
   "id": "tamil-breeding",
   "metadata": {
    "ExecuteTime": {
     "end_time": "2021-02-11T20:35:57.170705Z",
     "start_time": "2021-02-11T20:35:57.168180Z"
    }
   },
   "outputs": [],
   "source": [
    "features = list(correlation[\"var_12\"].values[:, 1])\n",
    "features.append(\"var_12\")"
   ]
  },
  {
   "cell_type": "code",
   "execution_count": 48,
   "id": "crucial-meter",
   "metadata": {
    "ExecuteTime": {
     "end_time": "2021-02-11T20:35:57.399000Z",
     "start_time": "2021-02-11T20:35:57.172291Z"
    }
   },
   "outputs": [
    {
     "data": {
      "text/plain": [
       "RandomForestClassifier(n_jobs=-1)"
      ]
     },
     "execution_count": 48,
     "metadata": {},
     "output_type": "execute_result"
    }
   ],
   "source": [
    "rf = RandomForestClassifier(n_jobs=-1)\n",
    "rf.fit(X_train[features].fillna(0), y_train)"
   ]
  },
  {
   "cell_type": "code",
   "execution_count": 49,
   "id": "massive-password",
   "metadata": {
    "ExecuteTime": {
     "end_time": "2021-02-11T20:35:57.476637Z",
     "start_time": "2021-02-11T20:35:57.401011Z"
    }
   },
   "outputs": [],
   "source": [
    "importance = pd.concat(\n",
    "    [pd.Series(features), pd.DataFrame(rf.feature_importances_)], axis=1)"
   ]
  },
  {
   "cell_type": "code",
   "execution_count": 50,
   "id": "balanced-placement",
   "metadata": {
    "ExecuteTime": {
     "end_time": "2021-02-11T20:35:57.487194Z",
     "start_time": "2021-02-11T20:35:57.478575Z"
    }
   },
   "outputs": [
    {
     "data": {
      "text/html": [
       "<div>\n",
       "<style scoped>\n",
       "    .dataframe tbody tr th:only-of-type {\n",
       "        vertical-align: middle;\n",
       "    }\n",
       "\n",
       "    .dataframe tbody tr th {\n",
       "        vertical-align: top;\n",
       "    }\n",
       "\n",
       "    .dataframe thead th {\n",
       "        text-align: right;\n",
       "    }\n",
       "</style>\n",
       "<table border=\"1\" class=\"dataframe\">\n",
       "  <thead>\n",
       "    <tr style=\"text-align: right;\">\n",
       "      <th></th>\n",
       "      <th>features</th>\n",
       "      <th>importance</th>\n",
       "    </tr>\n",
       "  </thead>\n",
       "  <tbody>\n",
       "    <tr>\n",
       "      <th>5</th>\n",
       "      <td>var_233</td>\n",
       "      <td>0.5264</td>\n",
       "    </tr>\n",
       "    <tr>\n",
       "      <th>3</th>\n",
       "      <td>var_210</td>\n",
       "      <td>0.1679</td>\n",
       "    </tr>\n",
       "    <tr>\n",
       "      <th>8</th>\n",
       "      <td>var_12</td>\n",
       "      <td>0.1368</td>\n",
       "    </tr>\n",
       "    <tr>\n",
       "      <th>7</th>\n",
       "      <td>var_283</td>\n",
       "      <td>0.0504</td>\n",
       "    </tr>\n",
       "    <tr>\n",
       "      <th>4</th>\n",
       "      <td>var_223</td>\n",
       "      <td>0.0368</td>\n",
       "    </tr>\n",
       "    <tr>\n",
       "      <th>1</th>\n",
       "      <td>var_104</td>\n",
       "      <td>0.0291</td>\n",
       "    </tr>\n",
       "    <tr>\n",
       "      <th>2</th>\n",
       "      <td>var_133</td>\n",
       "      <td>0.0263</td>\n",
       "    </tr>\n",
       "    <tr>\n",
       "      <th>6</th>\n",
       "      <td>var_280</td>\n",
       "      <td>0.0263</td>\n",
       "    </tr>\n",
       "    <tr>\n",
       "      <th>0</th>\n",
       "      <td>var_36</td>\n",
       "      <td>0.0000</td>\n",
       "    </tr>\n",
       "  </tbody>\n",
       "</table>\n",
       "</div>"
      ],
      "text/plain": [
       "  features  importance\n",
       "5  var_233      0.5264\n",
       "3  var_210      0.1679\n",
       "8   var_12      0.1368\n",
       "7  var_283      0.0504\n",
       "4  var_223      0.0368\n",
       "1  var_104      0.0291\n",
       "2  var_133      0.0263\n",
       "6  var_280      0.0263\n",
       "0   var_36      0.0000"
      ]
     },
     "execution_count": 50,
     "metadata": {},
     "output_type": "execute_result"
    }
   ],
   "source": [
    "importance.columns = [\"features\", \"importance\"]\n",
    "importance.sort_values(by=\"importance\", ascending=False)"
   ]
  },
  {
   "cell_type": "markdown",
   "id": "historical-setting",
   "metadata": {},
   "source": [
    "In that case, we would keep only the var_233 due to its relative importance compare to the rest of the features..."
   ]
  },
  {
   "cell_type": "markdown",
   "id": "sunrise-looking",
   "metadata": {},
   "source": [
    "## With Feature-Engine"
   ]
  },
  {
   "cell_type": "code",
   "execution_count": 51,
   "id": "polyphonic-cleaning",
   "metadata": {
    "ExecuteTime": {
     "end_time": "2021-02-11T20:35:57.491521Z",
     "start_time": "2021-02-11T20:35:57.488959Z"
    }
   },
   "outputs": [],
   "source": [
    "from feature_engine.selection import SmartCorrelatedSelection, DropCorrelatedFeatures"
   ]
  },
  {
   "cell_type": "markdown",
   "id": "sound-merchandise",
   "metadata": {
    "ExecuteTime": {
     "end_time": "2021-02-10T19:38:00.107263Z",
     "start_time": "2021-02-10T19:38:00.105334Z"
    }
   },
   "source": [
    "### Brute force approach with Feature-Engine"
   ]
  },
  {
   "cell_type": "code",
   "execution_count": 52,
   "id": "nervous-simon",
   "metadata": {
    "ExecuteTime": {
     "end_time": "2021-02-11T20:35:57.496055Z",
     "start_time": "2021-02-11T20:35:57.493250Z"
    }
   },
   "outputs": [],
   "source": [
    "sel = DropCorrelatedFeatures(variables=None,\n",
    "                             method='pearson',\n",
    "                             threshold=0.8,\n",
    "                             missing_values='ignore',\n",
    "                             )"
   ]
  },
  {
   "cell_type": "code",
   "execution_count": 53,
   "id": "spatial-knight",
   "metadata": {
    "ExecuteTime": {
     "end_time": "2021-02-11T20:36:04.228187Z",
     "start_time": "2021-02-11T20:35:57.497764Z"
    }
   },
   "outputs": [
    {
     "data": {
      "text/html": [
       "<div>\n",
       "<style scoped>\n",
       "    .dataframe tbody tr th:only-of-type {\n",
       "        vertical-align: middle;\n",
       "    }\n",
       "\n",
       "    .dataframe tbody tr th {\n",
       "        vertical-align: top;\n",
       "    }\n",
       "\n",
       "    .dataframe thead th {\n",
       "        text-align: right;\n",
       "    }\n",
       "</style>\n",
       "<table border=\"1\" class=\"dataframe\">\n",
       "  <thead>\n",
       "    <tr style=\"text-align: right;\">\n",
       "      <th></th>\n",
       "      <th>var_1</th>\n",
       "      <th>var_2</th>\n",
       "      <th>var_3</th>\n",
       "      <th>var_4</th>\n",
       "      <th>var_5</th>\n",
       "      <th>var_6</th>\n",
       "      <th>var_7</th>\n",
       "      <th>var_8</th>\n",
       "      <th>var_9</th>\n",
       "      <th>var_10</th>\n",
       "      <th>...</th>\n",
       "      <th>var_271</th>\n",
       "      <th>var_274</th>\n",
       "      <th>var_275</th>\n",
       "      <th>var_276</th>\n",
       "      <th>var_287</th>\n",
       "      <th>var_288</th>\n",
       "      <th>var_292</th>\n",
       "      <th>var_293</th>\n",
       "      <th>var_294</th>\n",
       "      <th>var_297</th>\n",
       "    </tr>\n",
       "  </thead>\n",
       "  <tbody>\n",
       "    <tr>\n",
       "      <th>23990</th>\n",
       "      <td>0</td>\n",
       "      <td>0</td>\n",
       "      <td>0.0</td>\n",
       "      <td>2.79</td>\n",
       "      <td>0.0</td>\n",
       "      <td>0</td>\n",
       "      <td>0</td>\n",
       "      <td>0</td>\n",
       "      <td>0</td>\n",
       "      <td>0</td>\n",
       "      <td>...</td>\n",
       "      <td>0.0</td>\n",
       "      <td>0</td>\n",
       "      <td>0</td>\n",
       "      <td>0.0</td>\n",
       "      <td>0</td>\n",
       "      <td>0.0</td>\n",
       "      <td>0.0</td>\n",
       "      <td>0</td>\n",
       "      <td>0</td>\n",
       "      <td>0</td>\n",
       "    </tr>\n",
       "    <tr>\n",
       "      <th>8729</th>\n",
       "      <td>0</td>\n",
       "      <td>0</td>\n",
       "      <td>0.0</td>\n",
       "      <td>0.00</td>\n",
       "      <td>0.0</td>\n",
       "      <td>0</td>\n",
       "      <td>0</td>\n",
       "      <td>0</td>\n",
       "      <td>0</td>\n",
       "      <td>0</td>\n",
       "      <td>...</td>\n",
       "      <td>0.0</td>\n",
       "      <td>0</td>\n",
       "      <td>0</td>\n",
       "      <td>0.0</td>\n",
       "      <td>0</td>\n",
       "      <td>0.0</td>\n",
       "      <td>0.0</td>\n",
       "      <td>0</td>\n",
       "      <td>0</td>\n",
       "      <td>0</td>\n",
       "    </tr>\n",
       "    <tr>\n",
       "      <th>3451</th>\n",
       "      <td>0</td>\n",
       "      <td>0</td>\n",
       "      <td>0.0</td>\n",
       "      <td>2.79</td>\n",
       "      <td>0.0</td>\n",
       "      <td>0</td>\n",
       "      <td>0</td>\n",
       "      <td>0</td>\n",
       "      <td>0</td>\n",
       "      <td>0</td>\n",
       "      <td>...</td>\n",
       "      <td>0.0</td>\n",
       "      <td>0</td>\n",
       "      <td>0</td>\n",
       "      <td>0.0</td>\n",
       "      <td>0</td>\n",
       "      <td>0.0</td>\n",
       "      <td>0.0</td>\n",
       "      <td>0</td>\n",
       "      <td>0</td>\n",
       "      <td>0</td>\n",
       "    </tr>\n",
       "    <tr>\n",
       "      <th>2628</th>\n",
       "      <td>0</td>\n",
       "      <td>0</td>\n",
       "      <td>0.0</td>\n",
       "      <td>2.76</td>\n",
       "      <td>0.0</td>\n",
       "      <td>0</td>\n",
       "      <td>0</td>\n",
       "      <td>0</td>\n",
       "      <td>0</td>\n",
       "      <td>0</td>\n",
       "      <td>...</td>\n",
       "      <td>0.0</td>\n",
       "      <td>0</td>\n",
       "      <td>0</td>\n",
       "      <td>0.0</td>\n",
       "      <td>0</td>\n",
       "      <td>0.0</td>\n",
       "      <td>0.0</td>\n",
       "      <td>0</td>\n",
       "      <td>0</td>\n",
       "      <td>0</td>\n",
       "    </tr>\n",
       "    <tr>\n",
       "      <th>38352</th>\n",
       "      <td>0</td>\n",
       "      <td>0</td>\n",
       "      <td>0.0</td>\n",
       "      <td>2.88</td>\n",
       "      <td>0.0</td>\n",
       "      <td>0</td>\n",
       "      <td>0</td>\n",
       "      <td>0</td>\n",
       "      <td>0</td>\n",
       "      <td>0</td>\n",
       "      <td>...</td>\n",
       "      <td>0.0</td>\n",
       "      <td>0</td>\n",
       "      <td>0</td>\n",
       "      <td>0.0</td>\n",
       "      <td>0</td>\n",
       "      <td>0.0</td>\n",
       "      <td>0.0</td>\n",
       "      <td>0</td>\n",
       "      <td>0</td>\n",
       "      <td>0</td>\n",
       "    </tr>\n",
       "  </tbody>\n",
       "</table>\n",
       "<p>5 rows × 165 columns</p>\n",
       "</div>"
      ],
      "text/plain": [
       "       var_1  var_2  var_3  var_4  var_5  var_6  var_7  var_8  var_9  var_10  \\\n",
       "23990      0      0    0.0   2.79    0.0      0      0      0      0       0   \n",
       "8729       0      0    0.0   0.00    0.0      0      0      0      0       0   \n",
       "3451       0      0    0.0   2.79    0.0      0      0      0      0       0   \n",
       "2628       0      0    0.0   2.76    0.0      0      0      0      0       0   \n",
       "38352      0      0    0.0   2.88    0.0      0      0      0      0       0   \n",
       "\n",
       "       ...  var_271  var_274  var_275  var_276  var_287  var_288  var_292  \\\n",
       "23990  ...      0.0        0        0      0.0        0      0.0      0.0   \n",
       "8729   ...      0.0        0        0      0.0        0      0.0      0.0   \n",
       "3451   ...      0.0        0        0      0.0        0      0.0      0.0   \n",
       "2628   ...      0.0        0        0      0.0        0      0.0      0.0   \n",
       "38352  ...      0.0        0        0      0.0        0      0.0      0.0   \n",
       "\n",
       "       var_293  var_294  var_297  \n",
       "23990        0        0        0  \n",
       "8729         0        0        0  \n",
       "3451         0        0        0  \n",
       "2628         0        0        0  \n",
       "38352        0        0        0  \n",
       "\n",
       "[5 rows x 165 columns]"
      ]
     },
     "execution_count": 53,
     "metadata": {},
     "output_type": "execute_result"
    }
   ],
   "source": [
    "sel.fit_transform(X_train).head()"
   ]
  },
  {
   "cell_type": "code",
   "execution_count": 54,
   "id": "hired-feedback",
   "metadata": {
    "ExecuteTime": {
     "end_time": "2021-02-11T20:36:04.234053Z",
     "start_time": "2021-02-11T20:36:04.230167Z"
    }
   },
   "outputs": [
    {
     "data": {
      "text/plain": [
       "[{'var_2', 'var_234', 'var_243'},\n",
       " {'var_3', 'var_65'},\n",
       " {'var_262', 'var_4'},\n",
       " {'var_11', 'var_141', 'var_151', 'var_6'},\n",
       " {'var_116', 'var_228', 'var_233', 'var_289', 'var_7', 'var_71'},\n",
       " {'var_281', 'var_8'},\n",
       " {'var_265', 'var_9'},\n",
       " {'var_104',\n",
       "  'var_12',\n",
       "  'var_133',\n",
       "  'var_210',\n",
       "  'var_223',\n",
       "  'var_280',\n",
       "  'var_283',\n",
       "  'var_36'},\n",
       " {'var_13', 'var_153', 'var_187', 'var_217', 'var_285', 'var_72'},\n",
       " {'var_132', 'var_15', 'var_152'}]"
      ]
     },
     "execution_count": 54,
     "metadata": {},
     "output_type": "execute_result"
    }
   ],
   "source": [
    "sel.correlated_feature_sets_[:10] #Example"
   ]
  },
  {
   "cell_type": "markdown",
   "id": "functional-relationship",
   "metadata": {},
   "source": [
    "### Group method approach with Feature-Engine"
   ]
  },
  {
   "cell_type": "code",
   "execution_count": 55,
   "id": "cutting-flour",
   "metadata": {
    "ExecuteTime": {
     "end_time": "2021-02-11T20:36:04.238387Z",
     "start_time": "2021-02-11T20:36:04.235745Z"
    }
   },
   "outputs": [],
   "source": [
    "sel = SmartCorrelatedSelection(variables=None,\n",
    "                               method='pearson',\n",
    "                               threshold=0.8,\n",
    "                               missing_values='ignore',\n",
    "                               selection_method='model_performance', #Using a ML algorithm\n",
    "                               estimator=rf, #Using the RandomForest we set up previously\n",
    "                               scoring='roc_auc',\n",
    "                               cv=3\n",
    "                               )"
   ]
  },
  {
   "cell_type": "code",
   "execution_count": 56,
   "id": "modified-pepper",
   "metadata": {
    "ExecuteTime": {
     "end_time": "2021-02-11T20:37:51.853237Z",
     "start_time": "2021-02-11T20:36:04.240084Z"
    }
   },
   "outputs": [
    {
     "data": {
      "text/html": [
       "<div>\n",
       "<style scoped>\n",
       "    .dataframe tbody tr th:only-of-type {\n",
       "        vertical-align: middle;\n",
       "    }\n",
       "\n",
       "    .dataframe tbody tr th {\n",
       "        vertical-align: top;\n",
       "    }\n",
       "\n",
       "    .dataframe thead th {\n",
       "        text-align: right;\n",
       "    }\n",
       "</style>\n",
       "<table border=\"1\" class=\"dataframe\">\n",
       "  <thead>\n",
       "    <tr style=\"text-align: right;\">\n",
       "      <th></th>\n",
       "      <th>var_1</th>\n",
       "      <th>var_3</th>\n",
       "      <th>var_5</th>\n",
       "      <th>var_7</th>\n",
       "      <th>var_8</th>\n",
       "      <th>var_9</th>\n",
       "      <th>var_10</th>\n",
       "      <th>var_12</th>\n",
       "      <th>var_14</th>\n",
       "      <th>var_17</th>\n",
       "      <th>...</th>\n",
       "      <th>var_278</th>\n",
       "      <th>var_279</th>\n",
       "      <th>var_286</th>\n",
       "      <th>var_287</th>\n",
       "      <th>var_288</th>\n",
       "      <th>var_292</th>\n",
       "      <th>var_293</th>\n",
       "      <th>var_294</th>\n",
       "      <th>var_297</th>\n",
       "      <th>var_298</th>\n",
       "    </tr>\n",
       "  </thead>\n",
       "  <tbody>\n",
       "    <tr>\n",
       "      <th>23990</th>\n",
       "      <td>0</td>\n",
       "      <td>0.0</td>\n",
       "      <td>0.0</td>\n",
       "      <td>0</td>\n",
       "      <td>0</td>\n",
       "      <td>0</td>\n",
       "      <td>0</td>\n",
       "      <td>0.0</td>\n",
       "      <td>0</td>\n",
       "      <td>2.94</td>\n",
       "      <td>...</td>\n",
       "      <td>0</td>\n",
       "      <td>0.0</td>\n",
       "      <td>0.0</td>\n",
       "      <td>0</td>\n",
       "      <td>0.0</td>\n",
       "      <td>0.0</td>\n",
       "      <td>0</td>\n",
       "      <td>0</td>\n",
       "      <td>0</td>\n",
       "      <td>0</td>\n",
       "    </tr>\n",
       "    <tr>\n",
       "      <th>8729</th>\n",
       "      <td>0</td>\n",
       "      <td>0.0</td>\n",
       "      <td>0.0</td>\n",
       "      <td>0</td>\n",
       "      <td>0</td>\n",
       "      <td>0</td>\n",
       "      <td>0</td>\n",
       "      <td>0.0</td>\n",
       "      <td>0</td>\n",
       "      <td>0.00</td>\n",
       "      <td>...</td>\n",
       "      <td>0</td>\n",
       "      <td>0.0</td>\n",
       "      <td>0.0</td>\n",
       "      <td>0</td>\n",
       "      <td>0.0</td>\n",
       "      <td>0.0</td>\n",
       "      <td>0</td>\n",
       "      <td>0</td>\n",
       "      <td>0</td>\n",
       "      <td>0</td>\n",
       "    </tr>\n",
       "    <tr>\n",
       "      <th>3451</th>\n",
       "      <td>0</td>\n",
       "      <td>0.0</td>\n",
       "      <td>0.0</td>\n",
       "      <td>0</td>\n",
       "      <td>0</td>\n",
       "      <td>0</td>\n",
       "      <td>0</td>\n",
       "      <td>0.0</td>\n",
       "      <td>0</td>\n",
       "      <td>0.00</td>\n",
       "      <td>...</td>\n",
       "      <td>0</td>\n",
       "      <td>0.0</td>\n",
       "      <td>0.0</td>\n",
       "      <td>0</td>\n",
       "      <td>0.0</td>\n",
       "      <td>0.0</td>\n",
       "      <td>0</td>\n",
       "      <td>0</td>\n",
       "      <td>0</td>\n",
       "      <td>0</td>\n",
       "    </tr>\n",
       "    <tr>\n",
       "      <th>2628</th>\n",
       "      <td>0</td>\n",
       "      <td>0.0</td>\n",
       "      <td>0.0</td>\n",
       "      <td>0</td>\n",
       "      <td>0</td>\n",
       "      <td>0</td>\n",
       "      <td>0</td>\n",
       "      <td>0.0</td>\n",
       "      <td>0</td>\n",
       "      <td>0.00</td>\n",
       "      <td>...</td>\n",
       "      <td>0</td>\n",
       "      <td>0.0</td>\n",
       "      <td>0.0</td>\n",
       "      <td>0</td>\n",
       "      <td>0.0</td>\n",
       "      <td>0.0</td>\n",
       "      <td>0</td>\n",
       "      <td>0</td>\n",
       "      <td>0</td>\n",
       "      <td>0</td>\n",
       "    </tr>\n",
       "    <tr>\n",
       "      <th>38352</th>\n",
       "      <td>0</td>\n",
       "      <td>0.0</td>\n",
       "      <td>0.0</td>\n",
       "      <td>0</td>\n",
       "      <td>0</td>\n",
       "      <td>0</td>\n",
       "      <td>0</td>\n",
       "      <td>0.0</td>\n",
       "      <td>0</td>\n",
       "      <td>0.00</td>\n",
       "      <td>...</td>\n",
       "      <td>0</td>\n",
       "      <td>0.0</td>\n",
       "      <td>0.0</td>\n",
       "      <td>0</td>\n",
       "      <td>0.0</td>\n",
       "      <td>0.0</td>\n",
       "      <td>0</td>\n",
       "      <td>0</td>\n",
       "      <td>0</td>\n",
       "      <td>0</td>\n",
       "    </tr>\n",
       "  </tbody>\n",
       "</table>\n",
       "<p>5 rows × 165 columns</p>\n",
       "</div>"
      ],
      "text/plain": [
       "       var_1  var_3  var_5  var_7  var_8  var_9  var_10  var_12  var_14  \\\n",
       "23990      0    0.0    0.0      0      0      0       0     0.0       0   \n",
       "8729       0    0.0    0.0      0      0      0       0     0.0       0   \n",
       "3451       0    0.0    0.0      0      0      0       0     0.0       0   \n",
       "2628       0    0.0    0.0      0      0      0       0     0.0       0   \n",
       "38352      0    0.0    0.0      0      0      0       0     0.0       0   \n",
       "\n",
       "       var_17  ...  var_278  var_279  var_286  var_287  var_288  var_292  \\\n",
       "23990    2.94  ...        0      0.0      0.0        0      0.0      0.0   \n",
       "8729     0.00  ...        0      0.0      0.0        0      0.0      0.0   \n",
       "3451     0.00  ...        0      0.0      0.0        0      0.0      0.0   \n",
       "2628     0.00  ...        0      0.0      0.0        0      0.0      0.0   \n",
       "38352    0.00  ...        0      0.0      0.0        0      0.0      0.0   \n",
       "\n",
       "       var_293  var_294  var_297  var_298  \n",
       "23990        0        0        0        0  \n",
       "8729         0        0        0        0  \n",
       "3451         0        0        0        0  \n",
       "2628         0        0        0        0  \n",
       "38352        0        0        0        0  \n",
       "\n",
       "[5 rows x 165 columns]"
      ]
     },
     "execution_count": 56,
     "metadata": {},
     "output_type": "execute_result"
    }
   ],
   "source": [
    "sel.fit_transform(X_train,y_train).head()"
   ]
  },
  {
   "cell_type": "code",
   "execution_count": 57,
   "id": "restricted-binary",
   "metadata": {
    "ExecuteTime": {
     "end_time": "2021-02-11T20:37:51.857573Z",
     "start_time": "2021-02-11T20:37:51.855185Z"
    }
   },
   "outputs": [],
   "source": [
    "groups = sel.correlated_feature_sets_[4]"
   ]
  },
  {
   "cell_type": "code",
   "execution_count": 58,
   "id": "respiratory-ideal",
   "metadata": {
    "ExecuteTime": {
     "end_time": "2021-02-11T20:37:51.863477Z",
     "start_time": "2021-02-11T20:37:51.859569Z"
    }
   },
   "outputs": [
    {
     "data": {
      "text/plain": [
       "[{'var_2', 'var_234', 'var_243'},\n",
       " {'var_3', 'var_65'},\n",
       " {'var_262', 'var_4'},\n",
       " {'var_11', 'var_141', 'var_151', 'var_6'},\n",
       " {'var_116', 'var_228', 'var_233', 'var_289', 'var_7', 'var_71'},\n",
       " {'var_281', 'var_8'},\n",
       " {'var_265', 'var_9'},\n",
       " {'var_104',\n",
       "  'var_12',\n",
       "  'var_133',\n",
       "  'var_210',\n",
       "  'var_223',\n",
       "  'var_280',\n",
       "  'var_283',\n",
       "  'var_36'},\n",
       " {'var_13', 'var_153', 'var_187', 'var_217', 'var_285', 'var_72'},\n",
       " {'var_132', 'var_15', 'var_152'}]"
      ]
     },
     "execution_count": 58,
     "metadata": {},
     "output_type": "execute_result"
    }
   ],
   "source": [
    "sel.correlated_feature_sets_[:10] #Example"
   ]
  },
  {
   "cell_type": "code",
   "execution_count": 59,
   "id": "single-emission",
   "metadata": {
    "ExecuteTime": {
     "end_time": "2021-02-11T20:37:54.953301Z",
     "start_time": "2021-02-11T20:37:51.864992Z"
    }
   },
   "outputs": [
    {
     "name": "stdout",
     "output_type": "stream",
     "text": [
      "var_7 0.50004662004662\n",
      "var_71 0.50004662004662\n",
      "var_228 0.50001554001554\n",
      "var_116 0.50004662004662\n",
      "var_233 0.50003108003108\n",
      "var_289 0.50004662004662\n"
     ]
    }
   ],
   "source": [
    "for f in groups:\n",
    "    model = cross_validate(rf,\n",
    "                           X_train[f].to_frame(),\n",
    "                           y_train,\n",
    "                           scoring=\"roc_auc\",\n",
    "                           return_estimator=False,\n",
    "                           cv=3\n",
    "                           )\n",
    "    print(f,model[\"test_score\"].mean())"
   ]
  },
  {
   "cell_type": "code",
   "execution_count": 60,
   "id": "congressional-python",
   "metadata": {
    "ExecuteTime": {
     "end_time": "2021-02-11T20:37:54.956918Z",
     "start_time": "2021-02-11T20:37:54.955045Z"
    }
   },
   "outputs": [],
   "source": [
    "#We should keep the feature with the highest score."
   ]
  },
  {
   "cell_type": "markdown",
   "id": "underlying-initial",
   "metadata": {
    "ExecuteTime": {
     "end_time": "2021-02-10T20:01:42.945990Z",
     "start_time": "2021-02-10T20:01:42.944060Z"
    }
   },
   "source": [
    "### Variance with Feature-Engine"
   ]
  },
  {
   "cell_type": "code",
   "execution_count": 61,
   "id": "fundamental-slovak",
   "metadata": {
    "ExecuteTime": {
     "end_time": "2021-02-11T20:37:54.961175Z",
     "start_time": "2021-02-11T20:37:54.958613Z"
    }
   },
   "outputs": [],
   "source": [
    "sel = SmartCorrelatedSelection(variables=None,\n",
    "                               method='pearson',\n",
    "                               threshold=0.8,\n",
    "                               missing_values='ignore',\n",
    "                               selection_method='variance', #Using a ML algorithm\n",
    "                               estimator=None, #Using the RandomForest we set up previously\n",
    "                               scoring=\"roc_auc\",\n",
    "                               cv=3\n",
    "                               )"
   ]
  },
  {
   "cell_type": "code",
   "execution_count": 62,
   "id": "identical-islam",
   "metadata": {
    "ExecuteTime": {
     "end_time": "2021-02-11T20:38:02.006456Z",
     "start_time": "2021-02-11T20:37:54.962682Z"
    }
   },
   "outputs": [
    {
     "data": {
      "text/html": [
       "<div>\n",
       "<style scoped>\n",
       "    .dataframe tbody tr th:only-of-type {\n",
       "        vertical-align: middle;\n",
       "    }\n",
       "\n",
       "    .dataframe tbody tr th {\n",
       "        vertical-align: top;\n",
       "    }\n",
       "\n",
       "    .dataframe thead th {\n",
       "        text-align: right;\n",
       "    }\n",
       "</style>\n",
       "<table border=\"1\" class=\"dataframe\">\n",
       "  <thead>\n",
       "    <tr style=\"text-align: right;\">\n",
       "      <th></th>\n",
       "      <th>var_1</th>\n",
       "      <th>var_3</th>\n",
       "      <th>var_4</th>\n",
       "      <th>var_5</th>\n",
       "      <th>var_8</th>\n",
       "      <th>var_10</th>\n",
       "      <th>var_14</th>\n",
       "      <th>var_15</th>\n",
       "      <th>var_17</th>\n",
       "      <th>var_18</th>\n",
       "      <th>...</th>\n",
       "      <th>var_286</th>\n",
       "      <th>var_287</th>\n",
       "      <th>var_288</th>\n",
       "      <th>var_291</th>\n",
       "      <th>var_292</th>\n",
       "      <th>var_293</th>\n",
       "      <th>var_294</th>\n",
       "      <th>var_297</th>\n",
       "      <th>var_298</th>\n",
       "      <th>var_299</th>\n",
       "    </tr>\n",
       "  </thead>\n",
       "  <tbody>\n",
       "    <tr>\n",
       "      <th>23990</th>\n",
       "      <td>0</td>\n",
       "      <td>0.0</td>\n",
       "      <td>2.79</td>\n",
       "      <td>0.0</td>\n",
       "      <td>0</td>\n",
       "      <td>0</td>\n",
       "      <td>0</td>\n",
       "      <td>3</td>\n",
       "      <td>2.94</td>\n",
       "      <td>0.0</td>\n",
       "      <td>...</td>\n",
       "      <td>0.0</td>\n",
       "      <td>0</td>\n",
       "      <td>0.0</td>\n",
       "      <td>0</td>\n",
       "      <td>0.0</td>\n",
       "      <td>0</td>\n",
       "      <td>0</td>\n",
       "      <td>0</td>\n",
       "      <td>0</td>\n",
       "      <td>0.0</td>\n",
       "    </tr>\n",
       "    <tr>\n",
       "      <th>8729</th>\n",
       "      <td>0</td>\n",
       "      <td>0.0</td>\n",
       "      <td>0.00</td>\n",
       "      <td>0.0</td>\n",
       "      <td>0</td>\n",
       "      <td>0</td>\n",
       "      <td>0</td>\n",
       "      <td>0</td>\n",
       "      <td>0.00</td>\n",
       "      <td>0.0</td>\n",
       "      <td>...</td>\n",
       "      <td>0.0</td>\n",
       "      <td>0</td>\n",
       "      <td>0.0</td>\n",
       "      <td>0</td>\n",
       "      <td>0.0</td>\n",
       "      <td>0</td>\n",
       "      <td>0</td>\n",
       "      <td>0</td>\n",
       "      <td>0</td>\n",
       "      <td>0.0</td>\n",
       "    </tr>\n",
       "    <tr>\n",
       "      <th>3451</th>\n",
       "      <td>0</td>\n",
       "      <td>0.0</td>\n",
       "      <td>2.79</td>\n",
       "      <td>0.0</td>\n",
       "      <td>0</td>\n",
       "      <td>0</td>\n",
       "      <td>0</td>\n",
       "      <td>3</td>\n",
       "      <td>0.00</td>\n",
       "      <td>0.0</td>\n",
       "      <td>...</td>\n",
       "      <td>0.0</td>\n",
       "      <td>0</td>\n",
       "      <td>0.0</td>\n",
       "      <td>0</td>\n",
       "      <td>0.0</td>\n",
       "      <td>0</td>\n",
       "      <td>0</td>\n",
       "      <td>0</td>\n",
       "      <td>0</td>\n",
       "      <td>0.0</td>\n",
       "    </tr>\n",
       "    <tr>\n",
       "      <th>2628</th>\n",
       "      <td>0</td>\n",
       "      <td>0.0</td>\n",
       "      <td>2.76</td>\n",
       "      <td>0.0</td>\n",
       "      <td>0</td>\n",
       "      <td>0</td>\n",
       "      <td>0</td>\n",
       "      <td>3</td>\n",
       "      <td>0.00</td>\n",
       "      <td>0.0</td>\n",
       "      <td>...</td>\n",
       "      <td>0.0</td>\n",
       "      <td>0</td>\n",
       "      <td>0.0</td>\n",
       "      <td>0</td>\n",
       "      <td>0.0</td>\n",
       "      <td>0</td>\n",
       "      <td>0</td>\n",
       "      <td>0</td>\n",
       "      <td>0</td>\n",
       "      <td>0.0</td>\n",
       "    </tr>\n",
       "    <tr>\n",
       "      <th>38352</th>\n",
       "      <td>0</td>\n",
       "      <td>0.0</td>\n",
       "      <td>2.88</td>\n",
       "      <td>0.0</td>\n",
       "      <td>0</td>\n",
       "      <td>0</td>\n",
       "      <td>0</td>\n",
       "      <td>3</td>\n",
       "      <td>0.00</td>\n",
       "      <td>0.0</td>\n",
       "      <td>...</td>\n",
       "      <td>0.0</td>\n",
       "      <td>0</td>\n",
       "      <td>0.0</td>\n",
       "      <td>0</td>\n",
       "      <td>0.0</td>\n",
       "      <td>0</td>\n",
       "      <td>0</td>\n",
       "      <td>0</td>\n",
       "      <td>0</td>\n",
       "      <td>0.0</td>\n",
       "    </tr>\n",
       "  </tbody>\n",
       "</table>\n",
       "<p>5 rows × 165 columns</p>\n",
       "</div>"
      ],
      "text/plain": [
       "       var_1  var_3  var_4  var_5  var_8  var_10  var_14  var_15  var_17  \\\n",
       "23990      0    0.0   2.79    0.0      0       0       0       3    2.94   \n",
       "8729       0    0.0   0.00    0.0      0       0       0       0    0.00   \n",
       "3451       0    0.0   2.79    0.0      0       0       0       3    0.00   \n",
       "2628       0    0.0   2.76    0.0      0       0       0       3    0.00   \n",
       "38352      0    0.0   2.88    0.0      0       0       0       3    0.00   \n",
       "\n",
       "       var_18  ...  var_286  var_287  var_288  var_291  var_292  var_293  \\\n",
       "23990     0.0  ...      0.0        0      0.0        0      0.0        0   \n",
       "8729      0.0  ...      0.0        0      0.0        0      0.0        0   \n",
       "3451      0.0  ...      0.0        0      0.0        0      0.0        0   \n",
       "2628      0.0  ...      0.0        0      0.0        0      0.0        0   \n",
       "38352     0.0  ...      0.0        0      0.0        0      0.0        0   \n",
       "\n",
       "       var_294  var_297  var_298  var_299  \n",
       "23990        0        0        0      0.0  \n",
       "8729         0        0        0      0.0  \n",
       "3451         0        0        0      0.0  \n",
       "2628         0        0        0      0.0  \n",
       "38352        0        0        0      0.0  \n",
       "\n",
       "[5 rows x 165 columns]"
      ]
     },
     "execution_count": 62,
     "metadata": {},
     "output_type": "execute_result"
    }
   ],
   "source": [
    "sel.fit_transform(X_train,y_train).head()"
   ]
  },
  {
   "cell_type": "code",
   "execution_count": 63,
   "id": "bacterial-retail",
   "metadata": {
    "ExecuteTime": {
     "end_time": "2021-02-11T20:38:02.011930Z",
     "start_time": "2021-02-11T20:38:02.008760Z"
    }
   },
   "outputs": [
    {
     "data": {
      "text/plain": [
       "{'var_3', 'var_65'}"
      ]
     },
     "execution_count": 63,
     "metadata": {},
     "output_type": "execute_result"
    }
   ],
   "source": [
    "sel.correlated_feature_sets_[1]"
   ]
  },
  {
   "cell_type": "code",
   "execution_count": 64,
   "id": "distinguished-ocean",
   "metadata": {
    "ExecuteTime": {
     "end_time": "2021-02-11T20:38:02.019543Z",
     "start_time": "2021-02-11T20:38:02.013655Z"
    }
   },
   "outputs": [
    {
     "data": {
      "text/plain": [
       "var_65    1146.4478\n",
       "var_3     1412.7085\n",
       "dtype: float64"
      ]
     },
     "execution_count": 64,
     "metadata": {},
     "output_type": "execute_result"
    }
   ],
   "source": [
    "X_train[sel.correlated_feature_sets_[1]].std()"
   ]
  },
  {
   "cell_type": "markdown",
   "id": "ranging-bridges",
   "metadata": {},
   "source": [
    "We can see that the var_3 has the highest variance so it'll be kept and var_65 will be remove."
   ]
  },
  {
   "cell_type": "code",
   "execution_count": 65,
   "id": "solved-bench",
   "metadata": {
    "ExecuteTime": {
     "end_time": "2021-02-11T20:38:02.024288Z",
     "start_time": "2021-02-11T20:38:02.021221Z"
    }
   },
   "outputs": [
    {
     "data": {
      "text/plain": [
       "False"
      ]
     },
     "execution_count": 65,
     "metadata": {},
     "output_type": "execute_result"
    }
   ],
   "source": [
    "\"var_3\" in sel.features_to_drop_"
   ]
  },
  {
   "cell_type": "code",
   "execution_count": 66,
   "id": "interior-coordinator",
   "metadata": {
    "ExecuteTime": {
     "end_time": "2021-02-11T20:38:02.028893Z",
     "start_time": "2021-02-11T20:38:02.025847Z"
    }
   },
   "outputs": [
    {
     "data": {
      "text/plain": [
       "True"
      ]
     },
     "execution_count": 66,
     "metadata": {},
     "output_type": "execute_result"
    }
   ],
   "source": [
    "\"var_65\" in sel.features_to_drop_"
   ]
  },
  {
   "cell_type": "markdown",
   "id": "convinced-chocolate",
   "metadata": {},
   "source": [
    "### Unique values with Feature-Engine"
   ]
  },
  {
   "cell_type": "code",
   "execution_count": 67,
   "id": "similar-amber",
   "metadata": {
    "ExecuteTime": {
     "end_time": "2021-02-11T20:38:02.033009Z",
     "start_time": "2021-02-11T20:38:02.030348Z"
    }
   },
   "outputs": [],
   "source": [
    "sel = SmartCorrelatedSelection(variables=None,\n",
    "                               method='pearson',\n",
    "                               threshold=0.8,\n",
    "                               missing_values='ignore',\n",
    "                               selection_method='cardinality', #Using values count\n",
    "                               estimator=None, #Using the RandomForest we set up previously\n",
    "                               scoring=None,\n",
    "                               cv=3\n",
    "                               )"
   ]
  },
  {
   "cell_type": "code",
   "execution_count": 68,
   "id": "weekly-marble",
   "metadata": {
    "ExecuteTime": {
     "end_time": "2021-02-11T20:38:08.292916Z",
     "start_time": "2021-02-11T20:38:02.048350Z"
    }
   },
   "outputs": [
    {
     "data": {
      "text/html": [
       "<div>\n",
       "<style scoped>\n",
       "    .dataframe tbody tr th:only-of-type {\n",
       "        vertical-align: middle;\n",
       "    }\n",
       "\n",
       "    .dataframe tbody tr th {\n",
       "        vertical-align: top;\n",
       "    }\n",
       "\n",
       "    .dataframe thead th {\n",
       "        text-align: right;\n",
       "    }\n",
       "</style>\n",
       "<table border=\"1\" class=\"dataframe\">\n",
       "  <thead>\n",
       "    <tr style=\"text-align: right;\">\n",
       "      <th></th>\n",
       "      <th>var_1</th>\n",
       "      <th>var_3</th>\n",
       "      <th>var_4</th>\n",
       "      <th>var_5</th>\n",
       "      <th>var_8</th>\n",
       "      <th>var_10</th>\n",
       "      <th>var_12</th>\n",
       "      <th>var_13</th>\n",
       "      <th>var_14</th>\n",
       "      <th>var_17</th>\n",
       "      <th>...</th>\n",
       "      <th>var_274</th>\n",
       "      <th>var_275</th>\n",
       "      <th>var_276</th>\n",
       "      <th>var_287</th>\n",
       "      <th>var_288</th>\n",
       "      <th>var_292</th>\n",
       "      <th>var_293</th>\n",
       "      <th>var_294</th>\n",
       "      <th>var_297</th>\n",
       "      <th>var_298</th>\n",
       "    </tr>\n",
       "  </thead>\n",
       "  <tbody>\n",
       "    <tr>\n",
       "      <th>23990</th>\n",
       "      <td>0</td>\n",
       "      <td>0.0</td>\n",
       "      <td>2.79</td>\n",
       "      <td>0.0</td>\n",
       "      <td>0</td>\n",
       "      <td>0</td>\n",
       "      <td>0.0</td>\n",
       "      <td>0.0</td>\n",
       "      <td>0</td>\n",
       "      <td>2.94</td>\n",
       "      <td>...</td>\n",
       "      <td>0</td>\n",
       "      <td>0</td>\n",
       "      <td>0.0</td>\n",
       "      <td>0</td>\n",
       "      <td>0.0</td>\n",
       "      <td>0.0</td>\n",
       "      <td>0</td>\n",
       "      <td>0</td>\n",
       "      <td>0</td>\n",
       "      <td>0</td>\n",
       "    </tr>\n",
       "    <tr>\n",
       "      <th>8729</th>\n",
       "      <td>0</td>\n",
       "      <td>0.0</td>\n",
       "      <td>0.00</td>\n",
       "      <td>0.0</td>\n",
       "      <td>0</td>\n",
       "      <td>0</td>\n",
       "      <td>0.0</td>\n",
       "      <td>0.0</td>\n",
       "      <td>0</td>\n",
       "      <td>0.00</td>\n",
       "      <td>...</td>\n",
       "      <td>0</td>\n",
       "      <td>0</td>\n",
       "      <td>0.0</td>\n",
       "      <td>0</td>\n",
       "      <td>0.0</td>\n",
       "      <td>0.0</td>\n",
       "      <td>0</td>\n",
       "      <td>0</td>\n",
       "      <td>0</td>\n",
       "      <td>0</td>\n",
       "    </tr>\n",
       "    <tr>\n",
       "      <th>3451</th>\n",
       "      <td>0</td>\n",
       "      <td>0.0</td>\n",
       "      <td>2.79</td>\n",
       "      <td>0.0</td>\n",
       "      <td>0</td>\n",
       "      <td>0</td>\n",
       "      <td>0.0</td>\n",
       "      <td>0.0</td>\n",
       "      <td>0</td>\n",
       "      <td>0.00</td>\n",
       "      <td>...</td>\n",
       "      <td>0</td>\n",
       "      <td>0</td>\n",
       "      <td>0.0</td>\n",
       "      <td>0</td>\n",
       "      <td>0.0</td>\n",
       "      <td>0.0</td>\n",
       "      <td>0</td>\n",
       "      <td>0</td>\n",
       "      <td>0</td>\n",
       "      <td>0</td>\n",
       "    </tr>\n",
       "    <tr>\n",
       "      <th>2628</th>\n",
       "      <td>0</td>\n",
       "      <td>0.0</td>\n",
       "      <td>2.76</td>\n",
       "      <td>0.0</td>\n",
       "      <td>0</td>\n",
       "      <td>0</td>\n",
       "      <td>0.0</td>\n",
       "      <td>0.0</td>\n",
       "      <td>0</td>\n",
       "      <td>0.00</td>\n",
       "      <td>...</td>\n",
       "      <td>0</td>\n",
       "      <td>0</td>\n",
       "      <td>0.0</td>\n",
       "      <td>0</td>\n",
       "      <td>0.0</td>\n",
       "      <td>0.0</td>\n",
       "      <td>0</td>\n",
       "      <td>0</td>\n",
       "      <td>0</td>\n",
       "      <td>0</td>\n",
       "    </tr>\n",
       "    <tr>\n",
       "      <th>38352</th>\n",
       "      <td>0</td>\n",
       "      <td>0.0</td>\n",
       "      <td>2.88</td>\n",
       "      <td>0.0</td>\n",
       "      <td>0</td>\n",
       "      <td>0</td>\n",
       "      <td>0.0</td>\n",
       "      <td>0.0</td>\n",
       "      <td>0</td>\n",
       "      <td>0.00</td>\n",
       "      <td>...</td>\n",
       "      <td>0</td>\n",
       "      <td>0</td>\n",
       "      <td>0.0</td>\n",
       "      <td>0</td>\n",
       "      <td>0.0</td>\n",
       "      <td>0.0</td>\n",
       "      <td>0</td>\n",
       "      <td>0</td>\n",
       "      <td>0</td>\n",
       "      <td>0</td>\n",
       "    </tr>\n",
       "  </tbody>\n",
       "</table>\n",
       "<p>5 rows × 165 columns</p>\n",
       "</div>"
      ],
      "text/plain": [
       "       var_1  var_3  var_4  var_5  var_8  var_10  var_12  var_13  var_14  \\\n",
       "23990      0    0.0   2.79    0.0      0       0     0.0     0.0       0   \n",
       "8729       0    0.0   0.00    0.0      0       0     0.0     0.0       0   \n",
       "3451       0    0.0   2.79    0.0      0       0     0.0     0.0       0   \n",
       "2628       0    0.0   2.76    0.0      0       0     0.0     0.0       0   \n",
       "38352      0    0.0   2.88    0.0      0       0     0.0     0.0       0   \n",
       "\n",
       "       var_17  ...  var_274  var_275  var_276  var_287  var_288  var_292  \\\n",
       "23990    2.94  ...        0        0      0.0        0      0.0      0.0   \n",
       "8729     0.00  ...        0        0      0.0        0      0.0      0.0   \n",
       "3451     0.00  ...        0        0      0.0        0      0.0      0.0   \n",
       "2628     0.00  ...        0        0      0.0        0      0.0      0.0   \n",
       "38352    0.00  ...        0        0      0.0        0      0.0      0.0   \n",
       "\n",
       "       var_293  var_294  var_297  var_298  \n",
       "23990        0        0        0        0  \n",
       "8729         0        0        0        0  \n",
       "3451         0        0        0        0  \n",
       "2628         0        0        0        0  \n",
       "38352        0        0        0        0  \n",
       "\n",
       "[5 rows x 165 columns]"
      ]
     },
     "execution_count": 68,
     "metadata": {},
     "output_type": "execute_result"
    }
   ],
   "source": [
    "sel.fit_transform(X_train,y_train).head()"
   ]
  },
  {
   "cell_type": "code",
   "execution_count": 69,
   "id": "imported-issue",
   "metadata": {
    "ExecuteTime": {
     "end_time": "2021-02-11T20:38:08.305462Z",
     "start_time": "2021-02-11T20:38:08.302258Z"
    }
   },
   "outputs": [
    {
     "data": {
      "text/plain": [
       "{'var_3', 'var_65'}"
      ]
     },
     "execution_count": 69,
     "metadata": {},
     "output_type": "execute_result"
    }
   ],
   "source": [
    "sel.correlated_feature_sets_[1]"
   ]
  },
  {
   "cell_type": "code",
   "execution_count": 70,
   "id": "supposed-tomorrow",
   "metadata": {
    "ExecuteTime": {
     "end_time": "2021-02-11T20:38:08.310425Z",
     "start_time": "2021-02-11T20:38:08.307225Z"
    }
   },
   "outputs": [
    {
     "data": {
      "text/plain": [
       "False"
      ]
     },
     "execution_count": 70,
     "metadata": {},
     "output_type": "execute_result"
    }
   ],
   "source": [
    "\"var_3\" in sel.features_to_drop_"
   ]
  },
  {
   "cell_type": "code",
   "execution_count": 71,
   "id": "satellite-sender",
   "metadata": {
    "ExecuteTime": {
     "end_time": "2021-02-11T20:38:08.314803Z",
     "start_time": "2021-02-11T20:38:08.312171Z"
    }
   },
   "outputs": [
    {
     "data": {
      "text/plain": [
       "True"
      ]
     },
     "execution_count": 71,
     "metadata": {},
     "output_type": "execute_result"
    }
   ],
   "source": [
    "\"var_65\" in sel.features_to_drop_"
   ]
  },
  {
   "cell_type": "code",
   "execution_count": 72,
   "id": "adverse-shannon",
   "metadata": {
    "ExecuteTime": {
     "end_time": "2021-02-11T20:38:08.321340Z",
     "start_time": "2021-02-11T20:38:08.316467Z"
    }
   },
   "outputs": [
    {
     "data": {
      "text/plain": [
       "0.0000         99.994\n",
       "22.4652         0.003\n",
       "209834.4000     0.003\n",
       "Name: var_65, dtype: float64"
      ]
     },
     "execution_count": 72,
     "metadata": {},
     "output_type": "execute_result"
    }
   ],
   "source": [
    "X_train[list(sel.correlated_feature_sets_[1])[0]].value_counts(normalize=True) * 100"
   ]
  },
  {
   "cell_type": "code",
   "execution_count": 73,
   "id": "according-opera",
   "metadata": {
    "ExecuteTime": {
     "end_time": "2021-02-11T20:38:08.327750Z",
     "start_time": "2021-02-11T20:38:08.322712Z"
    }
   },
   "outputs": [
    {
     "data": {
      "text/plain": [
       "0.0000         99.9433\n",
       "861.0900        0.0030\n",
       "101195.4735     0.0030\n",
       "15028.0560      0.0030\n",
       "2641.0164       0.0030\n",
       "52105.7901      0.0030\n",
       "10385.4912      0.0030\n",
       "207901.3365     0.0030\n",
       "16086.9720      0.0030\n",
       "5209.9500       0.0030\n",
       "86718.0000      0.0030\n",
       "12542.3100      0.0030\n",
       "27.3000         0.0030\n",
       "6211.5165       0.0030\n",
       "25905.4866      0.0030\n",
       "3583.3941       0.0030\n",
       "35685.9459      0.0030\n",
       "13297.0320      0.0030\n",
       "7134.8904       0.0030\n",
       "12644.1000      0.0030\n",
       "Name: var_3, dtype: float64"
      ]
     },
     "execution_count": 73,
     "metadata": {},
     "output_type": "execute_result"
    }
   ],
   "source": [
    "X_train[list(sel.correlated_feature_sets_[1])[1]].value_counts(normalize=True) * 100"
   ]
  },
  {
   "cell_type": "markdown",
   "id": "difficult-flooring",
   "metadata": {},
   "source": [
    "It indeed keeps the features with the most different values."
   ]
  },
  {
   "cell_type": "markdown",
   "id": "hungarian-burden",
   "metadata": {},
   "source": [
    "### Missing values with Feature-Engine"
   ]
  },
  {
   "cell_type": "code",
   "execution_count": 74,
   "id": "specific-florist",
   "metadata": {
    "ExecuteTime": {
     "end_time": "2021-02-11T20:38:08.331752Z",
     "start_time": "2021-02-11T20:38:08.329171Z"
    }
   },
   "outputs": [],
   "source": [
    "sel = SmartCorrelatedSelection(variables=None,\n",
    "                               method='pearson',\n",
    "                               threshold=0.8,\n",
    "                               missing_values='ignore',\n",
    "                               selection_method='missing_values', #Using missing values\n",
    "                               estimator=None, #Using the RandomForest we set up previously\n",
    "                               scoring=None,\n",
    "                               cv=3\n",
    "                               )"
   ]
  },
  {
   "cell_type": "code",
   "execution_count": 75,
   "id": "domestic-twenty",
   "metadata": {
    "ExecuteTime": {
     "end_time": "2021-02-11T20:38:15.170435Z",
     "start_time": "2021-02-11T20:38:08.333992Z"
    }
   },
   "outputs": [
    {
     "data": {
      "text/html": [
       "<div>\n",
       "<style scoped>\n",
       "    .dataframe tbody tr th:only-of-type {\n",
       "        vertical-align: middle;\n",
       "    }\n",
       "\n",
       "    .dataframe tbody tr th {\n",
       "        vertical-align: top;\n",
       "    }\n",
       "\n",
       "    .dataframe thead th {\n",
       "        text-align: right;\n",
       "    }\n",
       "</style>\n",
       "<table border=\"1\" class=\"dataframe\">\n",
       "  <thead>\n",
       "    <tr style=\"text-align: right;\">\n",
       "      <th></th>\n",
       "      <th>var_1</th>\n",
       "      <th>var_5</th>\n",
       "      <th>var_7</th>\n",
       "      <th>var_8</th>\n",
       "      <th>var_9</th>\n",
       "      <th>var_10</th>\n",
       "      <th>var_12</th>\n",
       "      <th>var_13</th>\n",
       "      <th>var_14</th>\n",
       "      <th>var_17</th>\n",
       "      <th>...</th>\n",
       "      <th>var_276</th>\n",
       "      <th>var_282</th>\n",
       "      <th>var_287</th>\n",
       "      <th>var_288</th>\n",
       "      <th>var_290</th>\n",
       "      <th>var_292</th>\n",
       "      <th>var_293</th>\n",
       "      <th>var_294</th>\n",
       "      <th>var_295</th>\n",
       "      <th>var_297</th>\n",
       "    </tr>\n",
       "  </thead>\n",
       "  <tbody>\n",
       "    <tr>\n",
       "      <th>23990</th>\n",
       "      <td>0</td>\n",
       "      <td>0.0</td>\n",
       "      <td>0</td>\n",
       "      <td>0</td>\n",
       "      <td>0</td>\n",
       "      <td>0</td>\n",
       "      <td>0.0</td>\n",
       "      <td>0.0</td>\n",
       "      <td>0</td>\n",
       "      <td>2.94</td>\n",
       "      <td>...</td>\n",
       "      <td>0.0</td>\n",
       "      <td>0</td>\n",
       "      <td>0</td>\n",
       "      <td>0.0</td>\n",
       "      <td>0.0</td>\n",
       "      <td>0.0</td>\n",
       "      <td>0</td>\n",
       "      <td>0</td>\n",
       "      <td>0</td>\n",
       "      <td>0</td>\n",
       "    </tr>\n",
       "    <tr>\n",
       "      <th>8729</th>\n",
       "      <td>0</td>\n",
       "      <td>0.0</td>\n",
       "      <td>0</td>\n",
       "      <td>0</td>\n",
       "      <td>0</td>\n",
       "      <td>0</td>\n",
       "      <td>0.0</td>\n",
       "      <td>0.0</td>\n",
       "      <td>0</td>\n",
       "      <td>0.00</td>\n",
       "      <td>...</td>\n",
       "      <td>0.0</td>\n",
       "      <td>0</td>\n",
       "      <td>0</td>\n",
       "      <td>0.0</td>\n",
       "      <td>0.0</td>\n",
       "      <td>0.0</td>\n",
       "      <td>0</td>\n",
       "      <td>0</td>\n",
       "      <td>0</td>\n",
       "      <td>0</td>\n",
       "    </tr>\n",
       "    <tr>\n",
       "      <th>3451</th>\n",
       "      <td>0</td>\n",
       "      <td>0.0</td>\n",
       "      <td>0</td>\n",
       "      <td>0</td>\n",
       "      <td>0</td>\n",
       "      <td>0</td>\n",
       "      <td>0.0</td>\n",
       "      <td>0.0</td>\n",
       "      <td>0</td>\n",
       "      <td>0.00</td>\n",
       "      <td>...</td>\n",
       "      <td>0.0</td>\n",
       "      <td>0</td>\n",
       "      <td>0</td>\n",
       "      <td>0.0</td>\n",
       "      <td>0.0</td>\n",
       "      <td>0.0</td>\n",
       "      <td>0</td>\n",
       "      <td>0</td>\n",
       "      <td>0</td>\n",
       "      <td>0</td>\n",
       "    </tr>\n",
       "    <tr>\n",
       "      <th>2628</th>\n",
       "      <td>0</td>\n",
       "      <td>0.0</td>\n",
       "      <td>0</td>\n",
       "      <td>0</td>\n",
       "      <td>0</td>\n",
       "      <td>0</td>\n",
       "      <td>0.0</td>\n",
       "      <td>0.0</td>\n",
       "      <td>0</td>\n",
       "      <td>0.00</td>\n",
       "      <td>...</td>\n",
       "      <td>0.0</td>\n",
       "      <td>0</td>\n",
       "      <td>0</td>\n",
       "      <td>0.0</td>\n",
       "      <td>0.0</td>\n",
       "      <td>0.0</td>\n",
       "      <td>0</td>\n",
       "      <td>0</td>\n",
       "      <td>0</td>\n",
       "      <td>0</td>\n",
       "    </tr>\n",
       "    <tr>\n",
       "      <th>38352</th>\n",
       "      <td>0</td>\n",
       "      <td>0.0</td>\n",
       "      <td>0</td>\n",
       "      <td>0</td>\n",
       "      <td>0</td>\n",
       "      <td>0</td>\n",
       "      <td>0.0</td>\n",
       "      <td>0.0</td>\n",
       "      <td>0</td>\n",
       "      <td>0.00</td>\n",
       "      <td>...</td>\n",
       "      <td>0.0</td>\n",
       "      <td>0</td>\n",
       "      <td>0</td>\n",
       "      <td>0.0</td>\n",
       "      <td>0.0</td>\n",
       "      <td>0.0</td>\n",
       "      <td>0</td>\n",
       "      <td>0</td>\n",
       "      <td>0</td>\n",
       "      <td>0</td>\n",
       "    </tr>\n",
       "  </tbody>\n",
       "</table>\n",
       "<p>5 rows × 165 columns</p>\n",
       "</div>"
      ],
      "text/plain": [
       "       var_1  var_5  var_7  var_8  var_9  var_10  var_12  var_13  var_14  \\\n",
       "23990      0    0.0      0      0      0       0     0.0     0.0       0   \n",
       "8729       0    0.0      0      0      0       0     0.0     0.0       0   \n",
       "3451       0    0.0      0      0      0       0     0.0     0.0       0   \n",
       "2628       0    0.0      0      0      0       0     0.0     0.0       0   \n",
       "38352      0    0.0      0      0      0       0     0.0     0.0       0   \n",
       "\n",
       "       var_17  ...  var_276  var_282  var_287  var_288  var_290  var_292  \\\n",
       "23990    2.94  ...      0.0        0        0      0.0      0.0      0.0   \n",
       "8729     0.00  ...      0.0        0        0      0.0      0.0      0.0   \n",
       "3451     0.00  ...      0.0        0        0      0.0      0.0      0.0   \n",
       "2628     0.00  ...      0.0        0        0      0.0      0.0      0.0   \n",
       "38352    0.00  ...      0.0        0        0      0.0      0.0      0.0   \n",
       "\n",
       "       var_293  var_294  var_295  var_297  \n",
       "23990        0        0        0        0  \n",
       "8729         0        0        0        0  \n",
       "3451         0        0        0        0  \n",
       "2628         0        0        0        0  \n",
       "38352        0        0        0        0  \n",
       "\n",
       "[5 rows x 165 columns]"
      ]
     },
     "execution_count": 75,
     "metadata": {},
     "output_type": "execute_result"
    }
   ],
   "source": [
    "sel.fit_transform(X_train,y_train).head()"
   ]
  },
  {
   "cell_type": "code",
   "execution_count": 76,
   "id": "coupled-biography",
   "metadata": {
    "ExecuteTime": {
     "end_time": "2021-02-11T20:38:15.176386Z",
     "start_time": "2021-02-11T20:38:15.172650Z"
    }
   },
   "outputs": [
    {
     "data": {
      "text/plain": [
       "{'var_3', 'var_65'}"
      ]
     },
     "execution_count": 76,
     "metadata": {},
     "output_type": "execute_result"
    }
   ],
   "source": [
    "sel.correlated_feature_sets_[1]"
   ]
  },
  {
   "cell_type": "code",
   "execution_count": 77,
   "id": "assigned-greeting",
   "metadata": {
    "ExecuteTime": {
     "end_time": "2021-02-11T20:38:15.181493Z",
     "start_time": "2021-02-11T20:38:15.178306Z"
    }
   },
   "outputs": [
    {
     "data": {
      "text/plain": [
       "True"
      ]
     },
     "execution_count": 77,
     "metadata": {},
     "output_type": "execute_result"
    }
   ],
   "source": [
    "\"var_3\" in sel.features_to_drop_"
   ]
  },
  {
   "cell_type": "code",
   "execution_count": 78,
   "id": "negative-netscape",
   "metadata": {
    "ExecuteTime": {
     "end_time": "2021-02-11T20:38:15.186449Z",
     "start_time": "2021-02-11T20:38:15.182961Z"
    }
   },
   "outputs": [
    {
     "data": {
      "text/plain": [
       "False"
      ]
     },
     "execution_count": 78,
     "metadata": {},
     "output_type": "execute_result"
    }
   ],
   "source": [
    "\"var_65\" in sel.features_to_drop_"
   ]
  },
  {
   "cell_type": "code",
   "execution_count": 79,
   "id": "preceding-cardiff",
   "metadata": {
    "ExecuteTime": {
     "end_time": "2021-02-11T20:38:15.191942Z",
     "start_time": "2021-02-11T20:38:15.188022Z"
    }
   },
   "outputs": [
    {
     "data": {
      "text/plain": [
       "0"
      ]
     },
     "execution_count": 79,
     "metadata": {},
     "output_type": "execute_result"
    }
   ],
   "source": [
    "X_train[list(sel.correlated_feature_sets_[1])[0]].isnull().sum()"
   ]
  },
  {
   "cell_type": "code",
   "execution_count": 80,
   "id": "viral-government",
   "metadata": {
    "ExecuteTime": {
     "end_time": "2021-02-11T20:38:15.197924Z",
     "start_time": "2021-02-11T20:38:15.193844Z"
    }
   },
   "outputs": [
    {
     "data": {
      "text/plain": [
       "0"
      ]
     },
     "execution_count": 80,
     "metadata": {},
     "output_type": "execute_result"
    }
   ],
   "source": [
    "X_train[list(sel.correlated_feature_sets_[1])[1]].isnull().sum()"
   ]
  },
  {
   "cell_type": "markdown",
   "id": "ranking-christianity",
   "metadata": {
    "ExecuteTime": {
     "end_time": "2021-02-10T20:17:48.183268Z",
     "start_time": "2021-02-10T20:17:48.181279Z"
    }
   },
   "source": [
    "## Pipeline with Feature-Engine"
   ]
  },
  {
   "cell_type": "code",
   "execution_count": 81,
   "id": "wound-zealand",
   "metadata": {
    "ExecuteTime": {
     "end_time": "2021-02-11T20:38:15.226046Z",
     "start_time": "2021-02-11T20:38:15.199637Z"
    }
   },
   "outputs": [],
   "source": [
    "pipeline = Pipeline([\n",
    "    (\"Constant\", DropConstantFeatures(tol=0.998)),\n",
    "    (\"Duplicated\", DropDuplicateFeatures()),\n",
    "    (\"Correlation\", SmartCorrelatedSelection(variables=None,\n",
    "                                             method='pearson',\n",
    "                                             threshold=0.8,\n",
    "                                             missing_values='ignore',\n",
    "                                             selection_method='variance',  # Using missing values\n",
    "                                             estimator=None,  # Using the RandomForest we set up previously\n",
    "                                             scoring=None,\n",
    "                                             cv=3\n",
    "                                             ))\n",
    "])"
   ]
  },
  {
   "cell_type": "code",
   "execution_count": 82,
   "id": "affecting-commitment",
   "metadata": {
    "ExecuteTime": {
     "end_time": "2021-02-11T20:38:17.995155Z",
     "start_time": "2021-02-11T20:38:15.227915Z"
    }
   },
   "outputs": [
    {
     "data": {
      "text/html": [
       "<div>\n",
       "<style scoped>\n",
       "    .dataframe tbody tr th:only-of-type {\n",
       "        vertical-align: middle;\n",
       "    }\n",
       "\n",
       "    .dataframe tbody tr th {\n",
       "        vertical-align: top;\n",
       "    }\n",
       "\n",
       "    .dataframe thead th {\n",
       "        text-align: right;\n",
       "    }\n",
       "</style>\n",
       "<table border=\"1\" class=\"dataframe\">\n",
       "  <thead>\n",
       "    <tr style=\"text-align: right;\">\n",
       "      <th></th>\n",
       "      <th>var_4</th>\n",
       "      <th>var_5</th>\n",
       "      <th>var_8</th>\n",
       "      <th>var_13</th>\n",
       "      <th>var_15</th>\n",
       "      <th>var_17</th>\n",
       "      <th>var_18</th>\n",
       "      <th>var_22</th>\n",
       "      <th>var_25</th>\n",
       "      <th>var_26</th>\n",
       "      <th>...</th>\n",
       "      <th>var_271</th>\n",
       "      <th>var_272</th>\n",
       "      <th>var_273</th>\n",
       "      <th>var_275</th>\n",
       "      <th>var_276</th>\n",
       "      <th>var_278</th>\n",
       "      <th>var_288</th>\n",
       "      <th>var_291</th>\n",
       "      <th>var_292</th>\n",
       "      <th>var_293</th>\n",
       "    </tr>\n",
       "  </thead>\n",
       "  <tbody>\n",
       "    <tr>\n",
       "      <th>23990</th>\n",
       "      <td>2.79</td>\n",
       "      <td>0.0</td>\n",
       "      <td>0</td>\n",
       "      <td>0.0</td>\n",
       "      <td>3</td>\n",
       "      <td>2.94</td>\n",
       "      <td>0.0</td>\n",
       "      <td>0.0</td>\n",
       "      <td>0</td>\n",
       "      <td>0.0</td>\n",
       "      <td>...</td>\n",
       "      <td>0.0</td>\n",
       "      <td>0.0</td>\n",
       "      <td>0</td>\n",
       "      <td>0</td>\n",
       "      <td>0.0</td>\n",
       "      <td>0</td>\n",
       "      <td>0.0</td>\n",
       "      <td>0</td>\n",
       "      <td>0.0</td>\n",
       "      <td>0</td>\n",
       "    </tr>\n",
       "    <tr>\n",
       "      <th>8729</th>\n",
       "      <td>0.00</td>\n",
       "      <td>0.0</td>\n",
       "      <td>0</td>\n",
       "      <td>0.0</td>\n",
       "      <td>0</td>\n",
       "      <td>0.00</td>\n",
       "      <td>0.0</td>\n",
       "      <td>0.0</td>\n",
       "      <td>0</td>\n",
       "      <td>0.0</td>\n",
       "      <td>...</td>\n",
       "      <td>0.0</td>\n",
       "      <td>0.0</td>\n",
       "      <td>0</td>\n",
       "      <td>0</td>\n",
       "      <td>0.0</td>\n",
       "      <td>0</td>\n",
       "      <td>0.0</td>\n",
       "      <td>0</td>\n",
       "      <td>0.0</td>\n",
       "      <td>0</td>\n",
       "    </tr>\n",
       "    <tr>\n",
       "      <th>3451</th>\n",
       "      <td>2.79</td>\n",
       "      <td>0.0</td>\n",
       "      <td>0</td>\n",
       "      <td>0.0</td>\n",
       "      <td>3</td>\n",
       "      <td>0.00</td>\n",
       "      <td>0.0</td>\n",
       "      <td>0.0</td>\n",
       "      <td>0</td>\n",
       "      <td>0.0</td>\n",
       "      <td>...</td>\n",
       "      <td>0.0</td>\n",
       "      <td>0.0</td>\n",
       "      <td>0</td>\n",
       "      <td>0</td>\n",
       "      <td>0.0</td>\n",
       "      <td>0</td>\n",
       "      <td>0.0</td>\n",
       "      <td>0</td>\n",
       "      <td>0.0</td>\n",
       "      <td>0</td>\n",
       "    </tr>\n",
       "    <tr>\n",
       "      <th>2628</th>\n",
       "      <td>2.76</td>\n",
       "      <td>0.0</td>\n",
       "      <td>0</td>\n",
       "      <td>0.0</td>\n",
       "      <td>3</td>\n",
       "      <td>0.00</td>\n",
       "      <td>0.0</td>\n",
       "      <td>0.0</td>\n",
       "      <td>0</td>\n",
       "      <td>0.0</td>\n",
       "      <td>...</td>\n",
       "      <td>0.0</td>\n",
       "      <td>0.0</td>\n",
       "      <td>0</td>\n",
       "      <td>0</td>\n",
       "      <td>0.0</td>\n",
       "      <td>0</td>\n",
       "      <td>0.0</td>\n",
       "      <td>0</td>\n",
       "      <td>0.0</td>\n",
       "      <td>0</td>\n",
       "    </tr>\n",
       "    <tr>\n",
       "      <th>38352</th>\n",
       "      <td>2.88</td>\n",
       "      <td>0.0</td>\n",
       "      <td>0</td>\n",
       "      <td>0.0</td>\n",
       "      <td>3</td>\n",
       "      <td>0.00</td>\n",
       "      <td>0.0</td>\n",
       "      <td>0.0</td>\n",
       "      <td>0</td>\n",
       "      <td>0.0</td>\n",
       "      <td>...</td>\n",
       "      <td>0.0</td>\n",
       "      <td>0.0</td>\n",
       "      <td>0</td>\n",
       "      <td>0</td>\n",
       "      <td>0.0</td>\n",
       "      <td>0</td>\n",
       "      <td>0.0</td>\n",
       "      <td>0</td>\n",
       "      <td>0.0</td>\n",
       "      <td>0</td>\n",
       "    </tr>\n",
       "  </tbody>\n",
       "</table>\n",
       "<p>5 rows × 81 columns</p>\n",
       "</div>"
      ],
      "text/plain": [
       "       var_4  var_5  var_8  var_13  var_15  var_17  var_18  var_22  var_25  \\\n",
       "23990   2.79    0.0      0     0.0       3    2.94     0.0     0.0       0   \n",
       "8729    0.00    0.0      0     0.0       0    0.00     0.0     0.0       0   \n",
       "3451    2.79    0.0      0     0.0       3    0.00     0.0     0.0       0   \n",
       "2628    2.76    0.0      0     0.0       3    0.00     0.0     0.0       0   \n",
       "38352   2.88    0.0      0     0.0       3    0.00     0.0     0.0       0   \n",
       "\n",
       "       var_26  ...  var_271  var_272  var_273  var_275  var_276  var_278  \\\n",
       "23990     0.0  ...      0.0      0.0        0        0      0.0        0   \n",
       "8729      0.0  ...      0.0      0.0        0        0      0.0        0   \n",
       "3451      0.0  ...      0.0      0.0        0        0      0.0        0   \n",
       "2628      0.0  ...      0.0      0.0        0        0      0.0        0   \n",
       "38352     0.0  ...      0.0      0.0        0        0      0.0        0   \n",
       "\n",
       "       var_288  var_291  var_292  var_293  \n",
       "23990      0.0        0      0.0        0  \n",
       "8729       0.0        0      0.0        0  \n",
       "3451       0.0        0      0.0        0  \n",
       "2628       0.0        0      0.0        0  \n",
       "38352      0.0        0      0.0        0  \n",
       "\n",
       "[5 rows x 81 columns]"
      ]
     },
     "execution_count": 82,
     "metadata": {},
     "output_type": "execute_result"
    }
   ],
   "source": [
    "pipeline.fit_transform(X_train,y_train).head()"
   ]
  },
  {
   "cell_type": "markdown",
   "id": "organizational-thunder",
   "metadata": {},
   "source": [
    "# Statistical Measure"
   ]
  },
  {
   "cell_type": "markdown",
   "id": "disturbed-operation",
   "metadata": {},
   "source": [
    "## Mutual Information (Information gain)"
   ]
  },
  {
   "cell_type": "markdown",
   "id": "built-auckland",
   "metadata": {},
   "source": [
    "Mutual information is the measure of the mutual dependence of 2 variables (quantifies the amount of information gained by on one random variable through the observation of the other random variable)."
   ]
  },
  {
   "cell_type": "code",
   "execution_count": 85,
   "id": "looking-nursing",
   "metadata": {
    "ExecuteTime": {
     "end_time": "2021-02-11T20:38:41.948546Z",
     "start_time": "2021-02-11T20:38:41.946216Z"
    }
   },
   "outputs": [],
   "source": [
    "from sklearn.feature_selection import mutual_info_classif, mutual_info_regression, SelectKBest, SelectPercentile"
   ]
  },
  {
   "cell_type": "code",
   "execution_count": 86,
   "id": "biblical-freeze",
   "metadata": {
    "ExecuteTime": {
     "end_time": "2021-02-11T20:38:45.157765Z",
     "start_time": "2021-02-11T20:38:44.562986Z"
    }
   },
   "outputs": [],
   "source": [
    "# Calculate the mutual information of each features between the variables and the target\n",
    "mi = mutual_info_classif(X_train.fillna(\n",
    "    0)[:100], y_train[:100])  # Using a sample"
   ]
  },
  {
   "cell_type": "code",
   "execution_count": 87,
   "id": "ordered-tournament",
   "metadata": {
    "ExecuteTime": {
     "end_time": "2021-02-11T20:38:45.819152Z",
     "start_time": "2021-02-11T20:38:45.815403Z"
    },
    "scrolled": true
   },
   "outputs": [
    {
     "data": {
      "text/plain": [
       "array([0.03224655, 0.        , 0.01751257, 0.        , 0.01216049,\n",
       "       0.00558131, 0.01797977, 0.01412788, 0.0069656 , 0.        ,\n",
       "       0.01873024, 0.        , 0.        , 0.00111078, 0.01043431,\n",
       "       0.        , 0.04159603, 0.00069743, 0.01042307, 0.00439661,\n",
       "       0.        , 0.        , 0.        , 0.        , 0.        ,\n",
       "       0.        , 0.        , 0.04157138, 0.        , 0.        ,\n",
       "       0.02056252, 0.        , 0.00111726, 0.        , 0.        ,\n",
       "       0.        , 0.01708019, 0.        , 0.        , 0.03548091,\n",
       "       0.03119297, 0.        , 0.00084193, 0.02028484, 0.0077433 ,\n",
       "       0.        , 0.        , 0.02106622, 0.        , 0.        ])"
      ]
     },
     "execution_count": 87,
     "metadata": {},
     "output_type": "execute_result"
    }
   ],
   "source": [
    "mi[:50]  # Show a sample"
   ]
  },
  {
   "cell_type": "code",
   "execution_count": 88,
   "id": "described-offset",
   "metadata": {
    "ExecuteTime": {
     "end_time": "2021-02-11T20:38:46.505966Z",
     "start_time": "2021-02-11T20:38:46.502770Z"
    }
   },
   "outputs": [],
   "source": [
    "mi = pd.Series(mi)\n",
    "mi.index = X_train[:100].columns\n",
    "mi.sort_values(ascending=False, inplace=True)"
   ]
  },
  {
   "cell_type": "code",
   "execution_count": 89,
   "id": "parental-industry",
   "metadata": {
    "ExecuteTime": {
     "end_time": "2021-02-11T20:38:47.175833Z",
     "start_time": "2021-02-11T20:38:47.171646Z"
    }
   },
   "outputs": [
    {
     "data": {
      "text/plain": [
       "var_175    0.2287\n",
       "var_179    0.2203\n",
       "var_74     0.1854\n",
       "var_107    0.1642\n",
       "var_300    0.1326\n",
       "var_62     0.1282\n",
       "var_70     0.1028\n",
       "var_232    0.0742\n",
       "var_248    0.0537\n",
       "var_92     0.0484\n",
       "var_56     0.0483\n",
       "var_171    0.0466\n",
       "var_82     0.0447\n",
       "var_283    0.0437\n",
       "var_246    0.0427\n",
       "var_17     0.0416\n",
       "var_28     0.0416\n",
       "var_40     0.0355\n",
       "var_118    0.0350\n",
       "var_296    0.0345\n",
       "dtype: float64"
      ]
     },
     "execution_count": 89,
     "metadata": {},
     "output_type": "execute_result"
    }
   ],
   "source": [
    "mi[:20] # show the first 20"
   ]
  },
  {
   "cell_type": "code",
   "execution_count": 90,
   "id": "labeled-baker",
   "metadata": {
    "ExecuteTime": {
     "end_time": "2021-02-11T20:38:47.830170Z",
     "start_time": "2021-02-11T20:38:47.827565Z"
    }
   },
   "outputs": [],
   "source": [
    "sel = SelectKBest(mutual_info_classif,k=10)"
   ]
  },
  {
   "cell_type": "code",
   "execution_count": 91,
   "id": "accepted-pittsburgh",
   "metadata": {
    "ExecuteTime": {
     "end_time": "2021-02-11T20:39:52.409870Z",
     "start_time": "2021-02-11T20:38:47.831611Z"
    }
   },
   "outputs": [
    {
     "data": {
      "text/plain": [
       "SelectKBest(score_func=<function mutual_info_classif at 0x7fa4cc2f21f0>)"
      ]
     },
     "execution_count": 91,
     "metadata": {},
     "output_type": "execute_result"
    }
   ],
   "source": [
    "sel.fit(X_train.fillna(0),y_train)"
   ]
  },
  {
   "cell_type": "code",
   "execution_count": 92,
   "id": "close-associate",
   "metadata": {
    "ExecuteTime": {
     "end_time": "2021-02-11T20:39:53.078143Z",
     "start_time": "2021-02-11T20:39:53.074417Z"
    }
   },
   "outputs": [
    {
     "data": {
      "text/plain": [
       "Index(['var_4', 'var_15', 'var_35', 'var_75', 'var_110', 'var_132', 'var_152',\n",
       "       'var_222', 'var_230', 'var_262'],\n",
       "      dtype='object')"
      ]
     },
     "execution_count": 92,
     "metadata": {},
     "output_type": "execute_result"
    }
   ],
   "source": [
    "X_train.columns[sel.get_support()]  # The best 10 features."
   ]
  },
  {
   "cell_type": "code",
   "execution_count": 93,
   "id": "pleased-collective",
   "metadata": {
    "ExecuteTime": {
     "end_time": "2021-02-11T20:39:53.105581Z",
     "start_time": "2021-02-11T20:39:53.080095Z"
    }
   },
   "outputs": [],
   "source": [
    "# Now regression\n",
    "housing = pd.read_csv(\n",
    "    \"./house-prices-advanced-regression-techniques/train.csv\")"
   ]
  },
  {
   "cell_type": "code",
   "execution_count": 94,
   "id": "virtual-thompson",
   "metadata": {
    "ExecuteTime": {
     "end_time": "2021-02-11T20:39:54.906515Z",
     "start_time": "2021-02-11T20:39:54.901347Z"
    }
   },
   "outputs": [
    {
     "data": {
      "text/plain": [
       "Id                 int64\n",
       "MSSubClass         int64\n",
       "MSZoning          object\n",
       "LotFrontage      float64\n",
       "LotArea            int64\n",
       "                  ...   \n",
       "MoSold             int64\n",
       "YrSold             int64\n",
       "SaleType          object\n",
       "SaleCondition     object\n",
       "SalePrice          int64\n",
       "Length: 81, dtype: object"
      ]
     },
     "execution_count": 94,
     "metadata": {},
     "output_type": "execute_result"
    }
   ],
   "source": [
    "housing.dtypes"
   ]
  },
  {
   "cell_type": "code",
   "execution_count": 95,
   "id": "becoming-gross",
   "metadata": {
    "ExecuteTime": {
     "end_time": "2021-02-11T20:39:54.912486Z",
     "start_time": "2021-02-11T20:39:54.908877Z"
    }
   },
   "outputs": [],
   "source": [
    "housing.drop(labels=[\n",
    "             col for col in housing.columns if housing[col].dtypes == \"object\"], axis=1, inplace=True)"
   ]
  },
  {
   "cell_type": "code",
   "execution_count": 96,
   "id": "chronic-particle",
   "metadata": {
    "ExecuteTime": {
     "end_time": "2021-02-11T20:39:56.106741Z",
     "start_time": "2021-02-11T20:39:56.017189Z"
    }
   },
   "outputs": [],
   "source": [
    "mi = mutual_info_regression(housing.drop(labels=[\"SalePrice\"], axis=1).fillna(\n",
    "    0)[:100], housing[\"SalePrice\"][:100])  # Using a sample"
   ]
  },
  {
   "cell_type": "code",
   "execution_count": 97,
   "id": "cleared-guess",
   "metadata": {
    "ExecuteTime": {
     "end_time": "2021-02-11T20:39:56.773613Z",
     "start_time": "2021-02-11T20:39:56.769750Z"
    }
   },
   "outputs": [],
   "source": [
    "mi = pd.Series(mi)\n",
    "mi.index = housing.drop(labels=[\"SalePrice\"], axis=1)[:100].columns\n",
    "mi.sort_values(ascending=False, inplace=True)"
   ]
  },
  {
   "cell_type": "code",
   "execution_count": 98,
   "id": "vocational-adams",
   "metadata": {
    "ExecuteTime": {
     "end_time": "2021-02-11T20:40:47.794150Z",
     "start_time": "2021-02-11T20:40:47.789478Z"
    }
   },
   "outputs": [
    {
     "data": {
      "text/plain": [
       "OverallQual     0.7280\n",
       "GrLivArea       0.4753\n",
       "GarageArea      0.4158\n",
       "TotalBsmtSF     0.3447\n",
       "GarageCars      0.3389\n",
       "YearBuilt       0.3340\n",
       "FullBath        0.3091\n",
       "MasVnrArea      0.2499\n",
       "1stFlrSF        0.2482\n",
       "TotRmsAbvGrd    0.2437\n",
       "2ndFlrSF        0.2219\n",
       "BsmtUnfSF       0.2163\n",
       "YearRemodAdd    0.2101\n",
       "OpenPorchSF     0.1964\n",
       "Fireplaces      0.1876\n",
       "BsmtFinSF1      0.1750\n",
       "LotArea         0.1732\n",
       "MSSubClass      0.1681\n",
       "GarageYrBlt     0.1477\n",
       "WoodDeckSF      0.1321\n",
       "dtype: float64"
      ]
     },
     "execution_count": 98,
     "metadata": {},
     "output_type": "execute_result"
    }
   ],
   "source": [
    "mi[:20] #Sample"
   ]
  },
  {
   "cell_type": "code",
   "execution_count": 99,
   "id": "unique-mambo",
   "metadata": {
    "ExecuteTime": {
     "end_time": "2021-02-11T20:40:48.642962Z",
     "start_time": "2021-02-11T20:40:48.640603Z"
    }
   },
   "outputs": [],
   "source": [
    "sel = SelectPercentile(mutual_info_regression, percentile=10)"
   ]
  },
  {
   "cell_type": "code",
   "execution_count": 100,
   "id": "biblical-exposure",
   "metadata": {
    "ExecuteTime": {
     "end_time": "2021-02-11T20:40:49.433789Z",
     "start_time": "2021-02-11T20:40:49.329123Z"
    },
    "scrolled": true
   },
   "outputs": [
    {
     "data": {
      "text/plain": [
       "SelectPercentile(score_func=<function mutual_info_regression at 0x7fa4cc2f20d0>)"
      ]
     },
     "execution_count": 100,
     "metadata": {},
     "output_type": "execute_result"
    }
   ],
   "source": [
    "sel.fit(housing.drop(labels=[\"SalePrice\"], axis=1).fillna(\n",
    "    0)[:100], housing[\"SalePrice\"][:100])  # Using a sample"
   ]
  },
  {
   "cell_type": "code",
   "execution_count": 101,
   "id": "sealed-shirt",
   "metadata": {
    "ExecuteTime": {
     "end_time": "2021-02-11T20:40:50.112209Z",
     "start_time": "2021-02-11T20:40:50.106275Z"
    }
   },
   "outputs": [
    {
     "data": {
      "text/plain": [
       "Index(['OverallQual', 'GrLivArea', 'GarageCars', 'GarageArea'], dtype='object')"
      ]
     },
     "execution_count": 101,
     "metadata": {},
     "output_type": "execute_result"
    }
   ],
   "source": [
    "housing.drop(labels=[\"SalePrice\"], axis=1).fillna(\n",
    "    0)[:100].columns[sel.get_support()]  # The top 10 percentiles."
   ]
  },
  {
   "cell_type": "markdown",
   "id": "secondary-deployment",
   "metadata": {},
   "source": [
    "## Chi-Square / Fisher-Score"
   ]
  },
  {
   "cell_type": "code",
   "execution_count": 102,
   "id": "absent-administration",
   "metadata": {
    "ExecuteTime": {
     "end_time": "2021-02-11T20:40:50.797265Z",
     "start_time": "2021-02-11T20:40:50.795074Z"
    }
   },
   "outputs": [],
   "source": [
    "from sklearn.feature_selection import chi2"
   ]
  },
  {
   "cell_type": "markdown",
   "id": "acceptable-outreach",
   "metadata": {},
   "source": [
    "Compute chi2 stat between each non negative feature and target.\n",
    "\n",
    "This score should be used to evaluate categorical variables in a classification tasks."
   ]
  },
  {
   "cell_type": "code",
   "execution_count": 103,
   "id": "tracked-tenant",
   "metadata": {
    "ExecuteTime": {
     "end_time": "2021-02-11T20:40:51.489608Z",
     "start_time": "2021-02-11T20:40:51.482656Z"
    }
   },
   "outputs": [],
   "source": [
    "titanic = pd.read_csv(\"./titanic.csv\")"
   ]
  },
  {
   "cell_type": "code",
   "execution_count": 104,
   "id": "tamil-rachel",
   "metadata": {
    "ExecuteTime": {
     "end_time": "2021-02-11T20:40:51.500751Z",
     "start_time": "2021-02-11T20:40:51.491143Z"
    }
   },
   "outputs": [
    {
     "data": {
      "text/html": [
       "<div>\n",
       "<style scoped>\n",
       "    .dataframe tbody tr th:only-of-type {\n",
       "        vertical-align: middle;\n",
       "    }\n",
       "\n",
       "    .dataframe tbody tr th {\n",
       "        vertical-align: top;\n",
       "    }\n",
       "\n",
       "    .dataframe thead th {\n",
       "        text-align: right;\n",
       "    }\n",
       "</style>\n",
       "<table border=\"1\" class=\"dataframe\">\n",
       "  <thead>\n",
       "    <tr style=\"text-align: right;\">\n",
       "      <th></th>\n",
       "      <th>pclass</th>\n",
       "      <th>survived</th>\n",
       "      <th>sex</th>\n",
       "      <th>age</th>\n",
       "      <th>sibsp</th>\n",
       "      <th>parch</th>\n",
       "      <th>fare</th>\n",
       "      <th>cabin</th>\n",
       "      <th>embarked</th>\n",
       "    </tr>\n",
       "  </thead>\n",
       "  <tbody>\n",
       "    <tr>\n",
       "      <th>0</th>\n",
       "      <td>1</td>\n",
       "      <td>1</td>\n",
       "      <td>female</td>\n",
       "      <td>29.0000</td>\n",
       "      <td>0</td>\n",
       "      <td>0</td>\n",
       "      <td>211.3375</td>\n",
       "      <td>B5</td>\n",
       "      <td>S</td>\n",
       "    </tr>\n",
       "    <tr>\n",
       "      <th>1</th>\n",
       "      <td>1</td>\n",
       "      <td>1</td>\n",
       "      <td>male</td>\n",
       "      <td>0.9167</td>\n",
       "      <td>1</td>\n",
       "      <td>2</td>\n",
       "      <td>151.5500</td>\n",
       "      <td>C22</td>\n",
       "      <td>S</td>\n",
       "    </tr>\n",
       "    <tr>\n",
       "      <th>2</th>\n",
       "      <td>1</td>\n",
       "      <td>0</td>\n",
       "      <td>female</td>\n",
       "      <td>2.0000</td>\n",
       "      <td>1</td>\n",
       "      <td>2</td>\n",
       "      <td>151.5500</td>\n",
       "      <td>C22</td>\n",
       "      <td>S</td>\n",
       "    </tr>\n",
       "    <tr>\n",
       "      <th>3</th>\n",
       "      <td>1</td>\n",
       "      <td>0</td>\n",
       "      <td>male</td>\n",
       "      <td>30.0000</td>\n",
       "      <td>1</td>\n",
       "      <td>2</td>\n",
       "      <td>151.5500</td>\n",
       "      <td>C22</td>\n",
       "      <td>S</td>\n",
       "    </tr>\n",
       "    <tr>\n",
       "      <th>4</th>\n",
       "      <td>1</td>\n",
       "      <td>0</td>\n",
       "      <td>female</td>\n",
       "      <td>25.0000</td>\n",
       "      <td>1</td>\n",
       "      <td>2</td>\n",
       "      <td>151.5500</td>\n",
       "      <td>C22</td>\n",
       "      <td>S</td>\n",
       "    </tr>\n",
       "  </tbody>\n",
       "</table>\n",
       "</div>"
      ],
      "text/plain": [
       "   pclass  survived     sex      age  sibsp  parch      fare cabin embarked\n",
       "0       1         1  female  29.0000      0      0  211.3375    B5        S\n",
       "1       1         1    male   0.9167      1      2  151.5500   C22        S\n",
       "2       1         0  female   2.0000      1      2  151.5500   C22        S\n",
       "3       1         0    male  30.0000      1      2  151.5500   C22        S\n",
       "4       1         0  female  25.0000      1      2  151.5500   C22        S"
      ]
     },
     "execution_count": 104,
     "metadata": {},
     "output_type": "execute_result"
    }
   ],
   "source": [
    "titanic.head()"
   ]
  },
  {
   "cell_type": "code",
   "execution_count": 105,
   "id": "fatal-draft",
   "metadata": {
    "ExecuteTime": {
     "end_time": "2021-02-11T20:40:52.874555Z",
     "start_time": "2021-02-11T20:40:52.868332Z"
    }
   },
   "outputs": [],
   "source": [
    "titanic[\"sex\"] = np.where(titanic[\"sex\"] == \"male\", 1, 0)\n",
    "\n",
    "original_label = {k: i for i, k in enumerate(titanic[\"embarked\"].unique(), 0)}\n",
    "\n",
    "titanic[\"embarked\"] = titanic[\"embarked\"].map(original_label)\n",
    "\n",
    "titanic.drop(labels=[\"cabin\"],axis=1,inplace=True)"
   ]
  },
  {
   "cell_type": "code",
   "execution_count": 106,
   "id": "excess-begin",
   "metadata": {
    "ExecuteTime": {
     "end_time": "2021-02-11T20:40:52.884665Z",
     "start_time": "2021-02-11T20:40:52.876101Z"
    }
   },
   "outputs": [
    {
     "data": {
      "text/html": [
       "<div>\n",
       "<style scoped>\n",
       "    .dataframe tbody tr th:only-of-type {\n",
       "        vertical-align: middle;\n",
       "    }\n",
       "\n",
       "    .dataframe tbody tr th {\n",
       "        vertical-align: top;\n",
       "    }\n",
       "\n",
       "    .dataframe thead th {\n",
       "        text-align: right;\n",
       "    }\n",
       "</style>\n",
       "<table border=\"1\" class=\"dataframe\">\n",
       "  <thead>\n",
       "    <tr style=\"text-align: right;\">\n",
       "      <th></th>\n",
       "      <th>pclass</th>\n",
       "      <th>survived</th>\n",
       "      <th>sex</th>\n",
       "      <th>age</th>\n",
       "      <th>sibsp</th>\n",
       "      <th>parch</th>\n",
       "      <th>fare</th>\n",
       "      <th>embarked</th>\n",
       "    </tr>\n",
       "  </thead>\n",
       "  <tbody>\n",
       "    <tr>\n",
       "      <th>0</th>\n",
       "      <td>1</td>\n",
       "      <td>1</td>\n",
       "      <td>0</td>\n",
       "      <td>29.0000</td>\n",
       "      <td>0</td>\n",
       "      <td>0</td>\n",
       "      <td>211.3375</td>\n",
       "      <td>0</td>\n",
       "    </tr>\n",
       "    <tr>\n",
       "      <th>1</th>\n",
       "      <td>1</td>\n",
       "      <td>1</td>\n",
       "      <td>1</td>\n",
       "      <td>0.9167</td>\n",
       "      <td>1</td>\n",
       "      <td>2</td>\n",
       "      <td>151.5500</td>\n",
       "      <td>0</td>\n",
       "    </tr>\n",
       "    <tr>\n",
       "      <th>2</th>\n",
       "      <td>1</td>\n",
       "      <td>0</td>\n",
       "      <td>0</td>\n",
       "      <td>2.0000</td>\n",
       "      <td>1</td>\n",
       "      <td>2</td>\n",
       "      <td>151.5500</td>\n",
       "      <td>0</td>\n",
       "    </tr>\n",
       "    <tr>\n",
       "      <th>3</th>\n",
       "      <td>1</td>\n",
       "      <td>0</td>\n",
       "      <td>1</td>\n",
       "      <td>30.0000</td>\n",
       "      <td>1</td>\n",
       "      <td>2</td>\n",
       "      <td>151.5500</td>\n",
       "      <td>0</td>\n",
       "    </tr>\n",
       "    <tr>\n",
       "      <th>4</th>\n",
       "      <td>1</td>\n",
       "      <td>0</td>\n",
       "      <td>0</td>\n",
       "      <td>25.0000</td>\n",
       "      <td>1</td>\n",
       "      <td>2</td>\n",
       "      <td>151.5500</td>\n",
       "      <td>0</td>\n",
       "    </tr>\n",
       "  </tbody>\n",
       "</table>\n",
       "</div>"
      ],
      "text/plain": [
       "   pclass  survived  sex      age  sibsp  parch      fare  embarked\n",
       "0       1         1    0  29.0000      0      0  211.3375         0\n",
       "1       1         1    1   0.9167      1      2  151.5500         0\n",
       "2       1         0    0   2.0000      1      2  151.5500         0\n",
       "3       1         0    1  30.0000      1      2  151.5500         0\n",
       "4       1         0    0  25.0000      1      2  151.5500         0"
      ]
     },
     "execution_count": 106,
     "metadata": {},
     "output_type": "execute_result"
    }
   ],
   "source": [
    "titanic.head()"
   ]
  },
  {
   "cell_type": "code",
   "execution_count": 107,
   "id": "attractive-franklin",
   "metadata": {
    "ExecuteTime": {
     "end_time": "2021-02-11T20:40:53.544513Z",
     "start_time": "2021-02-11T20:40:53.539459Z"
    }
   },
   "outputs": [],
   "source": [
    "X_train_titanic, X_test_titanic, y_train_titanic, y_test_titanic = train_test_split(titanic.drop(\n",
    "    labels=[\"survived\"], axis=1), titanic[\"survived\"], test_size=0.33, random_state=42)"
   ]
  },
  {
   "cell_type": "code",
   "execution_count": 108,
   "id": "duplicate-basket",
   "metadata": {
    "ExecuteTime": {
     "end_time": "2021-02-11T20:40:53.551916Z",
     "start_time": "2021-02-11T20:40:53.545925Z"
    }
   },
   "outputs": [],
   "source": [
    "f_score = chi2(X_train_titanic.fillna(0), y_train_titanic)"
   ]
  },
  {
   "cell_type": "code",
   "execution_count": 109,
   "id": "italic-steps",
   "metadata": {
    "ExecuteTime": {
     "end_time": "2021-02-11T20:40:55.371788Z",
     "start_time": "2021-02-11T20:40:55.368489Z"
    }
   },
   "outputs": [
    {
     "data": {
      "text/plain": [
       "(array([3.43528987e+01, 9.32812205e+01, 1.20480790e+00, 4.15808235e+00,\n",
       "        6.93991274e+00, 5.00816457e+03, 1.07191843e+01]),\n",
       " array([4.59715156e-09, 4.53676384e-22, 2.72362846e-01, 4.14362917e-02,\n",
       "        8.42932253e-03, 0.00000000e+00, 1.06030405e-03]))"
      ]
     },
     "execution_count": 109,
     "metadata": {},
     "output_type": "execute_result"
    }
   ],
   "source": [
    "f_score"
   ]
  },
  {
   "cell_type": "code",
   "execution_count": 110,
   "id": "improved-oracle",
   "metadata": {
    "ExecuteTime": {
     "end_time": "2021-02-11T20:40:55.376422Z",
     "start_time": "2021-02-11T20:40:55.373573Z"
    }
   },
   "outputs": [],
   "source": [
    "pvalues = pd.Series(f_score[1])\n",
    "pvalues.index = X_train_titanic.columns\n",
    "pvalues.sort_values(ascending=False,inplace=True)"
   ]
  },
  {
   "cell_type": "code",
   "execution_count": 111,
   "id": "delayed-proposition",
   "metadata": {
    "ExecuteTime": {
     "end_time": "2021-02-11T20:40:55.381674Z",
     "start_time": "2021-02-11T20:40:55.377867Z"
    }
   },
   "outputs": [
    {
     "data": {
      "text/plain": [
       "age         2.7236e-01\n",
       "sibsp       4.1436e-02\n",
       "parch       8.4293e-03\n",
       "embarked    1.0603e-03\n",
       "pclass      4.5972e-09\n",
       "sex         4.5368e-22\n",
       "fare        0.0000e+00\n",
       "dtype: float64"
      ]
     },
     "execution_count": 111,
     "metadata": {},
     "output_type": "execute_result"
    }
   ],
   "source": [
    "pvalues # The smaller the better!"
   ]
  },
  {
   "cell_type": "markdown",
   "id": "polar-gilbert",
   "metadata": {},
   "source": [
    "## Anova"
   ]
  },
  {
   "cell_type": "code",
   "execution_count": 112,
   "id": "eastern-casting",
   "metadata": {
    "ExecuteTime": {
     "end_time": "2021-02-11T20:40:57.170336Z",
     "start_time": "2021-02-11T20:40:57.168092Z"
    }
   },
   "outputs": [],
   "source": [
    "from sklearn.feature_selection import f_regression,f_classif"
   ]
  },
  {
   "cell_type": "code",
   "execution_count": 113,
   "id": "innovative-carpet",
   "metadata": {
    "ExecuteTime": {
     "end_time": "2021-02-11T20:40:57.177093Z",
     "start_time": "2021-02-11T20:40:57.172060Z"
    }
   },
   "outputs": [],
   "source": [
    "univariate = f_classif(X_train_titanic.fillna(0), y_train_titanic)"
   ]
  },
  {
   "cell_type": "code",
   "execution_count": 114,
   "id": "checked-monkey",
   "metadata": {
    "ExecuteTime": {
     "end_time": "2021-02-11T20:40:58.604425Z",
     "start_time": "2021-02-11T20:40:58.601592Z"
    }
   },
   "outputs": [],
   "source": [
    "pvalues = pd.Series(univariate[1])\n",
    "pvalues.index = X_train_titanic.columns\n",
    "pvalues.sort_values(ascending=False,inplace=True)"
   ]
  },
  {
   "cell_type": "code",
   "execution_count": 115,
   "id": "bibliographic-business",
   "metadata": {
    "ExecuteTime": {
     "end_time": "2021-02-11T20:40:58.610020Z",
     "start_time": "2021-02-11T20:40:58.606290Z"
    }
   },
   "outputs": [
    {
     "data": {
      "text/plain": [
       "age         6.4238e-01\n",
       "sibsp       1.6954e-01\n",
       "parch       5.9603e-02\n",
       "embarked    1.4332e-03\n",
       "fare        4.4911e-15\n",
       "pclass      1.6364e-27\n",
       "sex         1.3324e-68\n",
       "dtype: float64"
      ]
     },
     "execution_count": 115,
     "metadata": {},
     "output_type": "execute_result"
    }
   ],
   "source": [
    "pvalues # The lower the pvalue, the better (and p-value > 0.05) but implies linear relationships."
   ]
  },
  {
   "cell_type": "code",
   "execution_count": 116,
   "id": "headed-estimate",
   "metadata": {
    "ExecuteTime": {
     "end_time": "2021-02-11T20:40:58.616573Z",
     "start_time": "2021-02-11T20:40:58.611576Z"
    }
   },
   "outputs": [],
   "source": [
    "sel_ = SelectKBest(f_classif, k=\"all\").fit(\n",
    "    X_train_titanic.fillna(0), y_train_titanic)"
   ]
  },
  {
   "cell_type": "code",
   "execution_count": 117,
   "id": "operating-bishop",
   "metadata": {
    "ExecuteTime": {
     "end_time": "2021-02-11T20:41:01.406235Z",
     "start_time": "2021-02-11T20:41:01.402637Z"
    }
   },
   "outputs": [
    {
     "data": {
      "text/plain": [
       "Index(['pclass', 'sex', 'age', 'sibsp', 'parch', 'fare', 'embarked'], dtype='object')"
      ]
     },
     "execution_count": 117,
     "metadata": {},
     "output_type": "execute_result"
    }
   ],
   "source": [
    "X_train_titanic.columns[sel_.get_support()]"
   ]
  },
  {
   "cell_type": "markdown",
   "id": "technical-score",
   "metadata": {},
   "source": [
    "Same with the f_regression for a regression problem..."
   ]
  },
  {
   "cell_type": "markdown",
   "id": "traditional-reflection",
   "metadata": {},
   "source": [
    "# Other methods and metrics"
   ]
  },
  {
   "cell_type": "markdown",
   "id": "executive-ethnic",
   "metadata": {},
   "source": [
    "## Univariate Roc-AUC (classification) and RMSE (Regression)"
   ]
  },
  {
   "cell_type": "code",
   "execution_count": 118,
   "id": "crude-thesaurus",
   "metadata": {
    "ExecuteTime": {
     "end_time": "2021-02-11T20:41:02.137817Z",
     "start_time": "2021-02-11T20:41:02.135260Z"
    }
   },
   "outputs": [],
   "source": [
    "from sklearn.tree import DecisionTreeClassifier, DecisionTreeRegressor\n",
    "from sklearn.metrics import roc_auc_score, mean_squared_error"
   ]
  },
  {
   "cell_type": "markdown",
   "id": "cooperative-hometown",
   "metadata": {},
   "source": [
    "### Classification"
   ]
  },
  {
   "cell_type": "code",
   "execution_count": 119,
   "id": "material-medication",
   "metadata": {
    "ExecuteTime": {
     "end_time": "2021-02-11T20:41:05.471256Z",
     "start_time": "2021-02-11T20:41:02.139325Z"
    }
   },
   "outputs": [],
   "source": [
    "roc_auc = []\n",
    "for feature in X_train.columns:\n",
    "    # Predictor\n",
    "    clf = DecisionTreeClassifier()\n",
    "    # Fit the predictor\n",
    "    clf.fit(X_train[feature].fillna(0).to_frame(), y_train)\n",
    "    # Predict with the predictor\n",
    "    y_predicted = clf.predict_proba(X_test[feature].to_frame())\n",
    "    # Append the roc-auc score to the list\n",
    "    roc_auc.append(roc_auc_score(y_test, y_predicted[:, 1]))"
   ]
  },
  {
   "cell_type": "code",
   "execution_count": 120,
   "id": "suffering-possible",
   "metadata": {
    "ExecuteTime": {
     "end_time": "2021-02-11T20:41:06.999979Z",
     "start_time": "2021-02-11T20:41:06.995577Z"
    }
   },
   "outputs": [],
   "source": [
    "results = pd.Series(roc_auc)\n",
    "results.index = X_train.columns\n",
    "results.sort_values(ascending=False,inplace=True)\n",
    "results = pd.DataFrame(results).reset_index()"
   ]
  },
  {
   "cell_type": "code",
   "execution_count": 121,
   "id": "caroline-palestine",
   "metadata": {
    "ExecuteTime": {
     "end_time": "2021-02-11T20:41:07.346429Z",
     "start_time": "2021-02-11T20:41:07.001733Z"
    }
   },
   "outputs": [
    {
     "data": {
      "text/plain": [
       "<AxesSubplot:xlabel='0', ylabel='index'>"
      ]
     },
     "execution_count": 121,
     "metadata": {},
     "output_type": "execute_result"
    },
    {
     "data": {
      "image/png": "[encoded data removed]",
      "text/plain": [
       "<Figure size 1080x720 with 1 Axes>"
      ]
     },
     "metadata": {},
     "output_type": "display_data"
    }
   ],
   "source": [
    "plt.figure(figsize=(15,10))\n",
    "sns.barplot(data=results[:30], y=\"index\", x=0) #sample 30 firsts"
   ]
  },
  {
   "cell_type": "markdown",
   "id": "private-walnut",
   "metadata": {},
   "source": [
    "A roc-auc = 0.5 indicates a random decision therefore the feature has no value."
   ]
  },
  {
   "cell_type": "code",
   "execution_count": 122,
   "id": "revised-fundamentals",
   "metadata": {
    "ExecuteTime": {
     "end_time": "2021-02-11T20:41:08.186101Z",
     "start_time": "2021-02-11T20:41:08.182811Z"
    }
   },
   "outputs": [
    {
     "name": "stdout",
     "output_type": "stream",
     "text": [
      "Number of features with roc-auc > 0.5: 184.\n"
     ]
    }
   ],
   "source": [
    "print(f\"Number of features with roc-auc > 0.5: {results[results[0] > 0.5].shape[0]}.\")"
   ]
  },
  {
   "cell_type": "markdown",
   "id": "oriented-dependence",
   "metadata": {},
   "source": [
    "### Regression"
   ]
  },
  {
   "cell_type": "code",
   "execution_count": 123,
   "id": "manual-rolling",
   "metadata": {
    "ExecuteTime": {
     "end_time": "2021-02-11T20:41:08.874545Z",
     "start_time": "2021-02-11T20:41:08.871619Z"
    }
   },
   "outputs": [],
   "source": [
    "housing.columns = [col for col in housing.columns if housing[col].dtype != \"object\"]"
   ]
  },
  {
   "cell_type": "code",
   "execution_count": 124,
   "id": "billion-trace",
   "metadata": {
    "ExecuteTime": {
     "end_time": "2021-02-11T20:41:08.892723Z",
     "start_time": "2021-02-11T20:41:08.876225Z"
    }
   },
   "outputs": [
    {
     "data": {
      "text/html": [
       "<div>\n",
       "<style scoped>\n",
       "    .dataframe tbody tr th:only-of-type {\n",
       "        vertical-align: middle;\n",
       "    }\n",
       "\n",
       "    .dataframe tbody tr th {\n",
       "        vertical-align: top;\n",
       "    }\n",
       "\n",
       "    .dataframe thead th {\n",
       "        text-align: right;\n",
       "    }\n",
       "</style>\n",
       "<table border=\"1\" class=\"dataframe\">\n",
       "  <thead>\n",
       "    <tr style=\"text-align: right;\">\n",
       "      <th></th>\n",
       "      <th>Id</th>\n",
       "      <th>MSSubClass</th>\n",
       "      <th>LotFrontage</th>\n",
       "      <th>LotArea</th>\n",
       "      <th>OverallQual</th>\n",
       "      <th>OverallCond</th>\n",
       "      <th>YearBuilt</th>\n",
       "      <th>YearRemodAdd</th>\n",
       "      <th>MasVnrArea</th>\n",
       "      <th>BsmtFinSF1</th>\n",
       "      <th>...</th>\n",
       "      <th>WoodDeckSF</th>\n",
       "      <th>OpenPorchSF</th>\n",
       "      <th>EnclosedPorch</th>\n",
       "      <th>3SsnPorch</th>\n",
       "      <th>ScreenPorch</th>\n",
       "      <th>PoolArea</th>\n",
       "      <th>MiscVal</th>\n",
       "      <th>MoSold</th>\n",
       "      <th>YrSold</th>\n",
       "      <th>SalePrice</th>\n",
       "    </tr>\n",
       "  </thead>\n",
       "  <tbody>\n",
       "    <tr>\n",
       "      <th>0</th>\n",
       "      <td>1</td>\n",
       "      <td>60</td>\n",
       "      <td>65.0</td>\n",
       "      <td>8450</td>\n",
       "      <td>7</td>\n",
       "      <td>5</td>\n",
       "      <td>2003</td>\n",
       "      <td>2003</td>\n",
       "      <td>196.0</td>\n",
       "      <td>706</td>\n",
       "      <td>...</td>\n",
       "      <td>0</td>\n",
       "      <td>61</td>\n",
       "      <td>0</td>\n",
       "      <td>0</td>\n",
       "      <td>0</td>\n",
       "      <td>0</td>\n",
       "      <td>0</td>\n",
       "      <td>2</td>\n",
       "      <td>2008</td>\n",
       "      <td>208500</td>\n",
       "    </tr>\n",
       "    <tr>\n",
       "      <th>1</th>\n",
       "      <td>2</td>\n",
       "      <td>20</td>\n",
       "      <td>80.0</td>\n",
       "      <td>9600</td>\n",
       "      <td>6</td>\n",
       "      <td>8</td>\n",
       "      <td>1976</td>\n",
       "      <td>1976</td>\n",
       "      <td>0.0</td>\n",
       "      <td>978</td>\n",
       "      <td>...</td>\n",
       "      <td>298</td>\n",
       "      <td>0</td>\n",
       "      <td>0</td>\n",
       "      <td>0</td>\n",
       "      <td>0</td>\n",
       "      <td>0</td>\n",
       "      <td>0</td>\n",
       "      <td>5</td>\n",
       "      <td>2007</td>\n",
       "      <td>181500</td>\n",
       "    </tr>\n",
       "    <tr>\n",
       "      <th>2</th>\n",
       "      <td>3</td>\n",
       "      <td>60</td>\n",
       "      <td>68.0</td>\n",
       "      <td>11250</td>\n",
       "      <td>7</td>\n",
       "      <td>5</td>\n",
       "      <td>2001</td>\n",
       "      <td>2002</td>\n",
       "      <td>162.0</td>\n",
       "      <td>486</td>\n",
       "      <td>...</td>\n",
       "      <td>0</td>\n",
       "      <td>42</td>\n",
       "      <td>0</td>\n",
       "      <td>0</td>\n",
       "      <td>0</td>\n",
       "      <td>0</td>\n",
       "      <td>0</td>\n",
       "      <td>9</td>\n",
       "      <td>2008</td>\n",
       "      <td>223500</td>\n",
       "    </tr>\n",
       "    <tr>\n",
       "      <th>3</th>\n",
       "      <td>4</td>\n",
       "      <td>70</td>\n",
       "      <td>60.0</td>\n",
       "      <td>9550</td>\n",
       "      <td>7</td>\n",
       "      <td>5</td>\n",
       "      <td>1915</td>\n",
       "      <td>1970</td>\n",
       "      <td>0.0</td>\n",
       "      <td>216</td>\n",
       "      <td>...</td>\n",
       "      <td>0</td>\n",
       "      <td>35</td>\n",
       "      <td>272</td>\n",
       "      <td>0</td>\n",
       "      <td>0</td>\n",
       "      <td>0</td>\n",
       "      <td>0</td>\n",
       "      <td>2</td>\n",
       "      <td>2006</td>\n",
       "      <td>140000</td>\n",
       "    </tr>\n",
       "    <tr>\n",
       "      <th>4</th>\n",
       "      <td>5</td>\n",
       "      <td>60</td>\n",
       "      <td>84.0</td>\n",
       "      <td>14260</td>\n",
       "      <td>8</td>\n",
       "      <td>5</td>\n",
       "      <td>2000</td>\n",
       "      <td>2000</td>\n",
       "      <td>350.0</td>\n",
       "      <td>655</td>\n",
       "      <td>...</td>\n",
       "      <td>192</td>\n",
       "      <td>84</td>\n",
       "      <td>0</td>\n",
       "      <td>0</td>\n",
       "      <td>0</td>\n",
       "      <td>0</td>\n",
       "      <td>0</td>\n",
       "      <td>12</td>\n",
       "      <td>2008</td>\n",
       "      <td>250000</td>\n",
       "    </tr>\n",
       "  </tbody>\n",
       "</table>\n",
       "<p>5 rows × 38 columns</p>\n",
       "</div>"
      ],
      "text/plain": [
       "   Id  MSSubClass  LotFrontage  LotArea  OverallQual  OverallCond  YearBuilt  \\\n",
       "0   1          60         65.0     8450            7            5       2003   \n",
       "1   2          20         80.0     9600            6            8       1976   \n",
       "2   3          60         68.0    11250            7            5       2001   \n",
       "3   4          70         60.0     9550            7            5       1915   \n",
       "4   5          60         84.0    14260            8            5       2000   \n",
       "\n",
       "   YearRemodAdd  MasVnrArea  BsmtFinSF1  ...  WoodDeckSF  OpenPorchSF  \\\n",
       "0          2003       196.0         706  ...           0           61   \n",
       "1          1976         0.0         978  ...         298            0   \n",
       "2          2002       162.0         486  ...           0           42   \n",
       "3          1970         0.0         216  ...           0           35   \n",
       "4          2000       350.0         655  ...         192           84   \n",
       "\n",
       "   EnclosedPorch  3SsnPorch  ScreenPorch  PoolArea  MiscVal  MoSold  YrSold  \\\n",
       "0              0          0            0         0        0       2    2008   \n",
       "1              0          0            0         0        0       5    2007   \n",
       "2              0          0            0         0        0       9    2008   \n",
       "3            272          0            0         0        0       2    2006   \n",
       "4              0          0            0         0        0      12    2008   \n",
       "\n",
       "   SalePrice  \n",
       "0     208500  \n",
       "1     181500  \n",
       "2     223500  \n",
       "3     140000  \n",
       "4     250000  \n",
       "\n",
       "[5 rows x 38 columns]"
      ]
     },
     "execution_count": 124,
     "metadata": {},
     "output_type": "execute_result"
    }
   ],
   "source": [
    "housing.head()"
   ]
  },
  {
   "cell_type": "code",
   "execution_count": 125,
   "id": "sorted-malpractice",
   "metadata": {
    "ExecuteTime": {
     "end_time": "2021-02-11T20:41:09.608719Z",
     "start_time": "2021-02-11T20:41:09.603350Z"
    }
   },
   "outputs": [],
   "source": [
    "X_train_housing, X_test_housing, y_train_housing, y_test_housing = train_test_split(housing.drop(\n",
    "    labels=[\"SalePrice\"], axis=1), housing[\"SalePrice\"], test_size=0.33, random_state=42)"
   ]
  },
  {
   "cell_type": "code",
   "execution_count": 126,
   "id": "strange-lemon",
   "metadata": {
    "ExecuteTime": {
     "end_time": "2021-02-11T20:41:09.754014Z",
     "start_time": "2021-02-11T20:41:09.610309Z"
    }
   },
   "outputs": [],
   "source": [
    "rmse = []\n",
    "for feature in X_train_housing.columns:\n",
    "    # Predictor\n",
    "    clf = DecisionTreeRegressor()\n",
    "    # Fit the predictor\n",
    "    clf.fit(X_train_housing[feature].fillna(0).to_frame(), y_train_housing)\n",
    "    # Predict with the predictor\n",
    "    y_predicted = clf.predict(X_test_housing[feature].fillna(0).to_frame())\n",
    "    # Append the roc-auc score to the list\n",
    "    rmse.append(mean_squared_error(y_test_housing, y_predicted))"
   ]
  },
  {
   "cell_type": "code",
   "execution_count": 127,
   "id": "tested-burlington",
   "metadata": {
    "ExecuteTime": {
     "end_time": "2021-02-11T20:41:11.321960Z",
     "start_time": "2021-02-11T20:41:11.317844Z"
    }
   },
   "outputs": [],
   "source": [
    "results = pd.Series(rmse)\n",
    "results.index = X_train_housing.columns\n",
    "results.sort_values(ascending=True, inplace=True)\n",
    "results = pd.DataFrame(results).reset_index()"
   ]
  },
  {
   "cell_type": "code",
   "execution_count": 128,
   "id": "shaped-intranet",
   "metadata": {
    "ExecuteTime": {
     "end_time": "2021-02-11T20:41:11.717550Z",
     "start_time": "2021-02-11T20:41:11.323526Z"
    }
   },
   "outputs": [
    {
     "data": {
      "text/plain": [
       "<AxesSubplot:xlabel='0', ylabel='index'>"
      ]
     },
     "execution_count": 128,
     "metadata": {},
     "output_type": "execute_result"
    },
    {
     "data": {
      "image/png": "[encoded data removed]",
      "text/plain": [
       "<Figure size 1080x720 with 1 Axes>"
      ]
     },
     "metadata": {},
     "output_type": "display_data"
    }
   ],
   "source": [
    "plt.figure(figsize=(15, 10))\n",
    "sns.barplot(data=results[:30], y=\"index\", x=0)  # sample 20 firsts"
   ]
  },
  {
   "cell_type": "markdown",
   "id": "empty-intro",
   "metadata": {},
   "source": [
    "Here the cut-off is arbitrary. It depends on the number of features we want to keep."
   ]
  },
  {
   "cell_type": "markdown",
   "id": "necessary-yorkshire",
   "metadata": {},
   "source": [
    "## Target Mean Encoding"
   ]
  },
  {
   "cell_type": "markdown",
   "id": "dietary-context",
   "metadata": {},
   "source": [
    "### With categorical features"
   ]
  },
  {
   "cell_type": "code",
   "execution_count": 129,
   "id": "requested-latter",
   "metadata": {
    "ExecuteTime": {
     "end_time": "2021-02-11T20:41:14.660050Z",
     "start_time": "2021-02-11T20:41:14.640717Z"
    }
   },
   "outputs": [
    {
     "data": {
      "text/plain": [
       "((914, 6), (392, 6))"
      ]
     },
     "execution_count": 129,
     "metadata": {},
     "output_type": "execute_result"
    }
   ],
   "source": [
    "X_train, X_test, y_train, y_test = train_test_split(\n",
    "    titanic[['pclass', 'sex', 'embarked',\"age\",'survived',\"fare\"]],\n",
    "    titanic['survived'],\n",
    "    test_size=0.3,\n",
    "    random_state=0)\n",
    "\n",
    "X_train.shape, X_test.shape"
   ]
  },
  {
   "cell_type": "code",
   "execution_count": 130,
   "id": "adverse-astrology",
   "metadata": {
    "ExecuteTime": {
     "end_time": "2021-02-11T20:41:14.666764Z",
     "start_time": "2021-02-11T20:41:14.662106Z"
    }
   },
   "outputs": [],
   "source": [
    "def mean_encoding(df_train, df_test, categorical_vars):\n",
    "    \n",
    "    # temporary copy of the original dataframes\n",
    "    df_train_temp = df_train.copy()\n",
    "    df_test_temp = df_test.copy()\n",
    "    \n",
    "    # iterate over each variable\n",
    "    for col in categorical_vars:\n",
    "        \n",
    "        # make a dictionary of categories, target-mean pairs\n",
    "        target_mean_dict = df_train.groupby([col])['survived'].mean().to_dict()\n",
    "        \n",
    "        # replace the categories by the mean of the target\n",
    "        df_train_temp[col] = df_train[col].map(target_mean_dict)\n",
    "        df_test_temp[col] = df_test[col].map(target_mean_dict)\n",
    "    \n",
    "    # drop the target from the daatset\n",
    "    df_train_temp.drop(['survived'], axis=1, inplace=True)\n",
    "    df_test_temp.drop(['survived'], axis=1, inplace=True)\n",
    "    \n",
    "    # return  remapped datasets\n",
    "    return df_train_temp, df_test_temp"
   ]
  },
  {
   "cell_type": "code",
   "execution_count": 131,
   "id": "fifth-theme",
   "metadata": {
    "ExecuteTime": {
     "end_time": "2021-02-11T20:41:14.689208Z",
     "start_time": "2021-02-11T20:41:14.668805Z"
    }
   },
   "outputs": [
    {
     "data": {
      "text/html": [
       "<div>\n",
       "<style scoped>\n",
       "    .dataframe tbody tr th:only-of-type {\n",
       "        vertical-align: middle;\n",
       "    }\n",
       "\n",
       "    .dataframe tbody tr th {\n",
       "        vertical-align: top;\n",
       "    }\n",
       "\n",
       "    .dataframe thead th {\n",
       "        text-align: right;\n",
       "    }\n",
       "</style>\n",
       "<table border=\"1\" class=\"dataframe\">\n",
       "  <thead>\n",
       "    <tr style=\"text-align: right;\">\n",
       "      <th></th>\n",
       "      <th>pclass</th>\n",
       "      <th>sex</th>\n",
       "      <th>embarked</th>\n",
       "      <th>age</th>\n",
       "      <th>fare</th>\n",
       "    </tr>\n",
       "  </thead>\n",
       "  <tbody>\n",
       "    <tr>\n",
       "      <th>840</th>\n",
       "      <td>0.2439</td>\n",
       "      <td>0.1997</td>\n",
       "      <td>0.3385</td>\n",
       "      <td>29.8132</td>\n",
       "      <td>19.9667</td>\n",
       "    </tr>\n",
       "    <tr>\n",
       "      <th>866</th>\n",
       "      <td>0.2439</td>\n",
       "      <td>0.1997</td>\n",
       "      <td>0.3385</td>\n",
       "      <td>43.0000</td>\n",
       "      <td>6.4500</td>\n",
       "    </tr>\n",
       "    <tr>\n",
       "      <th>427</th>\n",
       "      <td>0.4167</td>\n",
       "      <td>0.1997</td>\n",
       "      <td>0.3385</td>\n",
       "      <td>44.0000</td>\n",
       "      <td>13.0000</td>\n",
       "    </tr>\n",
       "    <tr>\n",
       "      <th>478</th>\n",
       "      <td>0.4167</td>\n",
       "      <td>0.1997</td>\n",
       "      <td>0.5459</td>\n",
       "      <td>25.0000</td>\n",
       "      <td>41.5792</td>\n",
       "    </tr>\n",
       "    <tr>\n",
       "      <th>1305</th>\n",
       "      <td>0.2439</td>\n",
       "      <td>0.1997</td>\n",
       "      <td>0.3385</td>\n",
       "      <td>29.0000</td>\n",
       "      <td>7.8750</td>\n",
       "    </tr>\n",
       "  </tbody>\n",
       "</table>\n",
       "</div>"
      ],
      "text/plain": [
       "      pclass     sex  embarked      age     fare\n",
       "840   0.2439  0.1997    0.3385  29.8132  19.9667\n",
       "866   0.2439  0.1997    0.3385  43.0000   6.4500\n",
       "427   0.4167  0.1997    0.3385  44.0000  13.0000\n",
       "478   0.4167  0.1997    0.5459  25.0000  41.5792\n",
       "1305  0.2439  0.1997    0.3385  29.0000   7.8750"
      ]
     },
     "execution_count": 131,
     "metadata": {},
     "output_type": "execute_result"
    }
   ],
   "source": [
    "categorical_vars = ['pclass', 'sex', 'embarked']\n",
    "\n",
    "X_train_enc, X_test_enc = mean_encoding(X_train, X_test, categorical_vars) #X_train and X_test\n",
    "\n",
    "X_train_enc.head()"
   ]
  },
  {
   "cell_type": "code",
   "execution_count": 132,
   "id": "reasonable-rotation",
   "metadata": {
    "ExecuteTime": {
     "end_time": "2021-02-11T20:41:16.849165Z",
     "start_time": "2021-02-11T20:41:16.842348Z"
    }
   },
   "outputs": [],
   "source": [
    "roc_values = []\n",
    "\n",
    "for feature in categorical_vars:\n",
    "\n",
    "    roc_values.append(roc_auc_score(y_test, X_test_enc[feature]))"
   ]
  },
  {
   "cell_type": "code",
   "execution_count": 133,
   "id": "racial-baker",
   "metadata": {
    "ExecuteTime": {
     "end_time": "2021-02-11T20:41:16.856216Z",
     "start_time": "2021-02-11T20:41:16.850894Z"
    }
   },
   "outputs": [],
   "source": [
    "results = pd.Series(roc_values)\n",
    "results.index = X_train[categorical_vars].columns\n",
    "results.sort_values(ascending=False,inplace=True)\n",
    "results = pd.DataFrame(results).reset_index()"
   ]
  },
  {
   "cell_type": "code",
   "execution_count": 134,
   "id": "limiting-syria",
   "metadata": {
    "ExecuteTime": {
     "end_time": "2021-02-11T20:41:17.034848Z",
     "start_time": "2021-02-11T20:41:16.858011Z"
    }
   },
   "outputs": [
    {
     "data": {
      "text/plain": [
       "<AxesSubplot:xlabel='0', ylabel='index'>"
      ]
     },
     "execution_count": 134,
     "metadata": {},
     "output_type": "execute_result"
    },
    {
     "data": {
      "image/png": "[encoded data removed]",
      "text/plain": [
       "<Figure size 1080x720 with 1 Axes>"
      ]
     },
     "metadata": {},
     "output_type": "display_data"
    }
   ],
   "source": [
    "plt.figure(figsize=(15, 10))\n",
    "sns.barplot(data=results[:30], y=\"index\", x=0)  # sample 20 firsts"
   ]
  },
  {
   "cell_type": "markdown",
   "id": "several-indication",
   "metadata": {},
   "source": [
    "All the values are above 0.5 except sex and we can see that Pclass seems to be the most important one."
   ]
  },
  {
   "cell_type": "markdown",
   "id": "harmful-citation",
   "metadata": {},
   "source": [
    "### With bins"
   ]
  },
  {
   "cell_type": "code",
   "execution_count": 135,
   "id": "olive-denial",
   "metadata": {
    "ExecuteTime": {
     "end_time": "2021-02-11T20:41:18.421150Z",
     "start_time": "2021-02-11T20:41:18.416077Z"
    }
   },
   "outputs": [],
   "source": [
    "# Bin first the training set\n",
    "X_train['age_binned'], intervals = pd.qcut(\n",
    "    X_train['age'],\n",
    "    q=5,\n",
    "    labels=False,\n",
    "    retbins=True,\n",
    "    precision=3,\n",
    "    duplicates='drop',\n",
    ")\n",
    "\n",
    "\n",
    "# Then the testing set using the intervals from the training set\n",
    "X_test['age_binned'] = pd.cut(\n",
    "    x=X_test['age'], bins=intervals, labels=False)"
   ]
  },
  {
   "cell_type": "code",
   "execution_count": 136,
   "id": "presidential-cowboy",
   "metadata": {
    "ExecuteTime": {
     "end_time": "2021-02-11T20:41:19.086698Z",
     "start_time": "2021-02-11T20:41:19.080650Z"
    }
   },
   "outputs": [],
   "source": [
    "# Bin first the training set\n",
    "X_train['fare_binned'], intervals = pd.qcut(\n",
    "    X_train_titanic['fare'],\n",
    "    q=5,\n",
    "    labels=False,\n",
    "    retbins=True,\n",
    "    precision=3,\n",
    "    duplicates='drop',\n",
    ")\n",
    "\n",
    "\n",
    "# Then the testing set using the intervals from the training set\n",
    "X_test['fare_binned'] = pd.cut(\n",
    "    x=X_test['fare'], bins=intervals, labels=False)"
   ]
  },
  {
   "cell_type": "code",
   "execution_count": 137,
   "id": "foreign-apollo",
   "metadata": {
    "ExecuteTime": {
     "end_time": "2021-02-11T20:41:19.104448Z",
     "start_time": "2021-02-11T20:41:19.088095Z"
    }
   },
   "outputs": [
    {
     "data": {
      "text/html": [
       "<div>\n",
       "<style scoped>\n",
       "    .dataframe tbody tr th:only-of-type {\n",
       "        vertical-align: middle;\n",
       "    }\n",
       "\n",
       "    .dataframe tbody tr th {\n",
       "        vertical-align: top;\n",
       "    }\n",
       "\n",
       "    .dataframe thead th {\n",
       "        text-align: right;\n",
       "    }\n",
       "</style>\n",
       "<table border=\"1\" class=\"dataframe\">\n",
       "  <thead>\n",
       "    <tr style=\"text-align: right;\">\n",
       "      <th></th>\n",
       "      <th>age_binned</th>\n",
       "      <th>fare_binned</th>\n",
       "    </tr>\n",
       "  </thead>\n",
       "  <tbody>\n",
       "    <tr>\n",
       "      <th>840</th>\n",
       "      <td>0.2542</td>\n",
       "      <td>0.3475</td>\n",
       "    </tr>\n",
       "    <tr>\n",
       "      <th>866</th>\n",
       "      <td>0.4220</td>\n",
       "      <td>0.3487</td>\n",
       "    </tr>\n",
       "    <tr>\n",
       "      <th>427</th>\n",
       "      <td>0.4220</td>\n",
       "      <td>0.3487</td>\n",
       "    </tr>\n",
       "    <tr>\n",
       "      <th>478</th>\n",
       "      <td>0.3795</td>\n",
       "      <td>0.3487</td>\n",
       "    </tr>\n",
       "    <tr>\n",
       "      <th>1305</th>\n",
       "      <td>0.3795</td>\n",
       "      <td>0.3487</td>\n",
       "    </tr>\n",
       "  </tbody>\n",
       "</table>\n",
       "</div>"
      ],
      "text/plain": [
       "      age_binned  fare_binned\n",
       "840       0.2542       0.3475\n",
       "866       0.4220       0.3487\n",
       "427       0.4220       0.3487\n",
       "478       0.3795       0.3487\n",
       "1305      0.3795       0.3487"
      ]
     },
     "execution_count": 137,
     "metadata": {},
     "output_type": "execute_result"
    }
   ],
   "source": [
    "binned_vars = ['age_binned', 'fare_binned']\n",
    "\n",
    "X_train = X_train.fillna(0)\n",
    "X_test = X_test.fillna(0)\n",
    "\n",
    "\n",
    "X_train_enc, X_test_enc = mean_encoding(\n",
    "    X_train[binned_vars+['survived']], X_test[binned_vars+['survived']], binned_vars)\n",
    "\n",
    "X_train_enc.head()"
   ]
  },
  {
   "cell_type": "code",
   "execution_count": 138,
   "id": "popular-worse",
   "metadata": {
    "ExecuteTime": {
     "end_time": "2021-02-11T20:41:19.112721Z",
     "start_time": "2021-02-11T20:41:19.106304Z"
    }
   },
   "outputs": [],
   "source": [
    "roc_values = []\n",
    "\n",
    "for feature in binned_vars:\n",
    "    \n",
    "    roc_values.append(roc_auc_score(y_test, X_test_enc[feature]))"
   ]
  },
  {
   "cell_type": "code",
   "execution_count": 139,
   "id": "harmful-campbell",
   "metadata": {
    "ExecuteTime": {
     "end_time": "2021-02-11T20:41:20.436710Z",
     "start_time": "2021-02-11T20:41:20.432532Z"
    }
   },
   "outputs": [],
   "source": [
    "results = pd.Series(roc_values)\n",
    "results.index = X_train[binned_vars].columns\n",
    "results.sort_values(ascending=False,inplace=True)\n",
    "results = pd.DataFrame(results).reset_index()"
   ]
  },
  {
   "cell_type": "code",
   "execution_count": 140,
   "id": "romance-guide",
   "metadata": {
    "ExecuteTime": {
     "end_time": "2021-02-11T20:41:22.540775Z",
     "start_time": "2021-02-11T20:41:22.388968Z"
    }
   },
   "outputs": [
    {
     "data": {
      "text/plain": [
       "<AxesSubplot:xlabel='0', ylabel='index'>"
      ]
     },
     "execution_count": 140,
     "metadata": {},
     "output_type": "execute_result"
    },
    {
     "data": {
      "image/png": "[encoded data removed]",
      "text/plain": [
       "<Figure size 1080x720 with 1 Axes>"
      ]
     },
     "metadata": {},
     "output_type": "display_data"
    }
   ],
   "source": [
    "plt.figure(figsize=(15, 10))\n",
    "sns.barplot(data=results[:30], y=\"index\", x=0)  # sample 20 firsts"
   ]
  },
  {
   "cell_type": "markdown",
   "id": "ruled-expression",
   "metadata": {},
   "source": [
    "Fare is a good predictor of survival whereas age produced a ramdom output."
   ]
  },
  {
   "cell_type": "markdown",
   "id": "naval-chinese",
   "metadata": {},
   "source": [
    "Alternatively, instead of binning into quantiles, we can bin into equal-distance bins."
   ]
  },
  {
   "cell_type": "markdown",
   "id": "naughty-canvas",
   "metadata": {},
   "source": [
    "### Using Feature-Engine"
   ]
  },
  {
   "cell_type": "markdown",
   "id": "prepared-cosmetic",
   "metadata": {},
   "source": [
    "#### Univariate Classification"
   ]
  },
  {
   "cell_type": "code",
   "execution_count": 141,
   "id": "altered-membrane",
   "metadata": {
    "ExecuteTime": {
     "end_time": "2021-02-11T20:41:23.324615Z",
     "start_time": "2021-02-11T20:41:23.322218Z"
    }
   },
   "outputs": [],
   "source": [
    "from feature_engine.selection import SelectBySingleFeaturePerformance"
   ]
  },
  {
   "cell_type": "code",
   "execution_count": 142,
   "id": "confident-musician",
   "metadata": {
    "ExecuteTime": {
     "end_time": "2021-02-11T20:41:25.107681Z",
     "start_time": "2021-02-11T20:41:24.092360Z"
    }
   },
   "outputs": [],
   "source": [
    "data = pd.read_csv(\"./precleaned-datasets/dataset_2.csv\")"
   ]
  },
  {
   "cell_type": "code",
   "execution_count": 143,
   "id": "minute-calgary",
   "metadata": {
    "ExecuteTime": {
     "end_time": "2021-02-11T20:41:25.189889Z",
     "start_time": "2021-02-11T20:41:25.109665Z"
    }
   },
   "outputs": [],
   "source": [
    "X_train, X_test, y_train, y_test = train_test_split(data.drop(\n",
    "    labels=[\"target\"], axis=1), data[\"target\"], test_size=0.33, random_state=42)"
   ]
  },
  {
   "cell_type": "code",
   "execution_count": 144,
   "id": "differential-study",
   "metadata": {
    "ExecuteTime": {
     "end_time": "2021-02-11T20:41:25.194482Z",
     "start_time": "2021-02-11T20:41:25.191737Z"
    }
   },
   "outputs": [],
   "source": [
    "rf_clf = RandomForestClassifier(n_estimators = 10)\n",
    "\n",
    "sel = SelectBySingleFeaturePerformance(estimator=rf,\n",
    "                                       scoring='roc_auc',\n",
    "                                       cv=3,\n",
    "                                       threshold=0.5, #Above which the variables will be selected\n",
    "                                       variables=None)"
   ]
  },
  {
   "cell_type": "code",
   "execution_count": 145,
   "id": "falling-cancellation",
   "metadata": {
    "ExecuteTime": {
     "end_time": "2021-02-11T20:41:56.058862Z",
     "start_time": "2021-02-11T20:41:25.196395Z"
    }
   },
   "outputs": [
    {
     "data": {
      "text/plain": [
       "SelectBySingleFeaturePerformance(estimator=RandomForestClassifier(n_jobs=-1),\n",
       "                                 threshold=0.5,\n",
       "                                 variables=['var_1', 'var_2', 'var_3', 'var_4',\n",
       "                                            'var_5', 'var_6', 'var_7', 'var_8',\n",
       "                                            'var_9', 'var_10', 'var_11',\n",
       "                                            'var_12', 'var_13', 'var_14',\n",
       "                                            'var_15', 'var_16', 'var_17',\n",
       "                                            'var_18', 'var_19', 'var_20',\n",
       "                                            'var_21', 'var_22', 'var_23',\n",
       "                                            'var_24', 'var_25', 'var_26',\n",
       "                                            'var_27', 'var_28', 'var_29',\n",
       "                                            'var_30', ...])"
      ]
     },
     "execution_count": 145,
     "metadata": {},
     "output_type": "execute_result"
    }
   ],
   "source": [
    "sel.fit(X_train[:10],y_train[:10]) # sample"
   ]
  },
  {
   "cell_type": "code",
   "execution_count": 150,
   "id": "transsexual-parent",
   "metadata": {
    "ExecuteTime": {
     "end_time": "2021-02-11T20:42:56.941620Z",
     "start_time": "2021-02-11T20:42:56.938159Z"
    }
   },
   "outputs": [
    {
     "data": {
      "text/plain": [
       "0.2222222222222222"
      ]
     },
     "execution_count": 150,
     "metadata": {},
     "output_type": "execute_result"
    }
   ],
   "source": [
    "sel.feature_performance_[\"var_1\"] #sample"
   ]
  },
  {
   "cell_type": "code",
   "execution_count": 158,
   "id": "passive-courage",
   "metadata": {
    "ExecuteTime": {
     "end_time": "2021-02-11T20:45:01.646100Z",
     "start_time": "2021-02-11T20:45:01.284037Z"
    }
   },
   "outputs": [
    {
     "data": {
      "text/plain": [
       "<AxesSubplot:xlabel='0', ylabel='index'>"
      ]
     },
     "execution_count": 158,
     "metadata": {},
     "output_type": "execute_result"
    },
    {
     "data": {
      "image/png": "[encoded data removed]",
      "text/plain": [
       "<Figure size 1080x720 with 1 Axes>"
      ]
     },
     "metadata": {},
     "output_type": "display_data"
    }
   ],
   "source": [
    "results = pd.DataFrame(sel.feature_performance_.values(),index=sel.feature_performance_.keys()).reset_index()\n",
    "results.sort_values(by=0, ascending=False,inplace=True)\n",
    "plt.figure(figsize=(15, 10))\n",
    "sns.barplot(data=results[:30], y=\"index\", x=0)  # sample 30 firsts"
   ]
  },
  {
   "cell_type": "markdown",
   "id": "turned-patio",
   "metadata": {},
   "source": [
    "#### Univariate Regression"
   ]
  },
  {
   "cell_type": "code",
   "execution_count": 162,
   "id": "divine-fortune",
   "metadata": {
    "ExecuteTime": {
     "end_time": "2021-02-11T20:46:14.051678Z",
     "start_time": "2021-02-11T20:46:14.049311Z"
    }
   },
   "outputs": [],
   "source": [
    "from sklearn.ensemble import RandomForestRegressor"
   ]
  },
  {
   "cell_type": "code",
   "execution_count": 163,
   "id": "distributed-shopping",
   "metadata": {
    "ExecuteTime": {
     "end_time": "2021-02-11T20:46:28.352681Z",
     "start_time": "2021-02-11T20:46:28.349780Z"
    }
   },
   "outputs": [],
   "source": [
    "rf_reg = RandomForestRegressor(n_estimators = 10)\n",
    "\n",
    "sel = SelectBySingleFeaturePerformance(estimator=rf,\n",
    "                                       scoring='r2', # or neg rsme etc\n",
    "                                       cv=3,\n",
    "                                       threshold=0.5, #Above which the variables will be selected\n",
    "                                       variables=None)"
   ]
  },
  {
   "cell_type": "code",
   "execution_count": 165,
   "id": "adjacent-overall",
   "metadata": {
    "ExecuteTime": {
     "end_time": "2021-02-11T20:47:19.181539Z",
     "start_time": "2021-02-11T20:47:05.227900Z"
    },
    "scrolled": false
   },
   "outputs": [
    {
     "name": "stderr",
     "output_type": "stream",
     "text": [
      "/Users/alexandrecasula/opt/anaconda3/envs/ML/lib/python3.8/site-packages/sklearn/model_selection/_split.py:670: UserWarning: The least populated class in y has only 1 members, which is less than n_splits=3.\n",
      "  warnings.warn((\"The least populated class in y has only %d\"\n",
      "/Users/alexandrecasula/opt/anaconda3/envs/ML/lib/python3.8/site-packages/sklearn/model_selection/_split.py:670: UserWarning: The least populated class in y has only 1 members, which is less than n_splits=3.\n",
      "  warnings.warn((\"The least populated class in y has only %d\"\n",
      "/Users/alexandrecasula/opt/anaconda3/envs/ML/lib/python3.8/site-packages/sklearn/model_selection/_split.py:670: UserWarning: The least populated class in y has only 1 members, which is less than n_splits=3.\n",
      "  warnings.warn((\"The least populated class in y has only %d\"\n",
      "/Users/alexandrecasula/opt/anaconda3/envs/ML/lib/python3.8/site-packages/sklearn/model_selection/_validation.py:548: FitFailedWarning: Estimator fit failed. The score on this train-test partition for these parameters will be set to nan. Details: \n",
      "Traceback (most recent call last):\n",
      "  File \"/Users/alexandrecasula/opt/anaconda3/envs/ML/lib/python3.8/site-packages/sklearn/model_selection/_validation.py\", line 531, in _fit_and_score\n",
      "    estimator.fit(X_train, y_train, **fit_params)\n",
      "  File \"/Users/alexandrecasula/opt/anaconda3/envs/ML/lib/python3.8/site-packages/sklearn/ensemble/_forest.py\", line 303, in fit\n",
      "    X, y = self._validate_data(X, y, multi_output=True,\n",
      "  File \"/Users/alexandrecasula/opt/anaconda3/envs/ML/lib/python3.8/site-packages/sklearn/base.py\", line 432, in _validate_data\n",
      "    X, y = check_X_y(X, y, **check_params)\n",
      "  File \"/Users/alexandrecasula/opt/anaconda3/envs/ML/lib/python3.8/site-packages/sklearn/utils/validation.py\", line 72, in inner_f\n",
      "    return f(**kwargs)\n",
      "  File \"/Users/alexandrecasula/opt/anaconda3/envs/ML/lib/python3.8/site-packages/sklearn/utils/validation.py\", line 795, in check_X_y\n",
      "    X = check_array(X, accept_sparse=accept_sparse,\n",
      "  File \"/Users/alexandrecasula/opt/anaconda3/envs/ML/lib/python3.8/site-packages/sklearn/utils/validation.py\", line 72, in inner_f\n",
      "    return f(**kwargs)\n",
      "  File \"/Users/alexandrecasula/opt/anaconda3/envs/ML/lib/python3.8/site-packages/sklearn/utils/validation.py\", line 644, in check_array\n",
      "    _assert_all_finite(array,\n",
      "  File \"/Users/alexandrecasula/opt/anaconda3/envs/ML/lib/python3.8/site-packages/sklearn/utils/validation.py\", line 96, in _assert_all_finite\n",
      "    raise ValueError(\n",
      "ValueError: Input contains NaN, infinity or a value too large for dtype('float32').\n",
      "\n",
      "  warnings.warn(\"Estimator fit failed. The score on this train-test\"\n",
      "/Users/alexandrecasula/opt/anaconda3/envs/ML/lib/python3.8/site-packages/sklearn/model_selection/_validation.py:548: FitFailedWarning: Estimator fit failed. The score on this train-test partition for these parameters will be set to nan. Details: \n",
      "Traceback (most recent call last):\n",
      "  File \"/Users/alexandrecasula/opt/anaconda3/envs/ML/lib/python3.8/site-packages/sklearn/model_selection/_validation.py\", line 531, in _fit_and_score\n",
      "    estimator.fit(X_train, y_train, **fit_params)\n",
      "  File \"/Users/alexandrecasula/opt/anaconda3/envs/ML/lib/python3.8/site-packages/sklearn/ensemble/_forest.py\", line 303, in fit\n",
      "    X, y = self._validate_data(X, y, multi_output=True,\n",
      "  File \"/Users/alexandrecasula/opt/anaconda3/envs/ML/lib/python3.8/site-packages/sklearn/base.py\", line 432, in _validate_data\n",
      "    X, y = check_X_y(X, y, **check_params)\n",
      "  File \"/Users/alexandrecasula/opt/anaconda3/envs/ML/lib/python3.8/site-packages/sklearn/utils/validation.py\", line 72, in inner_f\n",
      "    return f(**kwargs)\n",
      "  File \"/Users/alexandrecasula/opt/anaconda3/envs/ML/lib/python3.8/site-packages/sklearn/utils/validation.py\", line 795, in check_X_y\n",
      "    X = check_array(X, accept_sparse=accept_sparse,\n",
      "  File \"/Users/alexandrecasula/opt/anaconda3/envs/ML/lib/python3.8/site-packages/sklearn/utils/validation.py\", line 72, in inner_f\n",
      "    return f(**kwargs)\n",
      "  File \"/Users/alexandrecasula/opt/anaconda3/envs/ML/lib/python3.8/site-packages/sklearn/utils/validation.py\", line 644, in check_array\n",
      "    _assert_all_finite(array,\n",
      "  File \"/Users/alexandrecasula/opt/anaconda3/envs/ML/lib/python3.8/site-packages/sklearn/utils/validation.py\", line 96, in _assert_all_finite\n",
      "    raise ValueError(\n",
      "ValueError: Input contains NaN, infinity or a value too large for dtype('float32').\n",
      "\n",
      "  warnings.warn(\"Estimator fit failed. The score on this train-test\"\n",
      "/Users/alexandrecasula/opt/anaconda3/envs/ML/lib/python3.8/site-packages/sklearn/model_selection/_validation.py:548: FitFailedWarning: Estimator fit failed. The score on this train-test partition for these parameters will be set to nan. Details: \n",
      "Traceback (most recent call last):\n",
      "  File \"/Users/alexandrecasula/opt/anaconda3/envs/ML/lib/python3.8/site-packages/sklearn/model_selection/_validation.py\", line 531, in _fit_and_score\n",
      "    estimator.fit(X_train, y_train, **fit_params)\n",
      "  File \"/Users/alexandrecasula/opt/anaconda3/envs/ML/lib/python3.8/site-packages/sklearn/ensemble/_forest.py\", line 303, in fit\n",
      "    X, y = self._validate_data(X, y, multi_output=True,\n",
      "  File \"/Users/alexandrecasula/opt/anaconda3/envs/ML/lib/python3.8/site-packages/sklearn/base.py\", line 432, in _validate_data\n",
      "    X, y = check_X_y(X, y, **check_params)\n",
      "  File \"/Users/alexandrecasula/opt/anaconda3/envs/ML/lib/python3.8/site-packages/sklearn/utils/validation.py\", line 72, in inner_f\n",
      "    return f(**kwargs)\n",
      "  File \"/Users/alexandrecasula/opt/anaconda3/envs/ML/lib/python3.8/site-packages/sklearn/utils/validation.py\", line 795, in check_X_y\n",
      "    X = check_array(X, accept_sparse=accept_sparse,\n",
      "  File \"/Users/alexandrecasula/opt/anaconda3/envs/ML/lib/python3.8/site-packages/sklearn/utils/validation.py\", line 72, in inner_f\n",
      "    return f(**kwargs)\n",
      "  File \"/Users/alexandrecasula/opt/anaconda3/envs/ML/lib/python3.8/site-packages/sklearn/utils/validation.py\", line 644, in check_array\n",
      "    _assert_all_finite(array,\n",
      "  File \"/Users/alexandrecasula/opt/anaconda3/envs/ML/lib/python3.8/site-packages/sklearn/utils/validation.py\", line 96, in _assert_all_finite\n",
      "    raise ValueError(\n",
      "ValueError: Input contains NaN, infinity or a value too large for dtype('float32').\n",
      "\n",
      "  warnings.warn(\"Estimator fit failed. The score on this train-test\"\n",
      "/Users/alexandrecasula/opt/anaconda3/envs/ML/lib/python3.8/site-packages/sklearn/model_selection/_split.py:670: UserWarning: The least populated class in y has only 1 members, which is less than n_splits=3.\n",
      "  warnings.warn((\"The least populated class in y has only %d\"\n",
      "/Users/alexandrecasula/opt/anaconda3/envs/ML/lib/python3.8/site-packages/sklearn/model_selection/_split.py:670: UserWarning: The least populated class in y has only 1 members, which is less than n_splits=3.\n",
      "  warnings.warn((\"The least populated class in y has only %d\"\n",
      "/Users/alexandrecasula/opt/anaconda3/envs/ML/lib/python3.8/site-packages/sklearn/model_selection/_split.py:670: UserWarning: The least populated class in y has only 1 members, which is less than n_splits=3.\n",
      "  warnings.warn((\"The least populated class in y has only %d\"\n",
      "/Users/alexandrecasula/opt/anaconda3/envs/ML/lib/python3.8/site-packages/sklearn/model_selection/_split.py:670: UserWarning: The least populated class in y has only 1 members, which is less than n_splits=3.\n",
      "  warnings.warn((\"The least populated class in y has only %d\"\n",
      "/Users/alexandrecasula/opt/anaconda3/envs/ML/lib/python3.8/site-packages/sklearn/model_selection/_split.py:670: UserWarning: The least populated class in y has only 1 members, which is less than n_splits=3.\n",
      "  warnings.warn((\"The least populated class in y has only %d\"\n",
      "/Users/alexandrecasula/opt/anaconda3/envs/ML/lib/python3.8/site-packages/sklearn/model_selection/_split.py:670: UserWarning: The least populated class in y has only 1 members, which is less than n_splits=3.\n",
      "  warnings.warn((\"The least populated class in y has only %d\"\n",
      "/Users/alexandrecasula/opt/anaconda3/envs/ML/lib/python3.8/site-packages/sklearn/model_selection/_split.py:670: UserWarning: The least populated class in y has only 1 members, which is less than n_splits=3.\n",
      "  warnings.warn((\"The least populated class in y has only %d\"\n",
      "/Users/alexandrecasula/opt/anaconda3/envs/ML/lib/python3.8/site-packages/sklearn/model_selection/_split.py:670: UserWarning: The least populated class in y has only 1 members, which is less than n_splits=3.\n",
      "  warnings.warn((\"The least populated class in y has only %d\"\n"
     ]
    },
    {
     "name": "stderr",
     "output_type": "stream",
     "text": [
      "/Users/alexandrecasula/opt/anaconda3/envs/ML/lib/python3.8/site-packages/sklearn/model_selection/_split.py:670: UserWarning: The least populated class in y has only 1 members, which is less than n_splits=3.\n",
      "  warnings.warn((\"The least populated class in y has only %d\"\n",
      "/Users/alexandrecasula/opt/anaconda3/envs/ML/lib/python3.8/site-packages/sklearn/model_selection/_split.py:670: UserWarning: The least populated class in y has only 1 members, which is less than n_splits=3.\n",
      "  warnings.warn((\"The least populated class in y has only %d\"\n",
      "/Users/alexandrecasula/opt/anaconda3/envs/ML/lib/python3.8/site-packages/sklearn/model_selection/_split.py:670: UserWarning: The least populated class in y has only 1 members, which is less than n_splits=3.\n",
      "  warnings.warn((\"The least populated class in y has only %d\"\n",
      "/Users/alexandrecasula/opt/anaconda3/envs/ML/lib/python3.8/site-packages/sklearn/model_selection/_split.py:670: UserWarning: The least populated class in y has only 1 members, which is less than n_splits=3.\n",
      "  warnings.warn((\"The least populated class in y has only %d\"\n",
      "/Users/alexandrecasula/opt/anaconda3/envs/ML/lib/python3.8/site-packages/sklearn/model_selection/_split.py:670: UserWarning: The least populated class in y has only 1 members, which is less than n_splits=3.\n",
      "  warnings.warn((\"The least populated class in y has only %d\"\n",
      "/Users/alexandrecasula/opt/anaconda3/envs/ML/lib/python3.8/site-packages/sklearn/model_selection/_split.py:670: UserWarning: The least populated class in y has only 1 members, which is less than n_splits=3.\n",
      "  warnings.warn((\"The least populated class in y has only %d\"\n",
      "/Users/alexandrecasula/opt/anaconda3/envs/ML/lib/python3.8/site-packages/sklearn/model_selection/_split.py:670: UserWarning: The least populated class in y has only 1 members, which is less than n_splits=3.\n",
      "  warnings.warn((\"The least populated class in y has only %d\"\n",
      "/Users/alexandrecasula/opt/anaconda3/envs/ML/lib/python3.8/site-packages/sklearn/model_selection/_split.py:670: UserWarning: The least populated class in y has only 1 members, which is less than n_splits=3.\n",
      "  warnings.warn((\"The least populated class in y has only %d\"\n",
      "/Users/alexandrecasula/opt/anaconda3/envs/ML/lib/python3.8/site-packages/sklearn/model_selection/_split.py:670: UserWarning: The least populated class in y has only 1 members, which is less than n_splits=3.\n",
      "  warnings.warn((\"The least populated class in y has only %d\"\n",
      "/Users/alexandrecasula/opt/anaconda3/envs/ML/lib/python3.8/site-packages/sklearn/model_selection/_split.py:670: UserWarning: The least populated class in y has only 1 members, which is less than n_splits=3.\n",
      "  warnings.warn((\"The least populated class in y has only %d\"\n",
      "/Users/alexandrecasula/opt/anaconda3/envs/ML/lib/python3.8/site-packages/sklearn/model_selection/_split.py:670: UserWarning: The least populated class in y has only 1 members, which is less than n_splits=3.\n",
      "  warnings.warn((\"The least populated class in y has only %d\"\n",
      "/Users/alexandrecasula/opt/anaconda3/envs/ML/lib/python3.8/site-packages/sklearn/model_selection/_split.py:670: UserWarning: The least populated class in y has only 1 members, which is less than n_splits=3.\n",
      "  warnings.warn((\"The least populated class in y has only %d\"\n",
      "/Users/alexandrecasula/opt/anaconda3/envs/ML/lib/python3.8/site-packages/sklearn/model_selection/_split.py:670: UserWarning: The least populated class in y has only 1 members, which is less than n_splits=3.\n",
      "  warnings.warn((\"The least populated class in y has only %d\"\n",
      "/Users/alexandrecasula/opt/anaconda3/envs/ML/lib/python3.8/site-packages/sklearn/model_selection/_split.py:670: UserWarning: The least populated class in y has only 1 members, which is less than n_splits=3.\n",
      "  warnings.warn((\"The least populated class in y has only %d\"\n",
      "/Users/alexandrecasula/opt/anaconda3/envs/ML/lib/python3.8/site-packages/sklearn/model_selection/_split.py:670: UserWarning: The least populated class in y has only 1 members, which is less than n_splits=3.\n",
      "  warnings.warn((\"The least populated class in y has only %d\"\n",
      "/Users/alexandrecasula/opt/anaconda3/envs/ML/lib/python3.8/site-packages/sklearn/model_selection/_validation.py:548: FitFailedWarning: Estimator fit failed. The score on this train-test partition for these parameters will be set to nan. Details: \n",
      "Traceback (most recent call last):\n",
      "  File \"/Users/alexandrecasula/opt/anaconda3/envs/ML/lib/python3.8/site-packages/sklearn/model_selection/_validation.py\", line 531, in _fit_and_score\n",
      "    estimator.fit(X_train, y_train, **fit_params)\n",
      "  File \"/Users/alexandrecasula/opt/anaconda3/envs/ML/lib/python3.8/site-packages/sklearn/ensemble/_forest.py\", line 303, in fit\n",
      "    X, y = self._validate_data(X, y, multi_output=True,\n",
      "  File \"/Users/alexandrecasula/opt/anaconda3/envs/ML/lib/python3.8/site-packages/sklearn/base.py\", line 432, in _validate_data\n",
      "    X, y = check_X_y(X, y, **check_params)\n",
      "  File \"/Users/alexandrecasula/opt/anaconda3/envs/ML/lib/python3.8/site-packages/sklearn/utils/validation.py\", line 72, in inner_f\n",
      "    return f(**kwargs)\n",
      "  File \"/Users/alexandrecasula/opt/anaconda3/envs/ML/lib/python3.8/site-packages/sklearn/utils/validation.py\", line 795, in check_X_y\n",
      "    X = check_array(X, accept_sparse=accept_sparse,\n",
      "  File \"/Users/alexandrecasula/opt/anaconda3/envs/ML/lib/python3.8/site-packages/sklearn/utils/validation.py\", line 72, in inner_f\n",
      "    return f(**kwargs)\n",
      "  File \"/Users/alexandrecasula/opt/anaconda3/envs/ML/lib/python3.8/site-packages/sklearn/utils/validation.py\", line 644, in check_array\n",
      "    _assert_all_finite(array,\n",
      "  File \"/Users/alexandrecasula/opt/anaconda3/envs/ML/lib/python3.8/site-packages/sklearn/utils/validation.py\", line 96, in _assert_all_finite\n",
      "    raise ValueError(\n",
      "ValueError: Input contains NaN, infinity or a value too large for dtype('float32').\n",
      "\n",
      "  warnings.warn(\"Estimator fit failed. The score on this train-test\"\n",
      "/Users/alexandrecasula/opt/anaconda3/envs/ML/lib/python3.8/site-packages/sklearn/model_selection/_validation.py:548: FitFailedWarning: Estimator fit failed. The score on this train-test partition for these parameters will be set to nan. Details: \n",
      "Traceback (most recent call last):\n",
      "  File \"/Users/alexandrecasula/opt/anaconda3/envs/ML/lib/python3.8/site-packages/sklearn/model_selection/_validation.py\", line 531, in _fit_and_score\n",
      "    estimator.fit(X_train, y_train, **fit_params)\n",
      "  File \"/Users/alexandrecasula/opt/anaconda3/envs/ML/lib/python3.8/site-packages/sklearn/ensemble/_forest.py\", line 303, in fit\n",
      "    X, y = self._validate_data(X, y, multi_output=True,\n",
      "  File \"/Users/alexandrecasula/opt/anaconda3/envs/ML/lib/python3.8/site-packages/sklearn/base.py\", line 432, in _validate_data\n",
      "    X, y = check_X_y(X, y, **check_params)\n",
      "  File \"/Users/alexandrecasula/opt/anaconda3/envs/ML/lib/python3.8/site-packages/sklearn/utils/validation.py\", line 72, in inner_f\n",
      "    return f(**kwargs)\n",
      "  File \"/Users/alexandrecasula/opt/anaconda3/envs/ML/lib/python3.8/site-packages/sklearn/utils/validation.py\", line 795, in check_X_y\n",
      "    X = check_array(X, accept_sparse=accept_sparse,\n",
      "  File \"/Users/alexandrecasula/opt/anaconda3/envs/ML/lib/python3.8/site-packages/sklearn/utils/validation.py\", line 72, in inner_f\n",
      "    return f(**kwargs)\n",
      "  File \"/Users/alexandrecasula/opt/anaconda3/envs/ML/lib/python3.8/site-packages/sklearn/utils/validation.py\", line 644, in check_array\n",
      "    _assert_all_finite(array,\n",
      "  File \"/Users/alexandrecasula/opt/anaconda3/envs/ML/lib/python3.8/site-packages/sklearn/utils/validation.py\", line 96, in _assert_all_finite\n",
      "    raise ValueError(\n",
      "ValueError: Input contains NaN, infinity or a value too large for dtype('float32').\n",
      "\n",
      "  warnings.warn(\"Estimator fit failed. The score on this train-test\"\n",
      "/Users/alexandrecasula/opt/anaconda3/envs/ML/lib/python3.8/site-packages/sklearn/model_selection/_validation.py:548: FitFailedWarning: Estimator fit failed. The score on this train-test partition for these parameters will be set to nan. Details: \n",
      "Traceback (most recent call last):\n",
      "  File \"/Users/alexandrecasula/opt/anaconda3/envs/ML/lib/python3.8/site-packages/sklearn/model_selection/_validation.py\", line 531, in _fit_and_score\n",
      "    estimator.fit(X_train, y_train, **fit_params)\n",
      "  File \"/Users/alexandrecasula/opt/anaconda3/envs/ML/lib/python3.8/site-packages/sklearn/ensemble/_forest.py\", line 303, in fit\n",
      "    X, y = self._validate_data(X, y, multi_output=True,\n",
      "  File \"/Users/alexandrecasula/opt/anaconda3/envs/ML/lib/python3.8/site-packages/sklearn/base.py\", line 432, in _validate_data\n",
      "    X, y = check_X_y(X, y, **check_params)\n",
      "  File \"/Users/alexandrecasula/opt/anaconda3/envs/ML/lib/python3.8/site-packages/sklearn/utils/validation.py\", line 72, in inner_f\n",
      "    return f(**kwargs)\n",
      "  File \"/Users/alexandrecasula/opt/anaconda3/envs/ML/lib/python3.8/site-packages/sklearn/utils/validation.py\", line 795, in check_X_y\n",
      "    X = check_array(X, accept_sparse=accept_sparse,\n",
      "  File \"/Users/alexandrecasula/opt/anaconda3/envs/ML/lib/python3.8/site-packages/sklearn/utils/validation.py\", line 72, in inner_f\n",
      "    return f(**kwargs)\n",
      "  File \"/Users/alexandrecasula/opt/anaconda3/envs/ML/lib/python3.8/site-packages/sklearn/utils/validation.py\", line 644, in check_array\n",
      "    _assert_all_finite(array,\n",
      "  File \"/Users/alexandrecasula/opt/anaconda3/envs/ML/lib/python3.8/site-packages/sklearn/utils/validation.py\", line 96, in _assert_all_finite\n",
      "    raise ValueError(\n",
      "ValueError: Input contains NaN, infinity or a value too large for dtype('float32').\n",
      "\n",
      "  warnings.warn(\"Estimator fit failed. The score on this train-test\"\n",
      "/Users/alexandrecasula/opt/anaconda3/envs/ML/lib/python3.8/site-packages/sklearn/model_selection/_split.py:670: UserWarning: The least populated class in y has only 1 members, which is less than n_splits=3.\n",
      "  warnings.warn((\"The least populated class in y has only %d\"\n"
     ]
    },
    {
     "name": "stderr",
     "output_type": "stream",
     "text": [
      "/Users/alexandrecasula/opt/anaconda3/envs/ML/lib/python3.8/site-packages/sklearn/model_selection/_split.py:670: UserWarning: The least populated class in y has only 1 members, which is less than n_splits=3.\n",
      "  warnings.warn((\"The least populated class in y has only %d\"\n",
      "/Users/alexandrecasula/opt/anaconda3/envs/ML/lib/python3.8/site-packages/sklearn/model_selection/_split.py:670: UserWarning: The least populated class in y has only 1 members, which is less than n_splits=3.\n",
      "  warnings.warn((\"The least populated class in y has only %d\"\n",
      "/Users/alexandrecasula/opt/anaconda3/envs/ML/lib/python3.8/site-packages/sklearn/model_selection/_split.py:670: UserWarning: The least populated class in y has only 1 members, which is less than n_splits=3.\n",
      "  warnings.warn((\"The least populated class in y has only %d\"\n",
      "/Users/alexandrecasula/opt/anaconda3/envs/ML/lib/python3.8/site-packages/sklearn/model_selection/_split.py:670: UserWarning: The least populated class in y has only 1 members, which is less than n_splits=3.\n",
      "  warnings.warn((\"The least populated class in y has only %d\"\n",
      "/Users/alexandrecasula/opt/anaconda3/envs/ML/lib/python3.8/site-packages/sklearn/model_selection/_split.py:670: UserWarning: The least populated class in y has only 1 members, which is less than n_splits=3.\n",
      "  warnings.warn((\"The least populated class in y has only %d\"\n",
      "/Users/alexandrecasula/opt/anaconda3/envs/ML/lib/python3.8/site-packages/sklearn/model_selection/_split.py:670: UserWarning: The least populated class in y has only 1 members, which is less than n_splits=3.\n",
      "  warnings.warn((\"The least populated class in y has only %d\"\n",
      "/Users/alexandrecasula/opt/anaconda3/envs/ML/lib/python3.8/site-packages/sklearn/model_selection/_split.py:670: UserWarning: The least populated class in y has only 1 members, which is less than n_splits=3.\n",
      "  warnings.warn((\"The least populated class in y has only %d\"\n",
      "/Users/alexandrecasula/opt/anaconda3/envs/ML/lib/python3.8/site-packages/sklearn/model_selection/_split.py:670: UserWarning: The least populated class in y has only 1 members, which is less than n_splits=3.\n",
      "  warnings.warn((\"The least populated class in y has only %d\"\n",
      "/Users/alexandrecasula/opt/anaconda3/envs/ML/lib/python3.8/site-packages/sklearn/model_selection/_split.py:670: UserWarning: The least populated class in y has only 1 members, which is less than n_splits=3.\n",
      "  warnings.warn((\"The least populated class in y has only %d\"\n",
      "/Users/alexandrecasula/opt/anaconda3/envs/ML/lib/python3.8/site-packages/sklearn/model_selection/_split.py:670: UserWarning: The least populated class in y has only 1 members, which is less than n_splits=3.\n",
      "  warnings.warn((\"The least populated class in y has only %d\"\n"
     ]
    },
    {
     "data": {
      "text/plain": [
       "SelectBySingleFeaturePerformance(estimator=RandomForestClassifier(n_jobs=-1),\n",
       "                                 scoring='r2', threshold=0.5,\n",
       "                                 variables=['Id', 'MSSubClass', 'LotFrontage',\n",
       "                                            'LotArea', 'OverallQual',\n",
       "                                            'OverallCond', 'YearBuilt',\n",
       "                                            'YearRemodAdd', 'MasVnrArea',\n",
       "                                            'BsmtFinSF1', 'BsmtFinSF2',\n",
       "                                            'BsmtUnfSF', 'TotalBsmtSF',\n",
       "                                            '1stFlrSF', '2ndFlrSF',\n",
       "                                            'LowQualFinSF', 'GrLivArea',\n",
       "                                            'BsmtFullBath', 'BsmtHalfBath',\n",
       "                                            'FullBath', 'HalfBath',\n",
       "                                            'BedroomAbvGr', 'KitchenAbvGr',\n",
       "                                            'TotRmsAbvGrd', 'Fireplaces',\n",
       "                                            'GarageYrBlt', 'GarageCars',\n",
       "                                            'GarageArea', 'WoodDeckSF',\n",
       "                                            'OpenPorchSF', ...])"
      ]
     },
     "execution_count": 165,
     "metadata": {},
     "output_type": "execute_result"
    }
   ],
   "source": [
    "sel.fit(X_train_housing[:100],y_train_housing[:100]) # sample"
   ]
  },
  {
   "cell_type": "code",
   "execution_count": 181,
   "id": "respiratory-insurance",
   "metadata": {
    "ExecuteTime": {
     "end_time": "2021-02-11T20:50:16.996846Z",
     "start_time": "2021-02-11T20:50:16.604231Z"
    }
   },
   "outputs": [
    {
     "data": {
      "text/plain": [
       "<AxesSubplot:xlabel='0', ylabel='index'>"
      ]
     },
     "execution_count": 181,
     "metadata": {},
     "output_type": "execute_result"
    },
    {
     "data": {
      "image/png": "[encoded data removed]",
      "text/plain": [
       "<Figure size 1080x720 with 1 Axes>"
      ]
     },
     "metadata": {},
     "output_type": "display_data"
    }
   ],
   "source": [
    "results = pd.DataFrame(sel.feature_performance_.values(),index=sel.feature_performance_.keys()).reset_index()\n",
    "results[0] = abs(results[0])\n",
    "results.sort_values(by=0, ascending=False,inplace=True)\n",
    "plt.figure(figsize=(15, 10))\n",
    "sns.barplot(data=results[:30], y=\"index\", x=abs(0))  # sample 30 firsts"
   ]
  },
  {
   "cell_type": "markdown",
   "id": "interim-worker",
   "metadata": {},
   "source": [
    "#### Target Mean Encoding"
   ]
  },
  {
   "cell_type": "code",
   "execution_count": 182,
   "id": "seeing-departure",
   "metadata": {
    "ExecuteTime": {
     "end_time": "2021-02-11T20:51:46.039275Z",
     "start_time": "2021-02-11T20:51:46.036873Z"
    }
   },
   "outputs": [],
   "source": [
    "from feature_engine.selection import SelectByTargetMeanPerformance"
   ]
  },
  {
   "cell_type": "code",
   "execution_count": 184,
   "id": "impressive-dependence",
   "metadata": {
    "ExecuteTime": {
     "end_time": "2021-02-11T20:52:27.596327Z",
     "start_time": "2021-02-11T20:52:27.462319Z"
    }
   },
   "outputs": [
    {
     "data": {
      "text/plain": [
       "SelectByTargetMeanPerformance(bins=3, cv=2, random_state=1,\n",
       "                              strategy='equal_frequency', threshold=0.6,\n",
       "                              variables=['pclass', 'sex', 'age', 'sibsp',\n",
       "                                         'parch', 'fare', 'embarked'])"
      ]
     },
     "execution_count": 184,
     "metadata": {},
     "output_type": "execute_result"
    }
   ],
   "source": [
    "sel = SelectByTargetMeanPerformance(\n",
    "    variables=None, # automatically finds categorical and numerical variables\n",
    "    scoring=\"roc_auc_score\", # the metric to evaluate performance\n",
    "    threshold=0.6, # the threshold for feature selection, \n",
    "    bins=3, # the number of intervals to discretise the numerical variables\n",
    "    strategy=\"equal_frequency\", # whether the intervals should be of equal size or equal number of observations\n",
    "    cv=2,# cross validation\n",
    "    random_state=1, #seed for reproducibility\n",
    ")\n",
    "\n",
    "sel.fit(X_train_titanic, y_train_titanic)"
   ]
  },
  {
   "cell_type": "code",
   "execution_count": 191,
   "id": "legendary-probe",
   "metadata": {
    "ExecuteTime": {
     "end_time": "2021-02-11T20:53:32.552359Z",
     "start_time": "2021-02-11T20:53:32.543446Z"
    }
   },
   "outputs": [
    {
     "data": {
      "text/html": [
       "<div>\n",
       "<style scoped>\n",
       "    .dataframe tbody tr th:only-of-type {\n",
       "        vertical-align: middle;\n",
       "    }\n",
       "\n",
       "    .dataframe tbody tr th {\n",
       "        vertical-align: top;\n",
       "    }\n",
       "\n",
       "    .dataframe thead th {\n",
       "        text-align: right;\n",
       "    }\n",
       "</style>\n",
       "<table border=\"1\" class=\"dataframe\">\n",
       "  <thead>\n",
       "    <tr style=\"text-align: right;\">\n",
       "      <th></th>\n",
       "      <th>pclass</th>\n",
       "      <th>sex</th>\n",
       "      <th>age</th>\n",
       "      <th>sibsp</th>\n",
       "      <th>parch</th>\n",
       "      <th>fare</th>\n",
       "      <th>embarked</th>\n",
       "    </tr>\n",
       "  </thead>\n",
       "  <tbody>\n",
       "    <tr>\n",
       "      <th>737</th>\n",
       "      <td>3</td>\n",
       "      <td>1</td>\n",
       "      <td>44.0</td>\n",
       "      <td>0</td>\n",
       "      <td>1</td>\n",
       "      <td>16.1000</td>\n",
       "      <td>0</td>\n",
       "    </tr>\n",
       "    <tr>\n",
       "      <th>314</th>\n",
       "      <td>1</td>\n",
       "      <td>1</td>\n",
       "      <td>51.0</td>\n",
       "      <td>0</td>\n",
       "      <td>1</td>\n",
       "      <td>61.3792</td>\n",
       "      <td>1</td>\n",
       "    </tr>\n",
       "    <tr>\n",
       "      <th>1057</th>\n",
       "      <td>3</td>\n",
       "      <td>1</td>\n",
       "      <td>28.0</td>\n",
       "      <td>0</td>\n",
       "      <td>0</td>\n",
       "      <td>8.0500</td>\n",
       "      <td>0</td>\n",
       "    </tr>\n",
       "    <tr>\n",
       "      <th>319</th>\n",
       "      <td>1</td>\n",
       "      <td>1</td>\n",
       "      <td>62.0</td>\n",
       "      <td>0</td>\n",
       "      <td>0</td>\n",
       "      <td>26.5500</td>\n",
       "      <td>0</td>\n",
       "    </tr>\n",
       "    <tr>\n",
       "      <th>618</th>\n",
       "      <td>3</td>\n",
       "      <td>1</td>\n",
       "      <td>32.0</td>\n",
       "      <td>0</td>\n",
       "      <td>0</td>\n",
       "      <td>22.5250</td>\n",
       "      <td>0</td>\n",
       "    </tr>\n",
       "  </tbody>\n",
       "</table>\n",
       "</div>"
      ],
      "text/plain": [
       "      pclass  sex   age  sibsp  parch     fare  embarked\n",
       "737        3    1  44.0      0      1  16.1000         0\n",
       "314        1    1  51.0      0      1  61.3792         1\n",
       "1057       3    1  28.0      0      0   8.0500         0\n",
       "319        1    1  62.0      0      0  26.5500         0\n",
       "618        3    1  32.0      0      0  22.5250         0"
      ]
     },
     "execution_count": 191,
     "metadata": {},
     "output_type": "execute_result"
    }
   ],
   "source": [
    "X_train_titanic.head()"
   ]
  },
  {
   "cell_type": "code",
   "execution_count": 187,
   "id": "numerical-counter",
   "metadata": {
    "ExecuteTime": {
     "end_time": "2021-02-11T20:52:49.302299Z",
     "start_time": "2021-02-11T20:52:49.299049Z"
    }
   },
   "outputs": [
    {
     "data": {
      "text/plain": [
       "[]"
      ]
     },
     "execution_count": 187,
     "metadata": {},
     "output_type": "execute_result"
    }
   ],
   "source": [
    "sel.variables_categorical_"
   ]
  },
  {
   "cell_type": "code",
   "execution_count": 189,
   "id": "generic-communist",
   "metadata": {
    "ExecuteTime": {
     "end_time": "2021-02-11T20:53:04.799207Z",
     "start_time": "2021-02-11T20:53:04.795921Z"
    }
   },
   "outputs": [
    {
     "data": {
      "text/plain": [
       "['pclass', 'sex', 'age', 'sibsp', 'parch', 'fare', 'embarked']"
      ]
     },
     "execution_count": 189,
     "metadata": {},
     "output_type": "execute_result"
    }
   ],
   "source": [
    "sel.variables_numerical_"
   ]
  },
  {
   "cell_type": "code",
   "execution_count": 192,
   "id": "comprehensive-prison",
   "metadata": {
    "ExecuteTime": {
     "end_time": "2021-02-11T20:53:40.883113Z",
     "start_time": "2021-02-11T20:53:40.879326Z"
    }
   },
   "outputs": [
    {
     "data": {
      "text/plain": [
       "{'pclass': 0.6575508240037204,\n",
       " 'sex': 0.5,\n",
       " 'age': 0.5560529968556911,\n",
       " 'sibsp': 0.5174658674658674,\n",
       " 'parch': 0.5,\n",
       " 'fare': 0.6685685642227678,\n",
       " 'embarked': 0.5}"
      ]
     },
     "execution_count": 192,
     "metadata": {},
     "output_type": "execute_result"
    }
   ],
   "source": [
    "sel.feature_performance_"
   ]
  },
  {
   "cell_type": "markdown",
   "id": "noted-azerbaijan",
   "metadata": {},
   "source": [
    "With only two features above 0.5, the rest will be dropped."
   ]
  },
  {
   "cell_type": "code",
   "execution_count": 193,
   "id": "female-metabolism",
   "metadata": {
    "ExecuteTime": {
     "end_time": "2021-02-11T20:53:55.643491Z",
     "start_time": "2021-02-11T20:53:55.640214Z"
    }
   },
   "outputs": [
    {
     "data": {
      "text/plain": [
       "['sex', 'age', 'sibsp', 'parch', 'embarked']"
      ]
     },
     "execution_count": 193,
     "metadata": {},
     "output_type": "execute_result"
    }
   ],
   "source": [
    "sel.features_to_drop_"
   ]
  },
  {
   "cell_type": "code",
   "execution_count": 195,
   "id": "tracked-father",
   "metadata": {
    "ExecuteTime": {
     "end_time": "2021-02-11T20:54:09.558895Z",
     "start_time": "2021-02-11T20:54:09.551314Z"
    }
   },
   "outputs": [
    {
     "data": {
      "text/html": [
       "<div>\n",
       "<style scoped>\n",
       "    .dataframe tbody tr th:only-of-type {\n",
       "        vertical-align: middle;\n",
       "    }\n",
       "\n",
       "    .dataframe tbody tr th {\n",
       "        vertical-align: top;\n",
       "    }\n",
       "\n",
       "    .dataframe thead th {\n",
       "        text-align: right;\n",
       "    }\n",
       "</style>\n",
       "<table border=\"1\" class=\"dataframe\">\n",
       "  <thead>\n",
       "    <tr style=\"text-align: right;\">\n",
       "      <th></th>\n",
       "      <th>pclass</th>\n",
       "      <th>fare</th>\n",
       "    </tr>\n",
       "  </thead>\n",
       "  <tbody>\n",
       "    <tr>\n",
       "      <th>737</th>\n",
       "      <td>3</td>\n",
       "      <td>16.1000</td>\n",
       "    </tr>\n",
       "    <tr>\n",
       "      <th>314</th>\n",
       "      <td>1</td>\n",
       "      <td>61.3792</td>\n",
       "    </tr>\n",
       "    <tr>\n",
       "      <th>1057</th>\n",
       "      <td>3</td>\n",
       "      <td>8.0500</td>\n",
       "    </tr>\n",
       "    <tr>\n",
       "      <th>319</th>\n",
       "      <td>1</td>\n",
       "      <td>26.5500</td>\n",
       "    </tr>\n",
       "    <tr>\n",
       "      <th>618</th>\n",
       "      <td>3</td>\n",
       "      <td>22.5250</td>\n",
       "    </tr>\n",
       "  </tbody>\n",
       "</table>\n",
       "</div>"
      ],
      "text/plain": [
       "      pclass     fare\n",
       "737        3  16.1000\n",
       "314        1  61.3792\n",
       "1057       3   8.0500\n",
       "319        1  26.5500\n",
       "618        3  22.5250"
      ]
     },
     "execution_count": 195,
     "metadata": {},
     "output_type": "execute_result"
    }
   ],
   "source": [
    "sel.transform(X_train_titanic).head()"
   ]
  }
 ],
 "metadata": {
  "hide_input": false,
  "kernelspec": {
   "display_name": "Python 3",
   "language": "python",
   "name": "python3"
  },
  "language_info": {
   "codemirror_mode": {
    "name": "ipython",
    "version": 3
   },
   "file_extension": ".py",
   "mimetype": "text/x-python",
   "name": "python",
   "nbconvert_exporter": "python",
   "pygments_lexer": "ipython3",
   "version": "3.8.5"
  },
  "toc": {
   "base_numbering": 1,
   "nav_menu": {
    "height": "12px",
    "width": "166px"
   },
   "number_sections": true,
   "sideBar": true,
   "skip_h1_title": false,
   "title_cell": "Table of Contents",
   "title_sidebar": "Contents",
   "toc_cell": false,
   "toc_position": {
    "height": "calc(100% - 180px)",
    "left": "10px",
    "top": "150px",
    "width": "358.390625px"
   },
   "toc_section_display": true,
   "toc_window_display": true
  },
  "varInspector": {
   "cols": {
    "lenName": 16,
    "lenType": 16,
    "lenVar": 40
   },
   "kernels_config": {
    "python": {
     "delete_cmd_postfix": "",
     "delete_cmd_prefix": "del ",
     "library": "var_list.py",
     "varRefreshCmd": "print(var_dic_list())"
    },
    "r": {
     "delete_cmd_postfix": ") ",
     "delete_cmd_prefix": "rm(",
     "library": "var_list.r",
     "varRefreshCmd": "cat(var_dic_list()) "
    }
   },
   "types_to_exclude": [
    "module",
    "function",
    "builtin_function_or_method",
    "instance",
    "_Feature"
   ],
   "window_display": false
  }
 },
 "nbformat": 4,
 "nbformat_minor": 5
}
