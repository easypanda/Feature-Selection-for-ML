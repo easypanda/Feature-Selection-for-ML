{
 "cells": [
  {
   "cell_type": "code",
   "execution_count": 1,
   "id": "logical-comfort",
   "metadata": {
    "ExecuteTime": {
     "end_time": "2021-02-12T20:04:43.615838Z",
     "start_time": "2021-02-12T20:04:43.040319Z"
    }
   },
   "outputs": [],
   "source": [
    "#import librairies\n",
    "\n",
    "import pandas as pd\n",
    "\n",
    "import numpy as np\n",
    "\n",
    "from sklearn.model_selection import train_test_split\n",
    "from sklearn.metrics import roc_auc_score,r2_score\n",
    "\n",
    "from sklearn.ensemble import RandomForestRegressor, RandomForestClassifier\n",
    "from sklearn.pipeline import Pipeline\n",
    "\n",
    "from feature_engine.selection import DropConstantFeatures, DropCorrelatedFeatures\n",
    "\n",
    "from mlxtend.feature_selection import SequentialFeatureSelector as SFS, ExhaustiveFeatureSelector as EFS"
   ]
  },
  {
   "cell_type": "code",
   "execution_count": 2,
   "id": "pregnant-exhibit",
   "metadata": {
    "ExecuteTime": {
     "end_time": "2021-02-12T20:04:44.458616Z",
     "start_time": "2021-02-12T20:04:43.617448Z"
    }
   },
   "outputs": [],
   "source": [
    "# Reading data|\n",
    "df = pd.read_csv(\"./precleaned-datasets/dataset_2.csv\")\n",
    "housing = pd.read_csv(\n",
    "    \"./house-prices-advanced-regression-techniques/train.csv\")"
   ]
  },
  {
   "cell_type": "code",
   "execution_count": 3,
   "id": "published-stopping",
   "metadata": {
    "ExecuteTime": {
     "end_time": "2021-02-12T20:04:44.485302Z",
     "start_time": "2021-02-12T20:04:44.460882Z"
    }
   },
   "outputs": [
    {
     "data": {
      "text/html": [
       "<div>\n",
       "<style scoped>\n",
       "    .dataframe tbody tr th:only-of-type {\n",
       "        vertical-align: middle;\n",
       "    }\n",
       "\n",
       "    .dataframe tbody tr th {\n",
       "        vertical-align: top;\n",
       "    }\n",
       "\n",
       "    .dataframe thead th {\n",
       "        text-align: right;\n",
       "    }\n",
       "</style>\n",
       "<table border=\"1\" class=\"dataframe\">\n",
       "  <thead>\n",
       "    <tr style=\"text-align: right;\">\n",
       "      <th></th>\n",
       "      <th>var_1</th>\n",
       "      <th>var_2</th>\n",
       "      <th>var_3</th>\n",
       "      <th>var_4</th>\n",
       "      <th>var_5</th>\n",
       "      <th>var_6</th>\n",
       "      <th>var_7</th>\n",
       "      <th>var_8</th>\n",
       "      <th>var_9</th>\n",
       "      <th>var_10</th>\n",
       "      <th>...</th>\n",
       "      <th>var_100</th>\n",
       "      <th>var_101</th>\n",
       "      <th>var_102</th>\n",
       "      <th>var_103</th>\n",
       "      <th>var_104</th>\n",
       "      <th>var_105</th>\n",
       "      <th>var_106</th>\n",
       "      <th>var_107</th>\n",
       "      <th>var_108</th>\n",
       "      <th>var_109</th>\n",
       "    </tr>\n",
       "  </thead>\n",
       "  <tbody>\n",
       "    <tr>\n",
       "      <th>0</th>\n",
       "      <td>4.532710</td>\n",
       "      <td>3.280834</td>\n",
       "      <td>17.982476</td>\n",
       "      <td>4.404259</td>\n",
       "      <td>2.349910</td>\n",
       "      <td>0.603264</td>\n",
       "      <td>2.784655</td>\n",
       "      <td>0.323146</td>\n",
       "      <td>12.009691</td>\n",
       "      <td>0.139346</td>\n",
       "      <td>...</td>\n",
       "      <td>2.079066</td>\n",
       "      <td>6.748819</td>\n",
       "      <td>2.941445</td>\n",
       "      <td>18.360496</td>\n",
       "      <td>17.726613</td>\n",
       "      <td>7.774031</td>\n",
       "      <td>1.473441</td>\n",
       "      <td>1.973832</td>\n",
       "      <td>0.976806</td>\n",
       "      <td>2.541417</td>\n",
       "    </tr>\n",
       "    <tr>\n",
       "      <th>1</th>\n",
       "      <td>5.821374</td>\n",
       "      <td>12.098722</td>\n",
       "      <td>13.309151</td>\n",
       "      <td>4.125599</td>\n",
       "      <td>1.045386</td>\n",
       "      <td>1.832035</td>\n",
       "      <td>1.833494</td>\n",
       "      <td>0.709090</td>\n",
       "      <td>8.652883</td>\n",
       "      <td>0.102757</td>\n",
       "      <td>...</td>\n",
       "      <td>2.479789</td>\n",
       "      <td>7.795290</td>\n",
       "      <td>3.557890</td>\n",
       "      <td>17.383378</td>\n",
       "      <td>15.193423</td>\n",
       "      <td>8.263673</td>\n",
       "      <td>1.878108</td>\n",
       "      <td>0.567939</td>\n",
       "      <td>1.018818</td>\n",
       "      <td>1.416433</td>\n",
       "    </tr>\n",
       "    <tr>\n",
       "      <th>2</th>\n",
       "      <td>1.938776</td>\n",
       "      <td>7.952752</td>\n",
       "      <td>0.972671</td>\n",
       "      <td>3.459267</td>\n",
       "      <td>1.935782</td>\n",
       "      <td>0.621463</td>\n",
       "      <td>2.338139</td>\n",
       "      <td>0.344948</td>\n",
       "      <td>9.937850</td>\n",
       "      <td>11.691283</td>\n",
       "      <td>...</td>\n",
       "      <td>1.861487</td>\n",
       "      <td>6.130886</td>\n",
       "      <td>3.401064</td>\n",
       "      <td>15.850471</td>\n",
       "      <td>14.620599</td>\n",
       "      <td>6.849776</td>\n",
       "      <td>1.098210</td>\n",
       "      <td>1.959183</td>\n",
       "      <td>1.575493</td>\n",
       "      <td>1.857893</td>\n",
       "    </tr>\n",
       "    <tr>\n",
       "      <th>3</th>\n",
       "      <td>6.020690</td>\n",
       "      <td>9.900544</td>\n",
       "      <td>17.869637</td>\n",
       "      <td>4.366715</td>\n",
       "      <td>1.973693</td>\n",
       "      <td>2.026012</td>\n",
       "      <td>2.853025</td>\n",
       "      <td>0.674847</td>\n",
       "      <td>11.816859</td>\n",
       "      <td>0.011151</td>\n",
       "      <td>...</td>\n",
       "      <td>1.340944</td>\n",
       "      <td>7.240058</td>\n",
       "      <td>2.417235</td>\n",
       "      <td>15.194609</td>\n",
       "      <td>13.553772</td>\n",
       "      <td>7.229971</td>\n",
       "      <td>0.835158</td>\n",
       "      <td>2.234482</td>\n",
       "      <td>0.946170</td>\n",
       "      <td>2.700606</td>\n",
       "    </tr>\n",
       "    <tr>\n",
       "      <th>4</th>\n",
       "      <td>3.909506</td>\n",
       "      <td>10.576516</td>\n",
       "      <td>0.934191</td>\n",
       "      <td>3.419572</td>\n",
       "      <td>1.871438</td>\n",
       "      <td>3.340811</td>\n",
       "      <td>1.868282</td>\n",
       "      <td>0.439865</td>\n",
       "      <td>13.585620</td>\n",
       "      <td>1.153366</td>\n",
       "      <td>...</td>\n",
       "      <td>2.738095</td>\n",
       "      <td>6.565509</td>\n",
       "      <td>4.341414</td>\n",
       "      <td>15.893832</td>\n",
       "      <td>11.929787</td>\n",
       "      <td>6.954033</td>\n",
       "      <td>1.853364</td>\n",
       "      <td>0.511027</td>\n",
       "      <td>2.599562</td>\n",
       "      <td>0.811364</td>\n",
       "    </tr>\n",
       "  </tbody>\n",
       "</table>\n",
       "<p>5 rows × 109 columns</p>\n",
       "</div>"
      ],
      "text/plain": [
       "      var_1      var_2      var_3     var_4     var_5     var_6     var_7  \\\n",
       "0  4.532710   3.280834  17.982476  4.404259  2.349910  0.603264  2.784655   \n",
       "1  5.821374  12.098722  13.309151  4.125599  1.045386  1.832035  1.833494   \n",
       "2  1.938776   7.952752   0.972671  3.459267  1.935782  0.621463  2.338139   \n",
       "3  6.020690   9.900544  17.869637  4.366715  1.973693  2.026012  2.853025   \n",
       "4  3.909506  10.576516   0.934191  3.419572  1.871438  3.340811  1.868282   \n",
       "\n",
       "      var_8      var_9     var_10  ...   var_100   var_101   var_102  \\\n",
       "0  0.323146  12.009691   0.139346  ...  2.079066  6.748819  2.941445   \n",
       "1  0.709090   8.652883   0.102757  ...  2.479789  7.795290  3.557890   \n",
       "2  0.344948   9.937850  11.691283  ...  1.861487  6.130886  3.401064   \n",
       "3  0.674847  11.816859   0.011151  ...  1.340944  7.240058  2.417235   \n",
       "4  0.439865  13.585620   1.153366  ...  2.738095  6.565509  4.341414   \n",
       "\n",
       "     var_103    var_104   var_105   var_106   var_107   var_108   var_109  \n",
       "0  18.360496  17.726613  7.774031  1.473441  1.973832  0.976806  2.541417  \n",
       "1  17.383378  15.193423  8.263673  1.878108  0.567939  1.018818  1.416433  \n",
       "2  15.850471  14.620599  6.849776  1.098210  1.959183  1.575493  1.857893  \n",
       "3  15.194609  13.553772  7.229971  0.835158  2.234482  0.946170  2.700606  \n",
       "4  15.893832  11.929787  6.954033  1.853364  0.511027  2.599562  0.811364  \n",
       "\n",
       "[5 rows x 109 columns]"
      ]
     },
     "execution_count": 3,
     "metadata": {},
     "output_type": "execute_result"
    }
   ],
   "source": [
    "df.head()"
   ]
  },
  {
   "cell_type": "code",
   "execution_count": 4,
   "id": "hungry-poison",
   "metadata": {
    "ExecuteTime": {
     "end_time": "2021-02-12T20:04:44.504090Z",
     "start_time": "2021-02-12T20:04:44.487104Z"
    }
   },
   "outputs": [
    {
     "data": {
      "text/html": [
       "<div>\n",
       "<style scoped>\n",
       "    .dataframe tbody tr th:only-of-type {\n",
       "        vertical-align: middle;\n",
       "    }\n",
       "\n",
       "    .dataframe tbody tr th {\n",
       "        vertical-align: top;\n",
       "    }\n",
       "\n",
       "    .dataframe thead th {\n",
       "        text-align: right;\n",
       "    }\n",
       "</style>\n",
       "<table border=\"1\" class=\"dataframe\">\n",
       "  <thead>\n",
       "    <tr style=\"text-align: right;\">\n",
       "      <th></th>\n",
       "      <th>Id</th>\n",
       "      <th>MSSubClass</th>\n",
       "      <th>MSZoning</th>\n",
       "      <th>LotFrontage</th>\n",
       "      <th>LotArea</th>\n",
       "      <th>Street</th>\n",
       "      <th>Alley</th>\n",
       "      <th>LotShape</th>\n",
       "      <th>LandContour</th>\n",
       "      <th>Utilities</th>\n",
       "      <th>...</th>\n",
       "      <th>PoolArea</th>\n",
       "      <th>PoolQC</th>\n",
       "      <th>Fence</th>\n",
       "      <th>MiscFeature</th>\n",
       "      <th>MiscVal</th>\n",
       "      <th>MoSold</th>\n",
       "      <th>YrSold</th>\n",
       "      <th>SaleType</th>\n",
       "      <th>SaleCondition</th>\n",
       "      <th>SalePrice</th>\n",
       "    </tr>\n",
       "  </thead>\n",
       "  <tbody>\n",
       "    <tr>\n",
       "      <th>0</th>\n",
       "      <td>1</td>\n",
       "      <td>60</td>\n",
       "      <td>RL</td>\n",
       "      <td>65.0</td>\n",
       "      <td>8450</td>\n",
       "      <td>Pave</td>\n",
       "      <td>NaN</td>\n",
       "      <td>Reg</td>\n",
       "      <td>Lvl</td>\n",
       "      <td>AllPub</td>\n",
       "      <td>...</td>\n",
       "      <td>0</td>\n",
       "      <td>NaN</td>\n",
       "      <td>NaN</td>\n",
       "      <td>NaN</td>\n",
       "      <td>0</td>\n",
       "      <td>2</td>\n",
       "      <td>2008</td>\n",
       "      <td>WD</td>\n",
       "      <td>Normal</td>\n",
       "      <td>208500</td>\n",
       "    </tr>\n",
       "    <tr>\n",
       "      <th>1</th>\n",
       "      <td>2</td>\n",
       "      <td>20</td>\n",
       "      <td>RL</td>\n",
       "      <td>80.0</td>\n",
       "      <td>9600</td>\n",
       "      <td>Pave</td>\n",
       "      <td>NaN</td>\n",
       "      <td>Reg</td>\n",
       "      <td>Lvl</td>\n",
       "      <td>AllPub</td>\n",
       "      <td>...</td>\n",
       "      <td>0</td>\n",
       "      <td>NaN</td>\n",
       "      <td>NaN</td>\n",
       "      <td>NaN</td>\n",
       "      <td>0</td>\n",
       "      <td>5</td>\n",
       "      <td>2007</td>\n",
       "      <td>WD</td>\n",
       "      <td>Normal</td>\n",
       "      <td>181500</td>\n",
       "    </tr>\n",
       "    <tr>\n",
       "      <th>2</th>\n",
       "      <td>3</td>\n",
       "      <td>60</td>\n",
       "      <td>RL</td>\n",
       "      <td>68.0</td>\n",
       "      <td>11250</td>\n",
       "      <td>Pave</td>\n",
       "      <td>NaN</td>\n",
       "      <td>IR1</td>\n",
       "      <td>Lvl</td>\n",
       "      <td>AllPub</td>\n",
       "      <td>...</td>\n",
       "      <td>0</td>\n",
       "      <td>NaN</td>\n",
       "      <td>NaN</td>\n",
       "      <td>NaN</td>\n",
       "      <td>0</td>\n",
       "      <td>9</td>\n",
       "      <td>2008</td>\n",
       "      <td>WD</td>\n",
       "      <td>Normal</td>\n",
       "      <td>223500</td>\n",
       "    </tr>\n",
       "    <tr>\n",
       "      <th>3</th>\n",
       "      <td>4</td>\n",
       "      <td>70</td>\n",
       "      <td>RL</td>\n",
       "      <td>60.0</td>\n",
       "      <td>9550</td>\n",
       "      <td>Pave</td>\n",
       "      <td>NaN</td>\n",
       "      <td>IR1</td>\n",
       "      <td>Lvl</td>\n",
       "      <td>AllPub</td>\n",
       "      <td>...</td>\n",
       "      <td>0</td>\n",
       "      <td>NaN</td>\n",
       "      <td>NaN</td>\n",
       "      <td>NaN</td>\n",
       "      <td>0</td>\n",
       "      <td>2</td>\n",
       "      <td>2006</td>\n",
       "      <td>WD</td>\n",
       "      <td>Abnorml</td>\n",
       "      <td>140000</td>\n",
       "    </tr>\n",
       "    <tr>\n",
       "      <th>4</th>\n",
       "      <td>5</td>\n",
       "      <td>60</td>\n",
       "      <td>RL</td>\n",
       "      <td>84.0</td>\n",
       "      <td>14260</td>\n",
       "      <td>Pave</td>\n",
       "      <td>NaN</td>\n",
       "      <td>IR1</td>\n",
       "      <td>Lvl</td>\n",
       "      <td>AllPub</td>\n",
       "      <td>...</td>\n",
       "      <td>0</td>\n",
       "      <td>NaN</td>\n",
       "      <td>NaN</td>\n",
       "      <td>NaN</td>\n",
       "      <td>0</td>\n",
       "      <td>12</td>\n",
       "      <td>2008</td>\n",
       "      <td>WD</td>\n",
       "      <td>Normal</td>\n",
       "      <td>250000</td>\n",
       "    </tr>\n",
       "  </tbody>\n",
       "</table>\n",
       "<p>5 rows × 81 columns</p>\n",
       "</div>"
      ],
      "text/plain": [
       "   Id  MSSubClass MSZoning  LotFrontage  LotArea Street Alley LotShape  \\\n",
       "0   1          60       RL         65.0     8450   Pave   NaN      Reg   \n",
       "1   2          20       RL         80.0     9600   Pave   NaN      Reg   \n",
       "2   3          60       RL         68.0    11250   Pave   NaN      IR1   \n",
       "3   4          70       RL         60.0     9550   Pave   NaN      IR1   \n",
       "4   5          60       RL         84.0    14260   Pave   NaN      IR1   \n",
       "\n",
       "  LandContour Utilities  ... PoolArea PoolQC Fence MiscFeature MiscVal MoSold  \\\n",
       "0         Lvl    AllPub  ...        0    NaN   NaN         NaN       0      2   \n",
       "1         Lvl    AllPub  ...        0    NaN   NaN         NaN       0      5   \n",
       "2         Lvl    AllPub  ...        0    NaN   NaN         NaN       0      9   \n",
       "3         Lvl    AllPub  ...        0    NaN   NaN         NaN       0      2   \n",
       "4         Lvl    AllPub  ...        0    NaN   NaN         NaN       0     12   \n",
       "\n",
       "  YrSold  SaleType  SaleCondition  SalePrice  \n",
       "0   2008        WD         Normal     208500  \n",
       "1   2007        WD         Normal     181500  \n",
       "2   2008        WD         Normal     223500  \n",
       "3   2006        WD        Abnorml     140000  \n",
       "4   2008        WD         Normal     250000  \n",
       "\n",
       "[5 rows x 81 columns]"
      ]
     },
     "execution_count": 4,
     "metadata": {},
     "output_type": "execute_result"
    }
   ],
   "source": [
    "housing.head()"
   ]
  },
  {
   "cell_type": "code",
   "execution_count": 5,
   "id": "demonstrated-category",
   "metadata": {
    "ExecuteTime": {
     "end_time": "2021-02-12T20:04:44.509875Z",
     "start_time": "2021-02-12T20:04:44.505236Z"
    }
   },
   "outputs": [],
   "source": [
    "columns = [col for col in housing.columns if housing[col].dtype != \"object\"]"
   ]
  },
  {
   "cell_type": "code",
   "execution_count": 6,
   "id": "sudden-journalist",
   "metadata": {
    "ExecuteTime": {
     "end_time": "2021-02-12T20:04:44.514080Z",
     "start_time": "2021-02-12T20:04:44.511263Z"
    }
   },
   "outputs": [],
   "source": [
    "housing = housing[columns]"
   ]
  },
  {
   "cell_type": "code",
   "execution_count": 7,
   "id": "funny-alberta",
   "metadata": {
    "ExecuteTime": {
     "end_time": "2021-02-12T20:04:44.590840Z",
     "start_time": "2021-02-12T20:04:44.515359Z"
    }
   },
   "outputs": [],
   "source": [
    "X_train, X_test, y_train, y_test = train_test_split(df.drop(\n",
    "    labels=[\"target\"], axis=1), df[\"target\"], test_size=0.33, random_state=42)"
   ]
  },
  {
   "cell_type": "code",
   "execution_count": 8,
   "id": "comprehensive-hometown",
   "metadata": {
    "ExecuteTime": {
     "end_time": "2021-02-12T20:04:44.601895Z",
     "start_time": "2021-02-12T20:04:44.595659Z"
    }
   },
   "outputs": [],
   "source": [
    "X_train_housing, X_test_housing, y_train_housing, y_test_housing = train_test_split(housing.drop(\n",
    "    labels=[\"SalePrice\"], axis=1), housing[\"SalePrice\"], test_size=0.33, random_state=42)"
   ]
  },
  {
   "cell_type": "code",
   "execution_count": 9,
   "id": "solved-bread",
   "metadata": {
    "ExecuteTime": {
     "end_time": "2021-02-12T20:04:44.607868Z",
     "start_time": "2021-02-12T20:04:44.605008Z"
    }
   },
   "outputs": [],
   "source": [
    "pipeline = Pipeline([\n",
    "    (\"drop_constante\", DropConstantFeatures(tol=0.8)),\n",
    "    (\"drop_correlated\", DropCorrelatedFeatures(variables=None,\n",
    "                                               method='pearson',\n",
    "                                               threshold=0.8,\n",
    "                                               missing_values='ignore',\n",
    "                                               ))\n",
    "])"
   ]
  },
  {
   "cell_type": "code",
   "execution_count": 10,
   "id": "important-wages",
   "metadata": {
    "ExecuteTime": {
     "end_time": "2021-02-12T20:04:46.156592Z",
     "start_time": "2021-02-12T20:04:44.609957Z"
    }
   },
   "outputs": [],
   "source": [
    "X_train = pipeline.fit_transform(X_train)\n",
    "X_test = pipeline.transform(X_test)"
   ]
  },
  {
   "cell_type": "code",
   "execution_count": 11,
   "id": "graduate-composition",
   "metadata": {
    "ExecuteTime": {
     "end_time": "2021-02-12T20:04:46.161430Z",
     "start_time": "2021-02-12T20:04:46.158640Z"
    }
   },
   "outputs": [],
   "source": [
    "pipeline = Pipeline([\n",
    "    (\"drop_constante\", DropConstantFeatures(tol=0.8)),\n",
    "    (\"drop_correlated\", DropCorrelatedFeatures(variables=None,\n",
    "                                               method='pearson',\n",
    "                                               threshold=0.8,\n",
    "                                               missing_values='ignore',\n",
    "                                               ))\n",
    "])"
   ]
  },
  {
   "cell_type": "code",
   "execution_count": 12,
   "id": "compliant-volume",
   "metadata": {
    "ExecuteTime": {
     "end_time": "2021-02-12T20:04:46.211317Z",
     "start_time": "2021-02-12T20:04:46.163301Z"
    }
   },
   "outputs": [],
   "source": [
    "X_train_housing = pipeline.fit_transform(X_train_housing.fillna(0))\n",
    "X_test_housing = pipeline.transform(X_test_housing)"
   ]
  },
  {
   "cell_type": "markdown",
   "id": "geographic-mexico",
   "metadata": {},
   "source": [
    "# Step Forward Feature Selection"
   ]
  },
  {
   "cell_type": "markdown",
   "id": "loving-month",
   "metadata": {},
   "source": [
    "Will start by building all possible models containing one features, will select the feature that produces the best performing model, then will try all the models containing this features and another feature and will select the combination that produces the best performing model, and il will repeat the operation until a certain threshold is met (number of features or performance).\n",
    "\n",
    "Most of the time, the performance will increase until a certain point where the difference is negligible."
   ]
  },
  {
   "cell_type": "markdown",
   "id": "lasting-blank",
   "metadata": {},
   "source": [
    "## Classification"
   ]
  },
  {
   "cell_type": "code",
   "execution_count": 13,
   "id": "loving-drunk",
   "metadata": {
    "ExecuteTime": {
     "end_time": "2021-02-12T20:04:46.217660Z",
     "start_time": "2021-02-12T20:04:46.213601Z"
    }
   },
   "outputs": [],
   "source": [
    "sfs = SFS(RandomForestClassifier(n_jobs=-1, n_estimators=10),\n",
    "                  k_features=10,\n",
    "                  forward=True, #Forward Feature Selection\n",
    "                  floating=False,\n",
    "                  verbose=2, #To display the steps\n",
    "                  scoring=\"roc_auc\",\n",
    "                  cv=5,\n",
    "                  n_jobs=-1,\n",
    "                  pre_dispatch='2*n_jobs',\n",
    "                  clone_estimator=True,\n",
    "                  fixed_features=None,\n",
    "                  )"
   ]
  },
  {
   "cell_type": "code",
   "execution_count": 14,
   "id": "textile-morgan",
   "metadata": {
    "ExecuteTime": {
     "end_time": "2021-02-12T20:08:32.376972Z",
     "start_time": "2021-02-12T20:04:46.220200Z"
    }
   },
   "outputs": [
    {
     "name": "stderr",
     "output_type": "stream",
     "text": [
      "[Parallel(n_jobs=-1)]: Using backend LokyBackend with 16 concurrent workers.\n",
      "[Parallel(n_jobs=-1)]: Done   9 tasks      | elapsed:    8.2s\n",
      "[Parallel(n_jobs=-1)]: Done  72 out of  72 | elapsed:   30.7s finished\n",
      "\n",
      "[2021-02-12 21:05:16] Features: 1/10 -- score: 0.57854646135123[Parallel(n_jobs=-1)]: Using backend LokyBackend with 16 concurrent workers.\n",
      "[Parallel(n_jobs=-1)]: Done   9 tasks      | elapsed:    3.9s\n",
      "[Parallel(n_jobs=-1)]: Done  71 out of  71 | elapsed:   17.6s finished\n",
      "\n",
      "[2021-02-12 21:05:34] Features: 2/10 -- score: 0.6512433846619194[Parallel(n_jobs=-1)]: Using backend LokyBackend with 16 concurrent workers.\n",
      "[Parallel(n_jobs=-1)]: Done   9 tasks      | elapsed:    3.4s\n",
      "[Parallel(n_jobs=-1)]: Done  70 out of  70 | elapsed:   15.8s finished\n",
      "\n",
      "[2021-02-12 21:05:50] Features: 3/10 -- score: 0.6617118350682749[Parallel(n_jobs=-1)]: Using backend LokyBackend with 16 concurrent workers.\n",
      "[Parallel(n_jobs=-1)]: Done   9 tasks      | elapsed:    5.2s\n",
      "[Parallel(n_jobs=-1)]: Done  69 out of  69 | elapsed:   20.8s finished\n",
      "\n",
      "[2021-02-12 21:06:11] Features: 4/10 -- score: 0.6381314511971814[Parallel(n_jobs=-1)]: Using backend LokyBackend with 16 concurrent workers.\n",
      "[Parallel(n_jobs=-1)]: Done   9 tasks      | elapsed:    5.4s\n",
      "[Parallel(n_jobs=-1)]: Done  68 out of  68 | elapsed:   22.2s finished\n",
      "\n",
      "[2021-02-12 21:06:33] Features: 5/10 -- score: 0.6406279521660343[Parallel(n_jobs=-1)]: Using backend LokyBackend with 16 concurrent workers.\n",
      "[Parallel(n_jobs=-1)]: Done   9 tasks      | elapsed:    5.0s\n",
      "[Parallel(n_jobs=-1)]: Done  67 out of  67 | elapsed:   20.8s finished\n",
      "\n",
      "[2021-02-12 21:06:54] Features: 6/10 -- score: 0.6404011784013759[Parallel(n_jobs=-1)]: Using backend LokyBackend with 16 concurrent workers.\n",
      "[Parallel(n_jobs=-1)]: Done   9 tasks      | elapsed:    5.2s\n",
      "[Parallel(n_jobs=-1)]: Done  66 out of  66 | elapsed:   21.0s finished\n",
      "\n",
      "[2021-02-12 21:07:15] Features: 7/10 -- score: 0.6432291092570401[Parallel(n_jobs=-1)]: Using backend LokyBackend with 16 concurrent workers.\n",
      "[Parallel(n_jobs=-1)]: Done   9 tasks      | elapsed:    5.1s\n",
      "[Parallel(n_jobs=-1)]: Done  65 out of  65 | elapsed:   21.1s finished\n",
      "\n",
      "[2021-02-12 21:07:36] Features: 8/10 -- score: 0.6463105805276462[Parallel(n_jobs=-1)]: Using backend LokyBackend with 16 concurrent workers.\n",
      "[Parallel(n_jobs=-1)]: Done   9 tasks      | elapsed:    7.1s\n",
      "[Parallel(n_jobs=-1)]: Done  64 out of  64 | elapsed:   28.1s finished\n",
      "\n",
      "[2021-02-12 21:08:04] Features: 9/10 -- score: 0.6451165623854834[Parallel(n_jobs=-1)]: Using backend LokyBackend with 16 concurrent workers.\n",
      "[Parallel(n_jobs=-1)]: Done   9 tasks      | elapsed:    7.0s\n",
      "[Parallel(n_jobs=-1)]: Done  63 out of  63 | elapsed:   27.3s finished\n",
      "\n",
      "[2021-02-12 21:08:32] Features: 10/10 -- score: 0.6457067544622219"
     ]
    },
    {
     "data": {
      "text/plain": [
       "SequentialFeatureSelector(estimator=RandomForestClassifier(n_estimators=10,\n",
       "                                                           n_jobs=-1),\n",
       "                          k_features=10, n_jobs=-1, scoring='roc_auc',\n",
       "                          verbose=2)"
      ]
     },
     "execution_count": 14,
     "metadata": {},
     "output_type": "execute_result"
    }
   ],
   "source": [
    "sfs.fit(X_train,y_train)"
   ]
  },
  {
   "cell_type": "code",
   "execution_count": 15,
   "id": "african-balance",
   "metadata": {
    "ExecuteTime": {
     "end_time": "2021-02-12T20:08:32.383740Z",
     "start_time": "2021-02-12T20:08:32.379272Z"
    }
   },
   "outputs": [
    {
     "data": {
      "text/plain": [
       "Index(['var_6', 'var_9', 'var_16', 'var_21', 'var_27', 'var_45', 'var_55',\n",
       "       'var_82', 'var_83', 'var_99'],\n",
       "      dtype='object')"
      ]
     },
     "execution_count": 15,
     "metadata": {},
     "output_type": "execute_result"
    }
   ],
   "source": [
    "selected_feat = X_train.columns[list(sfs.k_feature_idx_)]\n",
    "selected_feat"
   ]
  },
  {
   "cell_type": "code",
   "execution_count": 16,
   "id": "anticipated-superior",
   "metadata": {
    "ExecuteTime": {
     "end_time": "2021-02-12T20:08:32.389403Z",
     "start_time": "2021-02-12T20:08:32.385798Z"
    }
   },
   "outputs": [],
   "source": [
    "# function to train random forests and evaluate the performance\n",
    "\n",
    "def run_randomForests_clf(X_train, X_test, y_train, y_test):\n",
    "\n",
    "    rf = RandomForestClassifier(\n",
    "        n_estimators=200, random_state=39, max_depth=4, n_jobs=-1)\n",
    "    rf.fit(X_train, y_train)\n",
    "\n",
    "    print('Train set')\n",
    "    pred = rf.predict_proba(X_train)\n",
    "    print(\n",
    "        'Random Forests roc-auc: {}'.format(roc_auc_score(y_train, pred[:, 1])))\n",
    "\n",
    "    print('Test set')\n",
    "    pred = rf.predict_proba(X_test)\n",
    "    print(\n",
    "        'Random Forests roc-auc: {}'.format(roc_auc_score(y_test, pred[:, 1])))"
   ]
  },
  {
   "cell_type": "code",
   "execution_count": 17,
   "id": "protecting-responsibility",
   "metadata": {
    "ExecuteTime": {
     "end_time": "2021-02-12T20:08:34.215202Z",
     "start_time": "2021-02-12T20:08:32.390821Z"
    }
   },
   "outputs": [
    {
     "name": "stdout",
     "output_type": "stream",
     "text": [
      "Train set\n",
      "Random Forests roc-auc: 0.7117087155838488\n",
      "Test set\n",
      "Random Forests roc-auc: 0.6964315305753028\n"
     ]
    }
   ],
   "source": [
    "run_randomForests_clf(X_train,X_test,y_train,y_test)"
   ]
  },
  {
   "cell_type": "code",
   "execution_count": 18,
   "id": "acute-biodiversity",
   "metadata": {
    "ExecuteTime": {
     "end_time": "2021-02-12T20:08:35.146254Z",
     "start_time": "2021-02-12T20:08:34.216938Z"
    }
   },
   "outputs": [
    {
     "name": "stdout",
     "output_type": "stream",
     "text": [
      "Train set\n",
      "Random Forests roc-auc: 0.7110104595721054\n",
      "Test set\n",
      "Random Forests roc-auc: 0.6989186228771722\n"
     ]
    }
   ],
   "source": [
    "run_randomForests_clf(X_train[selected_feat],X_test[selected_feat],y_train,y_test)"
   ]
  },
  {
   "cell_type": "markdown",
   "id": "taken-rider",
   "metadata": {},
   "source": [
    "#Slightly better model with fewer features!"
   ]
  },
  {
   "cell_type": "markdown",
   "id": "coated-rugby",
   "metadata": {},
   "source": [
    "## Regression"
   ]
  },
  {
   "cell_type": "code",
   "execution_count": 19,
   "id": "homeless-things",
   "metadata": {
    "ExecuteTime": {
     "end_time": "2021-02-12T20:08:35.150957Z",
     "start_time": "2021-02-12T20:08:35.148016Z"
    }
   },
   "outputs": [],
   "source": [
    "sfs = SFS(RandomForestRegressor(n_jobs=-1, n_estimators=10),\n",
    "                  k_features=10,\n",
    "                  forward=True, #Forward Feature Selection\n",
    "                  floating=False,\n",
    "                  verbose=2, #To display the steps\n",
    "                  scoring=\"r2\",\n",
    "                  cv=5,\n",
    "                  n_jobs=-1,\n",
    "                  pre_dispatch='2*n_jobs',\n",
    "                  clone_estimator=True,\n",
    "                  fixed_features=None,\n",
    "                  )"
   ]
  },
  {
   "cell_type": "code",
   "execution_count": 20,
   "id": "hired-superintendent",
   "metadata": {
    "ExecuteTime": {
     "end_time": "2021-02-12T20:08:40.098736Z",
     "start_time": "2021-02-12T20:08:35.152553Z"
    }
   },
   "outputs": [
    {
     "name": "stderr",
     "output_type": "stream",
     "text": [
      "[Parallel(n_jobs=-1)]: Using backend LokyBackend with 16 concurrent workers.\n",
      "[Parallel(n_jobs=-1)]: Done   7 out of  25 | elapsed:    0.3s remaining:    0.7s\n",
      "[Parallel(n_jobs=-1)]: Done  20 out of  25 | elapsed:    0.5s remaining:    0.1s\n",
      "[Parallel(n_jobs=-1)]: Done  25 out of  25 | elapsed:    0.5s finished\n",
      "\n",
      "[2021-02-12 21:08:35] Features: 1/10 -- score: 0.6494742737986229[Parallel(n_jobs=-1)]: Using backend LokyBackend with 16 concurrent workers.\n",
      "[Parallel(n_jobs=-1)]: Done   6 out of  24 | elapsed:    0.3s remaining:    0.8s\n",
      "[Parallel(n_jobs=-1)]: Done  19 out of  24 | elapsed:    0.5s remaining:    0.1s\n",
      "[Parallel(n_jobs=-1)]: Done  24 out of  24 | elapsed:    0.5s finished\n",
      "\n",
      "[2021-02-12 21:08:36] Features: 2/10 -- score: 0.7007007747962867[Parallel(n_jobs=-1)]: Using backend LokyBackend with 16 concurrent workers.\n",
      "[Parallel(n_jobs=-1)]: Done   4 out of  23 | elapsed:    0.3s remaining:    1.3s\n",
      "[Parallel(n_jobs=-1)]: Done  16 out of  23 | elapsed:    0.3s remaining:    0.2s\n",
      "[Parallel(n_jobs=-1)]: Done  23 out of  23 | elapsed:    0.5s finished\n",
      "\n",
      "[2021-02-12 21:08:36] Features: 3/10 -- score: 0.7182685430778406[Parallel(n_jobs=-1)]: Using backend LokyBackend with 16 concurrent workers.\n",
      "[Parallel(n_jobs=-1)]: Done   3 out of  22 | elapsed:    0.3s remaining:    1.7s\n",
      "[Parallel(n_jobs=-1)]: Done  15 out of  22 | elapsed:    0.3s remaining:    0.2s\n",
      "[Parallel(n_jobs=-1)]: Done  22 out of  22 | elapsed:    0.5s finished\n",
      "\n",
      "[2021-02-12 21:08:37] Features: 4/10 -- score: 0.7586609865208311[Parallel(n_jobs=-1)]: Using backend LokyBackend with 16 concurrent workers.\n",
      "[Parallel(n_jobs=-1)]: Done  12 out of  21 | elapsed:    0.3s remaining:    0.3s\n",
      "[Parallel(n_jobs=-1)]: Done  21 out of  21 | elapsed:    0.5s finished\n",
      "\n",
      "[2021-02-12 21:08:37] Features: 5/10 -- score: 0.7985406344856661[Parallel(n_jobs=-1)]: Using backend LokyBackend with 16 concurrent workers.\n",
      "[Parallel(n_jobs=-1)]: Done  11 out of  20 | elapsed:    0.3s remaining:    0.3s\n",
      "[Parallel(n_jobs=-1)]: Done  20 out of  20 | elapsed:    0.5s finished\n",
      "\n",
      "[2021-02-12 21:08:38] Features: 6/10 -- score: 0.8188367800383087[Parallel(n_jobs=-1)]: Using backend LokyBackend with 16 concurrent workers.\n",
      "[Parallel(n_jobs=-1)]: Done   8 out of  19 | elapsed:    0.4s remaining:    0.5s\n",
      "[Parallel(n_jobs=-1)]: Done  19 out of  19 | elapsed:    0.5s finished\n",
      "\n",
      "[2021-02-12 21:08:38] Features: 7/10 -- score: 0.830082183020499[Parallel(n_jobs=-1)]: Using backend LokyBackend with 16 concurrent workers.\n",
      "[Parallel(n_jobs=-1)]: Done   7 out of  18 | elapsed:    0.3s remaining:    0.5s\n",
      "[Parallel(n_jobs=-1)]: Done  18 out of  18 | elapsed:    0.5s finished\n",
      "\n",
      "[2021-02-12 21:08:39] Features: 8/10 -- score: 0.8293563012713717[Parallel(n_jobs=-1)]: Using backend LokyBackend with 16 concurrent workers.\n",
      "[Parallel(n_jobs=-1)]: Done   4 out of  17 | elapsed:    0.3s remaining:    1.1s\n",
      "[Parallel(n_jobs=-1)]: Done  13 out of  17 | elapsed:    0.4s remaining:    0.1s\n",
      "[Parallel(n_jobs=-1)]: Done  17 out of  17 | elapsed:    0.5s finished\n",
      "\n",
      "[2021-02-12 21:08:39] Features: 9/10 -- score: 0.8335376442411834[Parallel(n_jobs=-1)]: Using backend LokyBackend with 16 concurrent workers.\n",
      "[Parallel(n_jobs=-1)]: Done   3 out of  16 | elapsed:    0.3s remaining:    1.4s\n",
      "[Parallel(n_jobs=-1)]: Done  12 out of  16 | elapsed:    0.4s remaining:    0.1s\n",
      "[Parallel(n_jobs=-1)]: Done  16 out of  16 | elapsed:    0.4s finished\n",
      "\n",
      "[2021-02-12 21:08:40] Features: 10/10 -- score: 0.8280742228758674"
     ]
    },
    {
     "data": {
      "text/plain": [
       "SequentialFeatureSelector(estimator=RandomForestRegressor(n_estimators=10,\n",
       "                                                          n_jobs=-1),\n",
       "                          k_features=10, n_jobs=-1, scoring='r2', verbose=2)"
      ]
     },
     "execution_count": 20,
     "metadata": {},
     "output_type": "execute_result"
    }
   ],
   "source": [
    "sfs.fit(X_train_housing,y_train_housing)"
   ]
  },
  {
   "cell_type": "code",
   "execution_count": 21,
   "id": "facial-manhattan",
   "metadata": {
    "ExecuteTime": {
     "end_time": "2021-02-12T20:08:40.103542Z",
     "start_time": "2021-02-12T20:08:40.100267Z"
    }
   },
   "outputs": [
    {
     "data": {
      "text/plain": [
       "Index(['MSSubClass', 'OverallQual', 'YearRemodAdd', 'BsmtFinSF1', 'GrLivArea',\n",
       "       'FullBath', 'BedroomAbvGr', 'Fireplaces', 'GarageCars', 'YrSold'],\n",
       "      dtype='object')"
      ]
     },
     "execution_count": 21,
     "metadata": {},
     "output_type": "execute_result"
    }
   ],
   "source": [
    "selected_feat = X_train_housing.columns[list(sfs.k_feature_idx_)]\n",
    "selected_feat"
   ]
  },
  {
   "cell_type": "code",
   "execution_count": 22,
   "id": "jewish-receipt",
   "metadata": {
    "ExecuteTime": {
     "end_time": "2021-02-12T20:08:40.108220Z",
     "start_time": "2021-02-12T20:08:40.104970Z"
    }
   },
   "outputs": [],
   "source": [
    "# function to train random forests and evaluate the performance\n",
    "\n",
    "def run_randomForests_rgr(X_train, X_test, y_train, y_test):\n",
    "\n",
    "    rf = RandomForestRegressor(\n",
    "        n_estimators=200, random_state=39, max_depth=4, n_jobs=-1)\n",
    "    rf.fit(X_train, y_train)\n",
    "\n",
    "    print('Train set')\n",
    "    pred = rf.predict(X_train)\n",
    "    print('Random Forests roc-auc: {}'.format(r2_score(y_train, pred)))\n",
    "\n",
    "    print('Test set')\n",
    "    pred = rf.predict(X_test)\n",
    "    print('Random Forests roc-auc: {}'.format(r2_score(y_test, pred)))"
   ]
  },
  {
   "cell_type": "code",
   "execution_count": 23,
   "id": "alternate-speech",
   "metadata": {
    "ExecuteTime": {
     "end_time": "2021-02-12T20:08:40.419476Z",
     "start_time": "2021-02-12T20:08:40.114318Z"
    }
   },
   "outputs": [
    {
     "name": "stdout",
     "output_type": "stream",
     "text": [
      "Train set\n",
      "Random Forests roc-auc: 0.8671211082669377\n",
      "Test set\n",
      "Random Forests roc-auc: 0.8336650793250375\n"
     ]
    }
   ],
   "source": [
    "run_randomForests_rgr(X_train_housing,X_test_housing.fillna(0),y_train_housing,y_test_housing)"
   ]
  },
  {
   "cell_type": "code",
   "execution_count": 24,
   "id": "medium-discount",
   "metadata": {
    "ExecuteTime": {
     "end_time": "2021-02-12T20:08:40.713722Z",
     "start_time": "2021-02-12T20:08:40.423300Z"
    }
   },
   "outputs": [
    {
     "name": "stdout",
     "output_type": "stream",
     "text": [
      "Train set\n",
      "Random Forests roc-auc: 0.8555357099654526\n",
      "Test set\n",
      "Random Forests roc-auc: 0.8116331390706135\n"
     ]
    }
   ],
   "source": [
    "run_randomForests_rgr(X_train_housing[selected_feat],X_test_housing[selected_feat].fillna(0),y_train_housing,y_test_housing)"
   ]
  },
  {
   "cell_type": "markdown",
   "id": "damaged-triumph",
   "metadata": {},
   "source": [
    "Close to same score but with fewer features."
   ]
  },
  {
   "cell_type": "markdown",
   "id": "focal-freeze",
   "metadata": {},
   "source": [
    "# Step Backward Feature Selection"
   ]
  },
  {
   "cell_type": "markdown",
   "id": "technical-daniel",
   "metadata": {},
   "source": [
    "Will start by building a model containing all the features, and then will create models with n-1 features and see which one performs best, and then will create models from the previous best combination and remove another feature and select the one that perform best and repeat the operation until a certain threshold is met (number of features or performance).\n",
    "\n",
    "Most of the time, the performance will be decreased but the difference is negligible until a certain point.\n"
   ]
  },
  {
   "cell_type": "markdown",
   "id": "median-shoot",
   "metadata": {},
   "source": [
    "## Classification"
   ]
  },
  {
   "cell_type": "code",
   "execution_count": null,
   "id": "muslim-bernard",
   "metadata": {},
   "outputs": [],
   "source": [
    "sfs = SFS(RandomForestClassifier(n_jobs=-1, n_estimators=10),\n",
    "                  k_features=68,\n",
    "                  forward=False, #Backward Feature Selection\n",
    "                  floating=False,\n",
    "                  verbose=2, #To display the steps\n",
    "                  scoring=\"roc_auc\",\n",
    "                  cv=5,\n",
    "                  n_jobs=-1,\n",
    "                  pre_dispatch='2*n_jobs',\n",
    "                  clone_estimator=True,\n",
    "                  fixed_features=None,\n",
    "                  )"
   ]
  },
  {
   "cell_type": "code",
   "execution_count": 26,
   "id": "pleasant-departure",
   "metadata": {
    "ExecuteTime": {
     "end_time": "2021-02-12T20:14:39.360931Z",
     "start_time": "2021-02-12T20:08:40.719478Z"
    }
   },
   "outputs": [
    {
     "name": "stderr",
     "output_type": "stream",
     "text": [
      "[Parallel(n_jobs=-1)]: Using backend LokyBackend with 16 concurrent workers.\n",
      "[Parallel(n_jobs=-1)]: Done   9 tasks      | elapsed:   21.4s\n",
      "[Parallel(n_jobs=-1)]: Done  72 out of  72 | elapsed:  1.5min finished\n",
      "\n",
      "[2021-02-12 21:10:15] Features: 71/68 -- score: 0.6335645823247034[Parallel(n_jobs=-1)]: Using backend LokyBackend with 16 concurrent workers.\n",
      "[Parallel(n_jobs=-1)]: Done   9 tasks      | elapsed:   20.1s\n",
      "[Parallel(n_jobs=-1)]: Done  71 out of  71 | elapsed:  1.5min finished\n",
      "\n",
      "[2021-02-12 21:11:45] Features: 70/68 -- score: 0.6334800836103671[Parallel(n_jobs=-1)]: Using backend LokyBackend with 16 concurrent workers.\n",
      "[Parallel(n_jobs=-1)]: Done   9 tasks      | elapsed:   20.1s\n",
      "[Parallel(n_jobs=-1)]: Done  70 out of  70 | elapsed:  1.5min finished\n",
      "\n",
      "[2021-02-12 21:13:13] Features: 69/68 -- score: 0.6320026972167317[Parallel(n_jobs=-1)]: Using backend LokyBackend with 16 concurrent workers.\n",
      "[Parallel(n_jobs=-1)]: Done   9 tasks      | elapsed:   19.9s\n",
      "[Parallel(n_jobs=-1)]: Done  69 out of  69 | elapsed:  1.4min finished\n",
      "\n",
      "[2021-02-12 21:14:39] Features: 68/68 -- score: 0.6352230233964498"
     ]
    },
    {
     "data": {
      "text/plain": [
       "SequentialFeatureSelector(estimator=RandomForestClassifier(n_estimators=10,\n",
       "                                                           n_jobs=-1),\n",
       "                          forward=False, k_features=68, n_jobs=-1,\n",
       "                          scoring='roc_auc', verbose=2)"
      ]
     },
     "execution_count": 26,
     "metadata": {},
     "output_type": "execute_result"
    }
   ],
   "source": [
    "sfs.fit(X_train,y_train)"
   ]
  },
  {
   "cell_type": "code",
   "execution_count": 27,
   "id": "committed-bachelor",
   "metadata": {
    "ExecuteTime": {
     "end_time": "2021-02-12T20:14:39.366527Z",
     "start_time": "2021-02-12T20:14:39.362697Z"
    }
   },
   "outputs": [
    {
     "data": {
      "text/plain": [
       "Index(['var_1', 'var_2', 'var_3', 'var_4', 'var_5', 'var_6', 'var_7', 'var_8',\n",
       "       'var_9', 'var_10', 'var_11', 'var_12', 'var_13', 'var_14', 'var_15',\n",
       "       'var_16', 'var_19', 'var_20', 'var_21', 'var_22', 'var_23', 'var_25',\n",
       "       'var_26', 'var_27', 'var_30', 'var_34', 'var_35', 'var_36', 'var_37',\n",
       "       'var_38', 'var_40', 'var_41', 'var_44', 'var_45', 'var_46', 'var_47',\n",
       "       'var_48', 'var_49', 'var_50', 'var_51', 'var_53', 'var_55', 'var_56',\n",
       "       'var_58', 'var_60', 'var_62', 'var_63', 'var_65', 'var_67', 'var_68',\n",
       "       'var_69', 'var_71', 'var_73', 'var_78', 'var_79', 'var_81', 'var_82',\n",
       "       'var_83', 'var_86', 'var_89', 'var_90', 'var_92', 'var_93', 'var_96',\n",
       "       'var_98', 'var_99', 'var_103', 'var_107'],\n",
       "      dtype='object')"
      ]
     },
     "execution_count": 27,
     "metadata": {},
     "output_type": "execute_result"
    }
   ],
   "source": [
    "selected_feat = X_train.columns[list(sfs.k_feature_idx_)]\n",
    "selected_feat"
   ]
  },
  {
   "cell_type": "code",
   "execution_count": 28,
   "id": "bronze-incidence",
   "metadata": {
    "ExecuteTime": {
     "end_time": "2021-02-12T20:14:41.239218Z",
     "start_time": "2021-02-12T20:14:39.368257Z"
    }
   },
   "outputs": [
    {
     "name": "stdout",
     "output_type": "stream",
     "text": [
      "Train set\n",
      "Random Forests roc-auc: 0.7117087155838488\n",
      "Test set\n",
      "Random Forests roc-auc: 0.6964315305753028\n"
     ]
    }
   ],
   "source": [
    "run_randomForests_clf(X_train,X_test,y_train,y_test)"
   ]
  },
  {
   "cell_type": "code",
   "execution_count": 29,
   "id": "considered-cookbook",
   "metadata": {
    "ExecuteTime": {
     "end_time": "2021-02-12T20:14:43.066238Z",
     "start_time": "2021-02-12T20:14:41.241026Z"
    }
   },
   "outputs": [
    {
     "name": "stdout",
     "output_type": "stream",
     "text": [
      "Train set\n",
      "Random Forests roc-auc: 0.7111783699603997\n",
      "Test set\n",
      "Random Forests roc-auc: 0.6955431723933649\n"
     ]
    }
   ],
   "source": [
    "run_randomForests_clf(X_train[selected_feat],X_test[selected_feat],y_train,y_test)"
   ]
  },
  {
   "cell_type": "markdown",
   "id": "three-simulation",
   "metadata": {
    "ExecuteTime": {
     "end_time": "2021-02-12T19:33:36.184801Z",
     "start_time": "2021-02-12T19:33:36.181101Z"
    }
   },
   "source": [
    "Same score with less features!"
   ]
  },
  {
   "cell_type": "markdown",
   "id": "common-glenn",
   "metadata": {},
   "source": [
    "## Regression"
   ]
  },
  {
   "cell_type": "code",
   "execution_count": 30,
   "id": "improving-declaration",
   "metadata": {
    "ExecuteTime": {
     "end_time": "2021-02-12T20:14:43.071110Z",
     "start_time": "2021-02-12T20:14:43.067897Z"
    }
   },
   "outputs": [],
   "source": [
    "sfs = SFS(RandomForestRegressor(n_jobs=-1, n_estimators=10),\n",
    "                  k_features=10,\n",
    "                  forward=False, #Backward Feature Selection\n",
    "                  floating=False,\n",
    "                  verbose=2, #To display the steps\n",
    "                  scoring=\"r2\",\n",
    "                  cv=5,\n",
    "                  n_jobs=-1,\n",
    "                  pre_dispatch='2*n_jobs',\n",
    "                  clone_estimator=True,\n",
    "                  fixed_features=None,\n",
    "                  )"
   ]
  },
  {
   "cell_type": "code",
   "execution_count": 31,
   "id": "prescribed-portuguese",
   "metadata": {
    "ExecuteTime": {
     "end_time": "2021-02-12T20:14:52.353486Z",
     "start_time": "2021-02-12T20:14:43.072642Z"
    }
   },
   "outputs": [
    {
     "name": "stderr",
     "output_type": "stream",
     "text": [
      "[Parallel(n_jobs=-1)]: Using backend LokyBackend with 16 concurrent workers.\n",
      "[Parallel(n_jobs=-1)]: Done   7 out of  25 | elapsed:    0.5s remaining:    1.4s\n",
      "[Parallel(n_jobs=-1)]: Done  20 out of  25 | elapsed:    0.9s remaining:    0.2s\n",
      "[Parallel(n_jobs=-1)]: Done  25 out of  25 | elapsed:    0.9s finished\n",
      "\n",
      "[2021-02-12 21:14:44] Features: 24/10 -- score: 0.82198800606533[Parallel(n_jobs=-1)]: Using backend LokyBackend with 16 concurrent workers.\n",
      "[Parallel(n_jobs=-1)]: Done   6 out of  24 | elapsed:    0.5s remaining:    1.6s\n",
      "[Parallel(n_jobs=-1)]: Done  19 out of  24 | elapsed:    0.9s remaining:    0.2s\n",
      "[Parallel(n_jobs=-1)]: Done  24 out of  24 | elapsed:    0.9s finished\n",
      "\n",
      "[2021-02-12 21:14:45] Features: 23/10 -- score: 0.8190223861782024[Parallel(n_jobs=-1)]: Using backend LokyBackend with 16 concurrent workers.\n",
      "[Parallel(n_jobs=-1)]: Done   4 out of  23 | elapsed:    0.5s remaining:    2.2s\n",
      "[Parallel(n_jobs=-1)]: Done  16 out of  23 | elapsed:    0.6s remaining:    0.3s\n",
      "[Parallel(n_jobs=-1)]: Done  23 out of  23 | elapsed:    0.8s finished\n",
      "\n",
      "[2021-02-12 21:14:45] Features: 22/10 -- score: 0.8328399931529044[Parallel(n_jobs=-1)]: Using backend LokyBackend with 16 concurrent workers.\n",
      "[Parallel(n_jobs=-1)]: Done   3 out of  22 | elapsed:    0.4s remaining:    2.7s\n",
      "[Parallel(n_jobs=-1)]: Done  15 out of  22 | elapsed:    0.7s remaining:    0.3s\n",
      "[Parallel(n_jobs=-1)]: Done  22 out of  22 | elapsed:    0.8s finished\n",
      "\n",
      "[2021-02-12 21:14:46] Features: 21/10 -- score: 0.8345332257857929[Parallel(n_jobs=-1)]: Using backend LokyBackend with 16 concurrent workers.\n",
      "[Parallel(n_jobs=-1)]: Done  12 out of  21 | elapsed:    0.5s remaining:    0.4s\n",
      "[Parallel(n_jobs=-1)]: Done  21 out of  21 | elapsed:    0.7s finished\n",
      "\n",
      "[2021-02-12 21:14:47] Features: 20/10 -- score: 0.827128398185352[Parallel(n_jobs=-1)]: Using backend LokyBackend with 16 concurrent workers.\n",
      "[Parallel(n_jobs=-1)]: Done  11 out of  20 | elapsed:    0.5s remaining:    0.4s\n",
      "[Parallel(n_jobs=-1)]: Done  20 out of  20 | elapsed:    0.7s finished\n",
      "\n",
      "[2021-02-12 21:14:48] Features: 19/10 -- score: 0.8323367649497666[Parallel(n_jobs=-1)]: Using backend LokyBackend with 16 concurrent workers.\n",
      "[Parallel(n_jobs=-1)]: Done   8 out of  19 | elapsed:    0.5s remaining:    0.6s\n",
      "[Parallel(n_jobs=-1)]: Done  19 out of  19 | elapsed:    0.7s finished\n",
      "\n",
      "[2021-02-12 21:14:48] Features: 18/10 -- score: 0.8266079341329166[Parallel(n_jobs=-1)]: Using backend LokyBackend with 16 concurrent workers.\n",
      "[Parallel(n_jobs=-1)]: Done   7 out of  18 | elapsed:    0.4s remaining:    0.7s\n",
      "[Parallel(n_jobs=-1)]: Done  18 out of  18 | elapsed:    0.6s finished\n",
      "\n",
      "[2021-02-12 21:14:49] Features: 17/10 -- score: 0.8360506320625525[Parallel(n_jobs=-1)]: Using backend LokyBackend with 16 concurrent workers.\n",
      "[Parallel(n_jobs=-1)]: Done   4 out of  17 | elapsed:    0.4s remaining:    1.3s\n",
      "[Parallel(n_jobs=-1)]: Done  13 out of  17 | elapsed:    0.5s remaining:    0.1s\n",
      "[Parallel(n_jobs=-1)]: Done  17 out of  17 | elapsed:    0.6s finished\n",
      "\n",
      "[2021-02-12 21:14:50] Features: 16/10 -- score: 0.8273950928744395[Parallel(n_jobs=-1)]: Using backend LokyBackend with 16 concurrent workers.\n",
      "[Parallel(n_jobs=-1)]: Done   3 out of  16 | elapsed:    0.4s remaining:    1.7s\n",
      "[Parallel(n_jobs=-1)]: Done  12 out of  16 | elapsed:    0.4s remaining:    0.1s\n",
      "[Parallel(n_jobs=-1)]: Done  16 out of  16 | elapsed:    0.5s finished\n",
      "\n",
      "[2021-02-12 21:14:50] Features: 15/10 -- score: 0.8331945736168898[Parallel(n_jobs=-1)]: Using backend LokyBackend with 16 concurrent workers.\n",
      "[Parallel(n_jobs=-1)]: Done   8 out of  15 | elapsed:    0.4s remaining:    0.4s\n",
      "[Parallel(n_jobs=-1)]: Done  15 out of  15 | elapsed:    0.4s finished\n",
      "\n",
      "[2021-02-12 21:14:50] Features: 14/10 -- score: 0.8251151688751225[Parallel(n_jobs=-1)]: Using backend LokyBackend with 16 concurrent workers.\n",
      "[Parallel(n_jobs=-1)]: Done   7 out of  14 | elapsed:    0.4s remaining:    0.4s\n",
      "[Parallel(n_jobs=-1)]: Done  14 out of  14 | elapsed:    0.4s finished\n",
      "\n",
      "[2021-02-12 21:14:51] Features: 13/10 -- score: 0.8296816793899419[Parallel(n_jobs=-1)]: Using backend LokyBackend with 16 concurrent workers.\n",
      "[Parallel(n_jobs=-1)]: Done   3 out of  13 | elapsed:    0.3s remaining:    1.1s\n",
      "[Parallel(n_jobs=-1)]: Done  10 out of  13 | elapsed:    0.4s remaining:    0.1s\n",
      "[Parallel(n_jobs=-1)]: Done  13 out of  13 | elapsed:    0.4s finished\n",
      "\n",
      "[2021-02-12 21:14:51] Features: 12/10 -- score: 0.8336170959915254[Parallel(n_jobs=-1)]: Using backend LokyBackend with 16 concurrent workers.\n",
      "[Parallel(n_jobs=-1)]: Done   2 out of  12 | elapsed:    0.3s remaining:    1.4s\n",
      "[Parallel(n_jobs=-1)]: Done   9 out of  12 | elapsed:    0.3s remaining:    0.1s\n",
      "[Parallel(n_jobs=-1)]: Done  12 out of  12 | elapsed:    0.3s finished\n",
      "\n",
      "[2021-02-12 21:14:52] Features: 11/10 -- score: 0.8225175368482324[Parallel(n_jobs=-1)]: Using backend LokyBackend with 16 concurrent workers.\n",
      "[Parallel(n_jobs=-1)]: Done   4 out of  11 | elapsed:    0.3s remaining:    0.5s\n",
      "[Parallel(n_jobs=-1)]: Done  11 out of  11 | elapsed:    0.3s finished\n",
      "\n",
      "[2021-02-12 21:14:52] Features: 10/10 -- score: 0.8238486363480527"
     ]
    },
    {
     "data": {
      "text/plain": [
       "SequentialFeatureSelector(estimator=RandomForestRegressor(n_estimators=10,\n",
       "                                                          n_jobs=-1),\n",
       "                          forward=False, k_features=10, n_jobs=-1, scoring='r2',\n",
       "                          verbose=2)"
      ]
     },
     "execution_count": 31,
     "metadata": {},
     "output_type": "execute_result"
    }
   ],
   "source": [
    "sfs.fit(X_train_housing,y_train_housing)"
   ]
  },
  {
   "cell_type": "code",
   "execution_count": 32,
   "id": "duplicate-allowance",
   "metadata": {
    "ExecuteTime": {
     "end_time": "2021-02-12T20:14:52.358829Z",
     "start_time": "2021-02-12T20:14:52.355284Z"
    }
   },
   "outputs": [
    {
     "data": {
      "text/plain": [
       "Index(['MSSubClass', 'LotArea', 'OverallQual', 'YearRemodAdd', 'BsmtFinSF1',\n",
       "       'GrLivArea', 'BsmtFullBath', 'BedroomAbvGr', 'Fireplaces',\n",
       "       'WoodDeckSF'],\n",
       "      dtype='object')"
      ]
     },
     "execution_count": 32,
     "metadata": {},
     "output_type": "execute_result"
    }
   ],
   "source": [
    "selected_feat = X_train_housing.columns[list(sfs.k_feature_idx_)]\n",
    "selected_feat"
   ]
  },
  {
   "cell_type": "code",
   "execution_count": 33,
   "id": "mineral-index",
   "metadata": {
    "ExecuteTime": {
     "end_time": "2021-02-12T20:14:52.678483Z",
     "start_time": "2021-02-12T20:14:52.360273Z"
    }
   },
   "outputs": [
    {
     "name": "stdout",
     "output_type": "stream",
     "text": [
      "Train set\n",
      "Random Forests roc-auc: 0.8671211082669377\n",
      "Test set\n",
      "Random Forests roc-auc: 0.8336650793250375\n"
     ]
    }
   ],
   "source": [
    "run_randomForests_rgr(X_train_housing, X_test_housing.fillna(0),\n",
    "                  y_train_housing, y_test_housing)"
   ]
  },
  {
   "cell_type": "code",
   "execution_count": 34,
   "id": "beautiful-typing",
   "metadata": {
    "ExecuteTime": {
     "end_time": "2021-02-12T20:14:52.985513Z",
     "start_time": "2021-02-12T20:14:52.679855Z"
    }
   },
   "outputs": [
    {
     "name": "stdout",
     "output_type": "stream",
     "text": [
      "Train set\n",
      "Random Forests roc-auc: 0.8520689067176929\n",
      "Test set\n",
      "Random Forests roc-auc: 0.7875834205375747\n"
     ]
    }
   ],
   "source": [
    "run_randomForests_rgr(X_train_housing[selected_feat], X_test_housing[selected_feat].fillna(\n",
    "    0), y_train_housing, y_test_housing)"
   ]
  },
  {
   "cell_type": "code",
   "execution_count": 35,
   "id": "funny-reasoning",
   "metadata": {
    "ExecuteTime": {
     "end_time": "2021-02-12T20:14:52.989645Z",
     "start_time": "2021-02-12T20:14:52.986858Z"
    }
   },
   "outputs": [
    {
     "name": "stdout",
     "output_type": "stream",
     "text": [
      "Original number of features: (978, 25), after backward selection: (978, 10)\n"
     ]
    }
   ],
   "source": [
    "print(\n",
    "    f\"Original number of features: {X_train_housing.shape}, after backward selection: {X_train_housing[selected_feat].shape}\")"
   ]
  },
  {
   "cell_type": "markdown",
   "id": "informational-insulin",
   "metadata": {
    "ExecuteTime": {
     "end_time": "2021-02-12T19:38:31.491894Z",
     "start_time": "2021-02-12T19:38:31.490031Z"
    }
   },
   "source": [
    "Slighty worst model with 15 features less!"
   ]
  },
  {
   "cell_type": "markdown",
   "id": "underlying-plasma",
   "metadata": {},
   "source": [
    "# Exhaustive Feature Selection"
   ]
  },
  {
   "cell_type": "markdown",
   "id": "white-allowance",
   "metadata": {},
   "source": [
    "Will try all the possible combination possible within a given dataset. Very CPU and time consuming, the MLxtend implementation has two hyperparameters which are min_features for the minimum number of features that we want and max_features for the maximum number of features we want and will try all the combination within this range."
   ]
  },
  {
   "cell_type": "markdown",
   "id": "polar-minute",
   "metadata": {},
   "source": [
    "## Classification"
   ]
  },
  {
   "cell_type": "code",
   "execution_count": 75,
   "id": "toxic-daisy",
   "metadata": {
    "ExecuteTime": {
     "end_time": "2021-02-12T20:52:17.248233Z",
     "start_time": "2021-02-12T20:52:17.244876Z"
    }
   },
   "outputs": [],
   "source": [
    "# Will build all the possible combinaison of 1 features, 2 features,\n",
    "# up until n features and will select the best performing subset.\n",
    "# Very demanding task in terms of computational.\n",
    "\n",
    "# Stop criteria with mlextend of this algorithm is the min and max number of features.\n",
    "\n",
    "efs = EFS(RandomForestClassifier(n_jobs=-1, n_estimators=10),\n",
    "          min_features=70, #Min number of feature for the subset\n",
    "          max_features=72, #Max number of feature for the subset\n",
    "          print_progress=True,\n",
    "          scoring='roc_auc',\n",
    "          cv=5,\n",
    "          n_jobs=-1,\n",
    "          pre_dispatch='2*n_jobs',\n",
    "          clone_estimator=True,\n",
    "          )"
   ]
  },
  {
   "cell_type": "code",
   "execution_count": 76,
   "id": "hindu-republic",
   "metadata": {
    "ExecuteTime": {
     "end_time": "2021-02-12T20:53:10.452305Z",
     "start_time": "2021-02-12T20:52:17.637070Z"
    }
   },
   "outputs": [
    {
     "name": "stderr",
     "output_type": "stream",
     "text": [
      "Features: 2629/2629"
     ]
    },
    {
     "data": {
      "text/plain": [
       "ExhaustiveFeatureSelector(estimator=RandomForestClassifier(n_estimators=10,\n",
       "                                                           n_jobs=-1),\n",
       "                          max_features=72, min_features=70, n_jobs=-1,\n",
       "                          scoring='roc_auc')"
      ]
     },
     "execution_count": 76,
     "metadata": {},
     "output_type": "execute_result"
    }
   ],
   "source": [
    "efs.fit(X_train[:100],y_train[:100]) #sample to get a faster result for the experiment."
   ]
  },
  {
   "cell_type": "code",
   "execution_count": 77,
   "id": "geographic-index",
   "metadata": {
    "ExecuteTime": {
     "end_time": "2021-02-12T20:53:10.815262Z",
     "start_time": "2021-02-12T20:53:10.812913Z"
    }
   },
   "outputs": [],
   "source": [
    "selected_feat = X_train.columns[list(efs.best_idx_)]"
   ]
  },
  {
   "cell_type": "code",
   "execution_count": 78,
   "id": "martial-russell",
   "metadata": {
    "ExecuteTime": {
     "end_time": "2021-02-12T20:53:11.172184Z",
     "start_time": "2021-02-12T20:53:11.169452Z"
    }
   },
   "outputs": [
    {
     "name": "stdout",
     "output_type": "stream",
     "text": [
      "Number of selected features: 70\n"
     ]
    }
   ],
   "source": [
    "print(f\"Number of selected features: {len(selected_feat)}\")"
   ]
  },
  {
   "cell_type": "code",
   "execution_count": 79,
   "id": "rental-label",
   "metadata": {
    "ExecuteTime": {
     "end_time": "2021-02-12T20:53:13.135535Z",
     "start_time": "2021-02-12T20:53:11.503337Z"
    }
   },
   "outputs": [
    {
     "name": "stdout",
     "output_type": "stream",
     "text": [
      "Train set\n",
      "Random Forests roc-auc: 0.7117087155838488\n",
      "Test set\n",
      "Random Forests roc-auc: 0.6964315305753028\n"
     ]
    }
   ],
   "source": [
    "run_randomForests_clf(X_train,X_test,y_train,y_test)"
   ]
  },
  {
   "cell_type": "code",
   "execution_count": 80,
   "id": "iraqi-cornell",
   "metadata": {
    "ExecuteTime": {
     "end_time": "2021-02-12T20:53:15.272056Z",
     "start_time": "2021-02-12T20:53:13.476726Z"
    }
   },
   "outputs": [
    {
     "name": "stdout",
     "output_type": "stream",
     "text": [
      "Train set\n",
      "Random Forests roc-auc: 0.7113019601690855\n",
      "Test set\n",
      "Random Forests roc-auc: 0.697230285676672\n"
     ]
    }
   ],
   "source": [
    "run_randomForests_clf(X_train[selected_feat],X_test[selected_feat],y_train,y_test)"
   ]
  },
  {
   "cell_type": "markdown",
   "id": "entitled-porter",
   "metadata": {},
   "source": [
    "Close to same results!"
   ]
  },
  {
   "cell_type": "markdown",
   "id": "noted-material",
   "metadata": {},
   "source": [
    "## Regression"
   ]
  },
  {
   "cell_type": "code",
   "execution_count": 63,
   "id": "designing-alexander",
   "metadata": {
    "ExecuteTime": {
     "end_time": "2021-02-12T20:50:54.487240Z",
     "start_time": "2021-02-12T20:50:54.483849Z"
    }
   },
   "outputs": [],
   "source": [
    "# Will build all the possible combinaison of 1 features, 2 features,\n",
    "# up until n features and will select the best performing subset.\n",
    "# Very demanding task in terms of computational.\n",
    "\n",
    "# Stop criteria with mlextend of this algorithm is the min and max number of features.\n",
    "\n",
    "efs = EFS(RandomForestRegressor(n_jobs=-1, n_estimators=10),\n",
    "          min_features=23, #Min number of feature for the subset\n",
    "          max_features=25, #Max number of feature for the subset\n",
    "          print_progress=True,\n",
    "          scoring='r2',\n",
    "          cv=5,\n",
    "          n_jobs=1,\n",
    "          pre_dispatch='2*n_jobs',\n",
    "          clone_estimator=True,\n",
    "          )"
   ]
  },
  {
   "cell_type": "code",
   "execution_count": 64,
   "id": "hourly-romania",
   "metadata": {
    "ExecuteTime": {
     "end_time": "2021-02-12T20:51:18.466734Z",
     "start_time": "2021-02-12T20:50:54.871719Z"
    }
   },
   "outputs": [
    {
     "name": "stderr",
     "output_type": "stream",
     "text": [
      "Features: 326/326"
     ]
    },
    {
     "data": {
      "text/plain": [
       "ExhaustiveFeatureSelector(estimator=RandomForestRegressor(n_estimators=10,\n",
       "                                                          n_jobs=-1),\n",
       "                          max_features=25, min_features=23, scoring='r2')"
      ]
     },
     "execution_count": 64,
     "metadata": {},
     "output_type": "execute_result"
    }
   ],
   "source": [
    "efs.fit(X_train_housing[:100],y_train_housing[:100]) #sample to get a faster result for the experiment."
   ]
  },
  {
   "cell_type": "code",
   "execution_count": 70,
   "id": "recognized-jewel",
   "metadata": {
    "ExecuteTime": {
     "end_time": "2021-02-12T20:51:46.310495Z",
     "start_time": "2021-02-12T20:51:46.308014Z"
    }
   },
   "outputs": [],
   "source": [
    "selected_feat = X_train_housing.columns[list(efs.best_idx_)]"
   ]
  },
  {
   "cell_type": "code",
   "execution_count": 71,
   "id": "bored-credits",
   "metadata": {
    "ExecuteTime": {
     "end_time": "2021-02-12T20:51:47.103494Z",
     "start_time": "2021-02-12T20:51:47.101039Z"
    }
   },
   "outputs": [
    {
     "name": "stdout",
     "output_type": "stream",
     "text": [
      "Number of selected features: 23\n"
     ]
    }
   ],
   "source": [
    "print(f\"Number of selected features: {len(selected_feat)}\")"
   ]
  },
  {
   "cell_type": "code",
   "execution_count": 72,
   "id": "present-intro",
   "metadata": {
    "ExecuteTime": {
     "end_time": "2021-02-12T20:51:47.833107Z",
     "start_time": "2021-02-12T20:51:47.543092Z"
    }
   },
   "outputs": [
    {
     "name": "stdout",
     "output_type": "stream",
     "text": [
      "Train set\n",
      "Random Forests roc-auc: 0.8671211082669377\n",
      "Test set\n",
      "Random Forests roc-auc: 0.8336650793250376\n"
     ]
    }
   ],
   "source": [
    "run_randomForests_rgr(X_train_housing, X_test_housing.fillna(0),\n",
    "                  y_train_housing, y_test_housing)"
   ]
  },
  {
   "cell_type": "code",
   "execution_count": 73,
   "id": "opposed-essex",
   "metadata": {
    "ExecuteTime": {
     "end_time": "2021-02-12T20:51:48.451868Z",
     "start_time": "2021-02-12T20:51:48.170540Z"
    }
   },
   "outputs": [
    {
     "name": "stdout",
     "output_type": "stream",
     "text": [
      "Train set\n",
      "Random Forests roc-auc: 0.8663165919440726\n",
      "Test set\n",
      "Random Forests roc-auc: 0.8309313636840443\n"
     ]
    }
   ],
   "source": [
    "run_randomForests_rgr(X_train_housing[selected_feat], X_test_housing[selected_feat].fillna(\n",
    "    0), y_train_housing, y_test_housing)"
   ]
  },
  {
   "cell_type": "markdown",
   "id": "danish-architect",
   "metadata": {
    "ExecuteTime": {
     "end_time": "2021-02-12T20:51:48.878684Z",
     "start_time": "2021-02-12T20:51:48.874822Z"
    }
   },
   "source": [
    "Close to the same score once again with less features!"
   ]
  }
 ],
 "metadata": {
  "hide_input": false,
  "kernelspec": {
   "display_name": "Python 3",
   "language": "python",
   "name": "python3"
  },
  "language_info": {
   "codemirror_mode": {
    "name": "ipython",
    "version": 3
   },
   "file_extension": ".py",
   "mimetype": "text/x-python",
   "name": "python",
   "nbconvert_exporter": "python",
   "pygments_lexer": "ipython3",
   "version": "3.8.5"
  },
  "toc": {
   "base_numbering": 1,
   "nav_menu": {},
   "number_sections": true,
   "sideBar": true,
   "skip_h1_title": false,
   "title_cell": "Table of Contents",
   "title_sidebar": "Contents",
   "toc_cell": false,
   "toc_position": {
    "height": "calc(100% - 180px)",
    "left": "10px",
    "top": "150px",
    "width": "358.390625px"
   },
   "toc_section_display": true,
   "toc_window_display": true
  },
  "varInspector": {
   "cols": {
    "lenName": 16,
    "lenType": 16,
    "lenVar": 40
   },
   "kernels_config": {
    "python": {
     "delete_cmd_postfix": "",
     "delete_cmd_prefix": "del ",
     "library": "var_list.py",
     "varRefreshCmd": "print(var_dic_list())"
    },
    "r": {
     "delete_cmd_postfix": ") ",
     "delete_cmd_prefix": "rm(",
     "library": "var_list.r",
     "varRefreshCmd": "cat(var_dic_list()) "
    }
   },
   "types_to_exclude": [
    "module",
    "function",
    "builtin_function_or_method",
    "instance",
    "_Feature"
   ],
   "window_display": false
  }
 },
 "nbformat": 4,
 "nbformat_minor": 5
}
