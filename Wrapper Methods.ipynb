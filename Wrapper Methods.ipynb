{
 "cells": [
  {
   "cell_type": "code",
   "execution_count": 1,
   "id": "logical-comfort",
   "metadata": {
    "ExecuteTime": {
     "end_time": "2021-02-12T20:04:43.615838Z",
     "start_time": "2021-02-12T20:04:43.040319Z"
    }
   },
   "outputs": [],
   "source": [
    "#import librairies\n",
    "\n",
    "import pandas as pd\n",
    "\n",
    "import numpy as np\n",
    "\n",
    "from sklearn.model_selection import train_test_split\n",
    "from sklearn.metrics import roc_auc_score,r2_score\n",
    "\n",
    "from sklearn.ensemble import RandomForestRegressor, RandomForestClassifier\n",
    "from sklearn.pipeline import Pipeline\n",
    "\n",
    "from feature_engine.selection import DropConstantFeatures, DropCorrelatedFeatures\n",
    "\n",
    "from mlxtend.feature_selection import SequentialFeatureSelector as SFS, ExhaustiveFeatureSelector as EFS"
   ]
  },
  {
   "cell_type": "code",
   "execution_count": 2,
   "id": "pregnant-exhibit",
   "metadata": {
    "ExecuteTime": {
     "end_time": "2021-02-12T20:04:44.458616Z",
     "start_time": "2021-02-12T20:04:43.617448Z"
    }
   },
   "outputs": [],
   "source": [
    "# Reading data|\n",
    "df = pd.read_csv(\"./precleaned-datasets/dataset_2.csv\")\n",
    "housing = pd.read_csv(\n",
    "    \"./house-prices-advanced-regression-techniques/train.csv\")"
   ]
  },
  {
   "cell_type": "code",
   "execution_count": 3,
   "id": "published-stopping",
   "metadata": {
    "ExecuteTime": {
     "end_time": "2021-02-12T20:04:44.485302Z",
     "start_time": "2021-02-12T20:04:44.460882Z"
    }
   },
   "outputs": [
    {
     "data": {
      "text/html": [
       "<div>\n",
       "<style scoped>\n",
       "    .dataframe tbody tr th:only-of-type {\n",
       "        vertical-align: middle;\n",
       "    }\n",
       "\n",
       "    .dataframe tbody tr th {\n",
       "        vertical-align: top;\n",
       "    }\n",
       "\n",
       "    .dataframe thead th {\n",
       "        text-align: right;\n",
       "    }\n",
       "</style>\n",
       "<table border=\"1\" class=\"dataframe\">\n",
       "  <thead>\n",
       "    <tr style=\"text-align: right;\">\n",
       "      <th></th>\n",
       "      <th>var_1</th>\n",
       "      <th>var_2</th>\n",
       "      <th>var_3</th>\n",
       "      <th>var_4</th>\n",
       "      <th>var_5</th>\n",
       "      <th>var_6</th>\n",
       "      <th>var_7</th>\n",
       "      <th>var_8</th>\n",
       "      <th>var_9</th>\n",
       "      <th>var_10</th>\n",
       "      <th>...</th>\n",
       "      <th>var_100</th>\n",
       "      <th>var_101</th>\n",
       "      <th>var_102</th>\n",
       "      <th>var_103</th>\n",
       "      <th>var_104</th>\n",
       "      <th>var_105</th>\n",
       "      <th>var_106</th>\n",
       "      <th>var_107</th>\n",
       "      <th>var_108</th>\n",
       "      <th>var_109</th>\n",
       "    </tr>\n",
       "  </thead>\n",
       "  <tbody>\n",
       "    <tr>\n",
       "      <th>0</th>\n",
       "      <td>4.532710</td>\n",
       "      <td>3.280834</td>\n",
       "      <td>17.982476</td>\n",
       "      <td>4.404259</td>\n",
       "      <td>2.349910</td>\n",
       "      <td>0.603264</td>\n",
       "      <td>2.784655</td>\n",
       "      <td>0.323146</td>\n",
       "      <td>12.009691</td>\n",
       "      <td>0.139346</td>\n",
       "      <td>...</td>\n",
       "      <td>2.079066</td>\n",
       "      <td>6.748819</td>\n",
       "      <td>2.941445</td>\n",
       "      <td>18.360496</td>\n",
       "      <td>17.726613</td>\n",
       "      <td>7.774031</td>\n",
       "      <td>1.473441</td>\n",
       "      <td>1.973832</td>\n",
       "      <td>0.976806</td>\n",
       "      <td>2.541417</td>\n",
       "    </tr>\n",
       "    <tr>\n",
       "      <th>1</th>\n",
       "      <td>5.821374</td>\n",
       "      <td>12.098722</td>\n",
       "      <td>13.309151</td>\n",
       "      <td>4.125599</td>\n",
       "      <td>1.045386</td>\n",
       "      <td>1.832035</td>\n",
       "      <td>1.833494</td>\n",
       "      <td>0.709090</td>\n",
       "      <td>8.652883</td>\n",
       "      <td>0.102757</td>\n",
       "      <td>...</td>\n",
       "      <td>2.479789</td>\n",
       "      <td>7.795290</td>\n",
       "      <td>3.557890</td>\n",
       "      <td>17.383378</td>\n",
       "      <td>15.193423</td>\n",
       "      <td>8.263673</td>\n",
       "      <td>1.878108</td>\n",
       "      <td>0.567939</td>\n",
       "      <td>1.018818</td>\n",
       "      <td>1.416433</td>\n",
       "    </tr>\n",
       "    <tr>\n",
       "      <th>2</th>\n",
       "      <td>1.938776</td>\n",
       "      <td>7.952752</td>\n",
       "      <td>0.972671</td>\n",
       "      <td>3.459267</td>\n",
       "      <td>1.935782</td>\n",
       "      <td>0.621463</td>\n",
       "      <td>2.338139</td>\n",
       "      <td>0.344948</td>\n",
       "      <td>9.937850</td>\n",
       "      <td>11.691283</td>\n",
       "      <td>...</td>\n",
       "      <td>1.861487</td>\n",
       "      <td>6.130886</td>\n",
       "      <td>3.401064</td>\n",
       "      <td>15.850471</td>\n",
       "      <td>14.620599</td>\n",
       "      <td>6.849776</td>\n",
       "      <td>1.098210</td>\n",
       "      <td>1.959183</td>\n",
       "      <td>1.575493</td>\n",
       "      <td>1.857893</td>\n",
       "    </tr>\n",
       "    <tr>\n",
       "      <th>3</th>\n",
       "      <td>6.020690</td>\n",
       "      <td>9.900544</td>\n",
       "      <td>17.869637</td>\n",
       "      <td>4.366715</td>\n",
       "      <td>1.973693</td>\n",
       "      <td>2.026012</td>\n",
       "      <td>2.853025</td>\n",
       "      <td>0.674847</td>\n",
       "      <td>11.816859</td>\n",
       "      <td>0.011151</td>\n",
       "      <td>...</td>\n",
       "      <td>1.340944</td>\n",
       "      <td>7.240058</td>\n",
       "      <td>2.417235</td>\n",
       "      <td>15.194609</td>\n",
       "      <td>13.553772</td>\n",
       "      <td>7.229971</td>\n",
       "      <td>0.835158</td>\n",
       "      <td>2.234482</td>\n",
       "      <td>0.946170</td>\n",
       "      <td>2.700606</td>\n",
       "    </tr>\n",
       "    <tr>\n",
       "      <th>4</th>\n",
       "      <td>3.909506</td>\n",
       "      <td>10.576516</td>\n",
       "      <td>0.934191</td>\n",
       "      <td>3.419572</td>\n",
       "      <td>1.871438</td>\n",
       "      <td>3.340811</td>\n",
       "      <td>1.868282</td>\n",
       "      <td>0.439865</td>\n",
       "      <td>13.585620</td>\n",
       "      <td>1.153366</td>\n",
       "      <td>...</td>\n",
       "      <td>2.738095</td>\n",
       "      <td>6.565509</td>\n",
       "      <td>4.341414</td>\n",
       "      <td>15.893832</td>\n",
       "      <td>11.929787</td>\n",
       "      <td>6.954033</td>\n",
       "      <td>1.853364</td>\n",
       "      <td>0.511027</td>\n",
       "      <td>2.599562</td>\n",
       "      <td>0.811364</td>\n",
       "    </tr>\n",
       "  </tbody>\n",
       "</table>\n",
       "<p>5 rows × 109 columns</p>\n",
       "</div>"
      ],
      "text/plain": [
       "      var_1      var_2      var_3     var_4     var_5     var_6     var_7  \\\n",
       "0  4.532710   3.280834  17.982476  4.404259  2.349910  0.603264  2.784655   \n",
       "1  5.821374  12.098722  13.309151  4.125599  1.045386  1.832035  1.833494   \n",
       "2  1.938776   7.952752   0.972671  3.459267  1.935782  0.621463  2.338139   \n",
       "3  6.020690   9.900544  17.869637  4.366715  1.973693  2.026012  2.853025   \n",
       "4  3.909506  10.576516   0.934191  3.419572  1.871438  3.340811  1.868282   \n",
       "\n",
       "      var_8      var_9     var_10  ...   var_100   var_101   var_102  \\\n",
       "0  0.323146  12.009691   0.139346  ...  2.079066  6.748819  2.941445   \n",
       "1  0.709090   8.652883   0.102757  ...  2.479789  7.795290  3.557890   \n",
       "2  0.344948   9.937850  11.691283  ...  1.861487  6.130886  3.401064   \n",
       "3  0.674847  11.816859   0.011151  ...  1.340944  7.240058  2.417235   \n",
       "4  0.439865  13.585620   1.153366  ...  2.738095  6.565509  4.341414   \n",
       "\n",
       "     var_103    var_104   var_105   var_106   var_107   var_108   var_109  \n",
       "0  18.360496  17.726613  7.774031  1.473441  1.973832  0.976806  2.541417  \n",
       "1  17.383378  15.193423  8.263673  1.878108  0.567939  1.018818  1.416433  \n",
       "2  15.850471  14.620599  6.849776  1.098210  1.959183  1.575493  1.857893  \n",
       "3  15.194609  13.553772  7.229971  0.835158  2.234482  0.946170  2.700606  \n",
       "4  15.893832  11.929787  6.954033  1.853364  0.511027  2.599562  0.811364  \n",
       "\n",
       "[5 rows x 109 columns]"
      ]
     },
     "execution_count": 3,
     "metadata": {},
     "output_type": "execute_result"
    }
   ],
   "source": [
    "df.head()"
   ]
  },
  {
   "cell_type": "code",
   "execution_count": 4,
   "id": "hungry-poison",
   "metadata": {
    "ExecuteTime": {
     "end_time": "2021-02-12T20:04:44.504090Z",
     "start_time": "2021-02-12T20:04:44.487104Z"
    }
   },
   "outputs": [
    {
     "data": {
      "text/html": [
       "<div>\n",
       "<style scoped>\n",
       "    .dataframe tbody tr th:only-of-type {\n",
       "        vertical-align: middle;\n",
       "    }\n",
       "\n",
       "    .dataframe tbody tr th {\n",
       "        vertical-align: top;\n",
       "    }\n",
       "\n",
       "    .dataframe thead th {\n",
       "        text-align: right;\n",
       "    }\n",
       "</style>\n",
       "<table border=\"1\" class=\"dataframe\">\n",
       "  <thead>\n",
       "    <tr style=\"text-align: right;\">\n",
       "      <th></th>\n",
       "      <th>Id</th>\n",
       "      <th>MSSubClass</th>\n",
       "      <th>MSZoning</th>\n",
       "      <th>LotFrontage</th>\n",
       "      <th>LotArea</th>\n",
       "      <th>Street</th>\n",
       "      <th>Alley</th>\n",
       "      <th>LotShape</th>\n",
       "      <th>LandContour</th>\n",
       "      <th>Utilities</th>\n",
       "      <th>...</th>\n",
       "      <th>PoolArea</th>\n",
       "      <th>PoolQC</th>\n",
       "      <th>Fence</th>\n",
       "      <th>MiscFeature</th>\n",
       "      <th>MiscVal</th>\n",
       "      <th>MoSold</th>\n",
       "      <th>YrSold</th>\n",
       "      <th>SaleType</th>\n",
       "      <th>SaleCondition</th>\n",
       "      <th>SalePrice</th>\n",
       "    </tr>\n",
       "  </thead>\n",
       "  <tbody>\n",
       "    <tr>\n",
       "      <th>0</th>\n",
       "      <td>1</td>\n",
       "      <td>60</td>\n",
       "      <td>RL</td>\n",
       "      <td>65.0</td>\n",
       "      <td>8450</td>\n",
       "      <td>Pave</td>\n",
       "      <td>NaN</td>\n",
       "      <td>Reg</td>\n",
       "      <td>Lvl</td>\n",
       "      <td>AllPub</td>\n",
       "      <td>...</td>\n",
       "      <td>0</td>\n",
       "      <td>NaN</td>\n",
       "      <td>NaN</td>\n",
       "      <td>NaN</td>\n",
       "      <td>0</td>\n",
       "      <td>2</td>\n",
       "      <td>2008</td>\n",
       "      <td>WD</td>\n",
       "      <td>Normal</td>\n",
       "      <td>208500</td>\n",
       "    </tr>\n",
       "    <tr>\n",
       "      <th>1</th>\n",
       "      <td>2</td>\n",
       "      <td>20</td>\n",
       "      <td>RL</td>\n",
       "      <td>80.0</td>\n",
       "      <td>9600</td>\n",
       "      <td>Pave</td>\n",
       "      <td>NaN</td>\n",
       "      <td>Reg</td>\n",
       "      <td>Lvl</td>\n",
       "      <td>AllPub</td>\n",
       "      <td>...</td>\n",
       "      <td>0</td>\n",
       "      <td>NaN</td>\n",
       "      <td>NaN</td>\n",
       "      <td>NaN</td>\n",
       "      <td>0</td>\n",
       "      <td>5</td>\n",
       "      <td>2007</td>\n",
       "      <td>WD</td>\n",
       "      <td>Normal</td>\n",
       "      <td>181500</td>\n",
       "    </tr>\n",
       "    <tr>\n",
       "      <th>2</th>\n",
       "      <td>3</td>\n",
       "      <td>60</td>\n",
       "      <td>RL</td>\n",
       "      <td>68.0</td>\n",
       "      <td>11250</td>\n",
       "      <td>Pave</td>\n",
       "      <td>NaN</td>\n",
       "      <td>IR1</td>\n",
       "      <td>Lvl</td>\n",
       "      <td>AllPub</td>\n",
       "      <td>...</td>\n",
       "      <td>0</td>\n",
       "      <td>NaN</td>\n",
       "      <td>NaN</td>\n",
       "      <td>NaN</td>\n",
       "      <td>0</td>\n",
       "      <td>9</td>\n",
       "      <td>2008</td>\n",
       "      <td>WD</td>\n",
       "      <td>Normal</td>\n",
       "      <td>223500</td>\n",
       "    </tr>\n",
       "    <tr>\n",
       "      <th>3</th>\n",
       "      <td>4</td>\n",
       "      <td>70</td>\n",
       "      <td>RL</td>\n",
       "      <td>60.0</td>\n",
       "      <td>9550</td>\n",
       "      <td>Pave</td>\n",
       "      <td>NaN</td>\n",
       "      <td>IR1</td>\n",
       "      <td>Lvl</td>\n",
       "      <td>AllPub</td>\n",
       "      <td>...</td>\n",
       "      <td>0</td>\n",
       "      <td>NaN</td>\n",
       "      <td>NaN</td>\n",
       "      <td>NaN</td>\n",
       "      <td>0</td>\n",
       "      <td>2</td>\n",
       "      <td>2006</td>\n",
       "      <td>WD</td>\n",
       "      <td>Abnorml</td>\n",
       "      <td>140000</td>\n",
       "    </tr>\n",
       "    <tr>\n",
       "      <th>4</th>\n",
       "      <td>5</td>\n",
       "      <td>60</td>\n",
       "      <td>RL</td>\n",
       "      <td>84.0</td>\n",
       "      <td>14260</td>\n",
       "      <td>Pave</td>\n",
       "      <td>NaN</td>\n",
       "      <td>IR1</td>\n",
       "      <td>Lvl</td>\n",
       "      <td>AllPub</td>\n",
       "      <td>...</td>\n",
       "      <td>0</td>\n",
       "      <td>NaN</td>\n",
       "      <td>NaN</td>\n",
       "      <td>NaN</td>\n",
       "      <td>0</td>\n",
       "      <td>12</td>\n",
       "      <td>2008</td>\n",
       "      <td>WD</td>\n",
       "      <td>Normal</td>\n",
       "      <td>250000</td>\n",
       "    </tr>\n",
       "  </tbody>\n",
       "</table>\n",
       "<p>5 rows × 81 columns</p>\n",
       "</div>"
      ],
      "text/plain": [
       "   Id  MSSubClass MSZoning  LotFrontage  LotArea Street Alley LotShape  \\\n",
       "0   1          60       RL         65.0     8450   Pave   NaN      Reg   \n",
       "1   2          20       RL         80.0     9600   Pave   NaN      Reg   \n",
       "2   3          60       RL         68.0    11250   Pave   NaN      IR1   \n",
       "3   4          70       RL         60.0     9550   Pave   NaN      IR1   \n",
       "4   5          60       RL         84.0    14260   Pave   NaN      IR1   \n",
       "\n",
       "  LandContour Utilities  ... PoolArea PoolQC Fence MiscFeature MiscVal MoSold  \\\n",
       "0         Lvl    AllPub  ...        0    NaN   NaN         NaN       0      2   \n",
       "1         Lvl    AllPub  ...        0    NaN   NaN         NaN       0      5   \n",
       "2         Lvl    AllPub  ...        0    NaN   NaN         NaN       0      9   \n",
       "3         Lvl    AllPub  ...        0    NaN   NaN         NaN       0      2   \n",
       "4         Lvl    AllPub  ...        0    NaN   NaN         NaN       0     12   \n",
       "\n",
       "  YrSold  SaleType  SaleCondition  SalePrice  \n",
       "0   2008        WD         Normal     208500  \n",
       "1   2007        WD         Normal     181500  \n",
       "2   2008        WD         Normal     223500  \n",
       "3   2006        WD        Abnorml     140000  \n",
       "4   2008        WD         Normal     250000  \n",
       "\n",
       "[5 rows x 81 columns]"
      ]
     },
     "execution_count": 4,
     "metadata": {},
     "output_type": "execute_result"
    }
   ],
   "source": [
    "housing.head()"
   ]
  },
  {
   "cell_type": "code",
   "execution_count": 5,
   "id": "demonstrated-category",
   "metadata": {
    "ExecuteTime": {
     "end_time": "2021-02-12T20:04:44.509875Z",
     "start_time": "2021-02-12T20:04:44.505236Z"
    }
   },
   "outputs": [],
   "source": [
    "columns = [col for col in housing.columns if housing[col].dtype != \"object\"]"
   ]
  },
  {
   "cell_type": "code",
   "execution_count": 6,
   "id": "sudden-journalist",
   "metadata": {
    "ExecuteTime": {
     "end_time": "2021-02-12T20:04:44.514080Z",
     "start_time": "2021-02-12T20:04:44.511263Z"
    }
   },
   "outputs": [],
   "source": [
    "housing = housing[columns]"
   ]
  },
  {
   "cell_type": "code",
   "execution_count": 7,
   "id": "funny-alberta",
   "metadata": {
    "ExecuteTime": {
     "end_time": "2021-02-12T20:04:44.590840Z",
     "start_time": "2021-02-12T20:04:44.515359Z"
    }
   },
   "outputs": [],
   "source": [
    "X_train, X_test, y_train, y_test = train_test_split(df.drop(\n",
    "    labels=[\"target\"], axis=1), df[\"target\"], test_size=0.33, random_state=42)"
   ]
  },
  {
   "cell_type": "code",
   "execution_count": 8,
   "id": "comprehensive-hometown",
   "metadata": {
    "ExecuteTime": {
     "end_time": "2021-02-12T20:04:44.601895Z",
     "start_time": "2021-02-12T20:04:44.595659Z"
    }
   },
   "outputs": [],
   "source": [
    "X_train_housing, X_test_housing, y_train_housing, y_test_housing = train_test_split(housing.drop(\n",
    "    labels=[\"SalePrice\"], axis=1), housing[\"SalePrice\"], test_size=0.33, random_state=42)"
   ]
  },
  {
   "cell_type": "code",
   "execution_count": 9,
   "id": "solved-bread",
   "metadata": {
    "ExecuteTime": {
     "end_time": "2021-02-12T20:04:44.607868Z",
     "start_time": "2021-02-12T20:04:44.605008Z"
    }
   },
   "outputs": [],
   "source": [
    "pipeline = Pipeline([\n",
    "    (\"drop_constante\", DropConstantFeatures(tol=0.8)),\n",
    "    (\"drop_correlated\", DropCorrelatedFeatures(variables=None,\n",
    "                                               method='pearson',\n",
    "                                               threshold=0.8,\n",
    "                                               missing_values='ignore',\n",
    "                                               ))\n",
    "])"
   ]
  },
  {
   "cell_type": "code",
   "execution_count": 10,
   "id": "important-wages",
   "metadata": {
    "ExecuteTime": {
     "end_time": "2021-02-12T20:04:46.156592Z",
     "start_time": "2021-02-12T20:04:44.609957Z"
    }
   },
   "outputs": [],
   "source": [
    "X_train = pipeline.fit_transform(X_train)\n",
    "X_test = pipeline.transform(X_test)"
   ]
  },
  {
   "cell_type": "code",
   "execution_count": 11,
   "id": "durable-crowd",
   "metadata": {
    "ExecuteTime": {
     "end_time": "2021-02-12T20:04:46.161430Z",
     "start_time": "2021-02-12T20:04:46.158640Z"
    }
   },
   "outputs": [],
   "source": [
    "pipeline = Pipeline([\n",
    "    (\"drop_constante\", DropConstantFeatures(tol=0.8)),\n",
    "    (\"drop_correlated\", DropCorrelatedFeatures(variables=None,\n",
    "                                               method='pearson',\n",
    "                                               threshold=0.8,\n",
    "                                               missing_values='ignore',\n",
    "                                               ))\n",
    "])"
   ]
  },
  {
   "cell_type": "code",
   "execution_count": 12,
   "id": "compliant-volume",
   "metadata": {
    "ExecuteTime": {
     "end_time": "2021-02-12T20:04:46.211317Z",
     "start_time": "2021-02-12T20:04:46.163301Z"
    }
   },
   "outputs": [],
   "source": [
    "X_train_housing = pipeline.fit_transform(X_train_housing.fillna(0))\n",
    "X_test_housing = pipeline.transform(X_test_housing)"
   ]
  },
  {
   "cell_type": "markdown",
   "id": "geographic-mexico",
   "metadata": {},
   "source": [
    "# Step Forward Feature Selection"
   ]
  },
  {
   "cell_type": "markdown",
   "id": "lasting-blank",
   "metadata": {},
   "source": [
    "## Classification"
   ]
  },
  {
   "cell_type": "code",
   "execution_count": 13,
   "id": "loving-drunk",
   "metadata": {
    "ExecuteTime": {
     "end_time": "2021-02-12T20:04:46.217660Z",
     "start_time": "2021-02-12T20:04:46.213601Z"
    }
   },
   "outputs": [],
   "source": [
    "sfs = SFS(RandomForestClassifier(n_jobs=-1, n_estimators=10),\n",
    "                  k_features=10,\n",
    "                  forward=True, #Forward Feature Selection\n",
    "                  floating=False,\n",
    "                  verbose=2, #To display the steps\n",
    "                  scoring=\"roc_auc\",\n",
    "                  cv=5,\n",
    "                  n_jobs=-1,\n",
    "                  pre_dispatch='2*n_jobs',\n",
    "                  clone_estimator=True,\n",
    "                  fixed_features=None,\n",
    "                  )"
   ]
  },
  {
   "cell_type": "code",
   "execution_count": null,
   "id": "textile-morgan",
   "metadata": {
    "ExecuteTime": {
     "start_time": "2021-02-12T20:04:43.053Z"
    }
   },
   "outputs": [
    {
     "name": "stderr",
     "output_type": "stream",
     "text": [
      "[Parallel(n_jobs=-1)]: Using backend LokyBackend with 16 concurrent workers.\n",
      "[Parallel(n_jobs=-1)]: Done   9 tasks      | elapsed:    8.2s\n"
     ]
    }
   ],
   "source": [
    "sfs.fit(X_train,y_train)"
   ]
  },
  {
   "cell_type": "code",
   "execution_count": null,
   "id": "african-balance",
   "metadata": {
    "ExecuteTime": {
     "start_time": "2021-02-12T20:04:43.054Z"
    }
   },
   "outputs": [],
   "source": [
    "selected_feat = X_train.columns[list(sfs.k_feature_idx_)]\n",
    "selected_feat"
   ]
  },
  {
   "cell_type": "code",
   "execution_count": null,
   "id": "anticipated-superior",
   "metadata": {
    "ExecuteTime": {
     "start_time": "2021-02-12T20:04:43.055Z"
    }
   },
   "outputs": [],
   "source": [
    "# function to train random forests and evaluate the performance\n",
    "\n",
    "def run_randomForests_clf(X_train, X_test, y_train, y_test):\n",
    "\n",
    "    rf = RandomForestClassifier(\n",
    "        n_estimators=200, random_state=39, max_depth=4, n_jobs=-1)\n",
    "    rf.fit(X_train, y_train)\n",
    "\n",
    "    print('Train set')\n",
    "    pred = rf.predict_proba(X_train)\n",
    "    print(\n",
    "        'Random Forests roc-auc: {}'.format(roc_auc_score(y_train, pred[:, 1])))\n",
    "\n",
    "    print('Test set')\n",
    "    pred = rf.predict_proba(X_test)\n",
    "    print(\n",
    "        'Random Forests roc-auc: {}'.format(roc_auc_score(y_test, pred[:, 1])))"
   ]
  },
  {
   "cell_type": "code",
   "execution_count": null,
   "id": "protecting-responsibility",
   "metadata": {
    "ExecuteTime": {
     "start_time": "2021-02-12T20:04:43.057Z"
    }
   },
   "outputs": [],
   "source": [
    "run_randomForests_clf(X_train,X_test,y_train,y_test)"
   ]
  },
  {
   "cell_type": "code",
   "execution_count": null,
   "id": "acute-biodiversity",
   "metadata": {
    "ExecuteTime": {
     "start_time": "2021-02-12T20:04:43.058Z"
    }
   },
   "outputs": [],
   "source": [
    "run_randomForests_clf(X_train[selected_feat],X_test[selected_feat],y_train,y_test)"
   ]
  },
  {
   "cell_type": "markdown",
   "id": "taken-rider",
   "metadata": {},
   "source": [
    "#Slightly better model with fewer features!"
   ]
  },
  {
   "cell_type": "markdown",
   "id": "coated-rugby",
   "metadata": {},
   "source": [
    "## Regression"
   ]
  },
  {
   "cell_type": "code",
   "execution_count": null,
   "id": "homeless-things",
   "metadata": {
    "ExecuteTime": {
     "start_time": "2021-02-12T20:04:43.060Z"
    }
   },
   "outputs": [],
   "source": [
    "sfs = SFS(RandomForestRegressor(n_jobs=-1, n_estimators=10),\n",
    "                  k_features=10,\n",
    "                  forward=True, #Forward Feature Selection\n",
    "                  floating=False,\n",
    "                  verbose=2, #To display the steps\n",
    "                  scoring=\"r2\",\n",
    "                  cv=5,\n",
    "                  n_jobs=-1,\n",
    "                  pre_dispatch='2*n_jobs',\n",
    "                  clone_estimator=True,\n",
    "                  fixed_features=None,\n",
    "                  )"
   ]
  },
  {
   "cell_type": "code",
   "execution_count": null,
   "id": "hired-superintendent",
   "metadata": {
    "ExecuteTime": {
     "start_time": "2021-02-12T20:04:43.061Z"
    }
   },
   "outputs": [],
   "source": [
    "sfs.fit(X_train_housing,y_train_housing)"
   ]
  },
  {
   "cell_type": "code",
   "execution_count": null,
   "id": "facial-manhattan",
   "metadata": {
    "ExecuteTime": {
     "start_time": "2021-02-12T20:04:43.062Z"
    }
   },
   "outputs": [],
   "source": [
    "selected_feat = X_train_housing.columns[list(sfs.k_feature_idx_)]\n",
    "selected_feat"
   ]
  },
  {
   "cell_type": "code",
   "execution_count": null,
   "id": "jewish-receipt",
   "metadata": {
    "ExecuteTime": {
     "start_time": "2021-02-12T20:04:43.063Z"
    }
   },
   "outputs": [],
   "source": [
    "# function to train random forests and evaluate the performance\n",
    "\n",
    "def run_randomForests_rgr(X_train, X_test, y_train, y_test):\n",
    "\n",
    "    rf = RandomForestRegressor(\n",
    "        n_estimators=200, random_state=39, max_depth=4, n_jobs=-1)\n",
    "    rf.fit(X_train, y_train)\n",
    "\n",
    "    print('Train set')\n",
    "    pred = rf.predict(X_train)\n",
    "    print('Random Forests roc-auc: {}'.format(r2_score(y_train, pred)))\n",
    "\n",
    "    print('Test set')\n",
    "    pred = rf.predict(X_test)\n",
    "    print('Random Forests roc-auc: {}'.format(r2_score(y_test, pred)))"
   ]
  },
  {
   "cell_type": "code",
   "execution_count": null,
   "id": "alternate-speech",
   "metadata": {
    "ExecuteTime": {
     "start_time": "2021-02-12T20:04:43.065Z"
    }
   },
   "outputs": [],
   "source": [
    "run_randomForests_rgr(X_train_housing,X_test_housing.fillna(0),y_train_housing,y_test_housing)"
   ]
  },
  {
   "cell_type": "code",
   "execution_count": null,
   "id": "medium-discount",
   "metadata": {
    "ExecuteTime": {
     "start_time": "2021-02-12T20:04:43.066Z"
    }
   },
   "outputs": [],
   "source": [
    "run_randomForests_rgr(X_train_housing[selected_feat],X_test_housing[selected_feat].fillna(0),y_train_housing,y_test_housing)"
   ]
  },
  {
   "cell_type": "markdown",
   "id": "damaged-triumph",
   "metadata": {},
   "source": [
    "Close to same score but with fewer features."
   ]
  },
  {
   "cell_type": "markdown",
   "id": "focal-freeze",
   "metadata": {},
   "source": [
    "# Step Backward Feature Selection"
   ]
  },
  {
   "cell_type": "markdown",
   "id": "directed-cologne",
   "metadata": {},
   "source": [
    "## Classification"
   ]
  },
  {
   "cell_type": "code",
   "execution_count": null,
   "id": "random-constitutional",
   "metadata": {
    "ExecuteTime": {
     "start_time": "2021-02-12T20:04:43.067Z"
    }
   },
   "outputs": [],
   "source": [
    "sfs = SFS(RandomForestClassifier(n_jobs=-1, n_estimators=10),\n",
    "                  k_features=68,\n",
    "                  forward=False, #Backward Feature Selection\n",
    "                  floating=False,\n",
    "                  verbose=2, #To display the steps\n",
    "                  scoring=\"roc_auc\",\n",
    "                  cv=5,\n",
    "                  n_jobs=-1,\n",
    "                  pre_dispatch='2*n_jobs',\n",
    "                  clone_estimator=True,\n",
    "                  fixed_features=None,\n",
    "                  )"
   ]
  },
  {
   "cell_type": "code",
   "execution_count": null,
   "id": "pleasant-departure",
   "metadata": {
    "ExecuteTime": {
     "start_time": "2021-02-12T20:04:43.068Z"
    }
   },
   "outputs": [],
   "source": [
    "sfs.fit(X_train,y_train)"
   ]
  },
  {
   "cell_type": "code",
   "execution_count": null,
   "id": "committed-bachelor",
   "metadata": {
    "ExecuteTime": {
     "start_time": "2021-02-12T20:04:43.070Z"
    }
   },
   "outputs": [],
   "source": [
    "selected_feat = X_train.columns[list(sfs.k_feature_idx_)]\n",
    "selected_feat"
   ]
  },
  {
   "cell_type": "code",
   "execution_count": null,
   "id": "bronze-incidence",
   "metadata": {
    "ExecuteTime": {
     "start_time": "2021-02-12T20:04:43.071Z"
    }
   },
   "outputs": [],
   "source": [
    "run_randomForests_clf(X_train,X_test,y_train,y_test)"
   ]
  },
  {
   "cell_type": "code",
   "execution_count": null,
   "id": "considered-cookbook",
   "metadata": {
    "ExecuteTime": {
     "start_time": "2021-02-12T20:04:43.072Z"
    }
   },
   "outputs": [],
   "source": [
    "run_randomForests_clf(X_train[selected_feat],X_test[selected_feat],y_train,y_test)"
   ]
  },
  {
   "cell_type": "markdown",
   "id": "three-simulation",
   "metadata": {
    "ExecuteTime": {
     "end_time": "2021-02-12T19:33:36.184801Z",
     "start_time": "2021-02-12T19:33:36.181101Z"
    }
   },
   "source": [
    "Same score with less features!"
   ]
  },
  {
   "cell_type": "markdown",
   "id": "common-glenn",
   "metadata": {},
   "source": [
    "## Regression"
   ]
  },
  {
   "cell_type": "code",
   "execution_count": null,
   "id": "improving-declaration",
   "metadata": {
    "ExecuteTime": {
     "start_time": "2021-02-12T20:04:43.074Z"
    }
   },
   "outputs": [],
   "source": [
    "sfs = SFS(RandomForestRegressor(n_jobs=-1, n_estimators=10),\n",
    "                  k_features=10,\n",
    "                  forward=False, #Backward Feature Selection\n",
    "                  floating=False,\n",
    "                  verbose=2, #To display the steps\n",
    "                  scoring=\"r2\",\n",
    "                  cv=5,\n",
    "                  n_jobs=-1,\n",
    "                  pre_dispatch='2*n_jobs',\n",
    "                  clone_estimator=True,\n",
    "                  fixed_features=None,\n",
    "                  )"
   ]
  },
  {
   "cell_type": "code",
   "execution_count": null,
   "id": "prescribed-portuguese",
   "metadata": {
    "ExecuteTime": {
     "start_time": "2021-02-12T20:04:43.075Z"
    }
   },
   "outputs": [],
   "source": [
    "sfs.fit(X_train_housing,y_train_housing)"
   ]
  },
  {
   "cell_type": "code",
   "execution_count": null,
   "id": "duplicate-allowance",
   "metadata": {
    "ExecuteTime": {
     "start_time": "2021-02-12T20:04:43.076Z"
    }
   },
   "outputs": [],
   "source": [
    "selected_feat = X_train_housing.columns[list(sfs.k_feature_idx_)]\n",
    "selected_feat"
   ]
  },
  {
   "cell_type": "code",
   "execution_count": null,
   "id": "mineral-index",
   "metadata": {
    "ExecuteTime": {
     "start_time": "2021-02-12T20:04:43.077Z"
    }
   },
   "outputs": [],
   "source": [
    "run_randomForests_rgr(X_train_housing, X_test_housing.fillna(0),\n",
    "                  y_train_housing, y_test_housing)"
   ]
  },
  {
   "cell_type": "code",
   "execution_count": null,
   "id": "beautiful-typing",
   "metadata": {
    "ExecuteTime": {
     "start_time": "2021-02-12T20:04:43.078Z"
    }
   },
   "outputs": [],
   "source": [
    "run_randomForests_rgr(X_train_housing[selected_feat], X_test_housing[selected_feat].fillna(\n",
    "    0), y_train_housing, y_test_housing)"
   ]
  },
  {
   "cell_type": "code",
   "execution_count": null,
   "id": "funny-reasoning",
   "metadata": {
    "ExecuteTime": {
     "start_time": "2021-02-12T20:04:43.080Z"
    }
   },
   "outputs": [],
   "source": [
    "print(\n",
    "    f\"Original number of features: {X_train_housing.shape}, after backward selection: {X_train_housing[selected_feat].shape}\")"
   ]
  },
  {
   "cell_type": "markdown",
   "id": "informational-insulin",
   "metadata": {
    "ExecuteTime": {
     "end_time": "2021-02-12T19:38:31.491894Z",
     "start_time": "2021-02-12T19:38:31.490031Z"
    }
   },
   "source": [
    "Slighty worst model with 15 features less!"
   ]
  },
  {
   "cell_type": "markdown",
   "id": "underlying-plasma",
   "metadata": {},
   "source": [
    "# Exhaustive Feature Selection"
   ]
  },
  {
   "cell_type": "markdown",
   "id": "polar-minute",
   "metadata": {},
   "source": [
    "## Classification"
   ]
  },
  {
   "cell_type": "code",
   "execution_count": null,
   "id": "toxic-daisy",
   "metadata": {
    "ExecuteTime": {
     "start_time": "2021-02-12T20:04:43.081Z"
    }
   },
   "outputs": [],
   "source": [
    "# Will build all the possible combinaison of 1 features, 2 features,\n",
    "# up until n features and will select the best performing subset.\n",
    "# Very computing demanding.\n",
    "\n",
    "# Stop criteria with mlextend of this algorithm is the min and max number of features.\n",
    "\n",
    "efs = EFS(RandomForestClassifier(n_jobs=-1, n_estimators=10),\n",
    "          min_features=70, #Min number of feature for the subset\n",
    "          max_features=72, #Max number of feature for the subset\n",
    "          print_progress=True,\n",
    "          scoring='roc_auc',\n",
    "          cv=5,\n",
    "          n_jobs=-1,\n",
    "          pre_dispatch='2*n_jobs',\n",
    "          clone_estimator=True,\n",
    "          )"
   ]
  },
  {
   "cell_type": "code",
   "execution_count": null,
   "id": "hindu-republic",
   "metadata": {
    "ExecuteTime": {
     "start_time": "2021-02-12T20:04:43.082Z"
    }
   },
   "outputs": [],
   "source": [
    "efs.fit(X_train,y_train)"
   ]
  },
  {
   "cell_type": "code",
   "execution_count": null,
   "id": "alpine-tanzania",
   "metadata": {
    "ExecuteTime": {
     "start_time": "2021-02-12T20:04:43.084Z"
    }
   },
   "outputs": [],
   "source": [
    "selected_feat = X_train.columns[list(efs.best_idx_)]"
   ]
  },
  {
   "cell_type": "code",
   "execution_count": null,
   "id": "statewide-gibson",
   "metadata": {
    "ExecuteTime": {
     "start_time": "2021-02-12T20:04:43.085Z"
    }
   },
   "outputs": [],
   "source": [
    "run_randomForests_clf(X_train,X_test,y_train,y_test)"
   ]
  },
  {
   "cell_type": "code",
   "execution_count": null,
   "id": "united-parts",
   "metadata": {
    "ExecuteTime": {
     "start_time": "2021-02-12T20:04:43.086Z"
    }
   },
   "outputs": [],
   "source": [
    "run_randomForests_clf(X_train[selected_feat],X_test[selected_feat],y_train,y_test)"
   ]
  },
  {
   "cell_type": "markdown",
   "id": "noted-material",
   "metadata": {},
   "source": [
    "## Regression"
   ]
  },
  {
   "cell_type": "code",
   "execution_count": null,
   "id": "designing-alexander",
   "metadata": {
    "ExecuteTime": {
     "start_time": "2021-02-12T20:04:43.087Z"
    }
   },
   "outputs": [],
   "source": [
    "# Will build all the possible combinaison of 1 features, 2 features,\n",
    "# up until n features and will select the best performing subset.\n",
    "# Very computing demanding.\n",
    "\n",
    "# Stop criteria with mlextend of this algorithm is the min and max number of features.\n",
    "\n",
    "efs = EFS(RandomForestRegressor(n_jobs=-1, n_estimators=10),\n",
    "          min_features=70, #Min number of feature for the subset\n",
    "          max_features=72, #Max number of feature for the subset\n",
    "          print_progress=True,\n",
    "          scoring='r2',\n",
    "          cv=5,\n",
    "          n_jobs=1,\n",
    "          pre_dispatch='2*n_jobs',\n",
    "          clone_estimator=True,\n",
    "          )"
   ]
  },
  {
   "cell_type": "code",
   "execution_count": null,
   "id": "detected-skirt",
   "metadata": {
    "ExecuteTime": {
     "start_time": "2021-02-12T20:04:43.089Z"
    }
   },
   "outputs": [],
   "source": [
    "efs.fit(X_train_housing,y_train_housing)"
   ]
  },
  {
   "cell_type": "code",
   "execution_count": null,
   "id": "complete-winning",
   "metadata": {
    "ExecuteTime": {
     "start_time": "2021-02-12T20:04:43.090Z"
    }
   },
   "outputs": [],
   "source": [
    "selected_feat = X_train.columns[list(efs.best_idx_)]"
   ]
  },
  {
   "cell_type": "code",
   "execution_count": null,
   "id": "elect-wayne",
   "metadata": {
    "ExecuteTime": {
     "start_time": "2021-02-12T20:04:43.091Z"
    }
   },
   "outputs": [],
   "source": [
    "run_randomForests_rgr(X_train_housing, X_test_housing.fillna(0),\n",
    "                  y_train_housing, y_test_housing)"
   ]
  },
  {
   "cell_type": "code",
   "execution_count": null,
   "id": "returning-contribution",
   "metadata": {
    "ExecuteTime": {
     "start_time": "2021-02-12T20:04:43.092Z"
    }
   },
   "outputs": [],
   "source": [
    "run_randomForests_rgr(X_train_housing[selected_feat], X_test_housing[selected_feat].fillna(\n",
    "    0), y_train_housing, y_test_housing)"
   ]
  }
 ],
 "metadata": {
  "hide_input": false,
  "kernelspec": {
   "display_name": "Python 3",
   "language": "python",
   "name": "python3"
  },
  "language_info": {
   "codemirror_mode": {
    "name": "ipython",
    "version": 3
   },
   "file_extension": ".py",
   "mimetype": "text/x-python",
   "name": "python",
   "nbconvert_exporter": "python",
   "pygments_lexer": "ipython3",
   "version": "3.8.5"
  },
  "toc": {
   "base_numbering": 1,
   "nav_menu": {},
   "number_sections": true,
   "sideBar": true,
   "skip_h1_title": false,
   "title_cell": "Table of Contents",
   "title_sidebar": "Contents",
   "toc_cell": false,
   "toc_position": {
    "height": "calc(100% - 180px)",
    "left": "10px",
    "top": "150px",
    "width": "358.390625px"
   },
   "toc_section_display": true,
   "toc_window_display": true
  },
  "varInspector": {
   "cols": {
    "lenName": 16,
    "lenType": 16,
    "lenVar": 40
   },
   "kernels_config": {
    "python": {
     "delete_cmd_postfix": "",
     "delete_cmd_prefix": "del ",
     "library": "var_list.py",
     "varRefreshCmd": "print(var_dic_list())"
    },
    "r": {
     "delete_cmd_postfix": ") ",
     "delete_cmd_prefix": "rm(",
     "library": "var_list.r",
     "varRefreshCmd": "cat(var_dic_list()) "
    }
   },
   "types_to_exclude": [
    "module",
    "function",
    "builtin_function_or_method",
    "instance",
    "_Feature"
   ],
   "window_display": false
  }
 },
 "nbformat": 4,
 "nbformat_minor": 5
}
